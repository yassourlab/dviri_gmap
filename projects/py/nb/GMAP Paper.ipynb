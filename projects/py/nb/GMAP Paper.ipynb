{
 "cells": [
  {
   "cell_type": "code",
   "execution_count": 1,
   "id": "e2e7bbf1",
   "metadata": {
    "ExecuteTime": {
     "end_time": "2021-08-16T17:09:15.233517Z",
     "start_time": "2021-08-16T17:09:15.204991Z"
    }
   },
   "outputs": [],
   "source": [
    "%load_ext autoreload\n",
    "%autoreload 2"
   ]
  },
  {
   "cell_type": "code",
   "execution_count": 2,
   "id": "dfc09fbb",
   "metadata": {
    "ExecuteTime": {
     "end_time": "2021-08-16T17:09:21.220575Z",
     "start_time": "2021-08-16T17:09:18.862782Z"
    },
    "code_folding": [
     30
    ]
   },
   "outputs": [],
   "source": [
    "import pandas as pd\n",
    "import plotly.express as px\n",
    "\n",
    "import pandas as pd\n",
    "import plotly.express as px\n",
    "from sklearn.ensemble import RandomForestRegressor\n",
    "from sklearn.datasets import make_regression\n",
    "from sklearn.model_selection import train_test_split\n",
    "import matplotlib.pyplot as plt\n",
    "import numpy as np\n",
    "from tqdm import tqdm\n",
    "import plotly.graph_objects as go\n",
    "from sklearn.model_selection import RandomizedSearchCV\n",
    "from sklearn import linear_model\n",
    "from sklearn.cluster import KMeans\n",
    "from sklearn.ensemble import RandomForestClassifier\n",
    "from sklearn.metrics import accuracy_score\n",
    "from plotly.subplots import make_subplots\n",
    "from sklearn.metrics import confusion_matrix,plot_confusion_matrix\n",
    "import plotly.figure_factory as ff\n",
    "from plotly.subplots import make_subplots\n",
    "import seaborn as sns\n",
    "from matplotlib.colors import LinearSegmentedColormap\n",
    "from collections import defaultdict\n",
    "from plotly.offline import download_plotlyjs, plot,iplot\n",
    "from scipy import interpolate\n",
    "pd.set_option('display.max_columns', None)\n",
    "pd.set_option('display.width', 320)\n",
    "\n",
    "SAMPLE_TIME_SORTED = ['initial','twoweek','onemonth','twomonth','fourmonth','sixmonth','ninemonth','oneyear','sick']\n",
    "def get_heatmap_cmap():\n",
    "    \"\"\" This color map is the seismic_r cmap only blue was replace with green using matplotlib.cm.get_cmap('seismic_r',lut=100)._segmentdata\n",
    "\n",
    "    :return:\n",
    "    \"\"\"\n",
    "    seismic_segmentdata = {\n",
    "        'red': ((0.0, 0.5, 0.5),\n",
    "                (0.25, 1.0, 1.0),\n",
    "                (0.5, 1.0, 1.0),\n",
    "                (0.75, 0.0, 0.0),\n",
    "                (1.0, 0.0, 0.0)),\n",
    "\n",
    "        'green': ((0.0, 0.0, 0.0),\n",
    "                  (0.25, 0.0, 0.0),\n",
    "                  (0.5, 1.0, 1.0),\n",
    "                  (0.75, 1.0, 1.0),\n",
    "                  (1.0, 0.3, 0.3)),\n",
    "\n",
    "        'blue': ((0.0, 0.0, 0.0),\n",
    "                 (0.25, 0.0, 0.0),\n",
    "                 (0.5, 1.0, 1.0),\n",
    "                 (0.75, 0.0, 0.0),\n",
    "                 (1.0, 0.0, 0.0))\n",
    "    }\n",
    "    sismic_green = LinearSegmentedColormap('seismic_green', seismic_segmentdata)\n",
    "    return sismic_green\n",
    "import sys\n",
    "sys.path.append(\"../../\")\n",
    "from gmat_forest import *"
   ]
  },
  {
   "cell_type": "code",
   "execution_count": 3,
   "id": "66c1955a",
   "metadata": {
    "ExecuteTime": {
     "end_time": "2021-08-16T17:09:30.665978Z",
     "start_time": "2021-08-16T17:09:30.623409Z"
    }
   },
   "outputs": [],
   "source": [
    "norm_l6_project = \"/mnt/g/My Drive/University/Masters/MoranLab/Dvir/GMAP/projects/py/nb/data/FeatureTableNew.tsv\"\n",
    "META_PATH = \"/mnt/g/My Drive/University/Masters/MoranLab/Dvir/GMAP/projects/py/nb/data/metadataNew.tsv\"\n"
   ]
  },
  {
   "cell_type": "code",
   "execution_count": 4,
   "id": "986158c2",
   "metadata": {
    "ExecuteTime": {
     "end_time": "2021-08-16T17:09:32.789819Z",
     "start_time": "2021-08-16T17:09:32.325803Z"
    }
   },
   "outputs": [],
   "source": [
    "runner = GmapRunner(norm_l6_project, split_control=False, train_ratio=0.8)\n",
    "runner.init_data('symptoms')\n",
    "runner._init_filter_data(\"data/data_seperat\")"
   ]
  },
  {
   "cell_type": "code",
   "execution_count": 5,
   "id": "462a1acd",
   "metadata": {
    "ExecuteTime": {
     "end_time": "2021-08-16T17:09:37.465915Z",
     "start_time": "2021-08-16T17:09:34.696818Z"
    }
   },
   "outputs": [
    {
     "name": "stderr",
     "output_type": "stream",
     "text": [
      "2021-08-16 20:09:34.732 | INFO     | gmat_forest:predict:114 - Fitting model to (700, 78) examples\n",
      "2021-08-16 20:09:37.461 | INFO     | gmat_forest:calc_loss:136 - train acc, loss: 0.9828571428571429\t \n",
      "2021-08-16 20:09:37.462 | INFO     | gmat_forest:calc_loss:136 - test acc, loss: 0.3543307086614173\t \n"
     ]
    }
   ],
   "source": [
    "clf_runner = ClassificationRunner(runner)\n",
    "clf_runner.predict()\n",
    "clf_runner.calc_loss()"
   ]
  },
  {
   "cell_type": "code",
   "execution_count": 11,
   "id": "e61a2aa6",
   "metadata": {
    "ExecuteTime": {
     "end_time": "2021-08-16T17:12:24.493129Z",
     "start_time": "2021-08-16T17:12:24.360030Z"
    }
   },
   "outputs": [
    {
     "data": {
      "text/plain": [
       "array([0.084, 0.046, 0.042, 0.042, 0.036, 0.033, 0.033, 0.032, 0.031,\n",
       "       0.029, 0.026, 0.026, 0.024, 0.024, 0.023, 0.022, 0.022, 0.021,\n",
       "       0.02 , 0.02 , 0.02 , 0.019, 0.018, 0.018, 0.018, 0.018, 0.017,\n",
       "       0.017, 0.016, 0.014, 0.013, 0.012, 0.011, 0.011, 0.011, 0.009,\n",
       "       0.009, 0.008, 0.008, 0.008, 0.006, 0.006, 0.006, 0.006, 0.006,\n",
       "       0.005, 0.005, 0.004, 0.004, 0.004, 0.004, 0.003, 0.003, 0.003,\n",
       "       0.003, 0.003, 0.002, 0.002, 0.002, 0.002, 0.002, 0.002, 0.001,\n",
       "       0.001, 0.001, 0.001, 0.001, 0.001, 0.   , 0.   , 0.   , 0.   ,\n",
       "       0.   , 0.   , 0.   , 0.   , 0.   , 0.   ])"
      ]
     },
     "execution_count": 11,
     "metadata": {},
     "output_type": "execute_result"
    }
   ],
   "source": [
    "clf_runner.get_top_features(5)\n",
    "clf_runner.top_features.sorted_features.round(3)"
   ]
  },
  {
   "cell_type": "code",
   "execution_count": null,
   "id": "39cb76d9",
   "metadata": {},
   "outputs": [],
   "source": []
  },
  {
   "cell_type": "code",
   "execution_count": 38,
   "id": "d2bcdbd7",
   "metadata": {
    "ExecuteTime": {
     "end_time": "2021-08-16T16:01:43.480246Z",
     "start_time": "2021-08-16T16:01:43.101881Z"
    }
   },
   "outputs": [],
   "source": [
    "runner.filter_data_paper(DataSep.first_Resolved)"
   ]
  },
  {
   "cell_type": "code",
   "execution_count": 39,
   "id": "e31a7e89",
   "metadata": {
    "ExecuteTime": {
     "end_time": "2021-08-16T16:01:54.775568Z",
     "start_time": "2021-08-16T16:01:53.531649Z"
    }
   },
   "outputs": [
    {
     "name": "stderr",
     "output_type": "stream",
     "text": [
      "2021-08-16 19:01:53.573 | INFO     | gmat_forest:predict:625 - Fitting model to (118, 78) examples\n",
      "2021-08-16 19:01:54.771 | INFO     | gmat_forest:calc_loss:647 - train acc, loss: 0.9067796610169492\t \n",
      "2021-08-16 19:01:54.772 | INFO     | gmat_forest:calc_loss:647 - test acc, loss: 0.3793103448275862\t \n"
     ]
    }
   ],
   "source": [
    "clf_runner.predict()\n",
    "clf_runner.calc_loss()"
   ]
  }
 ],
 "metadata": {
  "kernelspec": {
   "display_name": "Python 3",
   "language": "python",
   "name": "python3"
  },
  "language_info": {
   "codemirror_mode": {
    "name": "ipython",
    "version": 3
   },
   "file_extension": ".py",
   "mimetype": "text/x-python",
   "name": "python",
   "nbconvert_exporter": "python",
   "pygments_lexer": "ipython3",
   "version": "3.7.10"
  },
  "toc": {
   "base_numbering": 1,
   "nav_menu": {},
   "number_sections": true,
   "sideBar": true,
   "skip_h1_title": false,
   "title_cell": "Table of Contents",
   "title_sidebar": "Contents",
   "toc_cell": false,
   "toc_position": {},
   "toc_section_display": true,
   "toc_window_display": false
  },
  "varInspector": {
   "cols": {
    "lenName": 16,
    "lenType": 16,
    "lenVar": 40
   },
   "kernels_config": {
    "python": {
     "delete_cmd_postfix": "",
     "delete_cmd_prefix": "del ",
     "library": "var_list.py",
     "varRefreshCmd": "print(var_dic_list())"
    },
    "r": {
     "delete_cmd_postfix": ") ",
     "delete_cmd_prefix": "rm(",
     "library": "var_list.r",
     "varRefreshCmd": "cat(var_dic_list()) "
    }
   },
   "types_to_exclude": [
    "module",
    "function",
    "builtin_function_or_method",
    "instance",
    "_Feature"
   ],
   "window_display": false
  }
 },
 "nbformat": 4,
 "nbformat_minor": 5
}
