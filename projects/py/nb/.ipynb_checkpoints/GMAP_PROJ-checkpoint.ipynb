{
 "cells": [
  {
   "cell_type": "code",
   "execution_count": 247,
   "metadata": {
    "ExecuteTime": {
     "end_time": "2021-01-25T19:53:06.500773Z",
     "start_time": "2021-01-25T19:53:06.494476Z"
    },
    "code_folding": [],
    "init_cell": true
   },
   "outputs": [],
   "source": [
    "import pandas as pd\n",
    "import plotly.express as px\n",
    "from sklearn.ensemble import RandomForestRegressor\n",
    "from sklearn.datasets import make_regression\n",
    "from sklearn.model_selection import train_test_split\n",
    "import matplotlib.pyplot as plt\n",
    "import numpy as np\n",
    "from tqdm import tqdm\n",
    "import plotly.graph_objects as go\n",
    "from sklearn.model_selection import RandomizedSearchCV\n",
    "from sklearn import linear_model\n",
    "from sklearn.cluster import KMeans\n",
    "from sklearn.ensemble import RandomForestClassifier\n",
    "from sklearn.metrics import accuracy_score\n",
    "from plotly.subplots import make_subplots\n",
    "from sklearn.metrics import confusion_matrix,plot_confusion_matrix\n",
    "import plotly.figure_factory as ff\n",
    "import seaborn as sns\n",
    "from matplotlib.colors import LinearSegmentedColormap\n",
    "\n",
    "def get_heatmap_cmap():\n",
    "    \"\"\" This color map is the seismic_r cmap only blue was replace with green using matplotlib.cm.get_cmap('seismic_r',lut=100)._segmentdata\n",
    "\n",
    "    :return:\n",
    "    \"\"\"\n",
    "    seismic_segmentdata = {\n",
    "        'red': ((0.0, 0.5, 0.5),\n",
    "                (0.25, 1.0, 1.0),\n",
    "                (0.5, 1.0, 1.0),\n",
    "                (0.75, 0.0, 0.0),\n",
    "                (1.0, 0.0, 0.0)),\n",
    "\n",
    "        'green': ((0.0, 0.0, 0.0),\n",
    "                  (0.25, 0.0, 0.0),\n",
    "                  (0.5, 1.0, 1.0),\n",
    "                  (0.75, 1.0, 1.0),\n",
    "                  (1.0, 0.3, 0.3)),\n",
    "\n",
    "        'blue': ((0.0, 0.0, 0.0),\n",
    "                 (0.25, 0.0, 0.0),\n",
    "                 (0.5, 1.0, 1.0),\n",
    "                 (0.75, 0.0, 0.0),\n",
    "                 (1.0, 0.0, 0.0))\n",
    "    }\n",
    "    sismic_green = LinearSegmentedColormap('seismic_green', seismic_segmentdata)\n",
    "    return sismic_green"
   ]
  },
  {
   "cell_type": "code",
   "execution_count": 41,
   "metadata": {
    "ExecuteTime": {
     "end_time": "2021-01-25T12:53:15.924758Z",
     "start_time": "2021-01-25T12:53:15.897687Z"
    },
    "code_folding": [
     1,
     42,
     57,
     69,
     95,
     115,
     125,
     136,
     176
    ]
   },
   "outputs": [],
   "source": [
    "\n",
    "def build_trainig_data(merge_df,meta_idx,test_size=0.25,split_by_control=False):\n",
    "    if split_by_control:\n",
    "        # Don't know where na symtpoms should go. Drop them\n",
    "        na_symptoms = merge_df[pd.isna(merge_df.symptoms)]\n",
    "        merge_df = merge_df.drop(na_symptoms.index)\n",
    "        control_data = merge_df[merge_df.symptoms == \"Control\"]\n",
    "        ap_data = merge_df.drop(control_data.index)  # Everyone that is not control group\n",
    "\n",
    "        X_train = ap_data.iloc[:, :meta_idx].values\n",
    "        X_test = control_data.iloc[:, :meta_idx].values\n",
    "\n",
    "        meta_train = ap_data.iloc[:, meta_idx:]\n",
    "        y_train = meta_train.loc[:, 'visit_age_mo'].values\n",
    "\n",
    "        meta_test = control_data.iloc[:, meta_idx:]\n",
    "        y_test = meta_test.loc[:, 'visit_age_mo'].values\n",
    "\n",
    "        control_data = control_data.groupby(['record_id']).apply(lambda x: split_is_train(x, 1 - test_size))\n",
    "        X_control_train = control_data.loc[control_data.is_train].iloc[:, :meta_idx]\n",
    "        y_control_train = control_data.loc[control_data.is_train].iloc[:, meta_idx:].loc[:,'visit_age_mo'].values\n",
    "\n",
    "        X_control_test = control_data.drop(X_control_train.index).iloc[:,:meta_idx]\n",
    "        y_control_test = control_data.drop(X_control_train.index).iloc[:, meta_idx:].loc[:,'visit_age_mo'].values\n",
    "        \n",
    "        return {\"X_train\": X_train, \"X_test\": X_test, \"y_train\": y_train, 'y_test':y_test,\n",
    "                \"X_control_train\": X_control_train,\n",
    "                \"y_control_train\": y_control_train,\n",
    "                \"X_control_test\": X_control_test,\n",
    "                \"y_control_test\": y_control_test,\n",
    "                \"control_data\" : control_data,\n",
    "                'ap_data'      : ap_data\n",
    "                }\n",
    "    else:\n",
    "        ap_data = merge_df\n",
    "        X = merge_df.iloc[:, :meta_idx].values\n",
    "        meta = merge_df.iloc[:, meta_idx:]\n",
    "        y = meta.loc[:, 'visit_age_mo'].values\n",
    "        X_train, X_test, y_train, y_test = train_test_split(X, y, test_size=test_size, random_state=666)\n",
    "\n",
    "        return {\"X_train\": X_train, \"X_test\": X_test, \"y_train\": y_train, 'y_test':y_test}\n",
    "    \n",
    "def quantaize_age_mo(metadata:pd.DataFrame, r_factor:int = 5, print_hist=False,inplace=False) -> pd.DataFrame:\n",
    "    \"\"\" Given a rounding factor, will round the decimal point of the age in month to the decimal rounoding of that number. \n",
    "    for example for r_factor 5 (default) and numbers 0.1,0.2,0.3,0.4,0.5,0.8 will return the list of 0.0,0.5,0.5,0.5,0.5,1.0,\n",
    "    if print_hist is True, will print histogram of new df visit_age_mo\n",
    "    \"\"\" \n",
    "    \n",
    "    meta_copy = metadata.copy() if not inplace else metadata\n",
    "    meta_copy.visit_age_mo = ((meta_copy.visit_age_mo/r_factor).round(1)*r_factor).round(1)\n",
    "    if print_hist:\n",
    "        unique_visit_mo = meta_copy.groupby('visit_age_mo')['sampleID'].nunique()\n",
    "        print(unique_visit_mo)\n",
    "        unique_visit_mo.hist()\n",
    "    \n",
    "    return meta_copy\n",
    "\n",
    "def evaluate(model, features, labels,err_margin=0.3,verbose=True):\n",
    "    predictions = model.predict(features)\n",
    "    loss = abs(predictions - labels)\n",
    "    succ = np.count_nonzero(loss < err_margin) / len(loss)\n",
    "    \n",
    "    if verbose:\n",
    "        print('Model Performance')\n",
    "        print('Average Error: {:0.4f} .'.format(np.mean(loss)))\n",
    "        print('Accuracy = {:0.2f}%.'.format(succ))\n",
    "    \n",
    "    return succ\n",
    "\n",
    "def get_random_search_parameters():\n",
    "    \n",
    "    # Number of trees in random forest\n",
    "    n_estimators = [int(x) for x in np.linspace(start = 200, stop = 2000, num = 10)]\n",
    "    # Number of features to consider at every split\n",
    "    max_features = ['auto', 'sqrt']\n",
    "    # Maximum number of levels in tree\n",
    "    max_depth = np.linspace(10, 100, num = 5,dtype=int).tolist() + [None]\n",
    "    # Minimum number of samples required to split a node\n",
    "    min_samples_split = [5, 10, 20, 40]\n",
    "    # Minimum number of samples required at each leaf node\n",
    "    min_samples_leaf = [2, 4, 6,10]\n",
    "    # Method of selecting samples for training each tree\n",
    "    bootstrap = [True, False]\n",
    "    \n",
    "    \n",
    "    # Create the random grid\n",
    "    random_grid = {'n_estimators': n_estimators,\n",
    "                   'max_features': max_features,\n",
    "                   'max_depth': max_depth,\n",
    "                   'min_samples_split': min_samples_split,\n",
    "                   'min_samples_leaf': min_samples_leaf,\n",
    "                   'bootstrap': bootstrap,\n",
    "                   'random_state': [666]}\n",
    "    return random_grid\n",
    "\n",
    "def get_linear_regressor(merged_training_df,test_map,pred_name,return_data=False):\n",
    "    #     test_map = merged_training_df.tt == 'test'\n",
    "    training_data = merged_training_df.iloc[:,:meta_idx].loc[test_map]\n",
    "    assert len(training_data) > 0, \"test map didn't return any data point\"\n",
    "    predict = merged_training_df[pred_name]\n",
    "#     predict = best_model.predict(merged_training_df.iloc[:,:meta_idx].loc[test_map].values)\n",
    "    label = merged_training_df[test_map].visit_age_mo.values\n",
    "    # X = np.stack([label,predict]).T\n",
    "    X = label.reshape(-1,1)\n",
    "    # sort_idxs= np.argsort(label)\n",
    "    y = predict[test_map]\n",
    "    # Create linear regression object\n",
    "    \n",
    "    regr = linear_model.LinearRegression()\n",
    "    regr.fit(X,y)\n",
    "    if return_data:\n",
    "        return regr,X\n",
    "    \n",
    "    return regr\n",
    "    \n",
    "def draw_regresssion(merged_training_df,test_map,fig,name='regression',pred_name = 'predict'):\n",
    "    \n",
    "    regr,X = get_linear_regressor(merged_training_df,test_map,pred_name,return_data=True)\n",
    "    reg_predict = regr.predict(X)\n",
    "    fig.add_trace((go.Scatter(x=X[:,0], y=reg_predict,\n",
    "                        mode='lines',\n",
    "                        name=name,\n",
    "                        line=dict(width=3))))\n",
    "    return fig\n",
    "\n",
    "def draw_xy_line(fig,max_x=14,line_width=3):\n",
    "    \"\"\"\n",
    "    Draw x=y line on figure frin x=0 to x=max_x\n",
    "    \"\"\"\n",
    "    x = list(np.arange(0,max_x))\n",
    "    fig.add_trace((go.Scatter(x=x, y=x,\n",
    "                    mode='lines',\n",
    "                    name='label',\n",
    "                    line=dict(width=line_width))))\n",
    "    return fig\n",
    "\n",
    "def calc_regressor_control(merge_df,params,n_samples=20,err_margin=1.0,\n",
    "                           print_accuracy = True,split_control=True,train_ratio=0.8):\n",
    "    if split_control:\n",
    "        loss_lst = [list(),list(),list()]\n",
    "        acc_lst = [list(),list(),list()]\n",
    "    else:\n",
    "        loss_lst = [list(),list()]\n",
    "        acc_lst = [list(),list()]\n",
    "        \n",
    "    best_features = list()\n",
    "    for i in tqdm(range(n_samples)):\n",
    "        data = get_tt_data(merge_df,split_control=split_control,train_ratio=train_ratio)\n",
    "    #     control_train_df,control_test_df,test_df = get_tt_data()\n",
    "        X_train = data[0].iloc[:,:meta_idx].values\n",
    "        y_train = data[0].visit_age_mo\n",
    "        best_model=  RandomForestRegressor(**params)\n",
    "        best_model.fit(X_train,y_train)\n",
    "            \n",
    "        for i in range(len(acc_lst)):    \n",
    "            X = data[i].iloc[:,:meta_idx].values\n",
    "            y = data[i].visit_age_mo\n",
    "            predict = best_model.predict(X)\n",
    "\n",
    "            label = y\n",
    "            loss_arr = abs(predict-label)\n",
    "            succ = np.count_nonzero(loss_arr < err_margin) / len(loss_arr)\n",
    "            loss =  np.mean(loss_arr)\n",
    "\n",
    "            loss_lst[i].append(loss)\n",
    "            acc_lst[i].append(succ)\n",
    "        \n",
    "        importances = best_model.feature_importances_\n",
    "        regress_indices = np.argsort(importances)[::-1]\n",
    "        best_features.append(regress_indices)\n",
    "        \n",
    "    if print_accuracy:\n",
    "        regr_print_avg_acc(loss_lst,acc_lst,split_control)\n",
    "            \n",
    "    return loss_lst,acc_lst,best_features\n",
    "\n",
    "def regr_print_avg_acc(loss_lst,acc_lst,split_control ):\n",
    "    df_enum = [\"control_train_df\",\"control_test_df\",\"test_df\"]\n",
    "    for i in range(3):\n",
    "        print(df_enum[i])\n",
    "        print(f\"AVG loss = {(np.sum(loss_lst[i])/len(acc_lst[i])).round(2)}\")\n",
    "        print(f\"AVG acc = {(np.sum(acc_lst[i])/len(acc_lst[i])).round(2)}\")\n",
    "        print(f\"MIN acc = {np.min(acc_lst[i]).round(2)}\")\n",
    "        print(f\"MAX acc = {np.max(acc_lst[i]).round(2)}\")\n",
    "        print()"
   ]
  },
  {
   "cell_type": "markdown",
   "metadata": {},
   "source": [
    "# Data Preparation"
   ]
  },
  {
   "cell_type": "markdown",
   "metadata": {},
   "source": [
    "We will first load the data from the csv, and merge it with the metadata to have a data frame with first `meta_idx` columns are the features columns, rest of the columns are the metadata."
   ]
  },
  {
   "cell_type": "code",
   "execution_count": null,
   "metadata": {},
   "outputs": [],
   "source": [
    "norm_l7_path = \"./data/feature-table-norm-l7.csv\"\n",
    "l7_path = \"./data/feature-table-l7.csv\"\n",
    "\n",
    "def get_gmap_data(data_path:str):\n",
    "    \"\"\"\n",
    "    return merge_df,meta_idx\n",
    "    \"\"\"\n",
    "    otu_data = pd.read_csv(data_path,sep='\\t',index_col=['OTU ID'])\n",
    "    examples_data = otu_data.T\n",
    "    metadata = pd.read_csv(\"./data/edited_metadata.csv\",sep='\\t')\n",
    "    merge_df = examples_data.merge(metadata,left_index=True,right_on=['sampleID'])\n",
    "    merge_df = merge_df.assign(is_control = (merge_df.symptoms == 'Control'))\n",
    "    meta_idx = examples_data.shape[1]\n",
    "    return merge_df,meta_idx\n",
    "    "
   ]
  },
  {
   "cell_type": "code",
   "execution_count": 39,
   "metadata": {
    "ExecuteTime": {
     "end_time": "2021-01-25T11:57:05.298486Z",
     "start_time": "2021-01-25T11:57:05.153292Z"
    }
   },
   "outputs": [
    {
     "data": {
      "text/html": [
       "<div>\n",
       "<style scoped>\n",
       "    .dataframe tbody tr th:only-of-type {\n",
       "        vertical-align: middle;\n",
       "    }\n",
       "\n",
       "    .dataframe tbody tr th {\n",
       "        vertical-align: top;\n",
       "    }\n",
       "\n",
       "    .dataframe thead th {\n",
       "        text-align: right;\n",
       "    }\n",
       "</style>\n",
       "<table border=\"1\" class=\"dataframe\">\n",
       "  <thead>\n",
       "    <tr style=\"text-align: right;\">\n",
       "      <th></th>\n",
       "      <th>Unassigned;__;__;__;__;__;__</th>\n",
       "      <th>k__Archaea;__;__;__;__;__;__</th>\n",
       "      <th>k__Archaea;p__Euryarchaeota;__;__;__;__;__</th>\n",
       "      <th>k__Archaea;p__Euryarchaeota;c__Methanobacteria;o__Methanobacteriales;f__Methanobacteriaceae;g__Methanobrevibacter;s__</th>\n",
       "      <th>k__Bacteria;__;__;__;__;__;__</th>\n",
       "      <th>k__Bacteria;p__;c__;o__;f__;g__;s__</th>\n",
       "      <th>k__Bacteria;p__AD3;c__;o__;f__;g__;s__</th>\n",
       "      <th>k__Bacteria;p__Acidobacteria;c__Acidobacteriia;o__Acidobacteriales;f__Acidobacteriaceae;g__Terriglobus;s__</th>\n",
       "      <th>k__Bacteria;p__Acidobacteria;c__Solibacteres;o__Solibacterales;f__;g__;s__</th>\n",
       "      <th>k__Bacteria;p__Actinobacteria;c__Acidimicrobiia;o__Acidimicrobiales;f__;g__;s__</th>\n",
       "      <th>...</th>\n",
       "      <th>antacid_h2_firstyr</th>\n",
       "      <th>antacid_firstyr</th>\n",
       "      <th>age_ap_resolution_day</th>\n",
       "      <th>age_diag_ap_day</th>\n",
       "      <th>age_sx_onset_day</th>\n",
       "      <th>case_id</th>\n",
       "      <th>ever_formula</th>\n",
       "      <th>gestational_age</th>\n",
       "      <th>antibiotics_during_delivery</th>\n",
       "      <th>is_control</th>\n",
       "    </tr>\n",
       "  </thead>\n",
       "  <tbody>\n",
       "    <tr>\n",
       "      <th>26</th>\n",
       "      <td>0.000059</td>\n",
       "      <td>0.0</td>\n",
       "      <td>0.0</td>\n",
       "      <td>0.0</td>\n",
       "      <td>0.000158</td>\n",
       "      <td>0.0</td>\n",
       "      <td>0.0</td>\n",
       "      <td>0.0</td>\n",
       "      <td>0.0</td>\n",
       "      <td>0.0</td>\n",
       "      <td>...</td>\n",
       "      <td>0</td>\n",
       "      <td>0.0</td>\n",
       "      <td>NaN</td>\n",
       "      <td>NaN</td>\n",
       "      <td>NaN</td>\n",
       "      <td>No AP</td>\n",
       "      <td>2.0</td>\n",
       "      <td>&gt;37WGA</td>\n",
       "      <td>Yes</td>\n",
       "      <td>True</td>\n",
       "    </tr>\n",
       "    <tr>\n",
       "      <th>47</th>\n",
       "      <td>0.000031</td>\n",
       "      <td>0.0</td>\n",
       "      <td>0.0</td>\n",
       "      <td>0.0</td>\n",
       "      <td>0.000817</td>\n",
       "      <td>0.0</td>\n",
       "      <td>0.0</td>\n",
       "      <td>0.0</td>\n",
       "      <td>0.0</td>\n",
       "      <td>0.0</td>\n",
       "      <td>...</td>\n",
       "      <td>0</td>\n",
       "      <td>0.0</td>\n",
       "      <td>NaN</td>\n",
       "      <td>NaN</td>\n",
       "      <td>NaN</td>\n",
       "      <td>No AP</td>\n",
       "      <td>2.0</td>\n",
       "      <td>&gt;37WGA</td>\n",
       "      <td>Yes</td>\n",
       "      <td>True</td>\n",
       "    </tr>\n",
       "  </tbody>\n",
       "</table>\n",
       "<p>2 rows × 514 columns</p>\n",
       "</div>"
      ],
      "text/plain": [
       "    Unassigned;__;__;__;__;__;__  k__Archaea;__;__;__;__;__;__  \\\n",
       "26                      0.000059                           0.0   \n",
       "47                      0.000031                           0.0   \n",
       "\n",
       "    k__Archaea;p__Euryarchaeota;__;__;__;__;__  \\\n",
       "26                                         0.0   \n",
       "47                                         0.0   \n",
       "\n",
       "    k__Archaea;p__Euryarchaeota;c__Methanobacteria;o__Methanobacteriales;f__Methanobacteriaceae;g__Methanobrevibacter;s__  \\\n",
       "26                                                0.0                                                                       \n",
       "47                                                0.0                                                                       \n",
       "\n",
       "    k__Bacteria;__;__;__;__;__;__  k__Bacteria;p__;c__;o__;f__;g__;s__  \\\n",
       "26                       0.000158                                  0.0   \n",
       "47                       0.000817                                  0.0   \n",
       "\n",
       "    k__Bacteria;p__AD3;c__;o__;f__;g__;s__  \\\n",
       "26                                     0.0   \n",
       "47                                     0.0   \n",
       "\n",
       "    k__Bacteria;p__Acidobacteria;c__Acidobacteriia;o__Acidobacteriales;f__Acidobacteriaceae;g__Terriglobus;s__  \\\n",
       "26                                                0.0                                                            \n",
       "47                                                0.0                                                            \n",
       "\n",
       "    k__Bacteria;p__Acidobacteria;c__Solibacteres;o__Solibacterales;f__;g__;s__  \\\n",
       "26                                                0.0                            \n",
       "47                                                0.0                            \n",
       "\n",
       "    k__Bacteria;p__Actinobacteria;c__Acidimicrobiia;o__Acidimicrobiales;f__;g__;s__  \\\n",
       "26                                                0.0                                 \n",
       "47                                                0.0                                 \n",
       "\n",
       "    ...  antacid_h2_firstyr  antacid_firstyr  age_ap_resolution_day  \\\n",
       "26  ...                   0              0.0                    NaN   \n",
       "47  ...                   0              0.0                    NaN   \n",
       "\n",
       "    age_diag_ap_day  age_sx_onset_day  case_id  ever_formula  gestational_age  \\\n",
       "26              NaN               NaN    No AP           2.0           >37WGA   \n",
       "47              NaN               NaN    No AP           2.0           >37WGA   \n",
       "\n",
       "    antibiotics_during_delivery  is_control  \n",
       "26                          Yes        True  \n",
       "47                          Yes        True  \n",
       "\n",
       "[2 rows x 514 columns]"
      ]
     },
     "execution_count": 39,
     "metadata": {},
     "output_type": "execute_result"
    }
   ],
   "source": [
    "merge_df,meta_idx = get_gmap_data(norm_l7_path)\n",
    "merge_df.head(2)"
   ]
  },
  {
   "cell_type": "markdown",
   "metadata": {
    "ExecuteTime": {
     "end_time": "2021-01-25T11:57:54.857283Z",
     "start_time": "2021-01-25T11:57:54.853975Z"
    }
   },
   "source": [
    "<b> splitting to train test </b>\n",
    "<br></br>\n",
    "In order to get a better understading on our data, we will first try to split the data to train/test on the **control sample data** only. The rest will be used for testing.\n",
    "\n",
    "In order to not contaminant the training data, we will split to train/test after **groupping by the record_id**"
   ]
  },
  {
   "cell_type": "code",
   "execution_count": null,
   "metadata": {
    "code_folding": [
     1,
     24
    ],
    "init_cell": true
   },
   "outputs": [],
   "source": [
    "\n",
    "def split_train_test(x,split_control=True,train_ratio=0.75):\n",
    "#     import ipdb;ipdb.set_trace()\n",
    "    rand_val = np.random.rand()\n",
    "    is_train = rand_val < train_ratio\n",
    "    if not split_control:\n",
    "        tt = 'train' if is_train else 'test'\n",
    "        \n",
    "    else:\n",
    "        if not any(x.is_control):\n",
    "            tt='test'\n",
    "        else:\n",
    "            tt = 'control_train' if is_train else 'control_test'\n",
    "        \n",
    "    x = x.assign(tt=tt)\n",
    "    return x\n",
    "\n",
    "def get_merged_tt_df(merge_df,split_control=True,train_ratio=0.85):\n",
    "    \"\"\"\n",
    "    Add tt division for the given dataframe with ratio. group by record_id to make sure same baby won't be both in train and test.\n",
    "    \"\"\"\n",
    "    return merge_df.groupby(['is_control','record_id'])\n",
    "            .apply(lambda x: split_train_test(x,split_control,train_ratio)).reset_index(drop=True)\n",
    "\n",
    "def get_tt_data(merge_df,split_control=True,train_ratio=0.85):\n",
    "    \"\"\"\n",
    "    Return a tuple of control_train_df,control_test_df,test_df\n",
    "    \"\"\"\n",
    "    merged_training_df = get_merged_tt_df(merge_df,split_control,train_ratio)\n",
    "    test_df = merged_training_df[merged_training_df.tt == 'test']\n",
    "    if split_control:\n",
    "        control_train_df = merged_training_df[merged_training_df.tt == 'control_train']\n",
    "        control_test_df = merged_training_df[merged_training_df.tt == 'control_test']\n",
    "        return control_train_df,control_test_df,test_df\n",
    "    else:\n",
    "        train_df = merged_training_df[merged_training_df.tt == 'train']\n",
    "        return train_df,test_df\n"
   ]
  },
  {
   "cell_type": "markdown",
   "metadata": {},
   "source": [
    "# Extracting best features for age prediction model"
   ]
  },
  {
   "cell_type": "markdown",
   "metadata": {
    "heading_collapsed": true
   },
   "source": [
    "## Regression"
   ]
  },
  {
   "cell_type": "markdown",
   "metadata": {
    "hidden": true
   },
   "source": [
    "We will First try to train a random forest on a regression task.\n",
    "\n",
    "**task**:\n",
    "Given the bacteria samples as data, `visit_age_mo` (time in month when the sample was taken) we will try to create a regression model to predict the correct age of the sample.\n",
    "\n",
    "<br></br>\n",
    "**Model Params**:\n",
    "\n",
    "We got the model params after running a cross validation with random search over the possible parameters.\n",
    "```json\n",
    "{\n",
    "            'random_state': 666,\n",
    "             'n_estimators': 1800,\n",
    "             'min_samples_split': 5,\n",
    "             'min_samples_leaf': 2,\n",
    "             'max_features': 'sqrt',\n",
    "             'max_depth': 100,\n",
    "             'bootstrap': False}\n",
    "```\n",
    "\n",
    "<br></br>\n",
    "Evaluating model - Predicting exact age in mo was too hard of a task. In order to smooth the results I added a `margin` option. The margin is the error that will be acceptable when evaluating the model (After the model was built and trained). \n",
    "For example `age_in_mo`= 1.3, `prediction=1.9`and `margin=1.0` the evaluation will be that this was a correct prediction."
   ]
  },
  {
   "cell_type": "code",
   "execution_count": 42,
   "metadata": {
    "ExecuteTime": {
     "end_time": "2021-01-25T12:55:21.077634Z",
     "start_time": "2021-01-25T12:53:43.487683Z"
    },
    "code_folding": [],
    "hidden": true
   },
   "outputs": [
    {
     "name": "stderr",
     "output_type": "stream",
     "text": [
      "100%|██████████| 20/20 [01:37<00:00,  4.88s/it]"
     ]
    },
    {
     "name": "stdout",
     "output_type": "stream",
     "text": [
      "control_train_df\n",
      "AVG loss = 0.48\n",
      "AVG acc = 0.91\n",
      "MIN acc = 0.89\n",
      "MAX acc = 0.92\n",
      "\n",
      "control_test_df\n",
      "AVG loss = 1.77\n",
      "AVG acc = 0.34\n",
      "MIN acc = 0.2\n",
      "MAX acc = 0.45\n",
      "\n",
      "test_df\n",
      "AVG loss = 1.77\n",
      "AVG acc = 0.37\n",
      "MIN acc = 0.35\n",
      "MAX acc = 0.39\n",
      "\n"
     ]
    },
    {
     "name": "stderr",
     "output_type": "stream",
     "text": [
      "\n"
     ]
    }
   ],
   "source": [
    "best_regress_params = {\n",
    "            'random_state': 666,\n",
    "             'n_estimators': 1800,\n",
    "             'min_samples_split': 5,\n",
    "             'min_samples_leaf': 2,\n",
    "             'max_features': 'sqrt',\n",
    "             'max_depth': 100,\n",
    "             'bootstrap': False}\n",
    "loss_lst,acc_lst,best_features = calc_regressor_control(merge_df,best_regress_params,train_ratio=0.85)"
   ]
  },
  {
   "cell_type": "markdown",
   "metadata": {
    "hidden": true
   },
   "source": [
    "**Most important features** \n",
    "\n",
    "The Tree regression model gives us score to the importance of different features. Below are a plot of the features (by number) and the number of times it appeared as one of the top 20 most important features."
   ]
  },
  {
   "cell_type": "code",
   "execution_count": 72,
   "metadata": {
    "ExecuteTime": {
     "end_time": "2021-01-25T15:09:02.454851Z",
     "start_time": "2021-01-25T15:09:02.393553Z"
    },
    "hidden": true
   },
   "outputs": [
    {
     "name": "stdout",
     "output_type": "stream",
     "text": [
      "Num of features that repeated more than 5 times (22,)\n"
     ]
    },
    {
     "data": {
      "application/vnd.plotly.v1+json": {
       "config": {
        "plotlyServerURL": "https://plot.ly"
       },
       "data": [
        {
         "alignmentgroup": "True",
         "hovertemplate": "x=%{x}<br>y=%{y}<extra></extra>",
         "legendgroup": "",
         "marker": {
          "color": "#636efa"
         },
         "name": "",
         "offsetgroup": "",
         "orientation": "v",
         "showlegend": false,
         "textposition": "auto",
         "type": "bar",
         "x": [
          17,
          69,
          85,
          169,
          204,
          212,
          218,
          220,
          232,
          233,
          240,
          243,
          246,
          249,
          253,
          260,
          264,
          273,
          274,
          276,
          291,
          304,
          314,
          409,
          420
         ],
         "xaxis": "x",
         "y": [
          6,
          6,
          6,
          6,
          2,
          5,
          1,
          4,
          6,
          2,
          6,
          2,
          6,
          5,
          6,
          6,
          6,
          6,
          6,
          5,
          2,
          6,
          6,
          3,
          5
         ],
         "yaxis": "y"
        }
       ],
       "layout": {
        "barmode": "relative",
        "legend": {
         "tracegroupgap": 0
        },
        "margin": {
         "t": 60
        },
        "template": {
         "data": {
          "bar": [
           {
            "error_x": {
             "color": "#2a3f5f"
            },
            "error_y": {
             "color": "#2a3f5f"
            },
            "marker": {
             "line": {
              "color": "#E5ECF6",
              "width": 0.5
             }
            },
            "type": "bar"
           }
          ],
          "barpolar": [
           {
            "marker": {
             "line": {
              "color": "#E5ECF6",
              "width": 0.5
             }
            },
            "type": "barpolar"
           }
          ],
          "carpet": [
           {
            "aaxis": {
             "endlinecolor": "#2a3f5f",
             "gridcolor": "white",
             "linecolor": "white",
             "minorgridcolor": "white",
             "startlinecolor": "#2a3f5f"
            },
            "baxis": {
             "endlinecolor": "#2a3f5f",
             "gridcolor": "white",
             "linecolor": "white",
             "minorgridcolor": "white",
             "startlinecolor": "#2a3f5f"
            },
            "type": "carpet"
           }
          ],
          "choropleth": [
           {
            "colorbar": {
             "outlinewidth": 0,
             "ticks": ""
            },
            "type": "choropleth"
           }
          ],
          "contour": [
           {
            "colorbar": {
             "outlinewidth": 0,
             "ticks": ""
            },
            "colorscale": [
             [
              0,
              "#0d0887"
             ],
             [
              0.1111111111111111,
              "#46039f"
             ],
             [
              0.2222222222222222,
              "#7201a8"
             ],
             [
              0.3333333333333333,
              "#9c179e"
             ],
             [
              0.4444444444444444,
              "#bd3786"
             ],
             [
              0.5555555555555556,
              "#d8576b"
             ],
             [
              0.6666666666666666,
              "#ed7953"
             ],
             [
              0.7777777777777778,
              "#fb9f3a"
             ],
             [
              0.8888888888888888,
              "#fdca26"
             ],
             [
              1,
              "#f0f921"
             ]
            ],
            "type": "contour"
           }
          ],
          "contourcarpet": [
           {
            "colorbar": {
             "outlinewidth": 0,
             "ticks": ""
            },
            "type": "contourcarpet"
           }
          ],
          "heatmap": [
           {
            "colorbar": {
             "outlinewidth": 0,
             "ticks": ""
            },
            "colorscale": [
             [
              0,
              "#0d0887"
             ],
             [
              0.1111111111111111,
              "#46039f"
             ],
             [
              0.2222222222222222,
              "#7201a8"
             ],
             [
              0.3333333333333333,
              "#9c179e"
             ],
             [
              0.4444444444444444,
              "#bd3786"
             ],
             [
              0.5555555555555556,
              "#d8576b"
             ],
             [
              0.6666666666666666,
              "#ed7953"
             ],
             [
              0.7777777777777778,
              "#fb9f3a"
             ],
             [
              0.8888888888888888,
              "#fdca26"
             ],
             [
              1,
              "#f0f921"
             ]
            ],
            "type": "heatmap"
           }
          ],
          "heatmapgl": [
           {
            "colorbar": {
             "outlinewidth": 0,
             "ticks": ""
            },
            "colorscale": [
             [
              0,
              "#0d0887"
             ],
             [
              0.1111111111111111,
              "#46039f"
             ],
             [
              0.2222222222222222,
              "#7201a8"
             ],
             [
              0.3333333333333333,
              "#9c179e"
             ],
             [
              0.4444444444444444,
              "#bd3786"
             ],
             [
              0.5555555555555556,
              "#d8576b"
             ],
             [
              0.6666666666666666,
              "#ed7953"
             ],
             [
              0.7777777777777778,
              "#fb9f3a"
             ],
             [
              0.8888888888888888,
              "#fdca26"
             ],
             [
              1,
              "#f0f921"
             ]
            ],
            "type": "heatmapgl"
           }
          ],
          "histogram": [
           {
            "marker": {
             "colorbar": {
              "outlinewidth": 0,
              "ticks": ""
             }
            },
            "type": "histogram"
           }
          ],
          "histogram2d": [
           {
            "colorbar": {
             "outlinewidth": 0,
             "ticks": ""
            },
            "colorscale": [
             [
              0,
              "#0d0887"
             ],
             [
              0.1111111111111111,
              "#46039f"
             ],
             [
              0.2222222222222222,
              "#7201a8"
             ],
             [
              0.3333333333333333,
              "#9c179e"
             ],
             [
              0.4444444444444444,
              "#bd3786"
             ],
             [
              0.5555555555555556,
              "#d8576b"
             ],
             [
              0.6666666666666666,
              "#ed7953"
             ],
             [
              0.7777777777777778,
              "#fb9f3a"
             ],
             [
              0.8888888888888888,
              "#fdca26"
             ],
             [
              1,
              "#f0f921"
             ]
            ],
            "type": "histogram2d"
           }
          ],
          "histogram2dcontour": [
           {
            "colorbar": {
             "outlinewidth": 0,
             "ticks": ""
            },
            "colorscale": [
             [
              0,
              "#0d0887"
             ],
             [
              0.1111111111111111,
              "#46039f"
             ],
             [
              0.2222222222222222,
              "#7201a8"
             ],
             [
              0.3333333333333333,
              "#9c179e"
             ],
             [
              0.4444444444444444,
              "#bd3786"
             ],
             [
              0.5555555555555556,
              "#d8576b"
             ],
             [
              0.6666666666666666,
              "#ed7953"
             ],
             [
              0.7777777777777778,
              "#fb9f3a"
             ],
             [
              0.8888888888888888,
              "#fdca26"
             ],
             [
              1,
              "#f0f921"
             ]
            ],
            "type": "histogram2dcontour"
           }
          ],
          "mesh3d": [
           {
            "colorbar": {
             "outlinewidth": 0,
             "ticks": ""
            },
            "type": "mesh3d"
           }
          ],
          "parcoords": [
           {
            "line": {
             "colorbar": {
              "outlinewidth": 0,
              "ticks": ""
             }
            },
            "type": "parcoords"
           }
          ],
          "pie": [
           {
            "automargin": true,
            "type": "pie"
           }
          ],
          "scatter": [
           {
            "marker": {
             "colorbar": {
              "outlinewidth": 0,
              "ticks": ""
             }
            },
            "type": "scatter"
           }
          ],
          "scatter3d": [
           {
            "line": {
             "colorbar": {
              "outlinewidth": 0,
              "ticks": ""
             }
            },
            "marker": {
             "colorbar": {
              "outlinewidth": 0,
              "ticks": ""
             }
            },
            "type": "scatter3d"
           }
          ],
          "scattercarpet": [
           {
            "marker": {
             "colorbar": {
              "outlinewidth": 0,
              "ticks": ""
             }
            },
            "type": "scattercarpet"
           }
          ],
          "scattergeo": [
           {
            "marker": {
             "colorbar": {
              "outlinewidth": 0,
              "ticks": ""
             }
            },
            "type": "scattergeo"
           }
          ],
          "scattergl": [
           {
            "marker": {
             "colorbar": {
              "outlinewidth": 0,
              "ticks": ""
             }
            },
            "type": "scattergl"
           }
          ],
          "scattermapbox": [
           {
            "marker": {
             "colorbar": {
              "outlinewidth": 0,
              "ticks": ""
             }
            },
            "type": "scattermapbox"
           }
          ],
          "scatterpolar": [
           {
            "marker": {
             "colorbar": {
              "outlinewidth": 0,
              "ticks": ""
             }
            },
            "type": "scatterpolar"
           }
          ],
          "scatterpolargl": [
           {
            "marker": {
             "colorbar": {
              "outlinewidth": 0,
              "ticks": ""
             }
            },
            "type": "scatterpolargl"
           }
          ],
          "scatterternary": [
           {
            "marker": {
             "colorbar": {
              "outlinewidth": 0,
              "ticks": ""
             }
            },
            "type": "scatterternary"
           }
          ],
          "surface": [
           {
            "colorbar": {
             "outlinewidth": 0,
             "ticks": ""
            },
            "colorscale": [
             [
              0,
              "#0d0887"
             ],
             [
              0.1111111111111111,
              "#46039f"
             ],
             [
              0.2222222222222222,
              "#7201a8"
             ],
             [
              0.3333333333333333,
              "#9c179e"
             ],
             [
              0.4444444444444444,
              "#bd3786"
             ],
             [
              0.5555555555555556,
              "#d8576b"
             ],
             [
              0.6666666666666666,
              "#ed7953"
             ],
             [
              0.7777777777777778,
              "#fb9f3a"
             ],
             [
              0.8888888888888888,
              "#fdca26"
             ],
             [
              1,
              "#f0f921"
             ]
            ],
            "type": "surface"
           }
          ],
          "table": [
           {
            "cells": {
             "fill": {
              "color": "#EBF0F8"
             },
             "line": {
              "color": "white"
             }
            },
            "header": {
             "fill": {
              "color": "#C8D4E3"
             },
             "line": {
              "color": "white"
             }
            },
            "type": "table"
           }
          ]
         },
         "layout": {
          "annotationdefaults": {
           "arrowcolor": "#2a3f5f",
           "arrowhead": 0,
           "arrowwidth": 1
          },
          "coloraxis": {
           "colorbar": {
            "outlinewidth": 0,
            "ticks": ""
           }
          },
          "colorscale": {
           "diverging": [
            [
             0,
             "#8e0152"
            ],
            [
             0.1,
             "#c51b7d"
            ],
            [
             0.2,
             "#de77ae"
            ],
            [
             0.3,
             "#f1b6da"
            ],
            [
             0.4,
             "#fde0ef"
            ],
            [
             0.5,
             "#f7f7f7"
            ],
            [
             0.6,
             "#e6f5d0"
            ],
            [
             0.7,
             "#b8e186"
            ],
            [
             0.8,
             "#7fbc41"
            ],
            [
             0.9,
             "#4d9221"
            ],
            [
             1,
             "#276419"
            ]
           ],
           "sequential": [
            [
             0,
             "#0d0887"
            ],
            [
             0.1111111111111111,
             "#46039f"
            ],
            [
             0.2222222222222222,
             "#7201a8"
            ],
            [
             0.3333333333333333,
             "#9c179e"
            ],
            [
             0.4444444444444444,
             "#bd3786"
            ],
            [
             0.5555555555555556,
             "#d8576b"
            ],
            [
             0.6666666666666666,
             "#ed7953"
            ],
            [
             0.7777777777777778,
             "#fb9f3a"
            ],
            [
             0.8888888888888888,
             "#fdca26"
            ],
            [
             1,
             "#f0f921"
            ]
           ],
           "sequentialminus": [
            [
             0,
             "#0d0887"
            ],
            [
             0.1111111111111111,
             "#46039f"
            ],
            [
             0.2222222222222222,
             "#7201a8"
            ],
            [
             0.3333333333333333,
             "#9c179e"
            ],
            [
             0.4444444444444444,
             "#bd3786"
            ],
            [
             0.5555555555555556,
             "#d8576b"
            ],
            [
             0.6666666666666666,
             "#ed7953"
            ],
            [
             0.7777777777777778,
             "#fb9f3a"
            ],
            [
             0.8888888888888888,
             "#fdca26"
            ],
            [
             1,
             "#f0f921"
            ]
           ]
          },
          "colorway": [
           "#636efa",
           "#EF553B",
           "#00cc96",
           "#ab63fa",
           "#FFA15A",
           "#19d3f3",
           "#FF6692",
           "#B6E880",
           "#FF97FF",
           "#FECB52"
          ],
          "font": {
           "color": "#2a3f5f"
          },
          "geo": {
           "bgcolor": "white",
           "lakecolor": "white",
           "landcolor": "#E5ECF6",
           "showlakes": true,
           "showland": true,
           "subunitcolor": "white"
          },
          "hoverlabel": {
           "align": "left"
          },
          "hovermode": "closest",
          "mapbox": {
           "style": "light"
          },
          "paper_bgcolor": "white",
          "plot_bgcolor": "#E5ECF6",
          "polar": {
           "angularaxis": {
            "gridcolor": "white",
            "linecolor": "white",
            "ticks": ""
           },
           "bgcolor": "#E5ECF6",
           "radialaxis": {
            "gridcolor": "white",
            "linecolor": "white",
            "ticks": ""
           }
          },
          "scene": {
           "xaxis": {
            "backgroundcolor": "#E5ECF6",
            "gridcolor": "white",
            "gridwidth": 2,
            "linecolor": "white",
            "showbackground": true,
            "ticks": "",
            "zerolinecolor": "white"
           },
           "yaxis": {
            "backgroundcolor": "#E5ECF6",
            "gridcolor": "white",
            "gridwidth": 2,
            "linecolor": "white",
            "showbackground": true,
            "ticks": "",
            "zerolinecolor": "white"
           },
           "zaxis": {
            "backgroundcolor": "#E5ECF6",
            "gridcolor": "white",
            "gridwidth": 2,
            "linecolor": "white",
            "showbackground": true,
            "ticks": "",
            "zerolinecolor": "white"
           }
          },
          "shapedefaults": {
           "line": {
            "color": "#2a3f5f"
           }
          },
          "ternary": {
           "aaxis": {
            "gridcolor": "white",
            "linecolor": "white",
            "ticks": ""
           },
           "baxis": {
            "gridcolor": "white",
            "linecolor": "white",
            "ticks": ""
           },
           "bgcolor": "#E5ECF6",
           "caxis": {
            "gridcolor": "white",
            "linecolor": "white",
            "ticks": ""
           }
          },
          "title": {
           "x": 0.05
          },
          "xaxis": {
           "automargin": true,
           "gridcolor": "white",
           "linecolor": "white",
           "ticks": "",
           "title": {
            "standoff": 15
           },
           "zerolinecolor": "white",
           "zerolinewidth": 2
          },
          "yaxis": {
           "automargin": true,
           "gridcolor": "white",
           "linecolor": "white",
           "ticks": "",
           "title": {
            "standoff": 15
           },
           "zerolinecolor": "white",
           "zerolinewidth": 2
          }
         }
        },
        "xaxis": {
         "anchor": "y",
         "domain": [
          0,
          1
         ],
         "title": {
          "text": "x"
         }
        },
        "yaxis": {
         "anchor": "x",
         "domain": [
          0,
          1
         ],
         "title": {
          "text": "y"
         }
        }
       }
      },
      "text/html": [
       "<div>                            <div id=\"feadbefc-8a19-4775-a767-f29b9a620e34\" class=\"plotly-graph-div\" style=\"height:525px; width:100%;\"></div>            <script type=\"text/javascript\">                require([\"plotly\"], function(Plotly) {                    window.PLOTLYENV=window.PLOTLYENV || {};                                    if (document.getElementById(\"feadbefc-8a19-4775-a767-f29b9a620e34\")) {                    Plotly.newPlot(                        \"feadbefc-8a19-4775-a767-f29b9a620e34\",                        [{\"alignmentgroup\": \"True\", \"hovertemplate\": \"x=%{x}<br>y=%{y}<extra></extra>\", \"legendgroup\": \"\", \"marker\": {\"color\": \"#636efa\"}, \"name\": \"\", \"offsetgroup\": \"\", \"orientation\": \"v\", \"showlegend\": false, \"textposition\": \"auto\", \"type\": \"bar\", \"x\": [17, 69, 85, 169, 204, 212, 218, 220, 232, 233, 240, 243, 246, 249, 253, 260, 264, 273, 274, 276, 291, 304, 314, 409, 420], \"xaxis\": \"x\", \"y\": [6, 6, 6, 6, 2, 5, 1, 4, 6, 2, 6, 2, 6, 5, 6, 6, 6, 6, 6, 5, 2, 6, 6, 3, 5], \"yaxis\": \"y\"}],                        {\"barmode\": \"relative\", \"legend\": {\"tracegroupgap\": 0}, \"margin\": {\"t\": 60}, \"template\": {\"data\": {\"bar\": [{\"error_x\": {\"color\": \"#2a3f5f\"}, \"error_y\": {\"color\": \"#2a3f5f\"}, \"marker\": {\"line\": {\"color\": \"#E5ECF6\", \"width\": 0.5}}, \"type\": \"bar\"}], \"barpolar\": [{\"marker\": {\"line\": {\"color\": \"#E5ECF6\", \"width\": 0.5}}, \"type\": \"barpolar\"}], \"carpet\": [{\"aaxis\": {\"endlinecolor\": \"#2a3f5f\", \"gridcolor\": \"white\", \"linecolor\": \"white\", \"minorgridcolor\": \"white\", \"startlinecolor\": \"#2a3f5f\"}, \"baxis\": {\"endlinecolor\": \"#2a3f5f\", \"gridcolor\": \"white\", \"linecolor\": \"white\", \"minorgridcolor\": \"white\", \"startlinecolor\": \"#2a3f5f\"}, \"type\": \"carpet\"}], \"choropleth\": [{\"colorbar\": {\"outlinewidth\": 0, \"ticks\": \"\"}, \"type\": \"choropleth\"}], \"contour\": [{\"colorbar\": {\"outlinewidth\": 0, \"ticks\": \"\"}, \"colorscale\": [[0.0, \"#0d0887\"], [0.1111111111111111, \"#46039f\"], [0.2222222222222222, \"#7201a8\"], [0.3333333333333333, \"#9c179e\"], [0.4444444444444444, \"#bd3786\"], [0.5555555555555556, \"#d8576b\"], [0.6666666666666666, \"#ed7953\"], [0.7777777777777778, \"#fb9f3a\"], [0.8888888888888888, \"#fdca26\"], [1.0, \"#f0f921\"]], \"type\": \"contour\"}], \"contourcarpet\": [{\"colorbar\": {\"outlinewidth\": 0, \"ticks\": \"\"}, \"type\": \"contourcarpet\"}], \"heatmap\": [{\"colorbar\": {\"outlinewidth\": 0, \"ticks\": \"\"}, \"colorscale\": [[0.0, \"#0d0887\"], [0.1111111111111111, \"#46039f\"], [0.2222222222222222, \"#7201a8\"], [0.3333333333333333, \"#9c179e\"], [0.4444444444444444, \"#bd3786\"], [0.5555555555555556, \"#d8576b\"], [0.6666666666666666, \"#ed7953\"], [0.7777777777777778, \"#fb9f3a\"], [0.8888888888888888, \"#fdca26\"], [1.0, \"#f0f921\"]], \"type\": \"heatmap\"}], \"heatmapgl\": [{\"colorbar\": {\"outlinewidth\": 0, \"ticks\": \"\"}, \"colorscale\": [[0.0, \"#0d0887\"], [0.1111111111111111, \"#46039f\"], [0.2222222222222222, \"#7201a8\"], [0.3333333333333333, \"#9c179e\"], [0.4444444444444444, \"#bd3786\"], [0.5555555555555556, \"#d8576b\"], [0.6666666666666666, \"#ed7953\"], [0.7777777777777778, \"#fb9f3a\"], [0.8888888888888888, \"#fdca26\"], [1.0, \"#f0f921\"]], \"type\": \"heatmapgl\"}], \"histogram\": [{\"marker\": {\"colorbar\": {\"outlinewidth\": 0, \"ticks\": \"\"}}, \"type\": \"histogram\"}], \"histogram2d\": [{\"colorbar\": {\"outlinewidth\": 0, \"ticks\": \"\"}, \"colorscale\": [[0.0, \"#0d0887\"], [0.1111111111111111, \"#46039f\"], [0.2222222222222222, \"#7201a8\"], [0.3333333333333333, \"#9c179e\"], [0.4444444444444444, \"#bd3786\"], [0.5555555555555556, \"#d8576b\"], [0.6666666666666666, \"#ed7953\"], [0.7777777777777778, \"#fb9f3a\"], [0.8888888888888888, \"#fdca26\"], [1.0, \"#f0f921\"]], \"type\": \"histogram2d\"}], \"histogram2dcontour\": [{\"colorbar\": {\"outlinewidth\": 0, \"ticks\": \"\"}, \"colorscale\": [[0.0, \"#0d0887\"], [0.1111111111111111, \"#46039f\"], [0.2222222222222222, \"#7201a8\"], [0.3333333333333333, \"#9c179e\"], [0.4444444444444444, \"#bd3786\"], [0.5555555555555556, \"#d8576b\"], [0.6666666666666666, \"#ed7953\"], [0.7777777777777778, \"#fb9f3a\"], [0.8888888888888888, \"#fdca26\"], [1.0, \"#f0f921\"]], \"type\": \"histogram2dcontour\"}], \"mesh3d\": [{\"colorbar\": {\"outlinewidth\": 0, \"ticks\": \"\"}, \"type\": \"mesh3d\"}], \"parcoords\": [{\"line\": {\"colorbar\": {\"outlinewidth\": 0, \"ticks\": \"\"}}, \"type\": \"parcoords\"}], \"pie\": [{\"automargin\": true, \"type\": \"pie\"}], \"scatter\": [{\"marker\": {\"colorbar\": {\"outlinewidth\": 0, \"ticks\": \"\"}}, \"type\": \"scatter\"}], \"scatter3d\": [{\"line\": {\"colorbar\": {\"outlinewidth\": 0, \"ticks\": \"\"}}, \"marker\": {\"colorbar\": {\"outlinewidth\": 0, \"ticks\": \"\"}}, \"type\": \"scatter3d\"}], \"scattercarpet\": [{\"marker\": {\"colorbar\": {\"outlinewidth\": 0, \"ticks\": \"\"}}, \"type\": \"scattercarpet\"}], \"scattergeo\": [{\"marker\": {\"colorbar\": {\"outlinewidth\": 0, \"ticks\": \"\"}}, \"type\": \"scattergeo\"}], \"scattergl\": [{\"marker\": {\"colorbar\": {\"outlinewidth\": 0, \"ticks\": \"\"}}, \"type\": \"scattergl\"}], \"scattermapbox\": [{\"marker\": {\"colorbar\": {\"outlinewidth\": 0, \"ticks\": \"\"}}, \"type\": \"scattermapbox\"}], \"scatterpolar\": [{\"marker\": {\"colorbar\": {\"outlinewidth\": 0, \"ticks\": \"\"}}, \"type\": \"scatterpolar\"}], \"scatterpolargl\": [{\"marker\": {\"colorbar\": {\"outlinewidth\": 0, \"ticks\": \"\"}}, \"type\": \"scatterpolargl\"}], \"scatterternary\": [{\"marker\": {\"colorbar\": {\"outlinewidth\": 0, \"ticks\": \"\"}}, \"type\": \"scatterternary\"}], \"surface\": [{\"colorbar\": {\"outlinewidth\": 0, \"ticks\": \"\"}, \"colorscale\": [[0.0, \"#0d0887\"], [0.1111111111111111, \"#46039f\"], [0.2222222222222222, \"#7201a8\"], [0.3333333333333333, \"#9c179e\"], [0.4444444444444444, \"#bd3786\"], [0.5555555555555556, \"#d8576b\"], [0.6666666666666666, \"#ed7953\"], [0.7777777777777778, \"#fb9f3a\"], [0.8888888888888888, \"#fdca26\"], [1.0, \"#f0f921\"]], \"type\": \"surface\"}], \"table\": [{\"cells\": {\"fill\": {\"color\": \"#EBF0F8\"}, \"line\": {\"color\": \"white\"}}, \"header\": {\"fill\": {\"color\": \"#C8D4E3\"}, \"line\": {\"color\": \"white\"}}, \"type\": \"table\"}]}, \"layout\": {\"annotationdefaults\": {\"arrowcolor\": \"#2a3f5f\", \"arrowhead\": 0, \"arrowwidth\": 1}, \"coloraxis\": {\"colorbar\": {\"outlinewidth\": 0, \"ticks\": \"\"}}, \"colorscale\": {\"diverging\": [[0, \"#8e0152\"], [0.1, \"#c51b7d\"], [0.2, \"#de77ae\"], [0.3, \"#f1b6da\"], [0.4, \"#fde0ef\"], [0.5, \"#f7f7f7\"], [0.6, \"#e6f5d0\"], [0.7, \"#b8e186\"], [0.8, \"#7fbc41\"], [0.9, \"#4d9221\"], [1, \"#276419\"]], \"sequential\": [[0.0, \"#0d0887\"], [0.1111111111111111, \"#46039f\"], [0.2222222222222222, \"#7201a8\"], [0.3333333333333333, \"#9c179e\"], [0.4444444444444444, \"#bd3786\"], [0.5555555555555556, \"#d8576b\"], [0.6666666666666666, \"#ed7953\"], [0.7777777777777778, \"#fb9f3a\"], [0.8888888888888888, \"#fdca26\"], [1.0, \"#f0f921\"]], \"sequentialminus\": [[0.0, \"#0d0887\"], [0.1111111111111111, \"#46039f\"], [0.2222222222222222, \"#7201a8\"], [0.3333333333333333, \"#9c179e\"], [0.4444444444444444, \"#bd3786\"], [0.5555555555555556, \"#d8576b\"], [0.6666666666666666, \"#ed7953\"], [0.7777777777777778, \"#fb9f3a\"], [0.8888888888888888, \"#fdca26\"], [1.0, \"#f0f921\"]]}, \"colorway\": [\"#636efa\", \"#EF553B\", \"#00cc96\", \"#ab63fa\", \"#FFA15A\", \"#19d3f3\", \"#FF6692\", \"#B6E880\", \"#FF97FF\", \"#FECB52\"], \"font\": {\"color\": \"#2a3f5f\"}, \"geo\": {\"bgcolor\": \"white\", \"lakecolor\": \"white\", \"landcolor\": \"#E5ECF6\", \"showlakes\": true, \"showland\": true, \"subunitcolor\": \"white\"}, \"hoverlabel\": {\"align\": \"left\"}, \"hovermode\": \"closest\", \"mapbox\": {\"style\": \"light\"}, \"paper_bgcolor\": \"white\", \"plot_bgcolor\": \"#E5ECF6\", \"polar\": {\"angularaxis\": {\"gridcolor\": \"white\", \"linecolor\": \"white\", \"ticks\": \"\"}, \"bgcolor\": \"#E5ECF6\", \"radialaxis\": {\"gridcolor\": \"white\", \"linecolor\": \"white\", \"ticks\": \"\"}}, \"scene\": {\"xaxis\": {\"backgroundcolor\": \"#E5ECF6\", \"gridcolor\": \"white\", \"gridwidth\": 2, \"linecolor\": \"white\", \"showbackground\": true, \"ticks\": \"\", \"zerolinecolor\": \"white\"}, \"yaxis\": {\"backgroundcolor\": \"#E5ECF6\", \"gridcolor\": \"white\", \"gridwidth\": 2, \"linecolor\": \"white\", \"showbackground\": true, \"ticks\": \"\", \"zerolinecolor\": \"white\"}, \"zaxis\": {\"backgroundcolor\": \"#E5ECF6\", \"gridcolor\": \"white\", \"gridwidth\": 2, \"linecolor\": \"white\", \"showbackground\": true, \"ticks\": \"\", \"zerolinecolor\": \"white\"}}, \"shapedefaults\": {\"line\": {\"color\": \"#2a3f5f\"}}, \"ternary\": {\"aaxis\": {\"gridcolor\": \"white\", \"linecolor\": \"white\", \"ticks\": \"\"}, \"baxis\": {\"gridcolor\": \"white\", \"linecolor\": \"white\", \"ticks\": \"\"}, \"bgcolor\": \"#E5ECF6\", \"caxis\": {\"gridcolor\": \"white\", \"linecolor\": \"white\", \"ticks\": \"\"}}, \"title\": {\"x\": 0.05}, \"xaxis\": {\"automargin\": true, \"gridcolor\": \"white\", \"linecolor\": \"white\", \"ticks\": \"\", \"title\": {\"standoff\": 15}, \"zerolinecolor\": \"white\", \"zerolinewidth\": 2}, \"yaxis\": {\"automargin\": true, \"gridcolor\": \"white\", \"linecolor\": \"white\", \"ticks\": \"\", \"title\": {\"standoff\": 15}, \"zerolinecolor\": \"white\", \"zerolinewidth\": 2}}}, \"xaxis\": {\"anchor\": \"y\", \"domain\": [0.0, 1.0], \"title\": {\"text\": \"x\"}}, \"yaxis\": {\"anchor\": \"x\", \"domain\": [0.0, 1.0], \"title\": {\"text\": \"y\"}}},                        {\"responsive\": true}                    ).then(function(){\n",
       "                            \n",
       "var gd = document.getElementById('feadbefc-8a19-4775-a767-f29b9a620e34');\n",
       "var x = new MutationObserver(function (mutations, observer) {{\n",
       "        var display = window.getComputedStyle(gd).display;\n",
       "        if (!display || display === 'none') {{\n",
       "            console.log([gd, 'removed!']);\n",
       "            Plotly.purge(gd);\n",
       "            observer.disconnect();\n",
       "        }}\n",
       "}});\n",
       "\n",
       "// Listen for the removal of the full notebook cells\n",
       "var notebookContainer = gd.closest('#notebook-container');\n",
       "if (notebookContainer) {{\n",
       "    x.observe(notebookContainer, {childList: true});\n",
       "}}\n",
       "\n",
       "// Listen for the clearing of the current output cell\n",
       "var outputEl = gd.closest('.output');\n",
       "if (outputEl) {{\n",
       "    x.observe(outputEl, {childList: true});\n",
       "}}\n",
       "\n",
       "                        })                };                });            </script>        </div>"
      ]
     },
     "metadata": {},
     "output_type": "display_data"
    }
   ],
   "source": [
    "best_regr_features = np.array(best_features)[:,:20]\n",
    "clf_unique, clf_count = np.unique(best_regr_features,return_counts=True)\n",
    "top_regr_repeat_features = clf_unique[clf_count>5]\n",
    "print(f\"Num of features that repeated more than 5 times {top_regr_repeat_features.shape}\")\n",
    "px.bar(x=unique,y=count)"
   ]
  },
  {
   "cell_type": "code",
   "execution_count": 58,
   "metadata": {
    "ExecuteTime": {
     "end_time": "2021-01-25T13:40:18.314212Z",
     "start_time": "2021-01-25T13:40:18.309102Z"
    },
    "hidden": true
   },
   "outputs": [
    {
     "data": {
      "text/plain": [
       "Index(['k__Bacteria;p__Actinobacteria;c__Actinobacteria;o__Bifidobacteriales;f__Bifidobacteriaceae;g__Bifidobacterium;__',\n",
       "       'k__Bacteria;p__Actinobacteria;c__Actinobacteria;o__Bifidobacteriales;f__Bifidobacteriaceae;g__Bifidobacterium;s__',\n",
       "       'k__Bacteria;p__Actinobacteria;c__Coriobacteriia;o__Coriobacteriales;f__Coriobacteriaceae;g__Eggerthella;s__lenta',\n",
       "       'k__Bacteria;p__Firmicutes;c__Bacilli;o__Bacillales;f__Staphylococcaceae;g__Staphylococcus;__',\n",
       "       'k__Bacteria;p__Firmicutes;c__Clostridia;o__Clostridiales;__;__;__',\n",
       "       'k__Bacteria;p__Firmicutes;c__Clostridia;o__Clostridiales;f__Clostridiaceae;g__Clostridium;s__neonatale',\n",
       "       'k__Bacteria;p__Firmicutes;c__Clostridia;o__Clostridiales;f__Lachnospiraceae;g__;s__',\n",
       "       'k__Bacteria;p__Firmicutes;c__Clostridia;o__Clostridiales;f__Lachnospiraceae;g__Blautia;s__',\n",
       "       'k__Bacteria;p__Firmicutes;c__Clostridia;o__Clostridiales;f__Lachnospiraceae;g__Coprococcus;s__',\n",
       "       'k__Bacteria;p__Firmicutes;c__Clostridia;o__Clostridiales;f__Lachnospiraceae;g__Dorea;s__',\n",
       "       'k__Bacteria;p__Firmicutes;c__Clostridia;o__Clostridiales;f__Lachnospiraceae;g__Lachnospira;s__',\n",
       "       'k__Bacteria;p__Firmicutes;c__Clostridia;o__Clostridiales;f__Lachnospiraceae;g__[Ruminococcus];s__gnavus',\n",
       "       'k__Bacteria;p__Firmicutes;c__Clostridia;o__Clostridiales;f__Peptostreptococcaceae;g__;s__',\n",
       "       'k__Bacteria;p__Firmicutes;c__Clostridia;o__Clostridiales;f__Ruminococcaceae;g__Faecalibacterium;s__prausnitzii',\n",
       "       'k__Bacteria;p__Firmicutes;c__Clostridia;o__Clostridiales;f__Ruminococcaceae;g__Oscillospira;s__',\n",
       "       'k__Bacteria;p__Firmicutes;c__Clostridia;o__Clostridiales;f__Ruminococcaceae;g__Ruminococcus;s__',\n",
       "       'k__Bacteria;p__Firmicutes;c__Erysipelotrichi;o__Erysipelotrichales;f__Erysipelotrichaceae;g__;s__',\n",
       "       'k__Bacteria;p__Firmicutes;c__Erysipelotrichi;o__Erysipelotrichales;f__Erysipelotrichaceae;g__[Eubacterium];s__dolichum',\n",
       "       'k__Bacteria;p__Fusobacteria;c__Fusobacteriia;o__Fusobacteriales;f__Fusobacteriaceae;g__Fusobacterium;s__',\n",
       "       'k__Bacteria;p__Proteobacteria;c__Betaproteobacteria;o__Burkholderiales;f__Alcaligenaceae;g__Sutterella;s__',\n",
       "       'k__Bacteria;p__Proteobacteria;c__Gammaproteobacteria;o__Enterobacteriales;f__Enterobacteriaceae;g__;s__',\n",
       "       'k__Bacteria;p__Proteobacteria;c__Gammaproteobacteria;o__Pasteurellales;f__Pasteurellaceae;g__Haemophilus;s__parainfluenzae'],\n",
       "      dtype='object')"
      ]
     },
     "execution_count": 58,
     "metadata": {},
     "output_type": "execute_result"
    }
   ],
   "source": [
    "merge_df.iloc[:,top_regr_repeat_features].columns"
   ]
  },
  {
   "cell_type": "markdown",
   "metadata": {
    "hidden": true
   },
   "source": [
    "**Plotting the regressions results**\n",
    "<br></br>\n",
    "We will draw the regression results. Below in the x-axis we have the sample `visit_age_mo`, and in the y-axis we have the model `predict` \n",
    "\n",
    "<br></br>\n",
    "On top of the points there are regrssion lines, splitted to different test\\train categories. \n",
    "Click on a label from the legend to clear from the plot"
   ]
  },
  {
   "cell_type": "code",
   "execution_count": 46,
   "metadata": {
    "ExecuteTime": {
     "end_time": "2021-01-25T13:15:43.865349Z",
     "start_time": "2021-01-25T13:15:38.887731Z"
    },
    "hidden": true
   },
   "outputs": [
    {
     "data": {
      "application/vnd.plotly.v1+json": {
       "config": {
        "plotlyServerURL": "https://plot.ly"
       },
       "data": [
        {
         "customdata": [
          [
           "Control",
           "sub.9.0.initial"
          ],
          [
           "Control",
           "sub.9.4.fourmonth"
          ],
          [
           "Control",
           "sub.9.5.sixmonth"
          ],
          [
           "Control",
           "sub.9.6.ninemonth"
          ],
          [
           "Control",
           "sub.9.7.one.year"
          ],
          [
           "Control",
           "sub.14.0.initial"
          ],
          [
           "Control",
           "sub.14.3.twomonth"
          ],
          [
           "Control",
           "sub.14.4.fourmonth"
          ],
          [
           "Control",
           "sub.14.5.sixmonth"
          ],
          [
           "Control",
           "sub.14.6.ninemonth"
          ],
          [
           "Control",
           "sub.14.7.one.year"
          ],
          [
           "Control",
           "sub.20.0.initial"
          ],
          [
           "Control",
           "sub.20.1.two.week"
          ],
          [
           "Control",
           "sub.20.3.twomonth"
          ],
          [
           "Control",
           "sub.20.4.fourmonth"
          ],
          [
           "Control",
           "sub.20.5.sixmonth"
          ],
          [
           "Control",
           "sub.20.6.ninemonth"
          ],
          [
           "Control",
           "sub.24.2.one.month"
          ],
          [
           "Control",
           "sub.24.3.twomonth"
          ],
          [
           "Control",
           "sub.24.5.sixmonth"
          ],
          [
           "Control",
           "sub.24.6.ninemonth"
          ],
          [
           "Control",
           "sub.31.0.initial"
          ],
          [
           "Control",
           "sub.31.1.two.week"
          ],
          [
           "Control",
           "sub.31.2.one.month"
          ],
          [
           "Control",
           "sub.31.3.twomonth"
          ],
          [
           "Control",
           "sub.31.4.fourmonth"
          ],
          [
           "Control",
           "sub.31.5.sixmonth"
          ],
          [
           "Control",
           "sub.31.6.ninemonth"
          ],
          [
           "Control",
           "sub.53.3.twomonth"
          ],
          [
           "Control",
           "sub.53.4.fourmonth"
          ],
          [
           "Control",
           "sub.53.6.ninemonth"
          ],
          [
           "Control",
           "sub.53.7.one.year"
          ],
          [
           "Control",
           "sub.55.2.one.month"
          ],
          [
           "Control",
           "sub.55.3.twomonth"
          ],
          [
           "Control",
           "sub.55.5.sixmonth"
          ],
          [
           "Control",
           "sub.55.6.ninemonth"
          ],
          [
           "Control",
           "sub.58.0.initial"
          ],
          [
           "Control",
           "sub.58.1.two.week"
          ],
          [
           "Control",
           "sub.58.2.one.month"
          ],
          [
           "Control",
           "sub.58.3.twomonth"
          ],
          [
           "Control",
           "sub.67.0.initial"
          ],
          [
           "Control",
           "sub.67.1.two.week"
          ],
          [
           "Control",
           "sub.67.2.one.month"
          ],
          [
           "Control",
           "sub.67.3.twomonth"
          ],
          [
           "Control",
           "sub.67.4.fourmonth"
          ],
          [
           "Control",
           "sub.67.5.sixmonth"
          ],
          [
           "Control",
           "sub.67.7.one.year"
          ],
          [
           "Control",
           "sub.96.2.one.month"
          ],
          [
           "Control",
           "sub.96.3.twomonth"
          ],
          [
           "Control",
           "sub.96.4.fourmonth"
          ],
          [
           "Control",
           "sub.96.5.sixmonth"
          ],
          [
           "Control",
           "sub.96.7.one.year"
          ],
          [
           "Control",
           "sub.97.0.initial"
          ],
          [
           "Control",
           "sub.97.1.two.week"
          ],
          [
           "Control",
           "sub.97.2.one.month"
          ],
          [
           "Control",
           "sub.97.3.twomonth"
          ],
          [
           "Control",
           "sub.97.4.fourmonth"
          ],
          [
           "Control",
           "sub.97.5.sixmonth"
          ],
          [
           "Control",
           "sub.97.7.one.year"
          ],
          [
           "Control",
           "sub.99.0.initial"
          ],
          [
           "Control",
           "sub.99.1.two.week"
          ],
          [
           "Control",
           "sub.99.2.one.month"
          ],
          [
           "Control",
           "sub.99.3.twomonth"
          ],
          [
           "Control",
           "sub.99.4.fourmonth"
          ],
          [
           "Control",
           "sub.99.5.sixmonth"
          ],
          [
           "Control",
           "sub.110.0.initial"
          ],
          [
           "Control",
           "sub.110.1.two.week"
          ],
          [
           "Control",
           "sub.110.2.one.month"
          ],
          [
           "Control",
           "sub.110.3.twomonth"
          ],
          [
           "Control",
           "sub.110.4.fourmonth"
          ],
          [
           "Control",
           "sub.110.5.sixmonth"
          ],
          [
           "Control",
           "sub.110.6.ninemonth"
          ],
          [
           "Control",
           "sub.149.2.one.month"
          ],
          [
           "Control",
           "sub.149.3.twomonth"
          ],
          [
           "Control",
           "sub.149.5.sixmonth"
          ],
          [
           "Control",
           "sub.149.7.one.year"
          ],
          [
           "Control",
           "sub.162.0.initial"
          ],
          [
           "Control",
           "sub.162.1.two.week"
          ],
          [
           "Control",
           "sub.162.11.sick"
          ],
          [
           "Control",
           "sub.162.3.twomonth"
          ],
          [
           "Control",
           "sub.162.4.fourmonth"
          ],
          [
           "Control",
           "sub.162.5.sixmonth"
          ],
          [
           "Control",
           "sub.162.6.ninemonth"
          ],
          [
           "Control",
           "sub.165.0.initial"
          ],
          [
           "Control",
           "sub.165.1.two.week"
          ],
          [
           "Control",
           "sub.165.3.twomonth"
          ],
          [
           "Control",
           "sub.165.4.fourmonth"
          ],
          [
           "Control",
           "sub.165.5.sixmonth"
          ],
          [
           "Control",
           "sub.188.1.two.week"
          ],
          [
           "Control",
           "sub.188.2.one.month"
          ],
          [
           "Control",
           "sub.188.3.twomonth"
          ],
          [
           "Control",
           "sub.188.4.fourmonth"
          ],
          [
           "Control",
           "sub.188.5.sixmonth"
          ],
          [
           "Control",
           "sub.188.6.ninemonth"
          ],
          [
           "Control",
           "sub.188.7.one.year"
          ],
          [
           "Control",
           "sub.192.0.initial"
          ],
          [
           "Control",
           "sub.192.1.two.week"
          ],
          [
           "Control",
           "sub.192.4.fourmonth"
          ],
          [
           "Control",
           "sub.192.5.sixmonth"
          ],
          [
           "Control",
           "sub.192.7.one.year"
          ],
          [
           "Control",
           "sub.197.0.initial"
          ],
          [
           "Control",
           "sub.197.1.two.week"
          ],
          [
           "Control",
           "sub.197.2.one.month"
          ],
          [
           "Control",
           "sub.197.3.twomonth"
          ],
          [
           "Control",
           "sub.197.7.one.year"
          ],
          [
           "Control",
           "sub.205.0.initial"
          ],
          [
           "Control",
           "sub.205.1.two.week"
          ],
          [
           "Control",
           "sub.205.11.sick"
          ],
          [
           "Control",
           "sub.205.2.one.month"
          ],
          [
           "Control",
           "sub.205.3.twomonth"
          ],
          [
           "Control",
           "sub.205.4.fourmonth"
          ],
          [
           "Control",
           "sub.222.0.initial"
          ],
          [
           "Control",
           "sub.222.1.two.week"
          ],
          [
           "Control",
           "sub.222.11.sick"
          ],
          [
           "Control",
           "sub.222.12.sick"
          ],
          [
           "Control",
           "sub.222.13.sick"
          ],
          [
           "Control",
           "sub.222.14.sick"
          ],
          [
           "Control",
           "sub.222.15.sick"
          ],
          [
           "Control",
           "sub.222.2.one.month"
          ],
          [
           "Control",
           "sub.222.3.twomonth"
          ],
          [
           "Control",
           "sub.222.4.fourmonth"
          ],
          [
           "Control",
           "sub.222.5.sixmonth"
          ],
          [
           "Control",
           "sub.222.7.one.year"
          ],
          [
           "Control",
           "sub.225.0.initial"
          ],
          [
           "Control",
           "sub.225.11.sick"
          ],
          [
           "Control",
           "sub.225.2.one.month"
          ],
          [
           "Control",
           "sub.225.6.ninemonth"
          ],
          [
           "Control",
           "sub.249.0.initial"
          ],
          [
           "Control",
           "sub.249.1.two.week"
          ],
          [
           "Control",
           "sub.249.2.one.month"
          ],
          [
           "Control",
           "sub.249.3.twomonth"
          ],
          [
           "Control",
           "sub.249.4.fourmonth"
          ],
          [
           "Control",
           "sub.249.5.sixmonth"
          ],
          [
           "Control",
           "sub.249.6.ninemonth"
          ],
          [
           "Control",
           "sub.260.0.initial"
          ],
          [
           "Control",
           "sub.260.4.fourmonth"
          ],
          [
           "Control",
           "sub.260.6.ninemonth"
          ],
          [
           "Control",
           "sub.260.7.one.year"
          ],
          [
           "Control",
           "sub.275.0.initial"
          ],
          [
           "Control",
           "sub.275.1.two.week"
          ],
          [
           "Control",
           "sub.275.2.one.month"
          ],
          [
           "Control",
           "sub.275.3.twomonth"
          ],
          [
           "Control",
           "sub.280.0.initial"
          ],
          [
           "Control",
           "sub.280.3.twomonth"
          ],
          [
           "Control",
           "sub.280.5.sixmonth"
          ],
          [
           "Control",
           "sub.280.6.ninemonth"
          ],
          [
           "Control",
           "sub.299.0.initial"
          ],
          [
           "Control",
           "sub.299.1.two.week"
          ],
          [
           "Control",
           "sub.299.3.twomonth"
          ],
          [
           "Control",
           "sub.299.5.sixmonth"
          ],
          [
           "Control",
           "sub.299.6.ninemonth"
          ],
          [
           "Control",
           "sub.309.1.two.week"
          ],
          [
           "Control",
           "sub.309.2.one.month"
          ],
          [
           "Control",
           "sub.309.3.twomonth"
          ],
          [
           "Control",
           "sub.309.5.sixmonth"
          ],
          [
           "Control",
           "sub.309.6.ninemonth"
          ],
          [
           "Control",
           "sub.309.7.one.year"
          ],
          [
           "Control",
           "sub.312.0.initial"
          ],
          [
           "Control",
           "sub.312.2.one.month"
          ],
          [
           "Control",
           "sub.312.4.fourmonth"
          ],
          [
           "Control",
           "sub.312.6.ninemonth"
          ],
          [
           "Control",
           "sub.321.0.initial"
          ],
          [
           "Control",
           "sub.321.2.one.month"
          ],
          [
           "Control",
           "sub.321.3.twomonth"
          ],
          [
           "Control",
           "sub.321.4.fourmonth"
          ],
          [
           "Control",
           "sub.321.5.sixmonth"
          ],
          [
           "Control",
           "sub.321.6.ninemonth"
          ],
          [
           "Control",
           "sub.321.7.one.year"
          ],
          [
           "Control",
           "sub.355.1.two.week"
          ],
          [
           "Control",
           "sub.355.11.sick"
          ],
          [
           "Control",
           "sub.355.12.sick"
          ],
          [
           "Control",
           "sub.355.3.twomonth"
          ],
          [
           "Control",
           "sub.355.4.fourmonth"
          ],
          [
           "Control",
           "sub.355.6.ninemonth"
          ],
          [
           "Control",
           "sub.360.0.initial"
          ],
          [
           "Control",
           "sub.360.2.one.month"
          ],
          [
           "Control",
           "sub.360.3.twomonth"
          ],
          [
           "Control",
           "sub.360.5.sixmonth"
          ],
          [
           "Control",
           "sub.360.6.ninemonth"
          ],
          [
           "Control",
           "sub.360.7.one.year"
          ],
          [
           "Control",
           "sub.364.2.one.month"
          ],
          [
           "Control",
           "sub.364.3.twomonth"
          ],
          [
           "Control",
           "sub.364.4.fourmonth"
          ],
          [
           "Control",
           "sub.364.5.sixmonth"
          ],
          [
           "Control",
           "sub.364.6.ninemonth"
          ],
          [
           "Control",
           "sub.370.1.two.week"
          ],
          [
           "Control",
           "sub.370.11.sick"
          ],
          [
           "Control",
           "sub.370.5.sixmonth"
          ],
          [
           "Control",
           "sub.376.0.initial"
          ],
          [
           "Control",
           "sub.376.1.two.week"
          ],
          [
           "Control",
           "sub.376.2.one.month"
          ],
          [
           "Control",
           "sub.376.6.ninemonth"
          ],
          [
           "Control",
           "sub.384.0.initial"
          ],
          [
           "Control",
           "sub.384.11.sick"
          ],
          [
           "Control",
           "sub.384.2.one.month"
          ],
          [
           "Control",
           "sub.384.3.twomonth"
          ],
          [
           "Control",
           "sub.394.0.initial"
          ],
          [
           "Control",
           "sub.394.1.two.week"
          ],
          [
           "Control",
           "sub.394.11.sick"
          ],
          [
           "Control",
           "sub.394.2.one.month"
          ],
          [
           "Control",
           "sub.394.3.twomonth"
          ],
          [
           "Control",
           "sub.394.5.sixmonth"
          ],
          [
           "Control",
           "sub.394.6.ninemonth"
          ],
          [
           "Control",
           "sub.394.7.one.year"
          ],
          [
           "Control",
           "sub.410.1.two.week"
          ],
          [
           "Control",
           "sub.410.2.one.month"
          ],
          [
           "Control",
           "sub.410.4.fourmonth"
          ],
          [
           "Control",
           "sub.410.6.ninemonth"
          ],
          [
           "Control",
           "sub.410.7.one.year"
          ],
          [
           "Control",
           "sub.416.0.initial"
          ],
          [
           "Control",
           "sub.416.4.fourmonth"
          ],
          [
           "Control",
           "sub.416.5.sixmonth"
          ],
          [
           "Control",
           "sub.416.6.ninemonth"
          ],
          [
           "Control",
           "sub.422.0.initial"
          ],
          [
           "Control",
           "sub.422.3.twomonth"
          ],
          [
           "Control",
           "sub.422.4.fourmonth"
          ],
          [
           "Control",
           "sub.422.5.sixmonth"
          ],
          [
           "Control",
           "sub.422.6.ninemonth"
          ],
          [
           "Control",
           "sub.422.7.one.year"
          ],
          [
           "Control",
           "sub.424.0.initial"
          ],
          [
           "Control",
           "sub.424.4.fourmonth"
          ],
          [
           "Control",
           "sub.424.5.sixmonth"
          ],
          [
           "Control",
           "sub.429.1.two.week"
          ],
          [
           "Control",
           "sub.429.11.sick"
          ],
          [
           "Control",
           "sub.429.4.fourmonth"
          ],
          [
           "Control",
           "sub.429.6.ninemonth"
          ],
          [
           "Control",
           "sub.436.0.initial"
          ],
          [
           "Control",
           "sub.436.1.two.week"
          ],
          [
           "Control",
           "sub.436.2.one.month"
          ],
          [
           "Control",
           "sub.436.4.fourmonth"
          ],
          [
           "Control",
           "sub.436.5.sixmonth"
          ],
          [
           "Control",
           "sub.436.6.ninemonth"
          ],
          [
           "Control",
           "sub.436.7.one.year"
          ],
          [
           "Control",
           "sub.438.0.initial"
          ],
          [
           "Control",
           "sub.438.1.two.week"
          ],
          [
           "Control",
           "sub.438.11.sick"
          ],
          [
           "Control",
           "sub.438.7.one.year"
          ],
          [
           "Control",
           "sub.470.1.two.week"
          ],
          [
           "Control",
           "sub.470.11.sick"
          ],
          [
           "Control",
           "sub.470.14.sick"
          ],
          [
           "Control",
           "sub.470.2.one.month"
          ],
          [
           "Control",
           "sub.470.3.twomonth"
          ],
          [
           "Control",
           "sub.470.5.sixmonth"
          ],
          [
           "Control",
           "sub.470.6.ninemonth"
          ],
          [
           "Control",
           "sub.470.7.one.year"
          ],
          [
           "Control",
           "sub.471.0.initial"
          ],
          [
           "Control",
           "sub.471.1.two.week"
          ],
          [
           "Control",
           "sub.471.4.fourmonth"
          ],
          [
           "Control",
           "sub.471.5.sixmonth"
          ],
          [
           "Control",
           "sub.471.6.ninemonth"
          ],
          [
           "Control",
           "sub.475.2.one.month"
          ],
          [
           "Control",
           "sub.475.3.twomonth"
          ],
          [
           "Control",
           "sub.475.4.fourmonth"
          ],
          [
           "Control",
           "sub.475.5.sixmonth"
          ],
          [
           "Control",
           "sub.484.11.sick"
          ],
          [
           "Control",
           "sub.484.2.one.month"
          ],
          [
           "Control",
           "sub.484.3.twomonth"
          ],
          [
           "Control",
           "sub.484.6.ninemonth"
          ],
          [
           "Control",
           "sub.524.1.two.week"
          ],
          [
           "Control",
           "sub.524.11.sick"
          ],
          [
           "Control",
           "sub.524.2.one.month"
          ],
          [
           "Control",
           "sub.524.3.twomonth"
          ],
          [
           "Control",
           "sub.524.4.fourmonth"
          ],
          [
           "Control",
           "sub.524.5.sixmonth"
          ],
          [
           "Control",
           "sub.541.2.one.month"
          ],
          [
           "Control",
           "sub.541.3.twomonth"
          ],
          [
           "Control",
           "sub.541.4.fourmonth"
          ],
          [
           "Control",
           "sub.541.6.ninemonth"
          ],
          [
           "Control",
           "sub.563.0.initial"
          ],
          [
           "Control",
           "sub.563.2.one.month"
          ],
          [
           "Control",
           "sub.563.3.twomonth"
          ],
          [
           "Control",
           "sub.563.4.fourmonth"
          ],
          [
           "Control",
           "sub.657.1.two.week"
          ],
          [
           "Control",
           "sub.657.3.twomonth"
          ],
          [
           "Control",
           "sub.657.5.sixmonth"
          ],
          [
           "Control",
           "sub.657.6.ninemonth"
          ],
          [
           "Control",
           "sub.659.3.twomonth"
          ],
          [
           "Control",
           "sub.659.4.fourmonth"
          ],
          [
           "Control",
           "sub.659.5.sixmonth"
          ],
          [
           "Control",
           "sub.659.6.ninemonth"
          ],
          [
           "Control",
           "sub.666.0.initial"
          ],
          [
           "Control",
           "sub.666.1.two.week"
          ],
          [
           "Control",
           "sub.666.2.one.month"
          ],
          [
           "Control",
           "sub.666.3.twomonth"
          ],
          [
           "Control",
           "sub.666.4.fourmonth"
          ],
          [
           "Control",
           "sub.666.5.sixmonth"
          ],
          [
           "Control",
           "sub.666.6.ninemonth"
          ],
          [
           "Control",
           "sub.666.7.one.year"
          ],
          [
           "Control",
           "sub.670.0.initial"
          ],
          [
           "Control",
           "sub.670.11.sick"
          ],
          [
           "Control",
           "sub.670.12.sick"
          ],
          [
           "Control",
           "sub.670.4.fourmonth"
          ],
          [
           "Control",
           "sub.670.6.ninemonth"
          ],
          [
           "Control",
           "sub.671.2.one.month"
          ],
          [
           "Control",
           "sub.671.3.twomonth"
          ],
          [
           "Control",
           "sub.671.4.fourmonth"
          ],
          [
           "Control",
           "sub.671.5.sixmonth"
          ],
          [
           "Control",
           "sub.671.6.ninemonth"
          ],
          [
           "Control",
           "sub.671.7.one.year"
          ],
          [
           "Control",
           "sub.676.11.sick"
          ],
          [
           "Control",
           "sub.676.12.sick"
          ],
          [
           "Control",
           "sub.676.2.one.month"
          ],
          [
           "Control",
           "sub.676.3.twomonth"
          ],
          [
           "Control",
           "sub.676.4.fourmonth"
          ],
          [
           "Control",
           "sub.676.5.sixmonth"
          ],
          [
           "Control",
           "sub.676.6.ninemonth"
          ],
          [
           "Control",
           "sub.676.7.one.year"
          ],
          [
           "Control",
           "sub.708.0.initial"
          ],
          [
           "Control",
           "sub.708.1.two.week"
          ],
          [
           "Control",
           "sub.708.11.sick"
          ],
          [
           "Control",
           "sub.708.3.twomonth"
          ],
          [
           "Control",
           "sub.708.4.fourmonth"
          ],
          [
           "Control",
           "sub.708.5.sixmonth"
          ],
          [
           "Control",
           "sub.708.7.one.year"
          ],
          [
           "Control",
           "sub.709.0.initial"
          ],
          [
           "Control",
           "sub.709.3.twomonth"
          ],
          [
           "Control",
           "sub.709.4.fourmonth"
          ],
          [
           "Control",
           "sub.709.5.sixmonth"
          ],
          [
           "Control",
           "sub.711.0.initial"
          ],
          [
           "Control",
           "sub.711.1.two.week"
          ],
          [
           "Control",
           "sub.711.11.sick"
          ],
          [
           "Control",
           "sub.711.2.one.month"
          ],
          [
           "Control",
           "sub.711.3.twomonth"
          ],
          [
           "Control",
           "sub.711.4.fourmonth"
          ],
          [
           "Control",
           "sub.731.0.initial"
          ],
          [
           "Control",
           "sub.731.11.sick"
          ],
          [
           "Control",
           "sub.731.2.one.month"
          ],
          [
           "Control",
           "sub.731.3.twomonth"
          ],
          [
           "Control",
           "sub.735.1.two.week"
          ],
          [
           "Control",
           "sub.735.2.one.month"
          ],
          [
           "Control",
           "sub.735.4.fourmonth"
          ],
          [
           "Control",
           "sub.735.6.ninemonth"
          ],
          [
           "Control",
           "sub.738.0.initial"
          ],
          [
           "Control",
           "sub.738.1.two.week"
          ],
          [
           "Control",
           "sub.738.2.one.month"
          ],
          [
           "Control",
           "sub.738.3.twomonth"
          ],
          [
           "Control",
           "sub.749.11.sick"
          ],
          [
           "Control",
           "sub.749.2.one.month"
          ],
          [
           "Control",
           "sub.749.3.twomonth"
          ],
          [
           "Control",
           "sub.749.4.fourmonth"
          ],
          [
           "Control",
           "sub.749.5.sixmonth"
          ],
          [
           "Control",
           "sub.760.0.initial"
          ],
          [
           "Control",
           "sub.760.12.sick"
          ],
          [
           "Control",
           "sub.760.13.sick"
          ],
          [
           "Control",
           "sub.760.2.one.month"
          ],
          [
           "Control",
           "sub.760.3.twomonth"
          ],
          [
           "Control",
           "sub.760.4.fourmonth"
          ],
          [
           "Control",
           "sub.760.5.sixmonth"
          ],
          [
           "Control",
           "sub.777.0.initial"
          ],
          [
           "Control",
           "sub.777.1.two.week"
          ],
          [
           "Control",
           "sub.777.2.one.month"
          ],
          [
           "Control",
           "sub.777.6.ninemonth"
          ]
         ],
         "hovertemplate": "predict %{y}, label: %{x}<br>sampleID: %{customdata[1]}<br>symptom: %{customdata[0]}",
         "legendgroup": "control_train",
         "marker": {
          "color": "#636efa",
          "symbol": "circle"
         },
         "mode": "markers",
         "name": "control_train",
         "orientation": "v",
         "showlegend": true,
         "type": "scatter",
         "x": [
          0.2,
          4,
          6.2,
          9.2,
          12.6,
          0.1,
          2,
          4.1,
          6.1,
          9.4,
          12.1,
          0.2,
          0.7,
          1.8,
          3.9,
          6.5,
          9.2,
          1,
          2.1,
          6.7,
          9,
          0.1,
          0.5,
          1.2,
          2.3,
          4.1,
          6.1,
          9.2,
          2,
          4.3,
          9.9,
          12.2,
          1,
          2.1,
          6.5,
          9,
          0.2,
          0.4,
          1.1,
          2.1,
          0.1,
          0.5,
          1,
          2,
          4.2,
          6.2,
          12,
          1.1,
          2.1,
          4,
          6.3,
          12.9,
          0.2,
          0.7,
          1.1,
          2.1,
          3.9,
          6.4,
          12.1,
          0.2,
          0.4,
          1.1,
          2,
          4.7,
          6.3,
          0.2,
          0.5,
          1,
          2.1,
          4.2,
          6.5,
          9.2,
          1,
          2,
          6.3,
          12.4,
          0.1,
          0.5,
          3.1,
          2,
          4.1,
          7,
          9.3,
          0.3,
          0.5,
          1.9,
          4.4,
          6.1,
          0.4,
          1.3,
          2,
          4,
          6,
          8.4,
          12.1,
          0.1,
          0.5,
          4,
          6.1,
          12.7,
          0.2,
          0.4,
          0.9,
          2,
          12.8,
          0.1,
          0.5,
          3.1,
          1.1,
          2.1,
          3.7,
          0.2,
          0.4,
          1.7,
          6.4,
          7.4,
          7.9,
          7.5,
          1.1,
          2.2,
          4.1,
          6.1,
          12.1,
          0.1,
          11.3,
          1,
          9.3,
          0.1,
          0.3,
          0.9,
          2.3,
          4.2,
          6.2,
          9.6,
          0.4,
          4.1,
          9.6,
          12.6,
          0.2,
          0.5,
          1.1,
          2,
          0.4,
          2.2,
          6.4,
          9,
          0.2,
          0.7,
          1.9,
          6,
          9.2,
          0.5,
          0.9,
          2,
          6,
          9,
          12.2,
          0.5,
          1.1,
          4.1,
          9.1,
          0.3,
          1,
          1.9,
          3.9,
          6.3,
          9.2,
          12.1,
          0.5,
          0.3,
          0.8,
          1.9,
          3.9,
          9.2,
          0.4,
          0.9,
          2,
          6.1,
          11,
          12.1,
          1,
          2.2,
          4.2,
          6.3,
          9.2,
          0.4,
          3.9,
          6.2,
          0.2,
          0.5,
          1.1,
          9.2,
          0.1,
          0.2,
          1.1,
          1.9,
          0.2,
          0.4,
          0.7,
          1.1,
          2.1,
          6.2,
          9.4,
          13.3,
          0.3,
          1,
          4.2,
          9.5,
          12.7,
          0.9,
          4.1,
          6.3,
          9.4,
          0.8,
          2,
          4.2,
          6.2,
          9.4,
          12.3,
          0.5,
          4,
          6.6,
          0.5,
          8.7,
          4.1,
          9.2,
          0.2,
          0.4,
          1.1,
          4.3,
          6.1,
          9.3,
          12.2,
          0.2,
          0.4,
          1.7,
          12.3,
          0.4,
          0.9,
          10.5,
          1.1,
          1.8,
          7.3,
          9.2,
          12.5,
          0.2,
          0.5,
          4.2,
          7.6,
          9.7,
          1.1,
          2,
          4.1,
          6.1,
          1,
          1,
          2.2,
          9.5,
          0.4,
          9.2,
          1,
          2,
          4.1,
          6.2,
          1.1,
          2.2,
          4.3,
          11.7,
          0.1,
          1.2,
          2.1,
          4.1,
          0.6,
          2.1,
          6.4,
          9,
          2.1,
          3.9,
          6.5,
          9.2,
          0.2,
          0.6,
          0.9,
          1.9,
          4,
          6.3,
          9.3,
          12.3,
          2.5,
          5.7,
          11.6,
          4.2,
          9.7,
          0.9,
          1.9,
          4,
          6,
          8.5,
          12.2,
          2.1,
          12.9,
          0.9,
          2,
          4.2,
          6.2,
          9.2,
          12.2,
          0.1,
          0.7,
          9.9,
          1.6,
          4.1,
          6.4,
          12.2,
          0.5,
          2,
          4,
          6.2,
          0.3,
          0.5,
          0.7,
          1.1,
          2.1,
          5.6,
          0.3,
          0.4,
          1,
          2.1,
          0.4,
          0.9,
          4.3,
          9.6,
          0.2,
          0.4,
          1,
          1.8,
          0.3,
          1.1,
          2.1,
          4.1,
          6.1,
          0.3,
          0.6,
          1,
          0.8,
          1.9,
          3.9,
          7,
          0.2,
          0.5,
          0.9,
          9.1
         ],
         "xaxis": "x",
         "y": [
          0.7794457437242275,
          3.9591217694301735,
          5.339464559217113,
          8.927553211845954,
          11.78907207246377,
          1.0144527951689637,
          2.6293786848618392,
          3.9595534581135596,
          5.539295186493831,
          7.978201565865303,
          11.235192930828694,
          0.5989665858604288,
          1.5149430975898805,
          2.6656925083324348,
          3.8992060318342503,
          6.370538915939257,
          8.565678145866803,
          1.245620348361292,
          2.033366496980128,
          6.65929531957075,
          8.73925007667506,
          0.706944437419394,
          1.2203262291211308,
          1.8470066540764165,
          3.0128692962241286,
          4.119578397668288,
          5.771752666680933,
          8.727533604226604,
          2.4572064033277896,
          4.662551754574491,
          9.503790323297151,
          11.346434443229919,
          1.5684608527110595,
          2.4109422546858346,
          6.492129372083514,
          8.759771945837265,
          0.4926342841847636,
          0.6468653267744793,
          1.22910578928013,
          2.373201526106064,
          0.44480808066093686,
          0.7422019004584854,
          1.280640898371231,
          1.9208340760765519,
          3.8780970350779986,
          4.866099490411561,
          10.824625577339525,
          1.975393585248732,
          2.7916286497822314,
          4.246922607936943,
          6.12458265316766,
          11.797353486496734,
          0.62404583912095,
          0.92633013965151,
          1.5377455605242352,
          1.9277859295634554,
          3.2231672711346593,
          5.045311316342,
          10.772880165247074,
          0.7490331466035561,
          0.6163437032552882,
          1.1773460656307821,
          1.9609027715870955,
          4.73241884931352,
          5.4265371586902,
          0.4853833503927463,
          0.7534405422492996,
          1.0378170674730511,
          1.9492522184091967,
          3.7129360531301274,
          5.560672811049405,
          7.24548667038846,
          2.1814926791264724,
          2.6406385074102365,
          5.770946951719117,
          11.242999085149078,
          0.4593002524640827,
          0.8948069688305439,
          3.0896939731483832,
          2.6826828792585404,
          3.418050296594569,
          6.887008090243954,
          8.420098596168694,
          0.553689891965491,
          1.3667829051065095,
          3.048409871159535,
          5.144433582051186,
          6.061772212794245,
          1.1473884086997859,
          1.5010768319459726,
          1.9771730297360532,
          3.4235655276920034,
          5.28475411126868,
          8.163026516229213,
          11.313119273070805,
          0.46780005966216326,
          0.9091192832101646,
          4.610019886496643,
          6.183033520001951,
          12.126038625070812,
          0.4856228380548808,
          0.7968342664099309,
          1.1337698985294518,
          2.4365058139570204,
          11.469352090840223,
          0.8875872588262678,
          0.688011187125327,
          3.2317549934714087,
          1.3172983683980684,
          2.1823499498435543,
          3.614174109527311,
          0.3966891152480045,
          0.5790946566053436,
          1.9238552223289322,
          6.617858335346509,
          7.330747371342798,
          7.388298650531314,
          6.4133158253555,
          1.0559151087635736,
          2.324177470646702,
          4.33735092269418,
          6.4350478229817,
          11.216255937022845,
          0.9546155230945466,
          10.812213860972278,
          1.5563494609707564,
          9.136913446939161,
          0.41645894563856056,
          0.5740966375301594,
          1.2749992944431856,
          2.5355315637877434,
          4.18889398680787,
          5.508248654475365,
          9.27181632635413,
          0.6347885145950789,
          4.383786801457351,
          8.144999239654316,
          11.78458740724286,
          0.5856748664845687,
          0.7015270971687565,
          1.5748265441528422,
          2.416567671334361,
          0.7065714946044652,
          2.667498992706946,
          6.999817930123965,
          9.002039922853347,
          0.4996966363596559,
          0.720349281833455,
          1.9609480805101798,
          4.995591869107331,
          9.052370623167862,
          0.673546364958172,
          0.9793465703004645,
          2.412735452187738,
          5.96745803310622,
          8.173100986321485,
          11.63643354029932,
          0.7683838282871555,
          1.214998163841286,
          4.1052544031211236,
          8.861955359671809,
          0.6668916459507875,
          1.2392658475448355,
          2.4116951580586123,
          4.131310002835887,
          6.805793839643956,
          9.143557503948099,
          10.376543038565677,
          0.658855650096368,
          0.5607731149410244,
          0.8803085424207125,
          1.742302746863027,
          3.4705199486255895,
          8.717088817094195,
          1.4074500218254902,
          1.4589117134227945,
          2.6137035274756695,
          6.445804399572154,
          10.961698343336655,
          11.679458632149151,
          1.1300138799115635,
          2.155681642773072,
          4.128979914069941,
          5.9453974115481225,
          8.942190194982794,
          0.7892270594366716,
          3.6566835229094283,
          6.774599089355847,
          0.4511896137040517,
          0.7577887814155336,
          1.3101078616175292,
          8.952216950822836,
          0.4608510085482704,
          0.9038674079336052,
          1.5695733188059677,
          2.5187950038340814,
          0.5477039804275698,
          0.667095143703543,
          0.9963709132947368,
          1.1715946889093338,
          2.5503087088947547,
          5.7190328728734485,
          8.258228009953008,
          12.37848035939855,
          0.6474862233780141,
          1.1666949932928525,
          3.07210898692746,
          8.850583850633024,
          11.276613770111654,
          1.0973624719212585,
          3.5530051157959024,
          5.50953713071707,
          8.686707946779817,
          1.0216144885560836,
          1.8115499498141592,
          3.1484014247047414,
          4.653143535664001,
          8.612271845001713,
          11.510420251799863,
          0.7705645337292613,
          4.774928337737262,
          6.911497680233185,
          1.1015803499152412,
          8.873623510630315,
          4.446688191079027,
          9.210491301020333,
          0.42075414817043955,
          0.7130778813122307,
          1.0747380690953612,
          3.5974302637975626,
          5.350889704525593,
          6.566721423359577,
          10.860320705311626,
          0.6826147212375667,
          0.7889171495058062,
          3.074655103606137,
          11.752904832566728,
          0.8299570469135632,
          1.2287731287212402,
          10.322969132357319,
          1.2779070197702729,
          1.6546648501480694,
          6.666988039122191,
          9.059736707303935,
          12.04698115327402,
          0.49546543370619195,
          0.9227735572348591,
          4.751494108536562,
          7.256920701560494,
          8.974775508103692,
          1.3110522630269563,
          1.9120625645521707,
          4.027637665341952,
          5.945884854424705,
          1.3894854911082457,
          1.3527805977359828,
          2.0811738929359627,
          8.930707339958476,
          0.9540144108230072,
          8.478778125636442,
          1.3440478469274935,
          2.1702629428213127,
          4.4879239768422625,
          6.250174968522914,
          1.6150215635623464,
          2.8321469365506244,
          4.042845044460068,
          9.833337762491315,
          0.9324636886095873,
          1.599753692413913,
          1.9673567382018533,
          3.4617516414560816,
          1.4527969878167473,
          2.234929597230705,
          6.409655474196953,
          8.961783516328435,
          2.019154572774848,
          4.410062802004869,
          6.483533349773222,
          8.757163862621743,
          0.7229945034964458,
          0.7596848592122856,
          1.30557660534957,
          2.1515853272835272,
          3.944417651407746,
          6.187500350991978,
          8.246271488604444,
          11.197352659495563,
          2.841388232771852,
          5.510569601662161,
          10.649546999731344,
          5.072109897856581,
          9.310020744962678,
          1.235625509265044,
          1.883722553172875,
          3.856243952100884,
          5.822082916614991,
          7.958782101406001,
          11.58347407014287,
          2.341310628758305,
          11.616956367152738,
          1.171170039036319,
          2.3859587431726954,
          4.013358964148378,
          6.546976665478124,
          9.20998840494094,
          11.563520805811931,
          0.36573312395643903,
          1.3343337334813177,
          9.552332153172134,
          2.5394129581705567,
          3.8652755721332914,
          5.889839325872822,
          11.557137933642876,
          0.8297369162789902,
          1.9725341655469752,
          3.5855714424702896,
          5.316409410573753,
          1.0015350115479076,
          0.9228961999546729,
          1.1675014080385662,
          1.600989010979331,
          2.3965644074747448,
          5.457277645046828,
          0.6854883880415196,
          0.743980607122319,
          1.2005517165009867,
          2.5595636645584308,
          0.6972673618429652,
          1.2429023501796468,
          4.4955702988405495,
          8.964254735898354,
          0.8531560739159203,
          1.0926330394621795,
          1.9864422316408994,
          2.6505459564036853,
          0.541294779794194,
          1.043089550087738,
          2.1781184182915774,
          4.163966173109291,
          5.831824317629562,
          0.6843833594291984,
          0.9837224057638269,
          1.3888110321279439,
          1.0569539128121628,
          3.9299561263527187,
          4.737211540297931,
          6.696115525253785,
          0.7268399312272562,
          0.9136527557186319,
          1.3875527589097305,
          8.647717499178016
         ],
         "yaxis": "y"
        },
        {
         "customdata": [
          [
           "Control",
           "sub.46.2.one.month"
          ],
          [
           "Control",
           "sub.46.3.twomonth"
          ],
          [
           "Control",
           "sub.46.4.fourmonth"
          ],
          [
           "Control",
           "sub.46.5.sixmonth"
          ],
          [
           "Control",
           "sub.46.7.one.year"
          ],
          [
           "Control",
           "sub.111.0.initial"
          ],
          [
           "Control",
           "sub.111.1.two.week"
          ],
          [
           "Control",
           "sub.111.2.one.month"
          ],
          [
           "Control",
           "sub.111.3.twomonth"
          ],
          [
           "Control",
           "sub.111.4.fourmonth"
          ],
          [
           "Control",
           "sub.111.6.ninemonth"
          ],
          [
           "Control",
           "sub.111.7.one.year"
          ],
          [
           "Control",
           "sub.134.1.two.week"
          ],
          [
           "Control",
           "sub.134.2.one.month"
          ],
          [
           "Control",
           "sub.134.3.twomonth"
          ],
          [
           "Control",
           "sub.134.4.fourmonth"
          ],
          [
           "Control",
           "sub.139.0.initial"
          ],
          [
           "Control",
           "sub.139.1.two.week"
          ],
          [
           "Control",
           "sub.139.2.one.month"
          ],
          [
           "Control",
           "sub.139.3.twomonth"
          ],
          [
           "Control",
           "sub.139.4.fourmonth"
          ],
          [
           "Control",
           "sub.139.6.ninemonth"
          ],
          [
           "Control",
           "sub.164.0.initial"
          ],
          [
           "Control",
           "sub.164.2.one.month"
          ],
          [
           "Control",
           "sub.164.3.twomonth"
          ],
          [
           "Control",
           "sub.164.4.fourmonth"
          ],
          [
           "Control",
           "sub.164.6.ninemonth"
          ],
          [
           "Control",
           "sub.164.7.one.year"
          ],
          [
           "Control",
           "sub.209.1.two.week"
          ],
          [
           "Control",
           "sub.209.2.one.month"
          ],
          [
           "Control",
           "sub.209.3.twomonth"
          ],
          [
           "Control",
           "sub.209.4.fourmonth"
          ],
          [
           "Control",
           "sub.226.0.initial"
          ],
          [
           "Control",
           "sub.226.2.one.month"
          ],
          [
           "Control",
           "sub.226.3.twomonth"
          ],
          [
           "Control",
           "sub.226.4.fourmonth"
          ],
          [
           "Control",
           "sub.226.5.sixmonth"
          ],
          [
           "Control",
           "sub.226.7.one.year"
          ],
          [
           "Control",
           "sub.233.0.initial"
          ],
          [
           "Control",
           "sub.233.2.one.month"
          ],
          [
           "Control",
           "sub.233.3.twomonth"
          ],
          [
           "Control",
           "sub.233.4.fourmonth"
          ],
          [
           "Control",
           "sub.233.5.sixmonth"
          ],
          [
           "Control",
           "sub.233.7.one.year"
          ],
          [
           "Control",
           "sub.397.2.one.month"
          ],
          [
           "Control",
           "sub.397.3.twomonth"
          ],
          [
           "Control",
           "sub.397.5.sixmonth"
          ],
          [
           "Control",
           "sub.397.6.ninemonth"
          ],
          [
           "Control",
           "sub.397.7.one.year"
          ],
          [
           "Control",
           "sub.427.0.initial"
          ],
          [
           "Control",
           "sub.427.2.one.month"
          ],
          [
           "Control",
           "sub.427.3.twomonth"
          ],
          [
           "Control",
           "sub.427.4.fourmonth"
          ],
          [
           "Control",
           "sub.427.5.sixmonth"
          ],
          [
           "Control",
           "sub.427.6.ninemonth"
          ],
          [
           "Control",
           "sub.498.2.one.month"
          ],
          [
           "Control",
           "sub.498.3.twomonth"
          ],
          [
           "Control",
           "sub.498.4.fourmonth"
          ],
          [
           "Control",
           "sub.498.7.one.year"
          ],
          [
           "Control",
           "sub.630.0.initial"
          ],
          [
           "Control",
           "sub.630.3.twomonth"
          ],
          [
           "Control",
           "sub.630.4.fourmonth"
          ],
          [
           "Control",
           "sub.630.5.sixmonth"
          ],
          [
           "Control",
           "sub.630.6.ninemonth"
          ],
          [
           "Control",
           "sub.652.0.initial"
          ],
          [
           "Control",
           "sub.652.11.sick"
          ],
          [
           "Control",
           "sub.652.2.one.month"
          ],
          [
           "Control",
           "sub.652.4.fourmonth"
          ],
          [
           "Control",
           "sub.652.5.sixmonth"
          ],
          [
           "Control",
           "sub.652.7.one.year"
          ]
         ],
         "hovertemplate": "predict %{y}, label: %{x}<br>sampleID: %{customdata[1]}<br>symptom: %{customdata[0]}",
         "legendgroup": "control_test",
         "marker": {
          "color": "#EF553B",
          "symbol": "circle"
         },
         "mode": "markers",
         "name": "control_test",
         "orientation": "v",
         "showlegend": true,
         "type": "scatter",
         "x": [
          1.1,
          1.8,
          4.1,
          6.3,
          12.2,
          0.2,
          0.4,
          1.1,
          2.2,
          4,
          9.3,
          12.1,
          0.7,
          1.4,
          2.1,
          4.1,
          0.1,
          0.4,
          1.1,
          2.6,
          4.3,
          9.2,
          0.2,
          1.1,
          1.9,
          4.1,
          9.1,
          12.6,
          0.5,
          1,
          2.1,
          3.9,
          0.2,
          1.4,
          2.2,
          4.1,
          6.7,
          12.9,
          0.5,
          1,
          2.2,
          3.9,
          6,
          12.4,
          0.8,
          1.9,
          6.5,
          9.3,
          12.5,
          0.6,
          1,
          2.1,
          4.1,
          6.3,
          9,
          1.4,
          2.4,
          4,
          12.6,
          0.2,
          2.3,
          4.1,
          6.2,
          9.1,
          0.3,
          4.4,
          1.1,
          4.1,
          6.2,
          12.3
         ],
         "xaxis": "x",
         "y": [
          2.3349585210646118,
          4.045342554203285,
          3.2288508284256845,
          7.279065384647829,
          1.4962602152362603,
          1.0174114269353196,
          1.00841137649223,
          1.9098961447578837,
          2.491293917276835,
          4.272156296751035,
          7.029159061419617,
          8.491308426147235,
          6.209032487884119,
          5.862185183320963,
          4.255471077490916,
          8.78040564019825,
          1.2019154451538483,
          1.4713033464706116,
          1.9818470430855992,
          3.61349684564393,
          3.584226873599539,
          7.761338123069274,
          4.1028651834295555,
          1.5370445883730237,
          1.3657990402317364,
          2.682548655182396,
          7.7687403275735125,
          8.378720748687627,
          2.1244829174650426,
          2.1458876074142648,
          3.271655419427668,
          3.4920720608200613,
          1.2274829933191396,
          3.1391962401653823,
          4.048650258016711,
          5.00145883298673,
          4.5602170313003905,
          10.393944425957901,
          1.6431219767811747,
          2.510971517400867,
          4.9988958615033265,
          4.798467786916713,
          4.81140658225832,
          7.684077510622509,
          4.617954842050238,
          2.0326548328347616,
          4.134562548842647,
          5.354384665801007,
          8.246267881088148,
          2.0960400416612535,
          2.0863513274137087,
          4.049172670577728,
          5.1285391253010255,
          5.766110787929453,
          7.6713521347698395,
          3.939261199256056,
          4.836614585924723,
          5.953173806296072,
          10.01186904848043,
          1.4187841470231657,
          6.442250326586024,
          4.851201019788182,
          8.834139489426699,
          8.304453622076313,
          2.1050051735043147,
          4.963114861418933,
          2.0842745597252894,
          5.921045133786821,
          6.254501542357023,
          8.382469117476717
         ],
         "yaxis": "y"
        },
        {
         "customdata": [
          [
           "Symptomatic",
           "sub.2.1.two.week"
          ],
          [
           "Resolved",
           "sub.2.11.sick"
          ],
          [
           "Resolved",
           "sub.2.12.sick"
          ],
          [
           "Resolved",
           "sub.2.13.sick"
          ],
          [
           "Resolved",
           "sub.2.14.sick"
          ],
          [
           "Resolved",
           "sub.2.15.sick"
          ],
          [
           "Resolved",
           "sub.2.16.sick"
          ],
          [
           "Resolved",
           "sub.2.17.sick"
          ],
          [
           "Symptomatic",
           "sub.2.2.one.month"
          ],
          [
           "Symptomatic",
           "sub.2.4.fourmonth"
          ],
          [
           "Resolved",
           "sub.2.5.sixmonth"
          ],
          [
           "Resolved",
           "sub.2.6.ninemonth"
          ],
          [
           "Pre-symptoms",
           "sub.5.0.initial"
          ],
          [
           "Symptomatic",
           "sub.5.2.one.month"
          ],
          [
           "Symptomatic",
           "sub.5.3.twomonth"
          ],
          [
           "Symptomatic",
           "sub.5.4.fourmonth"
          ],
          [
           "Pre-symptoms",
           "sub.8.0.initial"
          ],
          [
           "Pre-symptoms",
           "sub.8.1.two.week"
          ],
          [
           "Symptomatic",
           "sub.8.2.one.month"
          ],
          [
           "Symptomatic",
           "sub.8.5.sixmonth"
          ],
          [
           "Resolved",
           "sub.8.6.ninemonth"
          ],
          [
           "Resolved",
           "sub.8.7.one.year"
          ],
          [
           "Pre-symptoms",
           "sub.13.0.initial"
          ],
          [
           "Symptomatic",
           "sub.13.2.one.month"
          ],
          [
           "Symptomatic",
           "sub.13.3.twomonth"
          ],
          [
           "Symptomatic",
           "sub.13.4.fourmonth"
          ],
          [
           "Resolved",
           "sub.13.5.sixmonth"
          ],
          [
           "Resolved",
           "sub.13.7.one.year"
          ],
          [
           "Resolved",
           "sub.16.12.sick"
          ],
          [
           "Pre-symptoms",
           "sub.16.2.one.month"
          ],
          [
           "Resolved",
           "sub.16.5.sixmonth"
          ],
          [
           "Resolved",
           "sub.16.6.ninemonth"
          ],
          [
           "Resolved",
           "sub.16.7.one.year"
          ],
          [
           "Pre-symptoms",
           "sub.28.1.two.week"
          ],
          [
           "Pre-symptoms",
           "sub.28.11.sick"
          ],
          [
           "Symptomatic",
           "sub.28.2.one.month"
          ],
          [
           "Resolved",
           "sub.28.3.twomonth"
          ],
          [
           "Resolved",
           "sub.29.11.sick"
          ],
          [
           "Resolved",
           "sub.29.2.one.month"
          ],
          [
           "Resolved",
           "sub.29.3.twomonth"
          ],
          [
           "Resolved",
           "sub.29.4.fourmonth"
          ],
          [
           "Resolved",
           "sub.29.5.sixmonth"
          ],
          [
           "Resolved",
           "sub.29.6.ninemonth"
          ],
          [
           "Resolved",
           "sub.29.7.one.year"
          ],
          [
           "unknown",
           "sub.45.3.twomonth"
          ],
          [
           "unknown",
           "sub.45.4.fourmonth"
          ],
          [
           "unknown",
           "sub.45.5.sixmonth"
          ],
          [
           "unknown",
           "sub.45.6.ninemonth"
          ],
          [
           "unknown",
           "sub.45.7.one.year"
          ],
          [
           "Pre-symptoms",
           "sub.57.1.two.week"
          ],
          [
           "Symptomatic",
           "sub.57.11.sick"
          ],
          [
           "Pre-symptoms",
           "sub.57.2.one.month"
          ],
          [
           "Symptomatic",
           "sub.57.4.fourmonth"
          ],
          [
           "Symptomatic",
           "sub.57.5.sixmonth"
          ],
          [
           "Resolved",
           "sub.57.6.ninemonth"
          ],
          [
           "Symptomatic",
           "sub.60.0.initial"
          ],
          [
           "Symptomatic",
           "sub.60.1.two.week"
          ],
          [
           "Symptomatic",
           "sub.60.2.one.month"
          ],
          [
           "Resolved",
           "sub.60.3.twomonth"
          ],
          [
           "Resolved",
           "sub.60.4.fourmonth"
          ],
          [
           "Resolved",
           "sub.60.5.sixmonth"
          ],
          [
           "Resolved",
           "sub.60.6.ninemonth"
          ],
          [
           "Pre-symptoms",
           "sub.78.0.initial"
          ],
          [
           "Pre-symptoms",
           "sub.78.1.two.week"
          ],
          [
           "Pre-symptoms",
           "sub.78.2.one.month"
          ],
          [
           "Pre-symptoms",
           "sub.78.3.twomonth"
          ],
          [
           "Pre-symptoms",
           "sub.78.4.fourmonth"
          ],
          [
           "Symptomatic",
           "sub.78.5.sixmonth"
          ],
          [
           "Symptomatic",
           "sub.78.6.ninemonth"
          ],
          [
           "Resolved",
           "sub.78.7.one.year"
          ],
          [
           "Pre-symptoms",
           "sub.84.0.initial"
          ],
          [
           "Symptomatic",
           "sub.84.1.two.week"
          ],
          [
           "Symptomatic",
           "sub.84.2.one.month"
          ],
          [
           "Resolved",
           "sub.84.3.twomonth"
          ],
          [
           "Resolved",
           "sub.84.4.fourmonth"
          ],
          [
           "Resolved",
           "sub.84.7.one.year"
          ],
          [
           "Pre-symptoms",
           "sub.89.0.initial"
          ],
          [
           "Symptomatic",
           "sub.89.1.two.week"
          ],
          [
           "Symptomatic",
           "sub.89.11.sick"
          ],
          [
           "Resolved",
           "sub.89.12.sick"
          ],
          [
           "Resolved",
           "sub.89.13.sick"
          ],
          [
           "Symptomatic",
           "sub.89.2.one.month"
          ],
          [
           "Symptomatic",
           "sub.89.3.twomonth"
          ],
          [
           "Pre-symptoms",
           "sub.90.1.two.week"
          ],
          [
           "Resolved",
           "sub.90.13.sick"
          ],
          [
           "Symptomatic",
           "sub.90.3.twomonth"
          ],
          [
           "Resolved",
           "sub.90.5.sixmonth"
          ],
          [
           "Resolved",
           "sub.90.7.one.year"
          ],
          [
           "Pre-symptoms",
           "sub.94.1.two.week"
          ],
          [
           "Resolved",
           "sub.94.11.sick"
          ],
          [
           "Pre-symptoms",
           "sub.94.2.one.month"
          ],
          [
           "Pre-symptoms",
           "sub.94.3.twomonth"
          ],
          [
           "Resolved",
           "sub.94.6.ninemonth"
          ],
          [
           "Pre-symptoms",
           "sub.144.0.initial"
          ],
          [
           "Pre-symptoms",
           "sub.144.1.two.week"
          ],
          [
           "Resolved",
           "sub.144.11.sick"
          ],
          [
           "Resolved",
           "sub.144.12.sick"
          ],
          [
           "Symptomatic",
           "sub.144.3.twomonth"
          ],
          [
           "Resolved",
           "sub.144.5.sixmonth"
          ],
          [
           "Resolved",
           "sub.144.6.ninemonth"
          ],
          [
           "Resolved",
           "sub.144.7.one.year"
          ],
          [
           "Symptomatic",
           "sub.159.1.two.week"
          ],
          [
           "Resolved",
           "sub.159.13.sick"
          ],
          [
           "Symptomatic",
           "sub.159.4.fourmonth"
          ],
          [
           "Resolved",
           "sub.159.6.ninemonth"
          ],
          [
           "Resolved",
           "sub.159.7.one.year"
          ],
          [
           "Pre-symptoms",
           "sub.179.1.two.week"
          ],
          [
           "Symptomatic",
           "sub.179.11.sick"
          ],
          [
           "Symptomatic",
           "sub.179.12.sick"
          ],
          [
           "Resolved",
           "sub.179.13.sick"
          ],
          [
           "Symptomatic",
           "sub.179.2.one.month"
          ],
          [
           "Symptomatic",
           "sub.179.3.twomonth"
          ],
          [
           "Symptomatic",
           "sub.179.4.fourmonth"
          ],
          [
           "Symptomatic",
           "sub.179.5.sixmonth"
          ],
          [
           "Resolved",
           "sub.179.6.ninemonth"
          ],
          [
           "Resolved",
           "sub.179.7.one.year"
          ],
          [
           "Pre-symptoms",
           "sub.184.1.two.week"
          ],
          [
           "Symptomatic",
           "sub.184.2.one.month"
          ],
          [
           "Resolved",
           "sub.184.4.fourmonth"
          ],
          [
           "Resolved",
           "sub.184.6.ninemonth"
          ],
          [
           "Pre-symptoms",
           "sub.198.0.initial"
          ],
          [
           "Symptomatic",
           "sub.198.1.two.week"
          ],
          [
           "Symptomatic",
           "sub.198.2.one.month"
          ],
          [
           "Resolved",
           "sub.198.3.twomonth"
          ],
          [
           "Resolved",
           "sub.198.4.fourmonth"
          ],
          [
           "Resolved",
           "sub.198.6.ninemonth"
          ],
          [
           "Resolved",
           "sub.228.12.sick"
          ],
          [
           "Resolved",
           "sub.228.3.twomonth"
          ],
          [
           "Resolved",
           "sub.228.7.one.year"
          ],
          [
           "Pre-symptoms",
           "sub.237.1.two.week"
          ],
          [
           "Resolved",
           "sub.237.11.sick"
          ],
          [
           "Symptomatic",
           "sub.237.12.sick"
          ],
          [
           "Symptomatic",
           "sub.237.3.twomonth"
          ],
          [
           "Resolved",
           "sub.237.4.fourmonth"
          ],
          [
           "Pre-symptoms",
           "sub.246.1.two.week"
          ],
          [
           "Pre-symptoms",
           "sub.246.2.one.month"
          ],
          [
           "Pre-symptoms",
           "sub.246.3.twomonth"
          ],
          [
           "Symptomatic",
           "sub.246.4.fourmonth"
          ],
          [
           "Pre-symptoms",
           "sub.247.0.initial"
          ],
          [
           "Pre-symptoms",
           "sub.247.11.sick"
          ],
          [
           "Symptomatic",
           "sub.247.12.sick"
          ],
          [
           "Symptomatic",
           "sub.247.13.sick"
          ],
          [
           "Resolved",
           "sub.247.15.sick"
          ],
          [
           "Resolved",
           "sub.247.16.sick"
          ],
          [
           "Resolved",
           "sub.247.17.sick"
          ],
          [
           "Pre-symptoms",
           "sub.247.2.one.month"
          ],
          [
           "Pre-symptoms",
           "sub.247.3.twomonth"
          ],
          [
           "Symptomatic",
           "sub.247.4.fourmonth"
          ],
          [
           "Resolved",
           "sub.247.5.sixmonth"
          ],
          [
           "Resolved",
           "sub.247.7.one.year"
          ],
          [
           "Pre-symptoms",
           "sub.267.0.initial"
          ],
          [
           "Symptomatic",
           "sub.267.11.sick"
          ],
          [
           "Symptomatic",
           "sub.267.12.sick"
          ],
          [
           "Symptomatic",
           "sub.267.3.twomonth"
          ],
          [
           "Resolved",
           "sub.267.5.sixmonth"
          ],
          [
           "Resolved",
           "sub.267.6.ninemonth"
          ],
          [
           "Resolved",
           "sub.267.7.one.year"
          ],
          [
           "unknown",
           "sub.271.0.initial"
          ],
          [
           "unknown",
           "sub.271.2.one.month"
          ],
          [
           "unknown",
           "sub.271.4.fourmonth"
          ],
          [
           "unknown",
           "sub.271.5.sixmonth"
          ],
          [
           "unknown",
           "sub.271.6.ninemonth"
          ],
          [
           "unknown",
           "sub.271.7.one.year"
          ],
          [
           "Pre-symptoms",
           "sub.272.1.two.week"
          ],
          [
           "Symptomatic",
           "sub.272.11.sick"
          ],
          [
           "Symptomatic",
           "sub.272.12.sick"
          ],
          [
           "Symptomatic",
           "sub.272.13.sick"
          ],
          [
           "Resolved",
           "sub.272.14.sick"
          ],
          [
           "Symptomatic",
           "sub.272.2.one.month"
          ],
          [
           "Resolved",
           "sub.272.4.fourmonth"
          ],
          [
           "Resolved",
           "sub.272.5.sixmonth"
          ],
          [
           "Resolved",
           "sub.272.6.ninemonth"
          ],
          [
           "Resolved",
           "sub.272.7.one.year"
          ],
          [
           "Resolved",
           "sub.273.12.sick"
          ],
          [
           "Pre-symptoms",
           "sub.273.2.one.month"
          ],
          [
           "Symptomatic",
           "sub.273.3.twomonth"
          ],
          [
           "Symptomatic",
           "sub.273.4.fourmonth"
          ],
          [
           "Symptomatic",
           "sub.273.5.sixmonth"
          ],
          [
           "Resolved",
           "sub.273.6.ninemonth"
          ],
          [
           "Resolved",
           "sub.273.7.one.year"
          ],
          [
           "Pre-symptoms",
           "sub.278.0.initial"
          ],
          [
           "Symptomatic",
           "sub.278.1.two.week"
          ],
          [
           "Symptomatic",
           "sub.278.11.sick"
          ],
          [
           "Resolved",
           "sub.278.15.sick"
          ],
          [
           "Symptomatic",
           "sub.278.3.twomonth"
          ],
          [
           "Symptomatic",
           "sub.278.4.fourmonth"
          ],
          [
           "Resolved",
           "sub.278.5.sixmonth"
          ],
          [
           "Pre-symptoms",
           "sub.282.0.initial"
          ],
          [
           "Symptomatic",
           "sub.282.2.one.month"
          ],
          [
           "Symptomatic",
           "sub.282.3.twomonth"
          ],
          [
           "Resolved",
           "sub.282.6.ninemonth"
          ],
          [
           "Resolved",
           "sub.282.7.one.year"
          ],
          [
           "Resolved",
           "sub.290.11.sick"
          ],
          [
           "Resolved",
           "sub.290.12.sick"
          ],
          [
           "Resolved",
           "sub.290.2.one.month"
          ],
          [
           "Resolved",
           "sub.290.3.twomonth"
          ],
          [
           "Resolved",
           "sub.290.4.fourmonth"
          ],
          [
           "Resolved",
           "sub.290.5.sixmonth"
          ],
          [
           "Resolved",
           "sub.290.6.ninemonth"
          ],
          [
           "Symptomatic",
           "sub.304.11.sick"
          ],
          [
           "Symptomatic",
           "sub.304.12.sick"
          ],
          [
           "Symptomatic",
           "sub.304.2.one.month"
          ],
          [
           "Symptomatic",
           "sub.304.3.twomonth"
          ],
          [
           "Pre-symptoms",
           "sub.307.0.initial"
          ],
          [
           "Pre-symptoms",
           "sub.307.1.two.week"
          ],
          [
           "Resolved",
           "sub.307.6.ninemonth"
          ],
          [
           "Resolved",
           "sub.307.7.one.year"
          ],
          [
           "Pre-symptoms",
           "sub.310.1.two.week"
          ],
          [
           "Symptomatic",
           "sub.310.11.sick"
          ],
          [
           "Symptomatic",
           "sub.310.12.sick"
          ],
          [
           "Resolved",
           "sub.310.14.sick"
          ],
          [
           "Resolved",
           "sub.310.15.sick"
          ],
          [
           "Symptomatic",
           "sub.310.2.one.month"
          ],
          [
           "Symptomatic",
           "sub.310.3.twomonth"
          ],
          [
           "Resolved",
           "sub.310.5.sixmonth"
          ],
          [
           "Resolved",
           "sub.310.6.ninemonth"
          ],
          [
           "Resolved",
           "sub.310.7.one.year"
          ],
          [
           "Symptomatic",
           "sub.316.11.sick"
          ],
          [
           "Resolved",
           "sub.316.5.sixmonth"
          ],
          [
           "Resolved",
           "sub.316.6.ninemonth"
          ],
          [
           "Resolved",
           "sub.316.7.one.year"
          ],
          [
           "Pre-symptoms",
           "sub.347.1.two.week"
          ],
          [
           "Symptomatic",
           "sub.347.2.one.month"
          ],
          [
           "Resolved",
           "sub.347.5.sixmonth"
          ],
          [
           "Resolved",
           "sub.347.6.ninemonth"
          ],
          [
           "Resolved",
           "sub.347.7.one.year"
          ],
          [
           "Symptomatic",
           "sub.349.3.twomonth"
          ],
          [
           "Resolved",
           "sub.349.4.fourmonth"
          ],
          [
           "Resolved",
           "sub.349.5.sixmonth"
          ],
          [
           "Resolved",
           "sub.349.7.one.year"
          ],
          [
           "Pre-symptoms",
           "sub.358.0.initial"
          ],
          [
           "Symptomatic",
           "sub.358.11.sick"
          ],
          [
           "Symptomatic",
           "sub.358.12.sick"
          ],
          [
           "Symptomatic",
           "sub.358.13.sick"
          ],
          [
           "Resolved",
           "sub.358.14.sick"
          ],
          [
           "Symptomatic",
           "sub.358.2.one.month"
          ],
          [
           "Symptomatic",
           "sub.358.3.twomonth"
          ],
          [
           "Resolved",
           "sub.358.6.ninemonth"
          ],
          [
           "Resolved",
           "sub.358.7.one.year"
          ],
          [
           "Symptomatic",
           "sub.367.12.sick"
          ],
          [
           "Resolved",
           "sub.367.13.sick"
          ],
          [
           "Symptomatic",
           "sub.367.3.twomonth"
          ],
          [
           "Resolved",
           "sub.367.5.sixmonth"
          ],
          [
           "Resolved",
           "sub.367.6.ninemonth"
          ],
          [
           "Resolved",
           "sub.367.7.one.year"
          ],
          [
           "Resolved",
           "sub.405.0.initial"
          ],
          [
           "Resolved",
           "sub.405.12.sick"
          ],
          [
           "Resolved",
           "sub.405.13.sick"
          ],
          [
           "Resolved",
           "sub.405.14.sick"
          ],
          [
           "Resolved",
           "sub.405.4.fourmonth"
          ],
          [
           "Resolved",
           "sub.405.5.sixmonth"
          ],
          [
           "Resolved",
           "sub.405.7.one.year"
          ],
          [
           "Resolved",
           "sub.408.12.sick"
          ],
          [
           "Symptomatic",
           "sub.408.2.one.month"
          ],
          [
           "Resolved",
           "sub.408.3.twomonth"
          ],
          [
           "Resolved",
           "sub.408.4.fourmonth"
          ],
          [
           "Resolved",
           "sub.408.6.ninemonth"
          ],
          [
           "Resolved",
           "sub.408.7.one.year"
          ],
          [
           "Pre-symptoms",
           "sub.431.0.initial"
          ],
          [
           "Symptomatic",
           "sub.431.1.two.week"
          ],
          [
           "Symptomatic",
           "sub.431.11.sick"
          ],
          [
           "Resolved",
           "sub.431.13.sick"
          ],
          [
           "Resolved",
           "sub.431.14.sick"
          ],
          [
           "Resolved",
           "sub.431.15.sick"
          ],
          [
           "Resolved",
           "sub.431.16.sick"
          ],
          [
           "Resolved",
           "sub.431.17.sick"
          ],
          [
           "Symptomatic",
           "sub.431.3.twomonth"
          ],
          [
           "Resolved",
           "sub.431.5.sixmonth"
          ],
          [
           "Resolved",
           "sub.431.6.ninemonth"
          ],
          [
           "Resolved",
           "sub.431.7.one.year"
          ],
          [
           "Pre-symptoms",
           "sub.434.0.initial"
          ],
          [
           "Pre-symptoms",
           "sub.434.1.two.week"
          ],
          [
           "Pre-symptoms",
           "sub.434.2.one.month"
          ],
          [
           "Symptomatic",
           "sub.434.3.twomonth"
          ],
          [
           "Symptomatic",
           "sub.434.4.fourmonth"
          ],
          [
           "Pre-symptoms",
           "sub.439.0.initial"
          ],
          [
           "Symptomatic",
           "sub.439.1.two.week"
          ],
          [
           "Symptomatic",
           "sub.439.11.sick"
          ],
          [
           "Symptomatic",
           "sub.439.12.sick"
          ],
          [
           "Resolved",
           "sub.439.18.sick"
          ],
          [
           "Symptomatic",
           "sub.439.2.one.month"
          ],
          [
           "Resolved",
           "sub.439.20.sick"
          ],
          [
           "Resolved",
           "sub.439.21.sick"
          ],
          [
           "Resolved",
           "sub.439.7.one.year"
          ],
          [
           "Pre-symptoms",
           "sub.440.1.two.week"
          ],
          [
           "Resolved",
           "sub.440.12.sick"
          ],
          [
           "Pre-symptoms",
           "sub.440.2.one.month"
          ],
          [
           "Resolved",
           "sub.440.3.twomonth"
          ],
          [
           "Resolved",
           "sub.440.5.sixmonth"
          ],
          [
           "Resolved",
           "sub.440.6.ninemonth"
          ],
          [
           "Symptomatic",
           "sub.445.2.one.month"
          ],
          [
           "Symptomatic",
           "sub.445.3.twomonth"
          ],
          [
           "Resolved",
           "sub.445.4.fourmonth"
          ],
          [
           "Resolved",
           "sub.445.5.sixmonth"
          ],
          [
           "Resolved",
           "sub.445.6.ninemonth"
          ],
          [
           "Symptomatic",
           "sub.454.0.initial"
          ],
          [
           "Symptomatic",
           "sub.454.1.two.week"
          ],
          [
           "Symptomatic",
           "sub.454.11.sick"
          ],
          [
           "Resolved",
           "sub.454.13.sick"
          ],
          [
           "Symptomatic",
           "sub.454.2.one.month"
          ],
          [
           "Symptomatic",
           "sub.454.3.twomonth"
          ],
          [
           "Resolved",
           "sub.454.4.fourmonth"
          ],
          [
           "Resolved",
           "sub.454.6.ninemonth"
          ],
          [
           "Pre-symptoms",
           "sub.464.1.two.week"
          ],
          [
           "Pre-symptoms",
           "sub.464.3.twomonth"
          ],
          [
           "Pre-symptoms",
           "sub.464.4.fourmonth"
          ],
          [
           "Symptomatic",
           "sub.464.5.sixmonth"
          ],
          [
           "Resolved",
           "sub.464.6.ninemonth"
          ],
          [
           "Resolved",
           "sub.464.7.one.year"
          ],
          [
           "Symptomatic",
           "sub.511.11.sick"
          ],
          [
           "Symptomatic",
           "sub.511.12.sick"
          ],
          [
           "Symptomatic",
           "sub.511.13.sick"
          ],
          [
           "Pre-symptoms",
           "sub.511.2.one.month"
          ],
          [
           "Symptomatic",
           "sub.511.3.twomonth"
          ],
          [
           "Symptomatic",
           "sub.511.5.sixmonth"
          ],
          [
           "Symptomatic",
           "sub.526.11.sick"
          ],
          [
           "Symptomatic",
           "sub.526.12.sick"
          ],
          [
           "Symptomatic",
           "sub.526.13.sick"
          ],
          [
           "Resolved",
           "sub.526.14.sick"
          ],
          [
           "Resolved",
           "sub.526.15.sick"
          ],
          [
           "Resolved",
           "sub.526.18.sick"
          ],
          [
           "Resolved",
           "sub.526.20.sick"
          ],
          [
           "Resolved",
           "sub.526.21.sick"
          ],
          [
           "Resolved",
           "sub.526.22.sick"
          ],
          [
           "Resolved",
           "sub.526.23.sick"
          ],
          [
           "Resolved",
           "sub.526.24.sick"
          ],
          [
           "Resolved",
           "sub.526.5.sixmonth"
          ],
          [
           "Resolved",
           "sub.526.6.ninemonth"
          ],
          [
           "Resolved",
           "sub.526.7.one.year"
          ],
          [
           "Pre-symptoms",
           "sub.527.0.initial"
          ],
          [
           "Pre-symptoms",
           "sub.527.1.two.week"
          ],
          [
           "Symptomatic",
           "sub.527.11.sick"
          ],
          [
           "Symptomatic",
           "sub.527.12.sick"
          ],
          [
           "Symptomatic",
           "sub.527.15.sick"
          ],
          [
           "Resolved",
           "sub.527.16.sick"
          ],
          [
           "Symptomatic",
           "sub.527.2.one.month"
          ],
          [
           "Symptomatic",
           "sub.527.3.twomonth"
          ],
          [
           "Symptomatic",
           "sub.527.4.fourmonth"
          ],
          [
           "Resolved",
           "sub.527.5.sixmonth"
          ],
          [
           "Resolved",
           "sub.527.6.ninemonth"
          ],
          [
           "Pre-symptoms",
           "sub.533.0.initial"
          ],
          [
           "Symptomatic",
           "sub.533.11.sick"
          ],
          [
           "Resolved",
           "sub.533.12.sick"
          ],
          [
           "Symptomatic",
           "sub.533.2.one.month"
          ],
          [
           "Symptomatic",
           "sub.533.3.twomonth"
          ],
          [
           "Symptomatic",
           "sub.533.4.fourmonth"
          ],
          [
           "Resolved",
           "sub.533.5.sixmonth"
          ],
          [
           "Pre-symptoms",
           "sub.535.0.initial"
          ],
          [
           "Pre-symptoms",
           "sub.535.1.two.week"
          ],
          [
           "Pre-symptoms",
           "sub.535.12.sick"
          ],
          [
           "Symptomatic",
           "sub.535.13.sick"
          ],
          [
           "Symptomatic",
           "sub.535.14.sick"
          ],
          [
           "Resolved",
           "sub.535.15.sick"
          ],
          [
           "Pre-symptoms",
           "sub.535.2.one.month"
          ],
          [
           "Pre-symptoms",
           "sub.535.3.twomonth"
          ],
          [
           "Symptomatic",
           "sub.535.4.fourmonth"
          ],
          [
           "Resolved",
           "sub.535.5.sixmonth"
          ],
          [
           "Resolved",
           "sub.535.6.ninemonth"
          ],
          [
           "Resolved",
           "sub.535.7.one.year"
          ],
          [
           "Pre-symptoms",
           "sub.554.1.two.week"
          ],
          [
           "Symptomatic",
           "sub.554.12.sick"
          ],
          [
           "Symptomatic",
           "sub.554.13.sick"
          ],
          [
           "Symptomatic",
           "sub.554.14.sick"
          ],
          [
           "Resolved",
           "sub.554.15.sick"
          ],
          [
           "Resolved",
           "sub.554.16.sick"
          ],
          [
           "Resolved",
           "sub.554.17.sick"
          ],
          [
           "Resolved",
           "sub.554.19.sick"
          ],
          [
           "Symptomatic",
           "sub.554.2.one.month"
          ],
          [
           "Resolved",
           "sub.554.20.sick"
          ],
          [
           "Resolved",
           "sub.554.21.sick"
          ],
          [
           "Resolved",
           "sub.554.22.sick"
          ],
          [
           "Resolved",
           "sub.554.23.sick"
          ],
          [
           "Resolved",
           "sub.554.24.sick"
          ],
          [
           "Symptomatic",
           "sub.554.3.twomonth"
          ],
          [
           "Resolved",
           "sub.554.4.fourmonth"
          ],
          [
           "Resolved",
           "sub.554.5.sixmonth"
          ],
          [
           "Resolved",
           "sub.554.6.ninemonth"
          ],
          [
           "Resolved",
           "sub.554.7.one.year"
          ],
          [
           "Resolved",
           "sub.569.13.sick"
          ],
          [
           "Resolved",
           "sub.569.14.sick"
          ],
          [
           "Symptomatic",
           "sub.569.2.one.month"
          ],
          [
           "Resolved",
           "sub.569.3.twomonth"
          ],
          [
           "Resolved",
           "sub.569.4.fourmonth"
          ],
          [
           "Pre-symptoms",
           "sub.571.1.two.week"
          ],
          [
           "Symptomatic",
           "sub.571.11.sick"
          ],
          [
           "Symptomatic",
           "sub.571.12.sick"
          ],
          [
           "Symptomatic",
           "sub.571.13.sick"
          ],
          [
           "Symptomatic",
           "sub.571.14.sick"
          ],
          [
           "Symptomatic",
           "sub.571.15.sick"
          ],
          [
           "Symptomatic",
           "sub.571.16.sick"
          ],
          [
           "Resolved",
           "sub.571.17.sick"
          ],
          [
           "Symptomatic",
           "sub.571.2.one.month"
          ],
          [
           "Symptomatic",
           "sub.571.3.twomonth"
          ],
          [
           "Symptomatic",
           "sub.571.4.fourmonth"
          ],
          [
           "Resolved",
           "sub.571.5.sixmonth"
          ],
          [
           "Resolved",
           "sub.571.6.ninemonth"
          ],
          [
           "Resolved",
           "sub.571.7.one.year"
          ],
          [
           "Pre-symptoms",
           "sub.573.11.sick"
          ],
          [
           "Symptomatic",
           "sub.573.12.sick"
          ],
          [
           "Resolved",
           "sub.573.16.sick"
          ],
          [
           "Symptomatic",
           "sub.573.2.one.month"
          ],
          [
           "Resolved",
           "sub.573.4.fourmonth"
          ],
          [
           "Pre-symptoms",
           "sub.577.1.two.week"
          ],
          [
           "Symptomatic",
           "sub.577.2.one.month"
          ],
          [
           "Symptomatic",
           "sub.577.3.twomonth"
          ],
          [
           "Resolved",
           "sub.577.6.ninemonth"
          ],
          [
           "Pre-symptoms",
           "sub.585.0.initial"
          ],
          [
           "Symptomatic",
           "sub.585.13.sick"
          ],
          [
           "Symptomatic",
           "sub.585.14.sick"
          ],
          [
           "Resolved",
           "sub.585.17.sick"
          ],
          [
           "Resolved",
           "sub.585.19.sick"
          ],
          [
           "Resolved",
           "sub.585.3.twomonth"
          ],
          [
           "Resolved",
           "sub.585.6.ninemonth"
          ],
          [
           "Pre-symptoms",
           "sub.586.0.initial"
          ],
          [
           "Pre-symptoms",
           "sub.586.1.two.week"
          ],
          [
           "Pre-symptoms",
           "sub.586.11.sick"
          ],
          [
           "Symptomatic",
           "sub.586.12.sick"
          ],
          [
           "Resolved",
           "sub.586.4.fourmonth"
          ],
          [
           "Pre-symptoms",
           "sub.601.1.two.week"
          ],
          [
           "Symptomatic",
           "sub.601.11.sick"
          ],
          [
           "Resolved",
           "sub.601.12.sick"
          ],
          [
           "Pre-symptoms",
           "sub.601.2.one.month"
          ],
          [
           "Symptomatic",
           "sub.601.3.twomonth"
          ],
          [
           "Resolved",
           "sub.601.4.fourmonth"
          ],
          [
           "Pre-symptoms",
           "sub.604.1.two.week"
          ],
          [
           "Pre-symptoms",
           "sub.604.2.one.month"
          ],
          [
           "Resolved",
           "sub.604.3.twomonth"
          ],
          [
           "Resolved",
           "sub.604.5.sixmonth"
          ],
          [
           "unknown",
           "sub.615.0.initial"
          ],
          [
           "unknown",
           "sub.615.13.sick"
          ],
          [
           "unknown",
           "sub.615.14.sick"
          ],
          [
           "unknown",
           "sub.615.15.sick"
          ],
          [
           "unknown",
           "sub.615.18.sick"
          ],
          [
           "unknown",
           "sub.615.19.sick"
          ],
          [
           "unknown",
           "sub.615.2.one.month"
          ],
          [
           "unknown",
           "sub.615.20.sick"
          ],
          [
           "unknown",
           "sub.615.22.sick"
          ],
          [
           "unknown",
           "sub.615.5.sixmonth"
          ],
          [
           "Resolved",
           "sub.621.14.sick"
          ],
          [
           "Pre-symptoms",
           "sub.621.2.one.month"
          ],
          [
           "Pre-symptoms",
           "sub.621.3.twomonth"
          ],
          [
           "Symptomatic",
           "sub.621.4.fourmonth"
          ],
          [
           "Pre-symptoms",
           "sub.638.0.initial"
          ],
          [
           "Symptomatic",
           "sub.638.3.twomonth"
          ],
          [
           "Symptomatic",
           "sub.638.4.fourmonth"
          ],
          [
           "Resolved",
           "sub.638.6.ninemonth"
          ],
          [
           "Pre-symptoms",
           "sub.639.0.initial"
          ],
          [
           "Symptomatic",
           "sub.639.2.one.month"
          ],
          [
           "Resolved",
           "sub.639.3.twomonth"
          ],
          [
           "Resolved",
           "sub.639.4.fourmonth"
          ],
          [
           "Resolved",
           "sub.639.6.ninemonth"
          ],
          [
           "Resolved",
           "sub.639.7.one.year"
          ],
          [
           "unknown",
           "sub.643.0.initial"
          ],
          [
           "unknown",
           "sub.643.1.two.week"
          ],
          [
           "unknown",
           "sub.643.15.sick"
          ],
          [
           "Pre-symptoms",
           "sub.655.0.initial"
          ],
          [
           "Symptomatic",
           "sub.655.1.two.week"
          ],
          [
           "Symptomatic",
           "sub.655.11.sick"
          ],
          [
           "Symptomatic",
           "sub.655.12.sick"
          ],
          [
           "Symptomatic",
           "sub.655.13.sick"
          ],
          [
           "Resolved",
           "sub.655.14.sick"
          ],
          [
           "Symptomatic",
           "sub.655.3.twomonth"
          ],
          [
           "Symptomatic",
           "sub.655.4.fourmonth"
          ],
          [
           "Resolved",
           "sub.655.5.sixmonth"
          ],
          [
           "Symptomatic",
           "sub.663.2.one.month"
          ],
          [
           "Symptomatic",
           "sub.663.3.twomonth"
          ],
          [
           "Resolved",
           "sub.663.5.sixmonth"
          ],
          [
           "Resolved",
           "sub.663.6.ninemonth"
          ],
          [
           "Resolved",
           "sub.663.7.one.year"
          ],
          [
           "Pre-symptoms",
           "sub.665.0.initial"
          ],
          [
           "Symptomatic",
           "sub.665.11.sick"
          ],
          [
           "Symptomatic",
           "sub.665.13.sick"
          ],
          [
           "Symptomatic",
           "sub.665.14.sick"
          ],
          [
           "Resolved",
           "sub.665.15.sick"
          ],
          [
           "Resolved",
           "sub.665.16.sick"
          ],
          [
           "Resolved",
           "sub.665.17.sick"
          ],
          [
           "Resolved",
           "sub.665.18.sick"
          ],
          [
           "Resolved",
           "sub.665.19.sick"
          ],
          [
           "Symptomatic",
           "sub.665.2.one.month"
          ],
          [
           "Symptomatic",
           "sub.665.3.twomonth"
          ],
          [
           "Resolved",
           "sub.665.4.fourmonth"
          ],
          [
           "Resolved",
           "sub.665.7.one.year"
          ],
          [
           "Resolved",
           "sub.667.13.sick"
          ],
          [
           "Symptomatic",
           "sub.667.3.twomonth"
          ],
          [
           "Symptomatic",
           "sub.667.4.fourmonth"
          ],
          [
           "Resolved",
           "sub.667.6.ninemonth"
          ],
          [
           "Symptomatic",
           "sub.669.12.sick.1"
          ],
          [
           "Symptomatic",
           "sub.669.13.sick.2"
          ],
          [
           "Symptomatic",
           "sub.669.2.one.month"
          ],
          [
           "Resolved",
           "sub.669.4.fourmonth"
          ],
          [
           "Resolved",
           "sub.669.6.ninemonth"
          ],
          [
           "Symptomatic",
           "sub.672.11.sick"
          ],
          [
           "Symptomatic",
           "sub.672.2.one.month"
          ],
          [
           "Symptomatic",
           "sub.672.3.twomonth"
          ],
          [
           "Pre-symptoms",
           "sub.686.0.initial"
          ],
          [
           "Symptomatic",
           "sub.686.2.one.month"
          ],
          [
           "Symptomatic",
           "sub.686.3.twomonth"
          ],
          [
           "Resolved",
           "sub.686.7.one.year"
          ],
          [
           "Pre-symptoms",
           "sub.692.0.initial"
          ],
          [
           "Symptomatic",
           "sub.692.11.sick"
          ],
          [
           "Resolved",
           "sub.692.12.sick"
          ],
          [
           "Resolved",
           "sub.692.13.sick"
          ],
          [
           "Symptomatic",
           "sub.692.4.fourmonth"
          ],
          [
           "Resolved",
           "sub.692.5.sixmonth"
          ],
          [
           "Resolved",
           "sub.692.7.one.year"
          ],
          [
           "Pre-symptoms",
           "sub.695.0.initial"
          ],
          [
           "Pre-symptoms",
           "sub.695.2.one.month"
          ],
          [
           "Symptomatic",
           "sub.695.3.twomonth"
          ],
          [
           "Resolved",
           "sub.695.6.ninemonth"
          ],
          [
           "Symptomatic",
           "sub.716.11.sick"
          ],
          [
           "Resolved",
           "sub.716.12.sick"
          ],
          [
           "Symptomatic",
           "sub.716.2.one.month"
          ],
          [
           "Symptomatic",
           "sub.716.3.twomonth"
          ],
          [
           "Symptomatic",
           "sub.716.6.ninemonth"
          ],
          [
           "Resolved",
           "sub.728.11.sick"
          ],
          [
           "Resolved",
           "sub.728.12.sick"
          ],
          [
           "Resolved",
           "sub.728.13.sick"
          ],
          [
           "Resolved",
           "sub.728.16.sick"
          ],
          [
           "Resolved",
           "sub.728.17.sick"
          ],
          [
           "Symptomatic",
           "sub.728.2.one.month"
          ],
          [
           "Symptomatic",
           "sub.728.3.twomonth"
          ],
          [
           "Resolved",
           "sub.728.4.fourmonth"
          ],
          [
           "Resolved",
           "sub.728.5.sixmonth"
          ],
          [
           "Resolved",
           "sub.728.6.ninemonth"
          ],
          [
           "Pre-symptoms",
           "sub.729.0.initial"
          ],
          [
           "Symptomatic",
           "sub.729.12.sick"
          ],
          [
           "Symptomatic",
           "sub.729.2.one.month"
          ],
          [
           "Resolved",
           "sub.729.5.sixmonth"
          ],
          [
           "Symptomatic",
           "sub.733.1.two.week"
          ],
          [
           "Symptomatic",
           "sub.733.2.one.month"
          ],
          [
           "Symptomatic",
           "sub.733.3.twomonth"
          ],
          [
           "Symptomatic",
           "sub.733.4.fourmonth"
          ],
          [
           "Resolved",
           "sub.733.6.ninemonth"
          ],
          [
           "Pre-symptoms",
           "sub.758.0.initial"
          ],
          [
           "Symptomatic",
           "sub.758.2.one.month"
          ],
          [
           "Symptomatic",
           "sub.758.3.twomonth"
          ],
          [
           "Symptomatic",
           "sub.758.4.fourmonth"
          ],
          [
           "Resolved",
           "sub.758.5.sixmonth"
          ],
          [
           "Resolved",
           "sub.758.6.ninemonth"
          ],
          [
           "Symptomatic",
           "sub.781.11.sick"
          ],
          [
           "Symptomatic",
           "sub.781.13.sick"
          ],
          [
           "Symptomatic",
           "sub.781.14.sick"
          ],
          [
           "Symptomatic",
           "sub.781.2.one.month"
          ],
          [
           "Symptomatic",
           "sub.781.3.twomonth"
          ],
          [
           "Symptomatic",
           "sub.781.5.sixmonth"
          ],
          [
           "Pre-symptoms",
           "sub.782.1.two.week"
          ],
          [
           "Pre-symptoms",
           "sub.782.11.sick"
          ],
          [
           "Symptomatic",
           "sub.782.12.sick"
          ],
          [
           "Symptomatic",
           "sub.782.13.sick"
          ],
          [
           "Symptomatic",
           "sub.782.14.sick"
          ],
          [
           "Symptomatic",
           "sub.782.15.sick"
          ],
          [
           "Symptomatic",
           "sub.782.16.sick"
          ],
          [
           "Symptomatic",
           "sub.782.2.one.month"
          ],
          [
           "Symptomatic",
           "sub.782.3.twomonth"
          ],
          [
           "Symptomatic",
           "sub.782.4.fourmonth"
          ],
          [
           "Resolved",
           "sub.782.6.ninemonth"
          ],
          [
           "Pre-symptoms",
           "sub.790.0.initial"
          ],
          [
           "Symptomatic",
           "sub.790.11.sick"
          ],
          [
           "Symptomatic",
           "sub.790.2.one.month"
          ],
          [
           "Symptomatic",
           "sub.790.3.twomonth.1"
          ],
          [
           "Symptomatic",
           "sub.790.3.twomonth.2"
          ],
          [
           "Resolved",
           "sub.790.5.sixmonth"
          ],
          [
           "Pre-symptoms",
           "sub.793.2.one.month"
          ],
          [
           "Symptomatic",
           "sub.793.3.twomonth"
          ],
          [
           "Resolved",
           "sub.793.5.sixmonth"
          ],
          [
           "Resolved",
           "sub.793.6.ninemonth"
          ]
         ],
         "hovertemplate": "predict %{y}, label: %{x}<br>sampleID: %{customdata[1]}<br>symptom: %{customdata[0]}",
         "legendgroup": "test",
         "marker": {
          "color": "#00cc96",
          "symbol": "circle"
         },
         "mode": "markers",
         "name": "test",
         "orientation": "v",
         "showlegend": true,
         "type": "scatter",
         "x": [
          0.4,
          7.7,
          8.9,
          10.2,
          10.7,
          11.4,
          11.5,
          12.6,
          1.1,
          4.1,
          6.1,
          9.5,
          0.2,
          0.9,
          1.8,
          4.1,
          0.1,
          0.5,
          1,
          6,
          9,
          11.5,
          0.7,
          1.3,
          1.8,
          4.1,
          6.6,
          12.4,
          12.9,
          1.1,
          6.2,
          9.7,
          12.2,
          0.4,
          0.6,
          0.8,
          2.1,
          7.6,
          0.9,
          2.1,
          4,
          6.7,
          9.1,
          12.3,
          2.1,
          4.1,
          6.2,
          9.2,
          12.6,
          0.5,
          5.3,
          1,
          4.2,
          6.1,
          9.1,
          0.2,
          0.4,
          0.9,
          2,
          4.1,
          6.3,
          9.1,
          0.2,
          0.5,
          1.1,
          2.1,
          4.1,
          6.4,
          9.5,
          12.2,
          0.1,
          0.4,
          0.8,
          2,
          4,
          12.4,
          0.1,
          0.3,
          5.9,
          9.2,
          12.7,
          1,
          2.2,
          0.4,
          9.9,
          2.1,
          6.2,
          12.2,
          0.5,
          5.4,
          1,
          2.1,
          9.2,
          0.3,
          0.4,
          4.2,
          12.1,
          1.9,
          6.1,
          9.1,
          12.3,
          0.4,
          11.6,
          4.2,
          9,
          12.1,
          0.5,
          5,
          5.3,
          6.7,
          1.1,
          2,
          4.1,
          6.2,
          8.9,
          11.8,
          0.6,
          1,
          4.2,
          9.2,
          0.3,
          0.5,
          1.1,
          2,
          4.1,
          9.1,
          11.8,
          1.9,
          12.2,
          0.5,
          2.8,
          1.1,
          2.1,
          4.8,
          0.6,
          1,
          2,
          4,
          0.2,
          1.3,
          3.6,
          5.4,
          8.3,
          10.1,
          10.8,
          0.9,
          2,
          5,
          7.1,
          13.1,
          0.1,
          4.3,
          5,
          2,
          6.2,
          9.1,
          12.6,
          0.6,
          1.1,
          4.3,
          6.2,
          9.2,
          12,
          0.5,
          2.3,
          2.4,
          3,
          5.5,
          1.1,
          4.1,
          6.6,
          9.4,
          12.3,
          8.5,
          1,
          2.3,
          4,
          6.2,
          9.1,
          12.6,
          0.1,
          0.6,
          1.3,
          8.6,
          2.2,
          4.1,
          6.4,
          0.4,
          1,
          2.1,
          9.2,
          12.2,
          6.3,
          6.9,
          0.9,
          1.9,
          4,
          6.3,
          9.7,
          1.3,
          1.5,
          1.1,
          1.8,
          0.2,
          0.4,
          9.5,
          12.1,
          0.5,
          1.1,
          1.2,
          3,
          5.5,
          1,
          2,
          6.7,
          9,
          12.5,
          1.5,
          6.6,
          9.1,
          13,
          0.4,
          0.9,
          6.4,
          9.3,
          12.1,
          1.7,
          4.1,
          6.4,
          12.2,
          0.2,
          0.6,
          1.5,
          1.3,
          4.4,
          0.9,
          2,
          8.5,
          12.4,
          1.2,
          10.9,
          1.9,
          6.3,
          9.3,
          12.1,
          3.2,
          4.8,
          8,
          10.3,
          4.1,
          5.9,
          12.1,
          7.3,
          1.1,
          2.2,
          4,
          9.1,
          12.1,
          0.1,
          0.6,
          2.2,
          4.7,
          7.3,
          9.3,
          10.2,
          12.9,
          1.9,
          6.1,
          9.1,
          12.3,
          0.4,
          0.6,
          1.1,
          2,
          4,
          0.2,
          0.4,
          0.7,
          1.1,
          9.6,
          0.9,
          10.8,
          10.9,
          12.1,
          0.5,
          8.5,
          1.3,
          2,
          6.2,
          9.1,
          1.1,
          2,
          4.2,
          6.2,
          9.2,
          0.2,
          0.4,
          1.2,
          8.4,
          1,
          2.3,
          4.6,
          9.2,
          0.4,
          2,
          4.1,
          6.4,
          9.2,
          12.4,
          4.6,
          5,
          5.5,
          0.9,
          2,
          6.1,
          1.8,
          2.1,
          2.7,
          4.1,
          3.2,
          6,
          8,
          8.9,
          9.7,
          10.4,
          10.5,
          6.2,
          9.4,
          12.5,
          0.1,
          0.5,
          1.7,
          2.1,
          5.7,
          7.8,
          1,
          2.3,
          4.5,
          6.6,
          9.8,
          0.7,
          1.6,
          9.2,
          1.1,
          1.9,
          3.9,
          6.4,
          0.2,
          0.4,
          0.6,
          4.8,
          4.6,
          10.6,
          1.1,
          2.3,
          4.3,
          6.2,
          9.3,
          12.2,
          0.4,
          0.7,
          0.9,
          3.6,
          5.1,
          5.4,
          5.7,
          6.1,
          1.1,
          7.3,
          8.1,
          8.9,
          7.5,
          8.7,
          2.4,
          4.5,
          6.3,
          9.1,
          12.6,
          4.9,
          5.2,
          1,
          1.9,
          4.3,
          0.4,
          3.1,
          3.7,
          4.7,
          5,
          5.3,
          3.6,
          8,
          0.9,
          2,
          4.2,
          7,
          9.2,
          12.3,
          0.3,
          0.9,
          3.1,
          1.2,
          4.4,
          0.3,
          1.1,
          1.9,
          9.3,
          0.5,
          1.2,
          1.4,
          7.1,
          12.7,
          2.2,
          9,
          0.2,
          0.5,
          0.7,
          3.1,
          4.1,
          0.4,
          1.3,
          3.1,
          0.9,
          2.1,
          4,
          0.5,
          0.9,
          2.1,
          7,
          0.3,
          1.4,
          2.3,
          3.1,
          7.2,
          10,
          1,
          10.7,
          12.9,
          6.2,
          7.4,
          1.2,
          1.9,
          4.1,
          0.2,
          2.3,
          4,
          9.1,
          0.3,
          1.2,
          2.3,
          4,
          8.6,
          12.3,
          0.3,
          0.5,
          7.5,
          0.2,
          0.4,
          1.3,
          1.5,
          3.2,
          7.8,
          2,
          3.9,
          6.2,
          1.1,
          2,
          6.2,
          9.1,
          12.1,
          0.5,
          0.7,
          2.5,
          2.6,
          3,
          3.3,
          10.3,
          10.8,
          10.8,
          1,
          2.1,
          4.1,
          12.5,
          6.7,
          2.9,
          3.9,
          9.3,
          1.6,
          1.6,
          1.1,
          3.9,
          9.2,
          1.2,
          1,
          1.6,
          0.4,
          1.1,
          2.2,
          12.2,
          0.5,
          1.4,
          5.2,
          10,
          4.1,
          6.2,
          12.3,
          0.4,
          0.9,
          2,
          8.9,
          1.3,
          11.2,
          1.1,
          2.1,
          9.1,
          2.6,
          2.7,
          2.1,
          9.5,
          9.7,
          1.1,
          1.9,
          4,
          6.2,
          9,
          0.2,
          1.5,
          0.9,
          6.2,
          0.5,
          1.1,
          2.1,
          4,
          8.8,
          0.5,
          1.3,
          2.4,
          4.5,
          7,
          9.8,
          0.6,
          1.9,
          3,
          0.9,
          2,
          6.4,
          0.4,
          0.2,
          1.3,
          1.4,
          1.5,
          1.8,
          2.2,
          0.9,
          2,
          4.2,
          9.1,
          0.4,
          0.9,
          1.3,
          2.1,
          2.1,
          6.2,
          1.1,
          2,
          7.6,
          9.5
         ],
         "xaxis": "x",
         "y": [
          1.6658375026034118,
          3.863210286718957,
          5.01054521093371,
          5.685754802940561,
          4.797936772331887,
          6.066842329075848,
          6.680727435987708,
          7.641656323397677,
          2.3141299714475276,
          5.365956222751943,
          5.047470326862256,
          5.465716271966402,
          2.2643802660878665,
          1.9629657586670985,
          4.726564328691808,
          5.92974450724934,
          2.932546510762402,
          1.275491209621554,
          1.705338926623128,
          3.6355234317867127,
          5.172803697647486,
          7.888627007576927,
          2.5482581040228136,
          3.0637229027304334,
          4.73302429883467,
          6.30858523543247,
          6.262941294125809,
          8.9544569051825,
          9.69900779862158,
          1.490343111740912,
          8.161753505661633,
          9.56152933330526,
          9.894198975693683,
          1.8778564601767451,
          2.530387025953554,
          2.5334831518985026,
          3.3275246185635745,
          5.836239105788024,
          3.230034215299725,
          3.8353346192166407,
          6.554794695456726,
          5.59096601766495,
          5.942604366222036,
          7.655292592564966,
          3.7081273374678396,
          3.7209884746608624,
          4.006341021633977,
          5.912115643418373,
          10.281680783469332,
          1.1637502848905574,
          3.9809382983576582,
          1.0172407203411662,
          3.6566754755597004,
          6.77722010418351,
          6.688518785772233,
          1.303459650417606,
          2.7298493330310376,
          3.1055588636891986,
          5.662950342022285,
          6.802482018125176,
          9.678864951924103,
          6.409687186417306,
          0.9336715160420647,
          1.43904692869705,
          3.3086187698998493,
          1.4322451544981218,
          3.70280315264862,
          6.556890517382448,
          3.6176212035151845,
          7.054956202664303,
          3.711523270619347,
          1.8214810422313685,
          1.3525300663855957,
          1.6505888164518991,
          2.536106528914342,
          6.339897009642563,
          1.3832716559822542,
          2.2878407398011364,
          3.8205077036450112,
          5.131861046456668,
          9.485763731049666,
          1.665067843276476,
          6.1208454950227065,
          1.086259116845982,
          8.046304554332325,
          5.336736753690788,
          6.1253109464432445,
          7.23887723746254,
          0.8706072979461283,
          6.0030267894442035,
          1.1333803801581397,
          3.2491605115414486,
          8.09834085360918,
          0.9284815668018374,
          1.6460391754156538,
          2.965671432091378,
          4.987425086418322,
          1.7907969522709897,
          3.831331882285675,
          6.292200359914099,
          8.16466578440736,
          2.3899758622886194,
          8.818912171071831,
          2.117285184769606,
          7.98995773368666,
          9.331253532538948,
          2.1559910151799095,
          2.9591493532709947,
          2.6443981707153887,
          2.8502657794855306,
          3.112797216103697,
          2.439249685494258,
          5.80771911343399,
          4.134243432491127,
          4.032238151467319,
          5.342642364338732,
          5.2781702938660136,
          2.437330141847138,
          3.9673375220662064,
          9.445388700624623,
          2.2957721401693414,
          2.204309986072708,
          1.6494519513899983,
          2.5575618883226547,
          3.089289976273013,
          4.1334110856120265,
          9.0222639934926,
          1.565617402421605,
          9.951574968831094,
          1.7125234873527646,
          6.379186898389898,
          2.333074323028224,
          4.877304910342157,
          6.6612446932915175,
          2.3684084923327444,
          3.2344995758584325,
          2.2528698261271494,
          4.238807514792778,
          0.7171212413373635,
          2.7157581689557557,
          3.5801445138401635,
          3.6405934475561796,
          5.274973361953259,
          5.24020467778736,
          5.245229467001609,
          2.199982741888167,
          2.880861112251648,
          2.6786958976188453,
          4.830540546995943,
          7.420361077147419,
          1.3057800716426697,
          3.2387078064683097,
          5.496849451482669,
          2.3064174278096736,
          6.902597306124596,
          8.959864396447344,
          8.229257099285926,
          4.597292595676713,
          3.409655123182482,
          6.552873997834379,
          5.23137401602457,
          7.155208440325614,
          8.202405359616868,
          1.2734825159577998,
          3.1093914138826637,
          2.4884664097257243,
          3.3790727855547074,
          6.2890135730795445,
          3.0171712938351645,
          5.332531094382425,
          7.12936763748239,
          6.526752047235152,
          10.211458053172949,
          8.902185529580972,
          1.3945935967888061,
          1.8998488043918955,
          3.26181901773692,
          4.567122599148969,
          8.874670049627024,
          10.485199777492891,
          1.2338235469311634,
          1.0326442160797076,
          1.9849210432059032,
          5.4333958637228825,
          1.8160896657738057,
          1.9786611266257048,
          6.450732066319671,
          1.1059205335925453,
          1.2654609706608675,
          1.4993761577680496,
          3.2174000185714218,
          7.2314972521207075,
          3.6668591022035386,
          3.7154497261323938,
          1.7165598351143392,
          3.0757147077561213,
          3.898622651855219,
          3.5559950502677857,
          9.148353626956377,
          2.357471791157909,
          2.0267960582935647,
          2.512867735061539,
          1.7971755147971327,
          0.7916162149238483,
          1.410003673644803,
          6.817725425691109,
          8.53670647357033,
          3.1109516070225034,
          3.3295789511839784,
          2.1882412878003152,
          3.6451288394148116,
          4.875806376021177,
          2.6177812622631795,
          1.9870979519323695,
          5.800903104690765,
          7.639080977636532,
          7.65061231152671,
          1.5488118863724902,
          5.651881493129226,
          6.607359193723488,
          8.794162197654588,
          1.1266308937880574,
          1.7142435115726593,
          6.891036183526543,
          6.968114081912283,
          9.545460449317567,
          3.63374726134253,
          5.187871484635458,
          5.969350397276566,
          10.745765550075042,
          1.083679728743242,
          1.6566823802953883,
          1.8225651295104803,
          1.7405143510852752,
          5.637360335046067,
          1.4072036951492888,
          1.8782682546619256,
          9.863598248783926,
          10.014968089453037,
          3.5233769402083457,
          7.757284532904766,
          3.854337044511303,
          3.4977353304763232,
          6.330647960016357,
          8.428943223343348,
          4.361122462079955,
          7.204785019584391,
          7.829177380825177,
          8.006771345011325,
          6.558491081417243,
          6.98398916234784,
          8.119003843244514,
          3.7729841711896475,
          1.323347863269969,
          2.5872809039582836,
          3.248183120844348,
          6.464558707480673,
          9.298059192607894,
          2.9599959430002425,
          1.2453608797302949,
          2.5710202820730674,
          5.837078591127159,
          7.397539280955158,
          7.374508620348074,
          8.654848060145621,
          9.51822042968351,
          2.409680085632508,
          6.897470986496283,
          7.038995564687927,
          2.4596061225909835,
          1.4011837966933491,
          1.4029024106677401,
          1.5703034246530834,
          1.416274565326173,
          2.6465034418436195,
          1.3867690517341973,
          6.2589598482290825,
          3.054065224020701,
          1.3488856187423683,
          3.2650162194585017,
          1.5949447086783315,
          8.01714827313584,
          7.297300785870719,
          5.2610831937207445,
          1.1661455572534674,
          7.5836684718522696,
          1.5527734415639993,
          2.09295782845867,
          4.944246149455916,
          8.079355758991504,
          3.944243649163683,
          5.896945765458843,
          8.379897041671112,
          7.212630657700976,
          7.6542200683165635,
          1.6956122244996117,
          2.0071861980940944,
          3.557343771958754,
          8.28556251812515,
          2.854722717352496,
          5.663935684783879,
          7.6909462578554795,
          7.988250756842557,
          2.408257122564693,
          2.100036208549312,
          3.0417060501847395,
          6.590434804475373,
          9.175581867650697,
          8.063279416580997,
          3.45891729494943,
          3.4141620373191826,
          3.2196577999381244,
          1.8025585208020087,
          1.7597229058342074,
          6.475963383243728,
          3.9103282404114736,
          3.3821769512913376,
          4.057572234488057,
          4.810509412559445,
          4.180988576266301,
          6.068428296104002,
          7.082324074381135,
          9.874613086295355,
          9.882934567949924,
          9.21824643697992,
          8.348299430252466,
          6.304972219778589,
          9.420432229782191,
          9.068627952593195,
          1.77285354520361,
          2.452322260463686,
          2.5523699791582213,
          3.7140522891548238,
          3.821468343928483,
          6.644486136199187,
          2.6771079822118975,
          2.872803114452689,
          3.733566742596025,
          4.592233785543546,
          8.92629739342447,
          1.9536923263156112,
          2.3731209816902683,
          8.771030795339449,
          2.805778961509439,
          2.939304776622478,
          5.259241106365,
          7.834206431196223,
          2.0127518377263924,
          1.9367293165924035,
          1.918748376787441,
          3.4032823579623708,
          4.428714587784017,
          8.921692858857178,
          2.316858089951999,
          2.2418315113899703,
          4.969287800600168,
          5.631012900455406,
          7.943478190719505,
          8.68334573034776,
          0.9655457797404124,
          1.4224262855413707,
          1.7060712244099374,
          2.0484663174781135,
          5.881738724441223,
          2.6169424010347218,
          2.6205170674413196,
          2.2332859451868834,
          1.6954597814580727,
          3.830519589957733,
          5.822750647496323,
          5.980866008839054,
          5.637794248078073,
          6.321861203333581,
          2.3086367004693957,
          3.0520926913388085,
          2.8721462439407515,
          6.832842113749275,
          8.025496173783713,
          5.346834851329915,
          5.377660971867929,
          1.3940907243177703,
          2.7366540165351156,
          4.5525625771848,
          1.9939563672774496,
          3.160121442663855,
          3.5295000328744557,
          3.1441208855125296,
          2.500645595288852,
          3.4537900635003815,
          2.192228842542476,
          6.093938098676057,
          2.0550864780190006,
          2.3612397928574578,
          3.0657171990375947,
          4.262712240068382,
          7.186228802166865,
          8.731275363497806,
          0.6560807858990516,
          1.275143878549933,
          4.029206904931105,
          1.4977083848981472,
          4.969285923762026,
          1.0310345354577308,
          1.9681411294106652,
          1.7962901995958473,
          4.9184828635727875,
          1.9240096236900472,
          1.794298097060246,
          1.824593839252427,
          4.600500827009949,
          8.221764746731584,
          2.1412628709476182,
          6.92978927825369,
          1.1043596155698685,
          2.5023183899579604,
          2.7496686535693087,
          4.754588266701116,
          5.233440259760251,
          2.397537277656998,
          2.9710224621132415,
          2.880993918792627,
          2.318184733099274,
          2.210975641264087,
          5.397509123304236,
          1.991570876423383,
          2.8508983493601394,
          1.8413358932576465,
          8.464940345162672,
          2.402093119899737,
          3.3508187395711553,
          4.09179152605676,
          4.224673104785217,
          6.799399529459363,
          7.246694070326916,
          2.8254876328651446,
          8.480248735575096,
          9.80089529421197,
          5.8554064074626115,
          5.911679286349577,
          5.539619234828879,
          1.8248145654470096,
          1.7182528198850817,
          1.1496468727949074,
          2.5869346937039537,
          5.9651883357924484,
          4.647799314642777,
          1.48590548682172,
          1.2823612805554754,
          3.6965485863803402,
          2.097092952510206,
          5.95565246094253,
          9.66325055176258,
          1.1467863674578396,
          3.169982603762338,
          6.6890926478330766,
          1.555109723358952,
          1.6057323866164042,
          2.27968273427011,
          3.783717443648001,
          2.4366425914816747,
          7.55962080255912,
          3.1939269854719945,
          4.139615792787858,
          4.88383641640714,
          1.8069801029725305,
          3.77501560989718,
          3.493627340906865,
          8.810816729715736,
          8.96355116468282,
          1.0542841027816816,
          1.4495832632219074,
          1.9829634201619353,
          1.9537338070761852,
          2.0179845741944944,
          2.3849271090873265,
          5.69115030551657,
          6.645064459431815,
          8.169828636396682,
          2.3037495398497105,
          2.30040336523726,
          2.203048208817212,
          4.041317283522444,
          8.210058977560292,
          5.171532100510896,
          6.095426075504552,
          8.91846198128304,
          3.5682273417154127,
          2.997801444930448,
          2.8256647650721702,
          4.987238211937542,
          9.711239368041987,
          2.1863659362279115,
          2.480175640438362,
          2.1716391682770557,
          1.4077604892410873,
          2.073108489304521,
          2.6785870765170103,
          9.934872825863648,
          1.8172991983510183,
          3.924455095170878,
          7.998392136982842,
          7.5008603259627495,
          7.047677214616507,
          6.825299097913171,
          7.656185409205159,
          1.2379108909118748,
          1.7540883850905813,
          2.7137934273652955,
          4.608310232685685,
          5.52559536681164,
          3.9752829628429467,
          5.2816496387130725,
          4.572885503116802,
          9.413664115812711,
          5.839597984987197,
          2.1974352563854644,
          2.1089456953325882,
          6.169747745602005,
          5.591492005087532,
          1.723558099159193,
          2.2552735759917226,
          3.6930964136728215,
          8.598730198776831,
          5.341658622168232,
          2.105317690553745,
          2.917162482077078,
          1.7111504393542558,
          6.972622062725135,
          0.9679283200767199,
          1.7858766978886977,
          3.9397331984524477,
          5.868327555653707,
          5.936673673020044,
          1.7306181629354038,
          5.614916712297421,
          4.664390959618075,
          5.1081252222933005,
          5.294368237213268,
          10.033907201984968,
          2.523947099142965,
          2.527722110203669,
          5.395952991048201,
          2.7289226585700455,
          4.415590737284057,
          1.5841216213262872,
          2.849578212397567,
          1.3225662398863818,
          3.6364499043874225,
          4.360094659370536,
          3.918718519702789,
          3.496495303426499,
          2.595811789440759,
          2.4060760411498885,
          4.163845033087985,
          2.910782357039814,
          8.672429450844877,
          2.2249890852225986,
          1.6595952560310412,
          2.05948027910426,
          2.7883076960900097,
          2.1225934402725883,
          3.7427443336365838,
          4.480364080141574,
          4.681489896587289,
          7.941656262981656,
          10.546292752682593
         ],
         "yaxis": "y"
        },
        {
         "line": {
          "width": 3
         },
         "mode": "lines",
         "name": "control_train regression",
         "type": "scatter",
         "x": [
          0.2,
          4,
          6.2,
          9.2,
          12.6,
          0.1,
          2,
          4.1,
          6.1,
          9.4,
          12.1,
          0.2,
          0.7,
          1.8,
          3.9,
          6.5,
          9.2,
          1,
          2.1,
          6.7,
          9,
          0.1,
          0.5,
          1.2,
          2.3,
          4.1,
          6.1,
          9.2,
          2,
          4.3,
          9.9,
          12.2,
          1,
          2.1,
          6.5,
          9,
          0.2,
          0.4,
          1.1,
          2.1,
          0.1,
          0.5,
          1,
          2,
          4.2,
          6.2,
          12,
          1.1,
          2.1,
          4,
          6.3,
          12.9,
          0.2,
          0.7,
          1.1,
          2.1,
          3.9,
          6.4,
          12.1,
          0.2,
          0.4,
          1.1,
          2,
          4.7,
          6.3,
          0.2,
          0.5,
          1,
          2.1,
          4.2,
          6.5,
          9.2,
          1,
          2,
          6.3,
          12.4,
          0.1,
          0.5,
          3.1,
          2,
          4.1,
          7,
          9.3,
          0.3,
          0.5,
          1.9,
          4.4,
          6.1,
          0.4,
          1.3,
          2,
          4,
          6,
          8.4,
          12.1,
          0.1,
          0.5,
          4,
          6.1,
          12.7,
          0.2,
          0.4,
          0.9,
          2,
          12.8,
          0.1,
          0.5,
          3.1,
          1.1,
          2.1,
          3.7,
          0.2,
          0.4,
          1.7,
          6.4,
          7.4,
          7.9,
          7.5,
          1.1,
          2.2,
          4.1,
          6.1,
          12.1,
          0.1,
          11.3,
          1,
          9.3,
          0.1,
          0.3,
          0.9,
          2.3,
          4.2,
          6.2,
          9.6,
          0.4,
          4.1,
          9.6,
          12.6,
          0.2,
          0.5,
          1.1,
          2,
          0.4,
          2.2,
          6.4,
          9,
          0.2,
          0.7,
          1.9,
          6,
          9.2,
          0.5,
          0.9,
          2,
          6,
          9,
          12.2,
          0.5,
          1.1,
          4.1,
          9.1,
          0.3,
          1,
          1.9,
          3.9,
          6.3,
          9.2,
          12.1,
          0.5,
          0.3,
          0.8,
          1.9,
          3.9,
          9.2,
          0.4,
          0.9,
          2,
          6.1,
          11,
          12.1,
          1,
          2.2,
          4.2,
          6.3,
          9.2,
          0.4,
          3.9,
          6.2,
          0.2,
          0.5,
          1.1,
          9.2,
          0.1,
          0.2,
          1.1,
          1.9,
          0.2,
          0.4,
          0.7,
          1.1,
          2.1,
          6.2,
          9.4,
          13.3,
          0.3,
          1,
          4.2,
          9.5,
          12.7,
          0.9,
          4.1,
          6.3,
          9.4,
          0.8,
          2,
          4.2,
          6.2,
          9.4,
          12.3,
          0.5,
          4,
          6.6,
          0.5,
          8.7,
          4.1,
          9.2,
          0.2,
          0.4,
          1.1,
          4.3,
          6.1,
          9.3,
          12.2,
          0.2,
          0.4,
          1.7,
          12.3,
          0.4,
          0.9,
          10.5,
          1.1,
          1.8,
          7.3,
          9.2,
          12.5,
          0.2,
          0.5,
          4.2,
          7.6,
          9.7,
          1.1,
          2,
          4.1,
          6.1,
          1,
          1,
          2.2,
          9.5,
          0.4,
          9.2,
          1,
          2,
          4.1,
          6.2,
          1.1,
          2.2,
          4.3,
          11.7,
          0.1,
          1.2,
          2.1,
          4.1,
          0.6,
          2.1,
          6.4,
          9,
          2.1,
          3.9,
          6.5,
          9.2,
          0.2,
          0.6,
          0.9,
          1.9,
          4,
          6.3,
          9.3,
          12.3,
          2.5,
          5.7,
          11.6,
          4.2,
          9.7,
          0.9,
          1.9,
          4,
          6,
          8.5,
          12.2,
          2.1,
          12.9,
          0.9,
          2,
          4.2,
          6.2,
          9.2,
          12.2,
          0.1,
          0.7,
          9.9,
          1.6,
          4.1,
          6.4,
          12.2,
          0.5,
          2,
          4,
          6.2,
          0.3,
          0.5,
          0.7,
          1.1,
          2.1,
          5.6,
          0.3,
          0.4,
          1,
          2.1,
          0.4,
          0.9,
          4.3,
          9.6,
          0.2,
          0.4,
          1,
          1.8,
          0.3,
          1.1,
          2.1,
          4.1,
          6.1,
          0.3,
          0.6,
          1,
          0.8,
          1.9,
          3.9,
          7,
          0.2,
          0.5,
          0.9,
          9.1
         ],
         "y": [
          0.6434653395074059,
          4.011496771108698,
          5.961409705193656,
          8.62038188803678,
          11.633883695258989,
          0.5548329334126351,
          2.238848649213281,
          4.100129177203468,
          5.872777299098885,
          8.797646700226323,
          11.190721664785135,
          0.6434653395074059,
          1.0866273699812599,
          2.061583837023739,
          3.9228643650139268,
          6.227306923477968,
          8.62038188803678,
          1.3525245882655725,
          2.327481055308052,
          6.40457173566751,
          8.443117075847239,
          0.5548329334126351,
          0.9093625577917184,
          1.5297894004551142,
          2.504745867497593,
          4.100129177203468,
          5.872777299098885,
          8.62038188803678,
          2.238848649213281,
          4.27739398939301,
          9.240808730700177,
          11.279354070879906,
          1.3525245882655725,
          2.327481055308052,
          6.227306923477968,
          8.443117075847239,
          0.6434653395074059,
          0.8207301516969476,
          1.4411569943603435,
          2.327481055308052,
          0.5548329334126351,
          0.9093625577917184,
          1.3525245882655725,
          2.238848649213281,
          4.188761583298239,
          5.961409705193656,
          11.102089258690365,
          1.4411569943603435,
          2.327481055308052,
          4.011496771108698,
          6.050042111288427,
          11.899780913543303,
          0.6434653395074059,
          1.0866273699812599,
          1.4411569943603435,
          2.327481055308052,
          3.9228643650139268,
          6.138674517383198,
          11.190721664785135,
          0.6434653395074059,
          0.8207301516969476,
          1.4411569943603435,
          2.238848649213281,
          4.631923613772093,
          6.050042111288427,
          0.6434653395074059,
          0.9093625577917184,
          1.3525245882655725,
          2.327481055308052,
          4.188761583298239,
          6.227306923477968,
          8.62038188803678,
          1.3525245882655725,
          2.238848649213281,
          6.050042111288427,
          11.456618883069448,
          0.5548329334126351,
          0.9093625577917184,
          3.21380511625576,
          2.238848649213281,
          4.100129177203468,
          6.670468953951822,
          8.709014294131553,
          0.7320977456021767,
          0.9093625577917184,
          2.1502162431185097,
          4.366026395487781,
          5.872777299098885,
          0.8207301516969476,
          1.618421806549885,
          2.238848649213281,
          4.011496771108698,
          5.784144893004115,
          7.911322639278614,
          11.190721664785135,
          0.5548329334126351,
          0.9093625577917184,
          4.011496771108698,
          5.872777299098885,
          11.72251610135376,
          0.6434653395074059,
          0.8207301516969476,
          1.2638921821708018,
          2.238848649213281,
          11.811148507448532,
          0.5548329334126351,
          0.9093625577917184,
          3.21380511625576,
          1.4411569943603435,
          2.327481055308052,
          3.7455995528243853,
          0.6434653395074059,
          0.8207301516969476,
          1.9729514309289684,
          6.138674517383198,
          7.024998578330907,
          7.4681606088047605,
          7.1136309844256775,
          1.4411569943603435,
          2.416113461402823,
          4.100129177203468,
          5.872777299098885,
          11.190721664785135,
          0.5548329334126351,
          10.48166241602697,
          1.3525245882655725,
          8.709014294131553,
          0.5548329334126351,
          0.7320977456021767,
          1.2638921821708018,
          2.504745867497593,
          4.188761583298239,
          5.961409705193656,
          8.974911512415865,
          0.8207301516969476,
          4.100129177203468,
          8.974911512415865,
          11.633883695258989,
          0.6434653395074059,
          0.9093625577917184,
          1.4411569943603435,
          2.238848649213281,
          0.8207301516969476,
          2.416113461402823,
          6.138674517383198,
          8.443117075847239,
          0.6434653395074059,
          1.0866273699812599,
          2.1502162431185097,
          5.784144893004115,
          8.62038188803678,
          0.9093625577917184,
          1.2638921821708018,
          2.238848649213281,
          5.784144893004115,
          8.443117075847239,
          11.279354070879906,
          0.9093625577917184,
          1.4411569943603435,
          4.100129177203468,
          8.53174948194201,
          0.7320977456021767,
          1.3525245882655725,
          2.1502162431185097,
          3.9228643650139268,
          6.050042111288427,
          8.62038188803678,
          11.190721664785135,
          0.9093625577917184,
          0.7320977456021767,
          1.175259776076031,
          2.1502162431185097,
          3.9228643650139268,
          8.62038188803678,
          0.8207301516969476,
          1.2638921821708018,
          2.238848649213281,
          5.872777299098885,
          10.215765197742657,
          11.190721664785135,
          1.3525245882655725,
          2.416113461402823,
          4.188761583298239,
          6.050042111288427,
          8.62038188803678,
          0.8207301516969476,
          3.9228643650139268,
          5.961409705193656,
          0.6434653395074059,
          0.9093625577917184,
          1.4411569943603435,
          8.62038188803678,
          0.5548329334126351,
          0.6434653395074059,
          1.4411569943603435,
          2.1502162431185097,
          0.6434653395074059,
          0.8207301516969476,
          1.0866273699812599,
          1.4411569943603435,
          2.327481055308052,
          5.961409705193656,
          8.797646700226323,
          12.254310537922386,
          0.7320977456021767,
          1.3525245882655725,
          4.188761583298239,
          8.886279106321094,
          11.72251610135376,
          1.2638921821708018,
          4.100129177203468,
          6.050042111288427,
          8.797646700226323,
          1.175259776076031,
          2.238848649213281,
          4.188761583298239,
          5.961409705193656,
          8.797646700226323,
          11.367986476974679,
          0.9093625577917184,
          4.011496771108698,
          6.315939329572739,
          0.9093625577917184,
          8.177219857562926,
          4.100129177203468,
          8.62038188803678,
          0.6434653395074059,
          0.8207301516969476,
          1.4411569943603435,
          4.27739398939301,
          5.872777299098885,
          8.709014294131553,
          11.279354070879906,
          0.6434653395074059,
          0.8207301516969476,
          1.9729514309289684,
          11.367986476974679,
          0.8207301516969476,
          1.2638921821708018,
          9.772603167268802,
          1.4411569943603435,
          2.061583837023739,
          6.936366172236134,
          8.62038188803678,
          11.545251289164218,
          0.6434653395074059,
          0.9093625577917184,
          4.188761583298239,
          7.2022633905204465,
          9.063543918510634,
          1.4411569943603435,
          2.238848649213281,
          4.100129177203468,
          5.872777299098885,
          1.3525245882655725,
          1.3525245882655725,
          2.416113461402823,
          8.886279106321094,
          0.8207301516969476,
          8.62038188803678,
          1.3525245882655725,
          2.238848649213281,
          4.100129177203468,
          5.961409705193656,
          1.4411569943603435,
          2.416113461402823,
          4.27739398939301,
          10.83619204040605,
          0.5548329334126351,
          1.5297894004551142,
          2.327481055308052,
          4.100129177203468,
          0.9979949638864892,
          2.327481055308052,
          6.138674517383198,
          8.443117075847239,
          2.327481055308052,
          3.9228643650139268,
          6.227306923477968,
          8.62038188803678,
          0.6434653395074059,
          0.9979949638864892,
          1.2638921821708018,
          2.1502162431185097,
          4.011496771108698,
          6.050042111288427,
          8.709014294131553,
          11.367986476974679,
          2.682010679687135,
          5.518247674719802,
          10.747559634311282,
          4.188761583298239,
          9.063543918510634,
          1.2638921821708018,
          2.1502162431185097,
          4.011496771108698,
          5.784144893004115,
          7.999955045373385,
          11.279354070879906,
          2.327481055308052,
          11.899780913543303,
          1.2638921821708018,
          2.238848649213281,
          4.188761583298239,
          5.961409705193656,
          8.62038188803678,
          11.279354070879906,
          0.5548329334126351,
          1.0866273699812599,
          9.240808730700177,
          1.8843190248341977,
          4.100129177203468,
          6.138674517383198,
          11.279354070879906,
          0.9093625577917184,
          2.238848649213281,
          4.011496771108698,
          5.961409705193656,
          0.7320977456021767,
          0.9093625577917184,
          1.0866273699812599,
          1.4411569943603435,
          2.327481055308052,
          5.42961526862503,
          0.7320977456021767,
          0.8207301516969476,
          1.3525245882655725,
          2.327481055308052,
          0.8207301516969476,
          1.2638921821708018,
          4.27739398939301,
          8.974911512415865,
          0.6434653395074059,
          0.8207301516969476,
          1.3525245882655725,
          2.061583837023739,
          0.7320977456021767,
          1.4411569943603435,
          2.327481055308052,
          4.100129177203468,
          5.872777299098885,
          0.7320977456021767,
          0.9979949638864892,
          1.3525245882655725,
          1.175259776076031,
          2.1502162431185097,
          3.9228643650139268,
          6.670468953951822,
          0.6434653395074059,
          0.9093625577917184,
          1.2638921821708018,
          8.53174948194201
         ]
        },
        {
         "line": {
          "width": 3
         },
         "mode": "lines",
         "name": "control_test regression",
         "type": "scatter",
         "x": [
          1.1,
          1.8,
          4.1,
          6.3,
          12.2,
          0.2,
          0.4,
          1.1,
          2.2,
          4,
          9.3,
          12.1,
          0.7,
          1.4,
          2.1,
          4.1,
          0.1,
          0.4,
          1.1,
          2.6,
          4.3,
          9.2,
          0.2,
          1.1,
          1.9,
          4.1,
          9.1,
          12.6,
          0.5,
          1,
          2.1,
          3.9,
          0.2,
          1.4,
          2.2,
          4.1,
          6.7,
          12.9,
          0.5,
          1,
          2.2,
          3.9,
          6,
          12.4,
          0.8,
          1.9,
          6.5,
          9.3,
          12.5,
          0.6,
          1,
          2.1,
          4.1,
          6.3,
          9,
          1.4,
          2.4,
          4,
          12.6,
          0.2,
          2.3,
          4.1,
          6.2,
          9.1,
          0.3,
          4.4,
          1.1,
          4.1,
          6.2,
          12.3
         ],
         "y": [
          2.9955465759218334,
          3.337574171408494,
          4.461379128007522,
          5.536322999537027,
          8.41912701863888,
          2.555796810296127,
          2.6535189804351726,
          2.9955465759218334,
          3.5330185116865858,
          4.412518042937998,
          7.002155551622716,
          8.370265933569357,
          2.8001022356437417,
          3.1421298311304025,
          3.484157426617063,
          4.461379128007522,
          2.506935725226604,
          2.6535189804351726,
          2.9955465759218334,
          3.728462851964678,
          4.559101298146567,
          6.953294466553192,
          2.555796810296127,
          2.9955465759218334,
          3.386435256478017,
          4.461379128007522,
          6.904433381483669,
          8.614571358916972,
          2.7023800655046957,
          2.9466854908523104,
          3.484157426617063,
          4.363656957868476,
          2.555796810296127,
          3.1421298311304025,
          3.5330185116865858,
          4.461379128007522,
          5.731767339815118,
          8.761154614125541,
          2.7023800655046957,
          2.9466854908523104,
          3.5330185116865858,
          4.363656957868476,
          5.389739744328458,
          8.516849188777925,
          2.8489633207132647,
          3.386435256478017,
          5.634045169676073,
          7.002155551622716,
          8.56571027384745,
          2.7512411505742187,
          2.9466854908523104,
          3.484157426617063,
          4.461379128007522,
          5.536322999537027,
          6.855572296414146,
          3.1421298311304025,
          3.630740681825632,
          4.412518042937998,
          8.614571358916972,
          2.555796810296127,
          3.581879596756109,
          4.461379128007522,
          5.487461914467504,
          6.904433381483669,
          2.6046578953656496,
          4.6079623832160905,
          2.9955465759218334,
          4.461379128007522,
          5.487461914467504,
          8.467988103708404
         ]
        },
        {
         "line": {
          "width": 3
         },
         "mode": "lines",
         "name": "test regression",
         "type": "scatter",
         "x": [
          0.4,
          7.7,
          8.9,
          10.2,
          10.7,
          11.4,
          11.5,
          12.6,
          1.1,
          4.1,
          6.1,
          9.5,
          0.2,
          0.9,
          1.8,
          4.1,
          0.1,
          0.5,
          1,
          6,
          9,
          11.5,
          0.7,
          1.3,
          1.8,
          4.1,
          6.6,
          12.4,
          12.9,
          1.1,
          6.2,
          9.7,
          12.2,
          0.4,
          0.6,
          0.8,
          2.1,
          7.6,
          0.9,
          2.1,
          4,
          6.7,
          9.1,
          12.3,
          2.1,
          4.1,
          6.2,
          9.2,
          12.6,
          0.5,
          5.3,
          1,
          4.2,
          6.1,
          9.1,
          0.2,
          0.4,
          0.9,
          2,
          4.1,
          6.3,
          9.1,
          0.2,
          0.5,
          1.1,
          2.1,
          4.1,
          6.4,
          9.5,
          12.2,
          0.1,
          0.4,
          0.8,
          2,
          4,
          12.4,
          0.1,
          0.3,
          5.9,
          9.2,
          12.7,
          1,
          2.2,
          0.4,
          9.9,
          2.1,
          6.2,
          12.2,
          0.5,
          5.4,
          1,
          2.1,
          9.2,
          0.3,
          0.4,
          4.2,
          12.1,
          1.9,
          6.1,
          9.1,
          12.3,
          0.4,
          11.6,
          4.2,
          9,
          12.1,
          0.5,
          5,
          5.3,
          6.7,
          1.1,
          2,
          4.1,
          6.2,
          8.9,
          11.8,
          0.6,
          1,
          4.2,
          9.2,
          0.3,
          0.5,
          1.1,
          2,
          4.1,
          9.1,
          11.8,
          1.9,
          12.2,
          0.5,
          2.8,
          1.1,
          2.1,
          4.8,
          0.6,
          1,
          2,
          4,
          0.2,
          1.3,
          3.6,
          5.4,
          8.3,
          10.1,
          10.8,
          0.9,
          2,
          5,
          7.1,
          13.1,
          0.1,
          4.3,
          5,
          2,
          6.2,
          9.1,
          12.6,
          0.6,
          1.1,
          4.3,
          6.2,
          9.2,
          12,
          0.5,
          2.3,
          2.4,
          3,
          5.5,
          1.1,
          4.1,
          6.6,
          9.4,
          12.3,
          8.5,
          1,
          2.3,
          4,
          6.2,
          9.1,
          12.6,
          0.1,
          0.6,
          1.3,
          8.6,
          2.2,
          4.1,
          6.4,
          0.4,
          1,
          2.1,
          9.2,
          12.2,
          6.3,
          6.9,
          0.9,
          1.9,
          4,
          6.3,
          9.7,
          1.3,
          1.5,
          1.1,
          1.8,
          0.2,
          0.4,
          9.5,
          12.1,
          0.5,
          1.1,
          1.2,
          3,
          5.5,
          1,
          2,
          6.7,
          9,
          12.5,
          1.5,
          6.6,
          9.1,
          13,
          0.4,
          0.9,
          6.4,
          9.3,
          12.1,
          1.7,
          4.1,
          6.4,
          12.2,
          0.2,
          0.6,
          1.5,
          1.3,
          4.4,
          0.9,
          2,
          8.5,
          12.4,
          1.2,
          10.9,
          1.9,
          6.3,
          9.3,
          12.1,
          3.2,
          4.8,
          8,
          10.3,
          4.1,
          5.9,
          12.1,
          7.3,
          1.1,
          2.2,
          4,
          9.1,
          12.1,
          0.1,
          0.6,
          2.2,
          4.7,
          7.3,
          9.3,
          10.2,
          12.9,
          1.9,
          6.1,
          9.1,
          12.3,
          0.4,
          0.6,
          1.1,
          2,
          4,
          0.2,
          0.4,
          0.7,
          1.1,
          9.6,
          0.9,
          10.8,
          10.9,
          12.1,
          0.5,
          8.5,
          1.3,
          2,
          6.2,
          9.1,
          1.1,
          2,
          4.2,
          6.2,
          9.2,
          0.2,
          0.4,
          1.2,
          8.4,
          1,
          2.3,
          4.6,
          9.2,
          0.4,
          2,
          4.1,
          6.4,
          9.2,
          12.4,
          4.6,
          5,
          5.5,
          0.9,
          2,
          6.1,
          1.8,
          2.1,
          2.7,
          4.1,
          3.2,
          6,
          8,
          8.9,
          9.7,
          10.4,
          10.5,
          6.2,
          9.4,
          12.5,
          0.1,
          0.5,
          1.7,
          2.1,
          5.7,
          7.8,
          1,
          2.3,
          4.5,
          6.6,
          9.8,
          0.7,
          1.6,
          9.2,
          1.1,
          1.9,
          3.9,
          6.4,
          0.2,
          0.4,
          0.6,
          4.8,
          4.6,
          10.6,
          1.1,
          2.3,
          4.3,
          6.2,
          9.3,
          12.2,
          0.4,
          0.7,
          0.9,
          3.6,
          5.1,
          5.4,
          5.7,
          6.1,
          1.1,
          7.3,
          8.1,
          8.9,
          7.5,
          8.7,
          2.4,
          4.5,
          6.3,
          9.1,
          12.6,
          4.9,
          5.2,
          1,
          1.9,
          4.3,
          0.4,
          3.1,
          3.7,
          4.7,
          5,
          5.3,
          3.6,
          8,
          0.9,
          2,
          4.2,
          7,
          9.2,
          12.3,
          0.3,
          0.9,
          3.1,
          1.2,
          4.4,
          0.3,
          1.1,
          1.9,
          9.3,
          0.5,
          1.2,
          1.4,
          7.1,
          12.7,
          2.2,
          9,
          0.2,
          0.5,
          0.7,
          3.1,
          4.1,
          0.4,
          1.3,
          3.1,
          0.9,
          2.1,
          4,
          0.5,
          0.9,
          2.1,
          7,
          0.3,
          1.4,
          2.3,
          3.1,
          7.2,
          10,
          1,
          10.7,
          12.9,
          6.2,
          7.4,
          1.2,
          1.9,
          4.1,
          0.2,
          2.3,
          4,
          9.1,
          0.3,
          1.2,
          2.3,
          4,
          8.6,
          12.3,
          0.3,
          0.5,
          7.5,
          0.2,
          0.4,
          1.3,
          1.5,
          3.2,
          7.8,
          2,
          3.9,
          6.2,
          1.1,
          2,
          6.2,
          9.1,
          12.1,
          0.5,
          0.7,
          2.5,
          2.6,
          3,
          3.3,
          10.3,
          10.8,
          10.8,
          1,
          2.1,
          4.1,
          12.5,
          6.7,
          2.9,
          3.9,
          9.3,
          1.6,
          1.6,
          1.1,
          3.9,
          9.2,
          1.2,
          1,
          1.6,
          0.4,
          1.1,
          2.2,
          12.2,
          0.5,
          1.4,
          5.2,
          10,
          4.1,
          6.2,
          12.3,
          0.4,
          0.9,
          2,
          8.9,
          1.3,
          11.2,
          1.1,
          2.1,
          9.1,
          2.6,
          2.7,
          2.1,
          9.5,
          9.7,
          1.1,
          1.9,
          4,
          6.2,
          9,
          0.2,
          1.5,
          0.9,
          6.2,
          0.5,
          1.1,
          2.1,
          4,
          8.8,
          0.5,
          1.3,
          2.4,
          4.5,
          7,
          9.8,
          0.6,
          1.9,
          3,
          0.9,
          2,
          6.4,
          0.4,
          0.2,
          1.3,
          1.4,
          1.5,
          1.8,
          2.2,
          0.9,
          2,
          4.2,
          9.1,
          0.4,
          0.9,
          1.3,
          2.1,
          2.1,
          6.2,
          1.1,
          2,
          7.6,
          9.5
         ],
         "y": [
          2.1006297482593865,
          6.060378980343316,
          6.7112966623297154,
          7.416457484481647,
          7.687673185309314,
          8.067375166468047,
          8.12161830663358,
          8.718292848454446,
          2.4803317294181197,
          4.107625934384117,
          5.1924887376947835,
          7.036755503322915,
          1.99214346792832,
          2.3718454490870533,
          2.8600337105768525,
          4.107625934384117,
          1.9379003277627869,
          2.15487288842492,
          2.4260885892525863,
          5.1382455975292505,
          6.7655398024952484,
          8.12161830663358,
          2.2633591687559864,
          2.588818009749186,
          2.8600337105768525,
          4.107625934384117,
          5.46370443852245,
          8.60980656812338,
          8.881022268951046,
          2.4803317294181197,
          5.2467318778603165,
          7.145241783653981,
          8.501320287792314,
          2.1006297482593865,
          2.2091160285904534,
          2.31760230892152,
          3.0227631310734524,
          6.006135840177783,
          2.3718454490870533,
          3.0227631310734524,
          4.053382794218585,
          5.517947578687983,
          6.819782942660781,
          8.555563427957846,
          3.0227631310734524,
          4.107625934384117,
          5.2467318778603165,
          6.874026082826314,
          8.718292848454446,
          2.15487288842492,
          4.758543616370517,
          2.4260885892525863,
          4.161869074549651,
          5.1924887376947835,
          6.819782942660781,
          1.99214346792832,
          2.1006297482593865,
          2.3718454490870533,
          2.968519990907919,
          4.107625934384117,
          5.30097501802585,
          6.819782942660781,
          1.99214346792832,
          2.15487288842492,
          2.4803317294181197,
          3.0227631310734524,
          4.107625934384117,
          5.355218158191383,
          7.036755503322915,
          8.501320287792314,
          1.9379003277627869,
          2.1006297482593865,
          2.31760230892152,
          2.968519990907919,
          4.053382794218585,
          8.60980656812338,
          1.9379003277627869,
          2.0463866080938535,
          5.084002457363717,
          6.874026082826314,
          8.772535988619978,
          2.4260885892525863,
          3.077006271238986,
          2.1006297482593865,
          7.253728063985048,
          3.0227631310734524,
          5.2467318778603165,
          8.501320287792314,
          2.15487288842492,
          4.812786756536051,
          2.4260885892525863,
          3.0227631310734524,
          6.874026082826314,
          2.0463866080938535,
          2.1006297482593865,
          4.161869074549651,
          8.44707714762678,
          2.914276850742386,
          5.1924887376947835,
          6.819782942660781,
          8.555563427957846,
          2.1006297482593865,
          8.175861446799114,
          4.161869074549651,
          6.7655398024952484,
          8.44707714762678,
          2.15487288842492,
          4.595814195873917,
          4.758543616370517,
          5.517947578687983,
          2.4803317294181197,
          2.968519990907919,
          4.107625934384117,
          5.2467318778603165,
          6.7112966623297154,
          8.28434772713018,
          2.2091160285904534,
          2.4260885892525863,
          4.161869074549651,
          6.874026082826314,
          2.0463866080938535,
          2.15487288842492,
          2.4803317294181197,
          2.968519990907919,
          4.107625934384117,
          6.819782942660781,
          8.28434772713018,
          2.914276850742386,
          8.501320287792314,
          2.15487288842492,
          3.4024651122321856,
          2.4803317294181197,
          3.0227631310734524,
          4.487327915542851,
          2.2091160285904534,
          2.4260885892525863,
          2.968519990907919,
          4.053382794218585,
          1.99214346792832,
          2.588818009749186,
          3.8364102335564514,
          4.812786756536051,
          6.385837821336516,
          7.362214344316114,
          7.741916325474848,
          2.3718454490870533,
          2.968519990907919,
          4.595814195873917,
          5.734920139350116,
          8.989508549282114,
          1.9379003277627869,
          4.216112214715185,
          4.595814195873917,
          2.968519990907919,
          5.2467318778603165,
          6.819782942660781,
          8.718292848454446,
          2.2091160285904534,
          2.4803317294181197,
          4.216112214715185,
          5.2467318778603165,
          6.874026082826314,
          8.392834007461246,
          2.15487288842492,
          3.131249411404519,
          3.1854925515700523,
          3.510951392563252,
          4.867029896701584,
          2.4803317294181197,
          4.107625934384117,
          5.46370443852245,
          6.982512363157382,
          8.555563427957846,
          6.494324101667583,
          2.4260885892525863,
          3.131249411404519,
          4.053382794218585,
          5.2467318778603165,
          6.819782942660781,
          8.718292848454446,
          1.9379003277627869,
          2.2091160285904534,
          2.588818009749186,
          6.548567241833116,
          3.077006271238986,
          4.107625934384117,
          5.355218158191383,
          2.1006297482593865,
          2.4260885892525863,
          3.0227631310734524,
          6.874026082826314,
          8.501320287792314,
          5.30097501802585,
          5.62643385901905,
          2.3718454490870533,
          2.914276850742386,
          4.053382794218585,
          5.30097501802585,
          7.145241783653981,
          2.588818009749186,
          2.697304290080253,
          2.4803317294181197,
          2.8600337105768525,
          1.99214346792832,
          2.1006297482593865,
          7.036755503322915,
          8.44707714762678,
          2.15487288842492,
          2.4803317294181197,
          2.534574869583653,
          3.510951392563252,
          4.867029896701584,
          2.4260885892525863,
          2.968519990907919,
          5.517947578687983,
          6.7655398024952484,
          8.664049708288914,
          2.697304290080253,
          5.46370443852245,
          6.819782942660781,
          8.93526540911658,
          2.1006297482593865,
          2.3718454490870533,
          5.355218158191383,
          6.928269222991848,
          8.44707714762678,
          2.805790570411319,
          4.107625934384117,
          5.355218158191383,
          8.501320287792314,
          1.99214346792832,
          2.2091160285904534,
          2.697304290080253,
          2.588818009749186,
          4.270355354880718,
          2.3718454490870533,
          2.968519990907919,
          6.494324101667583,
          8.60980656812338,
          2.534574869583653,
          7.796159465640381,
          2.914276850742386,
          5.30097501802585,
          6.928269222991848,
          8.44707714762678,
          3.6194376728943185,
          4.487327915542851,
          6.223108400839916,
          7.470700624647182,
          4.107625934384117,
          5.084002457363717,
          8.44707714762678,
          5.843406419681182,
          2.4803317294181197,
          3.077006271238986,
          4.053382794218585,
          6.819782942660781,
          8.44707714762678,
          1.9379003277627869,
          2.2091160285904534,
          3.077006271238986,
          4.433084775377318,
          5.843406419681182,
          6.928269222991848,
          7.416457484481647,
          8.881022268951046,
          2.914276850742386,
          5.1924887376947835,
          6.819782942660781,
          8.555563427957846,
          2.1006297482593865,
          2.2091160285904534,
          2.4803317294181197,
          2.968519990907919,
          4.053382794218585,
          1.99214346792832,
          2.1006297482593865,
          2.2633591687559864,
          2.4803317294181197,
          7.090998643488448,
          2.3718454490870533,
          7.741916325474848,
          7.796159465640381,
          8.44707714762678,
          2.15487288842492,
          6.494324101667583,
          2.588818009749186,
          2.968519990907919,
          5.2467318778603165,
          6.819782942660781,
          2.4803317294181197,
          2.968519990907919,
          4.161869074549651,
          5.2467318778603165,
          6.874026082826314,
          1.99214346792832,
          2.1006297482593865,
          2.534574869583653,
          6.440080961502049,
          2.4260885892525863,
          3.131249411404519,
          4.378841635211784,
          6.874026082826314,
          2.1006297482593865,
          2.968519990907919,
          4.107625934384117,
          5.355218158191383,
          6.874026082826314,
          8.60980656812338,
          4.378841635211784,
          4.595814195873917,
          4.867029896701584,
          2.3718454490870533,
          2.968519990907919,
          5.1924887376947835,
          2.8600337105768525,
          3.0227631310734524,
          3.348221972066652,
          4.107625934384117,
          3.6194376728943185,
          5.1382455975292505,
          6.223108400839916,
          6.7112966623297154,
          7.145241783653981,
          7.524943764812715,
          7.579186904978248,
          5.2467318778603165,
          6.982512363157382,
          8.664049708288914,
          1.9379003277627869,
          2.15487288842492,
          2.805790570411319,
          3.0227631310734524,
          4.975516177032651,
          6.114622120508849,
          2.4260885892525863,
          3.131249411404519,
          4.324598495046251,
          5.46370443852245,
          7.199484923819515,
          2.2633591687559864,
          2.751547430245786,
          6.874026082826314,
          2.4803317294181197,
          2.914276850742386,
          3.9991396540530513,
          5.355218158191383,
          1.99214346792832,
          2.1006297482593865,
          2.2091160285904534,
          4.487327915542851,
          4.378841635211784,
          7.633430045143781,
          2.4803317294181197,
          3.131249411404519,
          4.216112214715185,
          5.2467318778603165,
          6.928269222991848,
          8.501320287792314,
          2.1006297482593865,
          2.2633591687559864,
          2.3718454490870533,
          3.8364102335564514,
          4.650057336039451,
          4.812786756536051,
          4.975516177032651,
          5.1924887376947835,
          2.4803317294181197,
          5.843406419681182,
          6.277351541005449,
          6.7112966623297154,
          5.951892700012249,
          6.602810381998649,
          3.1854925515700523,
          4.324598495046251,
          5.30097501802585,
          6.819782942660781,
          8.718292848454446,
          4.541571055708385,
          4.704300476204985,
          2.4260885892525863,
          2.914276850742386,
          4.216112214715185,
          2.1006297482593865,
          3.5651945327287855,
          3.890653373721985,
          4.433084775377318,
          4.595814195873917,
          4.758543616370517,
          3.8364102335564514,
          6.223108400839916,
          2.3718454490870533,
          2.968519990907919,
          4.161869074549651,
          5.680676999184583,
          6.874026082826314,
          8.555563427957846,
          2.0463866080938535,
          2.3718454490870533,
          3.5651945327287855,
          2.534574869583653,
          4.270355354880718,
          2.0463866080938535,
          2.4803317294181197,
          2.914276850742386,
          6.928269222991848,
          2.15487288842492,
          2.534574869583653,
          2.6430611499147196,
          5.734920139350116,
          8.772535988619978,
          3.077006271238986,
          6.7655398024952484,
          1.99214346792832,
          2.15487288842492,
          2.2633591687559864,
          3.5651945327287855,
          4.107625934384117,
          2.1006297482593865,
          2.588818009749186,
          3.5651945327287855,
          2.3718454490870533,
          3.0227631310734524,
          4.053382794218585,
          2.15487288842492,
          2.3718454490870533,
          3.0227631310734524,
          5.680676999184583,
          2.0463866080938535,
          2.6430611499147196,
          3.131249411404519,
          3.5651945327287855,
          5.78916327951565,
          7.307971204150581,
          2.4260885892525863,
          7.687673185309314,
          8.881022268951046,
          5.2467318778603165,
          5.897649559846716,
          2.534574869583653,
          2.914276850742386,
          4.107625934384117,
          1.99214346792832,
          3.131249411404519,
          4.053382794218585,
          6.819782942660781,
          2.0463866080938535,
          2.534574869583653,
          3.131249411404519,
          4.053382794218585,
          6.548567241833116,
          8.555563427957846,
          2.0463866080938535,
          2.15487288842492,
          5.951892700012249,
          1.99214346792832,
          2.1006297482593865,
          2.588818009749186,
          2.697304290080253,
          3.6194376728943185,
          6.114622120508849,
          2.968519990907919,
          3.9991396540530513,
          5.2467318778603165,
          2.4803317294181197,
          2.968519990907919,
          5.2467318778603165,
          6.819782942660781,
          8.44707714762678,
          2.15487288842492,
          2.2633591687559864,
          3.2397356917355857,
          3.2939788319011187,
          3.510951392563252,
          3.6736808130598515,
          7.470700624647182,
          7.741916325474848,
          7.741916325474848,
          2.4260885892525863,
          3.0227631310734524,
          4.107625934384117,
          8.664049708288914,
          5.517947578687983,
          3.4567082523977186,
          3.9991396540530513,
          6.928269222991848,
          2.751547430245786,
          2.751547430245786,
          2.4803317294181197,
          3.9991396540530513,
          6.874026082826314,
          2.534574869583653,
          2.4260885892525863,
          2.751547430245786,
          2.1006297482593865,
          2.4803317294181197,
          3.077006271238986,
          8.501320287792314,
          2.15487288842492,
          2.6430611499147196,
          4.704300476204985,
          7.307971204150581,
          4.107625934384117,
          5.2467318778603165,
          8.555563427957846,
          2.1006297482593865,
          2.3718454490870533,
          2.968519990907919,
          6.7112966623297154,
          2.588818009749186,
          7.958888886136981,
          2.4803317294181197,
          3.0227631310734524,
          6.819782942660781,
          3.2939788319011187,
          3.348221972066652,
          3.0227631310734524,
          7.036755503322915,
          7.145241783653981,
          2.4803317294181197,
          2.914276850742386,
          4.053382794218585,
          5.2467318778603165,
          6.7655398024952484,
          1.99214346792832,
          2.697304290080253,
          2.3718454490870533,
          5.2467318778603165,
          2.15487288842492,
          2.4803317294181197,
          3.0227631310734524,
          4.053382794218585,
          6.6570535221641824,
          2.15487288842492,
          2.588818009749186,
          3.1854925515700523,
          4.324598495046251,
          5.680676999184583,
          7.199484923819515,
          2.2091160285904534,
          2.914276850742386,
          3.510951392563252,
          2.3718454490870533,
          2.968519990907919,
          5.355218158191383,
          2.1006297482593865,
          1.99214346792832,
          2.588818009749186,
          2.6430611499147196,
          2.697304290080253,
          2.8600337105768525,
          3.077006271238986,
          2.3718454490870533,
          2.968519990907919,
          4.161869074549651,
          6.819782942660781,
          2.1006297482593865,
          2.3718454490870533,
          2.588818009749186,
          3.0227631310734524,
          3.0227631310734524,
          5.2467318778603165,
          2.4803317294181197,
          2.968519990907919,
          6.006135840177783,
          7.036755503322915
         ]
        },
        {
         "line": {
          "width": 3
         },
         "mode": "lines",
         "name": "label",
         "type": "scatter",
         "x": [
          0,
          1,
          2,
          3,
          4,
          5,
          6,
          7,
          8,
          9,
          10,
          11,
          12,
          13
         ],
         "y": [
          0,
          1,
          2,
          3,
          4,
          5,
          6,
          7,
          8,
          9,
          10,
          11,
          12,
          13
         ]
        }
       ],
       "layout": {
        "legend": {
         "title": {
          "text": "tt"
         },
         "tracegroupgap": 0
        },
        "margin": {
         "t": 60
        },
        "template": {
         "data": {
          "bar": [
           {
            "error_x": {
             "color": "#2a3f5f"
            },
            "error_y": {
             "color": "#2a3f5f"
            },
            "marker": {
             "line": {
              "color": "#E5ECF6",
              "width": 0.5
             }
            },
            "type": "bar"
           }
          ],
          "barpolar": [
           {
            "marker": {
             "line": {
              "color": "#E5ECF6",
              "width": 0.5
             }
            },
            "type": "barpolar"
           }
          ],
          "carpet": [
           {
            "aaxis": {
             "endlinecolor": "#2a3f5f",
             "gridcolor": "white",
             "linecolor": "white",
             "minorgridcolor": "white",
             "startlinecolor": "#2a3f5f"
            },
            "baxis": {
             "endlinecolor": "#2a3f5f",
             "gridcolor": "white",
             "linecolor": "white",
             "minorgridcolor": "white",
             "startlinecolor": "#2a3f5f"
            },
            "type": "carpet"
           }
          ],
          "choropleth": [
           {
            "colorbar": {
             "outlinewidth": 0,
             "ticks": ""
            },
            "type": "choropleth"
           }
          ],
          "contour": [
           {
            "colorbar": {
             "outlinewidth": 0,
             "ticks": ""
            },
            "colorscale": [
             [
              0,
              "#0d0887"
             ],
             [
              0.1111111111111111,
              "#46039f"
             ],
             [
              0.2222222222222222,
              "#7201a8"
             ],
             [
              0.3333333333333333,
              "#9c179e"
             ],
             [
              0.4444444444444444,
              "#bd3786"
             ],
             [
              0.5555555555555556,
              "#d8576b"
             ],
             [
              0.6666666666666666,
              "#ed7953"
             ],
             [
              0.7777777777777778,
              "#fb9f3a"
             ],
             [
              0.8888888888888888,
              "#fdca26"
             ],
             [
              1,
              "#f0f921"
             ]
            ],
            "type": "contour"
           }
          ],
          "contourcarpet": [
           {
            "colorbar": {
             "outlinewidth": 0,
             "ticks": ""
            },
            "type": "contourcarpet"
           }
          ],
          "heatmap": [
           {
            "colorbar": {
             "outlinewidth": 0,
             "ticks": ""
            },
            "colorscale": [
             [
              0,
              "#0d0887"
             ],
             [
              0.1111111111111111,
              "#46039f"
             ],
             [
              0.2222222222222222,
              "#7201a8"
             ],
             [
              0.3333333333333333,
              "#9c179e"
             ],
             [
              0.4444444444444444,
              "#bd3786"
             ],
             [
              0.5555555555555556,
              "#d8576b"
             ],
             [
              0.6666666666666666,
              "#ed7953"
             ],
             [
              0.7777777777777778,
              "#fb9f3a"
             ],
             [
              0.8888888888888888,
              "#fdca26"
             ],
             [
              1,
              "#f0f921"
             ]
            ],
            "type": "heatmap"
           }
          ],
          "heatmapgl": [
           {
            "colorbar": {
             "outlinewidth": 0,
             "ticks": ""
            },
            "colorscale": [
             [
              0,
              "#0d0887"
             ],
             [
              0.1111111111111111,
              "#46039f"
             ],
             [
              0.2222222222222222,
              "#7201a8"
             ],
             [
              0.3333333333333333,
              "#9c179e"
             ],
             [
              0.4444444444444444,
              "#bd3786"
             ],
             [
              0.5555555555555556,
              "#d8576b"
             ],
             [
              0.6666666666666666,
              "#ed7953"
             ],
             [
              0.7777777777777778,
              "#fb9f3a"
             ],
             [
              0.8888888888888888,
              "#fdca26"
             ],
             [
              1,
              "#f0f921"
             ]
            ],
            "type": "heatmapgl"
           }
          ],
          "histogram": [
           {
            "marker": {
             "colorbar": {
              "outlinewidth": 0,
              "ticks": ""
             }
            },
            "type": "histogram"
           }
          ],
          "histogram2d": [
           {
            "colorbar": {
             "outlinewidth": 0,
             "ticks": ""
            },
            "colorscale": [
             [
              0,
              "#0d0887"
             ],
             [
              0.1111111111111111,
              "#46039f"
             ],
             [
              0.2222222222222222,
              "#7201a8"
             ],
             [
              0.3333333333333333,
              "#9c179e"
             ],
             [
              0.4444444444444444,
              "#bd3786"
             ],
             [
              0.5555555555555556,
              "#d8576b"
             ],
             [
              0.6666666666666666,
              "#ed7953"
             ],
             [
              0.7777777777777778,
              "#fb9f3a"
             ],
             [
              0.8888888888888888,
              "#fdca26"
             ],
             [
              1,
              "#f0f921"
             ]
            ],
            "type": "histogram2d"
           }
          ],
          "histogram2dcontour": [
           {
            "colorbar": {
             "outlinewidth": 0,
             "ticks": ""
            },
            "colorscale": [
             [
              0,
              "#0d0887"
             ],
             [
              0.1111111111111111,
              "#46039f"
             ],
             [
              0.2222222222222222,
              "#7201a8"
             ],
             [
              0.3333333333333333,
              "#9c179e"
             ],
             [
              0.4444444444444444,
              "#bd3786"
             ],
             [
              0.5555555555555556,
              "#d8576b"
             ],
             [
              0.6666666666666666,
              "#ed7953"
             ],
             [
              0.7777777777777778,
              "#fb9f3a"
             ],
             [
              0.8888888888888888,
              "#fdca26"
             ],
             [
              1,
              "#f0f921"
             ]
            ],
            "type": "histogram2dcontour"
           }
          ],
          "mesh3d": [
           {
            "colorbar": {
             "outlinewidth": 0,
             "ticks": ""
            },
            "type": "mesh3d"
           }
          ],
          "parcoords": [
           {
            "line": {
             "colorbar": {
              "outlinewidth": 0,
              "ticks": ""
             }
            },
            "type": "parcoords"
           }
          ],
          "pie": [
           {
            "automargin": true,
            "type": "pie"
           }
          ],
          "scatter": [
           {
            "marker": {
             "colorbar": {
              "outlinewidth": 0,
              "ticks": ""
             }
            },
            "type": "scatter"
           }
          ],
          "scatter3d": [
           {
            "line": {
             "colorbar": {
              "outlinewidth": 0,
              "ticks": ""
             }
            },
            "marker": {
             "colorbar": {
              "outlinewidth": 0,
              "ticks": ""
             }
            },
            "type": "scatter3d"
           }
          ],
          "scattercarpet": [
           {
            "marker": {
             "colorbar": {
              "outlinewidth": 0,
              "ticks": ""
             }
            },
            "type": "scattercarpet"
           }
          ],
          "scattergeo": [
           {
            "marker": {
             "colorbar": {
              "outlinewidth": 0,
              "ticks": ""
             }
            },
            "type": "scattergeo"
           }
          ],
          "scattergl": [
           {
            "marker": {
             "colorbar": {
              "outlinewidth": 0,
              "ticks": ""
             }
            },
            "type": "scattergl"
           }
          ],
          "scattermapbox": [
           {
            "marker": {
             "colorbar": {
              "outlinewidth": 0,
              "ticks": ""
             }
            },
            "type": "scattermapbox"
           }
          ],
          "scatterpolar": [
           {
            "marker": {
             "colorbar": {
              "outlinewidth": 0,
              "ticks": ""
             }
            },
            "type": "scatterpolar"
           }
          ],
          "scatterpolargl": [
           {
            "marker": {
             "colorbar": {
              "outlinewidth": 0,
              "ticks": ""
             }
            },
            "type": "scatterpolargl"
           }
          ],
          "scatterternary": [
           {
            "marker": {
             "colorbar": {
              "outlinewidth": 0,
              "ticks": ""
             }
            },
            "type": "scatterternary"
           }
          ],
          "surface": [
           {
            "colorbar": {
             "outlinewidth": 0,
             "ticks": ""
            },
            "colorscale": [
             [
              0,
              "#0d0887"
             ],
             [
              0.1111111111111111,
              "#46039f"
             ],
             [
              0.2222222222222222,
              "#7201a8"
             ],
             [
              0.3333333333333333,
              "#9c179e"
             ],
             [
              0.4444444444444444,
              "#bd3786"
             ],
             [
              0.5555555555555556,
              "#d8576b"
             ],
             [
              0.6666666666666666,
              "#ed7953"
             ],
             [
              0.7777777777777778,
              "#fb9f3a"
             ],
             [
              0.8888888888888888,
              "#fdca26"
             ],
             [
              1,
              "#f0f921"
             ]
            ],
            "type": "surface"
           }
          ],
          "table": [
           {
            "cells": {
             "fill": {
              "color": "#EBF0F8"
             },
             "line": {
              "color": "white"
             }
            },
            "header": {
             "fill": {
              "color": "#C8D4E3"
             },
             "line": {
              "color": "white"
             }
            },
            "type": "table"
           }
          ]
         },
         "layout": {
          "annotationdefaults": {
           "arrowcolor": "#2a3f5f",
           "arrowhead": 0,
           "arrowwidth": 1
          },
          "coloraxis": {
           "colorbar": {
            "outlinewidth": 0,
            "ticks": ""
           }
          },
          "colorscale": {
           "diverging": [
            [
             0,
             "#8e0152"
            ],
            [
             0.1,
             "#c51b7d"
            ],
            [
             0.2,
             "#de77ae"
            ],
            [
             0.3,
             "#f1b6da"
            ],
            [
             0.4,
             "#fde0ef"
            ],
            [
             0.5,
             "#f7f7f7"
            ],
            [
             0.6,
             "#e6f5d0"
            ],
            [
             0.7,
             "#b8e186"
            ],
            [
             0.8,
             "#7fbc41"
            ],
            [
             0.9,
             "#4d9221"
            ],
            [
             1,
             "#276419"
            ]
           ],
           "sequential": [
            [
             0,
             "#0d0887"
            ],
            [
             0.1111111111111111,
             "#46039f"
            ],
            [
             0.2222222222222222,
             "#7201a8"
            ],
            [
             0.3333333333333333,
             "#9c179e"
            ],
            [
             0.4444444444444444,
             "#bd3786"
            ],
            [
             0.5555555555555556,
             "#d8576b"
            ],
            [
             0.6666666666666666,
             "#ed7953"
            ],
            [
             0.7777777777777778,
             "#fb9f3a"
            ],
            [
             0.8888888888888888,
             "#fdca26"
            ],
            [
             1,
             "#f0f921"
            ]
           ],
           "sequentialminus": [
            [
             0,
             "#0d0887"
            ],
            [
             0.1111111111111111,
             "#46039f"
            ],
            [
             0.2222222222222222,
             "#7201a8"
            ],
            [
             0.3333333333333333,
             "#9c179e"
            ],
            [
             0.4444444444444444,
             "#bd3786"
            ],
            [
             0.5555555555555556,
             "#d8576b"
            ],
            [
             0.6666666666666666,
             "#ed7953"
            ],
            [
             0.7777777777777778,
             "#fb9f3a"
            ],
            [
             0.8888888888888888,
             "#fdca26"
            ],
            [
             1,
             "#f0f921"
            ]
           ]
          },
          "colorway": [
           "#636efa",
           "#EF553B",
           "#00cc96",
           "#ab63fa",
           "#FFA15A",
           "#19d3f3",
           "#FF6692",
           "#B6E880",
           "#FF97FF",
           "#FECB52"
          ],
          "font": {
           "color": "#2a3f5f"
          },
          "geo": {
           "bgcolor": "white",
           "lakecolor": "white",
           "landcolor": "#E5ECF6",
           "showlakes": true,
           "showland": true,
           "subunitcolor": "white"
          },
          "hoverlabel": {
           "align": "left"
          },
          "hovermode": "closest",
          "mapbox": {
           "style": "light"
          },
          "paper_bgcolor": "white",
          "plot_bgcolor": "#E5ECF6",
          "polar": {
           "angularaxis": {
            "gridcolor": "white",
            "linecolor": "white",
            "ticks": ""
           },
           "bgcolor": "#E5ECF6",
           "radialaxis": {
            "gridcolor": "white",
            "linecolor": "white",
            "ticks": ""
           }
          },
          "scene": {
           "xaxis": {
            "backgroundcolor": "#E5ECF6",
            "gridcolor": "white",
            "gridwidth": 2,
            "linecolor": "white",
            "showbackground": true,
            "ticks": "",
            "zerolinecolor": "white"
           },
           "yaxis": {
            "backgroundcolor": "#E5ECF6",
            "gridcolor": "white",
            "gridwidth": 2,
            "linecolor": "white",
            "showbackground": true,
            "ticks": "",
            "zerolinecolor": "white"
           },
           "zaxis": {
            "backgroundcolor": "#E5ECF6",
            "gridcolor": "white",
            "gridwidth": 2,
            "linecolor": "white",
            "showbackground": true,
            "ticks": "",
            "zerolinecolor": "white"
           }
          },
          "shapedefaults": {
           "line": {
            "color": "#2a3f5f"
           }
          },
          "ternary": {
           "aaxis": {
            "gridcolor": "white",
            "linecolor": "white",
            "ticks": ""
           },
           "baxis": {
            "gridcolor": "white",
            "linecolor": "white",
            "ticks": ""
           },
           "bgcolor": "#E5ECF6",
           "caxis": {
            "gridcolor": "white",
            "linecolor": "white",
            "ticks": ""
           }
          },
          "title": {
           "x": 0.05
          },
          "xaxis": {
           "automargin": true,
           "gridcolor": "white",
           "linecolor": "white",
           "ticks": "",
           "title": {
            "standoff": 15
           },
           "zerolinecolor": "white",
           "zerolinewidth": 2
          },
          "yaxis": {
           "automargin": true,
           "gridcolor": "white",
           "linecolor": "white",
           "ticks": "",
           "title": {
            "standoff": 15
           },
           "zerolinecolor": "white",
           "zerolinewidth": 2
          }
         }
        },
        "xaxis": {
         "anchor": "y",
         "domain": [
          0,
          1
         ],
         "title": {
          "text": "visit_age_mo"
         }
        },
        "yaxis": {
         "anchor": "x",
         "domain": [
          0,
          1
         ],
         "title": {
          "text": "predict"
         }
        }
       }
      },
      "text/html": [
       "<div>                            <div id=\"780aca93-00ea-433d-8f16-72888acc1d62\" class=\"plotly-graph-div\" style=\"height:525px; width:100%;\"></div>            <script type=\"text/javascript\">                require([\"plotly\"], function(Plotly) {                    window.PLOTLYENV=window.PLOTLYENV || {};                                    if (document.getElementById(\"780aca93-00ea-433d-8f16-72888acc1d62\")) {                    Plotly.newPlot(                        \"780aca93-00ea-433d-8f16-72888acc1d62\",                        [{\"customdata\": [[\"Control\", \"sub.9.0.initial\"], [\"Control\", \"sub.9.4.fourmonth\"], [\"Control\", \"sub.9.5.sixmonth\"], [\"Control\", \"sub.9.6.ninemonth\"], [\"Control\", \"sub.9.7.one.year\"], [\"Control\", \"sub.14.0.initial\"], [\"Control\", \"sub.14.3.twomonth\"], [\"Control\", \"sub.14.4.fourmonth\"], [\"Control\", \"sub.14.5.sixmonth\"], [\"Control\", \"sub.14.6.ninemonth\"], [\"Control\", \"sub.14.7.one.year\"], [\"Control\", \"sub.20.0.initial\"], [\"Control\", \"sub.20.1.two.week\"], [\"Control\", \"sub.20.3.twomonth\"], [\"Control\", \"sub.20.4.fourmonth\"], [\"Control\", \"sub.20.5.sixmonth\"], [\"Control\", \"sub.20.6.ninemonth\"], [\"Control\", \"sub.24.2.one.month\"], [\"Control\", \"sub.24.3.twomonth\"], [\"Control\", \"sub.24.5.sixmonth\"], [\"Control\", \"sub.24.6.ninemonth\"], [\"Control\", \"sub.31.0.initial\"], [\"Control\", \"sub.31.1.two.week\"], [\"Control\", \"sub.31.2.one.month\"], [\"Control\", \"sub.31.3.twomonth\"], [\"Control\", \"sub.31.4.fourmonth\"], [\"Control\", \"sub.31.5.sixmonth\"], [\"Control\", \"sub.31.6.ninemonth\"], [\"Control\", \"sub.53.3.twomonth\"], [\"Control\", \"sub.53.4.fourmonth\"], [\"Control\", \"sub.53.6.ninemonth\"], [\"Control\", \"sub.53.7.one.year\"], [\"Control\", \"sub.55.2.one.month\"], [\"Control\", \"sub.55.3.twomonth\"], [\"Control\", \"sub.55.5.sixmonth\"], [\"Control\", \"sub.55.6.ninemonth\"], [\"Control\", \"sub.58.0.initial\"], [\"Control\", \"sub.58.1.two.week\"], [\"Control\", \"sub.58.2.one.month\"], [\"Control\", \"sub.58.3.twomonth\"], [\"Control\", \"sub.67.0.initial\"], [\"Control\", \"sub.67.1.two.week\"], [\"Control\", \"sub.67.2.one.month\"], [\"Control\", \"sub.67.3.twomonth\"], [\"Control\", \"sub.67.4.fourmonth\"], [\"Control\", \"sub.67.5.sixmonth\"], [\"Control\", \"sub.67.7.one.year\"], [\"Control\", \"sub.96.2.one.month\"], [\"Control\", \"sub.96.3.twomonth\"], [\"Control\", \"sub.96.4.fourmonth\"], [\"Control\", \"sub.96.5.sixmonth\"], [\"Control\", \"sub.96.7.one.year\"], [\"Control\", \"sub.97.0.initial\"], [\"Control\", \"sub.97.1.two.week\"], [\"Control\", \"sub.97.2.one.month\"], [\"Control\", \"sub.97.3.twomonth\"], [\"Control\", \"sub.97.4.fourmonth\"], [\"Control\", \"sub.97.5.sixmonth\"], [\"Control\", \"sub.97.7.one.year\"], [\"Control\", \"sub.99.0.initial\"], [\"Control\", \"sub.99.1.two.week\"], [\"Control\", \"sub.99.2.one.month\"], [\"Control\", \"sub.99.3.twomonth\"], [\"Control\", \"sub.99.4.fourmonth\"], [\"Control\", \"sub.99.5.sixmonth\"], [\"Control\", \"sub.110.0.initial\"], [\"Control\", \"sub.110.1.two.week\"], [\"Control\", \"sub.110.2.one.month\"], [\"Control\", \"sub.110.3.twomonth\"], [\"Control\", \"sub.110.4.fourmonth\"], [\"Control\", \"sub.110.5.sixmonth\"], [\"Control\", \"sub.110.6.ninemonth\"], [\"Control\", \"sub.149.2.one.month\"], [\"Control\", \"sub.149.3.twomonth\"], [\"Control\", \"sub.149.5.sixmonth\"], [\"Control\", \"sub.149.7.one.year\"], [\"Control\", \"sub.162.0.initial\"], [\"Control\", \"sub.162.1.two.week\"], [\"Control\", \"sub.162.11.sick\"], [\"Control\", \"sub.162.3.twomonth\"], [\"Control\", \"sub.162.4.fourmonth\"], [\"Control\", \"sub.162.5.sixmonth\"], [\"Control\", \"sub.162.6.ninemonth\"], [\"Control\", \"sub.165.0.initial\"], [\"Control\", \"sub.165.1.two.week\"], [\"Control\", \"sub.165.3.twomonth\"], [\"Control\", \"sub.165.4.fourmonth\"], [\"Control\", \"sub.165.5.sixmonth\"], [\"Control\", \"sub.188.1.two.week\"], [\"Control\", \"sub.188.2.one.month\"], [\"Control\", \"sub.188.3.twomonth\"], [\"Control\", \"sub.188.4.fourmonth\"], [\"Control\", \"sub.188.5.sixmonth\"], [\"Control\", \"sub.188.6.ninemonth\"], [\"Control\", \"sub.188.7.one.year\"], [\"Control\", \"sub.192.0.initial\"], [\"Control\", \"sub.192.1.two.week\"], [\"Control\", \"sub.192.4.fourmonth\"], [\"Control\", \"sub.192.5.sixmonth\"], [\"Control\", \"sub.192.7.one.year\"], [\"Control\", \"sub.197.0.initial\"], [\"Control\", \"sub.197.1.two.week\"], [\"Control\", \"sub.197.2.one.month\"], [\"Control\", \"sub.197.3.twomonth\"], [\"Control\", \"sub.197.7.one.year\"], [\"Control\", \"sub.205.0.initial\"], [\"Control\", \"sub.205.1.two.week\"], [\"Control\", \"sub.205.11.sick\"], [\"Control\", \"sub.205.2.one.month\"], [\"Control\", \"sub.205.3.twomonth\"], [\"Control\", \"sub.205.4.fourmonth\"], [\"Control\", \"sub.222.0.initial\"], [\"Control\", \"sub.222.1.two.week\"], [\"Control\", \"sub.222.11.sick\"], [\"Control\", \"sub.222.12.sick\"], [\"Control\", \"sub.222.13.sick\"], [\"Control\", \"sub.222.14.sick\"], [\"Control\", \"sub.222.15.sick\"], [\"Control\", \"sub.222.2.one.month\"], [\"Control\", \"sub.222.3.twomonth\"], [\"Control\", \"sub.222.4.fourmonth\"], [\"Control\", \"sub.222.5.sixmonth\"], [\"Control\", \"sub.222.7.one.year\"], [\"Control\", \"sub.225.0.initial\"], [\"Control\", \"sub.225.11.sick\"], [\"Control\", \"sub.225.2.one.month\"], [\"Control\", \"sub.225.6.ninemonth\"], [\"Control\", \"sub.249.0.initial\"], [\"Control\", \"sub.249.1.two.week\"], [\"Control\", \"sub.249.2.one.month\"], [\"Control\", \"sub.249.3.twomonth\"], [\"Control\", \"sub.249.4.fourmonth\"], [\"Control\", \"sub.249.5.sixmonth\"], [\"Control\", \"sub.249.6.ninemonth\"], [\"Control\", \"sub.260.0.initial\"], [\"Control\", \"sub.260.4.fourmonth\"], [\"Control\", \"sub.260.6.ninemonth\"], [\"Control\", \"sub.260.7.one.year\"], [\"Control\", \"sub.275.0.initial\"], [\"Control\", \"sub.275.1.two.week\"], [\"Control\", \"sub.275.2.one.month\"], [\"Control\", \"sub.275.3.twomonth\"], [\"Control\", \"sub.280.0.initial\"], [\"Control\", \"sub.280.3.twomonth\"], [\"Control\", \"sub.280.5.sixmonth\"], [\"Control\", \"sub.280.6.ninemonth\"], [\"Control\", \"sub.299.0.initial\"], [\"Control\", \"sub.299.1.two.week\"], [\"Control\", \"sub.299.3.twomonth\"], [\"Control\", \"sub.299.5.sixmonth\"], [\"Control\", \"sub.299.6.ninemonth\"], [\"Control\", \"sub.309.1.two.week\"], [\"Control\", \"sub.309.2.one.month\"], [\"Control\", \"sub.309.3.twomonth\"], [\"Control\", \"sub.309.5.sixmonth\"], [\"Control\", \"sub.309.6.ninemonth\"], [\"Control\", \"sub.309.7.one.year\"], [\"Control\", \"sub.312.0.initial\"], [\"Control\", \"sub.312.2.one.month\"], [\"Control\", \"sub.312.4.fourmonth\"], [\"Control\", \"sub.312.6.ninemonth\"], [\"Control\", \"sub.321.0.initial\"], [\"Control\", \"sub.321.2.one.month\"], [\"Control\", \"sub.321.3.twomonth\"], [\"Control\", \"sub.321.4.fourmonth\"], [\"Control\", \"sub.321.5.sixmonth\"], [\"Control\", \"sub.321.6.ninemonth\"], [\"Control\", \"sub.321.7.one.year\"], [\"Control\", \"sub.355.1.two.week\"], [\"Control\", \"sub.355.11.sick\"], [\"Control\", \"sub.355.12.sick\"], [\"Control\", \"sub.355.3.twomonth\"], [\"Control\", \"sub.355.4.fourmonth\"], [\"Control\", \"sub.355.6.ninemonth\"], [\"Control\", \"sub.360.0.initial\"], [\"Control\", \"sub.360.2.one.month\"], [\"Control\", \"sub.360.3.twomonth\"], [\"Control\", \"sub.360.5.sixmonth\"], [\"Control\", \"sub.360.6.ninemonth\"], [\"Control\", \"sub.360.7.one.year\"], [\"Control\", \"sub.364.2.one.month\"], [\"Control\", \"sub.364.3.twomonth\"], [\"Control\", \"sub.364.4.fourmonth\"], [\"Control\", \"sub.364.5.sixmonth\"], [\"Control\", \"sub.364.6.ninemonth\"], [\"Control\", \"sub.370.1.two.week\"], [\"Control\", \"sub.370.11.sick\"], [\"Control\", \"sub.370.5.sixmonth\"], [\"Control\", \"sub.376.0.initial\"], [\"Control\", \"sub.376.1.two.week\"], [\"Control\", \"sub.376.2.one.month\"], [\"Control\", \"sub.376.6.ninemonth\"], [\"Control\", \"sub.384.0.initial\"], [\"Control\", \"sub.384.11.sick\"], [\"Control\", \"sub.384.2.one.month\"], [\"Control\", \"sub.384.3.twomonth\"], [\"Control\", \"sub.394.0.initial\"], [\"Control\", \"sub.394.1.two.week\"], [\"Control\", \"sub.394.11.sick\"], [\"Control\", \"sub.394.2.one.month\"], [\"Control\", \"sub.394.3.twomonth\"], [\"Control\", \"sub.394.5.sixmonth\"], [\"Control\", \"sub.394.6.ninemonth\"], [\"Control\", \"sub.394.7.one.year\"], [\"Control\", \"sub.410.1.two.week\"], [\"Control\", \"sub.410.2.one.month\"], [\"Control\", \"sub.410.4.fourmonth\"], [\"Control\", \"sub.410.6.ninemonth\"], [\"Control\", \"sub.410.7.one.year\"], [\"Control\", \"sub.416.0.initial\"], [\"Control\", \"sub.416.4.fourmonth\"], [\"Control\", \"sub.416.5.sixmonth\"], [\"Control\", \"sub.416.6.ninemonth\"], [\"Control\", \"sub.422.0.initial\"], [\"Control\", \"sub.422.3.twomonth\"], [\"Control\", \"sub.422.4.fourmonth\"], [\"Control\", \"sub.422.5.sixmonth\"], [\"Control\", \"sub.422.6.ninemonth\"], [\"Control\", \"sub.422.7.one.year\"], [\"Control\", \"sub.424.0.initial\"], [\"Control\", \"sub.424.4.fourmonth\"], [\"Control\", \"sub.424.5.sixmonth\"], [\"Control\", \"sub.429.1.two.week\"], [\"Control\", \"sub.429.11.sick\"], [\"Control\", \"sub.429.4.fourmonth\"], [\"Control\", \"sub.429.6.ninemonth\"], [\"Control\", \"sub.436.0.initial\"], [\"Control\", \"sub.436.1.two.week\"], [\"Control\", \"sub.436.2.one.month\"], [\"Control\", \"sub.436.4.fourmonth\"], [\"Control\", \"sub.436.5.sixmonth\"], [\"Control\", \"sub.436.6.ninemonth\"], [\"Control\", \"sub.436.7.one.year\"], [\"Control\", \"sub.438.0.initial\"], [\"Control\", \"sub.438.1.two.week\"], [\"Control\", \"sub.438.11.sick\"], [\"Control\", \"sub.438.7.one.year\"], [\"Control\", \"sub.470.1.two.week\"], [\"Control\", \"sub.470.11.sick\"], [\"Control\", \"sub.470.14.sick\"], [\"Control\", \"sub.470.2.one.month\"], [\"Control\", \"sub.470.3.twomonth\"], [\"Control\", \"sub.470.5.sixmonth\"], [\"Control\", \"sub.470.6.ninemonth\"], [\"Control\", \"sub.470.7.one.year\"], [\"Control\", \"sub.471.0.initial\"], [\"Control\", \"sub.471.1.two.week\"], [\"Control\", \"sub.471.4.fourmonth\"], [\"Control\", \"sub.471.5.sixmonth\"], [\"Control\", \"sub.471.6.ninemonth\"], [\"Control\", \"sub.475.2.one.month\"], [\"Control\", \"sub.475.3.twomonth\"], [\"Control\", \"sub.475.4.fourmonth\"], [\"Control\", \"sub.475.5.sixmonth\"], [\"Control\", \"sub.484.11.sick\"], [\"Control\", \"sub.484.2.one.month\"], [\"Control\", \"sub.484.3.twomonth\"], [\"Control\", \"sub.484.6.ninemonth\"], [\"Control\", \"sub.524.1.two.week\"], [\"Control\", \"sub.524.11.sick\"], [\"Control\", \"sub.524.2.one.month\"], [\"Control\", \"sub.524.3.twomonth\"], [\"Control\", \"sub.524.4.fourmonth\"], [\"Control\", \"sub.524.5.sixmonth\"], [\"Control\", \"sub.541.2.one.month\"], [\"Control\", \"sub.541.3.twomonth\"], [\"Control\", \"sub.541.4.fourmonth\"], [\"Control\", \"sub.541.6.ninemonth\"], [\"Control\", \"sub.563.0.initial\"], [\"Control\", \"sub.563.2.one.month\"], [\"Control\", \"sub.563.3.twomonth\"], [\"Control\", \"sub.563.4.fourmonth\"], [\"Control\", \"sub.657.1.two.week\"], [\"Control\", \"sub.657.3.twomonth\"], [\"Control\", \"sub.657.5.sixmonth\"], [\"Control\", \"sub.657.6.ninemonth\"], [\"Control\", \"sub.659.3.twomonth\"], [\"Control\", \"sub.659.4.fourmonth\"], [\"Control\", \"sub.659.5.sixmonth\"], [\"Control\", \"sub.659.6.ninemonth\"], [\"Control\", \"sub.666.0.initial\"], [\"Control\", \"sub.666.1.two.week\"], [\"Control\", \"sub.666.2.one.month\"], [\"Control\", \"sub.666.3.twomonth\"], [\"Control\", \"sub.666.4.fourmonth\"], [\"Control\", \"sub.666.5.sixmonth\"], [\"Control\", \"sub.666.6.ninemonth\"], [\"Control\", \"sub.666.7.one.year\"], [\"Control\", \"sub.670.0.initial\"], [\"Control\", \"sub.670.11.sick\"], [\"Control\", \"sub.670.12.sick\"], [\"Control\", \"sub.670.4.fourmonth\"], [\"Control\", \"sub.670.6.ninemonth\"], [\"Control\", \"sub.671.2.one.month\"], [\"Control\", \"sub.671.3.twomonth\"], [\"Control\", \"sub.671.4.fourmonth\"], [\"Control\", \"sub.671.5.sixmonth\"], [\"Control\", \"sub.671.6.ninemonth\"], [\"Control\", \"sub.671.7.one.year\"], [\"Control\", \"sub.676.11.sick\"], [\"Control\", \"sub.676.12.sick\"], [\"Control\", \"sub.676.2.one.month\"], [\"Control\", \"sub.676.3.twomonth\"], [\"Control\", \"sub.676.4.fourmonth\"], [\"Control\", \"sub.676.5.sixmonth\"], [\"Control\", \"sub.676.6.ninemonth\"], [\"Control\", \"sub.676.7.one.year\"], [\"Control\", \"sub.708.0.initial\"], [\"Control\", \"sub.708.1.two.week\"], [\"Control\", \"sub.708.11.sick\"], [\"Control\", \"sub.708.3.twomonth\"], [\"Control\", \"sub.708.4.fourmonth\"], [\"Control\", \"sub.708.5.sixmonth\"], [\"Control\", \"sub.708.7.one.year\"], [\"Control\", \"sub.709.0.initial\"], [\"Control\", \"sub.709.3.twomonth\"], [\"Control\", \"sub.709.4.fourmonth\"], [\"Control\", \"sub.709.5.sixmonth\"], [\"Control\", \"sub.711.0.initial\"], [\"Control\", \"sub.711.1.two.week\"], [\"Control\", \"sub.711.11.sick\"], [\"Control\", \"sub.711.2.one.month\"], [\"Control\", \"sub.711.3.twomonth\"], [\"Control\", \"sub.711.4.fourmonth\"], [\"Control\", \"sub.731.0.initial\"], [\"Control\", \"sub.731.11.sick\"], [\"Control\", \"sub.731.2.one.month\"], [\"Control\", \"sub.731.3.twomonth\"], [\"Control\", \"sub.735.1.two.week\"], [\"Control\", \"sub.735.2.one.month\"], [\"Control\", \"sub.735.4.fourmonth\"], [\"Control\", \"sub.735.6.ninemonth\"], [\"Control\", \"sub.738.0.initial\"], [\"Control\", \"sub.738.1.two.week\"], [\"Control\", \"sub.738.2.one.month\"], [\"Control\", \"sub.738.3.twomonth\"], [\"Control\", \"sub.749.11.sick\"], [\"Control\", \"sub.749.2.one.month\"], [\"Control\", \"sub.749.3.twomonth\"], [\"Control\", \"sub.749.4.fourmonth\"], [\"Control\", \"sub.749.5.sixmonth\"], [\"Control\", \"sub.760.0.initial\"], [\"Control\", \"sub.760.12.sick\"], [\"Control\", \"sub.760.13.sick\"], [\"Control\", \"sub.760.2.one.month\"], [\"Control\", \"sub.760.3.twomonth\"], [\"Control\", \"sub.760.4.fourmonth\"], [\"Control\", \"sub.760.5.sixmonth\"], [\"Control\", \"sub.777.0.initial\"], [\"Control\", \"sub.777.1.two.week\"], [\"Control\", \"sub.777.2.one.month\"], [\"Control\", \"sub.777.6.ninemonth\"]], \"hovertemplate\": \"predict %{y}, label: %{x}<br>sampleID: %{customdata[1]}<br>symptom: %{customdata[0]}\", \"legendgroup\": \"control_train\", \"marker\": {\"color\": \"#636efa\", \"symbol\": \"circle\"}, \"mode\": \"markers\", \"name\": \"control_train\", \"orientation\": \"v\", \"showlegend\": true, \"type\": \"scatter\", \"x\": [0.2, 4.0, 6.2, 9.2, 12.6, 0.1, 2.0, 4.1, 6.1, 9.4, 12.1, 0.2, 0.7, 1.8, 3.9, 6.5, 9.2, 1.0, 2.1, 6.7, 9.0, 0.1, 0.5, 1.2, 2.3, 4.1, 6.1, 9.2, 2.0, 4.3, 9.9, 12.2, 1.0, 2.1, 6.5, 9.0, 0.2, 0.4, 1.1, 2.1, 0.1, 0.5, 1.0, 2.0, 4.2, 6.2, 12.0, 1.1, 2.1, 4.0, 6.3, 12.9, 0.2, 0.7, 1.1, 2.1, 3.9, 6.4, 12.1, 0.2, 0.4, 1.1, 2.0, 4.7, 6.3, 0.2, 0.5, 1.0, 2.1, 4.2, 6.5, 9.2, 1.0, 2.0, 6.3, 12.4, 0.1, 0.5, 3.1, 2.0, 4.1, 7.0, 9.3, 0.3, 0.5, 1.9, 4.4, 6.1, 0.4, 1.3, 2.0, 4.0, 6.0, 8.4, 12.1, 0.1, 0.5, 4.0, 6.1, 12.7, 0.2, 0.4, 0.9, 2.0, 12.8, 0.1, 0.5, 3.1, 1.1, 2.1, 3.7, 0.2, 0.4, 1.7, 6.4, 7.4, 7.9, 7.5, 1.1, 2.2, 4.1, 6.1, 12.1, 0.1, 11.3, 1.0, 9.3, 0.1, 0.3, 0.9, 2.3, 4.2, 6.2, 9.6, 0.4, 4.1, 9.6, 12.6, 0.2, 0.5, 1.1, 2.0, 0.4, 2.2, 6.4, 9.0, 0.2, 0.7, 1.9, 6.0, 9.2, 0.5, 0.9, 2.0, 6.0, 9.0, 12.2, 0.5, 1.1, 4.1, 9.1, 0.3, 1.0, 1.9, 3.9, 6.3, 9.2, 12.1, 0.5, 0.3, 0.8, 1.9, 3.9, 9.2, 0.4, 0.9, 2.0, 6.1, 11.0, 12.1, 1.0, 2.2, 4.2, 6.3, 9.2, 0.4, 3.9, 6.2, 0.2, 0.5, 1.1, 9.2, 0.1, 0.2, 1.1, 1.9, 0.2, 0.4, 0.7, 1.1, 2.1, 6.2, 9.4, 13.3, 0.3, 1.0, 4.2, 9.5, 12.7, 0.9, 4.1, 6.3, 9.4, 0.8, 2.0, 4.2, 6.2, 9.4, 12.3, 0.5, 4.0, 6.6, 0.5, 8.7, 4.1, 9.2, 0.2, 0.4, 1.1, 4.3, 6.1, 9.3, 12.2, 0.2, 0.4, 1.7, 12.3, 0.4, 0.9, 10.5, 1.1, 1.8, 7.3, 9.2, 12.5, 0.2, 0.5, 4.2, 7.6, 9.7, 1.1, 2.0, 4.1, 6.1, 1.0, 1.0, 2.2, 9.5, 0.4, 9.2, 1.0, 2.0, 4.1, 6.2, 1.1, 2.2, 4.3, 11.7, 0.1, 1.2, 2.1, 4.1, 0.6, 2.1, 6.4, 9.0, 2.1, 3.9, 6.5, 9.2, 0.2, 0.6, 0.9, 1.9, 4.0, 6.3, 9.3, 12.3, 2.5, 5.7, 11.6, 4.2, 9.7, 0.9, 1.9, 4.0, 6.0, 8.5, 12.2, 2.1, 12.9, 0.9, 2.0, 4.2, 6.2, 9.2, 12.2, 0.1, 0.7, 9.9, 1.6, 4.1, 6.4, 12.2, 0.5, 2.0, 4.0, 6.2, 0.3, 0.5, 0.7, 1.1, 2.1, 5.6, 0.3, 0.4, 1.0, 2.1, 0.4, 0.9, 4.3, 9.6, 0.2, 0.4, 1.0, 1.8, 0.3, 1.1, 2.1, 4.1, 6.1, 0.3, 0.6, 1.0, 0.8, 1.9, 3.9, 7.0, 0.2, 0.5, 0.9, 9.1], \"xaxis\": \"x\", \"y\": [0.7794457437242275, 3.9591217694301735, 5.339464559217113, 8.927553211845954, 11.78907207246377, 1.0144527951689637, 2.6293786848618392, 3.9595534581135596, 5.539295186493831, 7.978201565865303, 11.235192930828694, 0.5989665858604288, 1.5149430975898805, 2.6656925083324348, 3.8992060318342503, 6.370538915939257, 8.565678145866803, 1.245620348361292, 2.033366496980128, 6.65929531957075, 8.73925007667506, 0.706944437419394, 1.2203262291211308, 1.8470066540764165, 3.0128692962241286, 4.119578397668288, 5.771752666680933, 8.727533604226604, 2.4572064033277896, 4.662551754574491, 9.503790323297151, 11.346434443229919, 1.5684608527110595, 2.4109422546858346, 6.492129372083514, 8.759771945837265, 0.4926342841847636, 0.6468653267744793, 1.22910578928013, 2.373201526106064, 0.44480808066093686, 0.7422019004584854, 1.280640898371231, 1.9208340760765519, 3.8780970350779986, 4.866099490411561, 10.824625577339525, 1.975393585248732, 2.7916286497822314, 4.246922607936943, 6.12458265316766, 11.797353486496734, 0.62404583912095, 0.92633013965151, 1.5377455605242352, 1.9277859295634554, 3.2231672711346593, 5.045311316342, 10.772880165247074, 0.7490331466035561, 0.6163437032552882, 1.1773460656307821, 1.9609027715870955, 4.73241884931352, 5.4265371586902, 0.4853833503927463, 0.7534405422492996, 1.0378170674730511, 1.9492522184091967, 3.7129360531301274, 5.560672811049405, 7.24548667038846, 2.1814926791264724, 2.6406385074102365, 5.770946951719117, 11.242999085149078, 0.4593002524640827, 0.8948069688305439, 3.0896939731483832, 2.6826828792585404, 3.418050296594569, 6.887008090243954, 8.420098596168694, 0.553689891965491, 1.3667829051065095, 3.048409871159535, 5.144433582051186, 6.061772212794245, 1.1473884086997859, 1.5010768319459726, 1.9771730297360532, 3.4235655276920034, 5.28475411126868, 8.163026516229213, 11.313119273070805, 0.46780005966216326, 0.9091192832101646, 4.610019886496643, 6.183033520001951, 12.126038625070812, 0.4856228380548808, 0.7968342664099309, 1.1337698985294518, 2.4365058139570204, 11.469352090840223, 0.8875872588262678, 0.688011187125327, 3.2317549934714087, 1.3172983683980684, 2.1823499498435543, 3.614174109527311, 0.3966891152480045, 0.5790946566053436, 1.9238552223289322, 6.617858335346509, 7.330747371342798, 7.388298650531314, 6.4133158253555, 1.0559151087635736, 2.324177470646702, 4.33735092269418, 6.4350478229817, 11.216255937022845, 0.9546155230945466, 10.812213860972278, 1.5563494609707564, 9.136913446939161, 0.41645894563856056, 0.5740966375301594, 1.2749992944431856, 2.5355315637877434, 4.18889398680787, 5.508248654475365, 9.27181632635413, 0.6347885145950789, 4.383786801457351, 8.144999239654316, 11.78458740724286, 0.5856748664845687, 0.7015270971687565, 1.5748265441528422, 2.416567671334361, 0.7065714946044652, 2.667498992706946, 6.999817930123965, 9.002039922853347, 0.4996966363596559, 0.720349281833455, 1.9609480805101798, 4.995591869107331, 9.052370623167862, 0.673546364958172, 0.9793465703004645, 2.412735452187738, 5.96745803310622, 8.173100986321485, 11.63643354029932, 0.7683838282871555, 1.214998163841286, 4.1052544031211236, 8.861955359671809, 0.6668916459507875, 1.2392658475448355, 2.4116951580586123, 4.131310002835887, 6.805793839643956, 9.143557503948099, 10.376543038565677, 0.658855650096368, 0.5607731149410244, 0.8803085424207125, 1.742302746863027, 3.4705199486255895, 8.717088817094195, 1.4074500218254902, 1.4589117134227945, 2.6137035274756695, 6.445804399572154, 10.961698343336655, 11.679458632149151, 1.1300138799115635, 2.155681642773072, 4.128979914069941, 5.9453974115481225, 8.942190194982794, 0.7892270594366716, 3.6566835229094283, 6.774599089355847, 0.4511896137040517, 0.7577887814155336, 1.3101078616175292, 8.952216950822836, 0.4608510085482704, 0.9038674079336052, 1.5695733188059677, 2.5187950038340814, 0.5477039804275698, 0.667095143703543, 0.9963709132947368, 1.1715946889093338, 2.5503087088947547, 5.7190328728734485, 8.258228009953008, 12.37848035939855, 0.6474862233780141, 1.1666949932928525, 3.07210898692746, 8.850583850633024, 11.276613770111654, 1.0973624719212585, 3.5530051157959024, 5.50953713071707, 8.686707946779817, 1.0216144885560836, 1.8115499498141592, 3.1484014247047414, 4.653143535664001, 8.612271845001713, 11.510420251799863, 0.7705645337292613, 4.774928337737262, 6.911497680233185, 1.1015803499152412, 8.873623510630315, 4.446688191079027, 9.210491301020333, 0.42075414817043955, 0.7130778813122307, 1.0747380690953612, 3.5974302637975626, 5.350889704525593, 6.566721423359577, 10.860320705311626, 0.6826147212375667, 0.7889171495058062, 3.074655103606137, 11.752904832566728, 0.8299570469135632, 1.2287731287212402, 10.322969132357319, 1.2779070197702729, 1.6546648501480694, 6.666988039122191, 9.059736707303935, 12.04698115327402, 0.49546543370619195, 0.9227735572348591, 4.751494108536562, 7.256920701560494, 8.974775508103692, 1.3110522630269563, 1.9120625645521707, 4.027637665341952, 5.945884854424705, 1.3894854911082457, 1.3527805977359828, 2.0811738929359627, 8.930707339958476, 0.9540144108230072, 8.478778125636442, 1.3440478469274935, 2.1702629428213127, 4.4879239768422625, 6.250174968522914, 1.6150215635623464, 2.8321469365506244, 4.042845044460068, 9.833337762491315, 0.9324636886095873, 1.599753692413913, 1.9673567382018533, 3.4617516414560816, 1.4527969878167473, 2.234929597230705, 6.409655474196953, 8.961783516328435, 2.019154572774848, 4.410062802004869, 6.483533349773222, 8.757163862621743, 0.7229945034964458, 0.7596848592122856, 1.30557660534957, 2.1515853272835272, 3.944417651407746, 6.187500350991978, 8.246271488604444, 11.197352659495563, 2.841388232771852, 5.510569601662161, 10.649546999731344, 5.072109897856581, 9.310020744962678, 1.235625509265044, 1.883722553172875, 3.856243952100884, 5.822082916614991, 7.958782101406001, 11.58347407014287, 2.341310628758305, 11.616956367152738, 1.171170039036319, 2.3859587431726954, 4.013358964148378, 6.546976665478124, 9.20998840494094, 11.563520805811931, 0.36573312395643903, 1.3343337334813177, 9.552332153172134, 2.5394129581705567, 3.8652755721332914, 5.889839325872822, 11.557137933642876, 0.8297369162789902, 1.9725341655469752, 3.5855714424702896, 5.316409410573753, 1.0015350115479076, 0.9228961999546729, 1.1675014080385662, 1.600989010979331, 2.3965644074747448, 5.457277645046828, 0.6854883880415196, 0.743980607122319, 1.2005517165009867, 2.5595636645584308, 0.6972673618429652, 1.2429023501796468, 4.4955702988405495, 8.964254735898354, 0.8531560739159203, 1.0926330394621795, 1.9864422316408994, 2.6505459564036853, 0.541294779794194, 1.043089550087738, 2.1781184182915774, 4.163966173109291, 5.831824317629562, 0.6843833594291984, 0.9837224057638269, 1.3888110321279439, 1.0569539128121628, 3.9299561263527187, 4.737211540297931, 6.696115525253785, 0.7268399312272562, 0.9136527557186319, 1.3875527589097305, 8.647717499178016], \"yaxis\": \"y\"}, {\"customdata\": [[\"Control\", \"sub.46.2.one.month\"], [\"Control\", \"sub.46.3.twomonth\"], [\"Control\", \"sub.46.4.fourmonth\"], [\"Control\", \"sub.46.5.sixmonth\"], [\"Control\", \"sub.46.7.one.year\"], [\"Control\", \"sub.111.0.initial\"], [\"Control\", \"sub.111.1.two.week\"], [\"Control\", \"sub.111.2.one.month\"], [\"Control\", \"sub.111.3.twomonth\"], [\"Control\", \"sub.111.4.fourmonth\"], [\"Control\", \"sub.111.6.ninemonth\"], [\"Control\", \"sub.111.7.one.year\"], [\"Control\", \"sub.134.1.two.week\"], [\"Control\", \"sub.134.2.one.month\"], [\"Control\", \"sub.134.3.twomonth\"], [\"Control\", \"sub.134.4.fourmonth\"], [\"Control\", \"sub.139.0.initial\"], [\"Control\", \"sub.139.1.two.week\"], [\"Control\", \"sub.139.2.one.month\"], [\"Control\", \"sub.139.3.twomonth\"], [\"Control\", \"sub.139.4.fourmonth\"], [\"Control\", \"sub.139.6.ninemonth\"], [\"Control\", \"sub.164.0.initial\"], [\"Control\", \"sub.164.2.one.month\"], [\"Control\", \"sub.164.3.twomonth\"], [\"Control\", \"sub.164.4.fourmonth\"], [\"Control\", \"sub.164.6.ninemonth\"], [\"Control\", \"sub.164.7.one.year\"], [\"Control\", \"sub.209.1.two.week\"], [\"Control\", \"sub.209.2.one.month\"], [\"Control\", \"sub.209.3.twomonth\"], [\"Control\", \"sub.209.4.fourmonth\"], [\"Control\", \"sub.226.0.initial\"], [\"Control\", \"sub.226.2.one.month\"], [\"Control\", \"sub.226.3.twomonth\"], [\"Control\", \"sub.226.4.fourmonth\"], [\"Control\", \"sub.226.5.sixmonth\"], [\"Control\", \"sub.226.7.one.year\"], [\"Control\", \"sub.233.0.initial\"], [\"Control\", \"sub.233.2.one.month\"], [\"Control\", \"sub.233.3.twomonth\"], [\"Control\", \"sub.233.4.fourmonth\"], [\"Control\", \"sub.233.5.sixmonth\"], [\"Control\", \"sub.233.7.one.year\"], [\"Control\", \"sub.397.2.one.month\"], [\"Control\", \"sub.397.3.twomonth\"], [\"Control\", \"sub.397.5.sixmonth\"], [\"Control\", \"sub.397.6.ninemonth\"], [\"Control\", \"sub.397.7.one.year\"], [\"Control\", \"sub.427.0.initial\"], [\"Control\", \"sub.427.2.one.month\"], [\"Control\", \"sub.427.3.twomonth\"], [\"Control\", \"sub.427.4.fourmonth\"], [\"Control\", \"sub.427.5.sixmonth\"], [\"Control\", \"sub.427.6.ninemonth\"], [\"Control\", \"sub.498.2.one.month\"], [\"Control\", \"sub.498.3.twomonth\"], [\"Control\", \"sub.498.4.fourmonth\"], [\"Control\", \"sub.498.7.one.year\"], [\"Control\", \"sub.630.0.initial\"], [\"Control\", \"sub.630.3.twomonth\"], [\"Control\", \"sub.630.4.fourmonth\"], [\"Control\", \"sub.630.5.sixmonth\"], [\"Control\", \"sub.630.6.ninemonth\"], [\"Control\", \"sub.652.0.initial\"], [\"Control\", \"sub.652.11.sick\"], [\"Control\", \"sub.652.2.one.month\"], [\"Control\", \"sub.652.4.fourmonth\"], [\"Control\", \"sub.652.5.sixmonth\"], [\"Control\", \"sub.652.7.one.year\"]], \"hovertemplate\": \"predict %{y}, label: %{x}<br>sampleID: %{customdata[1]}<br>symptom: %{customdata[0]}\", \"legendgroup\": \"control_test\", \"marker\": {\"color\": \"#EF553B\", \"symbol\": \"circle\"}, \"mode\": \"markers\", \"name\": \"control_test\", \"orientation\": \"v\", \"showlegend\": true, \"type\": \"scatter\", \"x\": [1.1, 1.8, 4.1, 6.3, 12.2, 0.2, 0.4, 1.1, 2.2, 4.0, 9.3, 12.1, 0.7, 1.4, 2.1, 4.1, 0.1, 0.4, 1.1, 2.6, 4.3, 9.2, 0.2, 1.1, 1.9, 4.1, 9.1, 12.6, 0.5, 1.0, 2.1, 3.9, 0.2, 1.4, 2.2, 4.1, 6.7, 12.9, 0.5, 1.0, 2.2, 3.9, 6.0, 12.4, 0.8, 1.9, 6.5, 9.3, 12.5, 0.6, 1.0, 2.1, 4.1, 6.3, 9.0, 1.4, 2.4, 4.0, 12.6, 0.2, 2.3, 4.1, 6.2, 9.1, 0.3, 4.4, 1.1, 4.1, 6.2, 12.3], \"xaxis\": \"x\", \"y\": [2.3349585210646118, 4.045342554203285, 3.2288508284256845, 7.279065384647829, 1.4962602152362603, 1.0174114269353196, 1.00841137649223, 1.9098961447578837, 2.491293917276835, 4.272156296751035, 7.029159061419617, 8.491308426147235, 6.209032487884119, 5.862185183320963, 4.255471077490916, 8.78040564019825, 1.2019154451538483, 1.4713033464706116, 1.9818470430855992, 3.61349684564393, 3.584226873599539, 7.761338123069274, 4.1028651834295555, 1.5370445883730237, 1.3657990402317364, 2.682548655182396, 7.7687403275735125, 8.378720748687627, 2.1244829174650426, 2.1458876074142648, 3.271655419427668, 3.4920720608200613, 1.2274829933191396, 3.1391962401653823, 4.048650258016711, 5.00145883298673, 4.5602170313003905, 10.393944425957901, 1.6431219767811747, 2.510971517400867, 4.9988958615033265, 4.798467786916713, 4.81140658225832, 7.684077510622509, 4.617954842050238, 2.0326548328347616, 4.134562548842647, 5.354384665801007, 8.246267881088148, 2.0960400416612535, 2.0863513274137087, 4.049172670577728, 5.1285391253010255, 5.766110787929453, 7.6713521347698395, 3.939261199256056, 4.836614585924723, 5.953173806296072, 10.01186904848043, 1.4187841470231657, 6.442250326586024, 4.851201019788182, 8.834139489426699, 8.304453622076313, 2.1050051735043147, 4.963114861418933, 2.0842745597252894, 5.921045133786821, 6.254501542357023, 8.382469117476717], \"yaxis\": \"y\"}, {\"customdata\": [[\"Symptomatic\", \"sub.2.1.two.week\"], [\"Resolved\", \"sub.2.11.sick\"], [\"Resolved\", \"sub.2.12.sick\"], [\"Resolved\", \"sub.2.13.sick\"], [\"Resolved\", \"sub.2.14.sick\"], [\"Resolved\", \"sub.2.15.sick\"], [\"Resolved\", \"sub.2.16.sick\"], [\"Resolved\", \"sub.2.17.sick\"], [\"Symptomatic\", \"sub.2.2.one.month\"], [\"Symptomatic\", \"sub.2.4.fourmonth\"], [\"Resolved\", \"sub.2.5.sixmonth\"], [\"Resolved\", \"sub.2.6.ninemonth\"], [\"Pre-symptoms\", \"sub.5.0.initial\"], [\"Symptomatic\", \"sub.5.2.one.month\"], [\"Symptomatic\", \"sub.5.3.twomonth\"], [\"Symptomatic\", \"sub.5.4.fourmonth\"], [\"Pre-symptoms\", \"sub.8.0.initial\"], [\"Pre-symptoms\", \"sub.8.1.two.week\"], [\"Symptomatic\", \"sub.8.2.one.month\"], [\"Symptomatic\", \"sub.8.5.sixmonth\"], [\"Resolved\", \"sub.8.6.ninemonth\"], [\"Resolved\", \"sub.8.7.one.year\"], [\"Pre-symptoms\", \"sub.13.0.initial\"], [\"Symptomatic\", \"sub.13.2.one.month\"], [\"Symptomatic\", \"sub.13.3.twomonth\"], [\"Symptomatic\", \"sub.13.4.fourmonth\"], [\"Resolved\", \"sub.13.5.sixmonth\"], [\"Resolved\", \"sub.13.7.one.year\"], [\"Resolved\", \"sub.16.12.sick\"], [\"Pre-symptoms\", \"sub.16.2.one.month\"], [\"Resolved\", \"sub.16.5.sixmonth\"], [\"Resolved\", \"sub.16.6.ninemonth\"], [\"Resolved\", \"sub.16.7.one.year\"], [\"Pre-symptoms\", \"sub.28.1.two.week\"], [\"Pre-symptoms\", \"sub.28.11.sick\"], [\"Symptomatic\", \"sub.28.2.one.month\"], [\"Resolved\", \"sub.28.3.twomonth\"], [\"Resolved\", \"sub.29.11.sick\"], [\"Resolved\", \"sub.29.2.one.month\"], [\"Resolved\", \"sub.29.3.twomonth\"], [\"Resolved\", \"sub.29.4.fourmonth\"], [\"Resolved\", \"sub.29.5.sixmonth\"], [\"Resolved\", \"sub.29.6.ninemonth\"], [\"Resolved\", \"sub.29.7.one.year\"], [\"unknown\", \"sub.45.3.twomonth\"], [\"unknown\", \"sub.45.4.fourmonth\"], [\"unknown\", \"sub.45.5.sixmonth\"], [\"unknown\", \"sub.45.6.ninemonth\"], [\"unknown\", \"sub.45.7.one.year\"], [\"Pre-symptoms\", \"sub.57.1.two.week\"], [\"Symptomatic\", \"sub.57.11.sick\"], [\"Pre-symptoms\", \"sub.57.2.one.month\"], [\"Symptomatic\", \"sub.57.4.fourmonth\"], [\"Symptomatic\", \"sub.57.5.sixmonth\"], [\"Resolved\", \"sub.57.6.ninemonth\"], [\"Symptomatic\", \"sub.60.0.initial\"], [\"Symptomatic\", \"sub.60.1.two.week\"], [\"Symptomatic\", \"sub.60.2.one.month\"], [\"Resolved\", \"sub.60.3.twomonth\"], [\"Resolved\", \"sub.60.4.fourmonth\"], [\"Resolved\", \"sub.60.5.sixmonth\"], [\"Resolved\", \"sub.60.6.ninemonth\"], [\"Pre-symptoms\", \"sub.78.0.initial\"], [\"Pre-symptoms\", \"sub.78.1.two.week\"], [\"Pre-symptoms\", \"sub.78.2.one.month\"], [\"Pre-symptoms\", \"sub.78.3.twomonth\"], [\"Pre-symptoms\", \"sub.78.4.fourmonth\"], [\"Symptomatic\", \"sub.78.5.sixmonth\"], [\"Symptomatic\", \"sub.78.6.ninemonth\"], [\"Resolved\", \"sub.78.7.one.year\"], [\"Pre-symptoms\", \"sub.84.0.initial\"], [\"Symptomatic\", \"sub.84.1.two.week\"], [\"Symptomatic\", \"sub.84.2.one.month\"], [\"Resolved\", \"sub.84.3.twomonth\"], [\"Resolved\", \"sub.84.4.fourmonth\"], [\"Resolved\", \"sub.84.7.one.year\"], [\"Pre-symptoms\", \"sub.89.0.initial\"], [\"Symptomatic\", \"sub.89.1.two.week\"], [\"Symptomatic\", \"sub.89.11.sick\"], [\"Resolved\", \"sub.89.12.sick\"], [\"Resolved\", \"sub.89.13.sick\"], [\"Symptomatic\", \"sub.89.2.one.month\"], [\"Symptomatic\", \"sub.89.3.twomonth\"], [\"Pre-symptoms\", \"sub.90.1.two.week\"], [\"Resolved\", \"sub.90.13.sick\"], [\"Symptomatic\", \"sub.90.3.twomonth\"], [\"Resolved\", \"sub.90.5.sixmonth\"], [\"Resolved\", \"sub.90.7.one.year\"], [\"Pre-symptoms\", \"sub.94.1.two.week\"], [\"Resolved\", \"sub.94.11.sick\"], [\"Pre-symptoms\", \"sub.94.2.one.month\"], [\"Pre-symptoms\", \"sub.94.3.twomonth\"], [\"Resolved\", \"sub.94.6.ninemonth\"], [\"Pre-symptoms\", \"sub.144.0.initial\"], [\"Pre-symptoms\", \"sub.144.1.two.week\"], [\"Resolved\", \"sub.144.11.sick\"], [\"Resolved\", \"sub.144.12.sick\"], [\"Symptomatic\", \"sub.144.3.twomonth\"], [\"Resolved\", \"sub.144.5.sixmonth\"], [\"Resolved\", \"sub.144.6.ninemonth\"], [\"Resolved\", \"sub.144.7.one.year\"], [\"Symptomatic\", \"sub.159.1.two.week\"], [\"Resolved\", \"sub.159.13.sick\"], [\"Symptomatic\", \"sub.159.4.fourmonth\"], [\"Resolved\", \"sub.159.6.ninemonth\"], [\"Resolved\", \"sub.159.7.one.year\"], [\"Pre-symptoms\", \"sub.179.1.two.week\"], [\"Symptomatic\", \"sub.179.11.sick\"], [\"Symptomatic\", \"sub.179.12.sick\"], [\"Resolved\", \"sub.179.13.sick\"], [\"Symptomatic\", \"sub.179.2.one.month\"], [\"Symptomatic\", \"sub.179.3.twomonth\"], [\"Symptomatic\", \"sub.179.4.fourmonth\"], [\"Symptomatic\", \"sub.179.5.sixmonth\"], [\"Resolved\", \"sub.179.6.ninemonth\"], [\"Resolved\", \"sub.179.7.one.year\"], [\"Pre-symptoms\", \"sub.184.1.two.week\"], [\"Symptomatic\", \"sub.184.2.one.month\"], [\"Resolved\", \"sub.184.4.fourmonth\"], [\"Resolved\", \"sub.184.6.ninemonth\"], [\"Pre-symptoms\", \"sub.198.0.initial\"], [\"Symptomatic\", \"sub.198.1.two.week\"], [\"Symptomatic\", \"sub.198.2.one.month\"], [\"Resolved\", \"sub.198.3.twomonth\"], [\"Resolved\", \"sub.198.4.fourmonth\"], [\"Resolved\", \"sub.198.6.ninemonth\"], [\"Resolved\", \"sub.228.12.sick\"], [\"Resolved\", \"sub.228.3.twomonth\"], [\"Resolved\", \"sub.228.7.one.year\"], [\"Pre-symptoms\", \"sub.237.1.two.week\"], [\"Resolved\", \"sub.237.11.sick\"], [\"Symptomatic\", \"sub.237.12.sick\"], [\"Symptomatic\", \"sub.237.3.twomonth\"], [\"Resolved\", \"sub.237.4.fourmonth\"], [\"Pre-symptoms\", \"sub.246.1.two.week\"], [\"Pre-symptoms\", \"sub.246.2.one.month\"], [\"Pre-symptoms\", \"sub.246.3.twomonth\"], [\"Symptomatic\", \"sub.246.4.fourmonth\"], [\"Pre-symptoms\", \"sub.247.0.initial\"], [\"Pre-symptoms\", \"sub.247.11.sick\"], [\"Symptomatic\", \"sub.247.12.sick\"], [\"Symptomatic\", \"sub.247.13.sick\"], [\"Resolved\", \"sub.247.15.sick\"], [\"Resolved\", \"sub.247.16.sick\"], [\"Resolved\", \"sub.247.17.sick\"], [\"Pre-symptoms\", \"sub.247.2.one.month\"], [\"Pre-symptoms\", \"sub.247.3.twomonth\"], [\"Symptomatic\", \"sub.247.4.fourmonth\"], [\"Resolved\", \"sub.247.5.sixmonth\"], [\"Resolved\", \"sub.247.7.one.year\"], [\"Pre-symptoms\", \"sub.267.0.initial\"], [\"Symptomatic\", \"sub.267.11.sick\"], [\"Symptomatic\", \"sub.267.12.sick\"], [\"Symptomatic\", \"sub.267.3.twomonth\"], [\"Resolved\", \"sub.267.5.sixmonth\"], [\"Resolved\", \"sub.267.6.ninemonth\"], [\"Resolved\", \"sub.267.7.one.year\"], [\"unknown\", \"sub.271.0.initial\"], [\"unknown\", \"sub.271.2.one.month\"], [\"unknown\", \"sub.271.4.fourmonth\"], [\"unknown\", \"sub.271.5.sixmonth\"], [\"unknown\", \"sub.271.6.ninemonth\"], [\"unknown\", \"sub.271.7.one.year\"], [\"Pre-symptoms\", \"sub.272.1.two.week\"], [\"Symptomatic\", \"sub.272.11.sick\"], [\"Symptomatic\", \"sub.272.12.sick\"], [\"Symptomatic\", \"sub.272.13.sick\"], [\"Resolved\", \"sub.272.14.sick\"], [\"Symptomatic\", \"sub.272.2.one.month\"], [\"Resolved\", \"sub.272.4.fourmonth\"], [\"Resolved\", \"sub.272.5.sixmonth\"], [\"Resolved\", \"sub.272.6.ninemonth\"], [\"Resolved\", \"sub.272.7.one.year\"], [\"Resolved\", \"sub.273.12.sick\"], [\"Pre-symptoms\", \"sub.273.2.one.month\"], [\"Symptomatic\", \"sub.273.3.twomonth\"], [\"Symptomatic\", \"sub.273.4.fourmonth\"], [\"Symptomatic\", \"sub.273.5.sixmonth\"], [\"Resolved\", \"sub.273.6.ninemonth\"], [\"Resolved\", \"sub.273.7.one.year\"], [\"Pre-symptoms\", \"sub.278.0.initial\"], [\"Symptomatic\", \"sub.278.1.two.week\"], [\"Symptomatic\", \"sub.278.11.sick\"], [\"Resolved\", \"sub.278.15.sick\"], [\"Symptomatic\", \"sub.278.3.twomonth\"], [\"Symptomatic\", \"sub.278.4.fourmonth\"], [\"Resolved\", \"sub.278.5.sixmonth\"], [\"Pre-symptoms\", \"sub.282.0.initial\"], [\"Symptomatic\", \"sub.282.2.one.month\"], [\"Symptomatic\", \"sub.282.3.twomonth\"], [\"Resolved\", \"sub.282.6.ninemonth\"], [\"Resolved\", \"sub.282.7.one.year\"], [\"Resolved\", \"sub.290.11.sick\"], [\"Resolved\", \"sub.290.12.sick\"], [\"Resolved\", \"sub.290.2.one.month\"], [\"Resolved\", \"sub.290.3.twomonth\"], [\"Resolved\", \"sub.290.4.fourmonth\"], [\"Resolved\", \"sub.290.5.sixmonth\"], [\"Resolved\", \"sub.290.6.ninemonth\"], [\"Symptomatic\", \"sub.304.11.sick\"], [\"Symptomatic\", \"sub.304.12.sick\"], [\"Symptomatic\", \"sub.304.2.one.month\"], [\"Symptomatic\", \"sub.304.3.twomonth\"], [\"Pre-symptoms\", \"sub.307.0.initial\"], [\"Pre-symptoms\", \"sub.307.1.two.week\"], [\"Resolved\", \"sub.307.6.ninemonth\"], [\"Resolved\", \"sub.307.7.one.year\"], [\"Pre-symptoms\", \"sub.310.1.two.week\"], [\"Symptomatic\", \"sub.310.11.sick\"], [\"Symptomatic\", \"sub.310.12.sick\"], [\"Resolved\", \"sub.310.14.sick\"], [\"Resolved\", \"sub.310.15.sick\"], [\"Symptomatic\", \"sub.310.2.one.month\"], [\"Symptomatic\", \"sub.310.3.twomonth\"], [\"Resolved\", \"sub.310.5.sixmonth\"], [\"Resolved\", \"sub.310.6.ninemonth\"], [\"Resolved\", \"sub.310.7.one.year\"], [\"Symptomatic\", \"sub.316.11.sick\"], [\"Resolved\", \"sub.316.5.sixmonth\"], [\"Resolved\", \"sub.316.6.ninemonth\"], [\"Resolved\", \"sub.316.7.one.year\"], [\"Pre-symptoms\", \"sub.347.1.two.week\"], [\"Symptomatic\", \"sub.347.2.one.month\"], [\"Resolved\", \"sub.347.5.sixmonth\"], [\"Resolved\", \"sub.347.6.ninemonth\"], [\"Resolved\", \"sub.347.7.one.year\"], [\"Symptomatic\", \"sub.349.3.twomonth\"], [\"Resolved\", \"sub.349.4.fourmonth\"], [\"Resolved\", \"sub.349.5.sixmonth\"], [\"Resolved\", \"sub.349.7.one.year\"], [\"Pre-symptoms\", \"sub.358.0.initial\"], [\"Symptomatic\", \"sub.358.11.sick\"], [\"Symptomatic\", \"sub.358.12.sick\"], [\"Symptomatic\", \"sub.358.13.sick\"], [\"Resolved\", \"sub.358.14.sick\"], [\"Symptomatic\", \"sub.358.2.one.month\"], [\"Symptomatic\", \"sub.358.3.twomonth\"], [\"Resolved\", \"sub.358.6.ninemonth\"], [\"Resolved\", \"sub.358.7.one.year\"], [\"Symptomatic\", \"sub.367.12.sick\"], [\"Resolved\", \"sub.367.13.sick\"], [\"Symptomatic\", \"sub.367.3.twomonth\"], [\"Resolved\", \"sub.367.5.sixmonth\"], [\"Resolved\", \"sub.367.6.ninemonth\"], [\"Resolved\", \"sub.367.7.one.year\"], [\"Resolved\", \"sub.405.0.initial\"], [\"Resolved\", \"sub.405.12.sick\"], [\"Resolved\", \"sub.405.13.sick\"], [\"Resolved\", \"sub.405.14.sick\"], [\"Resolved\", \"sub.405.4.fourmonth\"], [\"Resolved\", \"sub.405.5.sixmonth\"], [\"Resolved\", \"sub.405.7.one.year\"], [\"Resolved\", \"sub.408.12.sick\"], [\"Symptomatic\", \"sub.408.2.one.month\"], [\"Resolved\", \"sub.408.3.twomonth\"], [\"Resolved\", \"sub.408.4.fourmonth\"], [\"Resolved\", \"sub.408.6.ninemonth\"], [\"Resolved\", \"sub.408.7.one.year\"], [\"Pre-symptoms\", \"sub.431.0.initial\"], [\"Symptomatic\", \"sub.431.1.two.week\"], [\"Symptomatic\", \"sub.431.11.sick\"], [\"Resolved\", \"sub.431.13.sick\"], [\"Resolved\", \"sub.431.14.sick\"], [\"Resolved\", \"sub.431.15.sick\"], [\"Resolved\", \"sub.431.16.sick\"], [\"Resolved\", \"sub.431.17.sick\"], [\"Symptomatic\", \"sub.431.3.twomonth\"], [\"Resolved\", \"sub.431.5.sixmonth\"], [\"Resolved\", \"sub.431.6.ninemonth\"], [\"Resolved\", \"sub.431.7.one.year\"], [\"Pre-symptoms\", \"sub.434.0.initial\"], [\"Pre-symptoms\", \"sub.434.1.two.week\"], [\"Pre-symptoms\", \"sub.434.2.one.month\"], [\"Symptomatic\", \"sub.434.3.twomonth\"], [\"Symptomatic\", \"sub.434.4.fourmonth\"], [\"Pre-symptoms\", \"sub.439.0.initial\"], [\"Symptomatic\", \"sub.439.1.two.week\"], [\"Symptomatic\", \"sub.439.11.sick\"], [\"Symptomatic\", \"sub.439.12.sick\"], [\"Resolved\", \"sub.439.18.sick\"], [\"Symptomatic\", \"sub.439.2.one.month\"], [\"Resolved\", \"sub.439.20.sick\"], [\"Resolved\", \"sub.439.21.sick\"], [\"Resolved\", \"sub.439.7.one.year\"], [\"Pre-symptoms\", \"sub.440.1.two.week\"], [\"Resolved\", \"sub.440.12.sick\"], [\"Pre-symptoms\", \"sub.440.2.one.month\"], [\"Resolved\", \"sub.440.3.twomonth\"], [\"Resolved\", \"sub.440.5.sixmonth\"], [\"Resolved\", \"sub.440.6.ninemonth\"], [\"Symptomatic\", \"sub.445.2.one.month\"], [\"Symptomatic\", \"sub.445.3.twomonth\"], [\"Resolved\", \"sub.445.4.fourmonth\"], [\"Resolved\", \"sub.445.5.sixmonth\"], [\"Resolved\", \"sub.445.6.ninemonth\"], [\"Symptomatic\", \"sub.454.0.initial\"], [\"Symptomatic\", \"sub.454.1.two.week\"], [\"Symptomatic\", \"sub.454.11.sick\"], [\"Resolved\", \"sub.454.13.sick\"], [\"Symptomatic\", \"sub.454.2.one.month\"], [\"Symptomatic\", \"sub.454.3.twomonth\"], [\"Resolved\", \"sub.454.4.fourmonth\"], [\"Resolved\", \"sub.454.6.ninemonth\"], [\"Pre-symptoms\", \"sub.464.1.two.week\"], [\"Pre-symptoms\", \"sub.464.3.twomonth\"], [\"Pre-symptoms\", \"sub.464.4.fourmonth\"], [\"Symptomatic\", \"sub.464.5.sixmonth\"], [\"Resolved\", \"sub.464.6.ninemonth\"], [\"Resolved\", \"sub.464.7.one.year\"], [\"Symptomatic\", \"sub.511.11.sick\"], [\"Symptomatic\", \"sub.511.12.sick\"], [\"Symptomatic\", \"sub.511.13.sick\"], [\"Pre-symptoms\", \"sub.511.2.one.month\"], [\"Symptomatic\", \"sub.511.3.twomonth\"], [\"Symptomatic\", \"sub.511.5.sixmonth\"], [\"Symptomatic\", \"sub.526.11.sick\"], [\"Symptomatic\", \"sub.526.12.sick\"], [\"Symptomatic\", \"sub.526.13.sick\"], [\"Resolved\", \"sub.526.14.sick\"], [\"Resolved\", \"sub.526.15.sick\"], [\"Resolved\", \"sub.526.18.sick\"], [\"Resolved\", \"sub.526.20.sick\"], [\"Resolved\", \"sub.526.21.sick\"], [\"Resolved\", \"sub.526.22.sick\"], [\"Resolved\", \"sub.526.23.sick\"], [\"Resolved\", \"sub.526.24.sick\"], [\"Resolved\", \"sub.526.5.sixmonth\"], [\"Resolved\", \"sub.526.6.ninemonth\"], [\"Resolved\", \"sub.526.7.one.year\"], [\"Pre-symptoms\", \"sub.527.0.initial\"], [\"Pre-symptoms\", \"sub.527.1.two.week\"], [\"Symptomatic\", \"sub.527.11.sick\"], [\"Symptomatic\", \"sub.527.12.sick\"], [\"Symptomatic\", \"sub.527.15.sick\"], [\"Resolved\", \"sub.527.16.sick\"], [\"Symptomatic\", \"sub.527.2.one.month\"], [\"Symptomatic\", \"sub.527.3.twomonth\"], [\"Symptomatic\", \"sub.527.4.fourmonth\"], [\"Resolved\", \"sub.527.5.sixmonth\"], [\"Resolved\", \"sub.527.6.ninemonth\"], [\"Pre-symptoms\", \"sub.533.0.initial\"], [\"Symptomatic\", \"sub.533.11.sick\"], [\"Resolved\", \"sub.533.12.sick\"], [\"Symptomatic\", \"sub.533.2.one.month\"], [\"Symptomatic\", \"sub.533.3.twomonth\"], [\"Symptomatic\", \"sub.533.4.fourmonth\"], [\"Resolved\", \"sub.533.5.sixmonth\"], [\"Pre-symptoms\", \"sub.535.0.initial\"], [\"Pre-symptoms\", \"sub.535.1.two.week\"], [\"Pre-symptoms\", \"sub.535.12.sick\"], [\"Symptomatic\", \"sub.535.13.sick\"], [\"Symptomatic\", \"sub.535.14.sick\"], [\"Resolved\", \"sub.535.15.sick\"], [\"Pre-symptoms\", \"sub.535.2.one.month\"], [\"Pre-symptoms\", \"sub.535.3.twomonth\"], [\"Symptomatic\", \"sub.535.4.fourmonth\"], [\"Resolved\", \"sub.535.5.sixmonth\"], [\"Resolved\", \"sub.535.6.ninemonth\"], [\"Resolved\", \"sub.535.7.one.year\"], [\"Pre-symptoms\", \"sub.554.1.two.week\"], [\"Symptomatic\", \"sub.554.12.sick\"], [\"Symptomatic\", \"sub.554.13.sick\"], [\"Symptomatic\", \"sub.554.14.sick\"], [\"Resolved\", \"sub.554.15.sick\"], [\"Resolved\", \"sub.554.16.sick\"], [\"Resolved\", \"sub.554.17.sick\"], [\"Resolved\", \"sub.554.19.sick\"], [\"Symptomatic\", \"sub.554.2.one.month\"], [\"Resolved\", \"sub.554.20.sick\"], [\"Resolved\", \"sub.554.21.sick\"], [\"Resolved\", \"sub.554.22.sick\"], [\"Resolved\", \"sub.554.23.sick\"], [\"Resolved\", \"sub.554.24.sick\"], [\"Symptomatic\", \"sub.554.3.twomonth\"], [\"Resolved\", \"sub.554.4.fourmonth\"], [\"Resolved\", \"sub.554.5.sixmonth\"], [\"Resolved\", \"sub.554.6.ninemonth\"], [\"Resolved\", \"sub.554.7.one.year\"], [\"Resolved\", \"sub.569.13.sick\"], [\"Resolved\", \"sub.569.14.sick\"], [\"Symptomatic\", \"sub.569.2.one.month\"], [\"Resolved\", \"sub.569.3.twomonth\"], [\"Resolved\", \"sub.569.4.fourmonth\"], [\"Pre-symptoms\", \"sub.571.1.two.week\"], [\"Symptomatic\", \"sub.571.11.sick\"], [\"Symptomatic\", \"sub.571.12.sick\"], [\"Symptomatic\", \"sub.571.13.sick\"], [\"Symptomatic\", \"sub.571.14.sick\"], [\"Symptomatic\", \"sub.571.15.sick\"], [\"Symptomatic\", \"sub.571.16.sick\"], [\"Resolved\", \"sub.571.17.sick\"], [\"Symptomatic\", \"sub.571.2.one.month\"], [\"Symptomatic\", \"sub.571.3.twomonth\"], [\"Symptomatic\", \"sub.571.4.fourmonth\"], [\"Resolved\", \"sub.571.5.sixmonth\"], [\"Resolved\", \"sub.571.6.ninemonth\"], [\"Resolved\", \"sub.571.7.one.year\"], [\"Pre-symptoms\", \"sub.573.11.sick\"], [\"Symptomatic\", \"sub.573.12.sick\"], [\"Resolved\", \"sub.573.16.sick\"], [\"Symptomatic\", \"sub.573.2.one.month\"], [\"Resolved\", \"sub.573.4.fourmonth\"], [\"Pre-symptoms\", \"sub.577.1.two.week\"], [\"Symptomatic\", \"sub.577.2.one.month\"], [\"Symptomatic\", \"sub.577.3.twomonth\"], [\"Resolved\", \"sub.577.6.ninemonth\"], [\"Pre-symptoms\", \"sub.585.0.initial\"], [\"Symptomatic\", \"sub.585.13.sick\"], [\"Symptomatic\", \"sub.585.14.sick\"], [\"Resolved\", \"sub.585.17.sick\"], [\"Resolved\", \"sub.585.19.sick\"], [\"Resolved\", \"sub.585.3.twomonth\"], [\"Resolved\", \"sub.585.6.ninemonth\"], [\"Pre-symptoms\", \"sub.586.0.initial\"], [\"Pre-symptoms\", \"sub.586.1.two.week\"], [\"Pre-symptoms\", \"sub.586.11.sick\"], [\"Symptomatic\", \"sub.586.12.sick\"], [\"Resolved\", \"sub.586.4.fourmonth\"], [\"Pre-symptoms\", \"sub.601.1.two.week\"], [\"Symptomatic\", \"sub.601.11.sick\"], [\"Resolved\", \"sub.601.12.sick\"], [\"Pre-symptoms\", \"sub.601.2.one.month\"], [\"Symptomatic\", \"sub.601.3.twomonth\"], [\"Resolved\", \"sub.601.4.fourmonth\"], [\"Pre-symptoms\", \"sub.604.1.two.week\"], [\"Pre-symptoms\", \"sub.604.2.one.month\"], [\"Resolved\", \"sub.604.3.twomonth\"], [\"Resolved\", \"sub.604.5.sixmonth\"], [\"unknown\", \"sub.615.0.initial\"], [\"unknown\", \"sub.615.13.sick\"], [\"unknown\", \"sub.615.14.sick\"], [\"unknown\", \"sub.615.15.sick\"], [\"unknown\", \"sub.615.18.sick\"], [\"unknown\", \"sub.615.19.sick\"], [\"unknown\", \"sub.615.2.one.month\"], [\"unknown\", \"sub.615.20.sick\"], [\"unknown\", \"sub.615.22.sick\"], [\"unknown\", \"sub.615.5.sixmonth\"], [\"Resolved\", \"sub.621.14.sick\"], [\"Pre-symptoms\", \"sub.621.2.one.month\"], [\"Pre-symptoms\", \"sub.621.3.twomonth\"], [\"Symptomatic\", \"sub.621.4.fourmonth\"], [\"Pre-symptoms\", \"sub.638.0.initial\"], [\"Symptomatic\", \"sub.638.3.twomonth\"], [\"Symptomatic\", \"sub.638.4.fourmonth\"], [\"Resolved\", \"sub.638.6.ninemonth\"], [\"Pre-symptoms\", \"sub.639.0.initial\"], [\"Symptomatic\", \"sub.639.2.one.month\"], [\"Resolved\", \"sub.639.3.twomonth\"], [\"Resolved\", \"sub.639.4.fourmonth\"], [\"Resolved\", \"sub.639.6.ninemonth\"], [\"Resolved\", \"sub.639.7.one.year\"], [\"unknown\", \"sub.643.0.initial\"], [\"unknown\", \"sub.643.1.two.week\"], [\"unknown\", \"sub.643.15.sick\"], [\"Pre-symptoms\", \"sub.655.0.initial\"], [\"Symptomatic\", \"sub.655.1.two.week\"], [\"Symptomatic\", \"sub.655.11.sick\"], [\"Symptomatic\", \"sub.655.12.sick\"], [\"Symptomatic\", \"sub.655.13.sick\"], [\"Resolved\", \"sub.655.14.sick\"], [\"Symptomatic\", \"sub.655.3.twomonth\"], [\"Symptomatic\", \"sub.655.4.fourmonth\"], [\"Resolved\", \"sub.655.5.sixmonth\"], [\"Symptomatic\", \"sub.663.2.one.month\"], [\"Symptomatic\", \"sub.663.3.twomonth\"], [\"Resolved\", \"sub.663.5.sixmonth\"], [\"Resolved\", \"sub.663.6.ninemonth\"], [\"Resolved\", \"sub.663.7.one.year\"], [\"Pre-symptoms\", \"sub.665.0.initial\"], [\"Symptomatic\", \"sub.665.11.sick\"], [\"Symptomatic\", \"sub.665.13.sick\"], [\"Symptomatic\", \"sub.665.14.sick\"], [\"Resolved\", \"sub.665.15.sick\"], [\"Resolved\", \"sub.665.16.sick\"], [\"Resolved\", \"sub.665.17.sick\"], [\"Resolved\", \"sub.665.18.sick\"], [\"Resolved\", \"sub.665.19.sick\"], [\"Symptomatic\", \"sub.665.2.one.month\"], [\"Symptomatic\", \"sub.665.3.twomonth\"], [\"Resolved\", \"sub.665.4.fourmonth\"], [\"Resolved\", \"sub.665.7.one.year\"], [\"Resolved\", \"sub.667.13.sick\"], [\"Symptomatic\", \"sub.667.3.twomonth\"], [\"Symptomatic\", \"sub.667.4.fourmonth\"], [\"Resolved\", \"sub.667.6.ninemonth\"], [\"Symptomatic\", \"sub.669.12.sick.1\"], [\"Symptomatic\", \"sub.669.13.sick.2\"], [\"Symptomatic\", \"sub.669.2.one.month\"], [\"Resolved\", \"sub.669.4.fourmonth\"], [\"Resolved\", \"sub.669.6.ninemonth\"], [\"Symptomatic\", \"sub.672.11.sick\"], [\"Symptomatic\", \"sub.672.2.one.month\"], [\"Symptomatic\", \"sub.672.3.twomonth\"], [\"Pre-symptoms\", \"sub.686.0.initial\"], [\"Symptomatic\", \"sub.686.2.one.month\"], [\"Symptomatic\", \"sub.686.3.twomonth\"], [\"Resolved\", \"sub.686.7.one.year\"], [\"Pre-symptoms\", \"sub.692.0.initial\"], [\"Symptomatic\", \"sub.692.11.sick\"], [\"Resolved\", \"sub.692.12.sick\"], [\"Resolved\", \"sub.692.13.sick\"], [\"Symptomatic\", \"sub.692.4.fourmonth\"], [\"Resolved\", \"sub.692.5.sixmonth\"], [\"Resolved\", \"sub.692.7.one.year\"], [\"Pre-symptoms\", \"sub.695.0.initial\"], [\"Pre-symptoms\", \"sub.695.2.one.month\"], [\"Symptomatic\", \"sub.695.3.twomonth\"], [\"Resolved\", \"sub.695.6.ninemonth\"], [\"Symptomatic\", \"sub.716.11.sick\"], [\"Resolved\", \"sub.716.12.sick\"], [\"Symptomatic\", \"sub.716.2.one.month\"], [\"Symptomatic\", \"sub.716.3.twomonth\"], [\"Symptomatic\", \"sub.716.6.ninemonth\"], [\"Resolved\", \"sub.728.11.sick\"], [\"Resolved\", \"sub.728.12.sick\"], [\"Resolved\", \"sub.728.13.sick\"], [\"Resolved\", \"sub.728.16.sick\"], [\"Resolved\", \"sub.728.17.sick\"], [\"Symptomatic\", \"sub.728.2.one.month\"], [\"Symptomatic\", \"sub.728.3.twomonth\"], [\"Resolved\", \"sub.728.4.fourmonth\"], [\"Resolved\", \"sub.728.5.sixmonth\"], [\"Resolved\", \"sub.728.6.ninemonth\"], [\"Pre-symptoms\", \"sub.729.0.initial\"], [\"Symptomatic\", \"sub.729.12.sick\"], [\"Symptomatic\", \"sub.729.2.one.month\"], [\"Resolved\", \"sub.729.5.sixmonth\"], [\"Symptomatic\", \"sub.733.1.two.week\"], [\"Symptomatic\", \"sub.733.2.one.month\"], [\"Symptomatic\", \"sub.733.3.twomonth\"], [\"Symptomatic\", \"sub.733.4.fourmonth\"], [\"Resolved\", \"sub.733.6.ninemonth\"], [\"Pre-symptoms\", \"sub.758.0.initial\"], [\"Symptomatic\", \"sub.758.2.one.month\"], [\"Symptomatic\", \"sub.758.3.twomonth\"], [\"Symptomatic\", \"sub.758.4.fourmonth\"], [\"Resolved\", \"sub.758.5.sixmonth\"], [\"Resolved\", \"sub.758.6.ninemonth\"], [\"Symptomatic\", \"sub.781.11.sick\"], [\"Symptomatic\", \"sub.781.13.sick\"], [\"Symptomatic\", \"sub.781.14.sick\"], [\"Symptomatic\", \"sub.781.2.one.month\"], [\"Symptomatic\", \"sub.781.3.twomonth\"], [\"Symptomatic\", \"sub.781.5.sixmonth\"], [\"Pre-symptoms\", \"sub.782.1.two.week\"], [\"Pre-symptoms\", \"sub.782.11.sick\"], [\"Symptomatic\", \"sub.782.12.sick\"], [\"Symptomatic\", \"sub.782.13.sick\"], [\"Symptomatic\", \"sub.782.14.sick\"], [\"Symptomatic\", \"sub.782.15.sick\"], [\"Symptomatic\", \"sub.782.16.sick\"], [\"Symptomatic\", \"sub.782.2.one.month\"], [\"Symptomatic\", \"sub.782.3.twomonth\"], [\"Symptomatic\", \"sub.782.4.fourmonth\"], [\"Resolved\", \"sub.782.6.ninemonth\"], [\"Pre-symptoms\", \"sub.790.0.initial\"], [\"Symptomatic\", \"sub.790.11.sick\"], [\"Symptomatic\", \"sub.790.2.one.month\"], [\"Symptomatic\", \"sub.790.3.twomonth.1\"], [\"Symptomatic\", \"sub.790.3.twomonth.2\"], [\"Resolved\", \"sub.790.5.sixmonth\"], [\"Pre-symptoms\", \"sub.793.2.one.month\"], [\"Symptomatic\", \"sub.793.3.twomonth\"], [\"Resolved\", \"sub.793.5.sixmonth\"], [\"Resolved\", \"sub.793.6.ninemonth\"]], \"hovertemplate\": \"predict %{y}, label: %{x}<br>sampleID: %{customdata[1]}<br>symptom: %{customdata[0]}\", \"legendgroup\": \"test\", \"marker\": {\"color\": \"#00cc96\", \"symbol\": \"circle\"}, \"mode\": \"markers\", \"name\": \"test\", \"orientation\": \"v\", \"showlegend\": true, \"type\": \"scatter\", \"x\": [0.4, 7.7, 8.9, 10.2, 10.7, 11.4, 11.5, 12.6, 1.1, 4.1, 6.1, 9.5, 0.2, 0.9, 1.8, 4.1, 0.1, 0.5, 1.0, 6.0, 9.0, 11.5, 0.7, 1.3, 1.8, 4.1, 6.6, 12.4, 12.9, 1.1, 6.2, 9.7, 12.2, 0.4, 0.6, 0.8, 2.1, 7.6, 0.9, 2.1, 4.0, 6.7, 9.1, 12.3, 2.1, 4.1, 6.2, 9.2, 12.6, 0.5, 5.3, 1.0, 4.2, 6.1, 9.1, 0.2, 0.4, 0.9, 2.0, 4.1, 6.3, 9.1, 0.2, 0.5, 1.1, 2.1, 4.1, 6.4, 9.5, 12.2, 0.1, 0.4, 0.8, 2.0, 4.0, 12.4, 0.1, 0.3, 5.9, 9.2, 12.7, 1.0, 2.2, 0.4, 9.9, 2.1, 6.2, 12.2, 0.5, 5.4, 1.0, 2.1, 9.2, 0.3, 0.4, 4.2, 12.1, 1.9, 6.1, 9.1, 12.3, 0.4, 11.6, 4.2, 9.0, 12.1, 0.5, 5.0, 5.3, 6.7, 1.1, 2.0, 4.1, 6.2, 8.9, 11.8, 0.6, 1.0, 4.2, 9.2, 0.3, 0.5, 1.1, 2.0, 4.1, 9.1, 11.8, 1.9, 12.2, 0.5, 2.8, 1.1, 2.1, 4.8, 0.6, 1.0, 2.0, 4.0, 0.2, 1.3, 3.6, 5.4, 8.3, 10.1, 10.8, 0.9, 2.0, 5.0, 7.1, 13.1, 0.1, 4.3, 5.0, 2.0, 6.2, 9.1, 12.6, 0.6, 1.1, 4.3, 6.2, 9.2, 12.0, 0.5, 2.3, 2.4, 3.0, 5.5, 1.1, 4.1, 6.6, 9.4, 12.3, 8.5, 1.0, 2.3, 4.0, 6.2, 9.1, 12.6, 0.1, 0.6, 1.3, 8.6, 2.2, 4.1, 6.4, 0.4, 1.0, 2.1, 9.2, 12.2, 6.3, 6.9, 0.9, 1.9, 4.0, 6.3, 9.7, 1.3, 1.5, 1.1, 1.8, 0.2, 0.4, 9.5, 12.1, 0.5, 1.1, 1.2, 3.0, 5.5, 1.0, 2.0, 6.7, 9.0, 12.5, 1.5, 6.6, 9.1, 13.0, 0.4, 0.9, 6.4, 9.3, 12.1, 1.7, 4.1, 6.4, 12.2, 0.2, 0.6, 1.5, 1.3, 4.4, 0.9, 2.0, 8.5, 12.4, 1.2, 10.9, 1.9, 6.3, 9.3, 12.1, 3.2, 4.8, 8.0, 10.3, 4.1, 5.9, 12.1, 7.3, 1.1, 2.2, 4.0, 9.1, 12.1, 0.1, 0.6, 2.2, 4.7, 7.3, 9.3, 10.2, 12.9, 1.9, 6.1, 9.1, 12.3, 0.4, 0.6, 1.1, 2.0, 4.0, 0.2, 0.4, 0.7, 1.1, 9.6, 0.9, 10.8, 10.9, 12.1, 0.5, 8.5, 1.3, 2.0, 6.2, 9.1, 1.1, 2.0, 4.2, 6.2, 9.2, 0.2, 0.4, 1.2, 8.4, 1.0, 2.3, 4.6, 9.2, 0.4, 2.0, 4.1, 6.4, 9.2, 12.4, 4.6, 5.0, 5.5, 0.9, 2.0, 6.1, 1.8, 2.1, 2.7, 4.1, 3.2, 6.0, 8.0, 8.9, 9.7, 10.4, 10.5, 6.2, 9.4, 12.5, 0.1, 0.5, 1.7, 2.1, 5.7, 7.8, 1.0, 2.3, 4.5, 6.6, 9.8, 0.7, 1.6, 9.2, 1.1, 1.9, 3.9, 6.4, 0.2, 0.4, 0.6, 4.8, 4.6, 10.6, 1.1, 2.3, 4.3, 6.2, 9.3, 12.2, 0.4, 0.7, 0.9, 3.6, 5.1, 5.4, 5.7, 6.1, 1.1, 7.3, 8.1, 8.9, 7.5, 8.7, 2.4, 4.5, 6.3, 9.1, 12.6, 4.9, 5.2, 1.0, 1.9, 4.3, 0.4, 3.1, 3.7, 4.7, 5.0, 5.3, 3.6, 8.0, 0.9, 2.0, 4.2, 7.0, 9.2, 12.3, 0.3, 0.9, 3.1, 1.2, 4.4, 0.3, 1.1, 1.9, 9.3, 0.5, 1.2, 1.4, 7.1, 12.7, 2.2, 9.0, 0.2, 0.5, 0.7, 3.1, 4.1, 0.4, 1.3, 3.1, 0.9, 2.1, 4.0, 0.5, 0.9, 2.1, 7.0, 0.3, 1.4, 2.3, 3.1, 7.2, 10.0, 1.0, 10.7, 12.9, 6.2, 7.4, 1.2, 1.9, 4.1, 0.2, 2.3, 4.0, 9.1, 0.3, 1.2, 2.3, 4.0, 8.6, 12.3, 0.3, 0.5, 7.5, 0.2, 0.4, 1.3, 1.5, 3.2, 7.8, 2.0, 3.9, 6.2, 1.1, 2.0, 6.2, 9.1, 12.1, 0.5, 0.7, 2.5, 2.6, 3.0, 3.3, 10.3, 10.8, 10.8, 1.0, 2.1, 4.1, 12.5, 6.7, 2.9, 3.9, 9.3, 1.6, 1.6, 1.1, 3.9, 9.2, 1.2, 1.0, 1.6, 0.4, 1.1, 2.2, 12.2, 0.5, 1.4, 5.2, 10.0, 4.1, 6.2, 12.3, 0.4, 0.9, 2.0, 8.9, 1.3, 11.2, 1.1, 2.1, 9.1, 2.6, 2.7, 2.1, 9.5, 9.7, 1.1, 1.9, 4.0, 6.2, 9.0, 0.2, 1.5, 0.9, 6.2, 0.5, 1.1, 2.1, 4.0, 8.8, 0.5, 1.3, 2.4, 4.5, 7.0, 9.8, 0.6, 1.9, 3.0, 0.9, 2.0, 6.4, 0.4, 0.2, 1.3, 1.4, 1.5, 1.8, 2.2, 0.9, 2.0, 4.2, 9.1, 0.4, 0.9, 1.3, 2.1, 2.1, 6.2, 1.1, 2.0, 7.6, 9.5], \"xaxis\": \"x\", \"y\": [1.6658375026034118, 3.863210286718957, 5.01054521093371, 5.685754802940561, 4.797936772331887, 6.066842329075848, 6.680727435987708, 7.641656323397677, 2.3141299714475276, 5.365956222751943, 5.047470326862256, 5.465716271966402, 2.2643802660878665, 1.9629657586670985, 4.726564328691808, 5.92974450724934, 2.932546510762402, 1.275491209621554, 1.705338926623128, 3.6355234317867127, 5.172803697647486, 7.888627007576927, 2.5482581040228136, 3.0637229027304334, 4.73302429883467, 6.30858523543247, 6.262941294125809, 8.9544569051825, 9.69900779862158, 1.490343111740912, 8.161753505661633, 9.56152933330526, 9.894198975693683, 1.8778564601767451, 2.530387025953554, 2.5334831518985026, 3.3275246185635745, 5.836239105788024, 3.230034215299725, 3.8353346192166407, 6.554794695456726, 5.59096601766495, 5.942604366222036, 7.655292592564966, 3.7081273374678396, 3.7209884746608624, 4.006341021633977, 5.912115643418373, 10.281680783469332, 1.1637502848905574, 3.9809382983576582, 1.0172407203411662, 3.6566754755597004, 6.77722010418351, 6.688518785772233, 1.303459650417606, 2.7298493330310376, 3.1055588636891986, 5.662950342022285, 6.802482018125176, 9.678864951924103, 6.409687186417306, 0.9336715160420647, 1.43904692869705, 3.3086187698998493, 1.4322451544981218, 3.70280315264862, 6.556890517382448, 3.6176212035151845, 7.054956202664303, 3.711523270619347, 1.8214810422313685, 1.3525300663855957, 1.6505888164518991, 2.536106528914342, 6.339897009642563, 1.3832716559822542, 2.2878407398011364, 3.8205077036450112, 5.131861046456668, 9.485763731049666, 1.665067843276476, 6.1208454950227065, 1.086259116845982, 8.046304554332325, 5.336736753690788, 6.1253109464432445, 7.23887723746254, 0.8706072979461283, 6.0030267894442035, 1.1333803801581397, 3.2491605115414486, 8.09834085360918, 0.9284815668018374, 1.6460391754156538, 2.965671432091378, 4.987425086418322, 1.7907969522709897, 3.831331882285675, 6.292200359914099, 8.16466578440736, 2.3899758622886194, 8.818912171071831, 2.117285184769606, 7.98995773368666, 9.331253532538948, 2.1559910151799095, 2.9591493532709947, 2.6443981707153887, 2.8502657794855306, 3.112797216103697, 2.439249685494258, 5.80771911343399, 4.134243432491127, 4.032238151467319, 5.342642364338732, 5.2781702938660136, 2.437330141847138, 3.9673375220662064, 9.445388700624623, 2.2957721401693414, 2.204309986072708, 1.6494519513899983, 2.5575618883226547, 3.089289976273013, 4.1334110856120265, 9.0222639934926, 1.565617402421605, 9.951574968831094, 1.7125234873527646, 6.379186898389898, 2.333074323028224, 4.877304910342157, 6.6612446932915175, 2.3684084923327444, 3.2344995758584325, 2.2528698261271494, 4.238807514792778, 0.7171212413373635, 2.7157581689557557, 3.5801445138401635, 3.6405934475561796, 5.274973361953259, 5.24020467778736, 5.245229467001609, 2.199982741888167, 2.880861112251648, 2.6786958976188453, 4.830540546995943, 7.420361077147419, 1.3057800716426697, 3.2387078064683097, 5.496849451482669, 2.3064174278096736, 6.902597306124596, 8.959864396447344, 8.229257099285926, 4.597292595676713, 3.409655123182482, 6.552873997834379, 5.23137401602457, 7.155208440325614, 8.202405359616868, 1.2734825159577998, 3.1093914138826637, 2.4884664097257243, 3.3790727855547074, 6.2890135730795445, 3.0171712938351645, 5.332531094382425, 7.12936763748239, 6.526752047235152, 10.211458053172949, 8.902185529580972, 1.3945935967888061, 1.8998488043918955, 3.26181901773692, 4.567122599148969, 8.874670049627024, 10.485199777492891, 1.2338235469311634, 1.0326442160797076, 1.9849210432059032, 5.4333958637228825, 1.8160896657738057, 1.9786611266257048, 6.450732066319671, 1.1059205335925453, 1.2654609706608675, 1.4993761577680496, 3.2174000185714218, 7.2314972521207075, 3.6668591022035386, 3.7154497261323938, 1.7165598351143392, 3.0757147077561213, 3.898622651855219, 3.5559950502677857, 9.148353626956377, 2.357471791157909, 2.0267960582935647, 2.512867735061539, 1.7971755147971327, 0.7916162149238483, 1.410003673644803, 6.817725425691109, 8.53670647357033, 3.1109516070225034, 3.3295789511839784, 2.1882412878003152, 3.6451288394148116, 4.875806376021177, 2.6177812622631795, 1.9870979519323695, 5.800903104690765, 7.639080977636532, 7.65061231152671, 1.5488118863724902, 5.651881493129226, 6.607359193723488, 8.794162197654588, 1.1266308937880574, 1.7142435115726593, 6.891036183526543, 6.968114081912283, 9.545460449317567, 3.63374726134253, 5.187871484635458, 5.969350397276566, 10.745765550075042, 1.083679728743242, 1.6566823802953883, 1.8225651295104803, 1.7405143510852752, 5.637360335046067, 1.4072036951492888, 1.8782682546619256, 9.863598248783926, 10.014968089453037, 3.5233769402083457, 7.757284532904766, 3.854337044511303, 3.4977353304763232, 6.330647960016357, 8.428943223343348, 4.361122462079955, 7.204785019584391, 7.829177380825177, 8.006771345011325, 6.558491081417243, 6.98398916234784, 8.119003843244514, 3.7729841711896475, 1.323347863269969, 2.5872809039582836, 3.248183120844348, 6.464558707480673, 9.298059192607894, 2.9599959430002425, 1.2453608797302949, 2.5710202820730674, 5.837078591127159, 7.397539280955158, 7.374508620348074, 8.654848060145621, 9.51822042968351, 2.409680085632508, 6.897470986496283, 7.038995564687927, 2.4596061225909835, 1.4011837966933491, 1.4029024106677401, 1.5703034246530834, 1.416274565326173, 2.6465034418436195, 1.3867690517341973, 6.2589598482290825, 3.054065224020701, 1.3488856187423683, 3.2650162194585017, 1.5949447086783315, 8.01714827313584, 7.297300785870719, 5.2610831937207445, 1.1661455572534674, 7.5836684718522696, 1.5527734415639993, 2.09295782845867, 4.944246149455916, 8.079355758991504, 3.944243649163683, 5.896945765458843, 8.379897041671112, 7.212630657700976, 7.6542200683165635, 1.6956122244996117, 2.0071861980940944, 3.557343771958754, 8.28556251812515, 2.854722717352496, 5.663935684783879, 7.6909462578554795, 7.988250756842557, 2.408257122564693, 2.100036208549312, 3.0417060501847395, 6.590434804475373, 9.175581867650697, 8.063279416580997, 3.45891729494943, 3.4141620373191826, 3.2196577999381244, 1.8025585208020087, 1.7597229058342074, 6.475963383243728, 3.9103282404114736, 3.3821769512913376, 4.057572234488057, 4.810509412559445, 4.180988576266301, 6.068428296104002, 7.082324074381135, 9.874613086295355, 9.882934567949924, 9.21824643697992, 8.348299430252466, 6.304972219778589, 9.420432229782191, 9.068627952593195, 1.77285354520361, 2.452322260463686, 2.5523699791582213, 3.7140522891548238, 3.821468343928483, 6.644486136199187, 2.6771079822118975, 2.872803114452689, 3.733566742596025, 4.592233785543546, 8.92629739342447, 1.9536923263156112, 2.3731209816902683, 8.771030795339449, 2.805778961509439, 2.939304776622478, 5.259241106365, 7.834206431196223, 2.0127518377263924, 1.9367293165924035, 1.918748376787441, 3.4032823579623708, 4.428714587784017, 8.921692858857178, 2.316858089951999, 2.2418315113899703, 4.969287800600168, 5.631012900455406, 7.943478190719505, 8.68334573034776, 0.9655457797404124, 1.4224262855413707, 1.7060712244099374, 2.0484663174781135, 5.881738724441223, 2.6169424010347218, 2.6205170674413196, 2.2332859451868834, 1.6954597814580727, 3.830519589957733, 5.822750647496323, 5.980866008839054, 5.637794248078073, 6.321861203333581, 2.3086367004693957, 3.0520926913388085, 2.8721462439407515, 6.832842113749275, 8.025496173783713, 5.346834851329915, 5.377660971867929, 1.3940907243177703, 2.7366540165351156, 4.5525625771848, 1.9939563672774496, 3.160121442663855, 3.5295000328744557, 3.1441208855125296, 2.500645595288852, 3.4537900635003815, 2.192228842542476, 6.093938098676057, 2.0550864780190006, 2.3612397928574578, 3.0657171990375947, 4.262712240068382, 7.186228802166865, 8.731275363497806, 0.6560807858990516, 1.275143878549933, 4.029206904931105, 1.4977083848981472, 4.969285923762026, 1.0310345354577308, 1.9681411294106652, 1.7962901995958473, 4.9184828635727875, 1.9240096236900472, 1.794298097060246, 1.824593839252427, 4.600500827009949, 8.221764746731584, 2.1412628709476182, 6.92978927825369, 1.1043596155698685, 2.5023183899579604, 2.7496686535693087, 4.754588266701116, 5.233440259760251, 2.397537277656998, 2.9710224621132415, 2.880993918792627, 2.318184733099274, 2.210975641264087, 5.397509123304236, 1.991570876423383, 2.8508983493601394, 1.8413358932576465, 8.464940345162672, 2.402093119899737, 3.3508187395711553, 4.09179152605676, 4.224673104785217, 6.799399529459363, 7.246694070326916, 2.8254876328651446, 8.480248735575096, 9.80089529421197, 5.8554064074626115, 5.911679286349577, 5.539619234828879, 1.8248145654470096, 1.7182528198850817, 1.1496468727949074, 2.5869346937039537, 5.9651883357924484, 4.647799314642777, 1.48590548682172, 1.2823612805554754, 3.6965485863803402, 2.097092952510206, 5.95565246094253, 9.66325055176258, 1.1467863674578396, 3.169982603762338, 6.6890926478330766, 1.555109723358952, 1.6057323866164042, 2.27968273427011, 3.783717443648001, 2.4366425914816747, 7.55962080255912, 3.1939269854719945, 4.139615792787858, 4.88383641640714, 1.8069801029725305, 3.77501560989718, 3.493627340906865, 8.810816729715736, 8.96355116468282, 1.0542841027816816, 1.4495832632219074, 1.9829634201619353, 1.9537338070761852, 2.0179845741944944, 2.3849271090873265, 5.69115030551657, 6.645064459431815, 8.169828636396682, 2.3037495398497105, 2.30040336523726, 2.203048208817212, 4.041317283522444, 8.210058977560292, 5.171532100510896, 6.095426075504552, 8.91846198128304, 3.5682273417154127, 2.997801444930448, 2.8256647650721702, 4.987238211937542, 9.711239368041987, 2.1863659362279115, 2.480175640438362, 2.1716391682770557, 1.4077604892410873, 2.073108489304521, 2.6785870765170103, 9.934872825863648, 1.8172991983510183, 3.924455095170878, 7.998392136982842, 7.5008603259627495, 7.047677214616507, 6.825299097913171, 7.656185409205159, 1.2379108909118748, 1.7540883850905813, 2.7137934273652955, 4.608310232685685, 5.52559536681164, 3.9752829628429467, 5.2816496387130725, 4.572885503116802, 9.413664115812711, 5.839597984987197, 2.1974352563854644, 2.1089456953325882, 6.169747745602005, 5.591492005087532, 1.723558099159193, 2.2552735759917226, 3.6930964136728215, 8.598730198776831, 5.341658622168232, 2.105317690553745, 2.917162482077078, 1.7111504393542558, 6.972622062725135, 0.9679283200767199, 1.7858766978886977, 3.9397331984524477, 5.868327555653707, 5.936673673020044, 1.7306181629354038, 5.614916712297421, 4.664390959618075, 5.1081252222933005, 5.294368237213268, 10.033907201984968, 2.523947099142965, 2.527722110203669, 5.395952991048201, 2.7289226585700455, 4.415590737284057, 1.5841216213262872, 2.849578212397567, 1.3225662398863818, 3.6364499043874225, 4.360094659370536, 3.918718519702789, 3.496495303426499, 2.595811789440759, 2.4060760411498885, 4.163845033087985, 2.910782357039814, 8.672429450844877, 2.2249890852225986, 1.6595952560310412, 2.05948027910426, 2.7883076960900097, 2.1225934402725883, 3.7427443336365838, 4.480364080141574, 4.681489896587289, 7.941656262981656, 10.546292752682593], \"yaxis\": \"y\"}, {\"line\": {\"width\": 3}, \"mode\": \"lines\", \"name\": \"control_train regression\", \"type\": \"scatter\", \"x\": [0.2, 4.0, 6.2, 9.2, 12.6, 0.1, 2.0, 4.1, 6.1, 9.4, 12.1, 0.2, 0.7, 1.8, 3.9, 6.5, 9.2, 1.0, 2.1, 6.7, 9.0, 0.1, 0.5, 1.2, 2.3, 4.1, 6.1, 9.2, 2.0, 4.3, 9.9, 12.2, 1.0, 2.1, 6.5, 9.0, 0.2, 0.4, 1.1, 2.1, 0.1, 0.5, 1.0, 2.0, 4.2, 6.2, 12.0, 1.1, 2.1, 4.0, 6.3, 12.9, 0.2, 0.7, 1.1, 2.1, 3.9, 6.4, 12.1, 0.2, 0.4, 1.1, 2.0, 4.7, 6.3, 0.2, 0.5, 1.0, 2.1, 4.2, 6.5, 9.2, 1.0, 2.0, 6.3, 12.4, 0.1, 0.5, 3.1, 2.0, 4.1, 7.0, 9.3, 0.3, 0.5, 1.9, 4.4, 6.1, 0.4, 1.3, 2.0, 4.0, 6.0, 8.4, 12.1, 0.1, 0.5, 4.0, 6.1, 12.7, 0.2, 0.4, 0.9, 2.0, 12.8, 0.1, 0.5, 3.1, 1.1, 2.1, 3.7, 0.2, 0.4, 1.7, 6.4, 7.4, 7.9, 7.5, 1.1, 2.2, 4.1, 6.1, 12.1, 0.1, 11.3, 1.0, 9.3, 0.1, 0.3, 0.9, 2.3, 4.2, 6.2, 9.6, 0.4, 4.1, 9.6, 12.6, 0.2, 0.5, 1.1, 2.0, 0.4, 2.2, 6.4, 9.0, 0.2, 0.7, 1.9, 6.0, 9.2, 0.5, 0.9, 2.0, 6.0, 9.0, 12.2, 0.5, 1.1, 4.1, 9.1, 0.3, 1.0, 1.9, 3.9, 6.3, 9.2, 12.1, 0.5, 0.3, 0.8, 1.9, 3.9, 9.2, 0.4, 0.9, 2.0, 6.1, 11.0, 12.1, 1.0, 2.2, 4.2, 6.3, 9.2, 0.4, 3.9, 6.2, 0.2, 0.5, 1.1, 9.2, 0.1, 0.2, 1.1, 1.9, 0.2, 0.4, 0.7, 1.1, 2.1, 6.2, 9.4, 13.3, 0.3, 1.0, 4.2, 9.5, 12.7, 0.9, 4.1, 6.3, 9.4, 0.8, 2.0, 4.2, 6.2, 9.4, 12.3, 0.5, 4.0, 6.6, 0.5, 8.7, 4.1, 9.2, 0.2, 0.4, 1.1, 4.3, 6.1, 9.3, 12.2, 0.2, 0.4, 1.7, 12.3, 0.4, 0.9, 10.5, 1.1, 1.8, 7.3, 9.2, 12.5, 0.2, 0.5, 4.2, 7.6, 9.7, 1.1, 2.0, 4.1, 6.1, 1.0, 1.0, 2.2, 9.5, 0.4, 9.2, 1.0, 2.0, 4.1, 6.2, 1.1, 2.2, 4.3, 11.7, 0.1, 1.2, 2.1, 4.1, 0.6, 2.1, 6.4, 9.0, 2.1, 3.9, 6.5, 9.2, 0.2, 0.6, 0.9, 1.9, 4.0, 6.3, 9.3, 12.3, 2.5, 5.7, 11.6, 4.2, 9.7, 0.9, 1.9, 4.0, 6.0, 8.5, 12.2, 2.1, 12.9, 0.9, 2.0, 4.2, 6.2, 9.2, 12.2, 0.1, 0.7, 9.9, 1.6, 4.1, 6.4, 12.2, 0.5, 2.0, 4.0, 6.2, 0.3, 0.5, 0.7, 1.1, 2.1, 5.6, 0.3, 0.4, 1.0, 2.1, 0.4, 0.9, 4.3, 9.6, 0.2, 0.4, 1.0, 1.8, 0.3, 1.1, 2.1, 4.1, 6.1, 0.3, 0.6, 1.0, 0.8, 1.9, 3.9, 7.0, 0.2, 0.5, 0.9, 9.1], \"y\": [0.6434653395074059, 4.011496771108698, 5.961409705193656, 8.62038188803678, 11.633883695258989, 0.5548329334126351, 2.238848649213281, 4.100129177203468, 5.872777299098885, 8.797646700226323, 11.190721664785135, 0.6434653395074059, 1.0866273699812599, 2.061583837023739, 3.9228643650139268, 6.227306923477968, 8.62038188803678, 1.3525245882655725, 2.327481055308052, 6.40457173566751, 8.443117075847239, 0.5548329334126351, 0.9093625577917184, 1.5297894004551142, 2.504745867497593, 4.100129177203468, 5.872777299098885, 8.62038188803678, 2.238848649213281, 4.27739398939301, 9.240808730700177, 11.279354070879906, 1.3525245882655725, 2.327481055308052, 6.227306923477968, 8.443117075847239, 0.6434653395074059, 0.8207301516969476, 1.4411569943603435, 2.327481055308052, 0.5548329334126351, 0.9093625577917184, 1.3525245882655725, 2.238848649213281, 4.188761583298239, 5.961409705193656, 11.102089258690365, 1.4411569943603435, 2.327481055308052, 4.011496771108698, 6.050042111288427, 11.899780913543303, 0.6434653395074059, 1.0866273699812599, 1.4411569943603435, 2.327481055308052, 3.9228643650139268, 6.138674517383198, 11.190721664785135, 0.6434653395074059, 0.8207301516969476, 1.4411569943603435, 2.238848649213281, 4.631923613772093, 6.050042111288427, 0.6434653395074059, 0.9093625577917184, 1.3525245882655725, 2.327481055308052, 4.188761583298239, 6.227306923477968, 8.62038188803678, 1.3525245882655725, 2.238848649213281, 6.050042111288427, 11.456618883069448, 0.5548329334126351, 0.9093625577917184, 3.21380511625576, 2.238848649213281, 4.100129177203468, 6.670468953951822, 8.709014294131553, 0.7320977456021767, 0.9093625577917184, 2.1502162431185097, 4.366026395487781, 5.872777299098885, 0.8207301516969476, 1.618421806549885, 2.238848649213281, 4.011496771108698, 5.784144893004115, 7.911322639278614, 11.190721664785135, 0.5548329334126351, 0.9093625577917184, 4.011496771108698, 5.872777299098885, 11.72251610135376, 0.6434653395074059, 0.8207301516969476, 1.2638921821708018, 2.238848649213281, 11.811148507448532, 0.5548329334126351, 0.9093625577917184, 3.21380511625576, 1.4411569943603435, 2.327481055308052, 3.7455995528243853, 0.6434653395074059, 0.8207301516969476, 1.9729514309289684, 6.138674517383198, 7.024998578330907, 7.4681606088047605, 7.1136309844256775, 1.4411569943603435, 2.416113461402823, 4.100129177203468, 5.872777299098885, 11.190721664785135, 0.5548329334126351, 10.48166241602697, 1.3525245882655725, 8.709014294131553, 0.5548329334126351, 0.7320977456021767, 1.2638921821708018, 2.504745867497593, 4.188761583298239, 5.961409705193656, 8.974911512415865, 0.8207301516969476, 4.100129177203468, 8.974911512415865, 11.633883695258989, 0.6434653395074059, 0.9093625577917184, 1.4411569943603435, 2.238848649213281, 0.8207301516969476, 2.416113461402823, 6.138674517383198, 8.443117075847239, 0.6434653395074059, 1.0866273699812599, 2.1502162431185097, 5.784144893004115, 8.62038188803678, 0.9093625577917184, 1.2638921821708018, 2.238848649213281, 5.784144893004115, 8.443117075847239, 11.279354070879906, 0.9093625577917184, 1.4411569943603435, 4.100129177203468, 8.53174948194201, 0.7320977456021767, 1.3525245882655725, 2.1502162431185097, 3.9228643650139268, 6.050042111288427, 8.62038188803678, 11.190721664785135, 0.9093625577917184, 0.7320977456021767, 1.175259776076031, 2.1502162431185097, 3.9228643650139268, 8.62038188803678, 0.8207301516969476, 1.2638921821708018, 2.238848649213281, 5.872777299098885, 10.215765197742657, 11.190721664785135, 1.3525245882655725, 2.416113461402823, 4.188761583298239, 6.050042111288427, 8.62038188803678, 0.8207301516969476, 3.9228643650139268, 5.961409705193656, 0.6434653395074059, 0.9093625577917184, 1.4411569943603435, 8.62038188803678, 0.5548329334126351, 0.6434653395074059, 1.4411569943603435, 2.1502162431185097, 0.6434653395074059, 0.8207301516969476, 1.0866273699812599, 1.4411569943603435, 2.327481055308052, 5.961409705193656, 8.797646700226323, 12.254310537922386, 0.7320977456021767, 1.3525245882655725, 4.188761583298239, 8.886279106321094, 11.72251610135376, 1.2638921821708018, 4.100129177203468, 6.050042111288427, 8.797646700226323, 1.175259776076031, 2.238848649213281, 4.188761583298239, 5.961409705193656, 8.797646700226323, 11.367986476974679, 0.9093625577917184, 4.011496771108698, 6.315939329572739, 0.9093625577917184, 8.177219857562926, 4.100129177203468, 8.62038188803678, 0.6434653395074059, 0.8207301516969476, 1.4411569943603435, 4.27739398939301, 5.872777299098885, 8.709014294131553, 11.279354070879906, 0.6434653395074059, 0.8207301516969476, 1.9729514309289684, 11.367986476974679, 0.8207301516969476, 1.2638921821708018, 9.772603167268802, 1.4411569943603435, 2.061583837023739, 6.936366172236134, 8.62038188803678, 11.545251289164218, 0.6434653395074059, 0.9093625577917184, 4.188761583298239, 7.2022633905204465, 9.063543918510634, 1.4411569943603435, 2.238848649213281, 4.100129177203468, 5.872777299098885, 1.3525245882655725, 1.3525245882655725, 2.416113461402823, 8.886279106321094, 0.8207301516969476, 8.62038188803678, 1.3525245882655725, 2.238848649213281, 4.100129177203468, 5.961409705193656, 1.4411569943603435, 2.416113461402823, 4.27739398939301, 10.83619204040605, 0.5548329334126351, 1.5297894004551142, 2.327481055308052, 4.100129177203468, 0.9979949638864892, 2.327481055308052, 6.138674517383198, 8.443117075847239, 2.327481055308052, 3.9228643650139268, 6.227306923477968, 8.62038188803678, 0.6434653395074059, 0.9979949638864892, 1.2638921821708018, 2.1502162431185097, 4.011496771108698, 6.050042111288427, 8.709014294131553, 11.367986476974679, 2.682010679687135, 5.518247674719802, 10.747559634311282, 4.188761583298239, 9.063543918510634, 1.2638921821708018, 2.1502162431185097, 4.011496771108698, 5.784144893004115, 7.999955045373385, 11.279354070879906, 2.327481055308052, 11.899780913543303, 1.2638921821708018, 2.238848649213281, 4.188761583298239, 5.961409705193656, 8.62038188803678, 11.279354070879906, 0.5548329334126351, 1.0866273699812599, 9.240808730700177, 1.8843190248341977, 4.100129177203468, 6.138674517383198, 11.279354070879906, 0.9093625577917184, 2.238848649213281, 4.011496771108698, 5.961409705193656, 0.7320977456021767, 0.9093625577917184, 1.0866273699812599, 1.4411569943603435, 2.327481055308052, 5.42961526862503, 0.7320977456021767, 0.8207301516969476, 1.3525245882655725, 2.327481055308052, 0.8207301516969476, 1.2638921821708018, 4.27739398939301, 8.974911512415865, 0.6434653395074059, 0.8207301516969476, 1.3525245882655725, 2.061583837023739, 0.7320977456021767, 1.4411569943603435, 2.327481055308052, 4.100129177203468, 5.872777299098885, 0.7320977456021767, 0.9979949638864892, 1.3525245882655725, 1.175259776076031, 2.1502162431185097, 3.9228643650139268, 6.670468953951822, 0.6434653395074059, 0.9093625577917184, 1.2638921821708018, 8.53174948194201]}, {\"line\": {\"width\": 3}, \"mode\": \"lines\", \"name\": \"control_test regression\", \"type\": \"scatter\", \"x\": [1.1, 1.8, 4.1, 6.3, 12.2, 0.2, 0.4, 1.1, 2.2, 4.0, 9.3, 12.1, 0.7, 1.4, 2.1, 4.1, 0.1, 0.4, 1.1, 2.6, 4.3, 9.2, 0.2, 1.1, 1.9, 4.1, 9.1, 12.6, 0.5, 1.0, 2.1, 3.9, 0.2, 1.4, 2.2, 4.1, 6.7, 12.9, 0.5, 1.0, 2.2, 3.9, 6.0, 12.4, 0.8, 1.9, 6.5, 9.3, 12.5, 0.6, 1.0, 2.1, 4.1, 6.3, 9.0, 1.4, 2.4, 4.0, 12.6, 0.2, 2.3, 4.1, 6.2, 9.1, 0.3, 4.4, 1.1, 4.1, 6.2, 12.3], \"y\": [2.9955465759218334, 3.337574171408494, 4.461379128007522, 5.536322999537027, 8.41912701863888, 2.555796810296127, 2.6535189804351726, 2.9955465759218334, 3.5330185116865858, 4.412518042937998, 7.002155551622716, 8.370265933569357, 2.8001022356437417, 3.1421298311304025, 3.484157426617063, 4.461379128007522, 2.506935725226604, 2.6535189804351726, 2.9955465759218334, 3.728462851964678, 4.559101298146567, 6.953294466553192, 2.555796810296127, 2.9955465759218334, 3.386435256478017, 4.461379128007522, 6.904433381483669, 8.614571358916972, 2.7023800655046957, 2.9466854908523104, 3.484157426617063, 4.363656957868476, 2.555796810296127, 3.1421298311304025, 3.5330185116865858, 4.461379128007522, 5.731767339815118, 8.761154614125541, 2.7023800655046957, 2.9466854908523104, 3.5330185116865858, 4.363656957868476, 5.389739744328458, 8.516849188777925, 2.8489633207132647, 3.386435256478017, 5.634045169676073, 7.002155551622716, 8.56571027384745, 2.7512411505742187, 2.9466854908523104, 3.484157426617063, 4.461379128007522, 5.536322999537027, 6.855572296414146, 3.1421298311304025, 3.630740681825632, 4.412518042937998, 8.614571358916972, 2.555796810296127, 3.581879596756109, 4.461379128007522, 5.487461914467504, 6.904433381483669, 2.6046578953656496, 4.6079623832160905, 2.9955465759218334, 4.461379128007522, 5.487461914467504, 8.467988103708404]}, {\"line\": {\"width\": 3}, \"mode\": \"lines\", \"name\": \"test regression\", \"type\": \"scatter\", \"x\": [0.4, 7.7, 8.9, 10.2, 10.7, 11.4, 11.5, 12.6, 1.1, 4.1, 6.1, 9.5, 0.2, 0.9, 1.8, 4.1, 0.1, 0.5, 1.0, 6.0, 9.0, 11.5, 0.7, 1.3, 1.8, 4.1, 6.6, 12.4, 12.9, 1.1, 6.2, 9.7, 12.2, 0.4, 0.6, 0.8, 2.1, 7.6, 0.9, 2.1, 4.0, 6.7, 9.1, 12.3, 2.1, 4.1, 6.2, 9.2, 12.6, 0.5, 5.3, 1.0, 4.2, 6.1, 9.1, 0.2, 0.4, 0.9, 2.0, 4.1, 6.3, 9.1, 0.2, 0.5, 1.1, 2.1, 4.1, 6.4, 9.5, 12.2, 0.1, 0.4, 0.8, 2.0, 4.0, 12.4, 0.1, 0.3, 5.9, 9.2, 12.7, 1.0, 2.2, 0.4, 9.9, 2.1, 6.2, 12.2, 0.5, 5.4, 1.0, 2.1, 9.2, 0.3, 0.4, 4.2, 12.1, 1.9, 6.1, 9.1, 12.3, 0.4, 11.6, 4.2, 9.0, 12.1, 0.5, 5.0, 5.3, 6.7, 1.1, 2.0, 4.1, 6.2, 8.9, 11.8, 0.6, 1.0, 4.2, 9.2, 0.3, 0.5, 1.1, 2.0, 4.1, 9.1, 11.8, 1.9, 12.2, 0.5, 2.8, 1.1, 2.1, 4.8, 0.6, 1.0, 2.0, 4.0, 0.2, 1.3, 3.6, 5.4, 8.3, 10.1, 10.8, 0.9, 2.0, 5.0, 7.1, 13.1, 0.1, 4.3, 5.0, 2.0, 6.2, 9.1, 12.6, 0.6, 1.1, 4.3, 6.2, 9.2, 12.0, 0.5, 2.3, 2.4, 3.0, 5.5, 1.1, 4.1, 6.6, 9.4, 12.3, 8.5, 1.0, 2.3, 4.0, 6.2, 9.1, 12.6, 0.1, 0.6, 1.3, 8.6, 2.2, 4.1, 6.4, 0.4, 1.0, 2.1, 9.2, 12.2, 6.3, 6.9, 0.9, 1.9, 4.0, 6.3, 9.7, 1.3, 1.5, 1.1, 1.8, 0.2, 0.4, 9.5, 12.1, 0.5, 1.1, 1.2, 3.0, 5.5, 1.0, 2.0, 6.7, 9.0, 12.5, 1.5, 6.6, 9.1, 13.0, 0.4, 0.9, 6.4, 9.3, 12.1, 1.7, 4.1, 6.4, 12.2, 0.2, 0.6, 1.5, 1.3, 4.4, 0.9, 2.0, 8.5, 12.4, 1.2, 10.9, 1.9, 6.3, 9.3, 12.1, 3.2, 4.8, 8.0, 10.3, 4.1, 5.9, 12.1, 7.3, 1.1, 2.2, 4.0, 9.1, 12.1, 0.1, 0.6, 2.2, 4.7, 7.3, 9.3, 10.2, 12.9, 1.9, 6.1, 9.1, 12.3, 0.4, 0.6, 1.1, 2.0, 4.0, 0.2, 0.4, 0.7, 1.1, 9.6, 0.9, 10.8, 10.9, 12.1, 0.5, 8.5, 1.3, 2.0, 6.2, 9.1, 1.1, 2.0, 4.2, 6.2, 9.2, 0.2, 0.4, 1.2, 8.4, 1.0, 2.3, 4.6, 9.2, 0.4, 2.0, 4.1, 6.4, 9.2, 12.4, 4.6, 5.0, 5.5, 0.9, 2.0, 6.1, 1.8, 2.1, 2.7, 4.1, 3.2, 6.0, 8.0, 8.9, 9.7, 10.4, 10.5, 6.2, 9.4, 12.5, 0.1, 0.5, 1.7, 2.1, 5.7, 7.8, 1.0, 2.3, 4.5, 6.6, 9.8, 0.7, 1.6, 9.2, 1.1, 1.9, 3.9, 6.4, 0.2, 0.4, 0.6, 4.8, 4.6, 10.6, 1.1, 2.3, 4.3, 6.2, 9.3, 12.2, 0.4, 0.7, 0.9, 3.6, 5.1, 5.4, 5.7, 6.1, 1.1, 7.3, 8.1, 8.9, 7.5, 8.7, 2.4, 4.5, 6.3, 9.1, 12.6, 4.9, 5.2, 1.0, 1.9, 4.3, 0.4, 3.1, 3.7, 4.7, 5.0, 5.3, 3.6, 8.0, 0.9, 2.0, 4.2, 7.0, 9.2, 12.3, 0.3, 0.9, 3.1, 1.2, 4.4, 0.3, 1.1, 1.9, 9.3, 0.5, 1.2, 1.4, 7.1, 12.7, 2.2, 9.0, 0.2, 0.5, 0.7, 3.1, 4.1, 0.4, 1.3, 3.1, 0.9, 2.1, 4.0, 0.5, 0.9, 2.1, 7.0, 0.3, 1.4, 2.3, 3.1, 7.2, 10.0, 1.0, 10.7, 12.9, 6.2, 7.4, 1.2, 1.9, 4.1, 0.2, 2.3, 4.0, 9.1, 0.3, 1.2, 2.3, 4.0, 8.6, 12.3, 0.3, 0.5, 7.5, 0.2, 0.4, 1.3, 1.5, 3.2, 7.8, 2.0, 3.9, 6.2, 1.1, 2.0, 6.2, 9.1, 12.1, 0.5, 0.7, 2.5, 2.6, 3.0, 3.3, 10.3, 10.8, 10.8, 1.0, 2.1, 4.1, 12.5, 6.7, 2.9, 3.9, 9.3, 1.6, 1.6, 1.1, 3.9, 9.2, 1.2, 1.0, 1.6, 0.4, 1.1, 2.2, 12.2, 0.5, 1.4, 5.2, 10.0, 4.1, 6.2, 12.3, 0.4, 0.9, 2.0, 8.9, 1.3, 11.2, 1.1, 2.1, 9.1, 2.6, 2.7, 2.1, 9.5, 9.7, 1.1, 1.9, 4.0, 6.2, 9.0, 0.2, 1.5, 0.9, 6.2, 0.5, 1.1, 2.1, 4.0, 8.8, 0.5, 1.3, 2.4, 4.5, 7.0, 9.8, 0.6, 1.9, 3.0, 0.9, 2.0, 6.4, 0.4, 0.2, 1.3, 1.4, 1.5, 1.8, 2.2, 0.9, 2.0, 4.2, 9.1, 0.4, 0.9, 1.3, 2.1, 2.1, 6.2, 1.1, 2.0, 7.6, 9.5], \"y\": [2.1006297482593865, 6.060378980343316, 6.7112966623297154, 7.416457484481647, 7.687673185309314, 8.067375166468047, 8.12161830663358, 8.718292848454446, 2.4803317294181197, 4.107625934384117, 5.1924887376947835, 7.036755503322915, 1.99214346792832, 2.3718454490870533, 2.8600337105768525, 4.107625934384117, 1.9379003277627869, 2.15487288842492, 2.4260885892525863, 5.1382455975292505, 6.7655398024952484, 8.12161830663358, 2.2633591687559864, 2.588818009749186, 2.8600337105768525, 4.107625934384117, 5.46370443852245, 8.60980656812338, 8.881022268951046, 2.4803317294181197, 5.2467318778603165, 7.145241783653981, 8.501320287792314, 2.1006297482593865, 2.2091160285904534, 2.31760230892152, 3.0227631310734524, 6.006135840177783, 2.3718454490870533, 3.0227631310734524, 4.053382794218585, 5.517947578687983, 6.819782942660781, 8.555563427957846, 3.0227631310734524, 4.107625934384117, 5.2467318778603165, 6.874026082826314, 8.718292848454446, 2.15487288842492, 4.758543616370517, 2.4260885892525863, 4.161869074549651, 5.1924887376947835, 6.819782942660781, 1.99214346792832, 2.1006297482593865, 2.3718454490870533, 2.968519990907919, 4.107625934384117, 5.30097501802585, 6.819782942660781, 1.99214346792832, 2.15487288842492, 2.4803317294181197, 3.0227631310734524, 4.107625934384117, 5.355218158191383, 7.036755503322915, 8.501320287792314, 1.9379003277627869, 2.1006297482593865, 2.31760230892152, 2.968519990907919, 4.053382794218585, 8.60980656812338, 1.9379003277627869, 2.0463866080938535, 5.084002457363717, 6.874026082826314, 8.772535988619978, 2.4260885892525863, 3.077006271238986, 2.1006297482593865, 7.253728063985048, 3.0227631310734524, 5.2467318778603165, 8.501320287792314, 2.15487288842492, 4.812786756536051, 2.4260885892525863, 3.0227631310734524, 6.874026082826314, 2.0463866080938535, 2.1006297482593865, 4.161869074549651, 8.44707714762678, 2.914276850742386, 5.1924887376947835, 6.819782942660781, 8.555563427957846, 2.1006297482593865, 8.175861446799114, 4.161869074549651, 6.7655398024952484, 8.44707714762678, 2.15487288842492, 4.595814195873917, 4.758543616370517, 5.517947578687983, 2.4803317294181197, 2.968519990907919, 4.107625934384117, 5.2467318778603165, 6.7112966623297154, 8.28434772713018, 2.2091160285904534, 2.4260885892525863, 4.161869074549651, 6.874026082826314, 2.0463866080938535, 2.15487288842492, 2.4803317294181197, 2.968519990907919, 4.107625934384117, 6.819782942660781, 8.28434772713018, 2.914276850742386, 8.501320287792314, 2.15487288842492, 3.4024651122321856, 2.4803317294181197, 3.0227631310734524, 4.487327915542851, 2.2091160285904534, 2.4260885892525863, 2.968519990907919, 4.053382794218585, 1.99214346792832, 2.588818009749186, 3.8364102335564514, 4.812786756536051, 6.385837821336516, 7.362214344316114, 7.741916325474848, 2.3718454490870533, 2.968519990907919, 4.595814195873917, 5.734920139350116, 8.989508549282114, 1.9379003277627869, 4.216112214715185, 4.595814195873917, 2.968519990907919, 5.2467318778603165, 6.819782942660781, 8.718292848454446, 2.2091160285904534, 2.4803317294181197, 4.216112214715185, 5.2467318778603165, 6.874026082826314, 8.392834007461246, 2.15487288842492, 3.131249411404519, 3.1854925515700523, 3.510951392563252, 4.867029896701584, 2.4803317294181197, 4.107625934384117, 5.46370443852245, 6.982512363157382, 8.555563427957846, 6.494324101667583, 2.4260885892525863, 3.131249411404519, 4.053382794218585, 5.2467318778603165, 6.819782942660781, 8.718292848454446, 1.9379003277627869, 2.2091160285904534, 2.588818009749186, 6.548567241833116, 3.077006271238986, 4.107625934384117, 5.355218158191383, 2.1006297482593865, 2.4260885892525863, 3.0227631310734524, 6.874026082826314, 8.501320287792314, 5.30097501802585, 5.62643385901905, 2.3718454490870533, 2.914276850742386, 4.053382794218585, 5.30097501802585, 7.145241783653981, 2.588818009749186, 2.697304290080253, 2.4803317294181197, 2.8600337105768525, 1.99214346792832, 2.1006297482593865, 7.036755503322915, 8.44707714762678, 2.15487288842492, 2.4803317294181197, 2.534574869583653, 3.510951392563252, 4.867029896701584, 2.4260885892525863, 2.968519990907919, 5.517947578687983, 6.7655398024952484, 8.664049708288914, 2.697304290080253, 5.46370443852245, 6.819782942660781, 8.93526540911658, 2.1006297482593865, 2.3718454490870533, 5.355218158191383, 6.928269222991848, 8.44707714762678, 2.805790570411319, 4.107625934384117, 5.355218158191383, 8.501320287792314, 1.99214346792832, 2.2091160285904534, 2.697304290080253, 2.588818009749186, 4.270355354880718, 2.3718454490870533, 2.968519990907919, 6.494324101667583, 8.60980656812338, 2.534574869583653, 7.796159465640381, 2.914276850742386, 5.30097501802585, 6.928269222991848, 8.44707714762678, 3.6194376728943185, 4.487327915542851, 6.223108400839916, 7.470700624647182, 4.107625934384117, 5.084002457363717, 8.44707714762678, 5.843406419681182, 2.4803317294181197, 3.077006271238986, 4.053382794218585, 6.819782942660781, 8.44707714762678, 1.9379003277627869, 2.2091160285904534, 3.077006271238986, 4.433084775377318, 5.843406419681182, 6.928269222991848, 7.416457484481647, 8.881022268951046, 2.914276850742386, 5.1924887376947835, 6.819782942660781, 8.555563427957846, 2.1006297482593865, 2.2091160285904534, 2.4803317294181197, 2.968519990907919, 4.053382794218585, 1.99214346792832, 2.1006297482593865, 2.2633591687559864, 2.4803317294181197, 7.090998643488448, 2.3718454490870533, 7.741916325474848, 7.796159465640381, 8.44707714762678, 2.15487288842492, 6.494324101667583, 2.588818009749186, 2.968519990907919, 5.2467318778603165, 6.819782942660781, 2.4803317294181197, 2.968519990907919, 4.161869074549651, 5.2467318778603165, 6.874026082826314, 1.99214346792832, 2.1006297482593865, 2.534574869583653, 6.440080961502049, 2.4260885892525863, 3.131249411404519, 4.378841635211784, 6.874026082826314, 2.1006297482593865, 2.968519990907919, 4.107625934384117, 5.355218158191383, 6.874026082826314, 8.60980656812338, 4.378841635211784, 4.595814195873917, 4.867029896701584, 2.3718454490870533, 2.968519990907919, 5.1924887376947835, 2.8600337105768525, 3.0227631310734524, 3.348221972066652, 4.107625934384117, 3.6194376728943185, 5.1382455975292505, 6.223108400839916, 6.7112966623297154, 7.145241783653981, 7.524943764812715, 7.579186904978248, 5.2467318778603165, 6.982512363157382, 8.664049708288914, 1.9379003277627869, 2.15487288842492, 2.805790570411319, 3.0227631310734524, 4.975516177032651, 6.114622120508849, 2.4260885892525863, 3.131249411404519, 4.324598495046251, 5.46370443852245, 7.199484923819515, 2.2633591687559864, 2.751547430245786, 6.874026082826314, 2.4803317294181197, 2.914276850742386, 3.9991396540530513, 5.355218158191383, 1.99214346792832, 2.1006297482593865, 2.2091160285904534, 4.487327915542851, 4.378841635211784, 7.633430045143781, 2.4803317294181197, 3.131249411404519, 4.216112214715185, 5.2467318778603165, 6.928269222991848, 8.501320287792314, 2.1006297482593865, 2.2633591687559864, 2.3718454490870533, 3.8364102335564514, 4.650057336039451, 4.812786756536051, 4.975516177032651, 5.1924887376947835, 2.4803317294181197, 5.843406419681182, 6.277351541005449, 6.7112966623297154, 5.951892700012249, 6.602810381998649, 3.1854925515700523, 4.324598495046251, 5.30097501802585, 6.819782942660781, 8.718292848454446, 4.541571055708385, 4.704300476204985, 2.4260885892525863, 2.914276850742386, 4.216112214715185, 2.1006297482593865, 3.5651945327287855, 3.890653373721985, 4.433084775377318, 4.595814195873917, 4.758543616370517, 3.8364102335564514, 6.223108400839916, 2.3718454490870533, 2.968519990907919, 4.161869074549651, 5.680676999184583, 6.874026082826314, 8.555563427957846, 2.0463866080938535, 2.3718454490870533, 3.5651945327287855, 2.534574869583653, 4.270355354880718, 2.0463866080938535, 2.4803317294181197, 2.914276850742386, 6.928269222991848, 2.15487288842492, 2.534574869583653, 2.6430611499147196, 5.734920139350116, 8.772535988619978, 3.077006271238986, 6.7655398024952484, 1.99214346792832, 2.15487288842492, 2.2633591687559864, 3.5651945327287855, 4.107625934384117, 2.1006297482593865, 2.588818009749186, 3.5651945327287855, 2.3718454490870533, 3.0227631310734524, 4.053382794218585, 2.15487288842492, 2.3718454490870533, 3.0227631310734524, 5.680676999184583, 2.0463866080938535, 2.6430611499147196, 3.131249411404519, 3.5651945327287855, 5.78916327951565, 7.307971204150581, 2.4260885892525863, 7.687673185309314, 8.881022268951046, 5.2467318778603165, 5.897649559846716, 2.534574869583653, 2.914276850742386, 4.107625934384117, 1.99214346792832, 3.131249411404519, 4.053382794218585, 6.819782942660781, 2.0463866080938535, 2.534574869583653, 3.131249411404519, 4.053382794218585, 6.548567241833116, 8.555563427957846, 2.0463866080938535, 2.15487288842492, 5.951892700012249, 1.99214346792832, 2.1006297482593865, 2.588818009749186, 2.697304290080253, 3.6194376728943185, 6.114622120508849, 2.968519990907919, 3.9991396540530513, 5.2467318778603165, 2.4803317294181197, 2.968519990907919, 5.2467318778603165, 6.819782942660781, 8.44707714762678, 2.15487288842492, 2.2633591687559864, 3.2397356917355857, 3.2939788319011187, 3.510951392563252, 3.6736808130598515, 7.470700624647182, 7.741916325474848, 7.741916325474848, 2.4260885892525863, 3.0227631310734524, 4.107625934384117, 8.664049708288914, 5.517947578687983, 3.4567082523977186, 3.9991396540530513, 6.928269222991848, 2.751547430245786, 2.751547430245786, 2.4803317294181197, 3.9991396540530513, 6.874026082826314, 2.534574869583653, 2.4260885892525863, 2.751547430245786, 2.1006297482593865, 2.4803317294181197, 3.077006271238986, 8.501320287792314, 2.15487288842492, 2.6430611499147196, 4.704300476204985, 7.307971204150581, 4.107625934384117, 5.2467318778603165, 8.555563427957846, 2.1006297482593865, 2.3718454490870533, 2.968519990907919, 6.7112966623297154, 2.588818009749186, 7.958888886136981, 2.4803317294181197, 3.0227631310734524, 6.819782942660781, 3.2939788319011187, 3.348221972066652, 3.0227631310734524, 7.036755503322915, 7.145241783653981, 2.4803317294181197, 2.914276850742386, 4.053382794218585, 5.2467318778603165, 6.7655398024952484, 1.99214346792832, 2.697304290080253, 2.3718454490870533, 5.2467318778603165, 2.15487288842492, 2.4803317294181197, 3.0227631310734524, 4.053382794218585, 6.6570535221641824, 2.15487288842492, 2.588818009749186, 3.1854925515700523, 4.324598495046251, 5.680676999184583, 7.199484923819515, 2.2091160285904534, 2.914276850742386, 3.510951392563252, 2.3718454490870533, 2.968519990907919, 5.355218158191383, 2.1006297482593865, 1.99214346792832, 2.588818009749186, 2.6430611499147196, 2.697304290080253, 2.8600337105768525, 3.077006271238986, 2.3718454490870533, 2.968519990907919, 4.161869074549651, 6.819782942660781, 2.1006297482593865, 2.3718454490870533, 2.588818009749186, 3.0227631310734524, 3.0227631310734524, 5.2467318778603165, 2.4803317294181197, 2.968519990907919, 6.006135840177783, 7.036755503322915]}, {\"line\": {\"width\": 3}, \"mode\": \"lines\", \"name\": \"label\", \"type\": \"scatter\", \"x\": [0, 1, 2, 3, 4, 5, 6, 7, 8, 9, 10, 11, 12, 13], \"y\": [0, 1, 2, 3, 4, 5, 6, 7, 8, 9, 10, 11, 12, 13]}],                        {\"legend\": {\"title\": {\"text\": \"tt\"}, \"tracegroupgap\": 0}, \"margin\": {\"t\": 60}, \"template\": {\"data\": {\"bar\": [{\"error_x\": {\"color\": \"#2a3f5f\"}, \"error_y\": {\"color\": \"#2a3f5f\"}, \"marker\": {\"line\": {\"color\": \"#E5ECF6\", \"width\": 0.5}}, \"type\": \"bar\"}], \"barpolar\": [{\"marker\": {\"line\": {\"color\": \"#E5ECF6\", \"width\": 0.5}}, \"type\": \"barpolar\"}], \"carpet\": [{\"aaxis\": {\"endlinecolor\": \"#2a3f5f\", \"gridcolor\": \"white\", \"linecolor\": \"white\", \"minorgridcolor\": \"white\", \"startlinecolor\": \"#2a3f5f\"}, \"baxis\": {\"endlinecolor\": \"#2a3f5f\", \"gridcolor\": \"white\", \"linecolor\": \"white\", \"minorgridcolor\": \"white\", \"startlinecolor\": \"#2a3f5f\"}, \"type\": \"carpet\"}], \"choropleth\": [{\"colorbar\": {\"outlinewidth\": 0, \"ticks\": \"\"}, \"type\": \"choropleth\"}], \"contour\": [{\"colorbar\": {\"outlinewidth\": 0, \"ticks\": \"\"}, \"colorscale\": [[0.0, \"#0d0887\"], [0.1111111111111111, \"#46039f\"], [0.2222222222222222, \"#7201a8\"], [0.3333333333333333, \"#9c179e\"], [0.4444444444444444, \"#bd3786\"], [0.5555555555555556, \"#d8576b\"], [0.6666666666666666, \"#ed7953\"], [0.7777777777777778, \"#fb9f3a\"], [0.8888888888888888, \"#fdca26\"], [1.0, \"#f0f921\"]], \"type\": \"contour\"}], \"contourcarpet\": [{\"colorbar\": {\"outlinewidth\": 0, \"ticks\": \"\"}, \"type\": \"contourcarpet\"}], \"heatmap\": [{\"colorbar\": {\"outlinewidth\": 0, \"ticks\": \"\"}, \"colorscale\": [[0.0, \"#0d0887\"], [0.1111111111111111, \"#46039f\"], [0.2222222222222222, \"#7201a8\"], [0.3333333333333333, \"#9c179e\"], [0.4444444444444444, \"#bd3786\"], [0.5555555555555556, \"#d8576b\"], [0.6666666666666666, \"#ed7953\"], [0.7777777777777778, \"#fb9f3a\"], [0.8888888888888888, \"#fdca26\"], [1.0, \"#f0f921\"]], \"type\": \"heatmap\"}], \"heatmapgl\": [{\"colorbar\": {\"outlinewidth\": 0, \"ticks\": \"\"}, \"colorscale\": [[0.0, \"#0d0887\"], [0.1111111111111111, \"#46039f\"], [0.2222222222222222, \"#7201a8\"], [0.3333333333333333, \"#9c179e\"], [0.4444444444444444, \"#bd3786\"], [0.5555555555555556, \"#d8576b\"], [0.6666666666666666, \"#ed7953\"], [0.7777777777777778, \"#fb9f3a\"], [0.8888888888888888, \"#fdca26\"], [1.0, \"#f0f921\"]], \"type\": \"heatmapgl\"}], \"histogram\": [{\"marker\": {\"colorbar\": {\"outlinewidth\": 0, \"ticks\": \"\"}}, \"type\": \"histogram\"}], \"histogram2d\": [{\"colorbar\": {\"outlinewidth\": 0, \"ticks\": \"\"}, \"colorscale\": [[0.0, \"#0d0887\"], [0.1111111111111111, \"#46039f\"], [0.2222222222222222, \"#7201a8\"], [0.3333333333333333, \"#9c179e\"], [0.4444444444444444, \"#bd3786\"], [0.5555555555555556, \"#d8576b\"], [0.6666666666666666, \"#ed7953\"], [0.7777777777777778, \"#fb9f3a\"], [0.8888888888888888, \"#fdca26\"], [1.0, \"#f0f921\"]], \"type\": \"histogram2d\"}], \"histogram2dcontour\": [{\"colorbar\": {\"outlinewidth\": 0, \"ticks\": \"\"}, \"colorscale\": [[0.0, \"#0d0887\"], [0.1111111111111111, \"#46039f\"], [0.2222222222222222, \"#7201a8\"], [0.3333333333333333, \"#9c179e\"], [0.4444444444444444, \"#bd3786\"], [0.5555555555555556, \"#d8576b\"], [0.6666666666666666, \"#ed7953\"], [0.7777777777777778, \"#fb9f3a\"], [0.8888888888888888, \"#fdca26\"], [1.0, \"#f0f921\"]], \"type\": \"histogram2dcontour\"}], \"mesh3d\": [{\"colorbar\": {\"outlinewidth\": 0, \"ticks\": \"\"}, \"type\": \"mesh3d\"}], \"parcoords\": [{\"line\": {\"colorbar\": {\"outlinewidth\": 0, \"ticks\": \"\"}}, \"type\": \"parcoords\"}], \"pie\": [{\"automargin\": true, \"type\": \"pie\"}], \"scatter\": [{\"marker\": {\"colorbar\": {\"outlinewidth\": 0, \"ticks\": \"\"}}, \"type\": \"scatter\"}], \"scatter3d\": [{\"line\": {\"colorbar\": {\"outlinewidth\": 0, \"ticks\": \"\"}}, \"marker\": {\"colorbar\": {\"outlinewidth\": 0, \"ticks\": \"\"}}, \"type\": \"scatter3d\"}], \"scattercarpet\": [{\"marker\": {\"colorbar\": {\"outlinewidth\": 0, \"ticks\": \"\"}}, \"type\": \"scattercarpet\"}], \"scattergeo\": [{\"marker\": {\"colorbar\": {\"outlinewidth\": 0, \"ticks\": \"\"}}, \"type\": \"scattergeo\"}], \"scattergl\": [{\"marker\": {\"colorbar\": {\"outlinewidth\": 0, \"ticks\": \"\"}}, \"type\": \"scattergl\"}], \"scattermapbox\": [{\"marker\": {\"colorbar\": {\"outlinewidth\": 0, \"ticks\": \"\"}}, \"type\": \"scattermapbox\"}], \"scatterpolar\": [{\"marker\": {\"colorbar\": {\"outlinewidth\": 0, \"ticks\": \"\"}}, \"type\": \"scatterpolar\"}], \"scatterpolargl\": [{\"marker\": {\"colorbar\": {\"outlinewidth\": 0, \"ticks\": \"\"}}, \"type\": \"scatterpolargl\"}], \"scatterternary\": [{\"marker\": {\"colorbar\": {\"outlinewidth\": 0, \"ticks\": \"\"}}, \"type\": \"scatterternary\"}], \"surface\": [{\"colorbar\": {\"outlinewidth\": 0, \"ticks\": \"\"}, \"colorscale\": [[0.0, \"#0d0887\"], [0.1111111111111111, \"#46039f\"], [0.2222222222222222, \"#7201a8\"], [0.3333333333333333, \"#9c179e\"], [0.4444444444444444, \"#bd3786\"], [0.5555555555555556, \"#d8576b\"], [0.6666666666666666, \"#ed7953\"], [0.7777777777777778, \"#fb9f3a\"], [0.8888888888888888, \"#fdca26\"], [1.0, \"#f0f921\"]], \"type\": \"surface\"}], \"table\": [{\"cells\": {\"fill\": {\"color\": \"#EBF0F8\"}, \"line\": {\"color\": \"white\"}}, \"header\": {\"fill\": {\"color\": \"#C8D4E3\"}, \"line\": {\"color\": \"white\"}}, \"type\": \"table\"}]}, \"layout\": {\"annotationdefaults\": {\"arrowcolor\": \"#2a3f5f\", \"arrowhead\": 0, \"arrowwidth\": 1}, \"coloraxis\": {\"colorbar\": {\"outlinewidth\": 0, \"ticks\": \"\"}}, \"colorscale\": {\"diverging\": [[0, \"#8e0152\"], [0.1, \"#c51b7d\"], [0.2, \"#de77ae\"], [0.3, \"#f1b6da\"], [0.4, \"#fde0ef\"], [0.5, \"#f7f7f7\"], [0.6, \"#e6f5d0\"], [0.7, \"#b8e186\"], [0.8, \"#7fbc41\"], [0.9, \"#4d9221\"], [1, \"#276419\"]], \"sequential\": [[0.0, \"#0d0887\"], [0.1111111111111111, \"#46039f\"], [0.2222222222222222, \"#7201a8\"], [0.3333333333333333, \"#9c179e\"], [0.4444444444444444, \"#bd3786\"], [0.5555555555555556, \"#d8576b\"], [0.6666666666666666, \"#ed7953\"], [0.7777777777777778, \"#fb9f3a\"], [0.8888888888888888, \"#fdca26\"], [1.0, \"#f0f921\"]], \"sequentialminus\": [[0.0, \"#0d0887\"], [0.1111111111111111, \"#46039f\"], [0.2222222222222222, \"#7201a8\"], [0.3333333333333333, \"#9c179e\"], [0.4444444444444444, \"#bd3786\"], [0.5555555555555556, \"#d8576b\"], [0.6666666666666666, \"#ed7953\"], [0.7777777777777778, \"#fb9f3a\"], [0.8888888888888888, \"#fdca26\"], [1.0, \"#f0f921\"]]}, \"colorway\": [\"#636efa\", \"#EF553B\", \"#00cc96\", \"#ab63fa\", \"#FFA15A\", \"#19d3f3\", \"#FF6692\", \"#B6E880\", \"#FF97FF\", \"#FECB52\"], \"font\": {\"color\": \"#2a3f5f\"}, \"geo\": {\"bgcolor\": \"white\", \"lakecolor\": \"white\", \"landcolor\": \"#E5ECF6\", \"showlakes\": true, \"showland\": true, \"subunitcolor\": \"white\"}, \"hoverlabel\": {\"align\": \"left\"}, \"hovermode\": \"closest\", \"mapbox\": {\"style\": \"light\"}, \"paper_bgcolor\": \"white\", \"plot_bgcolor\": \"#E5ECF6\", \"polar\": {\"angularaxis\": {\"gridcolor\": \"white\", \"linecolor\": \"white\", \"ticks\": \"\"}, \"bgcolor\": \"#E5ECF6\", \"radialaxis\": {\"gridcolor\": \"white\", \"linecolor\": \"white\", \"ticks\": \"\"}}, \"scene\": {\"xaxis\": {\"backgroundcolor\": \"#E5ECF6\", \"gridcolor\": \"white\", \"gridwidth\": 2, \"linecolor\": \"white\", \"showbackground\": true, \"ticks\": \"\", \"zerolinecolor\": \"white\"}, \"yaxis\": {\"backgroundcolor\": \"#E5ECF6\", \"gridcolor\": \"white\", \"gridwidth\": 2, \"linecolor\": \"white\", \"showbackground\": true, \"ticks\": \"\", \"zerolinecolor\": \"white\"}, \"zaxis\": {\"backgroundcolor\": \"#E5ECF6\", \"gridcolor\": \"white\", \"gridwidth\": 2, \"linecolor\": \"white\", \"showbackground\": true, \"ticks\": \"\", \"zerolinecolor\": \"white\"}}, \"shapedefaults\": {\"line\": {\"color\": \"#2a3f5f\"}}, \"ternary\": {\"aaxis\": {\"gridcolor\": \"white\", \"linecolor\": \"white\", \"ticks\": \"\"}, \"baxis\": {\"gridcolor\": \"white\", \"linecolor\": \"white\", \"ticks\": \"\"}, \"bgcolor\": \"#E5ECF6\", \"caxis\": {\"gridcolor\": \"white\", \"linecolor\": \"white\", \"ticks\": \"\"}}, \"title\": {\"x\": 0.05}, \"xaxis\": {\"automargin\": true, \"gridcolor\": \"white\", \"linecolor\": \"white\", \"ticks\": \"\", \"title\": {\"standoff\": 15}, \"zerolinecolor\": \"white\", \"zerolinewidth\": 2}, \"yaxis\": {\"automargin\": true, \"gridcolor\": \"white\", \"linecolor\": \"white\", \"ticks\": \"\", \"title\": {\"standoff\": 15}, \"zerolinecolor\": \"white\", \"zerolinewidth\": 2}}}, \"xaxis\": {\"anchor\": \"y\", \"domain\": [0.0, 1.0], \"title\": {\"text\": \"visit_age_mo\"}}, \"yaxis\": {\"anchor\": \"x\", \"domain\": [0.0, 1.0], \"title\": {\"text\": \"predict\"}}},                        {\"responsive\": true}                    ).then(function(){\n",
       "                            \n",
       "var gd = document.getElementById('780aca93-00ea-433d-8f16-72888acc1d62');\n",
       "var x = new MutationObserver(function (mutations, observer) {{\n",
       "        var display = window.getComputedStyle(gd).display;\n",
       "        if (!display || display === 'none') {{\n",
       "            console.log([gd, 'removed!']);\n",
       "            Plotly.purge(gd);\n",
       "            observer.disconnect();\n",
       "        }}\n",
       "}});\n",
       "\n",
       "// Listen for the removal of the full notebook cells\n",
       "var notebookContainer = gd.closest('#notebook-container');\n",
       "if (notebookContainer) {{\n",
       "    x.observe(notebookContainer, {childList: true});\n",
       "}}\n",
       "\n",
       "// Listen for the clearing of the current output cell\n",
       "var outputEl = gd.closest('.output');\n",
       "if (outputEl) {{\n",
       "    x.observe(outputEl, {childList: true});\n",
       "}}\n",
       "\n",
       "                        })                };                });            </script>        </div>"
      ]
     },
     "metadata": {},
     "output_type": "display_data"
    }
   ],
   "source": [
    "\n",
    "\n",
    "regression_model=  RandomForestRegressor(**best_regress_params)\n",
    "\n",
    "data = get_tt_data(merge_df,train_ratio=0.85)\n",
    "X = data[0].iloc[:,:meta_idx].values\n",
    "y = data[0].visit_age_mo\n",
    "regression_model.fit(X,y)\n",
    "\n",
    "merged_training_df = pd.concat(data)\n",
    "predict = regression_model.predict(merged_training_df.iloc[:,:meta_idx].values)\n",
    "label = merged_training_df.visit_age_mo\n",
    "loss = abs(predict-label)\n",
    "loss_arr = abs(predict-label)\n",
    "# succ = np.count_nonzero(loss_arr < err_margin) / len(loss)\n",
    "merged_training_df = merged_training_df.assign(predict=predict, label=label, loss=loss_arr)\n",
    "\n",
    "merged_training_df.loc[pd.isna(merged_training_df.symptoms),'symptoms']='unknown'\n",
    "fig = px.scatter(merged_training_df,x='visit_age_mo',y='predict',color='tt',custom_data=['symptoms','sampleID'])\n",
    "fig.update_traces(\n",
    "    hovertemplate=\"<br>\".join([\n",
    "        \"predict %{y}, label: %{x}\",\n",
    "        \"sampleID: %{customdata[1]}\",\n",
    "        \"symptom: %{customdata[0]}\"\n",
    "    ])\n",
    ")\n",
    "draw_regresssion(merged_training_df,merged_training_df.tt == 'control_train',fig,'control_train regression')\n",
    "draw_regresssion(merged_training_df,merged_training_df.tt == 'control_test',fig,'control_test regression')\n",
    "draw_regresssion(merged_training_df,merged_training_df.tt == 'test',fig,'test regression')\n",
    "draw_xy_line(fig)"
   ]
  },
  {
   "cell_type": "markdown",
   "metadata": {
    "hidden": true
   },
   "source": [
    "**Conclusion:**\n",
    "\n",
    "Regression task is quite hard, accuracy for test was not higher than 40% with `margin=1.0`"
   ]
  },
  {
   "cell_type": "markdown",
   "metadata": {},
   "source": [
    "## Classification"
   ]
  },
  {
   "cell_type": "code",
   "execution_count": 409,
   "metadata": {
    "ExecuteTime": {
     "end_time": "2021-01-27T06:58:27.274187Z",
     "start_time": "2021-01-27T06:58:27.266810Z"
    },
    "code_folding": []
   },
   "outputs": [],
   "source": [
    "def get_avg_accuracy(clf, merge_df, meta_idx, num_runs,y = None, train_ratio=0.8):\n",
    "    train_acc_arr = list()\n",
    "    test_acc_arr = list()\n",
    "    y = 'sample_time' if y is None else y\n",
    "    \n",
    "    for i in tqdm(range(num_runs)):\n",
    "        train_acc, test_acc = get_classifier_accuracy(clf, merge_df,meta_idx,y=y,train_ratio=train_ratio)\n",
    "        \n",
    "        train_acc_arr.append(train_acc)\n",
    "        test_acc_arr.append(test_acc)\n",
    "    \n",
    "    avg_train_acc = np.average(train_acc_arr)\n",
    "    avg_test_acc = np.average(test_acc_arr)\n",
    "    print(f\"Train AVG accuracy {avg_train_acc}\")\n",
    "    print(f\"Test AVG accuracy {avg_test_acc}\")\n",
    "    return avg_train_acc,avg_test_acc\n",
    "\n",
    "def get_classifier_accuracy(clf,merge_df_tt,meta_idx,y=None,train_ratio=0.8,split_tt=True):\n",
    "    \"\"\"get Classification classifier accuracy by training on the given dataframe. \n",
    "    Args:\n",
    "        split_tt: If True, will give the merge_df_tt a new tt assignment. Otherwise, assume that the DataFrame already\n",
    "        has tt and uses it.\n",
    "    Returns:\n",
    "        train_acc,test_acc\n",
    "    \"\"\"\n",
    "    y = 'sample_time' if y is None else y\n",
    "    if split_tt:\n",
    "        merge_df_tt = get_merged_tt_df(merge_df_tt,split_control=False, train_ratio=train_ratio)\n",
    "    else:\n",
    "        assert 'tt' in merge_df_tt, \"Must pass a df with 'tt' division if split_tt is False \"\n",
    "    \n",
    "    train_df = merge_df_tt[merge_df_tt.tt == 'train']\n",
    "    test_df  = merge_df_tt[merge_df_tt.tt == 'test']\n",
    "\n",
    "    X_train = train_df.iloc[:,:meta_idx].values\n",
    "    y_train = train_df[y].values\n",
    "\n",
    "    X_test = test_df.iloc[:,:meta_idx].values\n",
    "    y_test = test_df[y].values\n",
    "\n",
    "\n",
    "#     clf = RandomForestClassifier(**best_params)\n",
    "    clf.fit(X_train,y_train)\n",
    "    pred = clf.predict(X_test)\n",
    "    train_pred = clf.predict(X_train)\n",
    "    train_acc = accuracy_score(y_train,train_pred)\n",
    "    test_acc = accuracy_score(y_test,pred)\n",
    "    return train_acc, test_acc\n",
    "\n",
    "def parameter_search_classifier(X_train,y_train):\n",
    "    random_grid = get_random_search_parameters()\n",
    "    # Use the random grid to search for best hyperparameters\n",
    "    # First create the base model to tune\n",
    "    rf = RandomForestClassifier()\n",
    "    rf_random = RandomizedSearchCV(estimator = rf, param_distributions = random_grid, n_iter = 100, cv = 3, verbose=3, random_state=666, n_jobs = -1)\n",
    "    # Fit the random search model\n",
    "    rf_random.fit(X_train, y_train)\n",
    "    \n",
    "    best_params = rf_random.best_params_\n",
    "    return best_params"
   ]
  },
  {
   "cell_type": "markdown",
   "metadata": {},
   "source": [
    "Another try was to train a classification model. The data is categorized with the column `sample_time` which divides the samples to \"periods\" of when the sample was taken (initial, onemonth ... ) \n",
    "<br></br>\n",
    "\n",
    "**The issue**:\n",
    "There is a category of `sick`. Subjects that came for the test because they were sick and not according to the timeline. To avoid the issues that can be caused, we will start without those examples"
   ]
  },
  {
   "cell_type": "code",
   "execution_count": 62,
   "metadata": {
    "ExecuteTime": {
     "end_time": "2021-01-25T13:55:48.044855Z",
     "start_time": "2021-01-25T13:55:47.929166Z"
    }
   },
   "outputs": [
    {
     "data": {
      "application/vnd.plotly.v1+json": {
       "config": {
        "plotlyServerURL": "https://plot.ly"
       },
       "data": [
        {
         "alignmentgroup": "True",
         "boxpoints": "all",
         "hovertemplate": "sample_time=%{x}<br>visit_age_mo=%{y}<extra></extra>",
         "legendgroup": "",
         "marker": {
          "color": "#636efa"
         },
         "name": "",
         "notched": false,
         "offsetgroup": "",
         "orientation": "v",
         "showlegend": false,
         "type": "box",
         "x": [
          "initial",
          "twoweek",
          "onemonth",
          "twomonth",
          "fourmonth",
          "sixmonth",
          "ninemonth",
          "initial",
          "twoweek",
          "onemonth",
          "twomonth",
          "fourmonth",
          "ninemonth",
          "oneyear",
          "initial",
          "onemonth",
          "twomonth",
          "fourmonth",
          "sixmonth",
          "oneyear",
          "twoweek",
          "onemonth",
          "twomonth",
          "fourmonth",
          "initial",
          "twoweek",
          "onemonth",
          "twomonth",
          "fourmonth",
          "ninemonth",
          "initial",
          "twomonth",
          "fourmonth",
          "sixmonth",
          "ninemonth",
          "oneyear",
          "initial",
          "twoweek",
          "twomonth",
          "sixmonth",
          "ninemonth",
          "oneyear",
          "onemonth",
          "twomonth",
          "sixmonth",
          "oneyear",
          "twoweek",
          "fourmonth",
          "ninemonth",
          "oneyear",
          "onemonth",
          "sixmonth",
          "ninemonth",
          "oneyear",
          "initial",
          "twoweek",
          "twomonth",
          "fourmonth",
          "sixmonth",
          "ninemonth",
          "initial",
          "onemonth",
          "twomonth",
          "fourmonth",
          "ninemonth",
          "oneyear",
          "initial",
          "twoweek",
          "twomonth",
          "fourmonth",
          "sixmonth",
          "twoweek",
          "onemonth",
          "twomonth",
          "fourmonth",
          "sixmonth",
          "ninemonth",
          "oneyear",
          "twoweek",
          "onemonth",
          "fourmonth",
          "ninemonth",
          "twoweek",
          "onemonth",
          "twomonth",
          "fourmonth",
          "sixmonth",
          "ninemonth",
          "oneyear",
          "initial",
          "twoweek",
          "fourmonth",
          "sixmonth",
          "oneyear",
          "initial",
          "twoweek",
          "onemonth",
          "twomonth",
          "oneyear",
          "initial",
          "twoweek",
          "onemonth",
          "twomonth",
          "fourmonth",
          "ninemonth",
          "twoweek",
          "onemonth",
          "fourmonth",
          "sixmonth",
          "ninemonth",
          "initial",
          "twoweek",
          "twomonth",
          "fourmonth",
          "sixmonth",
          "ninemonth",
          "initial",
          "twoweek",
          "onemonth",
          "twomonth",
          "fourmonth",
          "twoweek",
          "onemonth",
          "twomonth",
          "fourmonth",
          "initial",
          "twoweek",
          "onemonth",
          "twomonth",
          "fourmonth",
          "sixmonth",
          "oneyear",
          "initial",
          "onemonth",
          "ninemonth",
          "initial",
          "onemonth",
          "twomonth",
          "fourmonth",
          "sixmonth",
          "oneyear",
          "twomonth",
          "oneyear",
          "initial",
          "onemonth",
          "twomonth",
          "fourmonth",
          "sixmonth",
          "oneyear",
          "twoweek",
          "twomonth",
          "fourmonth",
          "onemonth",
          "twomonth",
          "sixmonth",
          "ninemonth",
          "twoweek",
          "onemonth",
          "twomonth",
          "fourmonth",
          "initial",
          "onemonth",
          "twomonth",
          "fourmonth",
          "sixmonth",
          "oneyear",
          "initial",
          "twoweek",
          "onemonth",
          "twomonth",
          "fourmonth",
          "sixmonth",
          "ninemonth",
          "initial",
          "fourmonth",
          "ninemonth",
          "oneyear",
          "initial",
          "twomonth",
          "sixmonth",
          "ninemonth",
          "oneyear",
          "initial",
          "onemonth",
          "fourmonth",
          "sixmonth",
          "ninemonth",
          "oneyear",
          "twoweek",
          "onemonth",
          "fourmonth",
          "sixmonth",
          "ninemonth",
          "oneyear",
          "onemonth",
          "twomonth",
          "fourmonth",
          "sixmonth",
          "ninemonth",
          "oneyear",
          "initial",
          "twoweek",
          "onemonth",
          "twomonth",
          "initial",
          "twoweek",
          "twomonth",
          "fourmonth",
          "sixmonth",
          "twoweek",
          "onemonth",
          "twomonth",
          "initial",
          "twomonth",
          "sixmonth",
          "ninemonth",
          "initial",
          "onemonth",
          "twomonth",
          "ninemonth",
          "oneyear",
          "onemonth",
          "twomonth",
          "fourmonth",
          "sixmonth",
          "ninemonth",
          "oneyear",
          "onemonth",
          "twomonth",
          "fourmonth",
          "sixmonth",
          "ninemonth",
          "initial",
          "twoweek",
          "twomonth",
          "sixmonth",
          "ninemonth",
          "onemonth",
          "twomonth",
          "initial",
          "twoweek",
          "ninemonth",
          "oneyear",
          "twoweek",
          "onemonth",
          "twomonth",
          "sixmonth",
          "ninemonth",
          "oneyear",
          "initial",
          "twoweek",
          "onemonth",
          "twomonth",
          "fourmonth",
          "sixmonth",
          "ninemonth",
          "twoweek",
          "onemonth",
          "twomonth",
          "sixmonth",
          "ninemonth",
          "oneyear",
          "initial",
          "onemonth",
          "fourmonth",
          "ninemonth",
          "sixmonth",
          "ninemonth",
          "oneyear",
          "initial",
          "onemonth",
          "twomonth",
          "fourmonth",
          "sixmonth",
          "ninemonth",
          "oneyear",
          "twoweek",
          "onemonth",
          "sixmonth",
          "ninemonth",
          "oneyear",
          "twomonth",
          "fourmonth",
          "sixmonth",
          "oneyear",
          "twoweek",
          "twomonth",
          "fourmonth",
          "ninemonth",
          "initial",
          "onemonth",
          "twomonth",
          "ninemonth",
          "oneyear",
          "initial",
          "onemonth",
          "twomonth",
          "sixmonth",
          "ninemonth",
          "oneyear",
          "onemonth",
          "twomonth",
          "fourmonth",
          "sixmonth",
          "ninemonth",
          "twomonth",
          "sixmonth",
          "ninemonth",
          "oneyear",
          "twoweek",
          "sixmonth",
          "initial",
          "twoweek",
          "onemonth",
          "ninemonth",
          "initial",
          "onemonth",
          "twomonth",
          "initial",
          "twoweek",
          "onemonth",
          "twomonth",
          "sixmonth",
          "ninemonth",
          "oneyear",
          "onemonth",
          "twomonth",
          "sixmonth",
          "ninemonth",
          "oneyear",
          "initial",
          "fourmonth",
          "sixmonth",
          "oneyear",
          "onemonth",
          "twomonth",
          "fourmonth",
          "ninemonth",
          "oneyear",
          "twoweek",
          "onemonth",
          "fourmonth",
          "ninemonth",
          "oneyear",
          "initial",
          "fourmonth",
          "sixmonth",
          "ninemonth",
          "initial",
          "twomonth",
          "fourmonth",
          "sixmonth",
          "ninemonth",
          "oneyear",
          "initial",
          "fourmonth",
          "sixmonth",
          "initial",
          "onemonth",
          "twomonth",
          "fourmonth",
          "sixmonth",
          "ninemonth",
          "twoweek",
          "fourmonth",
          "ninemonth",
          "initial",
          "twoweek",
          "twomonth",
          "sixmonth",
          "ninemonth",
          "oneyear",
          "initial",
          "twoweek",
          "onemonth",
          "twomonth",
          "fourmonth",
          "initial",
          "twoweek",
          "onemonth",
          "fourmonth",
          "sixmonth",
          "ninemonth",
          "oneyear",
          "initial",
          "twoweek",
          "oneyear",
          "initial",
          "twoweek",
          "onemonth",
          "oneyear",
          "twoweek",
          "onemonth",
          "twomonth",
          "sixmonth",
          "ninemonth",
          "onemonth",
          "twomonth",
          "fourmonth",
          "sixmonth",
          "ninemonth",
          "twomonth",
          "fourmonth",
          "sixmonth",
          "ninemonth",
          "oneyear",
          "initial",
          "twoweek",
          "onemonth",
          "twomonth",
          "fourmonth",
          "ninemonth",
          "onemonth",
          "twomonth",
          "fourmonth",
          "sixmonth",
          "oneyear",
          "twoweek",
          "twomonth",
          "fourmonth",
          "sixmonth",
          "ninemonth",
          "oneyear",
          "twoweek",
          "onemonth",
          "twomonth",
          "sixmonth",
          "ninemonth",
          "oneyear",
          "initial",
          "twoweek",
          "fourmonth",
          "sixmonth",
          "ninemonth",
          "onemonth",
          "twomonth",
          "fourmonth",
          "sixmonth",
          "onemonth",
          "twomonth",
          "ninemonth",
          "onemonth",
          "twomonth",
          "fourmonth",
          "oneyear",
          "initial",
          "onemonth",
          "twomonth",
          "fourmonth",
          "onemonth",
          "twomonth",
          "sixmonth",
          "twoweek",
          "onemonth",
          "twomonth",
          "fourmonth",
          "sixmonth",
          "sixmonth",
          "ninemonth",
          "oneyear",
          "initial",
          "twoweek",
          "onemonth",
          "twomonth",
          "fourmonth",
          "sixmonth",
          "ninemonth",
          "twomonth",
          "fourmonth",
          "ninemonth",
          "oneyear",
          "initial",
          "onemonth",
          "twomonth",
          "fourmonth",
          "sixmonth",
          "initial",
          "twoweek",
          "onemonth",
          "twomonth",
          "fourmonth",
          "sixmonth",
          "ninemonth",
          "oneyear",
          "onemonth",
          "twomonth",
          "fourmonth",
          "ninemonth",
          "onemonth",
          "twomonth",
          "sixmonth",
          "ninemonth",
          "twoweek",
          "onemonth",
          "twomonth",
          "fourmonth",
          "sixmonth",
          "ninemonth",
          "oneyear",
          "initial",
          "onemonth",
          "twomonth",
          "fourmonth",
          "onemonth",
          "twomonth",
          "fourmonth",
          "twoweek",
          "onemonth",
          "fourmonth",
          "sixmonth",
          "ninemonth",
          "twoweek",
          "onemonth",
          "twomonth",
          "fourmonth",
          "sixmonth",
          "ninemonth",
          "oneyear",
          "onemonth",
          "fourmonth",
          "twoweek",
          "onemonth",
          "twomonth",
          "ninemonth",
          "initial",
          "twoweek",
          "onemonth",
          "twomonth",
          "initial",
          "twomonth",
          "ninemonth",
          "initial",
          "twoweek",
          "fourmonth",
          "initial",
          "twoweek",
          "onemonth",
          "twomonth",
          "fourmonth",
          "sixmonth",
          "ninemonth",
          "twoweek",
          "onemonth",
          "twomonth",
          "fourmonth",
          "twoweek",
          "onemonth",
          "twomonth",
          "sixmonth",
          "initial",
          "onemonth",
          "sixmonth",
          "onemonth",
          "twomonth",
          "fourmonth",
          "initial",
          "twomonth",
          "fourmonth",
          "sixmonth",
          "ninemonth",
          "initial",
          "twomonth",
          "fourmonth",
          "ninemonth",
          "initial",
          "onemonth",
          "twomonth",
          "fourmonth",
          "ninemonth",
          "oneyear",
          "initial",
          "twoweek",
          "initial",
          "onemonth",
          "fourmonth",
          "sixmonth",
          "oneyear",
          "initial",
          "twoweek",
          "twomonth",
          "fourmonth",
          "sixmonth",
          "twoweek",
          "twomonth",
          "sixmonth",
          "ninemonth",
          "twomonth",
          "fourmonth",
          "sixmonth",
          "ninemonth",
          "onemonth",
          "twomonth",
          "sixmonth",
          "ninemonth",
          "oneyear",
          "initial",
          "onemonth",
          "twomonth",
          "fourmonth",
          "oneyear",
          "initial",
          "twoweek",
          "onemonth",
          "twomonth",
          "fourmonth",
          "sixmonth",
          "ninemonth",
          "oneyear",
          "twomonth",
          "fourmonth",
          "ninemonth",
          "onemonth",
          "fourmonth",
          "ninemonth",
          "initial",
          "twoweek",
          "onemonth",
          "twomonth",
          "fourmonth",
          "sixmonth",
          "oneyear",
          "initial",
          "fourmonth",
          "ninemonth",
          "onemonth",
          "twomonth",
          "fourmonth",
          "sixmonth",
          "ninemonth",
          "oneyear",
          "onemonth",
          "twomonth",
          "onemonth",
          "twomonth",
          "fourmonth",
          "sixmonth",
          "ninemonth",
          "oneyear",
          "initial",
          "onemonth",
          "twomonth",
          "oneyear",
          "initial",
          "fourmonth",
          "sixmonth",
          "oneyear",
          "initial",
          "onemonth",
          "twomonth",
          "ninemonth",
          "initial",
          "twoweek",
          "twomonth",
          "fourmonth",
          "sixmonth",
          "oneyear",
          "initial",
          "twomonth",
          "fourmonth",
          "sixmonth",
          "initial",
          "twoweek",
          "onemonth",
          "twomonth",
          "fourmonth",
          "onemonth",
          "twomonth",
          "ninemonth",
          "onemonth",
          "twomonth",
          "fourmonth",
          "sixmonth",
          "ninemonth",
          "initial",
          "onemonth",
          "sixmonth",
          "initial",
          "onemonth",
          "twomonth",
          "twoweek",
          "onemonth",
          "twomonth",
          "fourmonth",
          "ninemonth",
          "twoweek",
          "onemonth",
          "fourmonth",
          "ninemonth",
          "initial",
          "twoweek",
          "onemonth",
          "twomonth",
          "onemonth",
          "twomonth",
          "fourmonth",
          "sixmonth",
          "initial",
          "onemonth",
          "twomonth",
          "fourmonth",
          "sixmonth",
          "ninemonth",
          "initial",
          "onemonth",
          "twomonth",
          "fourmonth",
          "sixmonth",
          "initial",
          "twoweek",
          "onemonth",
          "ninemonth",
          "initial",
          "twoweek",
          "onemonth",
          "twomonth",
          "fourmonth",
          "sixmonth",
          "ninemonth",
          "oneyear",
          "onemonth",
          "twomonth",
          "sixmonth",
          "twoweek",
          "onemonth",
          "twomonth",
          "fourmonth",
          "ninemonth",
          "initial",
          "onemonth",
          "twomonth",
          "twomonth",
          "sixmonth",
          "onemonth",
          "twomonth",
          "sixmonth",
          "ninemonth",
          "initial",
          "twoweek",
          "onemonth",
          "sixmonth",
          "ninemonth",
          "oneyear",
          "initial",
          "twoweek",
          "onemonth",
          "twomonth",
          "fourmonth",
          "oneyear",
          "initial",
          "twoweek",
          "onemonth",
          "twomonth",
          "initial",
          "fourmonth",
          "sixmonth",
          "ninemonth",
          "oneyear",
          "twoweek",
          "twomonth",
          "sixmonth",
          "oneyear",
          "twoweek",
          "onemonth",
          "twomonth",
          "ninemonth",
          "onemonth",
          "twomonth",
          "fourmonth",
          "sixmonth",
          "oneyear",
          "initial",
          "twoweek",
          "onemonth",
          "twomonth",
          "fourmonth",
          "sixmonth",
          "oneyear",
          "initial",
          "twoweek",
          "onemonth",
          "twomonth",
          "fourmonth",
          "sixmonth"
         ],
         "x0": " ",
         "xaxis": "x",
         "y": [
          0.2,
          0.5,
          1,
          2.1,
          4.2,
          6.5,
          9.2,
          0.2,
          0.4,
          1.1,
          2.2,
          4,
          9.3,
          12.1,
          0.7,
          1.3,
          1.8,
          4.1,
          6.6,
          12.4,
          0.7,
          1.4,
          2.1,
          4.1,
          0.1,
          0.4,
          1.1,
          2.6,
          4.3,
          9.2,
          0.1,
          2,
          4.1,
          6.1,
          9.4,
          12.1,
          0.3,
          0.4,
          1.9,
          6.1,
          9.1,
          12.3,
          1,
          2,
          6.3,
          12.4,
          0.4,
          4.2,
          9,
          12.1,
          1.1,
          6.2,
          9.7,
          12.2,
          0.1,
          0.5,
          2,
          4.1,
          7,
          9.3,
          0.2,
          1.1,
          1.9,
          4.1,
          9.1,
          12.6,
          0.3,
          0.5,
          1.9,
          4.4,
          6.1,
          0.5,
          1.1,
          2,
          4.1,
          6.2,
          8.9,
          11.8,
          0.6,
          1,
          4.2,
          9.2,
          0.4,
          1.3,
          2,
          4,
          6,
          8.4,
          12.1,
          0.1,
          0.5,
          4,
          6.1,
          12.7,
          0.2,
          0.4,
          0.9,
          2,
          12.8,
          0.3,
          0.5,
          1.1,
          2,
          4.1,
          9.1,
          0.4,
          1.1,
          4.1,
          6.1,
          9.5,
          0.2,
          0.7,
          1.8,
          3.9,
          6.5,
          9.2,
          0.1,
          0.5,
          1.1,
          2.1,
          3.7,
          0.5,
          1,
          2.1,
          3.9,
          0.2,
          0.4,
          1.1,
          2.2,
          4.1,
          6.1,
          12.1,
          0.1,
          1,
          9.3,
          0.2,
          1.4,
          2.2,
          4.1,
          6.7,
          12.9,
          1.9,
          12.2,
          0.5,
          1,
          2.2,
          3.9,
          6,
          12.4,
          0.5,
          2.1,
          4.8,
          1,
          2.1,
          6.7,
          9,
          0.6,
          1,
          2,
          4,
          0.2,
          0.9,
          2,
          5,
          7.1,
          13.1,
          0.1,
          0.3,
          0.9,
          2.3,
          4.2,
          6.2,
          9.6,
          0.4,
          4.1,
          9.6,
          12.6,
          0.1,
          2,
          6.2,
          9.1,
          12.6,
          0.6,
          1.1,
          4.3,
          6.2,
          9.2,
          12,
          0.5,
          1.1,
          4.1,
          6.6,
          9.4,
          12.3,
          1,
          2.3,
          4,
          6.2,
          9.1,
          12.6,
          0.2,
          0.5,
          1.1,
          2,
          0.1,
          0.6,
          2.2,
          4.1,
          6.4,
          0.4,
          0.8,
          2.1,
          0.4,
          2.2,
          6.4,
          9,
          0.4,
          1,
          2.1,
          9.2,
          12.2,
          0.9,
          2.1,
          4,
          6.7,
          9.1,
          12.3,
          0.9,
          1.9,
          4,
          6.3,
          9.7,
          0.2,
          0.7,
          1.9,
          6,
          9.2,
          1.1,
          1.8,
          0.2,
          0.4,
          9.5,
          12.1,
          0.5,
          0.9,
          2,
          6,
          9,
          12.2,
          0.1,
          0.5,
          1.2,
          2.3,
          4.1,
          6.1,
          9.2,
          0.5,
          1,
          2,
          6.7,
          9,
          12.5,
          0.5,
          1.1,
          4.1,
          9.1,
          6.6,
          9.1,
          13,
          0.3,
          1,
          1.9,
          3.9,
          6.3,
          9.2,
          12.1,
          0.4,
          0.9,
          6.4,
          9.3,
          12.1,
          1.7,
          4.1,
          6.4,
          12.2,
          0.5,
          1.9,
          3.9,
          9.2,
          0.2,
          0.9,
          2,
          8.5,
          12.4,
          0.4,
          0.9,
          2,
          6.1,
          11,
          12.1,
          1,
          2.2,
          4.2,
          6.3,
          9.2,
          1.9,
          6.3,
          9.3,
          12.1,
          0.4,
          6.2,
          0.2,
          0.5,
          1.1,
          9.2,
          0.1,
          1.1,
          1.9,
          0.2,
          0.4,
          1.1,
          2.1,
          6.2,
          9.4,
          13.3,
          0.8,
          1.9,
          6.5,
          9.3,
          12.5,
          3.2,
          4.1,
          5.9,
          12.1,
          1.1,
          2.2,
          4,
          9.1,
          12.1,
          0.3,
          1,
          4.2,
          9.5,
          12.7,
          0.9,
          4.1,
          6.3,
          9.4,
          0.8,
          2,
          4.2,
          6.2,
          9.4,
          12.3,
          0.5,
          4,
          6.6,
          0.6,
          1,
          2.1,
          4.1,
          6.3,
          9,
          0.5,
          4.1,
          9.2,
          0.1,
          0.6,
          1.9,
          6.1,
          9.1,
          12.3,
          0.4,
          0.6,
          1.1,
          2,
          4,
          0.2,
          0.4,
          1.1,
          4.3,
          6.1,
          9.3,
          12.2,
          0.2,
          0.4,
          12.3,
          0.2,
          0.4,
          0.9,
          12.1,
          0.5,
          1.3,
          2,
          6.2,
          9.1,
          1.1,
          2,
          4.2,
          6.2,
          9.2,
          2.1,
          4.1,
          6.2,
          9.2,
          12.6,
          0.2,
          0.4,
          1,
          2.3,
          4.6,
          9.2,
          1.1,
          1.8,
          4.1,
          6.3,
          12.2,
          0.4,
          2,
          4.1,
          6.4,
          9.2,
          12.4,
          0.4,
          1.1,
          1.8,
          7.3,
          9.2,
          12.5,
          0.2,
          0.5,
          4.2,
          7.6,
          9.7,
          1.1,
          2,
          4.1,
          6.1,
          1,
          2.2,
          9.5,
          1.4,
          2.4,
          4,
          12.6,
          0.2,
          0.9,
          1.8,
          4.1,
          0.9,
          2,
          6.1,
          0.4,
          1,
          2,
          4.1,
          6.2,
          6.2,
          9.4,
          12.5,
          0.1,
          0.5,
          1,
          2.3,
          4.5,
          6.6,
          9.8,
          2,
          4.3,
          9.9,
          12.2,
          0.7,
          1.1,
          1.9,
          3.9,
          6.4,
          0.2,
          0.4,
          1.1,
          2.3,
          4.3,
          6.2,
          9.3,
          12.2,
          1.1,
          2.2,
          4.3,
          11.7,
          1,
          2.1,
          6.5,
          9,
          0.4,
          1.1,
          2.4,
          4.5,
          6.3,
          9.1,
          12.6,
          0.1,
          1.2,
          2.1,
          4.1,
          1,
          1.9,
          4.3,
          0.5,
          1,
          4.2,
          6.1,
          9.1,
          0.4,
          0.9,
          2,
          4.2,
          7,
          9.2,
          12.3,
          1.2,
          4.4,
          0.3,
          1.1,
          1.9,
          9.3,
          0.2,
          0.4,
          1.1,
          2.1,
          0.5,
          2.2,
          9,
          0.2,
          0.5,
          4.1,
          0.2,
          0.4,
          0.9,
          2,
          4.1,
          6.3,
          9.1,
          0.4,
          0.9,
          2.1,
          4,
          0.5,
          0.9,
          2.1,
          7,
          0.3,
          1,
          6.2,
          1.2,
          1.9,
          4.1,
          0.2,
          2.3,
          4.1,
          6.2,
          9.1,
          0.2,
          2.3,
          4,
          9.1,
          0.3,
          1.2,
          2.3,
          4,
          8.6,
          12.3,
          0.3,
          0.5,
          0.3,
          1.1,
          4.1,
          6.2,
          12.3,
          0.2,
          0.4,
          2,
          3.9,
          6.2,
          0.6,
          2.1,
          6.4,
          9,
          2.1,
          3.9,
          6.5,
          9.2,
          1.1,
          2,
          6.2,
          9.1,
          12.1,
          0.5,
          1,
          2.1,
          4.1,
          12.5,
          0.2,
          0.6,
          0.9,
          1.9,
          4,
          6.3,
          9.3,
          12.3,
          2.9,
          3.9,
          9.3,
          1.1,
          3.9,
          9.2,
          0.1,
          0.5,
          1,
          2,
          4.2,
          6.2,
          12,
          2.5,
          4.2,
          9.7,
          0.9,
          1.9,
          4,
          6,
          8.5,
          12.2,
          1,
          1.6,
          0.9,
          2,
          4.2,
          6.2,
          9.2,
          12.2,
          0.4,
          1.1,
          2.2,
          12.2,
          0.5,
          4.1,
          6.2,
          12.3,
          0.4,
          0.9,
          2,
          8.9,
          0.1,
          0.7,
          1.6,
          4.1,
          6.4,
          12.2,
          0.5,
          2,
          4,
          6.2,
          0.3,
          0.5,
          1.1,
          2.1,
          5.6,
          1.1,
          2.1,
          9.1,
          1.1,
          1.9,
          4,
          6.2,
          9,
          0.2,
          0.9,
          6.2,
          0.3,
          1,
          2.1,
          0.5,
          1.1,
          2.1,
          4,
          8.8,
          0.4,
          0.9,
          4.3,
          9.6,
          0.2,
          0.4,
          1,
          1.8,
          1.1,
          2.1,
          4.1,
          6.1,
          0.5,
          1.3,
          2.4,
          4.5,
          7,
          9.8,
          0.3,
          0.8,
          1.9,
          3.9,
          7,
          0.2,
          0.5,
          0.9,
          9.1,
          0.2,
          0.5,
          1.1,
          2.1,
          4.1,
          6.4,
          9.5,
          12.2,
          0.9,
          2,
          6.4,
          0.4,
          0.9,
          2,
          4.2,
          9.1,
          0.4,
          1.3,
          2.1,
          2.1,
          6.2,
          1.1,
          2,
          7.6,
          9.5,
          0.1,
          0.5,
          1,
          6,
          9,
          11.5,
          0.1,
          0.4,
          0.8,
          2,
          4,
          12.4,
          0.1,
          0.3,
          1,
          2.2,
          0.2,
          4,
          6.2,
          9.2,
          12.6,
          0.4,
          2.1,
          6.2,
          12.2,
          0.5,
          1,
          2.1,
          9.2,
          1.1,
          2.1,
          4,
          6.3,
          12.9,
          0.2,
          0.7,
          1.1,
          2.1,
          3.9,
          6.4,
          12.1,
          0.2,
          0.4,
          1.1,
          2,
          4.7,
          6.3
         ],
         "y0": " ",
         "yaxis": "y"
        }
       ],
       "layout": {
        "boxmode": "group",
        "legend": {
         "tracegroupgap": 0
        },
        "margin": {
         "t": 60
        },
        "template": {
         "data": {
          "bar": [
           {
            "error_x": {
             "color": "#2a3f5f"
            },
            "error_y": {
             "color": "#2a3f5f"
            },
            "marker": {
             "line": {
              "color": "#E5ECF6",
              "width": 0.5
             }
            },
            "type": "bar"
           }
          ],
          "barpolar": [
           {
            "marker": {
             "line": {
              "color": "#E5ECF6",
              "width": 0.5
             }
            },
            "type": "barpolar"
           }
          ],
          "carpet": [
           {
            "aaxis": {
             "endlinecolor": "#2a3f5f",
             "gridcolor": "white",
             "linecolor": "white",
             "minorgridcolor": "white",
             "startlinecolor": "#2a3f5f"
            },
            "baxis": {
             "endlinecolor": "#2a3f5f",
             "gridcolor": "white",
             "linecolor": "white",
             "minorgridcolor": "white",
             "startlinecolor": "#2a3f5f"
            },
            "type": "carpet"
           }
          ],
          "choropleth": [
           {
            "colorbar": {
             "outlinewidth": 0,
             "ticks": ""
            },
            "type": "choropleth"
           }
          ],
          "contour": [
           {
            "colorbar": {
             "outlinewidth": 0,
             "ticks": ""
            },
            "colorscale": [
             [
              0,
              "#0d0887"
             ],
             [
              0.1111111111111111,
              "#46039f"
             ],
             [
              0.2222222222222222,
              "#7201a8"
             ],
             [
              0.3333333333333333,
              "#9c179e"
             ],
             [
              0.4444444444444444,
              "#bd3786"
             ],
             [
              0.5555555555555556,
              "#d8576b"
             ],
             [
              0.6666666666666666,
              "#ed7953"
             ],
             [
              0.7777777777777778,
              "#fb9f3a"
             ],
             [
              0.8888888888888888,
              "#fdca26"
             ],
             [
              1,
              "#f0f921"
             ]
            ],
            "type": "contour"
           }
          ],
          "contourcarpet": [
           {
            "colorbar": {
             "outlinewidth": 0,
             "ticks": ""
            },
            "type": "contourcarpet"
           }
          ],
          "heatmap": [
           {
            "colorbar": {
             "outlinewidth": 0,
             "ticks": ""
            },
            "colorscale": [
             [
              0,
              "#0d0887"
             ],
             [
              0.1111111111111111,
              "#46039f"
             ],
             [
              0.2222222222222222,
              "#7201a8"
             ],
             [
              0.3333333333333333,
              "#9c179e"
             ],
             [
              0.4444444444444444,
              "#bd3786"
             ],
             [
              0.5555555555555556,
              "#d8576b"
             ],
             [
              0.6666666666666666,
              "#ed7953"
             ],
             [
              0.7777777777777778,
              "#fb9f3a"
             ],
             [
              0.8888888888888888,
              "#fdca26"
             ],
             [
              1,
              "#f0f921"
             ]
            ],
            "type": "heatmap"
           }
          ],
          "heatmapgl": [
           {
            "colorbar": {
             "outlinewidth": 0,
             "ticks": ""
            },
            "colorscale": [
             [
              0,
              "#0d0887"
             ],
             [
              0.1111111111111111,
              "#46039f"
             ],
             [
              0.2222222222222222,
              "#7201a8"
             ],
             [
              0.3333333333333333,
              "#9c179e"
             ],
             [
              0.4444444444444444,
              "#bd3786"
             ],
             [
              0.5555555555555556,
              "#d8576b"
             ],
             [
              0.6666666666666666,
              "#ed7953"
             ],
             [
              0.7777777777777778,
              "#fb9f3a"
             ],
             [
              0.8888888888888888,
              "#fdca26"
             ],
             [
              1,
              "#f0f921"
             ]
            ],
            "type": "heatmapgl"
           }
          ],
          "histogram": [
           {
            "marker": {
             "colorbar": {
              "outlinewidth": 0,
              "ticks": ""
             }
            },
            "type": "histogram"
           }
          ],
          "histogram2d": [
           {
            "colorbar": {
             "outlinewidth": 0,
             "ticks": ""
            },
            "colorscale": [
             [
              0,
              "#0d0887"
             ],
             [
              0.1111111111111111,
              "#46039f"
             ],
             [
              0.2222222222222222,
              "#7201a8"
             ],
             [
              0.3333333333333333,
              "#9c179e"
             ],
             [
              0.4444444444444444,
              "#bd3786"
             ],
             [
              0.5555555555555556,
              "#d8576b"
             ],
             [
              0.6666666666666666,
              "#ed7953"
             ],
             [
              0.7777777777777778,
              "#fb9f3a"
             ],
             [
              0.8888888888888888,
              "#fdca26"
             ],
             [
              1,
              "#f0f921"
             ]
            ],
            "type": "histogram2d"
           }
          ],
          "histogram2dcontour": [
           {
            "colorbar": {
             "outlinewidth": 0,
             "ticks": ""
            },
            "colorscale": [
             [
              0,
              "#0d0887"
             ],
             [
              0.1111111111111111,
              "#46039f"
             ],
             [
              0.2222222222222222,
              "#7201a8"
             ],
             [
              0.3333333333333333,
              "#9c179e"
             ],
             [
              0.4444444444444444,
              "#bd3786"
             ],
             [
              0.5555555555555556,
              "#d8576b"
             ],
             [
              0.6666666666666666,
              "#ed7953"
             ],
             [
              0.7777777777777778,
              "#fb9f3a"
             ],
             [
              0.8888888888888888,
              "#fdca26"
             ],
             [
              1,
              "#f0f921"
             ]
            ],
            "type": "histogram2dcontour"
           }
          ],
          "mesh3d": [
           {
            "colorbar": {
             "outlinewidth": 0,
             "ticks": ""
            },
            "type": "mesh3d"
           }
          ],
          "parcoords": [
           {
            "line": {
             "colorbar": {
              "outlinewidth": 0,
              "ticks": ""
             }
            },
            "type": "parcoords"
           }
          ],
          "pie": [
           {
            "automargin": true,
            "type": "pie"
           }
          ],
          "scatter": [
           {
            "marker": {
             "colorbar": {
              "outlinewidth": 0,
              "ticks": ""
             }
            },
            "type": "scatter"
           }
          ],
          "scatter3d": [
           {
            "line": {
             "colorbar": {
              "outlinewidth": 0,
              "ticks": ""
             }
            },
            "marker": {
             "colorbar": {
              "outlinewidth": 0,
              "ticks": ""
             }
            },
            "type": "scatter3d"
           }
          ],
          "scattercarpet": [
           {
            "marker": {
             "colorbar": {
              "outlinewidth": 0,
              "ticks": ""
             }
            },
            "type": "scattercarpet"
           }
          ],
          "scattergeo": [
           {
            "marker": {
             "colorbar": {
              "outlinewidth": 0,
              "ticks": ""
             }
            },
            "type": "scattergeo"
           }
          ],
          "scattergl": [
           {
            "marker": {
             "colorbar": {
              "outlinewidth": 0,
              "ticks": ""
             }
            },
            "type": "scattergl"
           }
          ],
          "scattermapbox": [
           {
            "marker": {
             "colorbar": {
              "outlinewidth": 0,
              "ticks": ""
             }
            },
            "type": "scattermapbox"
           }
          ],
          "scatterpolar": [
           {
            "marker": {
             "colorbar": {
              "outlinewidth": 0,
              "ticks": ""
             }
            },
            "type": "scatterpolar"
           }
          ],
          "scatterpolargl": [
           {
            "marker": {
             "colorbar": {
              "outlinewidth": 0,
              "ticks": ""
             }
            },
            "type": "scatterpolargl"
           }
          ],
          "scatterternary": [
           {
            "marker": {
             "colorbar": {
              "outlinewidth": 0,
              "ticks": ""
             }
            },
            "type": "scatterternary"
           }
          ],
          "surface": [
           {
            "colorbar": {
             "outlinewidth": 0,
             "ticks": ""
            },
            "colorscale": [
             [
              0,
              "#0d0887"
             ],
             [
              0.1111111111111111,
              "#46039f"
             ],
             [
              0.2222222222222222,
              "#7201a8"
             ],
             [
              0.3333333333333333,
              "#9c179e"
             ],
             [
              0.4444444444444444,
              "#bd3786"
             ],
             [
              0.5555555555555556,
              "#d8576b"
             ],
             [
              0.6666666666666666,
              "#ed7953"
             ],
             [
              0.7777777777777778,
              "#fb9f3a"
             ],
             [
              0.8888888888888888,
              "#fdca26"
             ],
             [
              1,
              "#f0f921"
             ]
            ],
            "type": "surface"
           }
          ],
          "table": [
           {
            "cells": {
             "fill": {
              "color": "#EBF0F8"
             },
             "line": {
              "color": "white"
             }
            },
            "header": {
             "fill": {
              "color": "#C8D4E3"
             },
             "line": {
              "color": "white"
             }
            },
            "type": "table"
           }
          ]
         },
         "layout": {
          "annotationdefaults": {
           "arrowcolor": "#2a3f5f",
           "arrowhead": 0,
           "arrowwidth": 1
          },
          "coloraxis": {
           "colorbar": {
            "outlinewidth": 0,
            "ticks": ""
           }
          },
          "colorscale": {
           "diverging": [
            [
             0,
             "#8e0152"
            ],
            [
             0.1,
             "#c51b7d"
            ],
            [
             0.2,
             "#de77ae"
            ],
            [
             0.3,
             "#f1b6da"
            ],
            [
             0.4,
             "#fde0ef"
            ],
            [
             0.5,
             "#f7f7f7"
            ],
            [
             0.6,
             "#e6f5d0"
            ],
            [
             0.7,
             "#b8e186"
            ],
            [
             0.8,
             "#7fbc41"
            ],
            [
             0.9,
             "#4d9221"
            ],
            [
             1,
             "#276419"
            ]
           ],
           "sequential": [
            [
             0,
             "#0d0887"
            ],
            [
             0.1111111111111111,
             "#46039f"
            ],
            [
             0.2222222222222222,
             "#7201a8"
            ],
            [
             0.3333333333333333,
             "#9c179e"
            ],
            [
             0.4444444444444444,
             "#bd3786"
            ],
            [
             0.5555555555555556,
             "#d8576b"
            ],
            [
             0.6666666666666666,
             "#ed7953"
            ],
            [
             0.7777777777777778,
             "#fb9f3a"
            ],
            [
             0.8888888888888888,
             "#fdca26"
            ],
            [
             1,
             "#f0f921"
            ]
           ],
           "sequentialminus": [
            [
             0,
             "#0d0887"
            ],
            [
             0.1111111111111111,
             "#46039f"
            ],
            [
             0.2222222222222222,
             "#7201a8"
            ],
            [
             0.3333333333333333,
             "#9c179e"
            ],
            [
             0.4444444444444444,
             "#bd3786"
            ],
            [
             0.5555555555555556,
             "#d8576b"
            ],
            [
             0.6666666666666666,
             "#ed7953"
            ],
            [
             0.7777777777777778,
             "#fb9f3a"
            ],
            [
             0.8888888888888888,
             "#fdca26"
            ],
            [
             1,
             "#f0f921"
            ]
           ]
          },
          "colorway": [
           "#636efa",
           "#EF553B",
           "#00cc96",
           "#ab63fa",
           "#FFA15A",
           "#19d3f3",
           "#FF6692",
           "#B6E880",
           "#FF97FF",
           "#FECB52"
          ],
          "font": {
           "color": "#2a3f5f"
          },
          "geo": {
           "bgcolor": "white",
           "lakecolor": "white",
           "landcolor": "#E5ECF6",
           "showlakes": true,
           "showland": true,
           "subunitcolor": "white"
          },
          "hoverlabel": {
           "align": "left"
          },
          "hovermode": "closest",
          "mapbox": {
           "style": "light"
          },
          "paper_bgcolor": "white",
          "plot_bgcolor": "#E5ECF6",
          "polar": {
           "angularaxis": {
            "gridcolor": "white",
            "linecolor": "white",
            "ticks": ""
           },
           "bgcolor": "#E5ECF6",
           "radialaxis": {
            "gridcolor": "white",
            "linecolor": "white",
            "ticks": ""
           }
          },
          "scene": {
           "xaxis": {
            "backgroundcolor": "#E5ECF6",
            "gridcolor": "white",
            "gridwidth": 2,
            "linecolor": "white",
            "showbackground": true,
            "ticks": "",
            "zerolinecolor": "white"
           },
           "yaxis": {
            "backgroundcolor": "#E5ECF6",
            "gridcolor": "white",
            "gridwidth": 2,
            "linecolor": "white",
            "showbackground": true,
            "ticks": "",
            "zerolinecolor": "white"
           },
           "zaxis": {
            "backgroundcolor": "#E5ECF6",
            "gridcolor": "white",
            "gridwidth": 2,
            "linecolor": "white",
            "showbackground": true,
            "ticks": "",
            "zerolinecolor": "white"
           }
          },
          "shapedefaults": {
           "line": {
            "color": "#2a3f5f"
           }
          },
          "ternary": {
           "aaxis": {
            "gridcolor": "white",
            "linecolor": "white",
            "ticks": ""
           },
           "baxis": {
            "gridcolor": "white",
            "linecolor": "white",
            "ticks": ""
           },
           "bgcolor": "#E5ECF6",
           "caxis": {
            "gridcolor": "white",
            "linecolor": "white",
            "ticks": ""
           }
          },
          "title": {
           "x": 0.05
          },
          "xaxis": {
           "automargin": true,
           "gridcolor": "white",
           "linecolor": "white",
           "ticks": "",
           "title": {
            "standoff": 15
           },
           "zerolinecolor": "white",
           "zerolinewidth": 2
          },
          "yaxis": {
           "automargin": true,
           "gridcolor": "white",
           "linecolor": "white",
           "ticks": "",
           "title": {
            "standoff": 15
           },
           "zerolinecolor": "white",
           "zerolinewidth": 2
          }
         }
        },
        "xaxis": {
         "anchor": "y",
         "domain": [
          0,
          1
         ],
         "title": {
          "text": "sample_time"
         }
        },
        "yaxis": {
         "anchor": "x",
         "domain": [
          0,
          1
         ],
         "title": {
          "text": "visit_age_mo"
         }
        }
       }
      },
      "text/html": [
       "<div>                            <div id=\"96432b72-5b58-47e8-adc4-d238e3d1f830\" class=\"plotly-graph-div\" style=\"height:525px; width:100%;\"></div>            <script type=\"text/javascript\">                require([\"plotly\"], function(Plotly) {                    window.PLOTLYENV=window.PLOTLYENV || {};                                    if (document.getElementById(\"96432b72-5b58-47e8-adc4-d238e3d1f830\")) {                    Plotly.newPlot(                        \"96432b72-5b58-47e8-adc4-d238e3d1f830\",                        [{\"alignmentgroup\": \"True\", \"boxpoints\": \"all\", \"hovertemplate\": \"sample_time=%{x}<br>visit_age_mo=%{y}<extra></extra>\", \"legendgroup\": \"\", \"marker\": {\"color\": \"#636efa\"}, \"name\": \"\", \"notched\": false, \"offsetgroup\": \"\", \"orientation\": \"v\", \"showlegend\": false, \"type\": \"box\", \"x\": [\"initial\", \"twoweek\", \"onemonth\", \"twomonth\", \"fourmonth\", \"sixmonth\", \"ninemonth\", \"initial\", \"twoweek\", \"onemonth\", \"twomonth\", \"fourmonth\", \"ninemonth\", \"oneyear\", \"initial\", \"onemonth\", \"twomonth\", \"fourmonth\", \"sixmonth\", \"oneyear\", \"twoweek\", \"onemonth\", \"twomonth\", \"fourmonth\", \"initial\", \"twoweek\", \"onemonth\", \"twomonth\", \"fourmonth\", \"ninemonth\", \"initial\", \"twomonth\", \"fourmonth\", \"sixmonth\", \"ninemonth\", \"oneyear\", \"initial\", \"twoweek\", \"twomonth\", \"sixmonth\", \"ninemonth\", \"oneyear\", \"onemonth\", \"twomonth\", \"sixmonth\", \"oneyear\", \"twoweek\", \"fourmonth\", \"ninemonth\", \"oneyear\", \"onemonth\", \"sixmonth\", \"ninemonth\", \"oneyear\", \"initial\", \"twoweek\", \"twomonth\", \"fourmonth\", \"sixmonth\", \"ninemonth\", \"initial\", \"onemonth\", \"twomonth\", \"fourmonth\", \"ninemonth\", \"oneyear\", \"initial\", \"twoweek\", \"twomonth\", \"fourmonth\", \"sixmonth\", \"twoweek\", \"onemonth\", \"twomonth\", \"fourmonth\", \"sixmonth\", \"ninemonth\", \"oneyear\", \"twoweek\", \"onemonth\", \"fourmonth\", \"ninemonth\", \"twoweek\", \"onemonth\", \"twomonth\", \"fourmonth\", \"sixmonth\", \"ninemonth\", \"oneyear\", \"initial\", \"twoweek\", \"fourmonth\", \"sixmonth\", \"oneyear\", \"initial\", \"twoweek\", \"onemonth\", \"twomonth\", \"oneyear\", \"initial\", \"twoweek\", \"onemonth\", \"twomonth\", \"fourmonth\", \"ninemonth\", \"twoweek\", \"onemonth\", \"fourmonth\", \"sixmonth\", \"ninemonth\", \"initial\", \"twoweek\", \"twomonth\", \"fourmonth\", \"sixmonth\", \"ninemonth\", \"initial\", \"twoweek\", \"onemonth\", \"twomonth\", \"fourmonth\", \"twoweek\", \"onemonth\", \"twomonth\", \"fourmonth\", \"initial\", \"twoweek\", \"onemonth\", \"twomonth\", \"fourmonth\", \"sixmonth\", \"oneyear\", \"initial\", \"onemonth\", \"ninemonth\", \"initial\", \"onemonth\", \"twomonth\", \"fourmonth\", \"sixmonth\", \"oneyear\", \"twomonth\", \"oneyear\", \"initial\", \"onemonth\", \"twomonth\", \"fourmonth\", \"sixmonth\", \"oneyear\", \"twoweek\", \"twomonth\", \"fourmonth\", \"onemonth\", \"twomonth\", \"sixmonth\", \"ninemonth\", \"twoweek\", \"onemonth\", \"twomonth\", \"fourmonth\", \"initial\", \"onemonth\", \"twomonth\", \"fourmonth\", \"sixmonth\", \"oneyear\", \"initial\", \"twoweek\", \"onemonth\", \"twomonth\", \"fourmonth\", \"sixmonth\", \"ninemonth\", \"initial\", \"fourmonth\", \"ninemonth\", \"oneyear\", \"initial\", \"twomonth\", \"sixmonth\", \"ninemonth\", \"oneyear\", \"initial\", \"onemonth\", \"fourmonth\", \"sixmonth\", \"ninemonth\", \"oneyear\", \"twoweek\", \"onemonth\", \"fourmonth\", \"sixmonth\", \"ninemonth\", \"oneyear\", \"onemonth\", \"twomonth\", \"fourmonth\", \"sixmonth\", \"ninemonth\", \"oneyear\", \"initial\", \"twoweek\", \"onemonth\", \"twomonth\", \"initial\", \"twoweek\", \"twomonth\", \"fourmonth\", \"sixmonth\", \"twoweek\", \"onemonth\", \"twomonth\", \"initial\", \"twomonth\", \"sixmonth\", \"ninemonth\", \"initial\", \"onemonth\", \"twomonth\", \"ninemonth\", \"oneyear\", \"onemonth\", \"twomonth\", \"fourmonth\", \"sixmonth\", \"ninemonth\", \"oneyear\", \"onemonth\", \"twomonth\", \"fourmonth\", \"sixmonth\", \"ninemonth\", \"initial\", \"twoweek\", \"twomonth\", \"sixmonth\", \"ninemonth\", \"onemonth\", \"twomonth\", \"initial\", \"twoweek\", \"ninemonth\", \"oneyear\", \"twoweek\", \"onemonth\", \"twomonth\", \"sixmonth\", \"ninemonth\", \"oneyear\", \"initial\", \"twoweek\", \"onemonth\", \"twomonth\", \"fourmonth\", \"sixmonth\", \"ninemonth\", \"twoweek\", \"onemonth\", \"twomonth\", \"sixmonth\", \"ninemonth\", \"oneyear\", \"initial\", \"onemonth\", \"fourmonth\", \"ninemonth\", \"sixmonth\", \"ninemonth\", \"oneyear\", \"initial\", \"onemonth\", \"twomonth\", \"fourmonth\", \"sixmonth\", \"ninemonth\", \"oneyear\", \"twoweek\", \"onemonth\", \"sixmonth\", \"ninemonth\", \"oneyear\", \"twomonth\", \"fourmonth\", \"sixmonth\", \"oneyear\", \"twoweek\", \"twomonth\", \"fourmonth\", \"ninemonth\", \"initial\", \"onemonth\", \"twomonth\", \"ninemonth\", \"oneyear\", \"initial\", \"onemonth\", \"twomonth\", \"sixmonth\", \"ninemonth\", \"oneyear\", \"onemonth\", \"twomonth\", \"fourmonth\", \"sixmonth\", \"ninemonth\", \"twomonth\", \"sixmonth\", \"ninemonth\", \"oneyear\", \"twoweek\", \"sixmonth\", \"initial\", \"twoweek\", \"onemonth\", \"ninemonth\", \"initial\", \"onemonth\", \"twomonth\", \"initial\", \"twoweek\", \"onemonth\", \"twomonth\", \"sixmonth\", \"ninemonth\", \"oneyear\", \"onemonth\", \"twomonth\", \"sixmonth\", \"ninemonth\", \"oneyear\", \"initial\", \"fourmonth\", \"sixmonth\", \"oneyear\", \"onemonth\", \"twomonth\", \"fourmonth\", \"ninemonth\", \"oneyear\", \"twoweek\", \"onemonth\", \"fourmonth\", \"ninemonth\", \"oneyear\", \"initial\", \"fourmonth\", \"sixmonth\", \"ninemonth\", \"initial\", \"twomonth\", \"fourmonth\", \"sixmonth\", \"ninemonth\", \"oneyear\", \"initial\", \"fourmonth\", \"sixmonth\", \"initial\", \"onemonth\", \"twomonth\", \"fourmonth\", \"sixmonth\", \"ninemonth\", \"twoweek\", \"fourmonth\", \"ninemonth\", \"initial\", \"twoweek\", \"twomonth\", \"sixmonth\", \"ninemonth\", \"oneyear\", \"initial\", \"twoweek\", \"onemonth\", \"twomonth\", \"fourmonth\", \"initial\", \"twoweek\", \"onemonth\", \"fourmonth\", \"sixmonth\", \"ninemonth\", \"oneyear\", \"initial\", \"twoweek\", \"oneyear\", \"initial\", \"twoweek\", \"onemonth\", \"oneyear\", \"twoweek\", \"onemonth\", \"twomonth\", \"sixmonth\", \"ninemonth\", \"onemonth\", \"twomonth\", \"fourmonth\", \"sixmonth\", \"ninemonth\", \"twomonth\", \"fourmonth\", \"sixmonth\", \"ninemonth\", \"oneyear\", \"initial\", \"twoweek\", \"onemonth\", \"twomonth\", \"fourmonth\", \"ninemonth\", \"onemonth\", \"twomonth\", \"fourmonth\", \"sixmonth\", \"oneyear\", \"twoweek\", \"twomonth\", \"fourmonth\", \"sixmonth\", \"ninemonth\", \"oneyear\", \"twoweek\", \"onemonth\", \"twomonth\", \"sixmonth\", \"ninemonth\", \"oneyear\", \"initial\", \"twoweek\", \"fourmonth\", \"sixmonth\", \"ninemonth\", \"onemonth\", \"twomonth\", \"fourmonth\", \"sixmonth\", \"onemonth\", \"twomonth\", \"ninemonth\", \"onemonth\", \"twomonth\", \"fourmonth\", \"oneyear\", \"initial\", \"onemonth\", \"twomonth\", \"fourmonth\", \"onemonth\", \"twomonth\", \"sixmonth\", \"twoweek\", \"onemonth\", \"twomonth\", \"fourmonth\", \"sixmonth\", \"sixmonth\", \"ninemonth\", \"oneyear\", \"initial\", \"twoweek\", \"onemonth\", \"twomonth\", \"fourmonth\", \"sixmonth\", \"ninemonth\", \"twomonth\", \"fourmonth\", \"ninemonth\", \"oneyear\", \"initial\", \"onemonth\", \"twomonth\", \"fourmonth\", \"sixmonth\", \"initial\", \"twoweek\", \"onemonth\", \"twomonth\", \"fourmonth\", \"sixmonth\", \"ninemonth\", \"oneyear\", \"onemonth\", \"twomonth\", \"fourmonth\", \"ninemonth\", \"onemonth\", \"twomonth\", \"sixmonth\", \"ninemonth\", \"twoweek\", \"onemonth\", \"twomonth\", \"fourmonth\", \"sixmonth\", \"ninemonth\", \"oneyear\", \"initial\", \"onemonth\", \"twomonth\", \"fourmonth\", \"onemonth\", \"twomonth\", \"fourmonth\", \"twoweek\", \"onemonth\", \"fourmonth\", \"sixmonth\", \"ninemonth\", \"twoweek\", \"onemonth\", \"twomonth\", \"fourmonth\", \"sixmonth\", \"ninemonth\", \"oneyear\", \"onemonth\", \"fourmonth\", \"twoweek\", \"onemonth\", \"twomonth\", \"ninemonth\", \"initial\", \"twoweek\", \"onemonth\", \"twomonth\", \"initial\", \"twomonth\", \"ninemonth\", \"initial\", \"twoweek\", \"fourmonth\", \"initial\", \"twoweek\", \"onemonth\", \"twomonth\", \"fourmonth\", \"sixmonth\", \"ninemonth\", \"twoweek\", \"onemonth\", \"twomonth\", \"fourmonth\", \"twoweek\", \"onemonth\", \"twomonth\", \"sixmonth\", \"initial\", \"onemonth\", \"sixmonth\", \"onemonth\", \"twomonth\", \"fourmonth\", \"initial\", \"twomonth\", \"fourmonth\", \"sixmonth\", \"ninemonth\", \"initial\", \"twomonth\", \"fourmonth\", \"ninemonth\", \"initial\", \"onemonth\", \"twomonth\", \"fourmonth\", \"ninemonth\", \"oneyear\", \"initial\", \"twoweek\", \"initial\", \"onemonth\", \"fourmonth\", \"sixmonth\", \"oneyear\", \"initial\", \"twoweek\", \"twomonth\", \"fourmonth\", \"sixmonth\", \"twoweek\", \"twomonth\", \"sixmonth\", \"ninemonth\", \"twomonth\", \"fourmonth\", \"sixmonth\", \"ninemonth\", \"onemonth\", \"twomonth\", \"sixmonth\", \"ninemonth\", \"oneyear\", \"initial\", \"onemonth\", \"twomonth\", \"fourmonth\", \"oneyear\", \"initial\", \"twoweek\", \"onemonth\", \"twomonth\", \"fourmonth\", \"sixmonth\", \"ninemonth\", \"oneyear\", \"twomonth\", \"fourmonth\", \"ninemonth\", \"onemonth\", \"fourmonth\", \"ninemonth\", \"initial\", \"twoweek\", \"onemonth\", \"twomonth\", \"fourmonth\", \"sixmonth\", \"oneyear\", \"initial\", \"fourmonth\", \"ninemonth\", \"onemonth\", \"twomonth\", \"fourmonth\", \"sixmonth\", \"ninemonth\", \"oneyear\", \"onemonth\", \"twomonth\", \"onemonth\", \"twomonth\", \"fourmonth\", \"sixmonth\", \"ninemonth\", \"oneyear\", \"initial\", \"onemonth\", \"twomonth\", \"oneyear\", \"initial\", \"fourmonth\", \"sixmonth\", \"oneyear\", \"initial\", \"onemonth\", \"twomonth\", \"ninemonth\", \"initial\", \"twoweek\", \"twomonth\", \"fourmonth\", \"sixmonth\", \"oneyear\", \"initial\", \"twomonth\", \"fourmonth\", \"sixmonth\", \"initial\", \"twoweek\", \"onemonth\", \"twomonth\", \"fourmonth\", \"onemonth\", \"twomonth\", \"ninemonth\", \"onemonth\", \"twomonth\", \"fourmonth\", \"sixmonth\", \"ninemonth\", \"initial\", \"onemonth\", \"sixmonth\", \"initial\", \"onemonth\", \"twomonth\", \"twoweek\", \"onemonth\", \"twomonth\", \"fourmonth\", \"ninemonth\", \"twoweek\", \"onemonth\", \"fourmonth\", \"ninemonth\", \"initial\", \"twoweek\", \"onemonth\", \"twomonth\", \"onemonth\", \"twomonth\", \"fourmonth\", \"sixmonth\", \"initial\", \"onemonth\", \"twomonth\", \"fourmonth\", \"sixmonth\", \"ninemonth\", \"initial\", \"onemonth\", \"twomonth\", \"fourmonth\", \"sixmonth\", \"initial\", \"twoweek\", \"onemonth\", \"ninemonth\", \"initial\", \"twoweek\", \"onemonth\", \"twomonth\", \"fourmonth\", \"sixmonth\", \"ninemonth\", \"oneyear\", \"onemonth\", \"twomonth\", \"sixmonth\", \"twoweek\", \"onemonth\", \"twomonth\", \"fourmonth\", \"ninemonth\", \"initial\", \"onemonth\", \"twomonth\", \"twomonth\", \"sixmonth\", \"onemonth\", \"twomonth\", \"sixmonth\", \"ninemonth\", \"initial\", \"twoweek\", \"onemonth\", \"sixmonth\", \"ninemonth\", \"oneyear\", \"initial\", \"twoweek\", \"onemonth\", \"twomonth\", \"fourmonth\", \"oneyear\", \"initial\", \"twoweek\", \"onemonth\", \"twomonth\", \"initial\", \"fourmonth\", \"sixmonth\", \"ninemonth\", \"oneyear\", \"twoweek\", \"twomonth\", \"sixmonth\", \"oneyear\", \"twoweek\", \"onemonth\", \"twomonth\", \"ninemonth\", \"onemonth\", \"twomonth\", \"fourmonth\", \"sixmonth\", \"oneyear\", \"initial\", \"twoweek\", \"onemonth\", \"twomonth\", \"fourmonth\", \"sixmonth\", \"oneyear\", \"initial\", \"twoweek\", \"onemonth\", \"twomonth\", \"fourmonth\", \"sixmonth\"], \"x0\": \" \", \"xaxis\": \"x\", \"y\": [0.2, 0.5, 1.0, 2.1, 4.2, 6.5, 9.2, 0.2, 0.4, 1.1, 2.2, 4.0, 9.3, 12.1, 0.7, 1.3, 1.8, 4.1, 6.6, 12.4, 0.7, 1.4, 2.1, 4.1, 0.1, 0.4, 1.1, 2.6, 4.3, 9.2, 0.1, 2.0, 4.1, 6.1, 9.4, 12.1, 0.3, 0.4, 1.9, 6.1, 9.1, 12.3, 1.0, 2.0, 6.3, 12.4, 0.4, 4.2, 9.0, 12.1, 1.1, 6.2, 9.7, 12.2, 0.1, 0.5, 2.0, 4.1, 7.0, 9.3, 0.2, 1.1, 1.9, 4.1, 9.1, 12.6, 0.3, 0.5, 1.9, 4.4, 6.1, 0.5, 1.1, 2.0, 4.1, 6.2, 8.9, 11.8, 0.6, 1.0, 4.2, 9.2, 0.4, 1.3, 2.0, 4.0, 6.0, 8.4, 12.1, 0.1, 0.5, 4.0, 6.1, 12.7, 0.2, 0.4, 0.9, 2.0, 12.8, 0.3, 0.5, 1.1, 2.0, 4.1, 9.1, 0.4, 1.1, 4.1, 6.1, 9.5, 0.2, 0.7, 1.8, 3.9, 6.5, 9.2, 0.1, 0.5, 1.1, 2.1, 3.7, 0.5, 1.0, 2.1, 3.9, 0.2, 0.4, 1.1, 2.2, 4.1, 6.1, 12.1, 0.1, 1.0, 9.3, 0.2, 1.4, 2.2, 4.1, 6.7, 12.9, 1.9, 12.2, 0.5, 1.0, 2.2, 3.9, 6.0, 12.4, 0.5, 2.1, 4.8, 1.0, 2.1, 6.7, 9.0, 0.6, 1.0, 2.0, 4.0, 0.2, 0.9, 2.0, 5.0, 7.1, 13.1, 0.1, 0.3, 0.9, 2.3, 4.2, 6.2, 9.6, 0.4, 4.1, 9.6, 12.6, 0.1, 2.0, 6.2, 9.1, 12.6, 0.6, 1.1, 4.3, 6.2, 9.2, 12.0, 0.5, 1.1, 4.1, 6.6, 9.4, 12.3, 1.0, 2.3, 4.0, 6.2, 9.1, 12.6, 0.2, 0.5, 1.1, 2.0, 0.1, 0.6, 2.2, 4.1, 6.4, 0.4, 0.8, 2.1, 0.4, 2.2, 6.4, 9.0, 0.4, 1.0, 2.1, 9.2, 12.2, 0.9, 2.1, 4.0, 6.7, 9.1, 12.3, 0.9, 1.9, 4.0, 6.3, 9.7, 0.2, 0.7, 1.9, 6.0, 9.2, 1.1, 1.8, 0.2, 0.4, 9.5, 12.1, 0.5, 0.9, 2.0, 6.0, 9.0, 12.2, 0.1, 0.5, 1.2, 2.3, 4.1, 6.1, 9.2, 0.5, 1.0, 2.0, 6.7, 9.0, 12.5, 0.5, 1.1, 4.1, 9.1, 6.6, 9.1, 13.0, 0.3, 1.0, 1.9, 3.9, 6.3, 9.2, 12.1, 0.4, 0.9, 6.4, 9.3, 12.1, 1.7, 4.1, 6.4, 12.2, 0.5, 1.9, 3.9, 9.2, 0.2, 0.9, 2.0, 8.5, 12.4, 0.4, 0.9, 2.0, 6.1, 11.0, 12.1, 1.0, 2.2, 4.2, 6.3, 9.2, 1.9, 6.3, 9.3, 12.1, 0.4, 6.2, 0.2, 0.5, 1.1, 9.2, 0.1, 1.1, 1.9, 0.2, 0.4, 1.1, 2.1, 6.2, 9.4, 13.3, 0.8, 1.9, 6.5, 9.3, 12.5, 3.2, 4.1, 5.9, 12.1, 1.1, 2.2, 4.0, 9.1, 12.1, 0.3, 1.0, 4.2, 9.5, 12.7, 0.9, 4.1, 6.3, 9.4, 0.8, 2.0, 4.2, 6.2, 9.4, 12.3, 0.5, 4.0, 6.6, 0.6, 1.0, 2.1, 4.1, 6.3, 9.0, 0.5, 4.1, 9.2, 0.1, 0.6, 1.9, 6.1, 9.1, 12.3, 0.4, 0.6, 1.1, 2.0, 4.0, 0.2, 0.4, 1.1, 4.3, 6.1, 9.3, 12.2, 0.2, 0.4, 12.3, 0.2, 0.4, 0.9, 12.1, 0.5, 1.3, 2.0, 6.2, 9.1, 1.1, 2.0, 4.2, 6.2, 9.2, 2.1, 4.1, 6.2, 9.2, 12.6, 0.2, 0.4, 1.0, 2.3, 4.6, 9.2, 1.1, 1.8, 4.1, 6.3, 12.2, 0.4, 2.0, 4.1, 6.4, 9.2, 12.4, 0.4, 1.1, 1.8, 7.3, 9.2, 12.5, 0.2, 0.5, 4.2, 7.6, 9.7, 1.1, 2.0, 4.1, 6.1, 1.0, 2.2, 9.5, 1.4, 2.4, 4.0, 12.6, 0.2, 0.9, 1.8, 4.1, 0.9, 2.0, 6.1, 0.4, 1.0, 2.0, 4.1, 6.2, 6.2, 9.4, 12.5, 0.1, 0.5, 1.0, 2.3, 4.5, 6.6, 9.8, 2.0, 4.3, 9.9, 12.2, 0.7, 1.1, 1.9, 3.9, 6.4, 0.2, 0.4, 1.1, 2.3, 4.3, 6.2, 9.3, 12.2, 1.1, 2.2, 4.3, 11.7, 1.0, 2.1, 6.5, 9.0, 0.4, 1.1, 2.4, 4.5, 6.3, 9.1, 12.6, 0.1, 1.2, 2.1, 4.1, 1.0, 1.9, 4.3, 0.5, 1.0, 4.2, 6.1, 9.1, 0.4, 0.9, 2.0, 4.2, 7.0, 9.2, 12.3, 1.2, 4.4, 0.3, 1.1, 1.9, 9.3, 0.2, 0.4, 1.1, 2.1, 0.5, 2.2, 9.0, 0.2, 0.5, 4.1, 0.2, 0.4, 0.9, 2.0, 4.1, 6.3, 9.1, 0.4, 0.9, 2.1, 4.0, 0.5, 0.9, 2.1, 7.0, 0.3, 1.0, 6.2, 1.2, 1.9, 4.1, 0.2, 2.3, 4.1, 6.2, 9.1, 0.2, 2.3, 4.0, 9.1, 0.3, 1.2, 2.3, 4.0, 8.6, 12.3, 0.3, 0.5, 0.3, 1.1, 4.1, 6.2, 12.3, 0.2, 0.4, 2.0, 3.9, 6.2, 0.6, 2.1, 6.4, 9.0, 2.1, 3.9, 6.5, 9.2, 1.1, 2.0, 6.2, 9.1, 12.1, 0.5, 1.0, 2.1, 4.1, 12.5, 0.2, 0.6, 0.9, 1.9, 4.0, 6.3, 9.3, 12.3, 2.9, 3.9, 9.3, 1.1, 3.9, 9.2, 0.1, 0.5, 1.0, 2.0, 4.2, 6.2, 12.0, 2.5, 4.2, 9.7, 0.9, 1.9, 4.0, 6.0, 8.5, 12.2, 1.0, 1.6, 0.9, 2.0, 4.2, 6.2, 9.2, 12.2, 0.4, 1.1, 2.2, 12.2, 0.5, 4.1, 6.2, 12.3, 0.4, 0.9, 2.0, 8.9, 0.1, 0.7, 1.6, 4.1, 6.4, 12.2, 0.5, 2.0, 4.0, 6.2, 0.3, 0.5, 1.1, 2.1, 5.6, 1.1, 2.1, 9.1, 1.1, 1.9, 4.0, 6.2, 9.0, 0.2, 0.9, 6.2, 0.3, 1.0, 2.1, 0.5, 1.1, 2.1, 4.0, 8.8, 0.4, 0.9, 4.3, 9.6, 0.2, 0.4, 1.0, 1.8, 1.1, 2.1, 4.1, 6.1, 0.5, 1.3, 2.4, 4.5, 7.0, 9.8, 0.3, 0.8, 1.9, 3.9, 7.0, 0.2, 0.5, 0.9, 9.1, 0.2, 0.5, 1.1, 2.1, 4.1, 6.4, 9.5, 12.2, 0.9, 2.0, 6.4, 0.4, 0.9, 2.0, 4.2, 9.1, 0.4, 1.3, 2.1, 2.1, 6.2, 1.1, 2.0, 7.6, 9.5, 0.1, 0.5, 1.0, 6.0, 9.0, 11.5, 0.1, 0.4, 0.8, 2.0, 4.0, 12.4, 0.1, 0.3, 1.0, 2.2, 0.2, 4.0, 6.2, 9.2, 12.6, 0.4, 2.1, 6.2, 12.2, 0.5, 1.0, 2.1, 9.2, 1.1, 2.1, 4.0, 6.3, 12.9, 0.2, 0.7, 1.1, 2.1, 3.9, 6.4, 12.1, 0.2, 0.4, 1.1, 2.0, 4.7, 6.3], \"y0\": \" \", \"yaxis\": \"y\"}],                        {\"boxmode\": \"group\", \"legend\": {\"tracegroupgap\": 0}, \"margin\": {\"t\": 60}, \"template\": {\"data\": {\"bar\": [{\"error_x\": {\"color\": \"#2a3f5f\"}, \"error_y\": {\"color\": \"#2a3f5f\"}, \"marker\": {\"line\": {\"color\": \"#E5ECF6\", \"width\": 0.5}}, \"type\": \"bar\"}], \"barpolar\": [{\"marker\": {\"line\": {\"color\": \"#E5ECF6\", \"width\": 0.5}}, \"type\": \"barpolar\"}], \"carpet\": [{\"aaxis\": {\"endlinecolor\": \"#2a3f5f\", \"gridcolor\": \"white\", \"linecolor\": \"white\", \"minorgridcolor\": \"white\", \"startlinecolor\": \"#2a3f5f\"}, \"baxis\": {\"endlinecolor\": \"#2a3f5f\", \"gridcolor\": \"white\", \"linecolor\": \"white\", \"minorgridcolor\": \"white\", \"startlinecolor\": \"#2a3f5f\"}, \"type\": \"carpet\"}], \"choropleth\": [{\"colorbar\": {\"outlinewidth\": 0, \"ticks\": \"\"}, \"type\": \"choropleth\"}], \"contour\": [{\"colorbar\": {\"outlinewidth\": 0, \"ticks\": \"\"}, \"colorscale\": [[0.0, \"#0d0887\"], [0.1111111111111111, \"#46039f\"], [0.2222222222222222, \"#7201a8\"], [0.3333333333333333, \"#9c179e\"], [0.4444444444444444, \"#bd3786\"], [0.5555555555555556, \"#d8576b\"], [0.6666666666666666, \"#ed7953\"], [0.7777777777777778, \"#fb9f3a\"], [0.8888888888888888, \"#fdca26\"], [1.0, \"#f0f921\"]], \"type\": \"contour\"}], \"contourcarpet\": [{\"colorbar\": {\"outlinewidth\": 0, \"ticks\": \"\"}, \"type\": \"contourcarpet\"}], \"heatmap\": [{\"colorbar\": {\"outlinewidth\": 0, \"ticks\": \"\"}, \"colorscale\": [[0.0, \"#0d0887\"], [0.1111111111111111, \"#46039f\"], [0.2222222222222222, \"#7201a8\"], [0.3333333333333333, \"#9c179e\"], [0.4444444444444444, \"#bd3786\"], [0.5555555555555556, \"#d8576b\"], [0.6666666666666666, \"#ed7953\"], [0.7777777777777778, \"#fb9f3a\"], [0.8888888888888888, \"#fdca26\"], [1.0, \"#f0f921\"]], \"type\": \"heatmap\"}], \"heatmapgl\": [{\"colorbar\": {\"outlinewidth\": 0, \"ticks\": \"\"}, \"colorscale\": [[0.0, \"#0d0887\"], [0.1111111111111111, \"#46039f\"], [0.2222222222222222, \"#7201a8\"], [0.3333333333333333, \"#9c179e\"], [0.4444444444444444, \"#bd3786\"], [0.5555555555555556, \"#d8576b\"], [0.6666666666666666, \"#ed7953\"], [0.7777777777777778, \"#fb9f3a\"], [0.8888888888888888, \"#fdca26\"], [1.0, \"#f0f921\"]], \"type\": \"heatmapgl\"}], \"histogram\": [{\"marker\": {\"colorbar\": {\"outlinewidth\": 0, \"ticks\": \"\"}}, \"type\": \"histogram\"}], \"histogram2d\": [{\"colorbar\": {\"outlinewidth\": 0, \"ticks\": \"\"}, \"colorscale\": [[0.0, \"#0d0887\"], [0.1111111111111111, \"#46039f\"], [0.2222222222222222, \"#7201a8\"], [0.3333333333333333, \"#9c179e\"], [0.4444444444444444, \"#bd3786\"], [0.5555555555555556, \"#d8576b\"], [0.6666666666666666, \"#ed7953\"], [0.7777777777777778, \"#fb9f3a\"], [0.8888888888888888, \"#fdca26\"], [1.0, \"#f0f921\"]], \"type\": \"histogram2d\"}], \"histogram2dcontour\": [{\"colorbar\": {\"outlinewidth\": 0, \"ticks\": \"\"}, \"colorscale\": [[0.0, \"#0d0887\"], [0.1111111111111111, \"#46039f\"], [0.2222222222222222, \"#7201a8\"], [0.3333333333333333, \"#9c179e\"], [0.4444444444444444, \"#bd3786\"], [0.5555555555555556, \"#d8576b\"], [0.6666666666666666, \"#ed7953\"], [0.7777777777777778, \"#fb9f3a\"], [0.8888888888888888, \"#fdca26\"], [1.0, \"#f0f921\"]], \"type\": \"histogram2dcontour\"}], \"mesh3d\": [{\"colorbar\": {\"outlinewidth\": 0, \"ticks\": \"\"}, \"type\": \"mesh3d\"}], \"parcoords\": [{\"line\": {\"colorbar\": {\"outlinewidth\": 0, \"ticks\": \"\"}}, \"type\": \"parcoords\"}], \"pie\": [{\"automargin\": true, \"type\": \"pie\"}], \"scatter\": [{\"marker\": {\"colorbar\": {\"outlinewidth\": 0, \"ticks\": \"\"}}, \"type\": \"scatter\"}], \"scatter3d\": [{\"line\": {\"colorbar\": {\"outlinewidth\": 0, \"ticks\": \"\"}}, \"marker\": {\"colorbar\": {\"outlinewidth\": 0, \"ticks\": \"\"}}, \"type\": \"scatter3d\"}], \"scattercarpet\": [{\"marker\": {\"colorbar\": {\"outlinewidth\": 0, \"ticks\": \"\"}}, \"type\": \"scattercarpet\"}], \"scattergeo\": [{\"marker\": {\"colorbar\": {\"outlinewidth\": 0, \"ticks\": \"\"}}, \"type\": \"scattergeo\"}], \"scattergl\": [{\"marker\": {\"colorbar\": {\"outlinewidth\": 0, \"ticks\": \"\"}}, \"type\": \"scattergl\"}], \"scattermapbox\": [{\"marker\": {\"colorbar\": {\"outlinewidth\": 0, \"ticks\": \"\"}}, \"type\": \"scattermapbox\"}], \"scatterpolar\": [{\"marker\": {\"colorbar\": {\"outlinewidth\": 0, \"ticks\": \"\"}}, \"type\": \"scatterpolar\"}], \"scatterpolargl\": [{\"marker\": {\"colorbar\": {\"outlinewidth\": 0, \"ticks\": \"\"}}, \"type\": \"scatterpolargl\"}], \"scatterternary\": [{\"marker\": {\"colorbar\": {\"outlinewidth\": 0, \"ticks\": \"\"}}, \"type\": \"scatterternary\"}], \"surface\": [{\"colorbar\": {\"outlinewidth\": 0, \"ticks\": \"\"}, \"colorscale\": [[0.0, \"#0d0887\"], [0.1111111111111111, \"#46039f\"], [0.2222222222222222, \"#7201a8\"], [0.3333333333333333, \"#9c179e\"], [0.4444444444444444, \"#bd3786\"], [0.5555555555555556, \"#d8576b\"], [0.6666666666666666, \"#ed7953\"], [0.7777777777777778, \"#fb9f3a\"], [0.8888888888888888, \"#fdca26\"], [1.0, \"#f0f921\"]], \"type\": \"surface\"}], \"table\": [{\"cells\": {\"fill\": {\"color\": \"#EBF0F8\"}, \"line\": {\"color\": \"white\"}}, \"header\": {\"fill\": {\"color\": \"#C8D4E3\"}, \"line\": {\"color\": \"white\"}}, \"type\": \"table\"}]}, \"layout\": {\"annotationdefaults\": {\"arrowcolor\": \"#2a3f5f\", \"arrowhead\": 0, \"arrowwidth\": 1}, \"coloraxis\": {\"colorbar\": {\"outlinewidth\": 0, \"ticks\": \"\"}}, \"colorscale\": {\"diverging\": [[0, \"#8e0152\"], [0.1, \"#c51b7d\"], [0.2, \"#de77ae\"], [0.3, \"#f1b6da\"], [0.4, \"#fde0ef\"], [0.5, \"#f7f7f7\"], [0.6, \"#e6f5d0\"], [0.7, \"#b8e186\"], [0.8, \"#7fbc41\"], [0.9, \"#4d9221\"], [1, \"#276419\"]], \"sequential\": [[0.0, \"#0d0887\"], [0.1111111111111111, \"#46039f\"], [0.2222222222222222, \"#7201a8\"], [0.3333333333333333, \"#9c179e\"], [0.4444444444444444, \"#bd3786\"], [0.5555555555555556, \"#d8576b\"], [0.6666666666666666, \"#ed7953\"], [0.7777777777777778, \"#fb9f3a\"], [0.8888888888888888, \"#fdca26\"], [1.0, \"#f0f921\"]], \"sequentialminus\": [[0.0, \"#0d0887\"], [0.1111111111111111, \"#46039f\"], [0.2222222222222222, \"#7201a8\"], [0.3333333333333333, \"#9c179e\"], [0.4444444444444444, \"#bd3786\"], [0.5555555555555556, \"#d8576b\"], [0.6666666666666666, \"#ed7953\"], [0.7777777777777778, \"#fb9f3a\"], [0.8888888888888888, \"#fdca26\"], [1.0, \"#f0f921\"]]}, \"colorway\": [\"#636efa\", \"#EF553B\", \"#00cc96\", \"#ab63fa\", \"#FFA15A\", \"#19d3f3\", \"#FF6692\", \"#B6E880\", \"#FF97FF\", \"#FECB52\"], \"font\": {\"color\": \"#2a3f5f\"}, \"geo\": {\"bgcolor\": \"white\", \"lakecolor\": \"white\", \"landcolor\": \"#E5ECF6\", \"showlakes\": true, \"showland\": true, \"subunitcolor\": \"white\"}, \"hoverlabel\": {\"align\": \"left\"}, \"hovermode\": \"closest\", \"mapbox\": {\"style\": \"light\"}, \"paper_bgcolor\": \"white\", \"plot_bgcolor\": \"#E5ECF6\", \"polar\": {\"angularaxis\": {\"gridcolor\": \"white\", \"linecolor\": \"white\", \"ticks\": \"\"}, \"bgcolor\": \"#E5ECF6\", \"radialaxis\": {\"gridcolor\": \"white\", \"linecolor\": \"white\", \"ticks\": \"\"}}, \"scene\": {\"xaxis\": {\"backgroundcolor\": \"#E5ECF6\", \"gridcolor\": \"white\", \"gridwidth\": 2, \"linecolor\": \"white\", \"showbackground\": true, \"ticks\": \"\", \"zerolinecolor\": \"white\"}, \"yaxis\": {\"backgroundcolor\": \"#E5ECF6\", \"gridcolor\": \"white\", \"gridwidth\": 2, \"linecolor\": \"white\", \"showbackground\": true, \"ticks\": \"\", \"zerolinecolor\": \"white\"}, \"zaxis\": {\"backgroundcolor\": \"#E5ECF6\", \"gridcolor\": \"white\", \"gridwidth\": 2, \"linecolor\": \"white\", \"showbackground\": true, \"ticks\": \"\", \"zerolinecolor\": \"white\"}}, \"shapedefaults\": {\"line\": {\"color\": \"#2a3f5f\"}}, \"ternary\": {\"aaxis\": {\"gridcolor\": \"white\", \"linecolor\": \"white\", \"ticks\": \"\"}, \"baxis\": {\"gridcolor\": \"white\", \"linecolor\": \"white\", \"ticks\": \"\"}, \"bgcolor\": \"#E5ECF6\", \"caxis\": {\"gridcolor\": \"white\", \"linecolor\": \"white\", \"ticks\": \"\"}}, \"title\": {\"x\": 0.05}, \"xaxis\": {\"automargin\": true, \"gridcolor\": \"white\", \"linecolor\": \"white\", \"ticks\": \"\", \"title\": {\"standoff\": 15}, \"zerolinecolor\": \"white\", \"zerolinewidth\": 2}, \"yaxis\": {\"automargin\": true, \"gridcolor\": \"white\", \"linecolor\": \"white\", \"ticks\": \"\", \"title\": {\"standoff\": 15}, \"zerolinecolor\": \"white\", \"zerolinewidth\": 2}}}, \"xaxis\": {\"anchor\": \"y\", \"domain\": [0.0, 1.0], \"title\": {\"text\": \"sample_time\"}}, \"yaxis\": {\"anchor\": \"x\", \"domain\": [0.0, 1.0], \"title\": {\"text\": \"visit_age_mo\"}}},                        {\"responsive\": true}                    ).then(function(){\n",
       "                            \n",
       "var gd = document.getElementById('96432b72-5b58-47e8-adc4-d238e3d1f830');\n",
       "var x = new MutationObserver(function (mutations, observer) {{\n",
       "        var display = window.getComputedStyle(gd).display;\n",
       "        if (!display || display === 'none') {{\n",
       "            console.log([gd, 'removed!']);\n",
       "            Plotly.purge(gd);\n",
       "            observer.disconnect();\n",
       "        }}\n",
       "}});\n",
       "\n",
       "// Listen for the removal of the full notebook cells\n",
       "var notebookContainer = gd.closest('#notebook-container');\n",
       "if (notebookContainer) {{\n",
       "    x.observe(notebookContainer, {childList: true});\n",
       "}}\n",
       "\n",
       "// Listen for the clearing of the current output cell\n",
       "var outputEl = gd.closest('.output');\n",
       "if (outputEl) {{\n",
       "    x.observe(outputEl, {childList: true});\n",
       "}}\n",
       "\n",
       "                        })                };                });            </script>        </div>"
      ]
     },
     "metadata": {},
     "output_type": "display_data"
    }
   ],
   "source": [
    "no_sick_df = merge_df[merge_df.sample_time != 'sick']\n",
    "X = no_sick_df.visit_age_mo.to_numpy().reshape(-1,1)\n",
    "\n",
    "labels = no_sick_df.sample_time.unique()\n",
    "kmeans = KMeans(n_clusters=6, random_state=666).fit(X)\n",
    "args_res = np.argsort(kmeans.cluster_centers_.reshape(-1))\n",
    "labels = list(map(lambda x: labels[np.where(args_res == x)[0][0]+2] ,kmeans.labels_))\n",
    "# labels = list(map(lambda x: np.where(args_res == x)[0][0] ,kmeans.labels_))\n",
    "no_sick_df = no_sick_df.assign(kmeans_label=labels)\n",
    "\n",
    "px.box(no_sick_df,x='sample_time',y='visit_age_mo',points='all')"
   ]
  },
  {
   "cell_type": "markdown",
   "metadata": {},
   "source": [
    "**Data Issue**:\n",
    "\n",
    "In the plot above the x-axis are the categories and the y-axis is the actuall `visit_age_mo` of the samples. \n",
    "\n",
    "<br></br>\n",
    "We can see that there are some overlaps between the different categories. In order to solve this will use `kmeans` algorithm to cluster points together according to the `visit_age_mo` and train the classification model on those categories."
   ]
  },
  {
   "cell_type": "code",
   "execution_count": 61,
   "metadata": {
    "ExecuteTime": {
     "end_time": "2021-01-25T13:54:53.263153Z",
     "start_time": "2021-01-25T13:54:53.007269Z"
    }
   },
   "outputs": [
    {
     "data": {
      "application/vnd.plotly.v1+json": {
       "config": {
        "plotlyServerURL": "https://plot.ly"
       },
       "data": [
        {
         "alignmentgroup": "True",
         "boxpoints": "all",
         "hovertemplate": "kmeans_label=%{x}<br>visit_age_mo=%{y}<extra></extra>",
         "legendgroup": "",
         "marker": {
          "color": "#636efa"
         },
         "name": "",
         "notched": false,
         "offsetgroup": "",
         "orientation": "v",
         "showlegend": false,
         "type": "box",
         "x": [
          "onemonth",
          "onemonth",
          "onemonth",
          "twomonth",
          "fourmonth",
          "sixmonth",
          "ninemonth",
          "onemonth",
          "onemonth",
          "onemonth",
          "twomonth",
          "fourmonth",
          "ninemonth",
          "oneyear",
          "onemonth",
          "onemonth",
          "twomonth",
          "fourmonth",
          "sixmonth",
          "oneyear",
          "onemonth",
          "twomonth",
          "twomonth",
          "fourmonth",
          "onemonth",
          "onemonth",
          "onemonth",
          "twomonth",
          "fourmonth",
          "ninemonth",
          "onemonth",
          "twomonth",
          "fourmonth",
          "sixmonth",
          "ninemonth",
          "oneyear",
          "onemonth",
          "onemonth",
          "twomonth",
          "sixmonth",
          "ninemonth",
          "oneyear",
          "onemonth",
          "twomonth",
          "sixmonth",
          "oneyear",
          "onemonth",
          "fourmonth",
          "ninemonth",
          "oneyear",
          "onemonth",
          "sixmonth",
          "ninemonth",
          "oneyear",
          "onemonth",
          "onemonth",
          "twomonth",
          "fourmonth",
          "sixmonth",
          "ninemonth",
          "onemonth",
          "onemonth",
          "twomonth",
          "fourmonth",
          "ninemonth",
          "oneyear",
          "onemonth",
          "onemonth",
          "twomonth",
          "fourmonth",
          "sixmonth",
          "onemonth",
          "onemonth",
          "twomonth",
          "fourmonth",
          "sixmonth",
          "ninemonth",
          "oneyear",
          "onemonth",
          "onemonth",
          "fourmonth",
          "ninemonth",
          "onemonth",
          "onemonth",
          "twomonth",
          "fourmonth",
          "sixmonth",
          "ninemonth",
          "oneyear",
          "onemonth",
          "onemonth",
          "fourmonth",
          "sixmonth",
          "oneyear",
          "onemonth",
          "onemonth",
          "onemonth",
          "twomonth",
          "oneyear",
          "onemonth",
          "onemonth",
          "onemonth",
          "twomonth",
          "fourmonth",
          "ninemonth",
          "onemonth",
          "onemonth",
          "fourmonth",
          "sixmonth",
          "ninemonth",
          "onemonth",
          "onemonth",
          "twomonth",
          "fourmonth",
          "sixmonth",
          "ninemonth",
          "onemonth",
          "onemonth",
          "onemonth",
          "twomonth",
          "fourmonth",
          "onemonth",
          "onemonth",
          "twomonth",
          "fourmonth",
          "onemonth",
          "onemonth",
          "onemonth",
          "twomonth",
          "fourmonth",
          "sixmonth",
          "oneyear",
          "onemonth",
          "onemonth",
          "ninemonth",
          "onemonth",
          "twomonth",
          "twomonth",
          "fourmonth",
          "sixmonth",
          "oneyear",
          "twomonth",
          "oneyear",
          "onemonth",
          "onemonth",
          "twomonth",
          "fourmonth",
          "sixmonth",
          "oneyear",
          "onemonth",
          "twomonth",
          "fourmonth",
          "onemonth",
          "twomonth",
          "sixmonth",
          "ninemonth",
          "onemonth",
          "onemonth",
          "twomonth",
          "fourmonth",
          "onemonth",
          "onemonth",
          "twomonth",
          "fourmonth",
          "sixmonth",
          "oneyear",
          "onemonth",
          "onemonth",
          "onemonth",
          "twomonth",
          "fourmonth",
          "sixmonth",
          "ninemonth",
          "onemonth",
          "fourmonth",
          "ninemonth",
          "oneyear",
          "onemonth",
          "twomonth",
          "sixmonth",
          "ninemonth",
          "oneyear",
          "onemonth",
          "onemonth",
          "fourmonth",
          "sixmonth",
          "ninemonth",
          "oneyear",
          "onemonth",
          "onemonth",
          "fourmonth",
          "sixmonth",
          "ninemonth",
          "oneyear",
          "onemonth",
          "twomonth",
          "fourmonth",
          "sixmonth",
          "ninemonth",
          "oneyear",
          "onemonth",
          "onemonth",
          "onemonth",
          "twomonth",
          "onemonth",
          "onemonth",
          "twomonth",
          "fourmonth",
          "sixmonth",
          "onemonth",
          "onemonth",
          "twomonth",
          "onemonth",
          "twomonth",
          "sixmonth",
          "ninemonth",
          "onemonth",
          "onemonth",
          "twomonth",
          "ninemonth",
          "oneyear",
          "onemonth",
          "twomonth",
          "fourmonth",
          "sixmonth",
          "ninemonth",
          "oneyear",
          "onemonth",
          "twomonth",
          "fourmonth",
          "sixmonth",
          "ninemonth",
          "onemonth",
          "onemonth",
          "twomonth",
          "sixmonth",
          "ninemonth",
          "onemonth",
          "twomonth",
          "onemonth",
          "onemonth",
          "ninemonth",
          "oneyear",
          "onemonth",
          "onemonth",
          "twomonth",
          "sixmonth",
          "ninemonth",
          "oneyear",
          "onemonth",
          "onemonth",
          "onemonth",
          "twomonth",
          "fourmonth",
          "sixmonth",
          "ninemonth",
          "onemonth",
          "onemonth",
          "twomonth",
          "sixmonth",
          "ninemonth",
          "oneyear",
          "onemonth",
          "onemonth",
          "fourmonth",
          "ninemonth",
          "sixmonth",
          "ninemonth",
          "oneyear",
          "onemonth",
          "onemonth",
          "twomonth",
          "fourmonth",
          "sixmonth",
          "ninemonth",
          "oneyear",
          "onemonth",
          "onemonth",
          "sixmonth",
          "ninemonth",
          "oneyear",
          "twomonth",
          "fourmonth",
          "sixmonth",
          "oneyear",
          "onemonth",
          "twomonth",
          "fourmonth",
          "ninemonth",
          "onemonth",
          "onemonth",
          "twomonth",
          "ninemonth",
          "oneyear",
          "onemonth",
          "onemonth",
          "twomonth",
          "sixmonth",
          "oneyear",
          "oneyear",
          "onemonth",
          "twomonth",
          "fourmonth",
          "sixmonth",
          "ninemonth",
          "twomonth",
          "sixmonth",
          "ninemonth",
          "oneyear",
          "onemonth",
          "sixmonth",
          "onemonth",
          "onemonth",
          "onemonth",
          "ninemonth",
          "onemonth",
          "onemonth",
          "twomonth",
          "onemonth",
          "onemonth",
          "onemonth",
          "twomonth",
          "sixmonth",
          "ninemonth",
          "oneyear",
          "onemonth",
          "twomonth",
          "sixmonth",
          "ninemonth",
          "oneyear",
          "fourmonth",
          "fourmonth",
          "sixmonth",
          "oneyear",
          "onemonth",
          "twomonth",
          "fourmonth",
          "ninemonth",
          "oneyear",
          "onemonth",
          "onemonth",
          "fourmonth",
          "ninemonth",
          "oneyear",
          "onemonth",
          "fourmonth",
          "sixmonth",
          "ninemonth",
          "onemonth",
          "twomonth",
          "fourmonth",
          "sixmonth",
          "ninemonth",
          "oneyear",
          "onemonth",
          "fourmonth",
          "sixmonth",
          "onemonth",
          "onemonth",
          "twomonth",
          "fourmonth",
          "sixmonth",
          "ninemonth",
          "onemonth",
          "fourmonth",
          "ninemonth",
          "onemonth",
          "onemonth",
          "twomonth",
          "sixmonth",
          "ninemonth",
          "oneyear",
          "onemonth",
          "onemonth",
          "onemonth",
          "twomonth",
          "fourmonth",
          "onemonth",
          "onemonth",
          "onemonth",
          "fourmonth",
          "sixmonth",
          "ninemonth",
          "oneyear",
          "onemonth",
          "onemonth",
          "oneyear",
          "onemonth",
          "onemonth",
          "onemonth",
          "oneyear",
          "onemonth",
          "onemonth",
          "twomonth",
          "sixmonth",
          "ninemonth",
          "onemonth",
          "twomonth",
          "fourmonth",
          "sixmonth",
          "ninemonth",
          "twomonth",
          "fourmonth",
          "sixmonth",
          "ninemonth",
          "oneyear",
          "onemonth",
          "onemonth",
          "onemonth",
          "twomonth",
          "fourmonth",
          "ninemonth",
          "onemonth",
          "twomonth",
          "fourmonth",
          "sixmonth",
          "oneyear",
          "onemonth",
          "twomonth",
          "fourmonth",
          "sixmonth",
          "ninemonth",
          "oneyear",
          "onemonth",
          "onemonth",
          "twomonth",
          "sixmonth",
          "ninemonth",
          "oneyear",
          "onemonth",
          "onemonth",
          "fourmonth",
          "sixmonth",
          "ninemonth",
          "onemonth",
          "twomonth",
          "fourmonth",
          "sixmonth",
          "onemonth",
          "twomonth",
          "ninemonth",
          "twomonth",
          "twomonth",
          "fourmonth",
          "oneyear",
          "onemonth",
          "onemonth",
          "twomonth",
          "fourmonth",
          "onemonth",
          "twomonth",
          "sixmonth",
          "onemonth",
          "onemonth",
          "twomonth",
          "fourmonth",
          "sixmonth",
          "sixmonth",
          "ninemonth",
          "oneyear",
          "onemonth",
          "onemonth",
          "onemonth",
          "twomonth",
          "fourmonth",
          "sixmonth",
          "ninemonth",
          "twomonth",
          "fourmonth",
          "ninemonth",
          "oneyear",
          "onemonth",
          "onemonth",
          "twomonth",
          "fourmonth",
          "sixmonth",
          "onemonth",
          "onemonth",
          "onemonth",
          "twomonth",
          "fourmonth",
          "sixmonth",
          "ninemonth",
          "oneyear",
          "onemonth",
          "twomonth",
          "fourmonth",
          "oneyear",
          "onemonth",
          "twomonth",
          "sixmonth",
          "ninemonth",
          "onemonth",
          "onemonth",
          "twomonth",
          "fourmonth",
          "sixmonth",
          "ninemonth",
          "oneyear",
          "onemonth",
          "onemonth",
          "twomonth",
          "fourmonth",
          "onemonth",
          "twomonth",
          "fourmonth",
          "onemonth",
          "onemonth",
          "fourmonth",
          "sixmonth",
          "ninemonth",
          "onemonth",
          "onemonth",
          "twomonth",
          "fourmonth",
          "sixmonth",
          "ninemonth",
          "oneyear",
          "onemonth",
          "fourmonth",
          "onemonth",
          "onemonth",
          "twomonth",
          "ninemonth",
          "onemonth",
          "onemonth",
          "onemonth",
          "twomonth",
          "onemonth",
          "twomonth",
          "ninemonth",
          "onemonth",
          "onemonth",
          "fourmonth",
          "onemonth",
          "onemonth",
          "onemonth",
          "twomonth",
          "fourmonth",
          "sixmonth",
          "ninemonth",
          "onemonth",
          "onemonth",
          "twomonth",
          "fourmonth",
          "onemonth",
          "onemonth",
          "twomonth",
          "sixmonth",
          "onemonth",
          "onemonth",
          "sixmonth",
          "onemonth",
          "twomonth",
          "fourmonth",
          "onemonth",
          "twomonth",
          "fourmonth",
          "sixmonth",
          "ninemonth",
          "onemonth",
          "twomonth",
          "fourmonth",
          "ninemonth",
          "onemonth",
          "onemonth",
          "twomonth",
          "fourmonth",
          "ninemonth",
          "oneyear",
          "onemonth",
          "onemonth",
          "onemonth",
          "onemonth",
          "fourmonth",
          "sixmonth",
          "oneyear",
          "onemonth",
          "onemonth",
          "twomonth",
          "fourmonth",
          "sixmonth",
          "onemonth",
          "twomonth",
          "sixmonth",
          "ninemonth",
          "twomonth",
          "fourmonth",
          "sixmonth",
          "ninemonth",
          "onemonth",
          "twomonth",
          "sixmonth",
          "ninemonth",
          "oneyear",
          "onemonth",
          "onemonth",
          "twomonth",
          "fourmonth",
          "oneyear",
          "onemonth",
          "onemonth",
          "onemonth",
          "twomonth",
          "fourmonth",
          "sixmonth",
          "ninemonth",
          "oneyear",
          "twomonth",
          "fourmonth",
          "ninemonth",
          "onemonth",
          "fourmonth",
          "ninemonth",
          "onemonth",
          "onemonth",
          "onemonth",
          "twomonth",
          "fourmonth",
          "sixmonth",
          "oneyear",
          "twomonth",
          "fourmonth",
          "ninemonth",
          "onemonth",
          "twomonth",
          "fourmonth",
          "sixmonth",
          "ninemonth",
          "oneyear",
          "onemonth",
          "twomonth",
          "onemonth",
          "twomonth",
          "fourmonth",
          "sixmonth",
          "ninemonth",
          "oneyear",
          "onemonth",
          "onemonth",
          "twomonth",
          "oneyear",
          "onemonth",
          "fourmonth",
          "sixmonth",
          "oneyear",
          "onemonth",
          "onemonth",
          "twomonth",
          "ninemonth",
          "onemonth",
          "onemonth",
          "twomonth",
          "fourmonth",
          "sixmonth",
          "oneyear",
          "onemonth",
          "twomonth",
          "fourmonth",
          "sixmonth",
          "onemonth",
          "onemonth",
          "onemonth",
          "twomonth",
          "sixmonth",
          "onemonth",
          "twomonth",
          "ninemonth",
          "onemonth",
          "twomonth",
          "fourmonth",
          "sixmonth",
          "ninemonth",
          "onemonth",
          "onemonth",
          "sixmonth",
          "onemonth",
          "onemonth",
          "twomonth",
          "onemonth",
          "onemonth",
          "twomonth",
          "fourmonth",
          "ninemonth",
          "onemonth",
          "onemonth",
          "fourmonth",
          "ninemonth",
          "onemonth",
          "onemonth",
          "onemonth",
          "twomonth",
          "onemonth",
          "twomonth",
          "fourmonth",
          "sixmonth",
          "onemonth",
          "onemonth",
          "twomonth",
          "fourmonth",
          "sixmonth",
          "ninemonth",
          "onemonth",
          "onemonth",
          "twomonth",
          "fourmonth",
          "sixmonth",
          "onemonth",
          "onemonth",
          "onemonth",
          "ninemonth",
          "onemonth",
          "onemonth",
          "onemonth",
          "twomonth",
          "fourmonth",
          "sixmonth",
          "ninemonth",
          "oneyear",
          "onemonth",
          "twomonth",
          "sixmonth",
          "onemonth",
          "onemonth",
          "twomonth",
          "fourmonth",
          "ninemonth",
          "onemonth",
          "onemonth",
          "twomonth",
          "twomonth",
          "sixmonth",
          "onemonth",
          "twomonth",
          "sixmonth",
          "ninemonth",
          "onemonth",
          "onemonth",
          "onemonth",
          "sixmonth",
          "ninemonth",
          "oneyear",
          "onemonth",
          "onemonth",
          "onemonth",
          "twomonth",
          "fourmonth",
          "oneyear",
          "onemonth",
          "onemonth",
          "onemonth",
          "twomonth",
          "onemonth",
          "fourmonth",
          "sixmonth",
          "ninemonth",
          "oneyear",
          "onemonth",
          "twomonth",
          "sixmonth",
          "oneyear",
          "onemonth",
          "onemonth",
          "twomonth",
          "ninemonth",
          "onemonth",
          "twomonth",
          "fourmonth",
          "sixmonth",
          "oneyear",
          "onemonth",
          "onemonth",
          "onemonth",
          "twomonth",
          "fourmonth",
          "sixmonth",
          "oneyear",
          "onemonth",
          "onemonth",
          "onemonth",
          "twomonth",
          "fourmonth",
          "sixmonth"
         ],
         "x0": " ",
         "xaxis": "x",
         "y": [
          0.2,
          0.5,
          1,
          2.1,
          4.2,
          6.5,
          9.2,
          0.2,
          0.4,
          1.1,
          2.2,
          4,
          9.3,
          12.1,
          0.7,
          1.3,
          1.8,
          4.1,
          6.6,
          12.4,
          0.7,
          1.4,
          2.1,
          4.1,
          0.1,
          0.4,
          1.1,
          2.6,
          4.3,
          9.2,
          0.1,
          2,
          4.1,
          6.1,
          9.4,
          12.1,
          0.3,
          0.4,
          1.9,
          6.1,
          9.1,
          12.3,
          1,
          2,
          6.3,
          12.4,
          0.4,
          4.2,
          9,
          12.1,
          1.1,
          6.2,
          9.7,
          12.2,
          0.1,
          0.5,
          2,
          4.1,
          7,
          9.3,
          0.2,
          1.1,
          1.9,
          4.1,
          9.1,
          12.6,
          0.3,
          0.5,
          1.9,
          4.4,
          6.1,
          0.5,
          1.1,
          2,
          4.1,
          6.2,
          8.9,
          11.8,
          0.6,
          1,
          4.2,
          9.2,
          0.4,
          1.3,
          2,
          4,
          6,
          8.4,
          12.1,
          0.1,
          0.5,
          4,
          6.1,
          12.7,
          0.2,
          0.4,
          0.9,
          2,
          12.8,
          0.3,
          0.5,
          1.1,
          2,
          4.1,
          9.1,
          0.4,
          1.1,
          4.1,
          6.1,
          9.5,
          0.2,
          0.7,
          1.8,
          3.9,
          6.5,
          9.2,
          0.1,
          0.5,
          1.1,
          2.1,
          3.7,
          0.5,
          1,
          2.1,
          3.9,
          0.2,
          0.4,
          1.1,
          2.2,
          4.1,
          6.1,
          12.1,
          0.1,
          1,
          9.3,
          0.2,
          1.4,
          2.2,
          4.1,
          6.7,
          12.9,
          1.9,
          12.2,
          0.5,
          1,
          2.2,
          3.9,
          6,
          12.4,
          0.5,
          2.1,
          4.8,
          1,
          2.1,
          6.7,
          9,
          0.6,
          1,
          2,
          4,
          0.2,
          0.9,
          2,
          5,
          7.1,
          13.1,
          0.1,
          0.3,
          0.9,
          2.3,
          4.2,
          6.2,
          9.6,
          0.4,
          4.1,
          9.6,
          12.6,
          0.1,
          2,
          6.2,
          9.1,
          12.6,
          0.6,
          1.1,
          4.3,
          6.2,
          9.2,
          12,
          0.5,
          1.1,
          4.1,
          6.6,
          9.4,
          12.3,
          1,
          2.3,
          4,
          6.2,
          9.1,
          12.6,
          0.2,
          0.5,
          1.1,
          2,
          0.1,
          0.6,
          2.2,
          4.1,
          6.4,
          0.4,
          0.8,
          2.1,
          0.4,
          2.2,
          6.4,
          9,
          0.4,
          1,
          2.1,
          9.2,
          12.2,
          0.9,
          2.1,
          4,
          6.7,
          9.1,
          12.3,
          0.9,
          1.9,
          4,
          6.3,
          9.7,
          0.2,
          0.7,
          1.9,
          6,
          9.2,
          1.1,
          1.8,
          0.2,
          0.4,
          9.5,
          12.1,
          0.5,
          0.9,
          2,
          6,
          9,
          12.2,
          0.1,
          0.5,
          1.2,
          2.3,
          4.1,
          6.1,
          9.2,
          0.5,
          1,
          2,
          6.7,
          9,
          12.5,
          0.5,
          1.1,
          4.1,
          9.1,
          6.6,
          9.1,
          13,
          0.3,
          1,
          1.9,
          3.9,
          6.3,
          9.2,
          12.1,
          0.4,
          0.9,
          6.4,
          9.3,
          12.1,
          1.7,
          4.1,
          6.4,
          12.2,
          0.5,
          1.9,
          3.9,
          9.2,
          0.2,
          0.9,
          2,
          8.5,
          12.4,
          0.4,
          0.9,
          2,
          6.1,
          11,
          12.1,
          1,
          2.2,
          4.2,
          6.3,
          9.2,
          1.9,
          6.3,
          9.3,
          12.1,
          0.4,
          6.2,
          0.2,
          0.5,
          1.1,
          9.2,
          0.1,
          1.1,
          1.9,
          0.2,
          0.4,
          1.1,
          2.1,
          6.2,
          9.4,
          13.3,
          0.8,
          1.9,
          6.5,
          9.3,
          12.5,
          3.2,
          4.1,
          5.9,
          12.1,
          1.1,
          2.2,
          4,
          9.1,
          12.1,
          0.3,
          1,
          4.2,
          9.5,
          12.7,
          0.9,
          4.1,
          6.3,
          9.4,
          0.8,
          2,
          4.2,
          6.2,
          9.4,
          12.3,
          0.5,
          4,
          6.6,
          0.6,
          1,
          2.1,
          4.1,
          6.3,
          9,
          0.5,
          4.1,
          9.2,
          0.1,
          0.6,
          1.9,
          6.1,
          9.1,
          12.3,
          0.4,
          0.6,
          1.1,
          2,
          4,
          0.2,
          0.4,
          1.1,
          4.3,
          6.1,
          9.3,
          12.2,
          0.2,
          0.4,
          12.3,
          0.2,
          0.4,
          0.9,
          12.1,
          0.5,
          1.3,
          2,
          6.2,
          9.1,
          1.1,
          2,
          4.2,
          6.2,
          9.2,
          2.1,
          4.1,
          6.2,
          9.2,
          12.6,
          0.2,
          0.4,
          1,
          2.3,
          4.6,
          9.2,
          1.1,
          1.8,
          4.1,
          6.3,
          12.2,
          0.4,
          2,
          4.1,
          6.4,
          9.2,
          12.4,
          0.4,
          1.1,
          1.8,
          7.3,
          9.2,
          12.5,
          0.2,
          0.5,
          4.2,
          7.6,
          9.7,
          1.1,
          2,
          4.1,
          6.1,
          1,
          2.2,
          9.5,
          1.4,
          2.4,
          4,
          12.6,
          0.2,
          0.9,
          1.8,
          4.1,
          0.9,
          2,
          6.1,
          0.4,
          1,
          2,
          4.1,
          6.2,
          6.2,
          9.4,
          12.5,
          0.1,
          0.5,
          1,
          2.3,
          4.5,
          6.6,
          9.8,
          2,
          4.3,
          9.9,
          12.2,
          0.7,
          1.1,
          1.9,
          3.9,
          6.4,
          0.2,
          0.4,
          1.1,
          2.3,
          4.3,
          6.2,
          9.3,
          12.2,
          1.1,
          2.2,
          4.3,
          11.7,
          1,
          2.1,
          6.5,
          9,
          0.4,
          1.1,
          2.4,
          4.5,
          6.3,
          9.1,
          12.6,
          0.1,
          1.2,
          2.1,
          4.1,
          1,
          1.9,
          4.3,
          0.5,
          1,
          4.2,
          6.1,
          9.1,
          0.4,
          0.9,
          2,
          4.2,
          7,
          9.2,
          12.3,
          1.2,
          4.4,
          0.3,
          1.1,
          1.9,
          9.3,
          0.2,
          0.4,
          1.1,
          2.1,
          0.5,
          2.2,
          9,
          0.2,
          0.5,
          4.1,
          0.2,
          0.4,
          0.9,
          2,
          4.1,
          6.3,
          9.1,
          0.4,
          0.9,
          2.1,
          4,
          0.5,
          0.9,
          2.1,
          7,
          0.3,
          1,
          6.2,
          1.2,
          1.9,
          4.1,
          0.2,
          2.3,
          4.1,
          6.2,
          9.1,
          0.2,
          2.3,
          4,
          9.1,
          0.3,
          1.2,
          2.3,
          4,
          8.6,
          12.3,
          0.3,
          0.5,
          0.3,
          1.1,
          4.1,
          6.2,
          12.3,
          0.2,
          0.4,
          2,
          3.9,
          6.2,
          0.6,
          2.1,
          6.4,
          9,
          2.1,
          3.9,
          6.5,
          9.2,
          1.1,
          2,
          6.2,
          9.1,
          12.1,
          0.5,
          1,
          2.1,
          4.1,
          12.5,
          0.2,
          0.6,
          0.9,
          1.9,
          4,
          6.3,
          9.3,
          12.3,
          2.9,
          3.9,
          9.3,
          1.1,
          3.9,
          9.2,
          0.1,
          0.5,
          1,
          2,
          4.2,
          6.2,
          12,
          2.5,
          4.2,
          9.7,
          0.9,
          1.9,
          4,
          6,
          8.5,
          12.2,
          1,
          1.6,
          0.9,
          2,
          4.2,
          6.2,
          9.2,
          12.2,
          0.4,
          1.1,
          2.2,
          12.2,
          0.5,
          4.1,
          6.2,
          12.3,
          0.4,
          0.9,
          2,
          8.9,
          0.1,
          0.7,
          1.6,
          4.1,
          6.4,
          12.2,
          0.5,
          2,
          4,
          6.2,
          0.3,
          0.5,
          1.1,
          2.1,
          5.6,
          1.1,
          2.1,
          9.1,
          1.1,
          1.9,
          4,
          6.2,
          9,
          0.2,
          0.9,
          6.2,
          0.3,
          1,
          2.1,
          0.5,
          1.1,
          2.1,
          4,
          8.8,
          0.4,
          0.9,
          4.3,
          9.6,
          0.2,
          0.4,
          1,
          1.8,
          1.1,
          2.1,
          4.1,
          6.1,
          0.5,
          1.3,
          2.4,
          4.5,
          7,
          9.8,
          0.3,
          0.8,
          1.9,
          3.9,
          7,
          0.2,
          0.5,
          0.9,
          9.1,
          0.2,
          0.5,
          1.1,
          2.1,
          4.1,
          6.4,
          9.5,
          12.2,
          0.9,
          2,
          6.4,
          0.4,
          0.9,
          2,
          4.2,
          9.1,
          0.4,
          1.3,
          2.1,
          2.1,
          6.2,
          1.1,
          2,
          7.6,
          9.5,
          0.1,
          0.5,
          1,
          6,
          9,
          11.5,
          0.1,
          0.4,
          0.8,
          2,
          4,
          12.4,
          0.1,
          0.3,
          1,
          2.2,
          0.2,
          4,
          6.2,
          9.2,
          12.6,
          0.4,
          2.1,
          6.2,
          12.2,
          0.5,
          1,
          2.1,
          9.2,
          1.1,
          2.1,
          4,
          6.3,
          12.9,
          0.2,
          0.7,
          1.1,
          2.1,
          3.9,
          6.4,
          12.1,
          0.2,
          0.4,
          1.1,
          2,
          4.7,
          6.3
         ],
         "y0": " ",
         "yaxis": "y"
        }
       ],
       "layout": {
        "boxmode": "group",
        "legend": {
         "tracegroupgap": 0
        },
        "margin": {
         "t": 60
        },
        "template": {
         "data": {
          "bar": [
           {
            "error_x": {
             "color": "#2a3f5f"
            },
            "error_y": {
             "color": "#2a3f5f"
            },
            "marker": {
             "line": {
              "color": "#E5ECF6",
              "width": 0.5
             }
            },
            "type": "bar"
           }
          ],
          "barpolar": [
           {
            "marker": {
             "line": {
              "color": "#E5ECF6",
              "width": 0.5
             }
            },
            "type": "barpolar"
           }
          ],
          "carpet": [
           {
            "aaxis": {
             "endlinecolor": "#2a3f5f",
             "gridcolor": "white",
             "linecolor": "white",
             "minorgridcolor": "white",
             "startlinecolor": "#2a3f5f"
            },
            "baxis": {
             "endlinecolor": "#2a3f5f",
             "gridcolor": "white",
             "linecolor": "white",
             "minorgridcolor": "white",
             "startlinecolor": "#2a3f5f"
            },
            "type": "carpet"
           }
          ],
          "choropleth": [
           {
            "colorbar": {
             "outlinewidth": 0,
             "ticks": ""
            },
            "type": "choropleth"
           }
          ],
          "contour": [
           {
            "colorbar": {
             "outlinewidth": 0,
             "ticks": ""
            },
            "colorscale": [
             [
              0,
              "#0d0887"
             ],
             [
              0.1111111111111111,
              "#46039f"
             ],
             [
              0.2222222222222222,
              "#7201a8"
             ],
             [
              0.3333333333333333,
              "#9c179e"
             ],
             [
              0.4444444444444444,
              "#bd3786"
             ],
             [
              0.5555555555555556,
              "#d8576b"
             ],
             [
              0.6666666666666666,
              "#ed7953"
             ],
             [
              0.7777777777777778,
              "#fb9f3a"
             ],
             [
              0.8888888888888888,
              "#fdca26"
             ],
             [
              1,
              "#f0f921"
             ]
            ],
            "type": "contour"
           }
          ],
          "contourcarpet": [
           {
            "colorbar": {
             "outlinewidth": 0,
             "ticks": ""
            },
            "type": "contourcarpet"
           }
          ],
          "heatmap": [
           {
            "colorbar": {
             "outlinewidth": 0,
             "ticks": ""
            },
            "colorscale": [
             [
              0,
              "#0d0887"
             ],
             [
              0.1111111111111111,
              "#46039f"
             ],
             [
              0.2222222222222222,
              "#7201a8"
             ],
             [
              0.3333333333333333,
              "#9c179e"
             ],
             [
              0.4444444444444444,
              "#bd3786"
             ],
             [
              0.5555555555555556,
              "#d8576b"
             ],
             [
              0.6666666666666666,
              "#ed7953"
             ],
             [
              0.7777777777777778,
              "#fb9f3a"
             ],
             [
              0.8888888888888888,
              "#fdca26"
             ],
             [
              1,
              "#f0f921"
             ]
            ],
            "type": "heatmap"
           }
          ],
          "heatmapgl": [
           {
            "colorbar": {
             "outlinewidth": 0,
             "ticks": ""
            },
            "colorscale": [
             [
              0,
              "#0d0887"
             ],
             [
              0.1111111111111111,
              "#46039f"
             ],
             [
              0.2222222222222222,
              "#7201a8"
             ],
             [
              0.3333333333333333,
              "#9c179e"
             ],
             [
              0.4444444444444444,
              "#bd3786"
             ],
             [
              0.5555555555555556,
              "#d8576b"
             ],
             [
              0.6666666666666666,
              "#ed7953"
             ],
             [
              0.7777777777777778,
              "#fb9f3a"
             ],
             [
              0.8888888888888888,
              "#fdca26"
             ],
             [
              1,
              "#f0f921"
             ]
            ],
            "type": "heatmapgl"
           }
          ],
          "histogram": [
           {
            "marker": {
             "colorbar": {
              "outlinewidth": 0,
              "ticks": ""
             }
            },
            "type": "histogram"
           }
          ],
          "histogram2d": [
           {
            "colorbar": {
             "outlinewidth": 0,
             "ticks": ""
            },
            "colorscale": [
             [
              0,
              "#0d0887"
             ],
             [
              0.1111111111111111,
              "#46039f"
             ],
             [
              0.2222222222222222,
              "#7201a8"
             ],
             [
              0.3333333333333333,
              "#9c179e"
             ],
             [
              0.4444444444444444,
              "#bd3786"
             ],
             [
              0.5555555555555556,
              "#d8576b"
             ],
             [
              0.6666666666666666,
              "#ed7953"
             ],
             [
              0.7777777777777778,
              "#fb9f3a"
             ],
             [
              0.8888888888888888,
              "#fdca26"
             ],
             [
              1,
              "#f0f921"
             ]
            ],
            "type": "histogram2d"
           }
          ],
          "histogram2dcontour": [
           {
            "colorbar": {
             "outlinewidth": 0,
             "ticks": ""
            },
            "colorscale": [
             [
              0,
              "#0d0887"
             ],
             [
              0.1111111111111111,
              "#46039f"
             ],
             [
              0.2222222222222222,
              "#7201a8"
             ],
             [
              0.3333333333333333,
              "#9c179e"
             ],
             [
              0.4444444444444444,
              "#bd3786"
             ],
             [
              0.5555555555555556,
              "#d8576b"
             ],
             [
              0.6666666666666666,
              "#ed7953"
             ],
             [
              0.7777777777777778,
              "#fb9f3a"
             ],
             [
              0.8888888888888888,
              "#fdca26"
             ],
             [
              1,
              "#f0f921"
             ]
            ],
            "type": "histogram2dcontour"
           }
          ],
          "mesh3d": [
           {
            "colorbar": {
             "outlinewidth": 0,
             "ticks": ""
            },
            "type": "mesh3d"
           }
          ],
          "parcoords": [
           {
            "line": {
             "colorbar": {
              "outlinewidth": 0,
              "ticks": ""
             }
            },
            "type": "parcoords"
           }
          ],
          "pie": [
           {
            "automargin": true,
            "type": "pie"
           }
          ],
          "scatter": [
           {
            "marker": {
             "colorbar": {
              "outlinewidth": 0,
              "ticks": ""
             }
            },
            "type": "scatter"
           }
          ],
          "scatter3d": [
           {
            "line": {
             "colorbar": {
              "outlinewidth": 0,
              "ticks": ""
             }
            },
            "marker": {
             "colorbar": {
              "outlinewidth": 0,
              "ticks": ""
             }
            },
            "type": "scatter3d"
           }
          ],
          "scattercarpet": [
           {
            "marker": {
             "colorbar": {
              "outlinewidth": 0,
              "ticks": ""
             }
            },
            "type": "scattercarpet"
           }
          ],
          "scattergeo": [
           {
            "marker": {
             "colorbar": {
              "outlinewidth": 0,
              "ticks": ""
             }
            },
            "type": "scattergeo"
           }
          ],
          "scattergl": [
           {
            "marker": {
             "colorbar": {
              "outlinewidth": 0,
              "ticks": ""
             }
            },
            "type": "scattergl"
           }
          ],
          "scattermapbox": [
           {
            "marker": {
             "colorbar": {
              "outlinewidth": 0,
              "ticks": ""
             }
            },
            "type": "scattermapbox"
           }
          ],
          "scatterpolar": [
           {
            "marker": {
             "colorbar": {
              "outlinewidth": 0,
              "ticks": ""
             }
            },
            "type": "scatterpolar"
           }
          ],
          "scatterpolargl": [
           {
            "marker": {
             "colorbar": {
              "outlinewidth": 0,
              "ticks": ""
             }
            },
            "type": "scatterpolargl"
           }
          ],
          "scatterternary": [
           {
            "marker": {
             "colorbar": {
              "outlinewidth": 0,
              "ticks": ""
             }
            },
            "type": "scatterternary"
           }
          ],
          "surface": [
           {
            "colorbar": {
             "outlinewidth": 0,
             "ticks": ""
            },
            "colorscale": [
             [
              0,
              "#0d0887"
             ],
             [
              0.1111111111111111,
              "#46039f"
             ],
             [
              0.2222222222222222,
              "#7201a8"
             ],
             [
              0.3333333333333333,
              "#9c179e"
             ],
             [
              0.4444444444444444,
              "#bd3786"
             ],
             [
              0.5555555555555556,
              "#d8576b"
             ],
             [
              0.6666666666666666,
              "#ed7953"
             ],
             [
              0.7777777777777778,
              "#fb9f3a"
             ],
             [
              0.8888888888888888,
              "#fdca26"
             ],
             [
              1,
              "#f0f921"
             ]
            ],
            "type": "surface"
           }
          ],
          "table": [
           {
            "cells": {
             "fill": {
              "color": "#EBF0F8"
             },
             "line": {
              "color": "white"
             }
            },
            "header": {
             "fill": {
              "color": "#C8D4E3"
             },
             "line": {
              "color": "white"
             }
            },
            "type": "table"
           }
          ]
         },
         "layout": {
          "annotationdefaults": {
           "arrowcolor": "#2a3f5f",
           "arrowhead": 0,
           "arrowwidth": 1
          },
          "coloraxis": {
           "colorbar": {
            "outlinewidth": 0,
            "ticks": ""
           }
          },
          "colorscale": {
           "diverging": [
            [
             0,
             "#8e0152"
            ],
            [
             0.1,
             "#c51b7d"
            ],
            [
             0.2,
             "#de77ae"
            ],
            [
             0.3,
             "#f1b6da"
            ],
            [
             0.4,
             "#fde0ef"
            ],
            [
             0.5,
             "#f7f7f7"
            ],
            [
             0.6,
             "#e6f5d0"
            ],
            [
             0.7,
             "#b8e186"
            ],
            [
             0.8,
             "#7fbc41"
            ],
            [
             0.9,
             "#4d9221"
            ],
            [
             1,
             "#276419"
            ]
           ],
           "sequential": [
            [
             0,
             "#0d0887"
            ],
            [
             0.1111111111111111,
             "#46039f"
            ],
            [
             0.2222222222222222,
             "#7201a8"
            ],
            [
             0.3333333333333333,
             "#9c179e"
            ],
            [
             0.4444444444444444,
             "#bd3786"
            ],
            [
             0.5555555555555556,
             "#d8576b"
            ],
            [
             0.6666666666666666,
             "#ed7953"
            ],
            [
             0.7777777777777778,
             "#fb9f3a"
            ],
            [
             0.8888888888888888,
             "#fdca26"
            ],
            [
             1,
             "#f0f921"
            ]
           ],
           "sequentialminus": [
            [
             0,
             "#0d0887"
            ],
            [
             0.1111111111111111,
             "#46039f"
            ],
            [
             0.2222222222222222,
             "#7201a8"
            ],
            [
             0.3333333333333333,
             "#9c179e"
            ],
            [
             0.4444444444444444,
             "#bd3786"
            ],
            [
             0.5555555555555556,
             "#d8576b"
            ],
            [
             0.6666666666666666,
             "#ed7953"
            ],
            [
             0.7777777777777778,
             "#fb9f3a"
            ],
            [
             0.8888888888888888,
             "#fdca26"
            ],
            [
             1,
             "#f0f921"
            ]
           ]
          },
          "colorway": [
           "#636efa",
           "#EF553B",
           "#00cc96",
           "#ab63fa",
           "#FFA15A",
           "#19d3f3",
           "#FF6692",
           "#B6E880",
           "#FF97FF",
           "#FECB52"
          ],
          "font": {
           "color": "#2a3f5f"
          },
          "geo": {
           "bgcolor": "white",
           "lakecolor": "white",
           "landcolor": "#E5ECF6",
           "showlakes": true,
           "showland": true,
           "subunitcolor": "white"
          },
          "hoverlabel": {
           "align": "left"
          },
          "hovermode": "closest",
          "mapbox": {
           "style": "light"
          },
          "paper_bgcolor": "white",
          "plot_bgcolor": "#E5ECF6",
          "polar": {
           "angularaxis": {
            "gridcolor": "white",
            "linecolor": "white",
            "ticks": ""
           },
           "bgcolor": "#E5ECF6",
           "radialaxis": {
            "gridcolor": "white",
            "linecolor": "white",
            "ticks": ""
           }
          },
          "scene": {
           "xaxis": {
            "backgroundcolor": "#E5ECF6",
            "gridcolor": "white",
            "gridwidth": 2,
            "linecolor": "white",
            "showbackground": true,
            "ticks": "",
            "zerolinecolor": "white"
           },
           "yaxis": {
            "backgroundcolor": "#E5ECF6",
            "gridcolor": "white",
            "gridwidth": 2,
            "linecolor": "white",
            "showbackground": true,
            "ticks": "",
            "zerolinecolor": "white"
           },
           "zaxis": {
            "backgroundcolor": "#E5ECF6",
            "gridcolor": "white",
            "gridwidth": 2,
            "linecolor": "white",
            "showbackground": true,
            "ticks": "",
            "zerolinecolor": "white"
           }
          },
          "shapedefaults": {
           "line": {
            "color": "#2a3f5f"
           }
          },
          "ternary": {
           "aaxis": {
            "gridcolor": "white",
            "linecolor": "white",
            "ticks": ""
           },
           "baxis": {
            "gridcolor": "white",
            "linecolor": "white",
            "ticks": ""
           },
           "bgcolor": "#E5ECF6",
           "caxis": {
            "gridcolor": "white",
            "linecolor": "white",
            "ticks": ""
           }
          },
          "title": {
           "x": 0.05
          },
          "xaxis": {
           "automargin": true,
           "gridcolor": "white",
           "linecolor": "white",
           "ticks": "",
           "title": {
            "standoff": 15
           },
           "zerolinecolor": "white",
           "zerolinewidth": 2
          },
          "yaxis": {
           "automargin": true,
           "gridcolor": "white",
           "linecolor": "white",
           "ticks": "",
           "title": {
            "standoff": 15
           },
           "zerolinecolor": "white",
           "zerolinewidth": 2
          }
         }
        },
        "xaxis": {
         "anchor": "y",
         "domain": [
          0,
          1
         ],
         "title": {
          "text": "kmeans_label"
         }
        },
        "yaxis": {
         "anchor": "x",
         "domain": [
          0,
          1
         ],
         "title": {
          "text": "visit_age_mo"
         }
        }
       }
      },
      "text/html": [
       "<div>                            <div id=\"52b8278f-b9f3-46c3-85d2-c6f83c730855\" class=\"plotly-graph-div\" style=\"height:525px; width:100%;\"></div>            <script type=\"text/javascript\">                require([\"plotly\"], function(Plotly) {                    window.PLOTLYENV=window.PLOTLYENV || {};                                    if (document.getElementById(\"52b8278f-b9f3-46c3-85d2-c6f83c730855\")) {                    Plotly.newPlot(                        \"52b8278f-b9f3-46c3-85d2-c6f83c730855\",                        [{\"alignmentgroup\": \"True\", \"boxpoints\": \"all\", \"hovertemplate\": \"kmeans_label=%{x}<br>visit_age_mo=%{y}<extra></extra>\", \"legendgroup\": \"\", \"marker\": {\"color\": \"#636efa\"}, \"name\": \"\", \"notched\": false, \"offsetgroup\": \"\", \"orientation\": \"v\", \"showlegend\": false, \"type\": \"box\", \"x\": [\"onemonth\", \"onemonth\", \"onemonth\", \"twomonth\", \"fourmonth\", \"sixmonth\", \"ninemonth\", \"onemonth\", \"onemonth\", \"onemonth\", \"twomonth\", \"fourmonth\", \"ninemonth\", \"oneyear\", \"onemonth\", \"onemonth\", \"twomonth\", \"fourmonth\", \"sixmonth\", \"oneyear\", \"onemonth\", \"twomonth\", \"twomonth\", \"fourmonth\", \"onemonth\", \"onemonth\", \"onemonth\", \"twomonth\", \"fourmonth\", \"ninemonth\", \"onemonth\", \"twomonth\", \"fourmonth\", \"sixmonth\", \"ninemonth\", \"oneyear\", \"onemonth\", \"onemonth\", \"twomonth\", \"sixmonth\", \"ninemonth\", \"oneyear\", \"onemonth\", \"twomonth\", \"sixmonth\", \"oneyear\", \"onemonth\", \"fourmonth\", \"ninemonth\", \"oneyear\", \"onemonth\", \"sixmonth\", \"ninemonth\", \"oneyear\", \"onemonth\", \"onemonth\", \"twomonth\", \"fourmonth\", \"sixmonth\", \"ninemonth\", \"onemonth\", \"onemonth\", \"twomonth\", \"fourmonth\", \"ninemonth\", \"oneyear\", \"onemonth\", \"onemonth\", \"twomonth\", \"fourmonth\", \"sixmonth\", \"onemonth\", \"onemonth\", \"twomonth\", \"fourmonth\", \"sixmonth\", \"ninemonth\", \"oneyear\", \"onemonth\", \"onemonth\", \"fourmonth\", \"ninemonth\", \"onemonth\", \"onemonth\", \"twomonth\", \"fourmonth\", \"sixmonth\", \"ninemonth\", \"oneyear\", \"onemonth\", \"onemonth\", \"fourmonth\", \"sixmonth\", \"oneyear\", \"onemonth\", \"onemonth\", \"onemonth\", \"twomonth\", \"oneyear\", \"onemonth\", \"onemonth\", \"onemonth\", \"twomonth\", \"fourmonth\", \"ninemonth\", \"onemonth\", \"onemonth\", \"fourmonth\", \"sixmonth\", \"ninemonth\", \"onemonth\", \"onemonth\", \"twomonth\", \"fourmonth\", \"sixmonth\", \"ninemonth\", \"onemonth\", \"onemonth\", \"onemonth\", \"twomonth\", \"fourmonth\", \"onemonth\", \"onemonth\", \"twomonth\", \"fourmonth\", \"onemonth\", \"onemonth\", \"onemonth\", \"twomonth\", \"fourmonth\", \"sixmonth\", \"oneyear\", \"onemonth\", \"onemonth\", \"ninemonth\", \"onemonth\", \"twomonth\", \"twomonth\", \"fourmonth\", \"sixmonth\", \"oneyear\", \"twomonth\", \"oneyear\", \"onemonth\", \"onemonth\", \"twomonth\", \"fourmonth\", \"sixmonth\", \"oneyear\", \"onemonth\", \"twomonth\", \"fourmonth\", \"onemonth\", \"twomonth\", \"sixmonth\", \"ninemonth\", \"onemonth\", \"onemonth\", \"twomonth\", \"fourmonth\", \"onemonth\", \"onemonth\", \"twomonth\", \"fourmonth\", \"sixmonth\", \"oneyear\", \"onemonth\", \"onemonth\", \"onemonth\", \"twomonth\", \"fourmonth\", \"sixmonth\", \"ninemonth\", \"onemonth\", \"fourmonth\", \"ninemonth\", \"oneyear\", \"onemonth\", \"twomonth\", \"sixmonth\", \"ninemonth\", \"oneyear\", \"onemonth\", \"onemonth\", \"fourmonth\", \"sixmonth\", \"ninemonth\", \"oneyear\", \"onemonth\", \"onemonth\", \"fourmonth\", \"sixmonth\", \"ninemonth\", \"oneyear\", \"onemonth\", \"twomonth\", \"fourmonth\", \"sixmonth\", \"ninemonth\", \"oneyear\", \"onemonth\", \"onemonth\", \"onemonth\", \"twomonth\", \"onemonth\", \"onemonth\", \"twomonth\", \"fourmonth\", \"sixmonth\", \"onemonth\", \"onemonth\", \"twomonth\", \"onemonth\", \"twomonth\", \"sixmonth\", \"ninemonth\", \"onemonth\", \"onemonth\", \"twomonth\", \"ninemonth\", \"oneyear\", \"onemonth\", \"twomonth\", \"fourmonth\", \"sixmonth\", \"ninemonth\", \"oneyear\", \"onemonth\", \"twomonth\", \"fourmonth\", \"sixmonth\", \"ninemonth\", \"onemonth\", \"onemonth\", \"twomonth\", \"sixmonth\", \"ninemonth\", \"onemonth\", \"twomonth\", \"onemonth\", \"onemonth\", \"ninemonth\", \"oneyear\", \"onemonth\", \"onemonth\", \"twomonth\", \"sixmonth\", \"ninemonth\", \"oneyear\", \"onemonth\", \"onemonth\", \"onemonth\", \"twomonth\", \"fourmonth\", \"sixmonth\", \"ninemonth\", \"onemonth\", \"onemonth\", \"twomonth\", \"sixmonth\", \"ninemonth\", \"oneyear\", \"onemonth\", \"onemonth\", \"fourmonth\", \"ninemonth\", \"sixmonth\", \"ninemonth\", \"oneyear\", \"onemonth\", \"onemonth\", \"twomonth\", \"fourmonth\", \"sixmonth\", \"ninemonth\", \"oneyear\", \"onemonth\", \"onemonth\", \"sixmonth\", \"ninemonth\", \"oneyear\", \"twomonth\", \"fourmonth\", \"sixmonth\", \"oneyear\", \"onemonth\", \"twomonth\", \"fourmonth\", \"ninemonth\", \"onemonth\", \"onemonth\", \"twomonth\", \"ninemonth\", \"oneyear\", \"onemonth\", \"onemonth\", \"twomonth\", \"sixmonth\", \"oneyear\", \"oneyear\", \"onemonth\", \"twomonth\", \"fourmonth\", \"sixmonth\", \"ninemonth\", \"twomonth\", \"sixmonth\", \"ninemonth\", \"oneyear\", \"onemonth\", \"sixmonth\", \"onemonth\", \"onemonth\", \"onemonth\", \"ninemonth\", \"onemonth\", \"onemonth\", \"twomonth\", \"onemonth\", \"onemonth\", \"onemonth\", \"twomonth\", \"sixmonth\", \"ninemonth\", \"oneyear\", \"onemonth\", \"twomonth\", \"sixmonth\", \"ninemonth\", \"oneyear\", \"fourmonth\", \"fourmonth\", \"sixmonth\", \"oneyear\", \"onemonth\", \"twomonth\", \"fourmonth\", \"ninemonth\", \"oneyear\", \"onemonth\", \"onemonth\", \"fourmonth\", \"ninemonth\", \"oneyear\", \"onemonth\", \"fourmonth\", \"sixmonth\", \"ninemonth\", \"onemonth\", \"twomonth\", \"fourmonth\", \"sixmonth\", \"ninemonth\", \"oneyear\", \"onemonth\", \"fourmonth\", \"sixmonth\", \"onemonth\", \"onemonth\", \"twomonth\", \"fourmonth\", \"sixmonth\", \"ninemonth\", \"onemonth\", \"fourmonth\", \"ninemonth\", \"onemonth\", \"onemonth\", \"twomonth\", \"sixmonth\", \"ninemonth\", \"oneyear\", \"onemonth\", \"onemonth\", \"onemonth\", \"twomonth\", \"fourmonth\", \"onemonth\", \"onemonth\", \"onemonth\", \"fourmonth\", \"sixmonth\", \"ninemonth\", \"oneyear\", \"onemonth\", \"onemonth\", \"oneyear\", \"onemonth\", \"onemonth\", \"onemonth\", \"oneyear\", \"onemonth\", \"onemonth\", \"twomonth\", \"sixmonth\", \"ninemonth\", \"onemonth\", \"twomonth\", \"fourmonth\", \"sixmonth\", \"ninemonth\", \"twomonth\", \"fourmonth\", \"sixmonth\", \"ninemonth\", \"oneyear\", \"onemonth\", \"onemonth\", \"onemonth\", \"twomonth\", \"fourmonth\", \"ninemonth\", \"onemonth\", \"twomonth\", \"fourmonth\", \"sixmonth\", \"oneyear\", \"onemonth\", \"twomonth\", \"fourmonth\", \"sixmonth\", \"ninemonth\", \"oneyear\", \"onemonth\", \"onemonth\", \"twomonth\", \"sixmonth\", \"ninemonth\", \"oneyear\", \"onemonth\", \"onemonth\", \"fourmonth\", \"sixmonth\", \"ninemonth\", \"onemonth\", \"twomonth\", \"fourmonth\", \"sixmonth\", \"onemonth\", \"twomonth\", \"ninemonth\", \"twomonth\", \"twomonth\", \"fourmonth\", \"oneyear\", \"onemonth\", \"onemonth\", \"twomonth\", \"fourmonth\", \"onemonth\", \"twomonth\", \"sixmonth\", \"onemonth\", \"onemonth\", \"twomonth\", \"fourmonth\", \"sixmonth\", \"sixmonth\", \"ninemonth\", \"oneyear\", \"onemonth\", \"onemonth\", \"onemonth\", \"twomonth\", \"fourmonth\", \"sixmonth\", \"ninemonth\", \"twomonth\", \"fourmonth\", \"ninemonth\", \"oneyear\", \"onemonth\", \"onemonth\", \"twomonth\", \"fourmonth\", \"sixmonth\", \"onemonth\", \"onemonth\", \"onemonth\", \"twomonth\", \"fourmonth\", \"sixmonth\", \"ninemonth\", \"oneyear\", \"onemonth\", \"twomonth\", \"fourmonth\", \"oneyear\", \"onemonth\", \"twomonth\", \"sixmonth\", \"ninemonth\", \"onemonth\", \"onemonth\", \"twomonth\", \"fourmonth\", \"sixmonth\", \"ninemonth\", \"oneyear\", \"onemonth\", \"onemonth\", \"twomonth\", \"fourmonth\", \"onemonth\", \"twomonth\", \"fourmonth\", \"onemonth\", \"onemonth\", \"fourmonth\", \"sixmonth\", \"ninemonth\", \"onemonth\", \"onemonth\", \"twomonth\", \"fourmonth\", \"sixmonth\", \"ninemonth\", \"oneyear\", \"onemonth\", \"fourmonth\", \"onemonth\", \"onemonth\", \"twomonth\", \"ninemonth\", \"onemonth\", \"onemonth\", \"onemonth\", \"twomonth\", \"onemonth\", \"twomonth\", \"ninemonth\", \"onemonth\", \"onemonth\", \"fourmonth\", \"onemonth\", \"onemonth\", \"onemonth\", \"twomonth\", \"fourmonth\", \"sixmonth\", \"ninemonth\", \"onemonth\", \"onemonth\", \"twomonth\", \"fourmonth\", \"onemonth\", \"onemonth\", \"twomonth\", \"sixmonth\", \"onemonth\", \"onemonth\", \"sixmonth\", \"onemonth\", \"twomonth\", \"fourmonth\", \"onemonth\", \"twomonth\", \"fourmonth\", \"sixmonth\", \"ninemonth\", \"onemonth\", \"twomonth\", \"fourmonth\", \"ninemonth\", \"onemonth\", \"onemonth\", \"twomonth\", \"fourmonth\", \"ninemonth\", \"oneyear\", \"onemonth\", \"onemonth\", \"onemonth\", \"onemonth\", \"fourmonth\", \"sixmonth\", \"oneyear\", \"onemonth\", \"onemonth\", \"twomonth\", \"fourmonth\", \"sixmonth\", \"onemonth\", \"twomonth\", \"sixmonth\", \"ninemonth\", \"twomonth\", \"fourmonth\", \"sixmonth\", \"ninemonth\", \"onemonth\", \"twomonth\", \"sixmonth\", \"ninemonth\", \"oneyear\", \"onemonth\", \"onemonth\", \"twomonth\", \"fourmonth\", \"oneyear\", \"onemonth\", \"onemonth\", \"onemonth\", \"twomonth\", \"fourmonth\", \"sixmonth\", \"ninemonth\", \"oneyear\", \"twomonth\", \"fourmonth\", \"ninemonth\", \"onemonth\", \"fourmonth\", \"ninemonth\", \"onemonth\", \"onemonth\", \"onemonth\", \"twomonth\", \"fourmonth\", \"sixmonth\", \"oneyear\", \"twomonth\", \"fourmonth\", \"ninemonth\", \"onemonth\", \"twomonth\", \"fourmonth\", \"sixmonth\", \"ninemonth\", \"oneyear\", \"onemonth\", \"twomonth\", \"onemonth\", \"twomonth\", \"fourmonth\", \"sixmonth\", \"ninemonth\", \"oneyear\", \"onemonth\", \"onemonth\", \"twomonth\", \"oneyear\", \"onemonth\", \"fourmonth\", \"sixmonth\", \"oneyear\", \"onemonth\", \"onemonth\", \"twomonth\", \"ninemonth\", \"onemonth\", \"onemonth\", \"twomonth\", \"fourmonth\", \"sixmonth\", \"oneyear\", \"onemonth\", \"twomonth\", \"fourmonth\", \"sixmonth\", \"onemonth\", \"onemonth\", \"onemonth\", \"twomonth\", \"sixmonth\", \"onemonth\", \"twomonth\", \"ninemonth\", \"onemonth\", \"twomonth\", \"fourmonth\", \"sixmonth\", \"ninemonth\", \"onemonth\", \"onemonth\", \"sixmonth\", \"onemonth\", \"onemonth\", \"twomonth\", \"onemonth\", \"onemonth\", \"twomonth\", \"fourmonth\", \"ninemonth\", \"onemonth\", \"onemonth\", \"fourmonth\", \"ninemonth\", \"onemonth\", \"onemonth\", \"onemonth\", \"twomonth\", \"onemonth\", \"twomonth\", \"fourmonth\", \"sixmonth\", \"onemonth\", \"onemonth\", \"twomonth\", \"fourmonth\", \"sixmonth\", \"ninemonth\", \"onemonth\", \"onemonth\", \"twomonth\", \"fourmonth\", \"sixmonth\", \"onemonth\", \"onemonth\", \"onemonth\", \"ninemonth\", \"onemonth\", \"onemonth\", \"onemonth\", \"twomonth\", \"fourmonth\", \"sixmonth\", \"ninemonth\", \"oneyear\", \"onemonth\", \"twomonth\", \"sixmonth\", \"onemonth\", \"onemonth\", \"twomonth\", \"fourmonth\", \"ninemonth\", \"onemonth\", \"onemonth\", \"twomonth\", \"twomonth\", \"sixmonth\", \"onemonth\", \"twomonth\", \"sixmonth\", \"ninemonth\", \"onemonth\", \"onemonth\", \"onemonth\", \"sixmonth\", \"ninemonth\", \"oneyear\", \"onemonth\", \"onemonth\", \"onemonth\", \"twomonth\", \"fourmonth\", \"oneyear\", \"onemonth\", \"onemonth\", \"onemonth\", \"twomonth\", \"onemonth\", \"fourmonth\", \"sixmonth\", \"ninemonth\", \"oneyear\", \"onemonth\", \"twomonth\", \"sixmonth\", \"oneyear\", \"onemonth\", \"onemonth\", \"twomonth\", \"ninemonth\", \"onemonth\", \"twomonth\", \"fourmonth\", \"sixmonth\", \"oneyear\", \"onemonth\", \"onemonth\", \"onemonth\", \"twomonth\", \"fourmonth\", \"sixmonth\", \"oneyear\", \"onemonth\", \"onemonth\", \"onemonth\", \"twomonth\", \"fourmonth\", \"sixmonth\"], \"x0\": \" \", \"xaxis\": \"x\", \"y\": [0.2, 0.5, 1.0, 2.1, 4.2, 6.5, 9.2, 0.2, 0.4, 1.1, 2.2, 4.0, 9.3, 12.1, 0.7, 1.3, 1.8, 4.1, 6.6, 12.4, 0.7, 1.4, 2.1, 4.1, 0.1, 0.4, 1.1, 2.6, 4.3, 9.2, 0.1, 2.0, 4.1, 6.1, 9.4, 12.1, 0.3, 0.4, 1.9, 6.1, 9.1, 12.3, 1.0, 2.0, 6.3, 12.4, 0.4, 4.2, 9.0, 12.1, 1.1, 6.2, 9.7, 12.2, 0.1, 0.5, 2.0, 4.1, 7.0, 9.3, 0.2, 1.1, 1.9, 4.1, 9.1, 12.6, 0.3, 0.5, 1.9, 4.4, 6.1, 0.5, 1.1, 2.0, 4.1, 6.2, 8.9, 11.8, 0.6, 1.0, 4.2, 9.2, 0.4, 1.3, 2.0, 4.0, 6.0, 8.4, 12.1, 0.1, 0.5, 4.0, 6.1, 12.7, 0.2, 0.4, 0.9, 2.0, 12.8, 0.3, 0.5, 1.1, 2.0, 4.1, 9.1, 0.4, 1.1, 4.1, 6.1, 9.5, 0.2, 0.7, 1.8, 3.9, 6.5, 9.2, 0.1, 0.5, 1.1, 2.1, 3.7, 0.5, 1.0, 2.1, 3.9, 0.2, 0.4, 1.1, 2.2, 4.1, 6.1, 12.1, 0.1, 1.0, 9.3, 0.2, 1.4, 2.2, 4.1, 6.7, 12.9, 1.9, 12.2, 0.5, 1.0, 2.2, 3.9, 6.0, 12.4, 0.5, 2.1, 4.8, 1.0, 2.1, 6.7, 9.0, 0.6, 1.0, 2.0, 4.0, 0.2, 0.9, 2.0, 5.0, 7.1, 13.1, 0.1, 0.3, 0.9, 2.3, 4.2, 6.2, 9.6, 0.4, 4.1, 9.6, 12.6, 0.1, 2.0, 6.2, 9.1, 12.6, 0.6, 1.1, 4.3, 6.2, 9.2, 12.0, 0.5, 1.1, 4.1, 6.6, 9.4, 12.3, 1.0, 2.3, 4.0, 6.2, 9.1, 12.6, 0.2, 0.5, 1.1, 2.0, 0.1, 0.6, 2.2, 4.1, 6.4, 0.4, 0.8, 2.1, 0.4, 2.2, 6.4, 9.0, 0.4, 1.0, 2.1, 9.2, 12.2, 0.9, 2.1, 4.0, 6.7, 9.1, 12.3, 0.9, 1.9, 4.0, 6.3, 9.7, 0.2, 0.7, 1.9, 6.0, 9.2, 1.1, 1.8, 0.2, 0.4, 9.5, 12.1, 0.5, 0.9, 2.0, 6.0, 9.0, 12.2, 0.1, 0.5, 1.2, 2.3, 4.1, 6.1, 9.2, 0.5, 1.0, 2.0, 6.7, 9.0, 12.5, 0.5, 1.1, 4.1, 9.1, 6.6, 9.1, 13.0, 0.3, 1.0, 1.9, 3.9, 6.3, 9.2, 12.1, 0.4, 0.9, 6.4, 9.3, 12.1, 1.7, 4.1, 6.4, 12.2, 0.5, 1.9, 3.9, 9.2, 0.2, 0.9, 2.0, 8.5, 12.4, 0.4, 0.9, 2.0, 6.1, 11.0, 12.1, 1.0, 2.2, 4.2, 6.3, 9.2, 1.9, 6.3, 9.3, 12.1, 0.4, 6.2, 0.2, 0.5, 1.1, 9.2, 0.1, 1.1, 1.9, 0.2, 0.4, 1.1, 2.1, 6.2, 9.4, 13.3, 0.8, 1.9, 6.5, 9.3, 12.5, 3.2, 4.1, 5.9, 12.1, 1.1, 2.2, 4.0, 9.1, 12.1, 0.3, 1.0, 4.2, 9.5, 12.7, 0.9, 4.1, 6.3, 9.4, 0.8, 2.0, 4.2, 6.2, 9.4, 12.3, 0.5, 4.0, 6.6, 0.6, 1.0, 2.1, 4.1, 6.3, 9.0, 0.5, 4.1, 9.2, 0.1, 0.6, 1.9, 6.1, 9.1, 12.3, 0.4, 0.6, 1.1, 2.0, 4.0, 0.2, 0.4, 1.1, 4.3, 6.1, 9.3, 12.2, 0.2, 0.4, 12.3, 0.2, 0.4, 0.9, 12.1, 0.5, 1.3, 2.0, 6.2, 9.1, 1.1, 2.0, 4.2, 6.2, 9.2, 2.1, 4.1, 6.2, 9.2, 12.6, 0.2, 0.4, 1.0, 2.3, 4.6, 9.2, 1.1, 1.8, 4.1, 6.3, 12.2, 0.4, 2.0, 4.1, 6.4, 9.2, 12.4, 0.4, 1.1, 1.8, 7.3, 9.2, 12.5, 0.2, 0.5, 4.2, 7.6, 9.7, 1.1, 2.0, 4.1, 6.1, 1.0, 2.2, 9.5, 1.4, 2.4, 4.0, 12.6, 0.2, 0.9, 1.8, 4.1, 0.9, 2.0, 6.1, 0.4, 1.0, 2.0, 4.1, 6.2, 6.2, 9.4, 12.5, 0.1, 0.5, 1.0, 2.3, 4.5, 6.6, 9.8, 2.0, 4.3, 9.9, 12.2, 0.7, 1.1, 1.9, 3.9, 6.4, 0.2, 0.4, 1.1, 2.3, 4.3, 6.2, 9.3, 12.2, 1.1, 2.2, 4.3, 11.7, 1.0, 2.1, 6.5, 9.0, 0.4, 1.1, 2.4, 4.5, 6.3, 9.1, 12.6, 0.1, 1.2, 2.1, 4.1, 1.0, 1.9, 4.3, 0.5, 1.0, 4.2, 6.1, 9.1, 0.4, 0.9, 2.0, 4.2, 7.0, 9.2, 12.3, 1.2, 4.4, 0.3, 1.1, 1.9, 9.3, 0.2, 0.4, 1.1, 2.1, 0.5, 2.2, 9.0, 0.2, 0.5, 4.1, 0.2, 0.4, 0.9, 2.0, 4.1, 6.3, 9.1, 0.4, 0.9, 2.1, 4.0, 0.5, 0.9, 2.1, 7.0, 0.3, 1.0, 6.2, 1.2, 1.9, 4.1, 0.2, 2.3, 4.1, 6.2, 9.1, 0.2, 2.3, 4.0, 9.1, 0.3, 1.2, 2.3, 4.0, 8.6, 12.3, 0.3, 0.5, 0.3, 1.1, 4.1, 6.2, 12.3, 0.2, 0.4, 2.0, 3.9, 6.2, 0.6, 2.1, 6.4, 9.0, 2.1, 3.9, 6.5, 9.2, 1.1, 2.0, 6.2, 9.1, 12.1, 0.5, 1.0, 2.1, 4.1, 12.5, 0.2, 0.6, 0.9, 1.9, 4.0, 6.3, 9.3, 12.3, 2.9, 3.9, 9.3, 1.1, 3.9, 9.2, 0.1, 0.5, 1.0, 2.0, 4.2, 6.2, 12.0, 2.5, 4.2, 9.7, 0.9, 1.9, 4.0, 6.0, 8.5, 12.2, 1.0, 1.6, 0.9, 2.0, 4.2, 6.2, 9.2, 12.2, 0.4, 1.1, 2.2, 12.2, 0.5, 4.1, 6.2, 12.3, 0.4, 0.9, 2.0, 8.9, 0.1, 0.7, 1.6, 4.1, 6.4, 12.2, 0.5, 2.0, 4.0, 6.2, 0.3, 0.5, 1.1, 2.1, 5.6, 1.1, 2.1, 9.1, 1.1, 1.9, 4.0, 6.2, 9.0, 0.2, 0.9, 6.2, 0.3, 1.0, 2.1, 0.5, 1.1, 2.1, 4.0, 8.8, 0.4, 0.9, 4.3, 9.6, 0.2, 0.4, 1.0, 1.8, 1.1, 2.1, 4.1, 6.1, 0.5, 1.3, 2.4, 4.5, 7.0, 9.8, 0.3, 0.8, 1.9, 3.9, 7.0, 0.2, 0.5, 0.9, 9.1, 0.2, 0.5, 1.1, 2.1, 4.1, 6.4, 9.5, 12.2, 0.9, 2.0, 6.4, 0.4, 0.9, 2.0, 4.2, 9.1, 0.4, 1.3, 2.1, 2.1, 6.2, 1.1, 2.0, 7.6, 9.5, 0.1, 0.5, 1.0, 6.0, 9.0, 11.5, 0.1, 0.4, 0.8, 2.0, 4.0, 12.4, 0.1, 0.3, 1.0, 2.2, 0.2, 4.0, 6.2, 9.2, 12.6, 0.4, 2.1, 6.2, 12.2, 0.5, 1.0, 2.1, 9.2, 1.1, 2.1, 4.0, 6.3, 12.9, 0.2, 0.7, 1.1, 2.1, 3.9, 6.4, 12.1, 0.2, 0.4, 1.1, 2.0, 4.7, 6.3], \"y0\": \" \", \"yaxis\": \"y\"}],                        {\"boxmode\": \"group\", \"legend\": {\"tracegroupgap\": 0}, \"margin\": {\"t\": 60}, \"template\": {\"data\": {\"bar\": [{\"error_x\": {\"color\": \"#2a3f5f\"}, \"error_y\": {\"color\": \"#2a3f5f\"}, \"marker\": {\"line\": {\"color\": \"#E5ECF6\", \"width\": 0.5}}, \"type\": \"bar\"}], \"barpolar\": [{\"marker\": {\"line\": {\"color\": \"#E5ECF6\", \"width\": 0.5}}, \"type\": \"barpolar\"}], \"carpet\": [{\"aaxis\": {\"endlinecolor\": \"#2a3f5f\", \"gridcolor\": \"white\", \"linecolor\": \"white\", \"minorgridcolor\": \"white\", \"startlinecolor\": \"#2a3f5f\"}, \"baxis\": {\"endlinecolor\": \"#2a3f5f\", \"gridcolor\": \"white\", \"linecolor\": \"white\", \"minorgridcolor\": \"white\", \"startlinecolor\": \"#2a3f5f\"}, \"type\": \"carpet\"}], \"choropleth\": [{\"colorbar\": {\"outlinewidth\": 0, \"ticks\": \"\"}, \"type\": \"choropleth\"}], \"contour\": [{\"colorbar\": {\"outlinewidth\": 0, \"ticks\": \"\"}, \"colorscale\": [[0.0, \"#0d0887\"], [0.1111111111111111, \"#46039f\"], [0.2222222222222222, \"#7201a8\"], [0.3333333333333333, \"#9c179e\"], [0.4444444444444444, \"#bd3786\"], [0.5555555555555556, \"#d8576b\"], [0.6666666666666666, \"#ed7953\"], [0.7777777777777778, \"#fb9f3a\"], [0.8888888888888888, \"#fdca26\"], [1.0, \"#f0f921\"]], \"type\": \"contour\"}], \"contourcarpet\": [{\"colorbar\": {\"outlinewidth\": 0, \"ticks\": \"\"}, \"type\": \"contourcarpet\"}], \"heatmap\": [{\"colorbar\": {\"outlinewidth\": 0, \"ticks\": \"\"}, \"colorscale\": [[0.0, \"#0d0887\"], [0.1111111111111111, \"#46039f\"], [0.2222222222222222, \"#7201a8\"], [0.3333333333333333, \"#9c179e\"], [0.4444444444444444, \"#bd3786\"], [0.5555555555555556, \"#d8576b\"], [0.6666666666666666, \"#ed7953\"], [0.7777777777777778, \"#fb9f3a\"], [0.8888888888888888, \"#fdca26\"], [1.0, \"#f0f921\"]], \"type\": \"heatmap\"}], \"heatmapgl\": [{\"colorbar\": {\"outlinewidth\": 0, \"ticks\": \"\"}, \"colorscale\": [[0.0, \"#0d0887\"], [0.1111111111111111, \"#46039f\"], [0.2222222222222222, \"#7201a8\"], [0.3333333333333333, \"#9c179e\"], [0.4444444444444444, \"#bd3786\"], [0.5555555555555556, \"#d8576b\"], [0.6666666666666666, \"#ed7953\"], [0.7777777777777778, \"#fb9f3a\"], [0.8888888888888888, \"#fdca26\"], [1.0, \"#f0f921\"]], \"type\": \"heatmapgl\"}], \"histogram\": [{\"marker\": {\"colorbar\": {\"outlinewidth\": 0, \"ticks\": \"\"}}, \"type\": \"histogram\"}], \"histogram2d\": [{\"colorbar\": {\"outlinewidth\": 0, \"ticks\": \"\"}, \"colorscale\": [[0.0, \"#0d0887\"], [0.1111111111111111, \"#46039f\"], [0.2222222222222222, \"#7201a8\"], [0.3333333333333333, \"#9c179e\"], [0.4444444444444444, \"#bd3786\"], [0.5555555555555556, \"#d8576b\"], [0.6666666666666666, \"#ed7953\"], [0.7777777777777778, \"#fb9f3a\"], [0.8888888888888888, \"#fdca26\"], [1.0, \"#f0f921\"]], \"type\": \"histogram2d\"}], \"histogram2dcontour\": [{\"colorbar\": {\"outlinewidth\": 0, \"ticks\": \"\"}, \"colorscale\": [[0.0, \"#0d0887\"], [0.1111111111111111, \"#46039f\"], [0.2222222222222222, \"#7201a8\"], [0.3333333333333333, \"#9c179e\"], [0.4444444444444444, \"#bd3786\"], [0.5555555555555556, \"#d8576b\"], [0.6666666666666666, \"#ed7953\"], [0.7777777777777778, \"#fb9f3a\"], [0.8888888888888888, \"#fdca26\"], [1.0, \"#f0f921\"]], \"type\": \"histogram2dcontour\"}], \"mesh3d\": [{\"colorbar\": {\"outlinewidth\": 0, \"ticks\": \"\"}, \"type\": \"mesh3d\"}], \"parcoords\": [{\"line\": {\"colorbar\": {\"outlinewidth\": 0, \"ticks\": \"\"}}, \"type\": \"parcoords\"}], \"pie\": [{\"automargin\": true, \"type\": \"pie\"}], \"scatter\": [{\"marker\": {\"colorbar\": {\"outlinewidth\": 0, \"ticks\": \"\"}}, \"type\": \"scatter\"}], \"scatter3d\": [{\"line\": {\"colorbar\": {\"outlinewidth\": 0, \"ticks\": \"\"}}, \"marker\": {\"colorbar\": {\"outlinewidth\": 0, \"ticks\": \"\"}}, \"type\": \"scatter3d\"}], \"scattercarpet\": [{\"marker\": {\"colorbar\": {\"outlinewidth\": 0, \"ticks\": \"\"}}, \"type\": \"scattercarpet\"}], \"scattergeo\": [{\"marker\": {\"colorbar\": {\"outlinewidth\": 0, \"ticks\": \"\"}}, \"type\": \"scattergeo\"}], \"scattergl\": [{\"marker\": {\"colorbar\": {\"outlinewidth\": 0, \"ticks\": \"\"}}, \"type\": \"scattergl\"}], \"scattermapbox\": [{\"marker\": {\"colorbar\": {\"outlinewidth\": 0, \"ticks\": \"\"}}, \"type\": \"scattermapbox\"}], \"scatterpolar\": [{\"marker\": {\"colorbar\": {\"outlinewidth\": 0, \"ticks\": \"\"}}, \"type\": \"scatterpolar\"}], \"scatterpolargl\": [{\"marker\": {\"colorbar\": {\"outlinewidth\": 0, \"ticks\": \"\"}}, \"type\": \"scatterpolargl\"}], \"scatterternary\": [{\"marker\": {\"colorbar\": {\"outlinewidth\": 0, \"ticks\": \"\"}}, \"type\": \"scatterternary\"}], \"surface\": [{\"colorbar\": {\"outlinewidth\": 0, \"ticks\": \"\"}, \"colorscale\": [[0.0, \"#0d0887\"], [0.1111111111111111, \"#46039f\"], [0.2222222222222222, \"#7201a8\"], [0.3333333333333333, \"#9c179e\"], [0.4444444444444444, \"#bd3786\"], [0.5555555555555556, \"#d8576b\"], [0.6666666666666666, \"#ed7953\"], [0.7777777777777778, \"#fb9f3a\"], [0.8888888888888888, \"#fdca26\"], [1.0, \"#f0f921\"]], \"type\": \"surface\"}], \"table\": [{\"cells\": {\"fill\": {\"color\": \"#EBF0F8\"}, \"line\": {\"color\": \"white\"}}, \"header\": {\"fill\": {\"color\": \"#C8D4E3\"}, \"line\": {\"color\": \"white\"}}, \"type\": \"table\"}]}, \"layout\": {\"annotationdefaults\": {\"arrowcolor\": \"#2a3f5f\", \"arrowhead\": 0, \"arrowwidth\": 1}, \"coloraxis\": {\"colorbar\": {\"outlinewidth\": 0, \"ticks\": \"\"}}, \"colorscale\": {\"diverging\": [[0, \"#8e0152\"], [0.1, \"#c51b7d\"], [0.2, \"#de77ae\"], [0.3, \"#f1b6da\"], [0.4, \"#fde0ef\"], [0.5, \"#f7f7f7\"], [0.6, \"#e6f5d0\"], [0.7, \"#b8e186\"], [0.8, \"#7fbc41\"], [0.9, \"#4d9221\"], [1, \"#276419\"]], \"sequential\": [[0.0, \"#0d0887\"], [0.1111111111111111, \"#46039f\"], [0.2222222222222222, \"#7201a8\"], [0.3333333333333333, \"#9c179e\"], [0.4444444444444444, \"#bd3786\"], [0.5555555555555556, \"#d8576b\"], [0.6666666666666666, \"#ed7953\"], [0.7777777777777778, \"#fb9f3a\"], [0.8888888888888888, \"#fdca26\"], [1.0, \"#f0f921\"]], \"sequentialminus\": [[0.0, \"#0d0887\"], [0.1111111111111111, \"#46039f\"], [0.2222222222222222, \"#7201a8\"], [0.3333333333333333, \"#9c179e\"], [0.4444444444444444, \"#bd3786\"], [0.5555555555555556, \"#d8576b\"], [0.6666666666666666, \"#ed7953\"], [0.7777777777777778, \"#fb9f3a\"], [0.8888888888888888, \"#fdca26\"], [1.0, \"#f0f921\"]]}, \"colorway\": [\"#636efa\", \"#EF553B\", \"#00cc96\", \"#ab63fa\", \"#FFA15A\", \"#19d3f3\", \"#FF6692\", \"#B6E880\", \"#FF97FF\", \"#FECB52\"], \"font\": {\"color\": \"#2a3f5f\"}, \"geo\": {\"bgcolor\": \"white\", \"lakecolor\": \"white\", \"landcolor\": \"#E5ECF6\", \"showlakes\": true, \"showland\": true, \"subunitcolor\": \"white\"}, \"hoverlabel\": {\"align\": \"left\"}, \"hovermode\": \"closest\", \"mapbox\": {\"style\": \"light\"}, \"paper_bgcolor\": \"white\", \"plot_bgcolor\": \"#E5ECF6\", \"polar\": {\"angularaxis\": {\"gridcolor\": \"white\", \"linecolor\": \"white\", \"ticks\": \"\"}, \"bgcolor\": \"#E5ECF6\", \"radialaxis\": {\"gridcolor\": \"white\", \"linecolor\": \"white\", \"ticks\": \"\"}}, \"scene\": {\"xaxis\": {\"backgroundcolor\": \"#E5ECF6\", \"gridcolor\": \"white\", \"gridwidth\": 2, \"linecolor\": \"white\", \"showbackground\": true, \"ticks\": \"\", \"zerolinecolor\": \"white\"}, \"yaxis\": {\"backgroundcolor\": \"#E5ECF6\", \"gridcolor\": \"white\", \"gridwidth\": 2, \"linecolor\": \"white\", \"showbackground\": true, \"ticks\": \"\", \"zerolinecolor\": \"white\"}, \"zaxis\": {\"backgroundcolor\": \"#E5ECF6\", \"gridcolor\": \"white\", \"gridwidth\": 2, \"linecolor\": \"white\", \"showbackground\": true, \"ticks\": \"\", \"zerolinecolor\": \"white\"}}, \"shapedefaults\": {\"line\": {\"color\": \"#2a3f5f\"}}, \"ternary\": {\"aaxis\": {\"gridcolor\": \"white\", \"linecolor\": \"white\", \"ticks\": \"\"}, \"baxis\": {\"gridcolor\": \"white\", \"linecolor\": \"white\", \"ticks\": \"\"}, \"bgcolor\": \"#E5ECF6\", \"caxis\": {\"gridcolor\": \"white\", \"linecolor\": \"white\", \"ticks\": \"\"}}, \"title\": {\"x\": 0.05}, \"xaxis\": {\"automargin\": true, \"gridcolor\": \"white\", \"linecolor\": \"white\", \"ticks\": \"\", \"title\": {\"standoff\": 15}, \"zerolinecolor\": \"white\", \"zerolinewidth\": 2}, \"yaxis\": {\"automargin\": true, \"gridcolor\": \"white\", \"linecolor\": \"white\", \"ticks\": \"\", \"title\": {\"standoff\": 15}, \"zerolinecolor\": \"white\", \"zerolinewidth\": 2}}}, \"xaxis\": {\"anchor\": \"y\", \"domain\": [0.0, 1.0], \"title\": {\"text\": \"kmeans_label\"}}, \"yaxis\": {\"anchor\": \"x\", \"domain\": [0.0, 1.0], \"title\": {\"text\": \"visit_age_mo\"}}},                        {\"responsive\": true}                    ).then(function(){\n",
       "                            \n",
       "var gd = document.getElementById('52b8278f-b9f3-46c3-85d2-c6f83c730855');\n",
       "var x = new MutationObserver(function (mutations, observer) {{\n",
       "        var display = window.getComputedStyle(gd).display;\n",
       "        if (!display || display === 'none') {{\n",
       "            console.log([gd, 'removed!']);\n",
       "            Plotly.purge(gd);\n",
       "            observer.disconnect();\n",
       "        }}\n",
       "}});\n",
       "\n",
       "// Listen for the removal of the full notebook cells\n",
       "var notebookContainer = gd.closest('#notebook-container');\n",
       "if (notebookContainer) {{\n",
       "    x.observe(notebookContainer, {childList: true});\n",
       "}}\n",
       "\n",
       "// Listen for the clearing of the current output cell\n",
       "var outputEl = gd.closest('.output');\n",
       "if (outputEl) {{\n",
       "    x.observe(outputEl, {childList: true});\n",
       "}}\n",
       "\n",
       "                        })                };                });            </script>        </div>"
      ]
     },
     "metadata": {},
     "output_type": "display_data"
    }
   ],
   "source": [
    "no_sick_df = merge_df[merge_df.sample_time != 'sick']\n",
    "X = no_sick_df.visit_age_mo.to_numpy().reshape(-1,1)\n",
    "\n",
    "labels = no_sick_df.sample_time.unique()\n",
    "kmeans = KMeans(n_clusters=6, random_state=666).fit(X)\n",
    "args_res = np.argsort(kmeans.cluster_centers_.reshape(-1))\n",
    "labels = list(map(lambda x: labels[np.where(args_res == x)[0][0]+2] ,kmeans.labels_))\n",
    "# labels = list(map(lambda x: np.where(args_res == x)[0][0] ,kmeans.labels_))\n",
    "no_sick_df = no_sick_df.assign(kmeans_label=labels)\n",
    "\n",
    "px.box(no_sick_df,x='kmeans_label',y='visit_age_mo',points='all')"
   ]
  },
  {
   "cell_type": "markdown",
   "metadata": {},
   "source": [
    "**Trainig the classification model**:\n",
    "\n",
    "<br></br>\n",
    "After figuring out the data structure we need for training, we will want to train our data. Prior to this notebook, I ran a random features selection to find the best parameters to train the model. \n",
    "```json\n",
    "{'random_state': 666,\n",
    " 'n_estimators': 1200,\n",
    " 'min_samples_split': 20,\n",
    " 'min_samples_leaf': 2,\n",
    "#  'max_features': 'sqrt',\n",
    " 'max_depth': None,\n",
    " 'bootstrap': False}\n",
    "```\n",
    "\n",
    "<br></br>\n",
    "We will first git the avg accuracy of the model over 6 categories."
   ]
  },
  {
   "cell_type": "code",
   "execution_count": 68,
   "metadata": {
    "ExecuteTime": {
     "end_time": "2021-01-25T14:35:03.922782Z",
     "start_time": "2021-01-25T14:33:44.779750Z"
    },
    "code_folding": [
     0
    ]
   },
   "outputs": [
    {
     "name": "stderr",
     "output_type": "stream",
     "text": [
      "100%|██████████| 20/20 [01:19<00:00,  3.96s/it]"
     ]
    },
    {
     "name": "stdout",
     "output_type": "stream",
     "text": [
      "Train AVG accuracy 0.9725977615077787\n",
      "Test AVG accuracy 0.5467941681162337\n"
     ]
    },
    {
     "name": "stderr",
     "output_type": "stream",
     "text": [
      "\n"
     ]
    }
   ],
   "source": [
    "best_params = {'random_state': 666,\n",
    " 'n_estimators': 1200,\n",
    " 'min_samples_split': 20,\n",
    " 'min_samples_leaf': 2,\n",
    "#  'max_features': 'sqrt',\n",
    " 'max_depth': None,\n",
    " 'bootstrap': False}\n",
    "clf = RandomForestClassifier(**best_params)\n",
    "get_avg_accuracy(clf,no_sick_df,meta_idx,num_runs=20,y='kmeans_label',train_ratio=0.8)\n"
   ]
  },
  {
   "cell_type": "markdown",
   "metadata": {},
   "source": [
    "We can see that the average accuracy is about 54% \n",
    "We will now check accuracy and get best features for different `k` (different num of categories)"
   ]
  },
  {
   "cell_type": "code",
   "execution_count": 520,
   "metadata": {
    "ExecuteTime": {
     "end_time": "2021-01-27T19:38:32.705843Z",
     "start_time": "2021-01-27T19:38:06.552011Z"
    },
    "code_folding": [
     0
    ]
   },
   "outputs": [
    {
     "name": "stderr",
     "output_type": "stream",
     "text": [
      "100%|██████████| 6/6 [00:26<00:00,  4.35s/it]\n"
     ]
    },
    {
     "data": {
      "application/vnd.plotly.v1+json": {
       "config": {
        "plotlyServerURL": "https://plot.ly"
       },
       "data": [
        {
         "alignmentgroup": "True",
         "hovertemplate": "x=%{x}<br>y=%{y}<extra></extra>",
         "legendgroup": "",
         "marker": {
          "color": "#636efa"
         },
         "name": "",
         "offsetgroup": "",
         "orientation": "v",
         "showlegend": false,
         "textposition": "auto",
         "type": "bar",
         "x": [
          17,
          69,
          85,
          169,
          204,
          212,
          218,
          220,
          232,
          233,
          240,
          243,
          246,
          249,
          253,
          260,
          264,
          273,
          274,
          276,
          291,
          304,
          314,
          409,
          420
         ],
         "xaxis": "x",
         "y": [
          6,
          6,
          6,
          6,
          2,
          5,
          1,
          4,
          6,
          2,
          6,
          2,
          6,
          5,
          6,
          6,
          6,
          6,
          6,
          5,
          2,
          6,
          6,
          3,
          5
         ],
         "yaxis": "y"
        }
       ],
       "layout": {
        "barmode": "relative",
        "legend": {
         "tracegroupgap": 0
        },
        "margin": {
         "t": 60
        },
        "template": {
         "data": {
          "bar": [
           {
            "error_x": {
             "color": "#2a3f5f"
            },
            "error_y": {
             "color": "#2a3f5f"
            },
            "marker": {
             "line": {
              "color": "#E5ECF6",
              "width": 0.5
             }
            },
            "type": "bar"
           }
          ],
          "barpolar": [
           {
            "marker": {
             "line": {
              "color": "#E5ECF6",
              "width": 0.5
             }
            },
            "type": "barpolar"
           }
          ],
          "carpet": [
           {
            "aaxis": {
             "endlinecolor": "#2a3f5f",
             "gridcolor": "white",
             "linecolor": "white",
             "minorgridcolor": "white",
             "startlinecolor": "#2a3f5f"
            },
            "baxis": {
             "endlinecolor": "#2a3f5f",
             "gridcolor": "white",
             "linecolor": "white",
             "minorgridcolor": "white",
             "startlinecolor": "#2a3f5f"
            },
            "type": "carpet"
           }
          ],
          "choropleth": [
           {
            "colorbar": {
             "outlinewidth": 0,
             "ticks": ""
            },
            "type": "choropleth"
           }
          ],
          "contour": [
           {
            "colorbar": {
             "outlinewidth": 0,
             "ticks": ""
            },
            "colorscale": [
             [
              0,
              "#0d0887"
             ],
             [
              0.1111111111111111,
              "#46039f"
             ],
             [
              0.2222222222222222,
              "#7201a8"
             ],
             [
              0.3333333333333333,
              "#9c179e"
             ],
             [
              0.4444444444444444,
              "#bd3786"
             ],
             [
              0.5555555555555556,
              "#d8576b"
             ],
             [
              0.6666666666666666,
              "#ed7953"
             ],
             [
              0.7777777777777778,
              "#fb9f3a"
             ],
             [
              0.8888888888888888,
              "#fdca26"
             ],
             [
              1,
              "#f0f921"
             ]
            ],
            "type": "contour"
           }
          ],
          "contourcarpet": [
           {
            "colorbar": {
             "outlinewidth": 0,
             "ticks": ""
            },
            "type": "contourcarpet"
           }
          ],
          "heatmap": [
           {
            "colorbar": {
             "outlinewidth": 0,
             "ticks": ""
            },
            "colorscale": [
             [
              0,
              "#0d0887"
             ],
             [
              0.1111111111111111,
              "#46039f"
             ],
             [
              0.2222222222222222,
              "#7201a8"
             ],
             [
              0.3333333333333333,
              "#9c179e"
             ],
             [
              0.4444444444444444,
              "#bd3786"
             ],
             [
              0.5555555555555556,
              "#d8576b"
             ],
             [
              0.6666666666666666,
              "#ed7953"
             ],
             [
              0.7777777777777778,
              "#fb9f3a"
             ],
             [
              0.8888888888888888,
              "#fdca26"
             ],
             [
              1,
              "#f0f921"
             ]
            ],
            "type": "heatmap"
           }
          ],
          "heatmapgl": [
           {
            "colorbar": {
             "outlinewidth": 0,
             "ticks": ""
            },
            "colorscale": [
             [
              0,
              "#0d0887"
             ],
             [
              0.1111111111111111,
              "#46039f"
             ],
             [
              0.2222222222222222,
              "#7201a8"
             ],
             [
              0.3333333333333333,
              "#9c179e"
             ],
             [
              0.4444444444444444,
              "#bd3786"
             ],
             [
              0.5555555555555556,
              "#d8576b"
             ],
             [
              0.6666666666666666,
              "#ed7953"
             ],
             [
              0.7777777777777778,
              "#fb9f3a"
             ],
             [
              0.8888888888888888,
              "#fdca26"
             ],
             [
              1,
              "#f0f921"
             ]
            ],
            "type": "heatmapgl"
           }
          ],
          "histogram": [
           {
            "marker": {
             "colorbar": {
              "outlinewidth": 0,
              "ticks": ""
             }
            },
            "type": "histogram"
           }
          ],
          "histogram2d": [
           {
            "colorbar": {
             "outlinewidth": 0,
             "ticks": ""
            },
            "colorscale": [
             [
              0,
              "#0d0887"
             ],
             [
              0.1111111111111111,
              "#46039f"
             ],
             [
              0.2222222222222222,
              "#7201a8"
             ],
             [
              0.3333333333333333,
              "#9c179e"
             ],
             [
              0.4444444444444444,
              "#bd3786"
             ],
             [
              0.5555555555555556,
              "#d8576b"
             ],
             [
              0.6666666666666666,
              "#ed7953"
             ],
             [
              0.7777777777777778,
              "#fb9f3a"
             ],
             [
              0.8888888888888888,
              "#fdca26"
             ],
             [
              1,
              "#f0f921"
             ]
            ],
            "type": "histogram2d"
           }
          ],
          "histogram2dcontour": [
           {
            "colorbar": {
             "outlinewidth": 0,
             "ticks": ""
            },
            "colorscale": [
             [
              0,
              "#0d0887"
             ],
             [
              0.1111111111111111,
              "#46039f"
             ],
             [
              0.2222222222222222,
              "#7201a8"
             ],
             [
              0.3333333333333333,
              "#9c179e"
             ],
             [
              0.4444444444444444,
              "#bd3786"
             ],
             [
              0.5555555555555556,
              "#d8576b"
             ],
             [
              0.6666666666666666,
              "#ed7953"
             ],
             [
              0.7777777777777778,
              "#fb9f3a"
             ],
             [
              0.8888888888888888,
              "#fdca26"
             ],
             [
              1,
              "#f0f921"
             ]
            ],
            "type": "histogram2dcontour"
           }
          ],
          "mesh3d": [
           {
            "colorbar": {
             "outlinewidth": 0,
             "ticks": ""
            },
            "type": "mesh3d"
           }
          ],
          "parcoords": [
           {
            "line": {
             "colorbar": {
              "outlinewidth": 0,
              "ticks": ""
             }
            },
            "type": "parcoords"
           }
          ],
          "pie": [
           {
            "automargin": true,
            "type": "pie"
           }
          ],
          "scatter": [
           {
            "marker": {
             "colorbar": {
              "outlinewidth": 0,
              "ticks": ""
             }
            },
            "type": "scatter"
           }
          ],
          "scatter3d": [
           {
            "line": {
             "colorbar": {
              "outlinewidth": 0,
              "ticks": ""
             }
            },
            "marker": {
             "colorbar": {
              "outlinewidth": 0,
              "ticks": ""
             }
            },
            "type": "scatter3d"
           }
          ],
          "scattercarpet": [
           {
            "marker": {
             "colorbar": {
              "outlinewidth": 0,
              "ticks": ""
             }
            },
            "type": "scattercarpet"
           }
          ],
          "scattergeo": [
           {
            "marker": {
             "colorbar": {
              "outlinewidth": 0,
              "ticks": ""
             }
            },
            "type": "scattergeo"
           }
          ],
          "scattergl": [
           {
            "marker": {
             "colorbar": {
              "outlinewidth": 0,
              "ticks": ""
             }
            },
            "type": "scattergl"
           }
          ],
          "scattermapbox": [
           {
            "marker": {
             "colorbar": {
              "outlinewidth": 0,
              "ticks": ""
             }
            },
            "type": "scattermapbox"
           }
          ],
          "scatterpolar": [
           {
            "marker": {
             "colorbar": {
              "outlinewidth": 0,
              "ticks": ""
             }
            },
            "type": "scatterpolar"
           }
          ],
          "scatterpolargl": [
           {
            "marker": {
             "colorbar": {
              "outlinewidth": 0,
              "ticks": ""
             }
            },
            "type": "scatterpolargl"
           }
          ],
          "scatterternary": [
           {
            "marker": {
             "colorbar": {
              "outlinewidth": 0,
              "ticks": ""
             }
            },
            "type": "scatterternary"
           }
          ],
          "surface": [
           {
            "colorbar": {
             "outlinewidth": 0,
             "ticks": ""
            },
            "colorscale": [
             [
              0,
              "#0d0887"
             ],
             [
              0.1111111111111111,
              "#46039f"
             ],
             [
              0.2222222222222222,
              "#7201a8"
             ],
             [
              0.3333333333333333,
              "#9c179e"
             ],
             [
              0.4444444444444444,
              "#bd3786"
             ],
             [
              0.5555555555555556,
              "#d8576b"
             ],
             [
              0.6666666666666666,
              "#ed7953"
             ],
             [
              0.7777777777777778,
              "#fb9f3a"
             ],
             [
              0.8888888888888888,
              "#fdca26"
             ],
             [
              1,
              "#f0f921"
             ]
            ],
            "type": "surface"
           }
          ],
          "table": [
           {
            "cells": {
             "fill": {
              "color": "#EBF0F8"
             },
             "line": {
              "color": "white"
             }
            },
            "header": {
             "fill": {
              "color": "#C8D4E3"
             },
             "line": {
              "color": "white"
             }
            },
            "type": "table"
           }
          ]
         },
         "layout": {
          "annotationdefaults": {
           "arrowcolor": "#2a3f5f",
           "arrowhead": 0,
           "arrowwidth": 1
          },
          "coloraxis": {
           "colorbar": {
            "outlinewidth": 0,
            "ticks": ""
           }
          },
          "colorscale": {
           "diverging": [
            [
             0,
             "#8e0152"
            ],
            [
             0.1,
             "#c51b7d"
            ],
            [
             0.2,
             "#de77ae"
            ],
            [
             0.3,
             "#f1b6da"
            ],
            [
             0.4,
             "#fde0ef"
            ],
            [
             0.5,
             "#f7f7f7"
            ],
            [
             0.6,
             "#e6f5d0"
            ],
            [
             0.7,
             "#b8e186"
            ],
            [
             0.8,
             "#7fbc41"
            ],
            [
             0.9,
             "#4d9221"
            ],
            [
             1,
             "#276419"
            ]
           ],
           "sequential": [
            [
             0,
             "#0d0887"
            ],
            [
             0.1111111111111111,
             "#46039f"
            ],
            [
             0.2222222222222222,
             "#7201a8"
            ],
            [
             0.3333333333333333,
             "#9c179e"
            ],
            [
             0.4444444444444444,
             "#bd3786"
            ],
            [
             0.5555555555555556,
             "#d8576b"
            ],
            [
             0.6666666666666666,
             "#ed7953"
            ],
            [
             0.7777777777777778,
             "#fb9f3a"
            ],
            [
             0.8888888888888888,
             "#fdca26"
            ],
            [
             1,
             "#f0f921"
            ]
           ],
           "sequentialminus": [
            [
             0,
             "#0d0887"
            ],
            [
             0.1111111111111111,
             "#46039f"
            ],
            [
             0.2222222222222222,
             "#7201a8"
            ],
            [
             0.3333333333333333,
             "#9c179e"
            ],
            [
             0.4444444444444444,
             "#bd3786"
            ],
            [
             0.5555555555555556,
             "#d8576b"
            ],
            [
             0.6666666666666666,
             "#ed7953"
            ],
            [
             0.7777777777777778,
             "#fb9f3a"
            ],
            [
             0.8888888888888888,
             "#fdca26"
            ],
            [
             1,
             "#f0f921"
            ]
           ]
          },
          "colorway": [
           "#636efa",
           "#EF553B",
           "#00cc96",
           "#ab63fa",
           "#FFA15A",
           "#19d3f3",
           "#FF6692",
           "#B6E880",
           "#FF97FF",
           "#FECB52"
          ],
          "font": {
           "color": "#2a3f5f"
          },
          "geo": {
           "bgcolor": "white",
           "lakecolor": "white",
           "landcolor": "#E5ECF6",
           "showlakes": true,
           "showland": true,
           "subunitcolor": "white"
          },
          "hoverlabel": {
           "align": "left"
          },
          "hovermode": "closest",
          "mapbox": {
           "style": "light"
          },
          "paper_bgcolor": "white",
          "plot_bgcolor": "#E5ECF6",
          "polar": {
           "angularaxis": {
            "gridcolor": "white",
            "linecolor": "white",
            "ticks": ""
           },
           "bgcolor": "#E5ECF6",
           "radialaxis": {
            "gridcolor": "white",
            "linecolor": "white",
            "ticks": ""
           }
          },
          "scene": {
           "xaxis": {
            "backgroundcolor": "#E5ECF6",
            "gridcolor": "white",
            "gridwidth": 2,
            "linecolor": "white",
            "showbackground": true,
            "ticks": "",
            "zerolinecolor": "white"
           },
           "yaxis": {
            "backgroundcolor": "#E5ECF6",
            "gridcolor": "white",
            "gridwidth": 2,
            "linecolor": "white",
            "showbackground": true,
            "ticks": "",
            "zerolinecolor": "white"
           },
           "zaxis": {
            "backgroundcolor": "#E5ECF6",
            "gridcolor": "white",
            "gridwidth": 2,
            "linecolor": "white",
            "showbackground": true,
            "ticks": "",
            "zerolinecolor": "white"
           }
          },
          "shapedefaults": {
           "line": {
            "color": "#2a3f5f"
           }
          },
          "ternary": {
           "aaxis": {
            "gridcolor": "white",
            "linecolor": "white",
            "ticks": ""
           },
           "baxis": {
            "gridcolor": "white",
            "linecolor": "white",
            "ticks": ""
           },
           "bgcolor": "#E5ECF6",
           "caxis": {
            "gridcolor": "white",
            "linecolor": "white",
            "ticks": ""
           }
          },
          "title": {
           "x": 0.05
          },
          "xaxis": {
           "automargin": true,
           "gridcolor": "white",
           "linecolor": "white",
           "ticks": "",
           "title": {
            "standoff": 15
           },
           "zerolinecolor": "white",
           "zerolinewidth": 2
          },
          "yaxis": {
           "automargin": true,
           "gridcolor": "white",
           "linecolor": "white",
           "ticks": "",
           "title": {
            "standoff": 15
           },
           "zerolinecolor": "white",
           "zerolinewidth": 2
          }
         }
        },
        "xaxis": {
         "anchor": "y",
         "domain": [
          0,
          1
         ],
         "title": {
          "text": "x"
         }
        },
        "yaxis": {
         "anchor": "x",
         "domain": [
          0,
          1
         ],
         "title": {
          "text": "y"
         }
        }
       }
      },
      "text/html": [
       "<div>                            <div id=\"590e7a6d-bbda-4176-86d9-54b4a16769b1\" class=\"plotly-graph-div\" style=\"height:525px; width:100%;\"></div>            <script type=\"text/javascript\">                require([\"plotly\"], function(Plotly) {                    window.PLOTLYENV=window.PLOTLYENV || {};                                    if (document.getElementById(\"590e7a6d-bbda-4176-86d9-54b4a16769b1\")) {                    Plotly.newPlot(                        \"590e7a6d-bbda-4176-86d9-54b4a16769b1\",                        [{\"alignmentgroup\": \"True\", \"hovertemplate\": \"x=%{x}<br>y=%{y}<extra></extra>\", \"legendgroup\": \"\", \"marker\": {\"color\": \"#636efa\"}, \"name\": \"\", \"offsetgroup\": \"\", \"orientation\": \"v\", \"showlegend\": false, \"textposition\": \"auto\", \"type\": \"bar\", \"x\": [17, 69, 85, 169, 204, 212, 218, 220, 232, 233, 240, 243, 246, 249, 253, 260, 264, 273, 274, 276, 291, 304, 314, 409, 420], \"xaxis\": \"x\", \"y\": [6, 6, 6, 6, 2, 5, 1, 4, 6, 2, 6, 2, 6, 5, 6, 6, 6, 6, 6, 5, 2, 6, 6, 3, 5], \"yaxis\": \"y\"}],                        {\"barmode\": \"relative\", \"legend\": {\"tracegroupgap\": 0}, \"margin\": {\"t\": 60}, \"template\": {\"data\": {\"bar\": [{\"error_x\": {\"color\": \"#2a3f5f\"}, \"error_y\": {\"color\": \"#2a3f5f\"}, \"marker\": {\"line\": {\"color\": \"#E5ECF6\", \"width\": 0.5}}, \"type\": \"bar\"}], \"barpolar\": [{\"marker\": {\"line\": {\"color\": \"#E5ECF6\", \"width\": 0.5}}, \"type\": \"barpolar\"}], \"carpet\": [{\"aaxis\": {\"endlinecolor\": \"#2a3f5f\", \"gridcolor\": \"white\", \"linecolor\": \"white\", \"minorgridcolor\": \"white\", \"startlinecolor\": \"#2a3f5f\"}, \"baxis\": {\"endlinecolor\": \"#2a3f5f\", \"gridcolor\": \"white\", \"linecolor\": \"white\", \"minorgridcolor\": \"white\", \"startlinecolor\": \"#2a3f5f\"}, \"type\": \"carpet\"}], \"choropleth\": [{\"colorbar\": {\"outlinewidth\": 0, \"ticks\": \"\"}, \"type\": \"choropleth\"}], \"contour\": [{\"colorbar\": {\"outlinewidth\": 0, \"ticks\": \"\"}, \"colorscale\": [[0.0, \"#0d0887\"], [0.1111111111111111, \"#46039f\"], [0.2222222222222222, \"#7201a8\"], [0.3333333333333333, \"#9c179e\"], [0.4444444444444444, \"#bd3786\"], [0.5555555555555556, \"#d8576b\"], [0.6666666666666666, \"#ed7953\"], [0.7777777777777778, \"#fb9f3a\"], [0.8888888888888888, \"#fdca26\"], [1.0, \"#f0f921\"]], \"type\": \"contour\"}], \"contourcarpet\": [{\"colorbar\": {\"outlinewidth\": 0, \"ticks\": \"\"}, \"type\": \"contourcarpet\"}], \"heatmap\": [{\"colorbar\": {\"outlinewidth\": 0, \"ticks\": \"\"}, \"colorscale\": [[0.0, \"#0d0887\"], [0.1111111111111111, \"#46039f\"], [0.2222222222222222, \"#7201a8\"], [0.3333333333333333, \"#9c179e\"], [0.4444444444444444, \"#bd3786\"], [0.5555555555555556, \"#d8576b\"], [0.6666666666666666, \"#ed7953\"], [0.7777777777777778, \"#fb9f3a\"], [0.8888888888888888, \"#fdca26\"], [1.0, \"#f0f921\"]], \"type\": \"heatmap\"}], \"heatmapgl\": [{\"colorbar\": {\"outlinewidth\": 0, \"ticks\": \"\"}, \"colorscale\": [[0.0, \"#0d0887\"], [0.1111111111111111, \"#46039f\"], [0.2222222222222222, \"#7201a8\"], [0.3333333333333333, \"#9c179e\"], [0.4444444444444444, \"#bd3786\"], [0.5555555555555556, \"#d8576b\"], [0.6666666666666666, \"#ed7953\"], [0.7777777777777778, \"#fb9f3a\"], [0.8888888888888888, \"#fdca26\"], [1.0, \"#f0f921\"]], \"type\": \"heatmapgl\"}], \"histogram\": [{\"marker\": {\"colorbar\": {\"outlinewidth\": 0, \"ticks\": \"\"}}, \"type\": \"histogram\"}], \"histogram2d\": [{\"colorbar\": {\"outlinewidth\": 0, \"ticks\": \"\"}, \"colorscale\": [[0.0, \"#0d0887\"], [0.1111111111111111, \"#46039f\"], [0.2222222222222222, \"#7201a8\"], [0.3333333333333333, \"#9c179e\"], [0.4444444444444444, \"#bd3786\"], [0.5555555555555556, \"#d8576b\"], [0.6666666666666666, \"#ed7953\"], [0.7777777777777778, \"#fb9f3a\"], [0.8888888888888888, \"#fdca26\"], [1.0, \"#f0f921\"]], \"type\": \"histogram2d\"}], \"histogram2dcontour\": [{\"colorbar\": {\"outlinewidth\": 0, \"ticks\": \"\"}, \"colorscale\": [[0.0, \"#0d0887\"], [0.1111111111111111, \"#46039f\"], [0.2222222222222222, \"#7201a8\"], [0.3333333333333333, \"#9c179e\"], [0.4444444444444444, \"#bd3786\"], [0.5555555555555556, \"#d8576b\"], [0.6666666666666666, \"#ed7953\"], [0.7777777777777778, \"#fb9f3a\"], [0.8888888888888888, \"#fdca26\"], [1.0, \"#f0f921\"]], \"type\": \"histogram2dcontour\"}], \"mesh3d\": [{\"colorbar\": {\"outlinewidth\": 0, \"ticks\": \"\"}, \"type\": \"mesh3d\"}], \"parcoords\": [{\"line\": {\"colorbar\": {\"outlinewidth\": 0, \"ticks\": \"\"}}, \"type\": \"parcoords\"}], \"pie\": [{\"automargin\": true, \"type\": \"pie\"}], \"scatter\": [{\"marker\": {\"colorbar\": {\"outlinewidth\": 0, \"ticks\": \"\"}}, \"type\": \"scatter\"}], \"scatter3d\": [{\"line\": {\"colorbar\": {\"outlinewidth\": 0, \"ticks\": \"\"}}, \"marker\": {\"colorbar\": {\"outlinewidth\": 0, \"ticks\": \"\"}}, \"type\": \"scatter3d\"}], \"scattercarpet\": [{\"marker\": {\"colorbar\": {\"outlinewidth\": 0, \"ticks\": \"\"}}, \"type\": \"scattercarpet\"}], \"scattergeo\": [{\"marker\": {\"colorbar\": {\"outlinewidth\": 0, \"ticks\": \"\"}}, \"type\": \"scattergeo\"}], \"scattergl\": [{\"marker\": {\"colorbar\": {\"outlinewidth\": 0, \"ticks\": \"\"}}, \"type\": \"scattergl\"}], \"scattermapbox\": [{\"marker\": {\"colorbar\": {\"outlinewidth\": 0, \"ticks\": \"\"}}, \"type\": \"scattermapbox\"}], \"scatterpolar\": [{\"marker\": {\"colorbar\": {\"outlinewidth\": 0, \"ticks\": \"\"}}, \"type\": \"scatterpolar\"}], \"scatterpolargl\": [{\"marker\": {\"colorbar\": {\"outlinewidth\": 0, \"ticks\": \"\"}}, \"type\": \"scatterpolargl\"}], \"scatterternary\": [{\"marker\": {\"colorbar\": {\"outlinewidth\": 0, \"ticks\": \"\"}}, \"type\": \"scatterternary\"}], \"surface\": [{\"colorbar\": {\"outlinewidth\": 0, \"ticks\": \"\"}, \"colorscale\": [[0.0, \"#0d0887\"], [0.1111111111111111, \"#46039f\"], [0.2222222222222222, \"#7201a8\"], [0.3333333333333333, \"#9c179e\"], [0.4444444444444444, \"#bd3786\"], [0.5555555555555556, \"#d8576b\"], [0.6666666666666666, \"#ed7953\"], [0.7777777777777778, \"#fb9f3a\"], [0.8888888888888888, \"#fdca26\"], [1.0, \"#f0f921\"]], \"type\": \"surface\"}], \"table\": [{\"cells\": {\"fill\": {\"color\": \"#EBF0F8\"}, \"line\": {\"color\": \"white\"}}, \"header\": {\"fill\": {\"color\": \"#C8D4E3\"}, \"line\": {\"color\": \"white\"}}, \"type\": \"table\"}]}, \"layout\": {\"annotationdefaults\": {\"arrowcolor\": \"#2a3f5f\", \"arrowhead\": 0, \"arrowwidth\": 1}, \"coloraxis\": {\"colorbar\": {\"outlinewidth\": 0, \"ticks\": \"\"}}, \"colorscale\": {\"diverging\": [[0, \"#8e0152\"], [0.1, \"#c51b7d\"], [0.2, \"#de77ae\"], [0.3, \"#f1b6da\"], [0.4, \"#fde0ef\"], [0.5, \"#f7f7f7\"], [0.6, \"#e6f5d0\"], [0.7, \"#b8e186\"], [0.8, \"#7fbc41\"], [0.9, \"#4d9221\"], [1, \"#276419\"]], \"sequential\": [[0.0, \"#0d0887\"], [0.1111111111111111, \"#46039f\"], [0.2222222222222222, \"#7201a8\"], [0.3333333333333333, \"#9c179e\"], [0.4444444444444444, \"#bd3786\"], [0.5555555555555556, \"#d8576b\"], [0.6666666666666666, \"#ed7953\"], [0.7777777777777778, \"#fb9f3a\"], [0.8888888888888888, \"#fdca26\"], [1.0, \"#f0f921\"]], \"sequentialminus\": [[0.0, \"#0d0887\"], [0.1111111111111111, \"#46039f\"], [0.2222222222222222, \"#7201a8\"], [0.3333333333333333, \"#9c179e\"], [0.4444444444444444, \"#bd3786\"], [0.5555555555555556, \"#d8576b\"], [0.6666666666666666, \"#ed7953\"], [0.7777777777777778, \"#fb9f3a\"], [0.8888888888888888, \"#fdca26\"], [1.0, \"#f0f921\"]]}, \"colorway\": [\"#636efa\", \"#EF553B\", \"#00cc96\", \"#ab63fa\", \"#FFA15A\", \"#19d3f3\", \"#FF6692\", \"#B6E880\", \"#FF97FF\", \"#FECB52\"], \"font\": {\"color\": \"#2a3f5f\"}, \"geo\": {\"bgcolor\": \"white\", \"lakecolor\": \"white\", \"landcolor\": \"#E5ECF6\", \"showlakes\": true, \"showland\": true, \"subunitcolor\": \"white\"}, \"hoverlabel\": {\"align\": \"left\"}, \"hovermode\": \"closest\", \"mapbox\": {\"style\": \"light\"}, \"paper_bgcolor\": \"white\", \"plot_bgcolor\": \"#E5ECF6\", \"polar\": {\"angularaxis\": {\"gridcolor\": \"white\", \"linecolor\": \"white\", \"ticks\": \"\"}, \"bgcolor\": \"#E5ECF6\", \"radialaxis\": {\"gridcolor\": \"white\", \"linecolor\": \"white\", \"ticks\": \"\"}}, \"scene\": {\"xaxis\": {\"backgroundcolor\": \"#E5ECF6\", \"gridcolor\": \"white\", \"gridwidth\": 2, \"linecolor\": \"white\", \"showbackground\": true, \"ticks\": \"\", \"zerolinecolor\": \"white\"}, \"yaxis\": {\"backgroundcolor\": \"#E5ECF6\", \"gridcolor\": \"white\", \"gridwidth\": 2, \"linecolor\": \"white\", \"showbackground\": true, \"ticks\": \"\", \"zerolinecolor\": \"white\"}, \"zaxis\": {\"backgroundcolor\": \"#E5ECF6\", \"gridcolor\": \"white\", \"gridwidth\": 2, \"linecolor\": \"white\", \"showbackground\": true, \"ticks\": \"\", \"zerolinecolor\": \"white\"}}, \"shapedefaults\": {\"line\": {\"color\": \"#2a3f5f\"}}, \"ternary\": {\"aaxis\": {\"gridcolor\": \"white\", \"linecolor\": \"white\", \"ticks\": \"\"}, \"baxis\": {\"gridcolor\": \"white\", \"linecolor\": \"white\", \"ticks\": \"\"}, \"bgcolor\": \"#E5ECF6\", \"caxis\": {\"gridcolor\": \"white\", \"linecolor\": \"white\", \"ticks\": \"\"}}, \"title\": {\"x\": 0.05}, \"xaxis\": {\"automargin\": true, \"gridcolor\": \"white\", \"linecolor\": \"white\", \"ticks\": \"\", \"title\": {\"standoff\": 15}, \"zerolinecolor\": \"white\", \"zerolinewidth\": 2}, \"yaxis\": {\"automargin\": true, \"gridcolor\": \"white\", \"linecolor\": \"white\", \"ticks\": \"\", \"title\": {\"standoff\": 15}, \"zerolinecolor\": \"white\", \"zerolinewidth\": 2}}}, \"xaxis\": {\"anchor\": \"y\", \"domain\": [0.0, 1.0], \"title\": {\"text\": \"x\"}}, \"yaxis\": {\"anchor\": \"x\", \"domain\": [0.0, 1.0], \"title\": {\"text\": \"y\"}}},                        {\"responsive\": true}                    ).then(function(){\n",
       "                            \n",
       "var gd = document.getElementById('590e7a6d-bbda-4176-86d9-54b4a16769b1');\n",
       "var x = new MutationObserver(function (mutations, observer) {{\n",
       "        var display = window.getComputedStyle(gd).display;\n",
       "        if (!display || display === 'none') {{\n",
       "            console.log([gd, 'removed!']);\n",
       "            Plotly.purge(gd);\n",
       "            observer.disconnect();\n",
       "        }}\n",
       "}});\n",
       "\n",
       "// Listen for the removal of the full notebook cells\n",
       "var notebookContainer = gd.closest('#notebook-container');\n",
       "if (notebookContainer) {{\n",
       "    x.observe(notebookContainer, {childList: true});\n",
       "}}\n",
       "\n",
       "// Listen for the clearing of the current output cell\n",
       "var outputEl = gd.closest('.output');\n",
       "if (outputEl) {{\n",
       "    x.observe(outputEl, {childList: true});\n",
       "}}\n",
       "\n",
       "                        })                };                });            </script>        </div>"
      ]
     },
     "metadata": {},
     "output_type": "display_data"
    }
   ],
   "source": [
    "best_params = {'random_state': 666,\n",
    " 'n_estimators': 1200,\n",
    " 'min_samples_split': 20,\n",
    " 'min_samples_leaf': 2,\n",
    "#  'max_features': 'sqrt',\n",
    " 'max_depth': None,\n",
    " 'bootstrap': False}\n",
    "\n",
    "no_sick_df = merge_df[merge_df.sample_time != 'sick']\n",
    "\n",
    "X = no_sick_df.visit_age_mo.to_numpy().reshape(-1,1)\n",
    "best_ind_list = list()\n",
    "for i in tqdm(range(2,8)):\n",
    "    labels = no_sick_df.sample_time.unique()\n",
    "    kmeans = KMeans(n_clusters=i, random_state=666).fit(X)\n",
    "    args_res = np.argsort(kmeans.cluster_centers_.reshape(-1))\n",
    "#     labels = list(map(lambda x: labels[np.where(args_res == x)[0][0]+2] ,kmeans.labels_))\n",
    "    # labels = list(map(lambda x: np.where(args_res == x)[0][0] ,kmeans.labels_))\n",
    "    no_sick_df = no_sick_df.assign(kmeans_label=kmeans.labels_.astype(str))\n",
    "    \n",
    "#     px.box(no_sick_df,x='kmeans_label',y='visit_age_mo',points='all')\n",
    "    clf = RandomForestClassifier(**best_params)\n",
    "    get_classifier_accuracy(clf,no_sick_df,meta_idx,y='kmeans_label',train_ratio=0.8)\n",
    "    importances = clf.feature_importances_\n",
    "    indices = np.argsort(importances)[::-1]\n",
    "    best_ind_list.append(indices[:40])\n",
    "\n",
    "cls_ind_ndarr = np.array(best_ind_list)\n",
    "cls_unique, cls_count = np.unique(cls_ind_ndarr,return_counts=True)\n",
    "px.bar(x=unique,y=count)"
   ]
  },
  {
   "cell_type": "code",
   "execution_count": 525,
   "metadata": {
    "ExecuteTime": {
     "end_time": "2021-01-27T19:39:56.412967Z",
     "start_time": "2021-01-27T19:39:56.408097Z"
    }
   },
   "outputs": [
    {
     "name": "stdout",
     "output_type": "stream",
     "text": [
      "We got (29,) features that appeared in top 20 for at least 5 models\n"
     ]
    },
    {
     "data": {
      "text/plain": [
       "(29,)"
      ]
     },
     "execution_count": 525,
     "metadata": {},
     "output_type": "execute_result"
    }
   ],
   "source": [
    "top_clf_repeat_features = cls_unique[cls_count >= 6]\n",
    "print(f\"We got {top_clf_repeat_features.shape} features that appeared in top 20 for at least 5 models\")\n",
    "top_clf_repeat_features.shape"
   ]
  },
  {
   "cell_type": "markdown",
   "metadata": {
    "ExecuteTime": {
     "end_time": "2021-01-25T16:01:45.965294Z",
     "start_time": "2021-01-25T16:01:45.960366Z"
    }
   },
   "source": [
    "**Evaluating the Classification model**:\n",
    "\n",
    "In order to Evaluate our model, we will create a confusion matrix, where the rows are the label and columns are the predictions"
   ]
  },
  {
   "cell_type": "code",
   "execution_count": 183,
   "metadata": {
    "ExecuteTime": {
     "end_time": "2021-01-25T19:27:03.835049Z",
     "start_time": "2021-01-25T19:27:00.844522Z"
    }
   },
   "outputs": [
    {
     "name": "stdout",
     "output_type": "stream",
     "text": [
      "Got test accuracy 0.5602409638554217\n"
     ]
    }
   ],
   "source": [
    "no_sick_df = merge_df[merge_df.sample_time != 'sick']\n",
    "merge_df_tt = get_merged_tt_df(no_sick_df,split_control=False,train_ratio=0.8)\n",
    "\n",
    "# Get new labels\n",
    "X = merge_df_tt.visit_age_mo.to_numpy().reshape(-1,1)\n",
    "labels = merge_df_tt.sample_time.unique()\n",
    "kmeans = KMeans(n_clusters=6, random_state=666).fit(X)\n",
    "args_res = np.argsort(kmeans.cluster_centers_.reshape(-1))\n",
    "labels = list(map(lambda x: classes_arr[np.where(args_res == x)[0][0]] ,kmeans.labels_))\n",
    "# labels = list(map(lambda x: np.where(args_res == x)[0][0] ,kmeans.labels_))\n",
    "merge_df_tt = merge_df_tt.assign(kmeans_label=labels)\n",
    "\n",
    "clf = RandomForestClassifier(**best_params)\n",
    "# pred_merge_df = merge_df_tt.loc[merge_df_tt.tt == 'test'].copy()\n",
    "train_df = merge_df_tt[merge_df_tt.tt == 'train']\n",
    "X = train_df.iloc[:,:meta_idx].values\n",
    "y = train_df.kmeans_label.values\n",
    "clf.fit(X,y)\n",
    "\n",
    "test_df = merge_df_tt[merge_df_tt.tt == 'test']\n",
    "X_test = test_df.iloc[:,:meta_idx].values\n",
    "y_test = test_df.kmeans_label.values\n",
    "pred = clf.predict(X_test)\n",
    "N_classes = len(clf.classes_)\n",
    "\n",
    "\n",
    "print(f\"Got test accuracy {accuracy_score(y_test,pred)}\")\n",
    "\n",
    "\n",
    "\n",
    "\n"
   ]
  },
  {
   "cell_type": "code",
   "execution_count": 246,
   "metadata": {
    "ExecuteTime": {
     "end_time": "2021-01-25T19:52:46.575040Z",
     "start_time": "2021-01-25T19:52:46.560647Z"
    }
   },
   "outputs": [
    {
     "ename": "TypeError",
     "evalue": "get_confusion_matrix() missing 1 required positional argument: 'pred'",
     "output_type": "error",
     "traceback": [
      "\u001b[0;31m---------------------------------------------------------------------------\u001b[0m",
      "\u001b[0;31mTypeError\u001b[0m                                 Traceback (most recent call last)",
      "\u001b[0;32m<ipython-input-246-b7d2169d79a9>\u001b[0m in \u001b[0;36m<module>\u001b[0;34m\u001b[0m\n\u001b[1;32m     20\u001b[0m     \u001b[0mct\u001b[0m \u001b[0;34m=\u001b[0m \u001b[0mct\u001b[0m\u001b[0;34m.\u001b[0m\u001b[0mrename\u001b[0m\u001b[0;34m(\u001b[0m\u001b[0mcolumns\u001b[0m\u001b[0;34m=\u001b[0m\u001b[0mmapping_dict\u001b[0m\u001b[0;34m,\u001b[0m\u001b[0mindex\u001b[0m\u001b[0;34m=\u001b[0m\u001b[0mmapping_dict\u001b[0m\u001b[0;34m)\u001b[0m\u001b[0;34m\u001b[0m\u001b[0;34m\u001b[0m\u001b[0m\n\u001b[1;32m     21\u001b[0m     \u001b[0;32mreturn\u001b[0m \u001b[0mct\u001b[0m\u001b[0;34m\u001b[0m\u001b[0;34m\u001b[0m\u001b[0m\n\u001b[0;32m---> 22\u001b[0;31m \u001b[0mct\u001b[0m \u001b[0;34m=\u001b[0m \u001b[0mget_confusion_matrix\u001b[0m\u001b[0;34m(\u001b[0m\u001b[0mtest_df\u001b[0m\u001b[0;34m,\u001b[0m\u001b[0;34m)\u001b[0m\u001b[0;34m\u001b[0m\u001b[0;34m\u001b[0m\u001b[0m\n\u001b[0m",
      "\u001b[0;31mTypeError\u001b[0m: get_confusion_matrix() missing 1 required positional argument: 'pred'"
     ]
    }
   ],
   "source": [
    "#Create a confusion matrix\n",
    "def get_confusion_matrix(test_df,pred,classes_arr=None):\n",
    "    if classes_arr is None:\n",
    "        classes_arr = ['onemonth', 'twomonth','fourmonth', 'sixmonth', 'ninemonth' , 'oneyear']\n",
    "        \n",
    "    df_mapping = pd.DataFrame({'sample_time':classes_arr})\n",
    "    sort_mapping = df_mapping.reset_index().set_index('sample_time')\n",
    "    \n",
    "    pred_merge_df = test_df.copy()\n",
    "    pred_merge_df['pred_names'] = pred\n",
    "    pred_merge_df['sample_time_num'] = pred_merge_df['kmeans_label'].map(sort_mapping['index'])\n",
    "    pred_merge_df['kmeans_label'].unique(),pred_merge_df['sample_time_num'].unique()\n",
    "    pred_merge_df['pred_names_num'] = pred_merge_df['pred_names'].map(sort_mapping['index'])\n",
    "\n",
    "    pred_s = pd.Series(pred_merge_df.sample_time_num,name='pred')\n",
    "    label_s = pd.Series(pred_merge_df.pred_names_num,name='label')\n",
    "\n",
    "    ct = pd.crosstab(label_s,pred_s,normalize='index')\n",
    "    mapping_dict = df_mapping.to_dict()['sample_time']\n",
    "    ct = ct.rename(columns=mapping_dict,index=mapping_dict)\n",
    "    return ct\n",
    "ct = get_confusion_matrix(test_df,)\n"
   ]
  },
  {
   "cell_type": "code",
   "execution_count": 257,
   "metadata": {
    "ExecuteTime": {
     "end_time": "2021-01-25T20:21:32.776355Z",
     "start_time": "2021-01-25T20:21:32.733399Z"
    }
   },
   "outputs": [
    {
     "data": {
      "application/vnd.plotly.v1+json": {
       "config": {
        "plotlyServerURL": "https://plot.ly"
       },
       "data": [
        {
         "colorscale": [
          [
           0,
           "rgb(237, 229, 207)"
          ],
          [
           0.16666666666666666,
           "rgb(224, 194, 162)"
          ],
          [
           0.3333333333333333,
           "rgb(211, 156, 131)"
          ],
          [
           0.5,
           "rgb(193, 118, 111)"
          ],
          [
           0.6666666666666666,
           "rgb(166, 84, 97)"
          ],
          [
           0.8333333333333334,
           "rgb(129, 55, 83)"
          ],
          [
           1,
           "rgb(84, 31, 63)"
          ]
         ],
         "reversescale": false,
         "showscale": false,
         "type": "heatmap",
         "x": [
          "onemonth",
          "twomonth",
          "fourmonth",
          "sixmonth",
          "ninemonth",
          "oneyear"
         ],
         "y": [
          "onemonth",
          "twomonth",
          "fourmonth",
          "sixmonth",
          "ninemonth",
          "oneyear"
         ],
         "z": [
          [
           0.6428571428571429,
           0,
           0,
           0,
           0,
           0
          ],
          [
           0.19387755102040816,
           0.3333333333333333,
           0.2857142857142857,
           0.2727272727272727,
           0.07142857142857142,
           0
          ],
          [
           0.10204081632653061,
           0.3333333333333333,
           0.42857142857142855,
           0.18181818181818182,
           0.14285714285714285,
           0
          ],
          [
           0.05102040816326531,
           0.3333333333333333,
           0.14285714285714285,
           0.45454545454545453,
           0.25,
           0.15384615384615385
          ],
          [
           0,
           0,
           0,
           0.09090909090909091,
           0.39285714285714285,
           0.23076923076923078
          ],
          [
           0.01020408163265306,
           0,
           0.14285714285714285,
           0,
           0.14285714285714285,
           0.6153846153846154
          ]
         ]
        }
       ],
       "layout": {
        "annotations": [
         {
          "font": {
           "color": "#FFFFFF"
          },
          "showarrow": false,
          "text": "0.6428571428571429",
          "x": "onemonth",
          "xref": "x",
          "y": "onemonth",
          "yref": "y"
         },
         {
          "font": {
           "color": "#000000"
          },
          "showarrow": false,
          "text": "0.0",
          "x": "twomonth",
          "xref": "x",
          "y": "onemonth",
          "yref": "y"
         },
         {
          "font": {
           "color": "#000000"
          },
          "showarrow": false,
          "text": "0.0",
          "x": "fourmonth",
          "xref": "x",
          "y": "onemonth",
          "yref": "y"
         },
         {
          "font": {
           "color": "#000000"
          },
          "showarrow": false,
          "text": "0.0",
          "x": "sixmonth",
          "xref": "x",
          "y": "onemonth",
          "yref": "y"
         },
         {
          "font": {
           "color": "#000000"
          },
          "showarrow": false,
          "text": "0.0",
          "x": "ninemonth",
          "xref": "x",
          "y": "onemonth",
          "yref": "y"
         },
         {
          "font": {
           "color": "#000000"
          },
          "showarrow": false,
          "text": "0.0",
          "x": "oneyear",
          "xref": "x",
          "y": "onemonth",
          "yref": "y"
         },
         {
          "font": {
           "color": "#000000"
          },
          "showarrow": false,
          "text": "0.19387755102040816",
          "x": "onemonth",
          "xref": "x",
          "y": "twomonth",
          "yref": "y"
         },
         {
          "font": {
           "color": "#FFFFFF"
          },
          "showarrow": false,
          "text": "0.3333333333333333",
          "x": "twomonth",
          "xref": "x",
          "y": "twomonth",
          "yref": "y"
         },
         {
          "font": {
           "color": "#000000"
          },
          "showarrow": false,
          "text": "0.2857142857142857",
          "x": "fourmonth",
          "xref": "x",
          "y": "twomonth",
          "yref": "y"
         },
         {
          "font": {
           "color": "#000000"
          },
          "showarrow": false,
          "text": "0.2727272727272727",
          "x": "sixmonth",
          "xref": "x",
          "y": "twomonth",
          "yref": "y"
         },
         {
          "font": {
           "color": "#000000"
          },
          "showarrow": false,
          "text": "0.07142857142857142",
          "x": "ninemonth",
          "xref": "x",
          "y": "twomonth",
          "yref": "y"
         },
         {
          "font": {
           "color": "#000000"
          },
          "showarrow": false,
          "text": "0.0",
          "x": "oneyear",
          "xref": "x",
          "y": "twomonth",
          "yref": "y"
         },
         {
          "font": {
           "color": "#000000"
          },
          "showarrow": false,
          "text": "0.10204081632653061",
          "x": "onemonth",
          "xref": "x",
          "y": "fourmonth",
          "yref": "y"
         },
         {
          "font": {
           "color": "#FFFFFF"
          },
          "showarrow": false,
          "text": "0.3333333333333333",
          "x": "twomonth",
          "xref": "x",
          "y": "fourmonth",
          "yref": "y"
         },
         {
          "font": {
           "color": "#FFFFFF"
          },
          "showarrow": false,
          "text": "0.42857142857142855",
          "x": "fourmonth",
          "xref": "x",
          "y": "fourmonth",
          "yref": "y"
         },
         {
          "font": {
           "color": "#000000"
          },
          "showarrow": false,
          "text": "0.18181818181818182",
          "x": "sixmonth",
          "xref": "x",
          "y": "fourmonth",
          "yref": "y"
         },
         {
          "font": {
           "color": "#000000"
          },
          "showarrow": false,
          "text": "0.14285714285714285",
          "x": "ninemonth",
          "xref": "x",
          "y": "fourmonth",
          "yref": "y"
         },
         {
          "font": {
           "color": "#000000"
          },
          "showarrow": false,
          "text": "0.0",
          "x": "oneyear",
          "xref": "x",
          "y": "fourmonth",
          "yref": "y"
         },
         {
          "font": {
           "color": "#000000"
          },
          "showarrow": false,
          "text": "0.05102040816326531",
          "x": "onemonth",
          "xref": "x",
          "y": "sixmonth",
          "yref": "y"
         },
         {
          "font": {
           "color": "#FFFFFF"
          },
          "showarrow": false,
          "text": "0.3333333333333333",
          "x": "twomonth",
          "xref": "x",
          "y": "sixmonth",
          "yref": "y"
         },
         {
          "font": {
           "color": "#000000"
          },
          "showarrow": false,
          "text": "0.14285714285714285",
          "x": "fourmonth",
          "xref": "x",
          "y": "sixmonth",
          "yref": "y"
         },
         {
          "font": {
           "color": "#FFFFFF"
          },
          "showarrow": false,
          "text": "0.45454545454545453",
          "x": "sixmonth",
          "xref": "x",
          "y": "sixmonth",
          "yref": "y"
         },
         {
          "font": {
           "color": "#000000"
          },
          "showarrow": false,
          "text": "0.25",
          "x": "ninemonth",
          "xref": "x",
          "y": "sixmonth",
          "yref": "y"
         },
         {
          "font": {
           "color": "#000000"
          },
          "showarrow": false,
          "text": "0.15384615384615385",
          "x": "oneyear",
          "xref": "x",
          "y": "sixmonth",
          "yref": "y"
         },
         {
          "font": {
           "color": "#000000"
          },
          "showarrow": false,
          "text": "0.0",
          "x": "onemonth",
          "xref": "x",
          "y": "ninemonth",
          "yref": "y"
         },
         {
          "font": {
           "color": "#000000"
          },
          "showarrow": false,
          "text": "0.0",
          "x": "twomonth",
          "xref": "x",
          "y": "ninemonth",
          "yref": "y"
         },
         {
          "font": {
           "color": "#000000"
          },
          "showarrow": false,
          "text": "0.0",
          "x": "fourmonth",
          "xref": "x",
          "y": "ninemonth",
          "yref": "y"
         },
         {
          "font": {
           "color": "#000000"
          },
          "showarrow": false,
          "text": "0.09090909090909091",
          "x": "sixmonth",
          "xref": "x",
          "y": "ninemonth",
          "yref": "y"
         },
         {
          "font": {
           "color": "#FFFFFF"
          },
          "showarrow": false,
          "text": "0.39285714285714285",
          "x": "ninemonth",
          "xref": "x",
          "y": "ninemonth",
          "yref": "y"
         },
         {
          "font": {
           "color": "#000000"
          },
          "showarrow": false,
          "text": "0.23076923076923078",
          "x": "oneyear",
          "xref": "x",
          "y": "ninemonth",
          "yref": "y"
         },
         {
          "font": {
           "color": "#000000"
          },
          "showarrow": false,
          "text": "0.01020408163265306",
          "x": "onemonth",
          "xref": "x",
          "y": "oneyear",
          "yref": "y"
         },
         {
          "font": {
           "color": "#000000"
          },
          "showarrow": false,
          "text": "0.0",
          "x": "twomonth",
          "xref": "x",
          "y": "oneyear",
          "yref": "y"
         },
         {
          "font": {
           "color": "#000000"
          },
          "showarrow": false,
          "text": "0.14285714285714285",
          "x": "fourmonth",
          "xref": "x",
          "y": "oneyear",
          "yref": "y"
         },
         {
          "font": {
           "color": "#000000"
          },
          "showarrow": false,
          "text": "0.0",
          "x": "sixmonth",
          "xref": "x",
          "y": "oneyear",
          "yref": "y"
         },
         {
          "font": {
           "color": "#000000"
          },
          "showarrow": false,
          "text": "0.14285714285714285",
          "x": "ninemonth",
          "xref": "x",
          "y": "oneyear",
          "yref": "y"
         },
         {
          "font": {
           "color": "#FFFFFF"
          },
          "showarrow": false,
          "text": "0.6153846153846154",
          "x": "oneyear",
          "xref": "x",
          "y": "oneyear",
          "yref": "y"
         }
        ],
        "template": {
         "data": {
          "bar": [
           {
            "error_x": {
             "color": "#2a3f5f"
            },
            "error_y": {
             "color": "#2a3f5f"
            },
            "marker": {
             "line": {
              "color": "#E5ECF6",
              "width": 0.5
             }
            },
            "type": "bar"
           }
          ],
          "barpolar": [
           {
            "marker": {
             "line": {
              "color": "#E5ECF6",
              "width": 0.5
             }
            },
            "type": "barpolar"
           }
          ],
          "carpet": [
           {
            "aaxis": {
             "endlinecolor": "#2a3f5f",
             "gridcolor": "white",
             "linecolor": "white",
             "minorgridcolor": "white",
             "startlinecolor": "#2a3f5f"
            },
            "baxis": {
             "endlinecolor": "#2a3f5f",
             "gridcolor": "white",
             "linecolor": "white",
             "minorgridcolor": "white",
             "startlinecolor": "#2a3f5f"
            },
            "type": "carpet"
           }
          ],
          "choropleth": [
           {
            "colorbar": {
             "outlinewidth": 0,
             "ticks": ""
            },
            "type": "choropleth"
           }
          ],
          "contour": [
           {
            "colorbar": {
             "outlinewidth": 0,
             "ticks": ""
            },
            "colorscale": [
             [
              0,
              "#0d0887"
             ],
             [
              0.1111111111111111,
              "#46039f"
             ],
             [
              0.2222222222222222,
              "#7201a8"
             ],
             [
              0.3333333333333333,
              "#9c179e"
             ],
             [
              0.4444444444444444,
              "#bd3786"
             ],
             [
              0.5555555555555556,
              "#d8576b"
             ],
             [
              0.6666666666666666,
              "#ed7953"
             ],
             [
              0.7777777777777778,
              "#fb9f3a"
             ],
             [
              0.8888888888888888,
              "#fdca26"
             ],
             [
              1,
              "#f0f921"
             ]
            ],
            "type": "contour"
           }
          ],
          "contourcarpet": [
           {
            "colorbar": {
             "outlinewidth": 0,
             "ticks": ""
            },
            "type": "contourcarpet"
           }
          ],
          "heatmap": [
           {
            "colorbar": {
             "outlinewidth": 0,
             "ticks": ""
            },
            "colorscale": [
             [
              0,
              "#0d0887"
             ],
             [
              0.1111111111111111,
              "#46039f"
             ],
             [
              0.2222222222222222,
              "#7201a8"
             ],
             [
              0.3333333333333333,
              "#9c179e"
             ],
             [
              0.4444444444444444,
              "#bd3786"
             ],
             [
              0.5555555555555556,
              "#d8576b"
             ],
             [
              0.6666666666666666,
              "#ed7953"
             ],
             [
              0.7777777777777778,
              "#fb9f3a"
             ],
             [
              0.8888888888888888,
              "#fdca26"
             ],
             [
              1,
              "#f0f921"
             ]
            ],
            "type": "heatmap"
           }
          ],
          "heatmapgl": [
           {
            "colorbar": {
             "outlinewidth": 0,
             "ticks": ""
            },
            "colorscale": [
             [
              0,
              "#0d0887"
             ],
             [
              0.1111111111111111,
              "#46039f"
             ],
             [
              0.2222222222222222,
              "#7201a8"
             ],
             [
              0.3333333333333333,
              "#9c179e"
             ],
             [
              0.4444444444444444,
              "#bd3786"
             ],
             [
              0.5555555555555556,
              "#d8576b"
             ],
             [
              0.6666666666666666,
              "#ed7953"
             ],
             [
              0.7777777777777778,
              "#fb9f3a"
             ],
             [
              0.8888888888888888,
              "#fdca26"
             ],
             [
              1,
              "#f0f921"
             ]
            ],
            "type": "heatmapgl"
           }
          ],
          "histogram": [
           {
            "marker": {
             "colorbar": {
              "outlinewidth": 0,
              "ticks": ""
             }
            },
            "type": "histogram"
           }
          ],
          "histogram2d": [
           {
            "colorbar": {
             "outlinewidth": 0,
             "ticks": ""
            },
            "colorscale": [
             [
              0,
              "#0d0887"
             ],
             [
              0.1111111111111111,
              "#46039f"
             ],
             [
              0.2222222222222222,
              "#7201a8"
             ],
             [
              0.3333333333333333,
              "#9c179e"
             ],
             [
              0.4444444444444444,
              "#bd3786"
             ],
             [
              0.5555555555555556,
              "#d8576b"
             ],
             [
              0.6666666666666666,
              "#ed7953"
             ],
             [
              0.7777777777777778,
              "#fb9f3a"
             ],
             [
              0.8888888888888888,
              "#fdca26"
             ],
             [
              1,
              "#f0f921"
             ]
            ],
            "type": "histogram2d"
           }
          ],
          "histogram2dcontour": [
           {
            "colorbar": {
             "outlinewidth": 0,
             "ticks": ""
            },
            "colorscale": [
             [
              0,
              "#0d0887"
             ],
             [
              0.1111111111111111,
              "#46039f"
             ],
             [
              0.2222222222222222,
              "#7201a8"
             ],
             [
              0.3333333333333333,
              "#9c179e"
             ],
             [
              0.4444444444444444,
              "#bd3786"
             ],
             [
              0.5555555555555556,
              "#d8576b"
             ],
             [
              0.6666666666666666,
              "#ed7953"
             ],
             [
              0.7777777777777778,
              "#fb9f3a"
             ],
             [
              0.8888888888888888,
              "#fdca26"
             ],
             [
              1,
              "#f0f921"
             ]
            ],
            "type": "histogram2dcontour"
           }
          ],
          "mesh3d": [
           {
            "colorbar": {
             "outlinewidth": 0,
             "ticks": ""
            },
            "type": "mesh3d"
           }
          ],
          "parcoords": [
           {
            "line": {
             "colorbar": {
              "outlinewidth": 0,
              "ticks": ""
             }
            },
            "type": "parcoords"
           }
          ],
          "pie": [
           {
            "automargin": true,
            "type": "pie"
           }
          ],
          "scatter": [
           {
            "marker": {
             "colorbar": {
              "outlinewidth": 0,
              "ticks": ""
             }
            },
            "type": "scatter"
           }
          ],
          "scatter3d": [
           {
            "line": {
             "colorbar": {
              "outlinewidth": 0,
              "ticks": ""
             }
            },
            "marker": {
             "colorbar": {
              "outlinewidth": 0,
              "ticks": ""
             }
            },
            "type": "scatter3d"
           }
          ],
          "scattercarpet": [
           {
            "marker": {
             "colorbar": {
              "outlinewidth": 0,
              "ticks": ""
             }
            },
            "type": "scattercarpet"
           }
          ],
          "scattergeo": [
           {
            "marker": {
             "colorbar": {
              "outlinewidth": 0,
              "ticks": ""
             }
            },
            "type": "scattergeo"
           }
          ],
          "scattergl": [
           {
            "marker": {
             "colorbar": {
              "outlinewidth": 0,
              "ticks": ""
             }
            },
            "type": "scattergl"
           }
          ],
          "scattermapbox": [
           {
            "marker": {
             "colorbar": {
              "outlinewidth": 0,
              "ticks": ""
             }
            },
            "type": "scattermapbox"
           }
          ],
          "scatterpolar": [
           {
            "marker": {
             "colorbar": {
              "outlinewidth": 0,
              "ticks": ""
             }
            },
            "type": "scatterpolar"
           }
          ],
          "scatterpolargl": [
           {
            "marker": {
             "colorbar": {
              "outlinewidth": 0,
              "ticks": ""
             }
            },
            "type": "scatterpolargl"
           }
          ],
          "scatterternary": [
           {
            "marker": {
             "colorbar": {
              "outlinewidth": 0,
              "ticks": ""
             }
            },
            "type": "scatterternary"
           }
          ],
          "surface": [
           {
            "colorbar": {
             "outlinewidth": 0,
             "ticks": ""
            },
            "colorscale": [
             [
              0,
              "#0d0887"
             ],
             [
              0.1111111111111111,
              "#46039f"
             ],
             [
              0.2222222222222222,
              "#7201a8"
             ],
             [
              0.3333333333333333,
              "#9c179e"
             ],
             [
              0.4444444444444444,
              "#bd3786"
             ],
             [
              0.5555555555555556,
              "#d8576b"
             ],
             [
              0.6666666666666666,
              "#ed7953"
             ],
             [
              0.7777777777777778,
              "#fb9f3a"
             ],
             [
              0.8888888888888888,
              "#fdca26"
             ],
             [
              1,
              "#f0f921"
             ]
            ],
            "type": "surface"
           }
          ],
          "table": [
           {
            "cells": {
             "fill": {
              "color": "#EBF0F8"
             },
             "line": {
              "color": "white"
             }
            },
            "header": {
             "fill": {
              "color": "#C8D4E3"
             },
             "line": {
              "color": "white"
             }
            },
            "type": "table"
           }
          ]
         },
         "layout": {
          "annotationdefaults": {
           "arrowcolor": "#2a3f5f",
           "arrowhead": 0,
           "arrowwidth": 1
          },
          "coloraxis": {
           "colorbar": {
            "outlinewidth": 0,
            "ticks": ""
           }
          },
          "colorscale": {
           "diverging": [
            [
             0,
             "#8e0152"
            ],
            [
             0.1,
             "#c51b7d"
            ],
            [
             0.2,
             "#de77ae"
            ],
            [
             0.3,
             "#f1b6da"
            ],
            [
             0.4,
             "#fde0ef"
            ],
            [
             0.5,
             "#f7f7f7"
            ],
            [
             0.6,
             "#e6f5d0"
            ],
            [
             0.7,
             "#b8e186"
            ],
            [
             0.8,
             "#7fbc41"
            ],
            [
             0.9,
             "#4d9221"
            ],
            [
             1,
             "#276419"
            ]
           ],
           "sequential": [
            [
             0,
             "#0d0887"
            ],
            [
             0.1111111111111111,
             "#46039f"
            ],
            [
             0.2222222222222222,
             "#7201a8"
            ],
            [
             0.3333333333333333,
             "#9c179e"
            ],
            [
             0.4444444444444444,
             "#bd3786"
            ],
            [
             0.5555555555555556,
             "#d8576b"
            ],
            [
             0.6666666666666666,
             "#ed7953"
            ],
            [
             0.7777777777777778,
             "#fb9f3a"
            ],
            [
             0.8888888888888888,
             "#fdca26"
            ],
            [
             1,
             "#f0f921"
            ]
           ],
           "sequentialminus": [
            [
             0,
             "#0d0887"
            ],
            [
             0.1111111111111111,
             "#46039f"
            ],
            [
             0.2222222222222222,
             "#7201a8"
            ],
            [
             0.3333333333333333,
             "#9c179e"
            ],
            [
             0.4444444444444444,
             "#bd3786"
            ],
            [
             0.5555555555555556,
             "#d8576b"
            ],
            [
             0.6666666666666666,
             "#ed7953"
            ],
            [
             0.7777777777777778,
             "#fb9f3a"
            ],
            [
             0.8888888888888888,
             "#fdca26"
            ],
            [
             1,
             "#f0f921"
            ]
           ]
          },
          "colorway": [
           "#636efa",
           "#EF553B",
           "#00cc96",
           "#ab63fa",
           "#FFA15A",
           "#19d3f3",
           "#FF6692",
           "#B6E880",
           "#FF97FF",
           "#FECB52"
          ],
          "font": {
           "color": "#2a3f5f"
          },
          "geo": {
           "bgcolor": "white",
           "lakecolor": "white",
           "landcolor": "#E5ECF6",
           "showlakes": true,
           "showland": true,
           "subunitcolor": "white"
          },
          "hoverlabel": {
           "align": "left"
          },
          "hovermode": "closest",
          "mapbox": {
           "style": "light"
          },
          "paper_bgcolor": "white",
          "plot_bgcolor": "#E5ECF6",
          "polar": {
           "angularaxis": {
            "gridcolor": "white",
            "linecolor": "white",
            "ticks": ""
           },
           "bgcolor": "#E5ECF6",
           "radialaxis": {
            "gridcolor": "white",
            "linecolor": "white",
            "ticks": ""
           }
          },
          "scene": {
           "xaxis": {
            "backgroundcolor": "#E5ECF6",
            "gridcolor": "white",
            "gridwidth": 2,
            "linecolor": "white",
            "showbackground": true,
            "ticks": "",
            "zerolinecolor": "white"
           },
           "yaxis": {
            "backgroundcolor": "#E5ECF6",
            "gridcolor": "white",
            "gridwidth": 2,
            "linecolor": "white",
            "showbackground": true,
            "ticks": "",
            "zerolinecolor": "white"
           },
           "zaxis": {
            "backgroundcolor": "#E5ECF6",
            "gridcolor": "white",
            "gridwidth": 2,
            "linecolor": "white",
            "showbackground": true,
            "ticks": "",
            "zerolinecolor": "white"
           }
          },
          "shapedefaults": {
           "line": {
            "color": "#2a3f5f"
           }
          },
          "ternary": {
           "aaxis": {
            "gridcolor": "white",
            "linecolor": "white",
            "ticks": ""
           },
           "baxis": {
            "gridcolor": "white",
            "linecolor": "white",
            "ticks": ""
           },
           "bgcolor": "#E5ECF6",
           "caxis": {
            "gridcolor": "white",
            "linecolor": "white",
            "ticks": ""
           }
          },
          "title": {
           "x": 0.05
          },
          "xaxis": {
           "automargin": true,
           "gridcolor": "white",
           "linecolor": "white",
           "ticks": "",
           "title": {
            "standoff": 15
           },
           "zerolinecolor": "white",
           "zerolinewidth": 2
          },
          "yaxis": {
           "automargin": true,
           "gridcolor": "white",
           "linecolor": "white",
           "ticks": "",
           "title": {
            "standoff": 15
           },
           "zerolinecolor": "white",
           "zerolinewidth": 2
          }
         }
        },
        "title": {
         "text": "Confusion Table - Pred(rows)/Label(cols)"
        },
        "xaxis": {
         "dtick": 1,
         "gridcolor": "rgb(0, 0, 0)",
         "side": "top",
         "ticks": ""
        },
        "yaxis": {
         "dtick": 1,
         "ticks": "",
         "ticksuffix": "  "
        }
       }
      },
      "text/html": [
       "<div>                            <div id=\"1e636834-d844-4033-b4a3-1312d5a06fc5\" class=\"plotly-graph-div\" style=\"height:525px; width:100%;\"></div>            <script type=\"text/javascript\">                require([\"plotly\"], function(Plotly) {                    window.PLOTLYENV=window.PLOTLYENV || {};                                    if (document.getElementById(\"1e636834-d844-4033-b4a3-1312d5a06fc5\")) {                    Plotly.newPlot(                        \"1e636834-d844-4033-b4a3-1312d5a06fc5\",                        [{\"colorscale\": [[0.0, \"rgb(237, 229, 207)\"], [0.16666666666666666, \"rgb(224, 194, 162)\"], [0.3333333333333333, \"rgb(211, 156, 131)\"], [0.5, \"rgb(193, 118, 111)\"], [0.6666666666666666, \"rgb(166, 84, 97)\"], [0.8333333333333334, \"rgb(129, 55, 83)\"], [1.0, \"rgb(84, 31, 63)\"]], \"reversescale\": false, \"showscale\": false, \"type\": \"heatmap\", \"x\": [\"onemonth\", \"twomonth\", \"fourmonth\", \"sixmonth\", \"ninemonth\", \"oneyear\"], \"y\": [\"onemonth\", \"twomonth\", \"fourmonth\", \"sixmonth\", \"ninemonth\", \"oneyear\"], \"z\": [[0.6428571428571429, 0.0, 0.0, 0.0, 0.0, 0.0], [0.19387755102040816, 0.3333333333333333, 0.2857142857142857, 0.2727272727272727, 0.07142857142857142, 0.0], [0.10204081632653061, 0.3333333333333333, 0.42857142857142855, 0.18181818181818182, 0.14285714285714285, 0.0], [0.05102040816326531, 0.3333333333333333, 0.14285714285714285, 0.45454545454545453, 0.25, 0.15384615384615385], [0.0, 0.0, 0.0, 0.09090909090909091, 0.39285714285714285, 0.23076923076923078], [0.01020408163265306, 0.0, 0.14285714285714285, 0.0, 0.14285714285714285, 0.6153846153846154]]}],                        {\"annotations\": [{\"font\": {\"color\": \"#FFFFFF\"}, \"showarrow\": false, \"text\": \"0.6428571428571429\", \"x\": \"onemonth\", \"xref\": \"x\", \"y\": \"onemonth\", \"yref\": \"y\"}, {\"font\": {\"color\": \"#000000\"}, \"showarrow\": false, \"text\": \"0.0\", \"x\": \"twomonth\", \"xref\": \"x\", \"y\": \"onemonth\", \"yref\": \"y\"}, {\"font\": {\"color\": \"#000000\"}, \"showarrow\": false, \"text\": \"0.0\", \"x\": \"fourmonth\", \"xref\": \"x\", \"y\": \"onemonth\", \"yref\": \"y\"}, {\"font\": {\"color\": \"#000000\"}, \"showarrow\": false, \"text\": \"0.0\", \"x\": \"sixmonth\", \"xref\": \"x\", \"y\": \"onemonth\", \"yref\": \"y\"}, {\"font\": {\"color\": \"#000000\"}, \"showarrow\": false, \"text\": \"0.0\", \"x\": \"ninemonth\", \"xref\": \"x\", \"y\": \"onemonth\", \"yref\": \"y\"}, {\"font\": {\"color\": \"#000000\"}, \"showarrow\": false, \"text\": \"0.0\", \"x\": \"oneyear\", \"xref\": \"x\", \"y\": \"onemonth\", \"yref\": \"y\"}, {\"font\": {\"color\": \"#000000\"}, \"showarrow\": false, \"text\": \"0.19387755102040816\", \"x\": \"onemonth\", \"xref\": \"x\", \"y\": \"twomonth\", \"yref\": \"y\"}, {\"font\": {\"color\": \"#FFFFFF\"}, \"showarrow\": false, \"text\": \"0.3333333333333333\", \"x\": \"twomonth\", \"xref\": \"x\", \"y\": \"twomonth\", \"yref\": \"y\"}, {\"font\": {\"color\": \"#000000\"}, \"showarrow\": false, \"text\": \"0.2857142857142857\", \"x\": \"fourmonth\", \"xref\": \"x\", \"y\": \"twomonth\", \"yref\": \"y\"}, {\"font\": {\"color\": \"#000000\"}, \"showarrow\": false, \"text\": \"0.2727272727272727\", \"x\": \"sixmonth\", \"xref\": \"x\", \"y\": \"twomonth\", \"yref\": \"y\"}, {\"font\": {\"color\": \"#000000\"}, \"showarrow\": false, \"text\": \"0.07142857142857142\", \"x\": \"ninemonth\", \"xref\": \"x\", \"y\": \"twomonth\", \"yref\": \"y\"}, {\"font\": {\"color\": \"#000000\"}, \"showarrow\": false, \"text\": \"0.0\", \"x\": \"oneyear\", \"xref\": \"x\", \"y\": \"twomonth\", \"yref\": \"y\"}, {\"font\": {\"color\": \"#000000\"}, \"showarrow\": false, \"text\": \"0.10204081632653061\", \"x\": \"onemonth\", \"xref\": \"x\", \"y\": \"fourmonth\", \"yref\": \"y\"}, {\"font\": {\"color\": \"#FFFFFF\"}, \"showarrow\": false, \"text\": \"0.3333333333333333\", \"x\": \"twomonth\", \"xref\": \"x\", \"y\": \"fourmonth\", \"yref\": \"y\"}, {\"font\": {\"color\": \"#FFFFFF\"}, \"showarrow\": false, \"text\": \"0.42857142857142855\", \"x\": \"fourmonth\", \"xref\": \"x\", \"y\": \"fourmonth\", \"yref\": \"y\"}, {\"font\": {\"color\": \"#000000\"}, \"showarrow\": false, \"text\": \"0.18181818181818182\", \"x\": \"sixmonth\", \"xref\": \"x\", \"y\": \"fourmonth\", \"yref\": \"y\"}, {\"font\": {\"color\": \"#000000\"}, \"showarrow\": false, \"text\": \"0.14285714285714285\", \"x\": \"ninemonth\", \"xref\": \"x\", \"y\": \"fourmonth\", \"yref\": \"y\"}, {\"font\": {\"color\": \"#000000\"}, \"showarrow\": false, \"text\": \"0.0\", \"x\": \"oneyear\", \"xref\": \"x\", \"y\": \"fourmonth\", \"yref\": \"y\"}, {\"font\": {\"color\": \"#000000\"}, \"showarrow\": false, \"text\": \"0.05102040816326531\", \"x\": \"onemonth\", \"xref\": \"x\", \"y\": \"sixmonth\", \"yref\": \"y\"}, {\"font\": {\"color\": \"#FFFFFF\"}, \"showarrow\": false, \"text\": \"0.3333333333333333\", \"x\": \"twomonth\", \"xref\": \"x\", \"y\": \"sixmonth\", \"yref\": \"y\"}, {\"font\": {\"color\": \"#000000\"}, \"showarrow\": false, \"text\": \"0.14285714285714285\", \"x\": \"fourmonth\", \"xref\": \"x\", \"y\": \"sixmonth\", \"yref\": \"y\"}, {\"font\": {\"color\": \"#FFFFFF\"}, \"showarrow\": false, \"text\": \"0.45454545454545453\", \"x\": \"sixmonth\", \"xref\": \"x\", \"y\": \"sixmonth\", \"yref\": \"y\"}, {\"font\": {\"color\": \"#000000\"}, \"showarrow\": false, \"text\": \"0.25\", \"x\": \"ninemonth\", \"xref\": \"x\", \"y\": \"sixmonth\", \"yref\": \"y\"}, {\"font\": {\"color\": \"#000000\"}, \"showarrow\": false, \"text\": \"0.15384615384615385\", \"x\": \"oneyear\", \"xref\": \"x\", \"y\": \"sixmonth\", \"yref\": \"y\"}, {\"font\": {\"color\": \"#000000\"}, \"showarrow\": false, \"text\": \"0.0\", \"x\": \"onemonth\", \"xref\": \"x\", \"y\": \"ninemonth\", \"yref\": \"y\"}, {\"font\": {\"color\": \"#000000\"}, \"showarrow\": false, \"text\": \"0.0\", \"x\": \"twomonth\", \"xref\": \"x\", \"y\": \"ninemonth\", \"yref\": \"y\"}, {\"font\": {\"color\": \"#000000\"}, \"showarrow\": false, \"text\": \"0.0\", \"x\": \"fourmonth\", \"xref\": \"x\", \"y\": \"ninemonth\", \"yref\": \"y\"}, {\"font\": {\"color\": \"#000000\"}, \"showarrow\": false, \"text\": \"0.09090909090909091\", \"x\": \"sixmonth\", \"xref\": \"x\", \"y\": \"ninemonth\", \"yref\": \"y\"}, {\"font\": {\"color\": \"#FFFFFF\"}, \"showarrow\": false, \"text\": \"0.39285714285714285\", \"x\": \"ninemonth\", \"xref\": \"x\", \"y\": \"ninemonth\", \"yref\": \"y\"}, {\"font\": {\"color\": \"#000000\"}, \"showarrow\": false, \"text\": \"0.23076923076923078\", \"x\": \"oneyear\", \"xref\": \"x\", \"y\": \"ninemonth\", \"yref\": \"y\"}, {\"font\": {\"color\": \"#000000\"}, \"showarrow\": false, \"text\": \"0.01020408163265306\", \"x\": \"onemonth\", \"xref\": \"x\", \"y\": \"oneyear\", \"yref\": \"y\"}, {\"font\": {\"color\": \"#000000\"}, \"showarrow\": false, \"text\": \"0.0\", \"x\": \"twomonth\", \"xref\": \"x\", \"y\": \"oneyear\", \"yref\": \"y\"}, {\"font\": {\"color\": \"#000000\"}, \"showarrow\": false, \"text\": \"0.14285714285714285\", \"x\": \"fourmonth\", \"xref\": \"x\", \"y\": \"oneyear\", \"yref\": \"y\"}, {\"font\": {\"color\": \"#000000\"}, \"showarrow\": false, \"text\": \"0.0\", \"x\": \"sixmonth\", \"xref\": \"x\", \"y\": \"oneyear\", \"yref\": \"y\"}, {\"font\": {\"color\": \"#000000\"}, \"showarrow\": false, \"text\": \"0.14285714285714285\", \"x\": \"ninemonth\", \"xref\": \"x\", \"y\": \"oneyear\", \"yref\": \"y\"}, {\"font\": {\"color\": \"#FFFFFF\"}, \"showarrow\": false, \"text\": \"0.6153846153846154\", \"x\": \"oneyear\", \"xref\": \"x\", \"y\": \"oneyear\", \"yref\": \"y\"}], \"template\": {\"data\": {\"bar\": [{\"error_x\": {\"color\": \"#2a3f5f\"}, \"error_y\": {\"color\": \"#2a3f5f\"}, \"marker\": {\"line\": {\"color\": \"#E5ECF6\", \"width\": 0.5}}, \"type\": \"bar\"}], \"barpolar\": [{\"marker\": {\"line\": {\"color\": \"#E5ECF6\", \"width\": 0.5}}, \"type\": \"barpolar\"}], \"carpet\": [{\"aaxis\": {\"endlinecolor\": \"#2a3f5f\", \"gridcolor\": \"white\", \"linecolor\": \"white\", \"minorgridcolor\": \"white\", \"startlinecolor\": \"#2a3f5f\"}, \"baxis\": {\"endlinecolor\": \"#2a3f5f\", \"gridcolor\": \"white\", \"linecolor\": \"white\", \"minorgridcolor\": \"white\", \"startlinecolor\": \"#2a3f5f\"}, \"type\": \"carpet\"}], \"choropleth\": [{\"colorbar\": {\"outlinewidth\": 0, \"ticks\": \"\"}, \"type\": \"choropleth\"}], \"contour\": [{\"colorbar\": {\"outlinewidth\": 0, \"ticks\": \"\"}, \"colorscale\": [[0.0, \"#0d0887\"], [0.1111111111111111, \"#46039f\"], [0.2222222222222222, \"#7201a8\"], [0.3333333333333333, \"#9c179e\"], [0.4444444444444444, \"#bd3786\"], [0.5555555555555556, \"#d8576b\"], [0.6666666666666666, \"#ed7953\"], [0.7777777777777778, \"#fb9f3a\"], [0.8888888888888888, \"#fdca26\"], [1.0, \"#f0f921\"]], \"type\": \"contour\"}], \"contourcarpet\": [{\"colorbar\": {\"outlinewidth\": 0, \"ticks\": \"\"}, \"type\": \"contourcarpet\"}], \"heatmap\": [{\"colorbar\": {\"outlinewidth\": 0, \"ticks\": \"\"}, \"colorscale\": [[0.0, \"#0d0887\"], [0.1111111111111111, \"#46039f\"], [0.2222222222222222, \"#7201a8\"], [0.3333333333333333, \"#9c179e\"], [0.4444444444444444, \"#bd3786\"], [0.5555555555555556, \"#d8576b\"], [0.6666666666666666, \"#ed7953\"], [0.7777777777777778, \"#fb9f3a\"], [0.8888888888888888, \"#fdca26\"], [1.0, \"#f0f921\"]], \"type\": \"heatmap\"}], \"heatmapgl\": [{\"colorbar\": {\"outlinewidth\": 0, \"ticks\": \"\"}, \"colorscale\": [[0.0, \"#0d0887\"], [0.1111111111111111, \"#46039f\"], [0.2222222222222222, \"#7201a8\"], [0.3333333333333333, \"#9c179e\"], [0.4444444444444444, \"#bd3786\"], [0.5555555555555556, \"#d8576b\"], [0.6666666666666666, \"#ed7953\"], [0.7777777777777778, \"#fb9f3a\"], [0.8888888888888888, \"#fdca26\"], [1.0, \"#f0f921\"]], \"type\": \"heatmapgl\"}], \"histogram\": [{\"marker\": {\"colorbar\": {\"outlinewidth\": 0, \"ticks\": \"\"}}, \"type\": \"histogram\"}], \"histogram2d\": [{\"colorbar\": {\"outlinewidth\": 0, \"ticks\": \"\"}, \"colorscale\": [[0.0, \"#0d0887\"], [0.1111111111111111, \"#46039f\"], [0.2222222222222222, \"#7201a8\"], [0.3333333333333333, \"#9c179e\"], [0.4444444444444444, \"#bd3786\"], [0.5555555555555556, \"#d8576b\"], [0.6666666666666666, \"#ed7953\"], [0.7777777777777778, \"#fb9f3a\"], [0.8888888888888888, \"#fdca26\"], [1.0, \"#f0f921\"]], \"type\": \"histogram2d\"}], \"histogram2dcontour\": [{\"colorbar\": {\"outlinewidth\": 0, \"ticks\": \"\"}, \"colorscale\": [[0.0, \"#0d0887\"], [0.1111111111111111, \"#46039f\"], [0.2222222222222222, \"#7201a8\"], [0.3333333333333333, \"#9c179e\"], [0.4444444444444444, \"#bd3786\"], [0.5555555555555556, \"#d8576b\"], [0.6666666666666666, \"#ed7953\"], [0.7777777777777778, \"#fb9f3a\"], [0.8888888888888888, \"#fdca26\"], [1.0, \"#f0f921\"]], \"type\": \"histogram2dcontour\"}], \"mesh3d\": [{\"colorbar\": {\"outlinewidth\": 0, \"ticks\": \"\"}, \"type\": \"mesh3d\"}], \"parcoords\": [{\"line\": {\"colorbar\": {\"outlinewidth\": 0, \"ticks\": \"\"}}, \"type\": \"parcoords\"}], \"pie\": [{\"automargin\": true, \"type\": \"pie\"}], \"scatter\": [{\"marker\": {\"colorbar\": {\"outlinewidth\": 0, \"ticks\": \"\"}}, \"type\": \"scatter\"}], \"scatter3d\": [{\"line\": {\"colorbar\": {\"outlinewidth\": 0, \"ticks\": \"\"}}, \"marker\": {\"colorbar\": {\"outlinewidth\": 0, \"ticks\": \"\"}}, \"type\": \"scatter3d\"}], \"scattercarpet\": [{\"marker\": {\"colorbar\": {\"outlinewidth\": 0, \"ticks\": \"\"}}, \"type\": \"scattercarpet\"}], \"scattergeo\": [{\"marker\": {\"colorbar\": {\"outlinewidth\": 0, \"ticks\": \"\"}}, \"type\": \"scattergeo\"}], \"scattergl\": [{\"marker\": {\"colorbar\": {\"outlinewidth\": 0, \"ticks\": \"\"}}, \"type\": \"scattergl\"}], \"scattermapbox\": [{\"marker\": {\"colorbar\": {\"outlinewidth\": 0, \"ticks\": \"\"}}, \"type\": \"scattermapbox\"}], \"scatterpolar\": [{\"marker\": {\"colorbar\": {\"outlinewidth\": 0, \"ticks\": \"\"}}, \"type\": \"scatterpolar\"}], \"scatterpolargl\": [{\"marker\": {\"colorbar\": {\"outlinewidth\": 0, \"ticks\": \"\"}}, \"type\": \"scatterpolargl\"}], \"scatterternary\": [{\"marker\": {\"colorbar\": {\"outlinewidth\": 0, \"ticks\": \"\"}}, \"type\": \"scatterternary\"}], \"surface\": [{\"colorbar\": {\"outlinewidth\": 0, \"ticks\": \"\"}, \"colorscale\": [[0.0, \"#0d0887\"], [0.1111111111111111, \"#46039f\"], [0.2222222222222222, \"#7201a8\"], [0.3333333333333333, \"#9c179e\"], [0.4444444444444444, \"#bd3786\"], [0.5555555555555556, \"#d8576b\"], [0.6666666666666666, \"#ed7953\"], [0.7777777777777778, \"#fb9f3a\"], [0.8888888888888888, \"#fdca26\"], [1.0, \"#f0f921\"]], \"type\": \"surface\"}], \"table\": [{\"cells\": {\"fill\": {\"color\": \"#EBF0F8\"}, \"line\": {\"color\": \"white\"}}, \"header\": {\"fill\": {\"color\": \"#C8D4E3\"}, \"line\": {\"color\": \"white\"}}, \"type\": \"table\"}]}, \"layout\": {\"annotationdefaults\": {\"arrowcolor\": \"#2a3f5f\", \"arrowhead\": 0, \"arrowwidth\": 1}, \"coloraxis\": {\"colorbar\": {\"outlinewidth\": 0, \"ticks\": \"\"}}, \"colorscale\": {\"diverging\": [[0, \"#8e0152\"], [0.1, \"#c51b7d\"], [0.2, \"#de77ae\"], [0.3, \"#f1b6da\"], [0.4, \"#fde0ef\"], [0.5, \"#f7f7f7\"], [0.6, \"#e6f5d0\"], [0.7, \"#b8e186\"], [0.8, \"#7fbc41\"], [0.9, \"#4d9221\"], [1, \"#276419\"]], \"sequential\": [[0.0, \"#0d0887\"], [0.1111111111111111, \"#46039f\"], [0.2222222222222222, \"#7201a8\"], [0.3333333333333333, \"#9c179e\"], [0.4444444444444444, \"#bd3786\"], [0.5555555555555556, \"#d8576b\"], [0.6666666666666666, \"#ed7953\"], [0.7777777777777778, \"#fb9f3a\"], [0.8888888888888888, \"#fdca26\"], [1.0, \"#f0f921\"]], \"sequentialminus\": [[0.0, \"#0d0887\"], [0.1111111111111111, \"#46039f\"], [0.2222222222222222, \"#7201a8\"], [0.3333333333333333, \"#9c179e\"], [0.4444444444444444, \"#bd3786\"], [0.5555555555555556, \"#d8576b\"], [0.6666666666666666, \"#ed7953\"], [0.7777777777777778, \"#fb9f3a\"], [0.8888888888888888, \"#fdca26\"], [1.0, \"#f0f921\"]]}, \"colorway\": [\"#636efa\", \"#EF553B\", \"#00cc96\", \"#ab63fa\", \"#FFA15A\", \"#19d3f3\", \"#FF6692\", \"#B6E880\", \"#FF97FF\", \"#FECB52\"], \"font\": {\"color\": \"#2a3f5f\"}, \"geo\": {\"bgcolor\": \"white\", \"lakecolor\": \"white\", \"landcolor\": \"#E5ECF6\", \"showlakes\": true, \"showland\": true, \"subunitcolor\": \"white\"}, \"hoverlabel\": {\"align\": \"left\"}, \"hovermode\": \"closest\", \"mapbox\": {\"style\": \"light\"}, \"paper_bgcolor\": \"white\", \"plot_bgcolor\": \"#E5ECF6\", \"polar\": {\"angularaxis\": {\"gridcolor\": \"white\", \"linecolor\": \"white\", \"ticks\": \"\"}, \"bgcolor\": \"#E5ECF6\", \"radialaxis\": {\"gridcolor\": \"white\", \"linecolor\": \"white\", \"ticks\": \"\"}}, \"scene\": {\"xaxis\": {\"backgroundcolor\": \"#E5ECF6\", \"gridcolor\": \"white\", \"gridwidth\": 2, \"linecolor\": \"white\", \"showbackground\": true, \"ticks\": \"\", \"zerolinecolor\": \"white\"}, \"yaxis\": {\"backgroundcolor\": \"#E5ECF6\", \"gridcolor\": \"white\", \"gridwidth\": 2, \"linecolor\": \"white\", \"showbackground\": true, \"ticks\": \"\", \"zerolinecolor\": \"white\"}, \"zaxis\": {\"backgroundcolor\": \"#E5ECF6\", \"gridcolor\": \"white\", \"gridwidth\": 2, \"linecolor\": \"white\", \"showbackground\": true, \"ticks\": \"\", \"zerolinecolor\": \"white\"}}, \"shapedefaults\": {\"line\": {\"color\": \"#2a3f5f\"}}, \"ternary\": {\"aaxis\": {\"gridcolor\": \"white\", \"linecolor\": \"white\", \"ticks\": \"\"}, \"baxis\": {\"gridcolor\": \"white\", \"linecolor\": \"white\", \"ticks\": \"\"}, \"bgcolor\": \"#E5ECF6\", \"caxis\": {\"gridcolor\": \"white\", \"linecolor\": \"white\", \"ticks\": \"\"}}, \"title\": {\"x\": 0.05}, \"xaxis\": {\"automargin\": true, \"gridcolor\": \"white\", \"linecolor\": \"white\", \"ticks\": \"\", \"title\": {\"standoff\": 15}, \"zerolinecolor\": \"white\", \"zerolinewidth\": 2}, \"yaxis\": {\"automargin\": true, \"gridcolor\": \"white\", \"linecolor\": \"white\", \"ticks\": \"\", \"title\": {\"standoff\": 15}, \"zerolinecolor\": \"white\", \"zerolinewidth\": 2}}}, \"title\": {\"text\": \"Confusion Table - Pred(rows)/Label(cols)\"}, \"xaxis\": {\"dtick\": 1, \"gridcolor\": \"rgb(0, 0, 0)\", \"side\": \"top\", \"ticks\": \"\"}, \"yaxis\": {\"dtick\": 1, \"ticks\": \"\", \"ticksuffix\": \"  \"}},                        {\"responsive\": true}                    ).then(function(){\n",
       "                            \n",
       "var gd = document.getElementById('1e636834-d844-4033-b4a3-1312d5a06fc5');\n",
       "var x = new MutationObserver(function (mutations, observer) {{\n",
       "        var display = window.getComputedStyle(gd).display;\n",
       "        if (!display || display === 'none') {{\n",
       "            console.log([gd, 'removed!']);\n",
       "            Plotly.purge(gd);\n",
       "            observer.disconnect();\n",
       "        }}\n",
       "}});\n",
       "\n",
       "// Listen for the removal of the full notebook cells\n",
       "var notebookContainer = gd.closest('#notebook-container');\n",
       "if (notebookContainer) {{\n",
       "    x.observe(notebookContainer, {childList: true});\n",
       "}}\n",
       "\n",
       "// Listen for the clearing of the current output cell\n",
       "var outputEl = gd.closest('.output');\n",
       "if (outputEl) {{\n",
       "    x.observe(outputEl, {childList: true});\n",
       "}}\n",
       "\n",
       "                        })                };                });            </script>        </div>"
      ]
     },
     "metadata": {},
     "output_type": "display_data"
    }
   ],
   "source": [
    "\n",
    "# px.imshow(ct,labels=annot_arr)\n",
    "c = 'brwnyl'\n",
    "fig = ff.create_annotated_heatmap(ct.to_numpy().T,x=ct.columns.tolist(),y=ct.columns.tolist(),colorscale=c)\n",
    "fig.update_layout(title_text='Confusion Table - Pred(rows)/Label(cols)')\n",
    "# i +=1\n",
    "fig"
   ]
  },
  {
   "cell_type": "markdown",
   "metadata": {},
   "source": [
    "## Results"
   ]
  },
  {
   "cell_type": "code",
   "execution_count": 258,
   "metadata": {
    "ExecuteTime": {
     "end_time": "2021-01-25T20:39:51.669846Z",
     "start_time": "2021-01-25T20:39:51.666215Z"
    }
   },
   "outputs": [
    {
     "name": "stdout",
     "output_type": "stream",
     "text": [
      "15 {420, 260, 69, 232, 169, 264, 240, 273, 274, 304, 85, 246, 249, 314, 253}\n"
     ]
    }
   ],
   "source": [
    "best_features = set(top_regr_repeat_features) & set(top_clf_repeat_features)\n",
    "print(len(best_features),best_features)"
   ]
  },
  {
   "cell_type": "code",
   "execution_count": 526,
   "metadata": {
    "ExecuteTime": {
     "end_time": "2021-01-27T19:40:29.417266Z",
     "start_time": "2021-01-27T19:40:29.413434Z"
    }
   },
   "outputs": [
    {
     "data": {
      "text/plain": [
       "array([ 17,  28,  55,  69,  85, 169, 204, 212, 220, 226, 232, 233, 240,\n",
       "       243, 246, 249, 253, 260, 264, 269, 273, 274, 276, 291, 304, 314,\n",
       "       409, 420, 453])"
      ]
     },
     "execution_count": 526,
     "metadata": {},
     "output_type": "execute_result"
    }
   ],
   "source": [
    "best_features = top_clf_repeat_features"
   ]
  },
  {
   "cell_type": "markdown",
   "metadata": {},
   "source": [
    "We have found 15 features that appear in top 20 features for at least 50% the models in the regression and classifications models\n",
    "Though the regression model was far inferior to the classification model (in regards to the accuracy we got), it looks like we got a lot of the same features to help us in the tasks.\n",
    "\n",
    "From the classification confusion matrix we can see some interesting things:\n",
    "<li> The \"edges\" was better predicted. onemonth and oneyear got 61% predictions while 2-9 month got between 30-45%\n",
    "<li> While there are some errors with big margins, most errors are still close to the prediction. For example for label twomonth the prediction are equaly divided between 2-6 month, but no prediction on onemonth,ninemonth and oneyear.\n",
    "    "
   ]
  },
  {
   "cell_type": "markdown",
   "metadata": {},
   "source": [
    "# AP Case prediction"
   ]
  },
  {
   "cell_type": "code",
   "execution_count": 473,
   "metadata": {
    "ExecuteTime": {
     "end_time": "2021-01-27T18:56:30.741314Z",
     "start_time": "2021-01-27T18:56:30.435994Z"
    },
    "init_cell": true
   },
   "outputs": [],
   "source": [
    "filtered_params = {'random_state': 666,\n",
    " 'n_estimators': 1200,\n",
    " 'min_samples_split': 5,\n",
    " 'min_samples_leaf': 10,\n",
    " 'max_features': 'auto',\n",
    " 'max_depth': None,\n",
    " 'bootstrap': False}\n",
    "norm_merge_df,norm_meta_idx = get_gmap_data(l7_path)"
   ]
  },
  {
   "cell_type": "code",
   "execution_count": 527,
   "metadata": {
    "ExecuteTime": {
     "end_time": "2021-01-27T19:41:20.684535Z",
     "start_time": "2021-01-27T19:41:20.372931Z"
    }
   },
   "outputs": [],
   "source": [
    "best_features = [420, 260, 69, 232, 169, 264, 240, 273, 274, 304, 85, 246, 249, 314, 253]\n",
    "# best_features = [ 17,  28,  55,  69,  85, 169, 204, 212, 220, 226, 232, 233, 240,243, 246, 249, 253, 260, 264, 269, 273, 274, 276, 291, 304, 314,409, 420, 453]\n",
    "filtered_meta_idx = len(best_features)\n",
    "\n",
    "best_f_df = norm_merge_df.iloc[:,best_features].reset_index(drop=True)\n",
    "# best_f_df = best_f_df.div(best_f_df.sum(axis=1),axis=0).fillna(0)  # normalize to 1 \n",
    "# filtered_merge_df = filtered_merge_df.fillna(0)\n",
    "\n",
    "meta_df = norm_merge_df.iloc[:,norm_meta_idx:].reset_index(drop=True)\n",
    "filtered_merge_df = pd.concat([best_f_df,meta_df],axis=1)\n",
    "filtered_merge_df = filtered_merge_df.assign(is_sick = (filtered_merge_df.symptoms == 'Symptomatic'))\n",
    "\n",
    "#Add is_ap if the record will ever have symptoms\n",
    "filtered_merge_df = filtered_merge_df.groupby('record_id').apply(lambda x: x.assign(is_ap= (x.symptoms == 'Symptomatic').any()).reset_index(drop=True)).reset_index(drop=True)"
   ]
  },
  {
   "cell_type": "markdown",
   "metadata": {},
   "source": [
    "**is_ap** \n",
    "\n",
    "Predict if record_id is ap_case or not (will be symptomatic)"
   ]
  },
  {
   "cell_type": "code",
   "execution_count": 528,
   "metadata": {
    "ExecuteTime": {
     "end_time": "2021-01-27T19:43:27.809404Z",
     "start_time": "2021-01-27T19:41:53.335479Z"
    }
   },
   "outputs": [
    {
     "name": "stderr",
     "output_type": "stream",
     "text": [
      "100%|██████████| 10/10 [00:39<00:00,  3.97s/it]\n"
     ]
    },
    {
     "name": "stdout",
     "output_type": "stream",
     "text": [
      "Train AVG accuracy 0.9645920811311385\n",
      "Test AVG accuracy 0.5588766688855414\n",
      "(0.9645920811311385, 0.5588766688855414)\n"
     ]
    },
    {
     "name": "stderr",
     "output_type": "stream",
     "text": [
      "100%|██████████| 10/10 [00:53<00:00,  5.35s/it]"
     ]
    },
    {
     "name": "stdout",
     "output_type": "stream",
     "text": [
      "Train AVG accuracy 0.9991204238433162\n",
      "Test AVG accuracy 0.5514654475223603\n",
      "(0.9991204238433162, 0.5514654475223603)\n"
     ]
    },
    {
     "name": "stderr",
     "output_type": "stream",
     "text": [
      "\n"
     ]
    }
   ],
   "source": [
    "merge_df_tt = get_merged_tt_df(merge_df,split_control=False,train_ratio=0.8)\n",
    "filtered_merge_df = filtered_merge_df.assign(tt=res_tt.tt)\n",
    "\n",
    "clf = RandomForestClassifier(**filtered_params)\n",
    "filtered_merge_df = filtered_merge_df.loc[~pd.isna(filtered_merge_df.symptoms)]\n",
    "filtered_merge_df = filtered_merge_df.groupby('record_id').apply(lambda x: x.assign(is_ap= (x.symptoms == 'Symptomatic').any()).reset_index(drop=True)).reset_index(drop=True)\n",
    "\n",
    "f_is_ap_acc = get_avg_accuracy(clf,filtered_merge_df,filtered_meta_idx,num_runs=10,y='is_ap',train_ratio=0.8)\n",
    "# f_is_ap_acc = get_classifier_accuracy(clf,filtered_merge_df,filtered_meta_idx,y='is_ap',train_ratio=0.8,split_tt=False)\n",
    "print(f_is_ap_acc)\n",
    "\n",
    "merge_df_tt = merge_df_tt.groupby('record_id').apply(lambda x: x.assign(is_ap= (x.symptoms == 'Symptomatic').any()).reset_index(drop=True)).reset_index(drop=True)\n",
    "clf = RandomForestClassifier(**best_params)\n",
    "is_ap_acc = get_avg_accuracy(clf,merge_df_tt,meta_idx,num_runs=10,y='is_ap',train_ratio=0.8)\n",
    "# is_ap_acc = get_classifier_accuracy(clf,merge_df_tt,meta_idx,y='is_ap',split_tt=False)\n",
    "print(is_ap_acc)"
   ]
  },
  {
   "cell_type": "code",
   "execution_count": 458,
   "metadata": {
    "ExecuteTime": {
     "end_time": "2021-01-27T18:23:18.939015Z",
     "start_time": "2021-01-27T18:23:09.123570Z"
    }
   },
   "outputs": [
    {
     "name": "stderr",
     "output_type": "stream",
     "text": [
      "100%|██████████| 1/1 [00:06<00:00,  6.94s/it]\n"
     ]
    }
   ],
   "source": [
    "\n",
    "# is_ap_acc = get_avg_accuracy(clf,merge_nona_df,meta_idx,num_runs=1,y='is_ap',train_ratio=0.8)\n",
    "train_acc_arr = list()\n",
    "test_acc_arr = list()\n",
    "\n",
    "num_runs=1\n",
    "train_ratio=0.8\n",
    "y='is_ap'\n",
    "for i in tqdm(range(num_runs)):\n",
    "    train_acc, test_acc = \n",
    "            get_classifier_accuracy(clf, merge_df_tt,meta_idx,y=y,train_ratio=train_ratio,split_tt=False)\n",
    "is_ap_acc = get_classifier_accuracy(clf, merge_df_tt,filtered_meta_idx,y=y,train_ratio=train_ratio, split_tt=False)\n",
    "#train_acc_arr.append(train_acc)\n",
    "#test_acc_arr.append(test_acc)\n",
    "\n",
    "# avg_train_acc = np.average(train_acc_arr)\n",
    "# avg_test_acc = np.average(test_acc_arr)\n",
    "# print(f\"Train AVG accuracy {avg_train_acc}\")\n",
    "# print(f\"Test AVG accuracy {avg_test_acc}\")\n",
    "# is_ap_acc = get_classifier_accuracy(clf,merge_df_tt,filtered_meta_idx,y='is_ap',split_tt=False)\n",
    "# print(is_ap_acc)"
   ]
  },
  {
   "cell_type": "code",
   "execution_count": 459,
   "metadata": {
    "ExecuteTime": {
     "end_time": "2021-01-27T18:23:29.787996Z",
     "start_time": "2021-01-27T18:23:29.782189Z"
    }
   },
   "outputs": [
    {
     "data": {
      "text/plain": [
       "(1.0, (0.6317073170731707, 0.43452380952380953))"
      ]
     },
     "execution_count": 459,
     "metadata": {},
     "output_type": "execute_result"
    }
   ],
   "source": [
    "train_acc,is_ap_acc"
   ]
  },
  {
   "cell_type": "markdown",
   "metadata": {},
   "source": [
    "**is_sick**\n",
    "\n",
    "Try to predict if current sample is symptomatic or not"
   ]
  },
  {
   "cell_type": "code",
   "execution_count": 341,
   "metadata": {
    "ExecuteTime": {
     "end_time": "2021-01-26T20:39:46.534878Z",
     "start_time": "2021-01-26T20:39:25.899247Z"
    }
   },
   "outputs": [
    {
     "name": "stderr",
     "output_type": "stream",
     "text": [
      "100%|██████████| 2/2 [00:07<00:00,  4.00s/it]\n"
     ]
    },
    {
     "name": "stdout",
     "output_type": "stream",
     "text": [
      "Train AVG accuracy 0.8658322903629537\n",
      "Test AVG accuracy 0.7752550631947617\n"
     ]
    },
    {
     "name": "stderr",
     "output_type": "stream",
     "text": [
      "100%|██████████| 2/2 [00:12<00:00,  6.14s/it]"
     ]
    },
    {
     "name": "stdout",
     "output_type": "stream",
     "text": [
      "Train AVG accuracy 0.9769799318979646\n",
      "Test AVG accuracy 0.7613616268788682\n"
     ]
    },
    {
     "name": "stderr",
     "output_type": "stream",
     "text": [
      "\n"
     ]
    }
   ],
   "source": [
    "clf = RandomForestClassifier(**filtered_params)\n",
    "filtered_merge_df = filtered_merge_df.loc[~pd.isna(filtered_merge_df.symptoms)]\n",
    "f_is_sick_acc = get_avg_accuracy(clf,filtered_merge_df,filtered_meta_idx,num_runs=2,y='is_sick',train_ratio=0.8)\n",
    "\n",
    "#On all features\n",
    "clf = RandomForestClassifier(**best_params)\n",
    "merge_df = merge_df.assign(is_sick = (merge_df.symptoms == 'Symptomatic'))\n",
    "is_sick_acc = get_avg_accuracy(clf,merge_df,meta_idx,num_runs=2,y='is_sick',train_ratio=0.8)"
   ]
  },
  {
   "cell_type": "code",
   "execution_count": 342,
   "metadata": {
    "ExecuteTime": {
     "end_time": "2021-01-26T20:41:16.133319Z",
     "start_time": "2021-01-26T20:40:54.101239Z"
    }
   },
   "outputs": [
    {
     "name": "stderr",
     "output_type": "stream",
     "text": [
      "100%|██████████| 2/2 [00:10<00:00,  5.31s/it]\n"
     ]
    },
    {
     "name": "stdout",
     "output_type": "stream",
     "text": [
      "Train AVG accuracy 0.788903660731072\n",
      "Test AVG accuracy 0.48164335664335667\n"
     ]
    },
    {
     "name": "stderr",
     "output_type": "stream",
     "text": [
      "100%|██████████| 2/2 [00:11<00:00,  5.50s/it]"
     ]
    },
    {
     "name": "stdout",
     "output_type": "stream",
     "text": [
      "Train AVG accuracy 0.9682632909268252\n",
      "Test AVG accuracy 0.4827171731316809\n"
     ]
    },
    {
     "name": "stderr",
     "output_type": "stream",
     "text": [
      "\n"
     ]
    }
   ],
   "source": [
    "clf = RandomForestClassifier(**filtered_params)\n",
    "filtered_merge_df = filtered_merge_df.loc[~pd.isna(filtered_merge_df.symptoms)]\n",
    "f_symp_acc = get_avg_accuracy(clf,filtered_merge_df,filtered_meta_idx,num_runs=2,y='symptoms',train_ratio=0.8)\n",
    "\n",
    "#On all features\n",
    "merge_df = merge_df.groupby('record_id').apply(lambda x: x.assign(is_ap= (x.symptoms == 'Symptomatic').any()).reset_index(drop=True)).reset_index(drop=True)\n",
    "clf = RandomForestClassifier(**best_params)\n",
    "merge_df = merge_df.assign(is_sick = (merge_df.symptoms == 'Symptomatic'))\n",
    "merge_nona_df = merge_df.loc[~pd.isna(merge_df.symptoms)]\n",
    "symp_acc = get_avg_accuracy(clf,merge_nona_df,meta_idx,num_runs=2,y='symptoms',train_ratio=0.8)"
   ]
  },
  {
   "cell_type": "code",
   "execution_count": 338,
   "metadata": {
    "ExecuteTime": {
     "end_time": "2021-01-26T20:20:02.413678Z",
     "start_time": "2021-01-26T20:13:55.625164Z"
    }
   },
   "outputs": [
    {
     "name": "stdout",
     "output_type": "stream",
     "text": [
      "Fitting 3 folds for each of 100 candidates, totalling 300 fits\n"
     ]
    },
    {
     "name": "stderr",
     "output_type": "stream",
     "text": [
      "[Parallel(n_jobs=-1)]: Using backend LokyBackend with 8 concurrent workers.\n",
      "[Parallel(n_jobs=-1)]: Done  16 tasks      | elapsed:   39.7s\n",
      "[Parallel(n_jobs=-1)]: Done 112 tasks      | elapsed:  3.0min\n",
      "[Parallel(n_jobs=-1)]: Done 272 tasks      | elapsed:  5.6min\n",
      "[Parallel(n_jobs=-1)]: Done 300 out of 300 | elapsed:  6.0min finished\n"
     ]
    },
    {
     "data": {
      "text/plain": [
       "{'random_state': 666,\n",
       " 'n_estimators': 1200,\n",
       " 'min_samples_split': 5,\n",
       " 'min_samples_leaf': 10,\n",
       " 'max_features': 'auto',\n",
       " 'max_depth': None,\n",
       " 'bootstrap': False}"
      ]
     },
     "execution_count": 338,
     "metadata": {},
     "output_type": "execute_result"
    }
   ],
   "source": [
    "filtered_tt_df = get_merged_tt_df(filtered_merge_df,split_control=False,train_ratio=0.8)\n",
    "train_df = filtered_tt_df[filtered_tt_df.tt == 'train']\n",
    "X_train = train_df.iloc[:,:filtered_meta_idx].values\n",
    "y_train = train_df.symptoms.values\n",
    "parameter_search_classifier(X_train,y_train)"
   ]
  },
  {
   "cell_type": "markdown",
   "metadata": {},
   "source": [
    "# Dimensionallity Reduction"
   ]
  },
  {
   "cell_type": "code",
   "execution_count": 351,
   "metadata": {
    "ExecuteTime": {
     "end_time": "2021-01-26T21:06:25.035098Z",
     "start_time": "2021-01-26T21:06:24.623722Z"
    }
   },
   "outputs": [],
   "source": [
    "from scipy.spatial import distance\n",
    "import skbio"
   ]
  },
  {
   "cell_type": "code",
   "execution_count": 533,
   "metadata": {
    "ExecuteTime": {
     "end_time": "2021-01-27T19:46:26.221347Z",
     "start_time": "2021-01-27T19:46:25.969969Z"
    }
   },
   "outputs": [
    {
     "name": "stderr",
     "output_type": "stream",
     "text": [
      "/home/dviri/miniconda3/envs/py37-tf2/lib/python3.8/site-packages/skbio/stats/ordination/_principal_coordinate_analysis.py:143: RuntimeWarning:\n",
      "\n",
      "The result contains negative eigenvalues. Please compare their magnitude with the magnitude of some of the largest positive eigenvalues. If the negative ones are smaller, it's probably safe to ignore them, but if they are large in magnitude, the results won't be useful. See the Notes section for more details. The smallest eigenvalue is -3.0146182342364134 and the largest is 56.61212805709205.\n",
      "\n"
     ]
    }
   ],
   "source": [
    "# filtered_tt_df = filtered_tt_df.reset_index().rename(columns={'index':'sample_name'})\n",
    "filtered_tt_df = filtered_merge_df.reset_index().rename(columns={'index':'sample_name'})\n",
    "filtered_data_df = filtered_tt_df.iloc[:,:filtered_meta_idx]\n",
    "# filtered_data_df = filtered_data_df.div(filtered_data_df.sum(axis=1),axis=0).fillna(0)  # normalize to 1 \n",
    "\n",
    "X = filtered_tt_df.iloc[:,:filtered_meta_idx]\n",
    "Ar_dist = distance.squareform(distance.pdist(X, metric=\"braycurtis\")) # (m x m) distance measure\n",
    "DM_dist = skbio.stats.distance.DistanceMatrix(Ar_dist, ids=X.index)\n",
    "PCoA = skbio.stats.ordination.pcoa(DM_dist,number_of_dimensions=6)"
   ]
  },
  {
   "cell_type": "code",
   "execution_count": 531,
   "metadata": {
    "ExecuteTime": {
     "end_time": "2021-01-27T19:44:31.157135Z",
     "start_time": "2021-01-27T19:44:31.152048Z"
    }
   },
   "outputs": [
    {
     "data": {
      "text/plain": [
       "(964, 29)"
      ]
     },
     "execution_count": 531,
     "metadata": {},
     "output_type": "execute_result"
    }
   ],
   "source": [
    "X.shape"
   ]
  },
  {
   "cell_type": "code",
   "execution_count": 534,
   "metadata": {
    "ExecuteTime": {
     "end_time": "2021-01-27T19:46:33.592948Z",
     "start_time": "2021-01-27T19:46:33.493491Z"
    }
   },
   "outputs": [
    {
     "data": {
      "application/vnd.plotly.v1+json": {
       "config": {
        "plotlyServerURL": "https://plot.ly"
       },
       "data": [
        {
         "hovertemplate": "symptoms=Symptomatic<br>x=%{x}<br>y=%{y}<br>z=%{z}<extra></extra>",
         "legendgroup": "Symptomatic",
         "marker": {
          "color": "#636efa",
          "symbol": "circle"
         },
         "mode": "markers",
         "name": "Symptomatic",
         "scene": "scene",
         "showlegend": true,
         "type": "scatter3d",
         "x": [
          -0.3465559655415159,
          -0.1838468510512999,
          -0.08030008336805017,
          -0.06196213998706217,
          0.34287277372853847,
          -0.21980290677095835,
          -0.3064641248654479,
          -0.33097105105822067,
          -0.015677148336461954,
          0.3741416110663938,
          0.35324400200266126,
          0.11262876116662253,
          -0.16763659561875752,
          0.09008132609021427,
          -0.03212517218203458,
          -0.13166185155899382,
          -0.04561475361833303,
          -0.12575470310214587,
          0.24421438270458037,
          0.35716712711273124,
          0.4346540060974022,
          0.5250688198198306,
          0.1801343039712994,
          0.26305097385775517,
          0.07239178619751933,
          0.2483834459906882,
          0.03959411707949797,
          -0.3371279481533835,
          -0.13738338834375663,
          -0.2841473565846263,
          0.24734645866583382,
          0.4095885067065307,
          0.26782612476291107,
          0.5327418207592983,
          0.3710638691419327,
          0.46906378234638774,
          0.0860189715695961,
          -0.08545868612208993,
          -0.09879021587583019,
          -0.11171084554763121,
          -0.1235948328280186,
          -0.2978929960849634,
          -0.09872766369310396,
          0.23984907757760887,
          0.3573160910337899,
          0.22059454872274373,
          0.40194888269446516,
          -0.31696219338651627,
          -0.272056727258653,
          -0.23158110145573021,
          -0.2655792477234008,
          0.25330286481312964,
          -0.09240341363693914,
          0.4845165124593235,
          0.08880702512801651,
          -0.31355486165343543,
          -0.2732497158612569,
          -0.3259106600925081,
          0.1348103127402606,
          -0.3598067745547326,
          -0.3384169528663376,
          -0.14460643718934113,
          0.4673727151850126,
          -0.1739062864119295,
          0.4266730497342231,
          -0.10592894539288743,
          -0.12778711896452588,
          -0.14049427445352952,
          -0.08002606809746246,
          -0.14265584885889537,
          0.24862611096204648,
          -0.09921901808979572,
          -0.3457879701113176,
          -0.3171725901332861,
          -0.32743009027403314,
          -0.33349184372786717,
          -0.3363046696734799,
          0.15726429713557735,
          -0.09318407309729838,
          -0.14566745459564234,
          0.15918674534299954,
          -0.13291213279738062,
          -0.08302218614905518,
          -0.3490092918968829,
          0.4567774074829516,
          -0.08901060569065213,
          -0.2043916800092075,
          -0.13542030813317923,
          -0.16962498280447177,
          -0.13055454763934204,
          -0.11676781655664963,
          -0.06687694336161881,
          -0.09144851373205196,
          -0.11395832893304111,
          -0.12455287428187548,
          -0.14157973059556012,
          0.3752415989460598,
          -0.22937026712534395,
          -0.15436545916554578,
          -0.2165170391254327,
          -0.12001502033678411,
          -0.10754021963177757,
          -0.20753560535997911,
          -0.18902639288790843,
          -0.19320980067019525,
          0.5344434394902812,
          0.4598982643936518,
          0.2015761820870101,
          0.3925445153234956,
          0.503695727483075,
          0.3331326095246804,
          -0.14339456536605374,
          -0.11521765456996534,
          -0.12104485074478367,
          -0.11377822543340914,
          0.363471468849148,
          0.1766816031402322,
          0.33073024774110404,
          -0.09631691973284082,
          -0.08422074087704792,
          -0.06445665738722839,
          -0.07788857348616958,
          0.5504322921108148,
          0.3680174664446355,
          0.3588824814120794,
          0.30538796422793224,
          0.26008817249561045,
          -0.01985843294329933,
          0.41004562702744274,
          0.35409997526215353,
          0.35522672273654865,
          0.11002869351540495,
          0.39087922068263725,
          -0.10024871686427084,
          -0.1387231597090641,
          -0.3395085814517458,
          0.5484417919258651,
          0.3188870243736423,
          -0.0903071124086822,
          -0.2745471217784875,
          -0.33580152904619665,
          -0.16288188171144108,
          -0.16575433043407642,
          -0.31653577646939224,
          -0.18859622622742153,
          -0.1889664327829827,
          -0.27725274169994935,
          -0.2896549337574802,
          -0.33680990420049567,
          -0.3335130774643957,
          -0.24774683678458836,
          -0.17180049934101183,
          -0.12007879050172629,
          0.01790320444064931,
          -0.14172604172451447,
          -0.3663223833711465,
          -0.07461535876418667,
          -0.34989307366651345,
          -0.15902516806620767,
          0.4521311082808373,
          0.07071372457390662,
          -0.32491886693758404,
          -0.3075844660279215,
          -0.2578403471545542,
          -0.21266823500018348,
          0.3106163991616343,
          0.3584755979819567,
          -0.3390674493256892,
          -0.2600862361812521,
          -0.3147779115061831,
          -0.18392094369456796,
          -0.16637562203463974,
          -0.04809603209401587,
          -0.026431338966619897,
          -0.31021713559762876,
          -0.12744931711582896,
          -0.15517422113776846,
          0.2811301874068526,
          0.14530061576585349,
          -0.07572353143601158,
          -0.33552944749625463,
          -0.14496917535490395,
          0.0036501756243496183,
          0.2654134868227443,
          0.03742599998487513,
          0.3829994686175569,
          0.08618152571366106,
          -0.10559029401848374,
          -0.1060027626383194,
          0.24885778427483377,
          -0.1396357144071327,
          -0.1013917242179515,
          0.4646106844270082,
          0.130751738031433,
          0.10801940742192656,
          0.2856720235028543,
          0.3062076790343746,
          0.21349694292159502,
          0.09962322239035168,
          0.11540257874241246,
          0.15097462948830093,
          -0.1094631268641213,
          -0.10808552531209087,
          -0.10630049588662116,
          -0.10460582829129325,
          0.14923106311159473
         ],
         "y": [
          -0.46807707825979394,
          -0.28716941793187556,
          -0.09879114646747525,
          0.10179085224894109,
          -0.07298417036019948,
          -0.01648669737203808,
          -0.3659991392532055,
          -0.3966676177915669,
          -0.40027178318761225,
          -0.18180299055291507,
          0.03318363998145706,
          0.09888052645557417,
          0.18024757295275506,
          0.13827820116385497,
          0.19498892142242727,
          0.24052148016778352,
          0.2868661161093411,
          0.1617295584568017,
          0.08449080884490122,
          -0.021700092932683684,
          0.002927101696094997,
          -0.1378253277177525,
          -0.46118780840669416,
          -0.0545789258401459,
          -0.4850291632879854,
          -0.3598005928825558,
          0.2636544215009546,
          -0.4473014370457549,
          0.1557388191984512,
          -0.23455652352473425,
          -0.4686355165227913,
          -0.23701876895378535,
          -0.15116578015799112,
          -0.1369343876094649,
          -0.28644460120501786,
          -0.17793373552700542,
          -0.38793432335111205,
          0.10632095072640096,
          0.09745135881209627,
          0.11028698495985377,
          0.20395254154526066,
          -0.28988932366103676,
          -0.3591631166221824,
          -0.39280141208281966,
          -0.2572914210731932,
          0.1385968899870289,
          -0.06858630467789507,
          -0.37402515341755893,
          -0.254594672112932,
          -0.1605176461625477,
          -0.2419476707069076,
          0.04678206558184622,
          0.16244218454600554,
          -0.08580322628374877,
          -0.2984056019576864,
          -0.39128181336866724,
          -0.20776042506079864,
          -0.31823423914314813,
          -0.4686978984052276,
          -0.435310531837038,
          -0.3826415314234584,
          0.15271502953842353,
          -0.11161932567699531,
          0.10038586907549764,
          -0.11188399928393893,
          0.28622390711232404,
          0.13902342281994515,
          0.14213449035946743,
          0.21463495443817054,
          0.06411484212960004,
          -0.38965449430284965,
          0.14447370400060303,
          -0.3838102705380598,
          -0.40201454230986006,
          -0.42589426444611106,
          -0.39611713791987224,
          -0.4187248189480623,
          0.100653155933206,
          0.22145027330253866,
          0.08934780277514089,
          -0.4526520523596713,
          -0.25938841971385973,
          0.08775130009543196,
          -0.47288156126586134,
          -0.04485328604683548,
          0.24527827007464506,
          -0.053905324643267145,
          0.007790082311794225,
          -0.06415284964752761,
          0.10066170759942004,
          0.2896673070139195,
          0.08196478312434183,
          0.22138789552679466,
          0.21617318304971186,
          0.2346767347734402,
          0.1805245947119313,
          -0.009066258396913796,
          -0.1823868488485336,
          0.12314646507442469,
          -0.08081449211517627,
          0.21754384031466237,
          0.2626518546736507,
          -0.015279886962350553,
          0.028260511783842368,
          -0.010449675082474272,
          -0.12519818242837227,
          -0.02745703104318658,
          -0.40980543294377747,
          -0.13476853465549554,
          -0.12398775030945289,
          -0.289645944272158,
          0.12186861945896826,
          0.10549235729225846,
          0.16710773820919675,
          0.3111143192950117,
          -0.14245569241755707,
          -0.30376282585087994,
          -0.14047507037750764,
          0.12331501421050156,
          0.1540141490646818,
          0.15029944619767066,
          0.1707621544769578,
          -0.09862639987828418,
          -0.20562855520935552,
          -0.04762138970225705,
          -0.1396746032064466,
          -0.3649410618195849,
          0.0055598058629349485,
          -0.23757280364956967,
          -0.10768544833743031,
          -0.2913798200498409,
          -0.22896108595757686,
          -0.1641662446441421,
          0.13943748110389062,
          0.07597931237944497,
          -0.45171090956794846,
          -0.10638167877514897,
          -0.09828204965803904,
          0.1150546527999522,
          -0.27136989725214367,
          -0.3333742346827018,
          0.04247271748211798,
          0.09915859954393702,
          -0.4015743920438284,
          -0.2557720590288929,
          -0.15308881135500807,
          -0.29971759564244566,
          -0.22611374766230974,
          -0.3457584107089937,
          -0.39875968975616644,
          -0.20346066979971122,
          0.08086653273910817,
          0.1608869705692078,
          0.032482703105620285,
          0.06464349793298682,
          -0.42591610751811215,
          0.07400576091056091,
          -0.34483347969642486,
          0.11536270359047271,
          -0.031012484408566212,
          0.29114256217282264,
          -0.32496193128011236,
          -0.2977965944574275,
          -0.09132101754885805,
          -0.30206025637439315,
          -0.23676939880132375,
          -0.1474946026341426,
          -0.4150200240995537,
          -0.28743871547703254,
          -0.3577826626871875,
          0.12659478370650584,
          0.08385813005720474,
          0.1906657496187112,
          0.011301433248107689,
          -0.397902926779398,
          0.28693874345233317,
          0.10148408113324162,
          0.13011783979862873,
          0.1846068381289535,
          0.19729924746100608,
          -0.45456527980585926,
          0.0483771403555388,
          0.14099137170978718,
          -0.10255566836630656,
          0.07955109942603286,
          0.04176935928845962,
          0.09094745035909103,
          0.20123392021201664,
          0.27416234490606467,
          0.17769553532059515,
          0.22867849085505482,
          0.2985992375081835,
          -0.11530026349642775,
          0.052382059396820536,
          -0.036562776816270716,
          -0.15210308979840728,
          -0.14366208167166178,
          -0.25145745767928995,
          -0.1893326676416804,
          -0.27088777790599156,
          -0.3309315283900994,
          0.20772019029228866,
          0.192669125086802,
          0.2476910383643608,
          0.22896678790118613,
          -0.16011432217085383
         ],
         "z": [
          0.15764439439219058,
          -0.009015853115430971,
          -0.17389924480400454,
          0.001736701249138329,
          -0.04217680817507582,
          -0.15540217550283675,
          0.18302068093892643,
          0.03459116014243976,
          0.01964391996263604,
          -0.06670887376267583,
          -0.030562630043445702,
          -0.025576937025048804,
          -0.2103629670308643,
          -0.20776707546510792,
          -0.011801480314129571,
          -0.13087024335141553,
          0.007957529125292405,
          -0.1344184753220131,
          -0.0048075629733808104,
          0.08582257327731344,
          0.005091911723059815,
          0.05799813402124933,
          0.1362440037895687,
          -0.05643373234369312,
          0.19489936971494476,
          0.03472759223733699,
          0.09818308873027622,
          0.17334346292181646,
          -0.10419276630687159,
          -0.00875758830373598,
          0.014296186761958813,
          -0.017014412823701884,
          -0.12686750901998328,
          0.02435559980750529,
          -0.01814997495861371,
          -0.06019286655480253,
          0.11000849165697611,
          0.17333233548361002,
          0.2773125906622676,
          -0.02200058859971196,
          0.01727520958221962,
          0.10744775533293235,
          -0.0363077491762577,
          0.06051550506432857,
          -0.02248784133416216,
          -0.014752921111195094,
          0.0041411857749983445,
          0.1755375642782668,
          0.2991742622272348,
          -0.012804922715404366,
          -0.0005385567083755653,
          0.02779717360940141,
          0.20217302492274697,
          -0.049843124499004375,
          -0.10184782432825491,
          0.2179413277427199,
          -0.3457264630319889,
          -0.21613476479526916,
          0.12672129961616815,
          0.018256260309801046,
          -0.13151145925743948,
          0.03456729954206747,
          0.1115405476252326,
          -0.22591003258107523,
          0.10971449678500171,
          0.06029499785804749,
          -0.11194542185633391,
          -0.24689043002141933,
          0.07469884569322156,
          -0.23392223786285693,
          -0.023431762160352997,
          0.03892603303346546,
          -0.035602662784428196,
          0.20449951487084073,
          0.1899014478670875,
          0.12121233717044864,
          0.12491360111877643,
          -0.061828235121983814,
          0.08248808135632463,
          -0.15500178939125378,
          0.03125687165295817,
          -0.07898172026296982,
          -0.0914519501668093,
          0.1084841538948877,
          -0.02049701665933644,
          0.17862487681206937,
          -0.13944499141189737,
          -0.11631091042552007,
          -0.15524106827795514,
          -0.1181030446441655,
          0.07512850908951335,
          0.17571910840550833,
          -0.07311473930332608,
          -0.11170882967253257,
          -0.0426098656525454,
          -0.07873783488056628,
          0.03586947519281183,
          -0.0420359640193227,
          -0.08987656092960387,
          -0.13671740577337482,
          0.015629294988014727,
          0.04228065068073483,
          -0.21694011047561984,
          -0.17147312588310465,
          -0.13788990829457756,
          0.029163558679611973,
          0.03191225902373471,
          0.13945841461765285,
          -0.04905736305525542,
          0.014571333364486499,
          -0.008365965774604859,
          -0.2256240809572934,
          -0.10153255451277418,
          -0.23990329537993993,
          0.020426523600055712,
          0.06213331687893873,
          0.11971557750600272,
          0.025268820283441358,
          0.28445975771186616,
          0.21194637031318236,
          -0.007408018739588205,
          0.14718616049397204,
          -0.002339539417695581,
          -0.0626419315045378,
          -0.08473926351027244,
          -0.10455794171590638,
          -0.042928822990078726,
          -0.11475096196666852,
          -0.04149385909467132,
          -0.09246746560048026,
          -0.0814078850042708,
          -0.15505272797841788,
          0.006832364583412388,
          0.04852670732244433,
          -0.17611792501044193,
          0.16717116275013935,
          0.006249344909922608,
          -0.11013174379518682,
          0.10661940643199289,
          0.18782508769585385,
          -0.29017917722042624,
          -0.21878285976570522,
          -0.2601618126575267,
          0.014669205619855972,
          0.04882107146249055,
          0.16474660809027855,
          0.17859919620649783,
          -0.2725940598802249,
          -0.05290215208662938,
          0.15427965306855768,
          -0.07386923879888864,
          -0.07892071344233682,
          0.033028000718666066,
          -0.3302981210241396,
          -0.11423652749658843,
          -0.112869272741217,
          -0.023566418060235874,
          -0.2428105818444163,
          -0.35495009904864117,
          -0.016571839968499667,
          0.015116805538837031,
          0.08716022246637897,
          0.11251785898224112,
          -0.30109752973253495,
          -0.054711541488826086,
          -0.06768826675295399,
          0.038657574455241914,
          0.06848287359161732,
          0.03479571791030828,
          0.1824532760271391,
          -0.0792101802210169,
          -0.2425520845872203,
          0.09503422046501928,
          0.06433020460875004,
          0.14391728538416115,
          0.01913550152062253,
          -0.343160458720409,
          -0.032241085663195994,
          -0.02370568282498448,
          0.0007303660415170645,
          0.10025882289396214,
          -0.08145696770147065,
          -0.06591696118020499,
          -0.09568302002263039,
          -0.34144907996244966,
          -0.048497519489131016,
          -0.13751800865695316,
          0.15648160292388014,
          0.12369502175846864,
          0.06295373443001136,
          -0.08349976063841681,
          0.13200870140160928,
          0.06267832924677885,
          -0.01810345298219379,
          -0.01295439701327703,
          -0.031987617622282784,
          -0.11533591634579254,
          -0.09371562474130515,
          -0.0901544550584153,
          -0.036193306696999585,
          -0.08628091958575132,
          0.07350087578100602,
          0.07008042236355197,
          0.06785459966392625,
          0.05969220975962999,
          -0.10684177000021444
         ]
        },
        {
         "hovertemplate": "symptoms=Resolved<br>x=%{x}<br>y=%{y}<br>z=%{z}<extra></extra>",
         "legendgroup": "Resolved",
         "marker": {
          "color": "#EF553B",
          "symbol": "circle"
         },
         "mode": "markers",
         "name": "Resolved",
         "scene": "scene",
         "showlegend": true,
         "type": "scatter3d",
         "x": [
          -0.3285046685871965,
          -0.1613547475496306,
          0.13602164194851252,
          -0.32768748488388505,
          -0.132229737401366,
          -0.1332753563459817,
          -0.15371405852787312,
          -0.1293341623543802,
          -0.26397712548299634,
          -0.18525202627666099,
          -0.12596732198358096,
          0.5488043841934193,
          -0.03703761787759518,
          -0.11807896091211116,
          -0.12068347272724922,
          -0.09785310712025867,
          -0.2866234734442999,
          -0.03935679239066297,
          -0.10316317224760743,
          -0.08586292736726675,
          -0.12478650838881841,
          0.21987778840998834,
          -0.3182809476698097,
          -0.1428008575288115,
          -0.10672603824740928,
          -0.1508996934523651,
          -0.27227601144980845,
          -0.1395840867170216,
          -0.11409031289809023,
          -0.16629888504855453,
          -0.002197392527983107,
          0.5175021878995377,
          0.5733723419618837,
          0.33113225156476456,
          0.027286029067387144,
          0.058776407996093905,
          -0.11487466853348946,
          -0.1087364042016316,
          -0.08166914221344819,
          -0.1571699193862234,
          -0.08985415840422269,
          -0.3471618198625203,
          -0.03853945915159943,
          -0.3249349028896934,
          -0.26861073274336794,
          0.01878279804052061,
          -0.1117508793336243,
          -0.15961312992123933,
          -0.1276129369236315,
          0.4609086314989063,
          0.32091536564136786,
          0.02402362265363326,
          0.4323699523964658,
          -0.11471277899803735,
          -0.10603528413691375,
          -0.13899943215957253,
          0.3107459295418255,
          -0.165270197193808,
          0.38334284501429006,
          -0.11572403977959766,
          -0.12444305149770327,
          -0.1402788415798134,
          0.44682508483984873,
          0.4223594024065583,
          0.4269958442517836,
          0.38569418593116156,
          0.019290791288408948,
          0.4199328561855365,
          0.06005718616385999,
          -0.14360452911924532,
          -0.13957686307891579,
          -0.11208398102493618,
          0.05677124824431489,
          0.1235808253989359,
          -0.11158119116948667,
          -0.010948697279111253,
          -0.13008965846652806,
          -0.1146860204956458,
          0.45204297866913223,
          0.36288465033828915,
          0.2869612475779632,
          0.14724387845049877,
          0.36135260803651537,
          0.3303141090198346,
          -0.2532264375762579,
          -0.08006933454385719,
          0.11607290218853493,
          0.2820127625208902,
          0.17196393859533965,
          -0.08243463516087393,
          -0.08398958228013575,
          0.3969990354490178,
          0.3391749614749109,
          0.26886706228531243,
          -0.06912360333627117,
          0.08005360048201304,
          0.3314448235137923,
          0.4037439097112277,
          0.03131045185003895,
          0.004202211579281602,
          0.08677173818770242,
          -0.07977503387992502,
          0.29454919736298335,
          0.05168116418895114,
          -0.14766740981372406,
          -0.3058071337248706,
          -0.12573843790551653,
          -0.14768743814696284,
          -0.1296136148053844,
          0.10252239677799814,
          -0.22112857280866688,
          -0.14086166125190547,
          -0.2979284375603197,
          -0.28544326157077277,
          -0.2181501959833263,
          -0.1716294150407761,
          -0.2629683175194529,
          -0.2251506366636509,
          -0.2864774755702872,
          -0.08760055942693594,
          -0.17013131915343863,
          -0.15932748119714724,
          -0.10616471226874326,
          -0.14345920839984946,
          0.22992154515320284,
          0.26959499588916064,
          0.3968031871959109,
          0.402438930902167,
          0.16501810300344313,
          0.3445215697474541,
          0.14424694288098605,
          -0.07977523930769348,
          0.4906932443401596,
          0.3001518685307019,
          0.10298798727759359,
          0.4909126327123942,
          0.10372723463797703,
          -0.09689996033606686,
          0.23402228808294104,
          0.3597226609841352,
          -0.1461925266287555,
          -0.16780263153372635,
          -0.19359654034466822,
          0.2363077964897619,
          -0.2871444940117144,
          -0.009789563206382709,
          0.1201164672084091,
          -0.06547185056212386,
          -0.18642822745926185,
          -0.12604957819664228,
          -0.17205961161351377,
          -0.10970504005925949,
          -0.11144002925545808,
          -0.12345176083618448,
          -0.08622669730461265,
          -0.12941254892996432,
          -0.14074250769862745,
          -0.13020809418194665,
          -0.11877957088961526,
          0.4127635048625551,
          0.30378846591141595,
          0.03817953311628524,
          -0.02760089477103835,
          -0.09628004169866182,
          0.010980224109801841,
          0.2555087528527835,
          -0.017603731644293966,
          -0.041859782779239935,
          0.448798163817576,
          0.042267307340519214,
          0.02006938081097484,
          0.5111808387460995,
          0.013027848868845853,
          -0.04401721519642996,
          0.07621676194299849,
          0.07818832090079446,
          0.09712906322459301,
          0.16585206773699057,
          0.37437546826291745,
          -0.0215471070803492,
          0.3551956814336708,
          0.1093218323898443,
          0.4989663716655887,
          0.17345263605195485,
          0.30298211304912276,
          -0.11312265638675673,
          -0.018624119222388776,
          -0.12595992779523257,
          0.04295571862924769,
          -0.09416659547029943,
          -0.18399541083944043,
          0.4727614723041125,
          0.33012681173494474,
          0.1537032104248479,
          0.415342546348733,
          0.3734638075822458,
          -0.14430655898933123,
          -0.1891844507482689,
          -0.1243209978706207,
          -0.10330451670556307,
          0.014562344380967896,
          -0.14638306635211037,
          0.32933556508736334,
          0.0185263020672286,
          0.009966717857877108,
          0.3093085818184346,
          0.22056905560436493,
          -0.10874691468276704,
          -0.12630350222174458,
          -0.04329851514877564,
          0.04294857853706156,
          -0.05390678662188699,
          -0.17461529011475385,
          -0.33003659764671167,
          0.3444946100084696,
          0.47295495635531803,
          0.19596282092249756,
          -0.25598239995353467,
          0.20193346951432267,
          -0.12329989656450223,
          0.04129912222540789,
          -0.25183461046093564,
          -0.14424915972457444,
          -0.09541259647025839,
          -0.17333331634809518,
          -0.13943342760530442,
          -0.15376515283469658,
          -0.14028903389917013,
          -0.13573321845146663,
          -0.3028499802051038,
          0.4977195531190012,
          0.27446165326182415,
          0.22386042904397305,
          0.373122041483513,
          0.35375482366177136,
          0.5216589284885651,
          0.297180587875238,
          0.38643501066071245,
          -0.00014815868014733265,
          -0.1143535126839402,
          0.28798537710932887,
          -0.010493056090401841,
          0.11471079879745495,
          0.08857599904303827,
          -0.1276111741194356,
          -0.10761392348795172
         ],
         "y": [
          -0.3171507421315664,
          0.100808229833122,
          0.09785961940839537,
          -0.3058400096679348,
          0.24833550986586903,
          0.22792480082432515,
          0.2023767014598057,
          0.2271956860348865,
          -0.13659228963354056,
          0.007565192680088357,
          0.31566915810146395,
          -0.09827094890617814,
          0.3115286113625041,
          0.20614112361867412,
          0.21554289555375092,
          0.2520375311580976,
          -0.23522194191108806,
          0.20139706932710622,
          0.26816161995836646,
          0.09785721490408553,
          0.19777315089930603,
          0.10057228733539825,
          -0.3253385882774545,
          0.21212797294704636,
          0.32608187729090393,
          0.24250142169315697,
          -0.29050141613417735,
          0.19604491662391307,
          0.2713759645992527,
          0.10006292803042952,
          0.03068774138798476,
          -0.13752497156433113,
          -0.1401984634872196,
          0.014625731277997565,
          -0.35724223633578145,
          0.24433899503243967,
          0.246839028219146,
          0.24300789942068945,
          0.26419301497087805,
          0.03345526216156407,
          -0.07283343803907148,
          -0.40985702751998926,
          -0.04454241832933461,
          -0.3527880787223291,
          -0.27482838569270107,
          0.24998389826041217,
          0.2552297089983494,
          0.13356159950332377,
          0.21486654816961526,
          -0.13131555221882957,
          -0.1590540123019859,
          0.05840660795449296,
          -0.20621226122441783,
          0.27202820935406635,
          0.26073162382330545,
          0.1618847285676302,
          -0.28595709319397383,
          0.10622503230288308,
          -0.09789246152234884,
          0.36245570773191044,
          0.3102662163027962,
          0.28531335433368404,
          -0.05633686383928821,
          -0.012405212205860985,
          -0.08765933050327439,
          -0.034272478377121565,
          0.32132076071704246,
          -0.022780379101945043,
          0.2987397786498731,
          0.24541032856736122,
          -0.02049016193795365,
          -0.01804314133000739,
          -0.0006425383366509153,
          0.15168051333138646,
          0.3270712576265672,
          0.1691359923505717,
          0.2146423871225494,
          0.27947476255856185,
          -0.11116456558535175,
          -0.13272468231467302,
          -0.01626658977251464,
          -0.09615630223071812,
          -0.16219688568739232,
          -0.13147407135444739,
          -0.1991302220736101,
          -0.3804143983985234,
          -0.42882753094049125,
          -0.0737058232938122,
          0.070485594035856,
          0.3064348467803212,
          0.36082852894853845,
          -0.09980469932939103,
          -0.08808168452620473,
          0.06370312023365635,
          0.3005265244208215,
          0.24450264750182926,
          0.0073323688303314335,
          0.027058158173698634,
          0.21056515942075002,
          0.17750792905794638,
          0.14145546977103923,
          0.30816208298874453,
          0.11811647685542596,
          0.043331328844395625,
          -0.0226683858877232,
          -0.20667397923782352,
          0.15735700152356835,
          0.23933728476347024,
          -0.027282603958713285,
          -0.49811547657082655,
          -0.14703407288857134,
          0.13924050791942139,
          -0.31533639019625603,
          -0.16233493946752878,
          -0.13702829339350986,
          0.034071497602089204,
          -0.16946488045268993,
          0.009988577264002471,
          -0.19884592828405023,
          0.17826630672439062,
          0.11103850667266456,
          0.16674178283075958,
          0.20137185422840811,
          0.32650912594033304,
          -0.08341774823896737,
          0.11705069177986975,
          -0.07060617945582486,
          0.055422579977883045,
          0.21586419076774677,
          0.06441017314493853,
          0.024374372208693117,
          0.18330496730329798,
          -0.12380225261851606,
          0.09976047643017126,
          0.16746863079299554,
          -0.044018657625104415,
          -0.08803184778360619,
          0.19725079864820533,
          0.12465341113921645,
          -0.033784074750836786,
          0.273391736951168,
          0.1828900884643734,
          0.029020269290533016,
          0.04763825538709751,
          -0.23666898897016622,
          0.11083174435234325,
          -0.026080826855033584,
          0.21313845349513957,
          0.0070771035453189,
          0.2882725725159615,
          0.08447678637739982,
          0.3666115900667368,
          0.36702134358966587,
          0.35341211644745046,
          0.32196237973515635,
          0.2867540266404421,
          0.23611742621378046,
          0.3709128074808176,
          0.34220978844651245,
          -0.11489362875355776,
          0.019178270238111084,
          0.31193468445165945,
          0.3017343685195408,
          0.3405154443002433,
          0.30070624457784934,
          0.15792128592968982,
          0.3447432501561101,
          0.33275709976346524,
          -0.09785433692464371,
          0.23554033944080907,
          0.23352480078381066,
          -0.12893762758867552,
          0.011561756469681243,
          0.30530186302039675,
          0.2834488853804819,
          0.036820881078994824,
          0.26147257491544124,
          0.17718129877398953,
          -0.29527408849986275,
          0.3075433517896509,
          0.03378025635537776,
          0.2295754418944896,
          -0.12597721043031015,
          0.043879655944449814,
          -0.2634490493787875,
          0.29631678059760924,
          0.2391906046897011,
          0.35485351458825226,
          0.23427864391944933,
          0.13287882680878457,
          0.010316035532366435,
          -0.06941743155621785,
          -0.1527565948227133,
          0.11282511736455875,
          -0.17964649244107112,
          -0.07041799327542717,
          0.02384822974969405,
          -0.03572664505781674,
          0.24014537446027523,
          -0.41887226480585765,
          0.29751602684294354,
          0.13708322476581064,
          -0.2060126251313494,
          0.1085486261089385,
          0.12857426020002727,
          0.14428812645621103,
          0.16419487528385102,
          0.27732423159338815,
          0.1413405247651712,
          0.10574954350544477,
          0.15373629427004262,
          0.1861590661248336,
          -0.033232221312867925,
          -0.37927138599165566,
          -0.20416901896381312,
          -0.12185634473203662,
          0.13864135294299776,
          -0.20254285671826625,
          -0.3758201162253089,
          0.29572471919291793,
          0.11954222156051417,
          -0.08386359576206572,
          0.23418025387361746,
          0.18578191921766432,
          0.16296853757912025,
          0.30402922578106517,
          0.2227227261726793,
          0.2957272220938069,
          0.07383200585866855,
          -0.2745808611447463,
          -0.047395639189118405,
          0.13140948389785526,
          0.14464730890874167,
          -0.045122785392006357,
          -0.06261560082047492,
          -0.08823001552659378,
          0.16372759941762605,
          -0.08358130120372675,
          0.3283198447359024,
          0.1363594392111022,
          -0.13469772398245158,
          0.22351147043897274,
          0.04238017964047445,
          -0.1345207817247609,
          0.35927864510733215,
          0.26426989804748247
         ],
         "z": [
          0.07308278816182298,
          -0.08206196208823194,
          -0.03123912020294385,
          0.06166283752358878,
          0.016032964975837807,
          0.03885262524857662,
          0.008575927549630892,
          -0.03750058623722457,
          -0.049573871985600156,
          -0.1511315131318857,
          0.11202561689958566,
          0.016270786655977417,
          0.14022331928875828,
          0.031306647517762916,
          0.0005328320939094025,
          -0.03022234622610077,
          0.14630314769488809,
          -0.11843382832219886,
          0.07114030215484451,
          -0.02461013182751077,
          0.05906349400391336,
          -0.09895152713334486,
          0.08266286788864649,
          0.019364587256538734,
          0.13997676584816024,
          -0.07773029365533571,
          0.12922823831320734,
          0.002820083416434596,
          0.02810254738884368,
          -0.011070588130783298,
          -0.028428410922721196,
          0.03133672965612137,
          0.01603662333265025,
          -0.022451018263420417,
          0.07713737783961343,
          0.085682638171659,
          -0.0633415400503252,
          0.06758038924030894,
          0.09993519679212266,
          -0.10336169719967196,
          0.12302667609592152,
          0.04004733097142166,
          -0.12366396385553251,
          0.15925581872850497,
          0.13941165604885333,
          0.1289919246697948,
          0.09702255506013382,
          -0.021808741116447254,
          0.01963703127215643,
          0.03365862296430556,
          -0.12084545423034232,
          -0.04994625524952835,
          -0.01409251798632171,
          -0.027924843290926774,
          0.10308238209505889,
          -0.2261663565784833,
          -0.07729234172110057,
          -0.003758964913802674,
          0.10680724220851368,
          0.14166691098994189,
          0.057429911647362206,
          0.03317955074562201,
          -0.02202540691933532,
          -0.020103841635091758,
          -0.025345478164353452,
          -0.05985485110903196,
          0.05384267414540905,
          0.03364783407039225,
          0.10928658844706111,
          0.03489732919097866,
          -0.09606749529491677,
          -0.03095975397067145,
          -0.030529712366736263,
          0.03539402850967069,
          0.12067862841973016,
          -0.03748569406158907,
          -0.07903809414230895,
          0.06038304897392095,
          0.019510384292905657,
          -0.00802737756942382,
          -0.02579244378860468,
          0.0286297830243774,
          -0.017814228621136526,
          -0.058144010863861104,
          -0.23415052838371653,
          0.043992862928469365,
          -0.05172707368568193,
          -0.08171001104692417,
          -0.038811592714444614,
          0.05091652870777741,
          0.11409943644357615,
          -0.04805885582937763,
          -0.1173297745977405,
          0.018759563042222,
          0.050835492274802954,
          0.0606333924996352,
          0.049739829054655654,
          0.06359347180770021,
          0.034693424957397634,
          -0.04784463065259316,
          0.03705196344705008,
          0.13840329010811206,
          -0.030344578112230045,
          -0.13137955439659826,
          0.022344150131303777,
          -0.040526763740695304,
          0.03179198183581023,
          0.006830283970643773,
          -0.08658049205396684,
          0.12457140002898012,
          -0.09542546619903589,
          -0.05876803144609466,
          0.17876475403576697,
          -0.011040247039488095,
          -0.0176965561219818,
          -0.025382111068568566,
          -0.038207768826364036,
          -0.00147040103993742,
          -0.1274996159423611,
          0.14345017520179537,
          -0.3853830403348045,
          -0.3233297574051745,
          0.08605136403395204,
          -0.015547745394442128,
          -0.03877918924202402,
          -0.04017831127497111,
          -0.021837367474820565,
          0.045157030868287484,
          0.056032385335991815,
          -0.009485780279057799,
          -0.07214283098839813,
          0.0025523031330351984,
          0.07024984046451797,
          0.05732152710702879,
          0.04159503285722737,
          -0.016017983993233655,
          -0.08775042612363333,
          0.15120151258272113,
          -0.1399364353600059,
          -0.044510494007334304,
          -0.012791182289991071,
          -0.04389749012104967,
          0.04684199887751452,
          0.049417714013290384,
          0.07733371324596566,
          0.021815971221857102,
          0.04078304996388852,
          0.056540848872801204,
          -0.22000249190524804,
          -0.0517894149505036,
          -0.07464492941128618,
          0.09984183672396021,
          0.12116124481188792,
          0.11652383882495737,
          0.08979878301318542,
          0.07778929446264606,
          0.004953751624731123,
          0.08360665449178427,
          0.09163384643129929,
          0.03053888195355176,
          -0.07810519068318433,
          0.0986951732313666,
          0.14008432432388337,
          0.025445019794536505,
          0.044266612950053054,
          -0.0004160853785199502,
          0.04781194138025319,
          0.12470109576568153,
          -0.08600850072204047,
          0.042855345632109645,
          0.04721786474751699,
          0.022374534672206382,
          -0.19358450277734124,
          0.07400614675190242,
          0.04748038052813949,
          -0.1644657332397742,
          0.03347052243487989,
          -0.004534287466152191,
          -0.049658298860088226,
          0.0033079657823302314,
          -0.03350813994916615,
          0.016468457875305747,
          0.005331068052505255,
          -0.10087245451383967,
          -0.06913652549541387,
          0.056201150414328015,
          0.01849516881407426,
          0.023003709953447984,
          -0.020714757664668883,
          -0.031611453749769015,
          -0.28977805772114673,
          -0.02037173791239233,
          -0.04834800756280358,
          0.13371990357962762,
          -0.019969472217919268,
          0.13782646318577882,
          0.005116972854278536,
          -0.26838976541799076,
          0.040708498667929416,
          0.2329809218168154,
          0.08504171433815017,
          -0.002139680628344317,
          0.034728571982008884,
          -0.07227712494062702,
          -0.06828561456793499,
          0.0015480720742961124,
          0.05874125087171795,
          0.06215049887061858,
          -0.07021725508107456,
          0.11713423173001437,
          -0.030788201811362156,
          -0.0026976993133050768,
          -0.09421685937440592,
          -0.08155120190278013,
          -0.03350192384895073,
          0.008489862933230233,
          -0.018257180562536925,
          -0.3672383092885235,
          -0.012840620844092389,
          -0.06365705369134816,
          0.022122226796069146,
          -0.259238323885189,
          -0.0709046455306657,
          0.01356103478847858,
          -0.046093115224645084,
          0.03281332131073801,
          -0.028406391543352505,
          0.04050118422930625,
          -0.044079435445556606,
          -0.15029070109109266,
          -0.0077728347689682955,
          -0.021002704851434545,
          -0.0382560251841314,
          -0.06083864845529347,
          -0.004281764249595862,
          -0.0008376559265527595,
          0.03809627600415705,
          0.02318578386311179,
          0.07345624961778875,
          -0.1427626047920525,
          -0.04783096883634919,
          0.035198821768042364,
          -0.019200045859387824,
          -0.10703743557730883,
          0.05291242795699808,
          0.05457371173281882
         ]
        },
        {
         "hovertemplate": "symptoms=Pre-symptoms<br>x=%{x}<br>y=%{y}<br>z=%{z}<extra></extra>",
         "legendgroup": "Pre-symptoms",
         "marker": {
          "color": "#00cc96",
          "symbol": "circle"
         },
         "mode": "markers",
         "name": "Pre-symptoms",
         "scene": "scene",
         "showlegend": true,
         "type": "scatter3d",
         "x": [
          -0.31341628928875953,
          0.16322803770887975,
          -0.3370922789938544,
          0.2643732569584125,
          -0.1394707217127789,
          0.4349994260180255,
          0.4975330648444864,
          0.42030481189840474,
          0.5099865978168283,
          -0.13827690490467354,
          0.3096101018297269,
          -0.011524529280531081,
          -0.0791983032011465,
          0.16789459934644094,
          0.32483751718917264,
          0.08120862377938645,
          -0.12883021688066168,
          -0.10007882867137231,
          -0.10109061735905572,
          -0.250225213032491,
          -0.3301350649773642,
          -0.31859268241294025,
          0.2905288859956193,
          -0.19905617857356667,
          -0.09876534741900825,
          -0.16190515836683014,
          -0.17792815929598027,
          -0.2607901980831053,
          -0.3263220096237251,
          -0.08522608987394494,
          -0.28513925331449685,
          -0.3191426438260982,
          -0.2814669552253417,
          -0.31372699846408864,
          -0.12405590484949389,
          -0.17521020623038475,
          -0.30653915391448666,
          -0.3186150380213768,
          -0.10223110012642336,
          -0.10354306303468093,
          -0.09748722131266899,
          -0.31238623870972965,
          -0.09413512859090505,
          -0.31177786443548927,
          -0.11619082538098897,
          -0.0956499767257214,
          -0.11248126589111888,
          -0.33954812796566364,
          -0.09380010227907529,
          -0.27887878539368677,
          -0.10582106927070689,
          -0.10970614777635809,
          -0.1590656420426071,
          -0.17746252058532402,
          0.49688344329466155,
          0.42127559746788895,
          -0.09732400988462465,
          -0.18260919516143595,
          -0.15156953555765937,
          -0.18981993698836722,
          -0.3277564398378407,
          -0.15591732131128494,
          -0.09585988310789918,
          0.18200604165865553,
          -0.10440315736362958,
          -0.3429868937342208,
          0.23595493631794373,
          -0.09700638240431889,
          -0.10462319801972735,
          -0.10837085546884101,
          -0.29899492678114065,
          -0.29838743508792265,
          0.02264247389483629,
          0.06250829234437161,
          -0.11480360971198686,
          -0.09636058850807137,
          -0.3073640195117869,
          -0.2951263912247462,
          -0.32614084091406986,
          -0.09937451127552373,
          -0.14892640036919602,
          -0.11433865726463366,
          -0.09351892597674392,
          -0.17787332001468462,
          -0.12224077873307977,
          -0.10457489294793794,
          0.32375124804567135,
          0.09377811763071518,
          -0.11099905916911997,
          0.31559850642948634
         ],
         "y": [
          -0.3895664736651752,
          0.049073247657008226,
          -0.41936357335974245,
          -0.4057645392006419,
          0.15540934022490863,
          -0.008655965303842463,
          -0.1251635887065565,
          -0.0407370253046598,
          -0.1320494921722573,
          0.08440756868960968,
          0.05641314615213898,
          0.27751813845717177,
          0.15828152925169844,
          0.17438552356221398,
          0.10226001820976954,
          -0.5054631199513728,
          0.1685579173813966,
          0.09823848496467125,
          0.09860996372871257,
          -0.10872187210311166,
          -0.42657118928231974,
          -0.3997871984641091,
          -0.39815610404289425,
          -0.32081239825249463,
          0.11127999722133079,
          0.050861666656210135,
          0.1190489976796493,
          -0.14737686727484062,
          -0.3429500800422127,
          0.10433651561507284,
          -0.3957750383136857,
          -0.36598719682525743,
          -0.3637693881512515,
          -0.3965884478299942,
          0.1419181384591291,
          0.09033256744663817,
          -0.37454519606840797,
          -0.3305778184423071,
          0.12082759546937336,
          0.08490990045978566,
          0.2338687157484826,
          -0.39819535472475454,
          0.0847596018953693,
          -0.4014564116037507,
          0.19470258498675802,
          0.11480260942357091,
          0.23647404583337478,
          -0.4465634630528078,
          0.12415630898993921,
          -0.2745232048624046,
          0.21152308488434818,
          0.17232756573799396,
          0.14127591655391122,
          0.07125985163016674,
          -0.15937127927412434,
          -0.09524533128632605,
          0.09035737652899765,
          -0.029825844433404122,
          0.06494037341145693,
          -0.05808522551541843,
          -0.4231073523857319,
          0.12147735348309487,
          0.11343584637277157,
          -0.06081335860972877,
          0.08131576739700558,
          -0.4600364009385124,
          -0.3692378092462751,
          0.15192324217319492,
          0.223722324945043,
          0.26383907365820686,
          -0.37412693878927555,
          -0.3738762969938325,
          0.1154515567089576,
          -0.11330054905790177,
          0.22754344190011824,
          0.10835258252613257,
          -0.3864980269116232,
          -0.3582943737112507,
          -0.3919902118455549,
          0.09359586355790986,
          0.14676082072150423,
          0.2627368486299135,
          0.10016727536873156,
          0.11981625832165634,
          0.19136618318702528,
          0.2228214598750152,
          -0.26251884943844245,
          -0.4913096842143068,
          0.2269160215463786,
          0.06932114604317269
         ],
         "z": [
          0.2562861625818066,
          0.07454096665391957,
          0.2158675755702256,
          0.019417040458591016,
          -0.21805786034091076,
          0.008476780183516785,
          0.030453638893437433,
          0.07677537613811113,
          0.07556572332241746,
          0.006208373411587523,
          0.005058319600803708,
          0.17232950727751925,
          0.15544577649703967,
          -0.04406466318062306,
          0.0004569813860256316,
          0.17773393690793782,
          -0.16025292761057736,
          0.2764590374726573,
          0.2892563934742245,
          -0.29210192847803146,
          0.2240993327282994,
          0.2730173055416784,
          0.02334970418981808,
          0.18093529222129273,
          0.19299111232239433,
          -0.26255055206241207,
          -0.26259139996025443,
          -0.3175774008647417,
          -0.13077731218565025,
          0.23730636767475233,
          0.1996264397068721,
          0.05880767070216986,
          0.023406731299485818,
          0.0414425557616444,
          -0.14323665786098022,
          -0.3626371594287413,
          0.2115187438527372,
          -0.1058327280251501,
          0.19951545429350795,
          0.22995303579651008,
          0.05624889754384716,
          0.04367403271381508,
          0.1332152489708421,
          0.1953200806608239,
          0.1183190059169051,
          0.26510679887862804,
          0.07060721146276468,
          0.1624667480778825,
          0.23549354064007327,
          -0.21091582938707795,
          0.0638807550094942,
          0.04103238565769153,
          -0.21794896744859102,
          -0.378867201055674,
          -0.018796492258272235,
          0.04630774404592965,
          0.010189019066362968,
          -0.13002238240847255,
          -0.009131271970502607,
          -0.11231426168650517,
          0.04449016713491392,
          -0.01963971159580061,
          0.26676318255231596,
          -0.11769540328285653,
          0.23641047954606803,
          0.12750953615090668,
          0.11995858576861333,
          0.2457333403949709,
          0.15875521713572133,
          0.10605499124846322,
          0.13237856771695264,
          0.08718483552208489,
          -0.09109506809329855,
          -0.20326614374358068,
          0.07754430445462929,
          0.2810493970044337,
          -0.021387383237988125,
          -0.061531643940262296,
          0.22017848307758095,
          0.21577043199409585,
          -0.15944156963052164,
          0.06682249846228688,
          0.25469369603974595,
          -0.26313377375332114,
          -0.04808673673859677,
          0.08162787930458992,
          0.017013104163504725,
          0.15351759504795287,
          0.07841161727910294,
          -0.08562858234302145
         ]
        },
        {
         "hovertemplate": "symptoms=Control<br>x=%{x}<br>y=%{y}<br>z=%{z}<extra></extra>",
         "legendgroup": "Control",
         "marker": {
          "color": "#ab63fa",
          "symbol": "circle"
         },
         "mode": "markers",
         "name": "Control",
         "scene": "scene",
         "showlegend": true,
         "type": "scatter3d",
         "x": [
          -0.1311391124868609,
          0.36079647939505965,
          0.31272286784809283,
          0.2636703444600218,
          -0.10273989997727234,
          -0.10218999609885365,
          0.1820404679332721,
          0.4192062852658004,
          0.06928888448630731,
          0.1175136891167057,
          0.03922637971948443,
          -0.34999414308497206,
          -0.26792384205526554,
          -0.1557060056633698,
          0.4265781200083882,
          0.08917511862380302,
          0.17753340892612662,
          -0.1767680127549139,
          -0.14960545981050186,
          0.4434286727217185,
          -0.10909545016211959,
          -0.3146439081474328,
          -0.11252177966417415,
          -0.29197985178336877,
          -0.14883351539648584,
          -0.05265046851857421,
          0.011257966702297771,
          0.08794100263987266,
          -0.23823059995308668,
          -0.284817102407739,
          -0.27603306173591385,
          0.06416600356581882,
          -0.2955781747408611,
          0.03573817351151608,
          -0.005211998541726958,
          -0.0841207161886719,
          0.11515088363013384,
          0.07951069122355696,
          -0.16434406761801473,
          0.2933177289721968,
          0.30557127019998853,
          -0.10187310027684367,
          -0.0954555233297301,
          -0.1524690226122251,
          -0.16154860187040815,
          -0.10212507147019391,
          -0.3515056559952612,
          0.07701994605397298,
          0.22637457807457018,
          -0.16782946851397,
          -0.22371531946109205,
          -0.07158437910425425,
          0.19422154522382515,
          0.37474342366365204,
          0.48288453957239036,
          -0.0882987020329641,
          -0.06523361968884009,
          -0.31280321714341286,
          -0.3499776030879515,
          -0.32457880256370786,
          -0.34834559449351643,
          -0.22754095137959396,
          -0.341992990533504,
          -0.16940962715312677,
          -0.32398321351001713,
          -0.32249256154929834,
          -0.22872714433209804,
          -0.25798561263317327,
          0.3634949893728571,
          0.41302720413774163,
          -0.1032223687991583,
          -0.09922978939166674,
          -0.10794398745277956,
          -0.12518287537483722,
          0.5497327021653379,
          0.5282502773820665,
          0.1045130018187766,
          -0.10106977578261209,
          -0.11074881877967244,
          -0.21635796378519828,
          -0.14482171884142012,
          -0.2579140988870196,
          -0.15833687739535318,
          -0.10263145243881043,
          -0.1193505137381658,
          -0.0830180460785374,
          -0.029486286565849062,
          -0.14415295469883435,
          -0.10835115762486142,
          -0.09969786633907358,
          -0.13503219560822738,
          0.29664401238310495,
          0.2552862035893078,
          0.20389164534462806,
          0.04334302965709878,
          0.4258526071761055,
          -0.02613984642461531,
          -0.028530353286658757,
          -0.10781333715455801,
          -0.10936654247942958,
          -0.09333267203564267,
          -0.1977804166340652,
          -0.11255087925144577,
          0.1286436440850407,
          0.13964999986789564,
          -0.10960698999701307,
          -0.094809353958755,
          -0.18793177477719641,
          0.4048825690379042,
          0.38588139131563215,
          -0.10716845709608976,
          -0.1164792202016487,
          0.1520463428311647,
          0.05201096404397882,
          0.4137522651949172,
          0.23475174748571023,
          0.02707541685349179,
          0.33604704752247255,
          0.042636265970318936,
          0.2054421119005238,
          -0.07618782108622824,
          -0.07999418446794207,
          -0.10764575711861245,
          -0.17828070926245354,
          -0.30765374339019713,
          0.1959203884979975,
          0.1410144198206339,
          -0.08388667093429497,
          -0.09433592326665051,
          -0.15820736030430943,
          -0.12313563160291335,
          -0.11993745301144576,
          -0.0735100318152353,
          -0.09569888922172809,
          0.3968240778816547,
          0.4350580420947859,
          0.4427839056349063,
          0.2324070730646454,
          0.49542166568026846,
          -0.11839228325876679,
          -0.11698961373348395,
          -0.11724746157493697,
          -0.10509126623769344,
          -0.10503520688820171,
          -0.1039314081927722,
          -0.11199802943213658,
          -0.24282626056622014,
          -0.13698026410144648,
          -0.1144334500747467,
          -0.02749178716204842,
          -0.17525396919815572,
          -0.1393959176286759,
          -0.1611722180037813,
          -0.06157442341827773,
          -0.11485775003669119,
          -0.11088241345460773,
          0.24670536549522318,
          -0.04140573971332344,
          -0.10553998298381541,
          -0.10621727825180134,
          -0.18370548238467624,
          -0.11485502114404433,
          -0.22961381765466832,
          -0.2617893275799686,
          -0.09641193072863395,
          0.1613773920289005,
          0.3209626236500005,
          0.017381235222006877,
          -0.05136689885959491,
          0.18440682063622924,
          0.06289664365204804,
          -0.29645000055226195,
          -0.343249114243921,
          -0.35035125774450887,
          -0.21431431661361589,
          -0.21569529443206997,
          -0.10043771515020974,
          -0.15386118961494344,
          -0.31771283297706954,
          -0.022416936562818356,
          0.11066864661056453,
          -0.11323254182991148,
          -0.2554923437736575,
          -0.3193433023627493,
          -0.13761769546651126,
          -0.16844483915979847,
          0.1780327783593652,
          0.5213101512779897,
          -0.03715219056012004,
          0.19315486795601428,
          -0.09636605225496138,
          -0.1488326663654439,
          -0.13952728298536163,
          -0.11104917389073242,
          0.4276846852156921,
          -0.09392327576621703,
          -0.10120416302647912,
          -0.09871276673529762,
          0.1438545089671456,
          0.038355931491768795,
          -0.11611683981578272,
          -0.16973644710234556,
          -0.28429532320713174,
          -0.10689869788646916,
          -0.03658637942366828,
          -0.1178967589317286,
          -0.11256884959039291,
          -0.11063062879607218,
          -0.13381135864459226,
          -0.10722096944624507,
          0.16925683215692827,
          0.3515337538726683,
          -0.20549287834667496,
          -0.10185335599810989,
          -0.31961500373792384,
          -0.3332592414332733,
          0.41342678996319115,
          0.2603707538039562,
          0.02720311565575081,
          0.0849235393216592,
          0.03980127866288017,
          0.006697535937210345,
          0.06290395592964965,
          -0.09658073258251616,
          -0.34711090910161896,
          -0.31388367837649317,
          -0.12618450653630212,
          -0.11763422056394161,
          -0.24770415527596631,
          -0.1626936286096305,
          0.024264091291363064,
          0.1316353296397053,
          -0.09668666397808344,
          -0.1725062574825707,
          -0.10099251994060873,
          -0.07710017505383063,
          -0.3036964495208097,
          -0.2981458660337859,
          -0.3012270976695894,
          -0.1682118187635859,
          -0.09493543360182953,
          0.356519791611755,
          0.48285559712654386,
          0.46922014719966937,
          0.45068550106466543,
          0.08874045713886962,
          0.18169754574923352,
          -0.10951952728833014,
          -0.14002748867085935,
          -0.09514191596844562,
          0.3338099344727566,
          0.1931711781869757,
          -0.04558417849318151,
          0.4344685232875025,
          0.3966168910830614,
          0.4631241082347832,
          0.30662288026371237,
          -0.10849529608387418,
          -0.16391124686799308,
          -0.16636022433123027,
          0.5041567905507918,
          0.41895773802032765,
          -0.11591327154776128,
          -0.11748199459741092,
          -0.1425236259205175,
          -0.34738097038865867,
          -0.1273643084527506,
          -0.10216199624905682,
          -0.1758193520286827,
          0.13868872971458776,
          0.09393693952506812,
          -0.22806154862161285,
          -0.25320073278076527,
          -0.32931259037228355,
          -0.1796968882140311,
          -0.14944977842917778,
          -0.2774698723067101,
          -0.1455737348194982,
          0.27913860447384525,
          -0.134564690103475,
          -0.0691139620086742,
          -0.33901183845811494,
          -0.3283939927025487,
          -0.29688624223779014,
          -0.2818526343989972,
          -0.2556870306185512,
          -0.1816301991923682,
          -0.06447656866267897,
          -0.12720798642140654,
          -0.08098857332390832,
          0.17965086302961528,
          -0.09255995474398582,
          -0.12398391370946837,
          -0.1862980186938157,
          0.00937685603784947,
          -0.1841098827304378,
          -0.1720728449959167,
          -0.0987248641328637,
          0.039958132327184155,
          -0.09725792593818523,
          -0.09811851207407991,
          -0.2777278165194671,
          0.23270808028278162,
          0.286477688878016,
          0.12198476245651745,
          -0.1740849181414383,
          -0.1318809016971013,
          0.5539276893981787,
          -0.06457762526610092,
          -0.1362234141089796,
          -0.1345509310701452,
          -0.13200440870126287,
          0.10897935657125743,
          0.28751643537240856,
          0.1210255736638233,
          -0.158173200720584,
          -0.10565199408580137,
          0.5086699269214654,
          0.06467250239548036,
          0.5439310833775051,
          0.4754310804796736,
          0.4621397662330248,
          0.3172057688761698,
          -0.17389793043440294,
          -0.09906319495983336,
          0.32598630332893913,
          0.07932955937291593,
          0.29474721792968556,
          0.40165015931062364,
          -0.10917010860940882,
          -0.03740263443789698,
          -0.1593472014215869,
          -0.11242799570377172,
          0.026689892356679592,
          -0.12781095172225215,
          -0.11876490486809171,
          -0.1097889407300659,
          -0.10331339658099042,
          -0.16716762391470477,
          -0.09503035925618947,
          -0.12827971240542,
          -0.12342046763685091,
          0.4011030367256627,
          -0.013449657021692608,
          0.30989169497000085,
          0.13585898069839483,
          -0.30836564282722495,
          -0.09506947922429423,
          -0.07070342804321533,
          0.4316385278696741,
          -0.33527375504224954,
          -0.1368447295788243,
          -0.23638828942242932,
          -0.2222963354394465,
          -0.2421547924046404,
          -0.14519081879749823,
          -0.12335530987758739,
          -0.17533312847707302,
          0.005027145497536691,
          -0.13023137119075098,
          0.0509958801968861,
          -0.0827206504147814,
          0.10738178451721125,
          0.492031861960883,
          0.46906601861918196,
          0.21398981236216227,
          0.08985609041815075,
          -0.12524900964328997,
          -0.05317798253059614,
          -0.25295305690759196,
          0.042007978581512964,
          -0.3419577395566536,
          -0.25710768290016084,
          -0.05764464342610099,
          0.13080600987514193,
          0.04878818109839927,
          -0.10159149933170172,
          -0.12107690580432252,
          -0.1135716626143298,
          -0.0005215573197567764,
          -0.16720609991335367,
          0.5303798794045655,
          0.4630649949854008,
          -0.09798074429582668,
          0.47329757356674446,
          0.4756635923374094,
          0.5235032152243837,
          0.47549016481859524,
          0.13558120218684422,
          0.46074073217888056,
          0.4820008214744202,
          0.5154931579626013,
          0.352923250066202,
          -0.15240988535626004,
          -0.30837364460728955,
          -0.32467545449017526,
          -0.24756861491638615,
          -0.13657155793536377,
          -0.10491165763599467,
          -0.09024782810215494,
          0.5160738352141871,
          0.3647373541279261,
          -0.03857989142270172,
          -0.17292763112385376,
          -0.1347049401023497,
          -0.12943031754493964,
          -0.31342216250250116,
          -0.3551993578313697,
          -0.3401271269865506,
          0.06421885449088514,
          0.3222331702669832,
          0.49358337272087643,
          0.45099912388784275,
          0.45940941666301627,
          0.40536268131708486,
          0.38585751991421635,
          0.028443061513188032,
          0.17679869082388935,
          0.49597908963448323,
          0.4375088508312772,
          0.5289819871469004,
          0.45059231640655634
         ],
         "y": [
          0.12548193315946685,
          -0.33425366222056396,
          0.04209929549770079,
          -0.02371195808303806,
          0.2720570318682672,
          0.12645187953263873,
          -0.35835027071882525,
          -0.038573157946263696,
          0.26380125267423665,
          0.13574905952319988,
          -0.22307387249710145,
          -0.4753699242990409,
          -0.21376334247493586,
          -0.11905770350125591,
          -0.19740208241470997,
          -0.06397644020606005,
          -0.07135786067402744,
          0.09275431215290439,
          0.16130211615498494,
          -0.15449193821322837,
          0.28806884266211613,
          -0.3550523753473759,
          0.11881543291774943,
          -0.22433972544948455,
          0.16233735506021046,
          0.2567688896291427,
          -0.469790539319041,
          -0.07962742218120034,
          -0.07033993622102319,
          -0.2591243424766911,
          -0.1798834113346953,
          0.3019930690299001,
          -0.3539474882601758,
          -0.03923906805001695,
          0.16798365160542328,
          0.2710006745593498,
          -0.10140284792406606,
          0.17136951020278743,
          0.09497300082077106,
          -0.2684122252807234,
          0.09007728272878061,
          0.09267304163917202,
          0.13993556235286583,
          0.1145600576145656,
          0.09518174914057259,
          0.103945480139286,
          -0.39392725184719474,
          -0.5067799484710022,
          -0.3892025514927195,
          -0.25528810309438704,
          -0.1402923804062045,
          0.12763240126810843,
          0.14530806898668075,
          0.027509743151532373,
          -0.07938547756887207,
          0.24567793193653956,
          0.3024512196037026,
          -0.33263463879165683,
          -0.4660962545010559,
          -0.3913999341493008,
          -0.38214924247662085,
          -0.20428214416417823,
          -0.3819974998705467,
          0.17171245212532632,
          -0.3978563101867051,
          -0.4300049754656422,
          -0.20772509057208577,
          -0.2723291482829945,
          -0.29209495633138083,
          -0.22595601561934964,
          0.09578764838186009,
          0.14362352386706145,
          0.17666292136230494,
          0.23503032477195251,
          -0.136051420238315,
          -0.07392639192831199,
          0.23442255964607886,
          0.08327069858710028,
          0.16419213907477306,
          -0.08887561708783989,
          0.1138139832623702,
          -0.20174606988457766,
          0.11461238359858572,
          0.2898433020083889,
          0.2409931962502978,
          0.3459654531841624,
          0.15293998119807556,
          0.24698050766866508,
          0.17026953916804133,
          0.1353135326010873,
          0.11415950830344576,
          0.0505688808893281,
          -0.2045650938627316,
          0.0878146877525931,
          0.1949877123432343,
          -0.17749246582265768,
          0.19835148628822624,
          0.31966514216861847,
          0.16301113677511378,
          0.17590807543774725,
          0.1301714578365923,
          -0.15563235630935526,
          0.20676932598675501,
          0.23197814159180685,
          0.19326674619515963,
          0.19179249280835892,
          0.20961184322095813,
          0.07047627811694711,
          -0.04585407909940893,
          -0.13380623841986972,
          0.2835262882111211,
          0.12148715524824044,
          0.13470815460458307,
          0.24285447163526305,
          0.050488442419894745,
          0.1962202809070737,
          0.11808759759395396,
          -0.25634872771790973,
          -0.44144984024453626,
          -0.2905384157371125,
          -0.39962234406879354,
          -0.1758279640620312,
          0.2673236546563969,
          0.0987651102673927,
          -0.2162501419425,
          0.06400858050562683,
          0.21915203852856668,
          0.3200850608856608,
          0.109036834731905,
          0.10643038153665027,
          0.10379616169251571,
          0.12908209923286637,
          0.31374186408013116,
          0.0849521402543165,
          -0.08877144855093236,
          -0.05267286549005978,
          -0.1128743125267321,
          0.0133918295587566,
          -0.052400053040902554,
          0.23681832399135708,
          0.1432967756786582,
          0.18462963771882868,
          0.19756974684810955,
          0.18385453674177235,
          0.18189829161017287,
          0.12172037855676454,
          -0.25886549906235423,
          0.13840402027457713,
          0.13462407941662055,
          0.12974764130521668,
          0.0864185220607136,
          -0.03281306307199514,
          -0.022945334380922142,
          0.19942770414788907,
          0.3041675212334889,
          -0.023235525103360286,
          0.17655575741215335,
          0.0032686491709392027,
          0.30441381237431636,
          0.10425064823056301,
          -0.2359825295747938,
          0.006424733146784056,
          -0.2891982608272974,
          -0.25265784044369904,
          0.2995714035591071,
          0.1182873519906912,
          0.09415310365020346,
          0.29215737234978945,
          0.2982880224082988,
          0.016656395175584798,
          0.20459554825482892,
          -0.36799223237417505,
          -0.40118865725878883,
          -0.3777307938546672,
          -0.04220786742192013,
          -0.133841627285507,
          0.1780967538629533,
          0.11927517712159531,
          -0.3924148431557271,
          -0.29226809562569195,
          -0.3561003370875468,
          0.3343288927134551,
          -0.21523275075767523,
          -0.3724895886334952,
          0.187520445835696,
          0.02144022083926094,
          0.13372267913260202,
          -0.1291409757178439,
          0.10976242544595755,
          0.19562174360612278,
          0.15491093216275886,
          0.04857790680980892,
          0.09977161127797055,
          0.22934755391673864,
          0.02886803031797819,
          0.07640906993509287,
          0.12114084053768231,
          0.18724017844320548,
          0.17822920433046804,
          0.21822947100838494,
          0.3087279222207831,
          0.007282726730154018,
          -0.3325943532873616,
          0.0942048933875651,
          0.3326020328000986,
          0.20547348721209857,
          0.20363026098921072,
          0.26378403195853667,
          0.18500837795764596,
          0.30899671958982466,
          0.1414043550202822,
          -0.22469107201669003,
          -0.1279461578800848,
          0.1098968265509881,
          -0.4011504047221663,
          -0.37218883135044617,
          -0.21546894952369475,
          -0.24009409550001323,
          -0.20434083334939795,
          -0.4004379807865477,
          -0.2309218349283557,
          0.27375609949979834,
          0.2951627137656412,
          0.3166390265433789,
          -0.4586636043146556,
          -0.3298075411972461,
          0.2623870428231283,
          0.2673078047900233,
          -0.18550379695306946,
          0.06885355825070394,
          -0.15001534020187904,
          0.08772223809182937,
          0.10019257476052695,
          0.05865617347235509,
          0.17369964699517315,
          0.16555895025200315,
          -0.38458444662284624,
          -0.3579801731319099,
          -0.33641141782769096,
          0.049570783537626395,
          0.07260797211846255,
          -0.015520735438319685,
          -0.11571214892376266,
          -0.10337939982097401,
          -0.045984447410906834,
          0.08513237476020431,
          -0.4770713358899384,
          0.3500177755974323,
          0.2656340358432397,
          0.18550370508913921,
          0.02085586350682558,
          -0.37339182270750326,
          0.2611100130673348,
          -0.12763161800578174,
          -0.022513060172971517,
          -0.20052918652895077,
          -0.27100287465158507,
          0.25143403509404133,
          0.09725746255617122,
          0.13806306337687793,
          -0.08066010132962442,
          -0.014697901900254409,
          0.18483659748225084,
          0.21979451549569556,
          0.18347155123905448,
          -0.427466103606197,
          0.1743224558462606,
          0.3499491892189857,
          0.2011364174793198,
          0.10747764399127169,
          -0.3030158336836048,
          -0.1263266453299227,
          -0.22255247270759887,
          -0.36373661867210516,
          0.08628931489072883,
          0.20743733918875018,
          -0.15275977923692963,
          0.12780459673842634,
          0.05826448700827679,
          0.22904957578115007,
          0.15819756866065962,
          -0.44679169981190364,
          -0.4208798339228572,
          -0.3615584883069136,
          -0.3395286491806355,
          -0.1994769609234197,
          -0.06650621403782714,
          0.2918647598554947,
          0.20687043486635504,
          0.1995333198380875,
          0.1778071899119011,
          0.2986050843315498,
          0.28984544331942674,
          0.11150058946453995,
          0.2813394030158198,
          0.1316979526899501,
          0.16564548806476254,
          -0.2617794897406329,
          -0.25896280252209297,
          0.35378681116631494,
          0.11445750370494237,
          -0.26758051731169236,
          -0.13296023850324457,
          0.11038071386387278,
          0.10621929709492126,
          0.0789229513104499,
          0.15990787606761303,
          -0.11265798136480766,
          -0.3877584219565964,
          0.10655883641370718,
          0.10399656335534271,
          0.12513705038050593,
          -0.04530561030478411,
          0.03272526664282608,
          0.20767692441803554,
          -0.10801928249375647,
          0.3148474995253653,
          -0.058267066360596746,
          0.0011163750212198355,
          -0.09110029373882766,
          -0.03264521918813697,
          -0.06905999270813216,
          0.014816750958662918,
          0.11144329410062415,
          0.23877916947676087,
          -0.2490533468479723,
          -0.183327215761999,
          -0.16743848734199077,
          -0.025557472922446207,
          0.18608198910042098,
          0.25585355313567576,
          -0.4226164532278735,
          0.28282582902355996,
          0.2992652878350588,
          0.32696315547297794,
          0.3717239999079684,
          0.13265966406420568,
          0.1877067983890575,
          0.08956508031625345,
          0.1741685600631101,
          0.282270463934581,
          0.285680965574175,
          -0.0710212819159665,
          0.22755771170471817,
          -0.013694918618349374,
          0.22326627884895103,
          -0.3039385025876265,
          -0.0676898092171032,
          -0.34510959385146406,
          -0.06659883359307016,
          -0.4343653478671092,
          0.11875454844213798,
          -0.14386094490071138,
          -0.2028163829511708,
          -0.1433151622891569,
          0.09417890106459624,
          0.2999788975088572,
          0.09986538303698103,
          -0.4450787431478089,
          0.11992287685520193,
          0.02449230338798215,
          0.3277738141663305,
          0.23690129445112235,
          -0.12731787659873986,
          -0.11496583722755063,
          0.17410294513731753,
          0.29201582748957067,
          0.23043242420561308,
          0.30226618535382355,
          -0.1888263788562019,
          0.25235475004723823,
          -0.3590218236976699,
          -0.13971561501525745,
          0.26734715628107836,
          0.0585879007131797,
          0.22962471032282267,
          0.27476404429430845,
          0.17697470285963116,
          0.18164204371580372,
          -0.10799924780170127,
          0.2645937554600854,
          -0.09719894427121425,
          -0.10614471620399293,
          0.2904883993408257,
          -0.1342542322863484,
          -0.1384358864024543,
          -0.08124027011466314,
          -0.11566112283121108,
          0.057483226206583575,
          -0.0938181430172852,
          -0.12113518279610501,
          -0.11615654545851174,
          -0.06364708957527808,
          0.11206939507505106,
          -0.35656493827527874,
          -0.39114024835483396,
          -0.246530860306864,
          0.14658886295466972,
          0.14362001121158316,
          0.1460408239997655,
          -0.045900955841476715,
          -0.019680742758440974,
          0.07998005195075512,
          0.1269686530740447,
          0.30673939385464033,
          0.3455008597399808,
          -0.38352776059404997,
          -0.3978115304619221,
          -0.35810976344412054,
          -0.3194263729355639,
          -0.1561933180631045,
          -0.13338815539741308,
          -0.12156244565194425,
          -0.12186712094070358,
          -0.1073537215015666,
          0.09850498513343978,
          0.3089850566729163,
          0.21369049187764336,
          -0.11103119789184045,
          -0.11816461008897472,
          -0.09206184509478052,
          -0.011027608409311327
         ],
         "z": [
          0.05197558323221693,
          -0.020674080145334273,
          -0.054031374398685605,
          -0.09885423076424324,
          0.18504225967442509,
          0.04716929240757504,
          -0.060939528484654774,
          0.017691470698499568,
          0.11394852195820955,
          0.0033836449309520636,
          0.10841592685506303,
          0.15810350359820624,
          -0.06116315011819012,
          -0.1441865729642035,
          -0.055475662258787806,
          -0.04898004169608703,
          -0.1373554245877534,
          -0.42226608058463144,
          -0.2265752235502318,
          -0.007187306886202846,
          0.09036350054702595,
          0.037738548245659684,
          0.011962721261590736,
          -0.05999626775055413,
          -0.03066139544559544,
          0.04582601372267696,
          0.16409068027652832,
          0.03526494767026146,
          -0.5317452154969143,
          -0.19378754123827566,
          -0.1536470847212297,
          0.09444694854762165,
          0.21119998907705145,
          -0.09055825821957736,
          0.011400962618030933,
          0.08083539893951933,
          0.00937004773661846,
          0.059743723892172404,
          -0.0011269126552251357,
          -0.09030425703877241,
          0.0158919501039995,
          0.15473856191529,
          0.24079666545066244,
          -0.20067858209672965,
          -0.3069575804926215,
          0.15768473941425865,
          -0.03873811985214223,
          0.11972792150124002,
          -0.13457263265259678,
          -0.08050544465019469,
          -0.13360162901344613,
          0.07154608453534982,
          -0.07394017030507384,
          -0.13138579255064772,
          0.04509774586914504,
          -0.010513105324028434,
          0.11606421831536429,
          -0.0576250800487513,
          0.13681593230838934,
          0.12482299536824643,
          -0.2068835384505719,
          -0.12476687709283055,
          0.0359336993010693,
          -0.009178587266000529,
          0.16470724401695738,
          0.037124705490316524,
          -0.13792719826395625,
          -0.11528477412724268,
          -0.08712539568830943,
          -0.0046034638685487255,
          0.23141181478253314,
          0.23872767346593815,
          0.1748335672493812,
          0.028757131576483252,
          0.0229769869671979,
          -0.021159194062854998,
          0.01866898783389463,
          0.14895646054459374,
          0.10852003105295792,
          -0.09478081260484211,
          -0.03242696731311295,
          -0.0034565234461462206,
          -0.11933743791632319,
          0.11071025949311651,
          0.02973377630998695,
          0.07646356115712241,
          -0.21071058841560614,
          0.033611254434691235,
          0.078770501984489,
          0.2284811555688891,
          -0.11147287542986889,
          -0.07564019107507929,
          -0.06661624703404409,
          0.11182918285364296,
          -0.08214612045379825,
          -0.07756934047803604,
          -0.048557714548500205,
          0.12102423861825361,
          0.07734467259765172,
          0.07844340345661818,
          0.19873225931571908,
          0.04922535646011239,
          0.008735435237755378,
          0.04685113448807348,
          0.06624545608292778,
          0.17630999802609493,
          0.14821929546506873,
          -0.44043643042853137,
          -0.15860795650084272,
          -0.0003881697462023806,
          0.13126571461614225,
          0.11227976380737921,
          0.02234399370032675,
          -0.10544123072867445,
          0.02934121002685365,
          0.11284308831135723,
          -0.0027160537266811215,
          -0.07378576665517385,
          0.21007306793601013,
          -0.0234417286761216,
          0.16715108767662484,
          0.06545365239678723,
          0.12446720026545456,
          -0.3286708553009441,
          -0.3009360929724722,
          -0.09186665374024448,
          -0.004885922289558415,
          0.06401084455465005,
          0.2521005470921713,
          -0.27321210971208815,
          -0.1748868530497689,
          -0.0955795239374017,
          0.05868415262577554,
          0.14327597350916557,
          0.16738151781310945,
          0.0812530481092627,
          0.10744466715737461,
          0.13249390235441783,
          -0.02513628639742137,
          0.06847530974983937,
          0.1357398927295471,
          0.07443269228225675,
          0.19357508509681967,
          0.17265080834054325,
          0.17242416136408104,
          -0.10280807938812224,
          0.11100288108692048,
          -0.044148336257149874,
          -0.05919865870478863,
          -0.07340044270917484,
          -0.35636273397084633,
          -0.11874542518708892,
          -0.06760906568704739,
          -0.0010863017981770948,
          0.04232063362643002,
          -0.10087713008633274,
          0.040673822739189805,
          -0.06650154015833537,
          0.1499463387004176,
          0.15062294008000224,
          0.047428367813664274,
          -0.03285985691285465,
          0.11971444540536962,
          0.19114301071331105,
          0.14474105322266456,
          0.16756898745518006,
          0.07662343532031272,
          0.12818826843404638,
          0.10597987203589625,
          -0.018753267014829433,
          0.13008593510827113,
          0.04761667514689444,
          0.0504706857205991,
          -0.17080296541837198,
          -0.39181589798623634,
          -0.0991338640705399,
          -0.005512256412313576,
          0.04774653995682738,
          0.263309905182662,
          -0.14097507881015423,
          -0.06460793374443184,
          0.12228114321378737,
          -0.01211293922846696,
          0.050208106771917546,
          -0.008823349516947628,
          -0.09972179648683922,
          -0.03520547340377676,
          0.03342469123321979,
          -0.019904531101736896,
          0.070596562151483,
          0.22550105316579108,
          -0.20006668310620623,
          -0.2255337496927677,
          -0.0011494363412927271,
          0.09922374629382277,
          0.1310520420039233,
          0.1247987785915841,
          0.1475472870943612,
          -0.09123842697603707,
          -0.02780804558747087,
          0.10710570293471107,
          -0.12402545318777103,
          -0.08233221523927992,
          -0.02864491950987537,
          0.07153263545664776,
          0.08231664264804021,
          -0.15181701757253357,
          0.08728240236930551,
          -0.1351488989278011,
          0.04233723443043199,
          0.019341807827290634,
          0.019929790330624548,
          0.0009132470444444978,
          0.23612256031583248,
          0.22383972575987074,
          0.04309495094440897,
          -0.018117469580512736,
          -0.06970234187289534,
          0.02914450003488589,
          0.10926158392961001,
          0.04981554139480604,
          0.05865771348873379,
          0.09305915540474503,
          0.10421821770535739,
          0.06743192513597004,
          -0.18457504432215083,
          0.0980834355431126,
          0.08894174325011851,
          0.012756556899589294,
          -0.2413528980916871,
          -0.19795979899051436,
          0.01668856623934533,
          0.2350776398171962,
          -0.2908659156893001,
          0.24921744919808042,
          0.03658965375838898,
          0.22052733493291185,
          0.2585966199556531,
          -0.0003114395275703647,
          -0.1460308236011087,
          0.15367284992361044,
          0.14253304504637182,
          0.09263943218167903,
          0.12167642383918868,
          -0.100935264088671,
          -0.1852740091666502,
          0.03689717391976151,
          0.10841679025617773,
          -0.08610410083496467,
          0.07178412020157547,
          -0.0922029520161272,
          0.06978021102291782,
          0.02340653880796516,
          -0.21531790751186375,
          -0.12856554538616055,
          -0.04467404417544981,
          -0.01935300418015482,
          -0.04215138360674696,
          -0.17961861163135315,
          -0.39076502951497605,
          -0.04227571551511229,
          -0.006923861837978238,
          0.11451841149201793,
          0.08200901011839701,
          -0.12742768598699167,
          0.05026565000099621,
          0.008484120827653898,
          0.11816720655664703,
          -0.3349980638395795,
          -0.22182829026102405,
          -0.06183816378552814,
          -0.20507338946912604,
          -0.11775804920131527,
          0.046602568546597715,
          -0.04783648410469225,
          0.008982751196640356,
          0.08370177065730583,
          -0.24964308111855157,
          0.04953785728709163,
          -0.17239503395020223,
          0.0983083020093437,
          0.19387628165448453,
          0.19768846518722338,
          -0.060629398645381284,
          -0.04348183164645727,
          -0.06817680335019156,
          -0.01712793450134632,
          0.10109635128225852,
          -0.15613840848714503,
          -0.016503796028765942,
          0.024826007923453963,
          0.13454588827985697,
          0.010284540012238774,
          -0.37265486047136875,
          0.026049871619363684,
          -0.35235698758882156,
          -0.30533641178922244,
          -0.09788673289469578,
          0.039810163430566134,
          0.14063967683295983,
          0.28062620191940985,
          0.1535612833249908,
          -0.16960156658018383,
          -0.0034919191918237192,
          0.060874008112301495,
          -0.35929120242271234,
          -0.02273075211037575,
          0.003567159024550751,
          0.061612473271051404,
          -0.23026709034794562,
          -0.22228493242749808,
          -0.26700089843598196,
          -0.041543376168894995,
          -0.15937307553748223,
          -0.1502342181542472,
          -0.08454177098846394,
          0.04760537351241341,
          0.009256866707283162,
          -0.13455187626605178,
          0.0074842048572169835,
          0.06680375316083352,
          0.04518442005102564,
          -0.01266307026875461,
          -0.34885329273461624,
          0.07596860618446212,
          -0.020609049591750642,
          -0.1470200832216657,
          -0.07276831443898524,
          -0.034379490326313766,
          0.07079985609053212,
          0.06792179419219943,
          0.03279161564379317,
          0.09141653369386354,
          0.07400039620177491,
          0.04538563051841886,
          0.14268972238987268,
          0.158911775770234,
          0.07708435330105502,
          -0.2930948200023416,
          0.010439866755402937,
          0.08922726201494473,
          0.026128086817006263,
          -0.08479615941049734,
          0.08841338335866931,
          -0.05861854204585415,
          0.10128761413092502,
          -0.2901946013181387,
          -0.09329501075435324,
          0.06747291805034401,
          -0.06375185489746991,
          0.18692480708224854,
          -0.20770698468583854,
          -0.2525917260336335,
          0.1561280051823444,
          0.11254169441114406,
          -0.0006437851669587537,
          0.08560249993283668,
          -0.009958896097863759,
          0.0806279435264926,
          -0.14146357591078326,
          -0.06888700407789551,
          0.09168593901486134,
          0.05132570824707701,
          0.03973199580849179,
          0.04695641450597013,
          0.034383131039598815,
          0.02446873666998054,
          0.04149671275001745,
          0.11685896333429023,
          0.02645430101565694,
          0.050337371780722104,
          0.02098354938238652,
          -0.019939507892923918,
          0.06421263455495596,
          -0.09697826066609766,
          0.101561142998736,
          0.04595020617525554,
          0.00302854181592425,
          -0.04515475474772078,
          -0.02612144777707769,
          -0.17804141027907233,
          0.021929589571967327,
          -0.022231028443512685,
          0.13027326824748503,
          0.08406672633772697,
          -0.09243784689128572,
          0.027653459575796718,
          -0.03939475960591897,
          -0.017843681566901363,
          0.014935704416859768,
          0.01759110920801911,
          0.01868061475372625,
          -0.12487801769495,
          -0.10281802794065988,
          0.046364877403786385,
          0.18230697361118364,
          -0.032055010569239324,
          -0.059359970144473174,
          0.2288662071494654,
          0.13882269686940596,
          0.028602995978841462,
          0.08514290681671235,
          0.13144099049500507,
          -0.22975994089925164,
          -0.010425880070566173,
          0.0635273413315657,
          0.23131349636629112,
          -0.09650700093949574,
          -0.24671089884898179,
          -0.11249051767590683,
          -0.06693591638686584,
          0.0847725720550809,
          0.03757454274372316,
          0.03825175679199895,
          0.09422940441698434,
          0.03355981594224445,
          0.04537577050436991,
          0.0476811433463884,
          -0.0022967846104745542,
          0.07133627361677289,
          0.01313738031088718,
          0.061916539314091766
         ]
        }
       ],
       "layout": {
        "legend": {
         "title": {
          "text": "symptoms"
         },
         "tracegroupgap": 0
        },
        "margin": {
         "t": 60
        },
        "scene": {
         "domain": {
          "x": [
           0,
           1
          ],
          "y": [
           0,
           1
          ]
         },
         "xaxis": {
          "title": {
           "text": "x"
          }
         },
         "yaxis": {
          "title": {
           "text": "y"
          }
         },
         "zaxis": {
          "title": {
           "text": "z"
          }
         }
        },
        "template": {
         "data": {
          "bar": [
           {
            "error_x": {
             "color": "#2a3f5f"
            },
            "error_y": {
             "color": "#2a3f5f"
            },
            "marker": {
             "line": {
              "color": "#E5ECF6",
              "width": 0.5
             }
            },
            "type": "bar"
           }
          ],
          "barpolar": [
           {
            "marker": {
             "line": {
              "color": "#E5ECF6",
              "width": 0.5
             }
            },
            "type": "barpolar"
           }
          ],
          "carpet": [
           {
            "aaxis": {
             "endlinecolor": "#2a3f5f",
             "gridcolor": "white",
             "linecolor": "white",
             "minorgridcolor": "white",
             "startlinecolor": "#2a3f5f"
            },
            "baxis": {
             "endlinecolor": "#2a3f5f",
             "gridcolor": "white",
             "linecolor": "white",
             "minorgridcolor": "white",
             "startlinecolor": "#2a3f5f"
            },
            "type": "carpet"
           }
          ],
          "choropleth": [
           {
            "colorbar": {
             "outlinewidth": 0,
             "ticks": ""
            },
            "type": "choropleth"
           }
          ],
          "contour": [
           {
            "colorbar": {
             "outlinewidth": 0,
             "ticks": ""
            },
            "colorscale": [
             [
              0,
              "#0d0887"
             ],
             [
              0.1111111111111111,
              "#46039f"
             ],
             [
              0.2222222222222222,
              "#7201a8"
             ],
             [
              0.3333333333333333,
              "#9c179e"
             ],
             [
              0.4444444444444444,
              "#bd3786"
             ],
             [
              0.5555555555555556,
              "#d8576b"
             ],
             [
              0.6666666666666666,
              "#ed7953"
             ],
             [
              0.7777777777777778,
              "#fb9f3a"
             ],
             [
              0.8888888888888888,
              "#fdca26"
             ],
             [
              1,
              "#f0f921"
             ]
            ],
            "type": "contour"
           }
          ],
          "contourcarpet": [
           {
            "colorbar": {
             "outlinewidth": 0,
             "ticks": ""
            },
            "type": "contourcarpet"
           }
          ],
          "heatmap": [
           {
            "colorbar": {
             "outlinewidth": 0,
             "ticks": ""
            },
            "colorscale": [
             [
              0,
              "#0d0887"
             ],
             [
              0.1111111111111111,
              "#46039f"
             ],
             [
              0.2222222222222222,
              "#7201a8"
             ],
             [
              0.3333333333333333,
              "#9c179e"
             ],
             [
              0.4444444444444444,
              "#bd3786"
             ],
             [
              0.5555555555555556,
              "#d8576b"
             ],
             [
              0.6666666666666666,
              "#ed7953"
             ],
             [
              0.7777777777777778,
              "#fb9f3a"
             ],
             [
              0.8888888888888888,
              "#fdca26"
             ],
             [
              1,
              "#f0f921"
             ]
            ],
            "type": "heatmap"
           }
          ],
          "heatmapgl": [
           {
            "colorbar": {
             "outlinewidth": 0,
             "ticks": ""
            },
            "colorscale": [
             [
              0,
              "#0d0887"
             ],
             [
              0.1111111111111111,
              "#46039f"
             ],
             [
              0.2222222222222222,
              "#7201a8"
             ],
             [
              0.3333333333333333,
              "#9c179e"
             ],
             [
              0.4444444444444444,
              "#bd3786"
             ],
             [
              0.5555555555555556,
              "#d8576b"
             ],
             [
              0.6666666666666666,
              "#ed7953"
             ],
             [
              0.7777777777777778,
              "#fb9f3a"
             ],
             [
              0.8888888888888888,
              "#fdca26"
             ],
             [
              1,
              "#f0f921"
             ]
            ],
            "type": "heatmapgl"
           }
          ],
          "histogram": [
           {
            "marker": {
             "colorbar": {
              "outlinewidth": 0,
              "ticks": ""
             }
            },
            "type": "histogram"
           }
          ],
          "histogram2d": [
           {
            "colorbar": {
             "outlinewidth": 0,
             "ticks": ""
            },
            "colorscale": [
             [
              0,
              "#0d0887"
             ],
             [
              0.1111111111111111,
              "#46039f"
             ],
             [
              0.2222222222222222,
              "#7201a8"
             ],
             [
              0.3333333333333333,
              "#9c179e"
             ],
             [
              0.4444444444444444,
              "#bd3786"
             ],
             [
              0.5555555555555556,
              "#d8576b"
             ],
             [
              0.6666666666666666,
              "#ed7953"
             ],
             [
              0.7777777777777778,
              "#fb9f3a"
             ],
             [
              0.8888888888888888,
              "#fdca26"
             ],
             [
              1,
              "#f0f921"
             ]
            ],
            "type": "histogram2d"
           }
          ],
          "histogram2dcontour": [
           {
            "colorbar": {
             "outlinewidth": 0,
             "ticks": ""
            },
            "colorscale": [
             [
              0,
              "#0d0887"
             ],
             [
              0.1111111111111111,
              "#46039f"
             ],
             [
              0.2222222222222222,
              "#7201a8"
             ],
             [
              0.3333333333333333,
              "#9c179e"
             ],
             [
              0.4444444444444444,
              "#bd3786"
             ],
             [
              0.5555555555555556,
              "#d8576b"
             ],
             [
              0.6666666666666666,
              "#ed7953"
             ],
             [
              0.7777777777777778,
              "#fb9f3a"
             ],
             [
              0.8888888888888888,
              "#fdca26"
             ],
             [
              1,
              "#f0f921"
             ]
            ],
            "type": "histogram2dcontour"
           }
          ],
          "mesh3d": [
           {
            "colorbar": {
             "outlinewidth": 0,
             "ticks": ""
            },
            "type": "mesh3d"
           }
          ],
          "parcoords": [
           {
            "line": {
             "colorbar": {
              "outlinewidth": 0,
              "ticks": ""
             }
            },
            "type": "parcoords"
           }
          ],
          "pie": [
           {
            "automargin": true,
            "type": "pie"
           }
          ],
          "scatter": [
           {
            "marker": {
             "colorbar": {
              "outlinewidth": 0,
              "ticks": ""
             }
            },
            "type": "scatter"
           }
          ],
          "scatter3d": [
           {
            "line": {
             "colorbar": {
              "outlinewidth": 0,
              "ticks": ""
             }
            },
            "marker": {
             "colorbar": {
              "outlinewidth": 0,
              "ticks": ""
             }
            },
            "type": "scatter3d"
           }
          ],
          "scattercarpet": [
           {
            "marker": {
             "colorbar": {
              "outlinewidth": 0,
              "ticks": ""
             }
            },
            "type": "scattercarpet"
           }
          ],
          "scattergeo": [
           {
            "marker": {
             "colorbar": {
              "outlinewidth": 0,
              "ticks": ""
             }
            },
            "type": "scattergeo"
           }
          ],
          "scattergl": [
           {
            "marker": {
             "colorbar": {
              "outlinewidth": 0,
              "ticks": ""
             }
            },
            "type": "scattergl"
           }
          ],
          "scattermapbox": [
           {
            "marker": {
             "colorbar": {
              "outlinewidth": 0,
              "ticks": ""
             }
            },
            "type": "scattermapbox"
           }
          ],
          "scatterpolar": [
           {
            "marker": {
             "colorbar": {
              "outlinewidth": 0,
              "ticks": ""
             }
            },
            "type": "scatterpolar"
           }
          ],
          "scatterpolargl": [
           {
            "marker": {
             "colorbar": {
              "outlinewidth": 0,
              "ticks": ""
             }
            },
            "type": "scatterpolargl"
           }
          ],
          "scatterternary": [
           {
            "marker": {
             "colorbar": {
              "outlinewidth": 0,
              "ticks": ""
             }
            },
            "type": "scatterternary"
           }
          ],
          "surface": [
           {
            "colorbar": {
             "outlinewidth": 0,
             "ticks": ""
            },
            "colorscale": [
             [
              0,
              "#0d0887"
             ],
             [
              0.1111111111111111,
              "#46039f"
             ],
             [
              0.2222222222222222,
              "#7201a8"
             ],
             [
              0.3333333333333333,
              "#9c179e"
             ],
             [
              0.4444444444444444,
              "#bd3786"
             ],
             [
              0.5555555555555556,
              "#d8576b"
             ],
             [
              0.6666666666666666,
              "#ed7953"
             ],
             [
              0.7777777777777778,
              "#fb9f3a"
             ],
             [
              0.8888888888888888,
              "#fdca26"
             ],
             [
              1,
              "#f0f921"
             ]
            ],
            "type": "surface"
           }
          ],
          "table": [
           {
            "cells": {
             "fill": {
              "color": "#EBF0F8"
             },
             "line": {
              "color": "white"
             }
            },
            "header": {
             "fill": {
              "color": "#C8D4E3"
             },
             "line": {
              "color": "white"
             }
            },
            "type": "table"
           }
          ]
         },
         "layout": {
          "annotationdefaults": {
           "arrowcolor": "#2a3f5f",
           "arrowhead": 0,
           "arrowwidth": 1
          },
          "coloraxis": {
           "colorbar": {
            "outlinewidth": 0,
            "ticks": ""
           }
          },
          "colorscale": {
           "diverging": [
            [
             0,
             "#8e0152"
            ],
            [
             0.1,
             "#c51b7d"
            ],
            [
             0.2,
             "#de77ae"
            ],
            [
             0.3,
             "#f1b6da"
            ],
            [
             0.4,
             "#fde0ef"
            ],
            [
             0.5,
             "#f7f7f7"
            ],
            [
             0.6,
             "#e6f5d0"
            ],
            [
             0.7,
             "#b8e186"
            ],
            [
             0.8,
             "#7fbc41"
            ],
            [
             0.9,
             "#4d9221"
            ],
            [
             1,
             "#276419"
            ]
           ],
           "sequential": [
            [
             0,
             "#0d0887"
            ],
            [
             0.1111111111111111,
             "#46039f"
            ],
            [
             0.2222222222222222,
             "#7201a8"
            ],
            [
             0.3333333333333333,
             "#9c179e"
            ],
            [
             0.4444444444444444,
             "#bd3786"
            ],
            [
             0.5555555555555556,
             "#d8576b"
            ],
            [
             0.6666666666666666,
             "#ed7953"
            ],
            [
             0.7777777777777778,
             "#fb9f3a"
            ],
            [
             0.8888888888888888,
             "#fdca26"
            ],
            [
             1,
             "#f0f921"
            ]
           ],
           "sequentialminus": [
            [
             0,
             "#0d0887"
            ],
            [
             0.1111111111111111,
             "#46039f"
            ],
            [
             0.2222222222222222,
             "#7201a8"
            ],
            [
             0.3333333333333333,
             "#9c179e"
            ],
            [
             0.4444444444444444,
             "#bd3786"
            ],
            [
             0.5555555555555556,
             "#d8576b"
            ],
            [
             0.6666666666666666,
             "#ed7953"
            ],
            [
             0.7777777777777778,
             "#fb9f3a"
            ],
            [
             0.8888888888888888,
             "#fdca26"
            ],
            [
             1,
             "#f0f921"
            ]
           ]
          },
          "colorway": [
           "#636efa",
           "#EF553B",
           "#00cc96",
           "#ab63fa",
           "#FFA15A",
           "#19d3f3",
           "#FF6692",
           "#B6E880",
           "#FF97FF",
           "#FECB52"
          ],
          "font": {
           "color": "#2a3f5f"
          },
          "geo": {
           "bgcolor": "white",
           "lakecolor": "white",
           "landcolor": "#E5ECF6",
           "showlakes": true,
           "showland": true,
           "subunitcolor": "white"
          },
          "hoverlabel": {
           "align": "left"
          },
          "hovermode": "closest",
          "mapbox": {
           "style": "light"
          },
          "paper_bgcolor": "white",
          "plot_bgcolor": "#E5ECF6",
          "polar": {
           "angularaxis": {
            "gridcolor": "white",
            "linecolor": "white",
            "ticks": ""
           },
           "bgcolor": "#E5ECF6",
           "radialaxis": {
            "gridcolor": "white",
            "linecolor": "white",
            "ticks": ""
           }
          },
          "scene": {
           "xaxis": {
            "backgroundcolor": "#E5ECF6",
            "gridcolor": "white",
            "gridwidth": 2,
            "linecolor": "white",
            "showbackground": true,
            "ticks": "",
            "zerolinecolor": "white"
           },
           "yaxis": {
            "backgroundcolor": "#E5ECF6",
            "gridcolor": "white",
            "gridwidth": 2,
            "linecolor": "white",
            "showbackground": true,
            "ticks": "",
            "zerolinecolor": "white"
           },
           "zaxis": {
            "backgroundcolor": "#E5ECF6",
            "gridcolor": "white",
            "gridwidth": 2,
            "linecolor": "white",
            "showbackground": true,
            "ticks": "",
            "zerolinecolor": "white"
           }
          },
          "shapedefaults": {
           "line": {
            "color": "#2a3f5f"
           }
          },
          "ternary": {
           "aaxis": {
            "gridcolor": "white",
            "linecolor": "white",
            "ticks": ""
           },
           "baxis": {
            "gridcolor": "white",
            "linecolor": "white",
            "ticks": ""
           },
           "bgcolor": "#E5ECF6",
           "caxis": {
            "gridcolor": "white",
            "linecolor": "white",
            "ticks": ""
           }
          },
          "title": {
           "x": 0.05
          },
          "xaxis": {
           "automargin": true,
           "gridcolor": "white",
           "linecolor": "white",
           "ticks": "",
           "title": {
            "standoff": 15
           },
           "zerolinecolor": "white",
           "zerolinewidth": 2
          },
          "yaxis": {
           "automargin": true,
           "gridcolor": "white",
           "linecolor": "white",
           "ticks": "",
           "title": {
            "standoff": 15
           },
           "zerolinecolor": "white",
           "zerolinewidth": 2
          }
         }
        }
       }
      },
      "text/html": [
       "<div>                            <div id=\"1f58556e-632a-45e2-8492-848017045384\" class=\"plotly-graph-div\" style=\"height:525px; width:100%;\"></div>            <script type=\"text/javascript\">                require([\"plotly\"], function(Plotly) {                    window.PLOTLYENV=window.PLOTLYENV || {};                                    if (document.getElementById(\"1f58556e-632a-45e2-8492-848017045384\")) {                    Plotly.newPlot(                        \"1f58556e-632a-45e2-8492-848017045384\",                        [{\"hovertemplate\": \"symptoms=Symptomatic<br>x=%{x}<br>y=%{y}<br>z=%{z}<extra></extra>\", \"legendgroup\": \"Symptomatic\", \"marker\": {\"color\": \"#636efa\", \"symbol\": \"circle\"}, \"mode\": \"markers\", \"name\": \"Symptomatic\", \"scene\": \"scene\", \"showlegend\": true, \"type\": \"scatter3d\", \"x\": [-0.3465559655415159, -0.1838468510512999, -0.08030008336805017, -0.06196213998706217, 0.34287277372853847, -0.21980290677095835, -0.3064641248654479, -0.33097105105822067, -0.015677148336461954, 0.3741416110663938, 0.35324400200266126, 0.11262876116662253, -0.16763659561875752, 0.09008132609021427, -0.03212517218203458, -0.13166185155899382, -0.04561475361833303, -0.12575470310214587, 0.24421438270458037, 0.35716712711273124, 0.4346540060974022, 0.5250688198198306, 0.1801343039712994, 0.26305097385775517, 0.07239178619751933, 0.2483834459906882, 0.03959411707949797, -0.3371279481533835, -0.13738338834375663, -0.2841473565846263, 0.24734645866583382, 0.4095885067065307, 0.26782612476291107, 0.5327418207592983, 0.3710638691419327, 0.46906378234638774, 0.0860189715695961, -0.08545868612208993, -0.09879021587583019, -0.11171084554763121, -0.1235948328280186, -0.2978929960849634, -0.09872766369310396, 0.23984907757760887, 0.3573160910337899, 0.22059454872274373, 0.40194888269446516, -0.31696219338651627, -0.272056727258653, -0.23158110145573021, -0.2655792477234008, 0.25330286481312964, -0.09240341363693914, 0.4845165124593235, 0.08880702512801651, -0.31355486165343543, -0.2732497158612569, -0.3259106600925081, 0.1348103127402606, -0.3598067745547326, -0.3384169528663376, -0.14460643718934113, 0.4673727151850126, -0.1739062864119295, 0.4266730497342231, -0.10592894539288743, -0.12778711896452588, -0.14049427445352952, -0.08002606809746246, -0.14265584885889537, 0.24862611096204648, -0.09921901808979572, -0.3457879701113176, -0.3171725901332861, -0.32743009027403314, -0.33349184372786717, -0.3363046696734799, 0.15726429713557735, -0.09318407309729838, -0.14566745459564234, 0.15918674534299954, -0.13291213279738062, -0.08302218614905518, -0.3490092918968829, 0.4567774074829516, -0.08901060569065213, -0.2043916800092075, -0.13542030813317923, -0.16962498280447177, -0.13055454763934204, -0.11676781655664963, -0.06687694336161881, -0.09144851373205196, -0.11395832893304111, -0.12455287428187548, -0.14157973059556012, 0.3752415989460598, -0.22937026712534395, -0.15436545916554578, -0.2165170391254327, -0.12001502033678411, -0.10754021963177757, -0.20753560535997911, -0.18902639288790843, -0.19320980067019525, 0.5344434394902812, 0.4598982643936518, 0.2015761820870101, 0.3925445153234956, 0.503695727483075, 0.3331326095246804, -0.14339456536605374, -0.11521765456996534, -0.12104485074478367, -0.11377822543340914, 0.363471468849148, 0.1766816031402322, 0.33073024774110404, -0.09631691973284082, -0.08422074087704792, -0.06445665738722839, -0.07788857348616958, 0.5504322921108148, 0.3680174664446355, 0.3588824814120794, 0.30538796422793224, 0.26008817249561045, -0.01985843294329933, 0.41004562702744274, 0.35409997526215353, 0.35522672273654865, 0.11002869351540495, 0.39087922068263725, -0.10024871686427084, -0.1387231597090641, -0.3395085814517458, 0.5484417919258651, 0.3188870243736423, -0.0903071124086822, -0.2745471217784875, -0.33580152904619665, -0.16288188171144108, -0.16575433043407642, -0.31653577646939224, -0.18859622622742153, -0.1889664327829827, -0.27725274169994935, -0.2896549337574802, -0.33680990420049567, -0.3335130774643957, -0.24774683678458836, -0.17180049934101183, -0.12007879050172629, 0.01790320444064931, -0.14172604172451447, -0.3663223833711465, -0.07461535876418667, -0.34989307366651345, -0.15902516806620767, 0.4521311082808373, 0.07071372457390662, -0.32491886693758404, -0.3075844660279215, -0.2578403471545542, -0.21266823500018348, 0.3106163991616343, 0.3584755979819567, -0.3390674493256892, -0.2600862361812521, -0.3147779115061831, -0.18392094369456796, -0.16637562203463974, -0.04809603209401587, -0.026431338966619897, -0.31021713559762876, -0.12744931711582896, -0.15517422113776846, 0.2811301874068526, 0.14530061576585349, -0.07572353143601158, -0.33552944749625463, -0.14496917535490395, 0.0036501756243496183, 0.2654134868227443, 0.03742599998487513, 0.3829994686175569, 0.08618152571366106, -0.10559029401848374, -0.1060027626383194, 0.24885778427483377, -0.1396357144071327, -0.1013917242179515, 0.4646106844270082, 0.130751738031433, 0.10801940742192656, 0.2856720235028543, 0.3062076790343746, 0.21349694292159502, 0.09962322239035168, 0.11540257874241246, 0.15097462948830093, -0.1094631268641213, -0.10808552531209087, -0.10630049588662116, -0.10460582829129325, 0.14923106311159473], \"y\": [-0.46807707825979394, -0.28716941793187556, -0.09879114646747525, 0.10179085224894109, -0.07298417036019948, -0.01648669737203808, -0.3659991392532055, -0.3966676177915669, -0.40027178318761225, -0.18180299055291507, 0.03318363998145706, 0.09888052645557417, 0.18024757295275506, 0.13827820116385497, 0.19498892142242727, 0.24052148016778352, 0.2868661161093411, 0.1617295584568017, 0.08449080884490122, -0.021700092932683684, 0.002927101696094997, -0.1378253277177525, -0.46118780840669416, -0.0545789258401459, -0.4850291632879854, -0.3598005928825558, 0.2636544215009546, -0.4473014370457549, 0.1557388191984512, -0.23455652352473425, -0.4686355165227913, -0.23701876895378535, -0.15116578015799112, -0.1369343876094649, -0.28644460120501786, -0.17793373552700542, -0.38793432335111205, 0.10632095072640096, 0.09745135881209627, 0.11028698495985377, 0.20395254154526066, -0.28988932366103676, -0.3591631166221824, -0.39280141208281966, -0.2572914210731932, 0.1385968899870289, -0.06858630467789507, -0.37402515341755893, -0.254594672112932, -0.1605176461625477, -0.2419476707069076, 0.04678206558184622, 0.16244218454600554, -0.08580322628374877, -0.2984056019576864, -0.39128181336866724, -0.20776042506079864, -0.31823423914314813, -0.4686978984052276, -0.435310531837038, -0.3826415314234584, 0.15271502953842353, -0.11161932567699531, 0.10038586907549764, -0.11188399928393893, 0.28622390711232404, 0.13902342281994515, 0.14213449035946743, 0.21463495443817054, 0.06411484212960004, -0.38965449430284965, 0.14447370400060303, -0.3838102705380598, -0.40201454230986006, -0.42589426444611106, -0.39611713791987224, -0.4187248189480623, 0.100653155933206, 0.22145027330253866, 0.08934780277514089, -0.4526520523596713, -0.25938841971385973, 0.08775130009543196, -0.47288156126586134, -0.04485328604683548, 0.24527827007464506, -0.053905324643267145, 0.007790082311794225, -0.06415284964752761, 0.10066170759942004, 0.2896673070139195, 0.08196478312434183, 0.22138789552679466, 0.21617318304971186, 0.2346767347734402, 0.1805245947119313, -0.009066258396913796, -0.1823868488485336, 0.12314646507442469, -0.08081449211517627, 0.21754384031466237, 0.2626518546736507, -0.015279886962350553, 0.028260511783842368, -0.010449675082474272, -0.12519818242837227, -0.02745703104318658, -0.40980543294377747, -0.13476853465549554, -0.12398775030945289, -0.289645944272158, 0.12186861945896826, 0.10549235729225846, 0.16710773820919675, 0.3111143192950117, -0.14245569241755707, -0.30376282585087994, -0.14047507037750764, 0.12331501421050156, 0.1540141490646818, 0.15029944619767066, 0.1707621544769578, -0.09862639987828418, -0.20562855520935552, -0.04762138970225705, -0.1396746032064466, -0.3649410618195849, 0.0055598058629349485, -0.23757280364956967, -0.10768544833743031, -0.2913798200498409, -0.22896108595757686, -0.1641662446441421, 0.13943748110389062, 0.07597931237944497, -0.45171090956794846, -0.10638167877514897, -0.09828204965803904, 0.1150546527999522, -0.27136989725214367, -0.3333742346827018, 0.04247271748211798, 0.09915859954393702, -0.4015743920438284, -0.2557720590288929, -0.15308881135500807, -0.29971759564244566, -0.22611374766230974, -0.3457584107089937, -0.39875968975616644, -0.20346066979971122, 0.08086653273910817, 0.1608869705692078, 0.032482703105620285, 0.06464349793298682, -0.42591610751811215, 0.07400576091056091, -0.34483347969642486, 0.11536270359047271, -0.031012484408566212, 0.29114256217282264, -0.32496193128011236, -0.2977965944574275, -0.09132101754885805, -0.30206025637439315, -0.23676939880132375, -0.1474946026341426, -0.4150200240995537, -0.28743871547703254, -0.3577826626871875, 0.12659478370650584, 0.08385813005720474, 0.1906657496187112, 0.011301433248107689, -0.397902926779398, 0.28693874345233317, 0.10148408113324162, 0.13011783979862873, 0.1846068381289535, 0.19729924746100608, -0.45456527980585926, 0.0483771403555388, 0.14099137170978718, -0.10255566836630656, 0.07955109942603286, 0.04176935928845962, 0.09094745035909103, 0.20123392021201664, 0.27416234490606467, 0.17769553532059515, 0.22867849085505482, 0.2985992375081835, -0.11530026349642775, 0.052382059396820536, -0.036562776816270716, -0.15210308979840728, -0.14366208167166178, -0.25145745767928995, -0.1893326676416804, -0.27088777790599156, -0.3309315283900994, 0.20772019029228866, 0.192669125086802, 0.2476910383643608, 0.22896678790118613, -0.16011432217085383], \"z\": [0.15764439439219058, -0.009015853115430971, -0.17389924480400454, 0.001736701249138329, -0.04217680817507582, -0.15540217550283675, 0.18302068093892643, 0.03459116014243976, 0.01964391996263604, -0.06670887376267583, -0.030562630043445702, -0.025576937025048804, -0.2103629670308643, -0.20776707546510792, -0.011801480314129571, -0.13087024335141553, 0.007957529125292405, -0.1344184753220131, -0.0048075629733808104, 0.08582257327731344, 0.005091911723059815, 0.05799813402124933, 0.1362440037895687, -0.05643373234369312, 0.19489936971494476, 0.03472759223733699, 0.09818308873027622, 0.17334346292181646, -0.10419276630687159, -0.00875758830373598, 0.014296186761958813, -0.017014412823701884, -0.12686750901998328, 0.02435559980750529, -0.01814997495861371, -0.06019286655480253, 0.11000849165697611, 0.17333233548361002, 0.2773125906622676, -0.02200058859971196, 0.01727520958221962, 0.10744775533293235, -0.0363077491762577, 0.06051550506432857, -0.02248784133416216, -0.014752921111195094, 0.0041411857749983445, 0.1755375642782668, 0.2991742622272348, -0.012804922715404366, -0.0005385567083755653, 0.02779717360940141, 0.20217302492274697, -0.049843124499004375, -0.10184782432825491, 0.2179413277427199, -0.3457264630319889, -0.21613476479526916, 0.12672129961616815, 0.018256260309801046, -0.13151145925743948, 0.03456729954206747, 0.1115405476252326, -0.22591003258107523, 0.10971449678500171, 0.06029499785804749, -0.11194542185633391, -0.24689043002141933, 0.07469884569322156, -0.23392223786285693, -0.023431762160352997, 0.03892603303346546, -0.035602662784428196, 0.20449951487084073, 0.1899014478670875, 0.12121233717044864, 0.12491360111877643, -0.061828235121983814, 0.08248808135632463, -0.15500178939125378, 0.03125687165295817, -0.07898172026296982, -0.0914519501668093, 0.1084841538948877, -0.02049701665933644, 0.17862487681206937, -0.13944499141189737, -0.11631091042552007, -0.15524106827795514, -0.1181030446441655, 0.07512850908951335, 0.17571910840550833, -0.07311473930332608, -0.11170882967253257, -0.0426098656525454, -0.07873783488056628, 0.03586947519281183, -0.0420359640193227, -0.08987656092960387, -0.13671740577337482, 0.015629294988014727, 0.04228065068073483, -0.21694011047561984, -0.17147312588310465, -0.13788990829457756, 0.029163558679611973, 0.03191225902373471, 0.13945841461765285, -0.04905736305525542, 0.014571333364486499, -0.008365965774604859, -0.2256240809572934, -0.10153255451277418, -0.23990329537993993, 0.020426523600055712, 0.06213331687893873, 0.11971557750600272, 0.025268820283441358, 0.28445975771186616, 0.21194637031318236, -0.007408018739588205, 0.14718616049397204, -0.002339539417695581, -0.0626419315045378, -0.08473926351027244, -0.10455794171590638, -0.042928822990078726, -0.11475096196666852, -0.04149385909467132, -0.09246746560048026, -0.0814078850042708, -0.15505272797841788, 0.006832364583412388, 0.04852670732244433, -0.17611792501044193, 0.16717116275013935, 0.006249344909922608, -0.11013174379518682, 0.10661940643199289, 0.18782508769585385, -0.29017917722042624, -0.21878285976570522, -0.2601618126575267, 0.014669205619855972, 0.04882107146249055, 0.16474660809027855, 0.17859919620649783, -0.2725940598802249, -0.05290215208662938, 0.15427965306855768, -0.07386923879888864, -0.07892071344233682, 0.033028000718666066, -0.3302981210241396, -0.11423652749658843, -0.112869272741217, -0.023566418060235874, -0.2428105818444163, -0.35495009904864117, -0.016571839968499667, 0.015116805538837031, 0.08716022246637897, 0.11251785898224112, -0.30109752973253495, -0.054711541488826086, -0.06768826675295399, 0.038657574455241914, 0.06848287359161732, 0.03479571791030828, 0.1824532760271391, -0.0792101802210169, -0.2425520845872203, 0.09503422046501928, 0.06433020460875004, 0.14391728538416115, 0.01913550152062253, -0.343160458720409, -0.032241085663195994, -0.02370568282498448, 0.0007303660415170645, 0.10025882289396214, -0.08145696770147065, -0.06591696118020499, -0.09568302002263039, -0.34144907996244966, -0.048497519489131016, -0.13751800865695316, 0.15648160292388014, 0.12369502175846864, 0.06295373443001136, -0.08349976063841681, 0.13200870140160928, 0.06267832924677885, -0.01810345298219379, -0.01295439701327703, -0.031987617622282784, -0.11533591634579254, -0.09371562474130515, -0.0901544550584153, -0.036193306696999585, -0.08628091958575132, 0.07350087578100602, 0.07008042236355197, 0.06785459966392625, 0.05969220975962999, -0.10684177000021444]}, {\"hovertemplate\": \"symptoms=Resolved<br>x=%{x}<br>y=%{y}<br>z=%{z}<extra></extra>\", \"legendgroup\": \"Resolved\", \"marker\": {\"color\": \"#EF553B\", \"symbol\": \"circle\"}, \"mode\": \"markers\", \"name\": \"Resolved\", \"scene\": \"scene\", \"showlegend\": true, \"type\": \"scatter3d\", \"x\": [-0.3285046685871965, -0.1613547475496306, 0.13602164194851252, -0.32768748488388505, -0.132229737401366, -0.1332753563459817, -0.15371405852787312, -0.1293341623543802, -0.26397712548299634, -0.18525202627666099, -0.12596732198358096, 0.5488043841934193, -0.03703761787759518, -0.11807896091211116, -0.12068347272724922, -0.09785310712025867, -0.2866234734442999, -0.03935679239066297, -0.10316317224760743, -0.08586292736726675, -0.12478650838881841, 0.21987778840998834, -0.3182809476698097, -0.1428008575288115, -0.10672603824740928, -0.1508996934523651, -0.27227601144980845, -0.1395840867170216, -0.11409031289809023, -0.16629888504855453, -0.002197392527983107, 0.5175021878995377, 0.5733723419618837, 0.33113225156476456, 0.027286029067387144, 0.058776407996093905, -0.11487466853348946, -0.1087364042016316, -0.08166914221344819, -0.1571699193862234, -0.08985415840422269, -0.3471618198625203, -0.03853945915159943, -0.3249349028896934, -0.26861073274336794, 0.01878279804052061, -0.1117508793336243, -0.15961312992123933, -0.1276129369236315, 0.4609086314989063, 0.32091536564136786, 0.02402362265363326, 0.4323699523964658, -0.11471277899803735, -0.10603528413691375, -0.13899943215957253, 0.3107459295418255, -0.165270197193808, 0.38334284501429006, -0.11572403977959766, -0.12444305149770327, -0.1402788415798134, 0.44682508483984873, 0.4223594024065583, 0.4269958442517836, 0.38569418593116156, 0.019290791288408948, 0.4199328561855365, 0.06005718616385999, -0.14360452911924532, -0.13957686307891579, -0.11208398102493618, 0.05677124824431489, 0.1235808253989359, -0.11158119116948667, -0.010948697279111253, -0.13008965846652806, -0.1146860204956458, 0.45204297866913223, 0.36288465033828915, 0.2869612475779632, 0.14724387845049877, 0.36135260803651537, 0.3303141090198346, -0.2532264375762579, -0.08006933454385719, 0.11607290218853493, 0.2820127625208902, 0.17196393859533965, -0.08243463516087393, -0.08398958228013575, 0.3969990354490178, 0.3391749614749109, 0.26886706228531243, -0.06912360333627117, 0.08005360048201304, 0.3314448235137923, 0.4037439097112277, 0.03131045185003895, 0.004202211579281602, 0.08677173818770242, -0.07977503387992502, 0.29454919736298335, 0.05168116418895114, -0.14766740981372406, -0.3058071337248706, -0.12573843790551653, -0.14768743814696284, -0.1296136148053844, 0.10252239677799814, -0.22112857280866688, -0.14086166125190547, -0.2979284375603197, -0.28544326157077277, -0.2181501959833263, -0.1716294150407761, -0.2629683175194529, -0.2251506366636509, -0.2864774755702872, -0.08760055942693594, -0.17013131915343863, -0.15932748119714724, -0.10616471226874326, -0.14345920839984946, 0.22992154515320284, 0.26959499588916064, 0.3968031871959109, 0.402438930902167, 0.16501810300344313, 0.3445215697474541, 0.14424694288098605, -0.07977523930769348, 0.4906932443401596, 0.3001518685307019, 0.10298798727759359, 0.4909126327123942, 0.10372723463797703, -0.09689996033606686, 0.23402228808294104, 0.3597226609841352, -0.1461925266287555, -0.16780263153372635, -0.19359654034466822, 0.2363077964897619, -0.2871444940117144, -0.009789563206382709, 0.1201164672084091, -0.06547185056212386, -0.18642822745926185, -0.12604957819664228, -0.17205961161351377, -0.10970504005925949, -0.11144002925545808, -0.12345176083618448, -0.08622669730461265, -0.12941254892996432, -0.14074250769862745, -0.13020809418194665, -0.11877957088961526, 0.4127635048625551, 0.30378846591141595, 0.03817953311628524, -0.02760089477103835, -0.09628004169866182, 0.010980224109801841, 0.2555087528527835, -0.017603731644293966, -0.041859782779239935, 0.448798163817576, 0.042267307340519214, 0.02006938081097484, 0.5111808387460995, 0.013027848868845853, -0.04401721519642996, 0.07621676194299849, 0.07818832090079446, 0.09712906322459301, 0.16585206773699057, 0.37437546826291745, -0.0215471070803492, 0.3551956814336708, 0.1093218323898443, 0.4989663716655887, 0.17345263605195485, 0.30298211304912276, -0.11312265638675673, -0.018624119222388776, -0.12595992779523257, 0.04295571862924769, -0.09416659547029943, -0.18399541083944043, 0.4727614723041125, 0.33012681173494474, 0.1537032104248479, 0.415342546348733, 0.3734638075822458, -0.14430655898933123, -0.1891844507482689, -0.1243209978706207, -0.10330451670556307, 0.014562344380967896, -0.14638306635211037, 0.32933556508736334, 0.0185263020672286, 0.009966717857877108, 0.3093085818184346, 0.22056905560436493, -0.10874691468276704, -0.12630350222174458, -0.04329851514877564, 0.04294857853706156, -0.05390678662188699, -0.17461529011475385, -0.33003659764671167, 0.3444946100084696, 0.47295495635531803, 0.19596282092249756, -0.25598239995353467, 0.20193346951432267, -0.12329989656450223, 0.04129912222540789, -0.25183461046093564, -0.14424915972457444, -0.09541259647025839, -0.17333331634809518, -0.13943342760530442, -0.15376515283469658, -0.14028903389917013, -0.13573321845146663, -0.3028499802051038, 0.4977195531190012, 0.27446165326182415, 0.22386042904397305, 0.373122041483513, 0.35375482366177136, 0.5216589284885651, 0.297180587875238, 0.38643501066071245, -0.00014815868014733265, -0.1143535126839402, 0.28798537710932887, -0.010493056090401841, 0.11471079879745495, 0.08857599904303827, -0.1276111741194356, -0.10761392348795172], \"y\": [-0.3171507421315664, 0.100808229833122, 0.09785961940839537, -0.3058400096679348, 0.24833550986586903, 0.22792480082432515, 0.2023767014598057, 0.2271956860348865, -0.13659228963354056, 0.007565192680088357, 0.31566915810146395, -0.09827094890617814, 0.3115286113625041, 0.20614112361867412, 0.21554289555375092, 0.2520375311580976, -0.23522194191108806, 0.20139706932710622, 0.26816161995836646, 0.09785721490408553, 0.19777315089930603, 0.10057228733539825, -0.3253385882774545, 0.21212797294704636, 0.32608187729090393, 0.24250142169315697, -0.29050141613417735, 0.19604491662391307, 0.2713759645992527, 0.10006292803042952, 0.03068774138798476, -0.13752497156433113, -0.1401984634872196, 0.014625731277997565, -0.35724223633578145, 0.24433899503243967, 0.246839028219146, 0.24300789942068945, 0.26419301497087805, 0.03345526216156407, -0.07283343803907148, -0.40985702751998926, -0.04454241832933461, -0.3527880787223291, -0.27482838569270107, 0.24998389826041217, 0.2552297089983494, 0.13356159950332377, 0.21486654816961526, -0.13131555221882957, -0.1590540123019859, 0.05840660795449296, -0.20621226122441783, 0.27202820935406635, 0.26073162382330545, 0.1618847285676302, -0.28595709319397383, 0.10622503230288308, -0.09789246152234884, 0.36245570773191044, 0.3102662163027962, 0.28531335433368404, -0.05633686383928821, -0.012405212205860985, -0.08765933050327439, -0.034272478377121565, 0.32132076071704246, -0.022780379101945043, 0.2987397786498731, 0.24541032856736122, -0.02049016193795365, -0.01804314133000739, -0.0006425383366509153, 0.15168051333138646, 0.3270712576265672, 0.1691359923505717, 0.2146423871225494, 0.27947476255856185, -0.11116456558535175, -0.13272468231467302, -0.01626658977251464, -0.09615630223071812, -0.16219688568739232, -0.13147407135444739, -0.1991302220736101, -0.3804143983985234, -0.42882753094049125, -0.0737058232938122, 0.070485594035856, 0.3064348467803212, 0.36082852894853845, -0.09980469932939103, -0.08808168452620473, 0.06370312023365635, 0.3005265244208215, 0.24450264750182926, 0.0073323688303314335, 0.027058158173698634, 0.21056515942075002, 0.17750792905794638, 0.14145546977103923, 0.30816208298874453, 0.11811647685542596, 0.043331328844395625, -0.0226683858877232, -0.20667397923782352, 0.15735700152356835, 0.23933728476347024, -0.027282603958713285, -0.49811547657082655, -0.14703407288857134, 0.13924050791942139, -0.31533639019625603, -0.16233493946752878, -0.13702829339350986, 0.034071497602089204, -0.16946488045268993, 0.009988577264002471, -0.19884592828405023, 0.17826630672439062, 0.11103850667266456, 0.16674178283075958, 0.20137185422840811, 0.32650912594033304, -0.08341774823896737, 0.11705069177986975, -0.07060617945582486, 0.055422579977883045, 0.21586419076774677, 0.06441017314493853, 0.024374372208693117, 0.18330496730329798, -0.12380225261851606, 0.09976047643017126, 0.16746863079299554, -0.044018657625104415, -0.08803184778360619, 0.19725079864820533, 0.12465341113921645, -0.033784074750836786, 0.273391736951168, 0.1828900884643734, 0.029020269290533016, 0.04763825538709751, -0.23666898897016622, 0.11083174435234325, -0.026080826855033584, 0.21313845349513957, 0.0070771035453189, 0.2882725725159615, 0.08447678637739982, 0.3666115900667368, 0.36702134358966587, 0.35341211644745046, 0.32196237973515635, 0.2867540266404421, 0.23611742621378046, 0.3709128074808176, 0.34220978844651245, -0.11489362875355776, 0.019178270238111084, 0.31193468445165945, 0.3017343685195408, 0.3405154443002433, 0.30070624457784934, 0.15792128592968982, 0.3447432501561101, 0.33275709976346524, -0.09785433692464371, 0.23554033944080907, 0.23352480078381066, -0.12893762758867552, 0.011561756469681243, 0.30530186302039675, 0.2834488853804819, 0.036820881078994824, 0.26147257491544124, 0.17718129877398953, -0.29527408849986275, 0.3075433517896509, 0.03378025635537776, 0.2295754418944896, -0.12597721043031015, 0.043879655944449814, -0.2634490493787875, 0.29631678059760924, 0.2391906046897011, 0.35485351458825226, 0.23427864391944933, 0.13287882680878457, 0.010316035532366435, -0.06941743155621785, -0.1527565948227133, 0.11282511736455875, -0.17964649244107112, -0.07041799327542717, 0.02384822974969405, -0.03572664505781674, 0.24014537446027523, -0.41887226480585765, 0.29751602684294354, 0.13708322476581064, -0.2060126251313494, 0.1085486261089385, 0.12857426020002727, 0.14428812645621103, 0.16419487528385102, 0.27732423159338815, 0.1413405247651712, 0.10574954350544477, 0.15373629427004262, 0.1861590661248336, -0.033232221312867925, -0.37927138599165566, -0.20416901896381312, -0.12185634473203662, 0.13864135294299776, -0.20254285671826625, -0.3758201162253089, 0.29572471919291793, 0.11954222156051417, -0.08386359576206572, 0.23418025387361746, 0.18578191921766432, 0.16296853757912025, 0.30402922578106517, 0.2227227261726793, 0.2957272220938069, 0.07383200585866855, -0.2745808611447463, -0.047395639189118405, 0.13140948389785526, 0.14464730890874167, -0.045122785392006357, -0.06261560082047492, -0.08823001552659378, 0.16372759941762605, -0.08358130120372675, 0.3283198447359024, 0.1363594392111022, -0.13469772398245158, 0.22351147043897274, 0.04238017964047445, -0.1345207817247609, 0.35927864510733215, 0.26426989804748247], \"z\": [0.07308278816182298, -0.08206196208823194, -0.03123912020294385, 0.06166283752358878, 0.016032964975837807, 0.03885262524857662, 0.008575927549630892, -0.03750058623722457, -0.049573871985600156, -0.1511315131318857, 0.11202561689958566, 0.016270786655977417, 0.14022331928875828, 0.031306647517762916, 0.0005328320939094025, -0.03022234622610077, 0.14630314769488809, -0.11843382832219886, 0.07114030215484451, -0.02461013182751077, 0.05906349400391336, -0.09895152713334486, 0.08266286788864649, 0.019364587256538734, 0.13997676584816024, -0.07773029365533571, 0.12922823831320734, 0.002820083416434596, 0.02810254738884368, -0.011070588130783298, -0.028428410922721196, 0.03133672965612137, 0.01603662333265025, -0.022451018263420417, 0.07713737783961343, 0.085682638171659, -0.0633415400503252, 0.06758038924030894, 0.09993519679212266, -0.10336169719967196, 0.12302667609592152, 0.04004733097142166, -0.12366396385553251, 0.15925581872850497, 0.13941165604885333, 0.1289919246697948, 0.09702255506013382, -0.021808741116447254, 0.01963703127215643, 0.03365862296430556, -0.12084545423034232, -0.04994625524952835, -0.01409251798632171, -0.027924843290926774, 0.10308238209505889, -0.2261663565784833, -0.07729234172110057, -0.003758964913802674, 0.10680724220851368, 0.14166691098994189, 0.057429911647362206, 0.03317955074562201, -0.02202540691933532, -0.020103841635091758, -0.025345478164353452, -0.05985485110903196, 0.05384267414540905, 0.03364783407039225, 0.10928658844706111, 0.03489732919097866, -0.09606749529491677, -0.03095975397067145, -0.030529712366736263, 0.03539402850967069, 0.12067862841973016, -0.03748569406158907, -0.07903809414230895, 0.06038304897392095, 0.019510384292905657, -0.00802737756942382, -0.02579244378860468, 0.0286297830243774, -0.017814228621136526, -0.058144010863861104, -0.23415052838371653, 0.043992862928469365, -0.05172707368568193, -0.08171001104692417, -0.038811592714444614, 0.05091652870777741, 0.11409943644357615, -0.04805885582937763, -0.1173297745977405, 0.018759563042222, 0.050835492274802954, 0.0606333924996352, 0.049739829054655654, 0.06359347180770021, 0.034693424957397634, -0.04784463065259316, 0.03705196344705008, 0.13840329010811206, -0.030344578112230045, -0.13137955439659826, 0.022344150131303777, -0.040526763740695304, 0.03179198183581023, 0.006830283970643773, -0.08658049205396684, 0.12457140002898012, -0.09542546619903589, -0.05876803144609466, 0.17876475403576697, -0.011040247039488095, -0.0176965561219818, -0.025382111068568566, -0.038207768826364036, -0.00147040103993742, -0.1274996159423611, 0.14345017520179537, -0.3853830403348045, -0.3233297574051745, 0.08605136403395204, -0.015547745394442128, -0.03877918924202402, -0.04017831127497111, -0.021837367474820565, 0.045157030868287484, 0.056032385335991815, -0.009485780279057799, -0.07214283098839813, 0.0025523031330351984, 0.07024984046451797, 0.05732152710702879, 0.04159503285722737, -0.016017983993233655, -0.08775042612363333, 0.15120151258272113, -0.1399364353600059, -0.044510494007334304, -0.012791182289991071, -0.04389749012104967, 0.04684199887751452, 0.049417714013290384, 0.07733371324596566, 0.021815971221857102, 0.04078304996388852, 0.056540848872801204, -0.22000249190524804, -0.0517894149505036, -0.07464492941128618, 0.09984183672396021, 0.12116124481188792, 0.11652383882495737, 0.08979878301318542, 0.07778929446264606, 0.004953751624731123, 0.08360665449178427, 0.09163384643129929, 0.03053888195355176, -0.07810519068318433, 0.0986951732313666, 0.14008432432388337, 0.025445019794536505, 0.044266612950053054, -0.0004160853785199502, 0.04781194138025319, 0.12470109576568153, -0.08600850072204047, 0.042855345632109645, 0.04721786474751699, 0.022374534672206382, -0.19358450277734124, 0.07400614675190242, 0.04748038052813949, -0.1644657332397742, 0.03347052243487989, -0.004534287466152191, -0.049658298860088226, 0.0033079657823302314, -0.03350813994916615, 0.016468457875305747, 0.005331068052505255, -0.10087245451383967, -0.06913652549541387, 0.056201150414328015, 0.01849516881407426, 0.023003709953447984, -0.020714757664668883, -0.031611453749769015, -0.28977805772114673, -0.02037173791239233, -0.04834800756280358, 0.13371990357962762, -0.019969472217919268, 0.13782646318577882, 0.005116972854278536, -0.26838976541799076, 0.040708498667929416, 0.2329809218168154, 0.08504171433815017, -0.002139680628344317, 0.034728571982008884, -0.07227712494062702, -0.06828561456793499, 0.0015480720742961124, 0.05874125087171795, 0.06215049887061858, -0.07021725508107456, 0.11713423173001437, -0.030788201811362156, -0.0026976993133050768, -0.09421685937440592, -0.08155120190278013, -0.03350192384895073, 0.008489862933230233, -0.018257180562536925, -0.3672383092885235, -0.012840620844092389, -0.06365705369134816, 0.022122226796069146, -0.259238323885189, -0.0709046455306657, 0.01356103478847858, -0.046093115224645084, 0.03281332131073801, -0.028406391543352505, 0.04050118422930625, -0.044079435445556606, -0.15029070109109266, -0.0077728347689682955, -0.021002704851434545, -0.0382560251841314, -0.06083864845529347, -0.004281764249595862, -0.0008376559265527595, 0.03809627600415705, 0.02318578386311179, 0.07345624961778875, -0.1427626047920525, -0.04783096883634919, 0.035198821768042364, -0.019200045859387824, -0.10703743557730883, 0.05291242795699808, 0.05457371173281882]}, {\"hovertemplate\": \"symptoms=Pre-symptoms<br>x=%{x}<br>y=%{y}<br>z=%{z}<extra></extra>\", \"legendgroup\": \"Pre-symptoms\", \"marker\": {\"color\": \"#00cc96\", \"symbol\": \"circle\"}, \"mode\": \"markers\", \"name\": \"Pre-symptoms\", \"scene\": \"scene\", \"showlegend\": true, \"type\": \"scatter3d\", \"x\": [-0.31341628928875953, 0.16322803770887975, -0.3370922789938544, 0.2643732569584125, -0.1394707217127789, 0.4349994260180255, 0.4975330648444864, 0.42030481189840474, 0.5099865978168283, -0.13827690490467354, 0.3096101018297269, -0.011524529280531081, -0.0791983032011465, 0.16789459934644094, 0.32483751718917264, 0.08120862377938645, -0.12883021688066168, -0.10007882867137231, -0.10109061735905572, -0.250225213032491, -0.3301350649773642, -0.31859268241294025, 0.2905288859956193, -0.19905617857356667, -0.09876534741900825, -0.16190515836683014, -0.17792815929598027, -0.2607901980831053, -0.3263220096237251, -0.08522608987394494, -0.28513925331449685, -0.3191426438260982, -0.2814669552253417, -0.31372699846408864, -0.12405590484949389, -0.17521020623038475, -0.30653915391448666, -0.3186150380213768, -0.10223110012642336, -0.10354306303468093, -0.09748722131266899, -0.31238623870972965, -0.09413512859090505, -0.31177786443548927, -0.11619082538098897, -0.0956499767257214, -0.11248126589111888, -0.33954812796566364, -0.09380010227907529, -0.27887878539368677, -0.10582106927070689, -0.10970614777635809, -0.1590656420426071, -0.17746252058532402, 0.49688344329466155, 0.42127559746788895, -0.09732400988462465, -0.18260919516143595, -0.15156953555765937, -0.18981993698836722, -0.3277564398378407, -0.15591732131128494, -0.09585988310789918, 0.18200604165865553, -0.10440315736362958, -0.3429868937342208, 0.23595493631794373, -0.09700638240431889, -0.10462319801972735, -0.10837085546884101, -0.29899492678114065, -0.29838743508792265, 0.02264247389483629, 0.06250829234437161, -0.11480360971198686, -0.09636058850807137, -0.3073640195117869, -0.2951263912247462, -0.32614084091406986, -0.09937451127552373, -0.14892640036919602, -0.11433865726463366, -0.09351892597674392, -0.17787332001468462, -0.12224077873307977, -0.10457489294793794, 0.32375124804567135, 0.09377811763071518, -0.11099905916911997, 0.31559850642948634], \"y\": [-0.3895664736651752, 0.049073247657008226, -0.41936357335974245, -0.4057645392006419, 0.15540934022490863, -0.008655965303842463, -0.1251635887065565, -0.0407370253046598, -0.1320494921722573, 0.08440756868960968, 0.05641314615213898, 0.27751813845717177, 0.15828152925169844, 0.17438552356221398, 0.10226001820976954, -0.5054631199513728, 0.1685579173813966, 0.09823848496467125, 0.09860996372871257, -0.10872187210311166, -0.42657118928231974, -0.3997871984641091, -0.39815610404289425, -0.32081239825249463, 0.11127999722133079, 0.050861666656210135, 0.1190489976796493, -0.14737686727484062, -0.3429500800422127, 0.10433651561507284, -0.3957750383136857, -0.36598719682525743, -0.3637693881512515, -0.3965884478299942, 0.1419181384591291, 0.09033256744663817, -0.37454519606840797, -0.3305778184423071, 0.12082759546937336, 0.08490990045978566, 0.2338687157484826, -0.39819535472475454, 0.0847596018953693, -0.4014564116037507, 0.19470258498675802, 0.11480260942357091, 0.23647404583337478, -0.4465634630528078, 0.12415630898993921, -0.2745232048624046, 0.21152308488434818, 0.17232756573799396, 0.14127591655391122, 0.07125985163016674, -0.15937127927412434, -0.09524533128632605, 0.09035737652899765, -0.029825844433404122, 0.06494037341145693, -0.05808522551541843, -0.4231073523857319, 0.12147735348309487, 0.11343584637277157, -0.06081335860972877, 0.08131576739700558, -0.4600364009385124, -0.3692378092462751, 0.15192324217319492, 0.223722324945043, 0.26383907365820686, -0.37412693878927555, -0.3738762969938325, 0.1154515567089576, -0.11330054905790177, 0.22754344190011824, 0.10835258252613257, -0.3864980269116232, -0.3582943737112507, -0.3919902118455549, 0.09359586355790986, 0.14676082072150423, 0.2627368486299135, 0.10016727536873156, 0.11981625832165634, 0.19136618318702528, 0.2228214598750152, -0.26251884943844245, -0.4913096842143068, 0.2269160215463786, 0.06932114604317269], \"z\": [0.2562861625818066, 0.07454096665391957, 0.2158675755702256, 0.019417040458591016, -0.21805786034091076, 0.008476780183516785, 0.030453638893437433, 0.07677537613811113, 0.07556572332241746, 0.006208373411587523, 0.005058319600803708, 0.17232950727751925, 0.15544577649703967, -0.04406466318062306, 0.0004569813860256316, 0.17773393690793782, -0.16025292761057736, 0.2764590374726573, 0.2892563934742245, -0.29210192847803146, 0.2240993327282994, 0.2730173055416784, 0.02334970418981808, 0.18093529222129273, 0.19299111232239433, -0.26255055206241207, -0.26259139996025443, -0.3175774008647417, -0.13077731218565025, 0.23730636767475233, 0.1996264397068721, 0.05880767070216986, 0.023406731299485818, 0.0414425557616444, -0.14323665786098022, -0.3626371594287413, 0.2115187438527372, -0.1058327280251501, 0.19951545429350795, 0.22995303579651008, 0.05624889754384716, 0.04367403271381508, 0.1332152489708421, 0.1953200806608239, 0.1183190059169051, 0.26510679887862804, 0.07060721146276468, 0.1624667480778825, 0.23549354064007327, -0.21091582938707795, 0.0638807550094942, 0.04103238565769153, -0.21794896744859102, -0.378867201055674, -0.018796492258272235, 0.04630774404592965, 0.010189019066362968, -0.13002238240847255, -0.009131271970502607, -0.11231426168650517, 0.04449016713491392, -0.01963971159580061, 0.26676318255231596, -0.11769540328285653, 0.23641047954606803, 0.12750953615090668, 0.11995858576861333, 0.2457333403949709, 0.15875521713572133, 0.10605499124846322, 0.13237856771695264, 0.08718483552208489, -0.09109506809329855, -0.20326614374358068, 0.07754430445462929, 0.2810493970044337, -0.021387383237988125, -0.061531643940262296, 0.22017848307758095, 0.21577043199409585, -0.15944156963052164, 0.06682249846228688, 0.25469369603974595, -0.26313377375332114, -0.04808673673859677, 0.08162787930458992, 0.017013104163504725, 0.15351759504795287, 0.07841161727910294, -0.08562858234302145]}, {\"hovertemplate\": \"symptoms=Control<br>x=%{x}<br>y=%{y}<br>z=%{z}<extra></extra>\", \"legendgroup\": \"Control\", \"marker\": {\"color\": \"#ab63fa\", \"symbol\": \"circle\"}, \"mode\": \"markers\", \"name\": \"Control\", \"scene\": \"scene\", \"showlegend\": true, \"type\": \"scatter3d\", \"x\": [-0.1311391124868609, 0.36079647939505965, 0.31272286784809283, 0.2636703444600218, -0.10273989997727234, -0.10218999609885365, 0.1820404679332721, 0.4192062852658004, 0.06928888448630731, 0.1175136891167057, 0.03922637971948443, -0.34999414308497206, -0.26792384205526554, -0.1557060056633698, 0.4265781200083882, 0.08917511862380302, 0.17753340892612662, -0.1767680127549139, -0.14960545981050186, 0.4434286727217185, -0.10909545016211959, -0.3146439081474328, -0.11252177966417415, -0.29197985178336877, -0.14883351539648584, -0.05265046851857421, 0.011257966702297771, 0.08794100263987266, -0.23823059995308668, -0.284817102407739, -0.27603306173591385, 0.06416600356581882, -0.2955781747408611, 0.03573817351151608, -0.005211998541726958, -0.0841207161886719, 0.11515088363013384, 0.07951069122355696, -0.16434406761801473, 0.2933177289721968, 0.30557127019998853, -0.10187310027684367, -0.0954555233297301, -0.1524690226122251, -0.16154860187040815, -0.10212507147019391, -0.3515056559952612, 0.07701994605397298, 0.22637457807457018, -0.16782946851397, -0.22371531946109205, -0.07158437910425425, 0.19422154522382515, 0.37474342366365204, 0.48288453957239036, -0.0882987020329641, -0.06523361968884009, -0.31280321714341286, -0.3499776030879515, -0.32457880256370786, -0.34834559449351643, -0.22754095137959396, -0.341992990533504, -0.16940962715312677, -0.32398321351001713, -0.32249256154929834, -0.22872714433209804, -0.25798561263317327, 0.3634949893728571, 0.41302720413774163, -0.1032223687991583, -0.09922978939166674, -0.10794398745277956, -0.12518287537483722, 0.5497327021653379, 0.5282502773820665, 0.1045130018187766, -0.10106977578261209, -0.11074881877967244, -0.21635796378519828, -0.14482171884142012, -0.2579140988870196, -0.15833687739535318, -0.10263145243881043, -0.1193505137381658, -0.0830180460785374, -0.029486286565849062, -0.14415295469883435, -0.10835115762486142, -0.09969786633907358, -0.13503219560822738, 0.29664401238310495, 0.2552862035893078, 0.20389164534462806, 0.04334302965709878, 0.4258526071761055, -0.02613984642461531, -0.028530353286658757, -0.10781333715455801, -0.10936654247942958, -0.09333267203564267, -0.1977804166340652, -0.11255087925144577, 0.1286436440850407, 0.13964999986789564, -0.10960698999701307, -0.094809353958755, -0.18793177477719641, 0.4048825690379042, 0.38588139131563215, -0.10716845709608976, -0.1164792202016487, 0.1520463428311647, 0.05201096404397882, 0.4137522651949172, 0.23475174748571023, 0.02707541685349179, 0.33604704752247255, 0.042636265970318936, 0.2054421119005238, -0.07618782108622824, -0.07999418446794207, -0.10764575711861245, -0.17828070926245354, -0.30765374339019713, 0.1959203884979975, 0.1410144198206339, -0.08388667093429497, -0.09433592326665051, -0.15820736030430943, -0.12313563160291335, -0.11993745301144576, -0.0735100318152353, -0.09569888922172809, 0.3968240778816547, 0.4350580420947859, 0.4427839056349063, 0.2324070730646454, 0.49542166568026846, -0.11839228325876679, -0.11698961373348395, -0.11724746157493697, -0.10509126623769344, -0.10503520688820171, -0.1039314081927722, -0.11199802943213658, -0.24282626056622014, -0.13698026410144648, -0.1144334500747467, -0.02749178716204842, -0.17525396919815572, -0.1393959176286759, -0.1611722180037813, -0.06157442341827773, -0.11485775003669119, -0.11088241345460773, 0.24670536549522318, -0.04140573971332344, -0.10553998298381541, -0.10621727825180134, -0.18370548238467624, -0.11485502114404433, -0.22961381765466832, -0.2617893275799686, -0.09641193072863395, 0.1613773920289005, 0.3209626236500005, 0.017381235222006877, -0.05136689885959491, 0.18440682063622924, 0.06289664365204804, -0.29645000055226195, -0.343249114243921, -0.35035125774450887, -0.21431431661361589, -0.21569529443206997, -0.10043771515020974, -0.15386118961494344, -0.31771283297706954, -0.022416936562818356, 0.11066864661056453, -0.11323254182991148, -0.2554923437736575, -0.3193433023627493, -0.13761769546651126, -0.16844483915979847, 0.1780327783593652, 0.5213101512779897, -0.03715219056012004, 0.19315486795601428, -0.09636605225496138, -0.1488326663654439, -0.13952728298536163, -0.11104917389073242, 0.4276846852156921, -0.09392327576621703, -0.10120416302647912, -0.09871276673529762, 0.1438545089671456, 0.038355931491768795, -0.11611683981578272, -0.16973644710234556, -0.28429532320713174, -0.10689869788646916, -0.03658637942366828, -0.1178967589317286, -0.11256884959039291, -0.11063062879607218, -0.13381135864459226, -0.10722096944624507, 0.16925683215692827, 0.3515337538726683, -0.20549287834667496, -0.10185335599810989, -0.31961500373792384, -0.3332592414332733, 0.41342678996319115, 0.2603707538039562, 0.02720311565575081, 0.0849235393216592, 0.03980127866288017, 0.006697535937210345, 0.06290395592964965, -0.09658073258251616, -0.34711090910161896, -0.31388367837649317, -0.12618450653630212, -0.11763422056394161, -0.24770415527596631, -0.1626936286096305, 0.024264091291363064, 0.1316353296397053, -0.09668666397808344, -0.1725062574825707, -0.10099251994060873, -0.07710017505383063, -0.3036964495208097, -0.2981458660337859, -0.3012270976695894, -0.1682118187635859, -0.09493543360182953, 0.356519791611755, 0.48285559712654386, 0.46922014719966937, 0.45068550106466543, 0.08874045713886962, 0.18169754574923352, -0.10951952728833014, -0.14002748867085935, -0.09514191596844562, 0.3338099344727566, 0.1931711781869757, -0.04558417849318151, 0.4344685232875025, 0.3966168910830614, 0.4631241082347832, 0.30662288026371237, -0.10849529608387418, -0.16391124686799308, -0.16636022433123027, 0.5041567905507918, 0.41895773802032765, -0.11591327154776128, -0.11748199459741092, -0.1425236259205175, -0.34738097038865867, -0.1273643084527506, -0.10216199624905682, -0.1758193520286827, 0.13868872971458776, 0.09393693952506812, -0.22806154862161285, -0.25320073278076527, -0.32931259037228355, -0.1796968882140311, -0.14944977842917778, -0.2774698723067101, -0.1455737348194982, 0.27913860447384525, -0.134564690103475, -0.0691139620086742, -0.33901183845811494, -0.3283939927025487, -0.29688624223779014, -0.2818526343989972, -0.2556870306185512, -0.1816301991923682, -0.06447656866267897, -0.12720798642140654, -0.08098857332390832, 0.17965086302961528, -0.09255995474398582, -0.12398391370946837, -0.1862980186938157, 0.00937685603784947, -0.1841098827304378, -0.1720728449959167, -0.0987248641328637, 0.039958132327184155, -0.09725792593818523, -0.09811851207407991, -0.2777278165194671, 0.23270808028278162, 0.286477688878016, 0.12198476245651745, -0.1740849181414383, -0.1318809016971013, 0.5539276893981787, -0.06457762526610092, -0.1362234141089796, -0.1345509310701452, -0.13200440870126287, 0.10897935657125743, 0.28751643537240856, 0.1210255736638233, -0.158173200720584, -0.10565199408580137, 0.5086699269214654, 0.06467250239548036, 0.5439310833775051, 0.4754310804796736, 0.4621397662330248, 0.3172057688761698, -0.17389793043440294, -0.09906319495983336, 0.32598630332893913, 0.07932955937291593, 0.29474721792968556, 0.40165015931062364, -0.10917010860940882, -0.03740263443789698, -0.1593472014215869, -0.11242799570377172, 0.026689892356679592, -0.12781095172225215, -0.11876490486809171, -0.1097889407300659, -0.10331339658099042, -0.16716762391470477, -0.09503035925618947, -0.12827971240542, -0.12342046763685091, 0.4011030367256627, -0.013449657021692608, 0.30989169497000085, 0.13585898069839483, -0.30836564282722495, -0.09506947922429423, -0.07070342804321533, 0.4316385278696741, -0.33527375504224954, -0.1368447295788243, -0.23638828942242932, -0.2222963354394465, -0.2421547924046404, -0.14519081879749823, -0.12335530987758739, -0.17533312847707302, 0.005027145497536691, -0.13023137119075098, 0.0509958801968861, -0.0827206504147814, 0.10738178451721125, 0.492031861960883, 0.46906601861918196, 0.21398981236216227, 0.08985609041815075, -0.12524900964328997, -0.05317798253059614, -0.25295305690759196, 0.042007978581512964, -0.3419577395566536, -0.25710768290016084, -0.05764464342610099, 0.13080600987514193, 0.04878818109839927, -0.10159149933170172, -0.12107690580432252, -0.1135716626143298, -0.0005215573197567764, -0.16720609991335367, 0.5303798794045655, 0.4630649949854008, -0.09798074429582668, 0.47329757356674446, 0.4756635923374094, 0.5235032152243837, 0.47549016481859524, 0.13558120218684422, 0.46074073217888056, 0.4820008214744202, 0.5154931579626013, 0.352923250066202, -0.15240988535626004, -0.30837364460728955, -0.32467545449017526, -0.24756861491638615, -0.13657155793536377, -0.10491165763599467, -0.09024782810215494, 0.5160738352141871, 0.3647373541279261, -0.03857989142270172, -0.17292763112385376, -0.1347049401023497, -0.12943031754493964, -0.31342216250250116, -0.3551993578313697, -0.3401271269865506, 0.06421885449088514, 0.3222331702669832, 0.49358337272087643, 0.45099912388784275, 0.45940941666301627, 0.40536268131708486, 0.38585751991421635, 0.028443061513188032, 0.17679869082388935, 0.49597908963448323, 0.4375088508312772, 0.5289819871469004, 0.45059231640655634], \"y\": [0.12548193315946685, -0.33425366222056396, 0.04209929549770079, -0.02371195808303806, 0.2720570318682672, 0.12645187953263873, -0.35835027071882525, -0.038573157946263696, 0.26380125267423665, 0.13574905952319988, -0.22307387249710145, -0.4753699242990409, -0.21376334247493586, -0.11905770350125591, -0.19740208241470997, -0.06397644020606005, -0.07135786067402744, 0.09275431215290439, 0.16130211615498494, -0.15449193821322837, 0.28806884266211613, -0.3550523753473759, 0.11881543291774943, -0.22433972544948455, 0.16233735506021046, 0.2567688896291427, -0.469790539319041, -0.07962742218120034, -0.07033993622102319, -0.2591243424766911, -0.1798834113346953, 0.3019930690299001, -0.3539474882601758, -0.03923906805001695, 0.16798365160542328, 0.2710006745593498, -0.10140284792406606, 0.17136951020278743, 0.09497300082077106, -0.2684122252807234, 0.09007728272878061, 0.09267304163917202, 0.13993556235286583, 0.1145600576145656, 0.09518174914057259, 0.103945480139286, -0.39392725184719474, -0.5067799484710022, -0.3892025514927195, -0.25528810309438704, -0.1402923804062045, 0.12763240126810843, 0.14530806898668075, 0.027509743151532373, -0.07938547756887207, 0.24567793193653956, 0.3024512196037026, -0.33263463879165683, -0.4660962545010559, -0.3913999341493008, -0.38214924247662085, -0.20428214416417823, -0.3819974998705467, 0.17171245212532632, -0.3978563101867051, -0.4300049754656422, -0.20772509057208577, -0.2723291482829945, -0.29209495633138083, -0.22595601561934964, 0.09578764838186009, 0.14362352386706145, 0.17666292136230494, 0.23503032477195251, -0.136051420238315, -0.07392639192831199, 0.23442255964607886, 0.08327069858710028, 0.16419213907477306, -0.08887561708783989, 0.1138139832623702, -0.20174606988457766, 0.11461238359858572, 0.2898433020083889, 0.2409931962502978, 0.3459654531841624, 0.15293998119807556, 0.24698050766866508, 0.17026953916804133, 0.1353135326010873, 0.11415950830344576, 0.0505688808893281, -0.2045650938627316, 0.0878146877525931, 0.1949877123432343, -0.17749246582265768, 0.19835148628822624, 0.31966514216861847, 0.16301113677511378, 0.17590807543774725, 0.1301714578365923, -0.15563235630935526, 0.20676932598675501, 0.23197814159180685, 0.19326674619515963, 0.19179249280835892, 0.20961184322095813, 0.07047627811694711, -0.04585407909940893, -0.13380623841986972, 0.2835262882111211, 0.12148715524824044, 0.13470815460458307, 0.24285447163526305, 0.050488442419894745, 0.1962202809070737, 0.11808759759395396, -0.25634872771790973, -0.44144984024453626, -0.2905384157371125, -0.39962234406879354, -0.1758279640620312, 0.2673236546563969, 0.0987651102673927, -0.2162501419425, 0.06400858050562683, 0.21915203852856668, 0.3200850608856608, 0.109036834731905, 0.10643038153665027, 0.10379616169251571, 0.12908209923286637, 0.31374186408013116, 0.0849521402543165, -0.08877144855093236, -0.05267286549005978, -0.1128743125267321, 0.0133918295587566, -0.052400053040902554, 0.23681832399135708, 0.1432967756786582, 0.18462963771882868, 0.19756974684810955, 0.18385453674177235, 0.18189829161017287, 0.12172037855676454, -0.25886549906235423, 0.13840402027457713, 0.13462407941662055, 0.12974764130521668, 0.0864185220607136, -0.03281306307199514, -0.022945334380922142, 0.19942770414788907, 0.3041675212334889, -0.023235525103360286, 0.17655575741215335, 0.0032686491709392027, 0.30441381237431636, 0.10425064823056301, -0.2359825295747938, 0.006424733146784056, -0.2891982608272974, -0.25265784044369904, 0.2995714035591071, 0.1182873519906912, 0.09415310365020346, 0.29215737234978945, 0.2982880224082988, 0.016656395175584798, 0.20459554825482892, -0.36799223237417505, -0.40118865725878883, -0.3777307938546672, -0.04220786742192013, -0.133841627285507, 0.1780967538629533, 0.11927517712159531, -0.3924148431557271, -0.29226809562569195, -0.3561003370875468, 0.3343288927134551, -0.21523275075767523, -0.3724895886334952, 0.187520445835696, 0.02144022083926094, 0.13372267913260202, -0.1291409757178439, 0.10976242544595755, 0.19562174360612278, 0.15491093216275886, 0.04857790680980892, 0.09977161127797055, 0.22934755391673864, 0.02886803031797819, 0.07640906993509287, 0.12114084053768231, 0.18724017844320548, 0.17822920433046804, 0.21822947100838494, 0.3087279222207831, 0.007282726730154018, -0.3325943532873616, 0.0942048933875651, 0.3326020328000986, 0.20547348721209857, 0.20363026098921072, 0.26378403195853667, 0.18500837795764596, 0.30899671958982466, 0.1414043550202822, -0.22469107201669003, -0.1279461578800848, 0.1098968265509881, -0.4011504047221663, -0.37218883135044617, -0.21546894952369475, -0.24009409550001323, -0.20434083334939795, -0.4004379807865477, -0.2309218349283557, 0.27375609949979834, 0.2951627137656412, 0.3166390265433789, -0.4586636043146556, -0.3298075411972461, 0.2623870428231283, 0.2673078047900233, -0.18550379695306946, 0.06885355825070394, -0.15001534020187904, 0.08772223809182937, 0.10019257476052695, 0.05865617347235509, 0.17369964699517315, 0.16555895025200315, -0.38458444662284624, -0.3579801731319099, -0.33641141782769096, 0.049570783537626395, 0.07260797211846255, -0.015520735438319685, -0.11571214892376266, -0.10337939982097401, -0.045984447410906834, 0.08513237476020431, -0.4770713358899384, 0.3500177755974323, 0.2656340358432397, 0.18550370508913921, 0.02085586350682558, -0.37339182270750326, 0.2611100130673348, -0.12763161800578174, -0.022513060172971517, -0.20052918652895077, -0.27100287465158507, 0.25143403509404133, 0.09725746255617122, 0.13806306337687793, -0.08066010132962442, -0.014697901900254409, 0.18483659748225084, 0.21979451549569556, 0.18347155123905448, -0.427466103606197, 0.1743224558462606, 0.3499491892189857, 0.2011364174793198, 0.10747764399127169, -0.3030158336836048, -0.1263266453299227, -0.22255247270759887, -0.36373661867210516, 0.08628931489072883, 0.20743733918875018, -0.15275977923692963, 0.12780459673842634, 0.05826448700827679, 0.22904957578115007, 0.15819756866065962, -0.44679169981190364, -0.4208798339228572, -0.3615584883069136, -0.3395286491806355, -0.1994769609234197, -0.06650621403782714, 0.2918647598554947, 0.20687043486635504, 0.1995333198380875, 0.1778071899119011, 0.2986050843315498, 0.28984544331942674, 0.11150058946453995, 0.2813394030158198, 0.1316979526899501, 0.16564548806476254, -0.2617794897406329, -0.25896280252209297, 0.35378681116631494, 0.11445750370494237, -0.26758051731169236, -0.13296023850324457, 0.11038071386387278, 0.10621929709492126, 0.0789229513104499, 0.15990787606761303, -0.11265798136480766, -0.3877584219565964, 0.10655883641370718, 0.10399656335534271, 0.12513705038050593, -0.04530561030478411, 0.03272526664282608, 0.20767692441803554, -0.10801928249375647, 0.3148474995253653, -0.058267066360596746, 0.0011163750212198355, -0.09110029373882766, -0.03264521918813697, -0.06905999270813216, 0.014816750958662918, 0.11144329410062415, 0.23877916947676087, -0.2490533468479723, -0.183327215761999, -0.16743848734199077, -0.025557472922446207, 0.18608198910042098, 0.25585355313567576, -0.4226164532278735, 0.28282582902355996, 0.2992652878350588, 0.32696315547297794, 0.3717239999079684, 0.13265966406420568, 0.1877067983890575, 0.08956508031625345, 0.1741685600631101, 0.282270463934581, 0.285680965574175, -0.0710212819159665, 0.22755771170471817, -0.013694918618349374, 0.22326627884895103, -0.3039385025876265, -0.0676898092171032, -0.34510959385146406, -0.06659883359307016, -0.4343653478671092, 0.11875454844213798, -0.14386094490071138, -0.2028163829511708, -0.1433151622891569, 0.09417890106459624, 0.2999788975088572, 0.09986538303698103, -0.4450787431478089, 0.11992287685520193, 0.02449230338798215, 0.3277738141663305, 0.23690129445112235, -0.12731787659873986, -0.11496583722755063, 0.17410294513731753, 0.29201582748957067, 0.23043242420561308, 0.30226618535382355, -0.1888263788562019, 0.25235475004723823, -0.3590218236976699, -0.13971561501525745, 0.26734715628107836, 0.0585879007131797, 0.22962471032282267, 0.27476404429430845, 0.17697470285963116, 0.18164204371580372, -0.10799924780170127, 0.2645937554600854, -0.09719894427121425, -0.10614471620399293, 0.2904883993408257, -0.1342542322863484, -0.1384358864024543, -0.08124027011466314, -0.11566112283121108, 0.057483226206583575, -0.0938181430172852, -0.12113518279610501, -0.11615654545851174, -0.06364708957527808, 0.11206939507505106, -0.35656493827527874, -0.39114024835483396, -0.246530860306864, 0.14658886295466972, 0.14362001121158316, 0.1460408239997655, -0.045900955841476715, -0.019680742758440974, 0.07998005195075512, 0.1269686530740447, 0.30673939385464033, 0.3455008597399808, -0.38352776059404997, -0.3978115304619221, -0.35810976344412054, -0.3194263729355639, -0.1561933180631045, -0.13338815539741308, -0.12156244565194425, -0.12186712094070358, -0.1073537215015666, 0.09850498513343978, 0.3089850566729163, 0.21369049187764336, -0.11103119789184045, -0.11816461008897472, -0.09206184509478052, -0.011027608409311327], \"z\": [0.05197558323221693, -0.020674080145334273, -0.054031374398685605, -0.09885423076424324, 0.18504225967442509, 0.04716929240757504, -0.060939528484654774, 0.017691470698499568, 0.11394852195820955, 0.0033836449309520636, 0.10841592685506303, 0.15810350359820624, -0.06116315011819012, -0.1441865729642035, -0.055475662258787806, -0.04898004169608703, -0.1373554245877534, -0.42226608058463144, -0.2265752235502318, -0.007187306886202846, 0.09036350054702595, 0.037738548245659684, 0.011962721261590736, -0.05999626775055413, -0.03066139544559544, 0.04582601372267696, 0.16409068027652832, 0.03526494767026146, -0.5317452154969143, -0.19378754123827566, -0.1536470847212297, 0.09444694854762165, 0.21119998907705145, -0.09055825821957736, 0.011400962618030933, 0.08083539893951933, 0.00937004773661846, 0.059743723892172404, -0.0011269126552251357, -0.09030425703877241, 0.0158919501039995, 0.15473856191529, 0.24079666545066244, -0.20067858209672965, -0.3069575804926215, 0.15768473941425865, -0.03873811985214223, 0.11972792150124002, -0.13457263265259678, -0.08050544465019469, -0.13360162901344613, 0.07154608453534982, -0.07394017030507384, -0.13138579255064772, 0.04509774586914504, -0.010513105324028434, 0.11606421831536429, -0.0576250800487513, 0.13681593230838934, 0.12482299536824643, -0.2068835384505719, -0.12476687709283055, 0.0359336993010693, -0.009178587266000529, 0.16470724401695738, 0.037124705490316524, -0.13792719826395625, -0.11528477412724268, -0.08712539568830943, -0.0046034638685487255, 0.23141181478253314, 0.23872767346593815, 0.1748335672493812, 0.028757131576483252, 0.0229769869671979, -0.021159194062854998, 0.01866898783389463, 0.14895646054459374, 0.10852003105295792, -0.09478081260484211, -0.03242696731311295, -0.0034565234461462206, -0.11933743791632319, 0.11071025949311651, 0.02973377630998695, 0.07646356115712241, -0.21071058841560614, 0.033611254434691235, 0.078770501984489, 0.2284811555688891, -0.11147287542986889, -0.07564019107507929, -0.06661624703404409, 0.11182918285364296, -0.08214612045379825, -0.07756934047803604, -0.048557714548500205, 0.12102423861825361, 0.07734467259765172, 0.07844340345661818, 0.19873225931571908, 0.04922535646011239, 0.008735435237755378, 0.04685113448807348, 0.06624545608292778, 0.17630999802609493, 0.14821929546506873, -0.44043643042853137, -0.15860795650084272, -0.0003881697462023806, 0.13126571461614225, 0.11227976380737921, 0.02234399370032675, -0.10544123072867445, 0.02934121002685365, 0.11284308831135723, -0.0027160537266811215, -0.07378576665517385, 0.21007306793601013, -0.0234417286761216, 0.16715108767662484, 0.06545365239678723, 0.12446720026545456, -0.3286708553009441, -0.3009360929724722, -0.09186665374024448, -0.004885922289558415, 0.06401084455465005, 0.2521005470921713, -0.27321210971208815, -0.1748868530497689, -0.0955795239374017, 0.05868415262577554, 0.14327597350916557, 0.16738151781310945, 0.0812530481092627, 0.10744466715737461, 0.13249390235441783, -0.02513628639742137, 0.06847530974983937, 0.1357398927295471, 0.07443269228225675, 0.19357508509681967, 0.17265080834054325, 0.17242416136408104, -0.10280807938812224, 0.11100288108692048, -0.044148336257149874, -0.05919865870478863, -0.07340044270917484, -0.35636273397084633, -0.11874542518708892, -0.06760906568704739, -0.0010863017981770948, 0.04232063362643002, -0.10087713008633274, 0.040673822739189805, -0.06650154015833537, 0.1499463387004176, 0.15062294008000224, 0.047428367813664274, -0.03285985691285465, 0.11971444540536962, 0.19114301071331105, 0.14474105322266456, 0.16756898745518006, 0.07662343532031272, 0.12818826843404638, 0.10597987203589625, -0.018753267014829433, 0.13008593510827113, 0.04761667514689444, 0.0504706857205991, -0.17080296541837198, -0.39181589798623634, -0.0991338640705399, -0.005512256412313576, 0.04774653995682738, 0.263309905182662, -0.14097507881015423, -0.06460793374443184, 0.12228114321378737, -0.01211293922846696, 0.050208106771917546, -0.008823349516947628, -0.09972179648683922, -0.03520547340377676, 0.03342469123321979, -0.019904531101736896, 0.070596562151483, 0.22550105316579108, -0.20006668310620623, -0.2255337496927677, -0.0011494363412927271, 0.09922374629382277, 0.1310520420039233, 0.1247987785915841, 0.1475472870943612, -0.09123842697603707, -0.02780804558747087, 0.10710570293471107, -0.12402545318777103, -0.08233221523927992, -0.02864491950987537, 0.07153263545664776, 0.08231664264804021, -0.15181701757253357, 0.08728240236930551, -0.1351488989278011, 0.04233723443043199, 0.019341807827290634, 0.019929790330624548, 0.0009132470444444978, 0.23612256031583248, 0.22383972575987074, 0.04309495094440897, -0.018117469580512736, -0.06970234187289534, 0.02914450003488589, 0.10926158392961001, 0.04981554139480604, 0.05865771348873379, 0.09305915540474503, 0.10421821770535739, 0.06743192513597004, -0.18457504432215083, 0.0980834355431126, 0.08894174325011851, 0.012756556899589294, -0.2413528980916871, -0.19795979899051436, 0.01668856623934533, 0.2350776398171962, -0.2908659156893001, 0.24921744919808042, 0.03658965375838898, 0.22052733493291185, 0.2585966199556531, -0.0003114395275703647, -0.1460308236011087, 0.15367284992361044, 0.14253304504637182, 0.09263943218167903, 0.12167642383918868, -0.100935264088671, -0.1852740091666502, 0.03689717391976151, 0.10841679025617773, -0.08610410083496467, 0.07178412020157547, -0.0922029520161272, 0.06978021102291782, 0.02340653880796516, -0.21531790751186375, -0.12856554538616055, -0.04467404417544981, -0.01935300418015482, -0.04215138360674696, -0.17961861163135315, -0.39076502951497605, -0.04227571551511229, -0.006923861837978238, 0.11451841149201793, 0.08200901011839701, -0.12742768598699167, 0.05026565000099621, 0.008484120827653898, 0.11816720655664703, -0.3349980638395795, -0.22182829026102405, -0.06183816378552814, -0.20507338946912604, -0.11775804920131527, 0.046602568546597715, -0.04783648410469225, 0.008982751196640356, 0.08370177065730583, -0.24964308111855157, 0.04953785728709163, -0.17239503395020223, 0.0983083020093437, 0.19387628165448453, 0.19768846518722338, -0.060629398645381284, -0.04348183164645727, -0.06817680335019156, -0.01712793450134632, 0.10109635128225852, -0.15613840848714503, -0.016503796028765942, 0.024826007923453963, 0.13454588827985697, 0.010284540012238774, -0.37265486047136875, 0.026049871619363684, -0.35235698758882156, -0.30533641178922244, -0.09788673289469578, 0.039810163430566134, 0.14063967683295983, 0.28062620191940985, 0.1535612833249908, -0.16960156658018383, -0.0034919191918237192, 0.060874008112301495, -0.35929120242271234, -0.02273075211037575, 0.003567159024550751, 0.061612473271051404, -0.23026709034794562, -0.22228493242749808, -0.26700089843598196, -0.041543376168894995, -0.15937307553748223, -0.1502342181542472, -0.08454177098846394, 0.04760537351241341, 0.009256866707283162, -0.13455187626605178, 0.0074842048572169835, 0.06680375316083352, 0.04518442005102564, -0.01266307026875461, -0.34885329273461624, 0.07596860618446212, -0.020609049591750642, -0.1470200832216657, -0.07276831443898524, -0.034379490326313766, 0.07079985609053212, 0.06792179419219943, 0.03279161564379317, 0.09141653369386354, 0.07400039620177491, 0.04538563051841886, 0.14268972238987268, 0.158911775770234, 0.07708435330105502, -0.2930948200023416, 0.010439866755402937, 0.08922726201494473, 0.026128086817006263, -0.08479615941049734, 0.08841338335866931, -0.05861854204585415, 0.10128761413092502, -0.2901946013181387, -0.09329501075435324, 0.06747291805034401, -0.06375185489746991, 0.18692480708224854, -0.20770698468583854, -0.2525917260336335, 0.1561280051823444, 0.11254169441114406, -0.0006437851669587537, 0.08560249993283668, -0.009958896097863759, 0.0806279435264926, -0.14146357591078326, -0.06888700407789551, 0.09168593901486134, 0.05132570824707701, 0.03973199580849179, 0.04695641450597013, 0.034383131039598815, 0.02446873666998054, 0.04149671275001745, 0.11685896333429023, 0.02645430101565694, 0.050337371780722104, 0.02098354938238652, -0.019939507892923918, 0.06421263455495596, -0.09697826066609766, 0.101561142998736, 0.04595020617525554, 0.00302854181592425, -0.04515475474772078, -0.02612144777707769, -0.17804141027907233, 0.021929589571967327, -0.022231028443512685, 0.13027326824748503, 0.08406672633772697, -0.09243784689128572, 0.027653459575796718, -0.03939475960591897, -0.017843681566901363, 0.014935704416859768, 0.01759110920801911, 0.01868061475372625, -0.12487801769495, -0.10281802794065988, 0.046364877403786385, 0.18230697361118364, -0.032055010569239324, -0.059359970144473174, 0.2288662071494654, 0.13882269686940596, 0.028602995978841462, 0.08514290681671235, 0.13144099049500507, -0.22975994089925164, -0.010425880070566173, 0.0635273413315657, 0.23131349636629112, -0.09650700093949574, -0.24671089884898179, -0.11249051767590683, -0.06693591638686584, 0.0847725720550809, 0.03757454274372316, 0.03825175679199895, 0.09422940441698434, 0.03355981594224445, 0.04537577050436991, 0.0476811433463884, -0.0022967846104745542, 0.07133627361677289, 0.01313738031088718, 0.061916539314091766]}],                        {\"legend\": {\"title\": {\"text\": \"symptoms\"}, \"tracegroupgap\": 0}, \"margin\": {\"t\": 60}, \"scene\": {\"domain\": {\"x\": [0.0, 1.0], \"y\": [0.0, 1.0]}, \"xaxis\": {\"title\": {\"text\": \"x\"}}, \"yaxis\": {\"title\": {\"text\": \"y\"}}, \"zaxis\": {\"title\": {\"text\": \"z\"}}}, \"template\": {\"data\": {\"bar\": [{\"error_x\": {\"color\": \"#2a3f5f\"}, \"error_y\": {\"color\": \"#2a3f5f\"}, \"marker\": {\"line\": {\"color\": \"#E5ECF6\", \"width\": 0.5}}, \"type\": \"bar\"}], \"barpolar\": [{\"marker\": {\"line\": {\"color\": \"#E5ECF6\", \"width\": 0.5}}, \"type\": \"barpolar\"}], \"carpet\": [{\"aaxis\": {\"endlinecolor\": \"#2a3f5f\", \"gridcolor\": \"white\", \"linecolor\": \"white\", \"minorgridcolor\": \"white\", \"startlinecolor\": \"#2a3f5f\"}, \"baxis\": {\"endlinecolor\": \"#2a3f5f\", \"gridcolor\": \"white\", \"linecolor\": \"white\", \"minorgridcolor\": \"white\", \"startlinecolor\": \"#2a3f5f\"}, \"type\": \"carpet\"}], \"choropleth\": [{\"colorbar\": {\"outlinewidth\": 0, \"ticks\": \"\"}, \"type\": \"choropleth\"}], \"contour\": [{\"colorbar\": {\"outlinewidth\": 0, \"ticks\": \"\"}, \"colorscale\": [[0.0, \"#0d0887\"], [0.1111111111111111, \"#46039f\"], [0.2222222222222222, \"#7201a8\"], [0.3333333333333333, \"#9c179e\"], [0.4444444444444444, \"#bd3786\"], [0.5555555555555556, \"#d8576b\"], [0.6666666666666666, \"#ed7953\"], [0.7777777777777778, \"#fb9f3a\"], [0.8888888888888888, \"#fdca26\"], [1.0, \"#f0f921\"]], \"type\": \"contour\"}], \"contourcarpet\": [{\"colorbar\": {\"outlinewidth\": 0, \"ticks\": \"\"}, \"type\": \"contourcarpet\"}], \"heatmap\": [{\"colorbar\": {\"outlinewidth\": 0, \"ticks\": \"\"}, \"colorscale\": [[0.0, \"#0d0887\"], [0.1111111111111111, \"#46039f\"], [0.2222222222222222, \"#7201a8\"], [0.3333333333333333, \"#9c179e\"], [0.4444444444444444, \"#bd3786\"], [0.5555555555555556, \"#d8576b\"], [0.6666666666666666, \"#ed7953\"], [0.7777777777777778, \"#fb9f3a\"], [0.8888888888888888, \"#fdca26\"], [1.0, \"#f0f921\"]], \"type\": \"heatmap\"}], \"heatmapgl\": [{\"colorbar\": {\"outlinewidth\": 0, \"ticks\": \"\"}, \"colorscale\": [[0.0, \"#0d0887\"], [0.1111111111111111, \"#46039f\"], [0.2222222222222222, \"#7201a8\"], [0.3333333333333333, \"#9c179e\"], [0.4444444444444444, \"#bd3786\"], [0.5555555555555556, \"#d8576b\"], [0.6666666666666666, \"#ed7953\"], [0.7777777777777778, \"#fb9f3a\"], [0.8888888888888888, \"#fdca26\"], [1.0, \"#f0f921\"]], \"type\": \"heatmapgl\"}], \"histogram\": [{\"marker\": {\"colorbar\": {\"outlinewidth\": 0, \"ticks\": \"\"}}, \"type\": \"histogram\"}], \"histogram2d\": [{\"colorbar\": {\"outlinewidth\": 0, \"ticks\": \"\"}, \"colorscale\": [[0.0, \"#0d0887\"], [0.1111111111111111, \"#46039f\"], [0.2222222222222222, \"#7201a8\"], [0.3333333333333333, \"#9c179e\"], [0.4444444444444444, \"#bd3786\"], [0.5555555555555556, \"#d8576b\"], [0.6666666666666666, \"#ed7953\"], [0.7777777777777778, \"#fb9f3a\"], [0.8888888888888888, \"#fdca26\"], [1.0, \"#f0f921\"]], \"type\": \"histogram2d\"}], \"histogram2dcontour\": [{\"colorbar\": {\"outlinewidth\": 0, \"ticks\": \"\"}, \"colorscale\": [[0.0, \"#0d0887\"], [0.1111111111111111, \"#46039f\"], [0.2222222222222222, \"#7201a8\"], [0.3333333333333333, \"#9c179e\"], [0.4444444444444444, \"#bd3786\"], [0.5555555555555556, \"#d8576b\"], [0.6666666666666666, \"#ed7953\"], [0.7777777777777778, \"#fb9f3a\"], [0.8888888888888888, \"#fdca26\"], [1.0, \"#f0f921\"]], \"type\": \"histogram2dcontour\"}], \"mesh3d\": [{\"colorbar\": {\"outlinewidth\": 0, \"ticks\": \"\"}, \"type\": \"mesh3d\"}], \"parcoords\": [{\"line\": {\"colorbar\": {\"outlinewidth\": 0, \"ticks\": \"\"}}, \"type\": \"parcoords\"}], \"pie\": [{\"automargin\": true, \"type\": \"pie\"}], \"scatter\": [{\"marker\": {\"colorbar\": {\"outlinewidth\": 0, \"ticks\": \"\"}}, \"type\": \"scatter\"}], \"scatter3d\": [{\"line\": {\"colorbar\": {\"outlinewidth\": 0, \"ticks\": \"\"}}, \"marker\": {\"colorbar\": {\"outlinewidth\": 0, \"ticks\": \"\"}}, \"type\": \"scatter3d\"}], \"scattercarpet\": [{\"marker\": {\"colorbar\": {\"outlinewidth\": 0, \"ticks\": \"\"}}, \"type\": \"scattercarpet\"}], \"scattergeo\": [{\"marker\": {\"colorbar\": {\"outlinewidth\": 0, \"ticks\": \"\"}}, \"type\": \"scattergeo\"}], \"scattergl\": [{\"marker\": {\"colorbar\": {\"outlinewidth\": 0, \"ticks\": \"\"}}, \"type\": \"scattergl\"}], \"scattermapbox\": [{\"marker\": {\"colorbar\": {\"outlinewidth\": 0, \"ticks\": \"\"}}, \"type\": \"scattermapbox\"}], \"scatterpolar\": [{\"marker\": {\"colorbar\": {\"outlinewidth\": 0, \"ticks\": \"\"}}, \"type\": \"scatterpolar\"}], \"scatterpolargl\": [{\"marker\": {\"colorbar\": {\"outlinewidth\": 0, \"ticks\": \"\"}}, \"type\": \"scatterpolargl\"}], \"scatterternary\": [{\"marker\": {\"colorbar\": {\"outlinewidth\": 0, \"ticks\": \"\"}}, \"type\": \"scatterternary\"}], \"surface\": [{\"colorbar\": {\"outlinewidth\": 0, \"ticks\": \"\"}, \"colorscale\": [[0.0, \"#0d0887\"], [0.1111111111111111, \"#46039f\"], [0.2222222222222222, \"#7201a8\"], [0.3333333333333333, \"#9c179e\"], [0.4444444444444444, \"#bd3786\"], [0.5555555555555556, \"#d8576b\"], [0.6666666666666666, \"#ed7953\"], [0.7777777777777778, \"#fb9f3a\"], [0.8888888888888888, \"#fdca26\"], [1.0, \"#f0f921\"]], \"type\": \"surface\"}], \"table\": [{\"cells\": {\"fill\": {\"color\": \"#EBF0F8\"}, \"line\": {\"color\": \"white\"}}, \"header\": {\"fill\": {\"color\": \"#C8D4E3\"}, \"line\": {\"color\": \"white\"}}, \"type\": \"table\"}]}, \"layout\": {\"annotationdefaults\": {\"arrowcolor\": \"#2a3f5f\", \"arrowhead\": 0, \"arrowwidth\": 1}, \"coloraxis\": {\"colorbar\": {\"outlinewidth\": 0, \"ticks\": \"\"}}, \"colorscale\": {\"diverging\": [[0, \"#8e0152\"], [0.1, \"#c51b7d\"], [0.2, \"#de77ae\"], [0.3, \"#f1b6da\"], [0.4, \"#fde0ef\"], [0.5, \"#f7f7f7\"], [0.6, \"#e6f5d0\"], [0.7, \"#b8e186\"], [0.8, \"#7fbc41\"], [0.9, \"#4d9221\"], [1, \"#276419\"]], \"sequential\": [[0.0, \"#0d0887\"], [0.1111111111111111, \"#46039f\"], [0.2222222222222222, \"#7201a8\"], [0.3333333333333333, \"#9c179e\"], [0.4444444444444444, \"#bd3786\"], [0.5555555555555556, \"#d8576b\"], [0.6666666666666666, \"#ed7953\"], [0.7777777777777778, \"#fb9f3a\"], [0.8888888888888888, \"#fdca26\"], [1.0, \"#f0f921\"]], \"sequentialminus\": [[0.0, \"#0d0887\"], [0.1111111111111111, \"#46039f\"], [0.2222222222222222, \"#7201a8\"], [0.3333333333333333, \"#9c179e\"], [0.4444444444444444, \"#bd3786\"], [0.5555555555555556, \"#d8576b\"], [0.6666666666666666, \"#ed7953\"], [0.7777777777777778, \"#fb9f3a\"], [0.8888888888888888, \"#fdca26\"], [1.0, \"#f0f921\"]]}, \"colorway\": [\"#636efa\", \"#EF553B\", \"#00cc96\", \"#ab63fa\", \"#FFA15A\", \"#19d3f3\", \"#FF6692\", \"#B6E880\", \"#FF97FF\", \"#FECB52\"], \"font\": {\"color\": \"#2a3f5f\"}, \"geo\": {\"bgcolor\": \"white\", \"lakecolor\": \"white\", \"landcolor\": \"#E5ECF6\", \"showlakes\": true, \"showland\": true, \"subunitcolor\": \"white\"}, \"hoverlabel\": {\"align\": \"left\"}, \"hovermode\": \"closest\", \"mapbox\": {\"style\": \"light\"}, \"paper_bgcolor\": \"white\", \"plot_bgcolor\": \"#E5ECF6\", \"polar\": {\"angularaxis\": {\"gridcolor\": \"white\", \"linecolor\": \"white\", \"ticks\": \"\"}, \"bgcolor\": \"#E5ECF6\", \"radialaxis\": {\"gridcolor\": \"white\", \"linecolor\": \"white\", \"ticks\": \"\"}}, \"scene\": {\"xaxis\": {\"backgroundcolor\": \"#E5ECF6\", \"gridcolor\": \"white\", \"gridwidth\": 2, \"linecolor\": \"white\", \"showbackground\": true, \"ticks\": \"\", \"zerolinecolor\": \"white\"}, \"yaxis\": {\"backgroundcolor\": \"#E5ECF6\", \"gridcolor\": \"white\", \"gridwidth\": 2, \"linecolor\": \"white\", \"showbackground\": true, \"ticks\": \"\", \"zerolinecolor\": \"white\"}, \"zaxis\": {\"backgroundcolor\": \"#E5ECF6\", \"gridcolor\": \"white\", \"gridwidth\": 2, \"linecolor\": \"white\", \"showbackground\": true, \"ticks\": \"\", \"zerolinecolor\": \"white\"}}, \"shapedefaults\": {\"line\": {\"color\": \"#2a3f5f\"}}, \"ternary\": {\"aaxis\": {\"gridcolor\": \"white\", \"linecolor\": \"white\", \"ticks\": \"\"}, \"baxis\": {\"gridcolor\": \"white\", \"linecolor\": \"white\", \"ticks\": \"\"}, \"bgcolor\": \"#E5ECF6\", \"caxis\": {\"gridcolor\": \"white\", \"linecolor\": \"white\", \"ticks\": \"\"}}, \"title\": {\"x\": 0.05}, \"xaxis\": {\"automargin\": true, \"gridcolor\": \"white\", \"linecolor\": \"white\", \"ticks\": \"\", \"title\": {\"standoff\": 15}, \"zerolinecolor\": \"white\", \"zerolinewidth\": 2}, \"yaxis\": {\"automargin\": true, \"gridcolor\": \"white\", \"linecolor\": \"white\", \"ticks\": \"\", \"title\": {\"standoff\": 15}, \"zerolinecolor\": \"white\", \"zerolinewidth\": 2}}}},                        {\"responsive\": true}                    ).then(function(){\n",
       "                            \n",
       "var gd = document.getElementById('1f58556e-632a-45e2-8492-848017045384');\n",
       "var x = new MutationObserver(function (mutations, observer) {{\n",
       "        var display = window.getComputedStyle(gd).display;\n",
       "        if (!display || display === 'none') {{\n",
       "            console.log([gd, 'removed!']);\n",
       "            Plotly.purge(gd);\n",
       "            observer.disconnect();\n",
       "        }}\n",
       "}});\n",
       "\n",
       "// Listen for the removal of the full notebook cells\n",
       "var notebookContainer = gd.closest('#notebook-container');\n",
       "if (notebookContainer) {{\n",
       "    x.observe(notebookContainer, {childList: true});\n",
       "}}\n",
       "\n",
       "// Listen for the clearing of the current output cell\n",
       "var outputEl = gd.closest('.output');\n",
       "if (outputEl) {{\n",
       "    x.observe(outputEl, {childList: true});\n",
       "}}\n",
       "\n",
       "                        })                };                });            </script>        </div>"
      ]
     },
     "metadata": {},
     "output_type": "display_data"
    }
   ],
   "source": [
    "PCoA_samples_df = PCoA.samples\n",
    "dims = PCoA_samples_df.shape[1]\n",
    "i=1;j=2;k=6\n",
    "\n",
    "PCoA_samples_df = PCoA.samples\n",
    "dims = PCoA_samples_df.shape[1]\n",
    "col='symptoms'\n",
    "# col = 'record_id'\n",
    "\n",
    "embedded_X = PCoA_samples_df.rename(columns={f\"PC{i}\":'x',f\"PC{j}\":'y',f\"PC{k}\":'z'})\n",
    "plot_df = filtered_tt_df.merge(embedded_X,right_index=True,left_on=['sample_name'])\n",
    "plot_df = plot_df[plot_df.record_id.isin(plot_df.record_id.unique().tolist())]\n",
    "plot_df.record_id = plot_df.record_id.astype(str)\n",
    "clean_df = plot_df[~plot_df[col].isna()].copy()\n",
    "\n",
    "fig = px.scatter_3d(clean_df, x='x', y='y', z='z',color=col)\n",
    "fig"
   ]
  },
  {
   "cell_type": "code",
   "execution_count": 274,
   "metadata": {
    "ExecuteTime": {
     "end_time": "2021-01-26T05:39:36.619548Z",
     "start_time": "2021-01-26T05:39:36.225188Z"
    }
   },
   "outputs": [],
   "source": [
    "\n",
    "filtered_tt_df = get_tt_data(filtered_merge_df,split_control=False,train_ratio=0.8)\n",
    "# pred_merge_df = merge_df_tt.loc[merge_df_tt.tt == 'test'].copy()\n",
    "train_df = filtered_tt_df[filtered_tt_df.tt == 'train']\n",
    "X = train_df.iloc[:,:meta_idx].values\n",
    "y = train_df.symptoms.values\n",
    "clf.fit(X,y)\n",
    "\n",
    "test_df = filtered_tt_df[filtered_tt_df.tt == 'test']\n",
    "X_test = test_df.iloc[:,:meta_idx].values\n",
    "y_test = test_df.kmeans_label.values\n",
    "pred = clf.predict(X_test)\n",
    "N_classes = len(clf.classes_)"
   ]
  },
  {
   "cell_type": "code",
   "execution_count": null,
   "metadata": {},
   "outputs": [],
   "source": []
  }
 ],
 "metadata": {
  "celltoolbar": "Initialization Cell",
  "kernelspec": {
   "display_name": "Python 3",
   "language": "python",
   "name": "python3"
  },
  "language_info": {
   "codemirror_mode": {
    "name": "ipython",
    "version": 3
   },
   "file_extension": ".py",
   "mimetype": "text/x-python",
   "name": "python",
   "nbconvert_exporter": "python",
   "pygments_lexer": "ipython3",
   "version": "3.8.5"
  },
  "toc": {
   "base_numbering": 1,
   "nav_menu": {},
   "number_sections": true,
   "sideBar": true,
   "skip_h1_title": false,
   "title_cell": "Table of Contents",
   "title_sidebar": "Contents",
   "toc_cell": false,
   "toc_position": {},
   "toc_section_display": true,
   "toc_window_display": false
  },
  "varInspector": {
   "cols": {
    "lenName": 16,
    "lenType": 16,
    "lenVar": 40
   },
   "kernels_config": {
    "python": {
     "delete_cmd_postfix": "",
     "delete_cmd_prefix": "del ",
     "library": "var_list.py",
     "varRefreshCmd": "print(var_dic_list())"
    },
    "r": {
     "delete_cmd_postfix": ") ",
     "delete_cmd_prefix": "rm(",
     "library": "var_list.r",
     "varRefreshCmd": "cat(var_dic_list()) "
    }
   },
   "types_to_exclude": [
    "module",
    "function",
    "builtin_function_or_method",
    "instance",
    "_Feature"
   ],
   "window_display": false
  }
 },
 "nbformat": 4,
 "nbformat_minor": 4
}
