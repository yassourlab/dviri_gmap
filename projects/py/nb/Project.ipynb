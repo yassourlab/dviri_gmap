{
 "cells": [
  {
   "cell_type": "code",
   "execution_count": 1,
   "metadata": {
    "ExecuteTime": {
     "end_time": "2021-02-01T07:43:21.574840Z",
     "start_time": "2021-02-01T07:42:58.125166Z"
    },
    "init_cell": true
   },
   "outputs": [],
   "source": [
    "import numpy as np\n",
    "import pandas as pd\n",
    "import matplotlib.pyplot as plt\n",
    "from sklearn.datasets import load_iris\n",
    "from sklearn.preprocessing import StandardScaler\n",
    "from sklearn import decomposition\n",
    "import seaborn as sns; sns.set_style(\"whitegrid\", {'axes.grid' : False})\n",
    "import skbio\n",
    "from scipy.spatial import distance\n",
    "\n",
    "import time\n",
    "from sklearn.datasets import fetch_openml\n",
    "from sklearn.decomposition import PCA\n",
    "from sklearn import preprocessing\n",
    "from sklearn.manifold import TSNE\n",
    "from mpl_toolkits.mplot3d import Axes3D\n",
    "import plotly.express as px\n",
    "import os\n",
    "\n",
    "import tensorflow as tf\n",
    "from tensorflow.keras.layers.experimental.preprocessing import Normalization\n",
    "from tensorflow.keras.models import Model\n",
    "from tensorflow.keras.layers import Dense,Dropout\n",
    "from sklearn.model_selection import KFold\n"
   ]
  },
  {
   "cell_type": "code",
   "execution_count": 2,
   "metadata": {
    "ExecuteTime": {
     "end_time": "2021-02-01T07:43:21.582761Z",
     "start_time": "2021-02-01T07:43:21.578118Z"
    },
    "init_cell": true
   },
   "outputs": [],
   "source": [
    "def dataframe_to_dataset(data_df):\n",
    "    dataframe = df.copy()\n",
    "    labels = dataframe.pop(\"label\")\n",
    "    ds = tf.data.Dataset.from_tensor_slices((dict(dataframe), labels))\n",
    "    ds = ds.shuffle(buffer_size=len(dataframe))\n",
    "    return ds\n",
    "\n",
    "def pred_dataframe_to_dataset(dataframe):\n",
    "    dataframe = dataframe.copy()\n",
    "    ds = tf.data.Dataset.from_tensor_slices((dict(dataframe)))\n",
    "    ds = ds.shuffle(buffer_size=len(dataframe))\n",
    "    return ds"
   ]
  },
  {
   "cell_type": "code",
   "execution_count": 3,
   "metadata": {
    "ExecuteTime": {
     "end_time": "2021-02-01T07:43:21.604050Z",
     "start_time": "2021-02-01T07:43:21.586756Z"
    },
    "init_cell": true
   },
   "outputs": [],
   "source": [
    "def encode_numerical_feature(feature, name, dataset):\n",
    "    # Create a Normalization layer for our feature\n",
    "    normalizer = Normalization()\n",
    "\n",
    "    # Prepare a Dataset that only yields our feature\n",
    "    feature_ds = dataset.map(lambda x, y: x[name])\n",
    "    feature_ds = feature_ds.map(lambda x: tf.expand_dims(x, -1))\n",
    "\n",
    "    # Learn the statistics of the data\n",
    "    normalizer.adapt(feature_ds)\n",
    "\n",
    "    # Normalize the input feature\n",
    "    encoded_feature = normalizer(feature)\n",
    "    return encoded_feature"
   ]
  },
  {
   "cell_type": "markdown",
   "metadata": {},
   "source": [
    "# Data Preparation"
   ]
  },
  {
   "cell_type": "markdown",
   "metadata": {},
   "source": [
    "## Data Setup"
   ]
  },
  {
   "cell_type": "code",
   "execution_count": 10,
   "metadata": {
    "ExecuteTime": {
     "end_time": "2020-12-05T13:59:03.588254Z",
     "start_time": "2020-12-05T13:59:03.178384Z"
    }
   },
   "outputs": [],
   "source": [
    "data_path = \"../../../data/starting_data/not-filtered-data/\"\n",
    "features_path = os.path.join(data_path,\"OTU_FIX_feature-table-l7.csv\")\n",
    "edited_metadta = f\"{data_path}/../edited_metadata.tsv\"\n",
    "data_df = pd.read_csv(features_path,sep='\\t')\n",
    "    \n",
    "# if drop_unassigned:\n",
    "data_df = data_df.loc[~data_df[\"OTU ID\"]\n",
    "                          .str.contains(\"Unassigned\")].reset_index(drop=True)\n",
    "\n",
    "#transform on groupby perform the action but keep all rows and just duplicate the values to match original DF\n",
    "data_df_summed = data_df.groupby(['OTU ID']).transform(\"sum\")\n",
    "# gropuby removes the column on wihch it was used. So I'm copying it from the original data_df \n",
    "data_df_summed['OTU ID'] = data_df['OTU ID']\n",
    "# reorder the columns such the \"OTU ID\" is first column\n",
    "data_df_summed = data_df_summed[['OTU ID']+[c for c in data_df_summed if c not in ['OTU ID']]]\n",
    "\n",
    "# Drop the duplicates rows now with same values thanks to the transform method\n",
    "data_df_summed.drop_duplicates(inplace=True)\n",
    "\n",
    "meta_df = pd.read_csv(edited_metadta,sep='\\t').rename(columns={\"sampleID\":\"sample_name\"})"
   ]
  },
  {
   "cell_type": "code",
   "execution_count": 39,
   "metadata": {
    "ExecuteTime": {
     "end_time": "2020-12-05T14:32:02.523062Z",
     "start_time": "2020-12-05T14:32:02.507375Z"
    }
   },
   "outputs": [],
   "source": [
    "# replace the \"sample_time\" with numbers corresponding the time \n",
    "sample_time_enum = {sample_time:i for i,sample_time in enumerate(meta_df.sort_values('visit_age_mo').sample_time.unique().tolist())}\n",
    "sample_time_enum['sick']=len(sample_time_enum)+5\n",
    "\n",
    "data_df_indexed = data_df.set_index(\"OTU ID\",drop=True)\n",
    "meta_df = meta_df.assign(sample_time_enum = meta_df.sample_time)\n",
    "meta_df.replace({\"sample_time_enum\":sample_time_enum},inplace=True)\n",
    "meta_df = meta_df[['sample_time_enum']+[c for c in meta_df if c not in ['sample_time_enum']]]\n",
    "meta_df.head()\n",
    "\n",
    "data_idx = meta_df.shape[1]"
   ]
  },
  {
   "cell_type": "code",
   "execution_count": 20,
   "metadata": {
    "ExecuteTime": {
     "end_time": "2020-12-05T14:21:53.300070Z",
     "start_time": "2020-12-05T14:21:53.271045Z"
    }
   },
   "outputs": [],
   "source": [
    "merged_df = meta_df.merge(data_df_indexed.T,right_index=True,left_on=['sample_name'])"
   ]
  },
  {
   "cell_type": "markdown",
   "metadata": {
    "ExecuteTime": {
     "end_time": "2020-12-05T14:04:10.289429Z",
     "start_time": "2020-12-05T14:04:10.285247Z"
    }
   },
   "source": [
    "## Creatin the Training Data "
   ]
  },
  {
   "cell_type": "markdown",
   "metadata": {
    "ExecuteTime": {
     "end_time": "2020-12-05T14:23:19.555282Z",
     "start_time": "2020-12-05T14:23:19.532440Z"
    }
   },
   "source": [
    "Expects to have a `merged_df` dataframe where the rows are subjects and columns are both metadata and bacterai names.\n",
    "\n",
    "Expects `data_idx` variable to be the first idx of the data (bacteria) in the `merged_df`. before that are the meta columns\n"
   ]
  },
  {
   "cell_type": "code",
   "execution_count": 32,
   "metadata": {
    "ExecuteTime": {
     "end_time": "2020-12-05T14:30:56.696086Z",
     "start_time": "2020-12-05T14:30:56.690025Z"
    }
   },
   "outputs": [
    {
     "data": {
      "text/plain": [
       "0       0.9\n",
       "1       0.1\n",
       "2       0.2\n",
       "3       0.7\n",
       "4       1.1\n",
       "       ... \n",
       "1083    3.4\n",
       "1084    3.9\n",
       "1085    6.3\n",
       "1086    6.3\n",
       "1087    4.3\n",
       "Name: visit_age_mo, Length: 1088, dtype: float64"
      ]
     },
     "execution_count": 32,
     "metadata": {},
     "output_type": "execute_result"
    }
   ],
   "source": [
    "meta_df.visit_age_mo"
   ]
  },
  {
   "cell_type": "code",
   "execution_count": 61,
   "metadata": {
    "ExecuteTime": {
     "end_time": "2020-12-05T18:10:24.778264Z",
     "start_time": "2020-12-05T18:10:24.771041Z"
    }
   },
   "outputs": [],
   "source": [
    "control_merged_data = merged_df[merged_df.symptoms == \"Control\"]\n",
    "data_df = control_merged_data.iloc[:,data_idx:]\n",
    "data_df['label'] = control_merged_data.visit_age_mo"
   ]
  },
  {
   "cell_type": "code",
   "execution_count": 108,
   "metadata": {
    "ExecuteTime": {
     "end_time": "2020-12-05T19:26:11.575216Z",
     "start_time": "2020-12-05T19:26:11.568985Z"
    }
   },
   "outputs": [],
   "source": [
    "test_df = data_df.sample(frac=0.2,random_state=666)\n",
    "train_df = data_df.drop(test_df.index)\n",
    "\n",
    "X_train = train_df.values.astype(np.float32)\n",
    "Y_train = train_df.label.values.astype(np.float32)\n",
    "Y_train = Y_train[...,np.newaxis]\n",
    "# Y_data = control_merged_data.visit_age_mo.values.astype(np.float32)"
   ]
  },
  {
   "cell_type": "code",
   "execution_count": 97,
   "metadata": {
    "ExecuteTime": {
     "end_time": "2020-12-05T19:17:01.965365Z",
     "start_time": "2020-12-05T19:17:01.940036Z"
    }
   },
   "outputs": [
    {
     "ename": "NameError",
     "evalue": "name 'df' is not defined",
     "output_type": "error",
     "traceback": [
      "\u001b[0;31m---------------------------------------------------------------------------\u001b[0m",
      "\u001b[0;31mNameError\u001b[0m                                 Traceback (most recent call last)",
      "\u001b[0;32m<ipython-input-97-fd0a9eade77c>\u001b[0m in \u001b[0;36m<module>\u001b[0;34m\u001b[0m\n\u001b[0;32m----> 1\u001b[0;31m \u001b[0mtrain_ds\u001b[0m \u001b[0;34m=\u001b[0m \u001b[0mdataframe_to_dataset\u001b[0m\u001b[0;34m(\u001b[0m\u001b[0mtrain_df\u001b[0m\u001b[0;34m)\u001b[0m\u001b[0;34m\u001b[0m\u001b[0;34m\u001b[0m\u001b[0m\n\u001b[0m\u001b[1;32m      2\u001b[0m \u001b[0mtest_df\u001b[0m \u001b[0;34m=\u001b[0m \u001b[0mdataframe_to_dataset\u001b[0m\u001b[0;34m(\u001b[0m\u001b[0mtest_df\u001b[0m\u001b[0;34m)\u001b[0m\u001b[0;34m\u001b[0m\u001b[0;34m\u001b[0m\u001b[0m\n\u001b[1;32m      3\u001b[0m \u001b[0;34m\u001b[0m\u001b[0m\n\u001b[1;32m      4\u001b[0m \u001b[0mtrain_ds\u001b[0m \u001b[0;34m=\u001b[0m \u001b[0mtrain_ds\u001b[0m\u001b[0;34m.\u001b[0m\u001b[0mbatch\u001b[0m\u001b[0;34m(\u001b[0m\u001b[0;36m32\u001b[0m\u001b[0;34m)\u001b[0m\u001b[0;34m\u001b[0m\u001b[0;34m\u001b[0m\u001b[0m\n\u001b[1;32m      5\u001b[0m \u001b[0mval_ds\u001b[0m \u001b[0;34m=\u001b[0m \u001b[0mval_ds\u001b[0m\u001b[0;34m.\u001b[0m\u001b[0mbatch\u001b[0m\u001b[0;34m(\u001b[0m\u001b[0;36m32\u001b[0m\u001b[0;34m)\u001b[0m\u001b[0;34m\u001b[0m\u001b[0;34m\u001b[0m\u001b[0m\n",
      "\u001b[0;32m<ipython-input-96-ac7e17f31365>\u001b[0m in \u001b[0;36mdataframe_to_dataset\u001b[0;34m(data_df)\u001b[0m\n\u001b[1;32m      1\u001b[0m \u001b[0;32mdef\u001b[0m \u001b[0mdataframe_to_dataset\u001b[0m\u001b[0;34m(\u001b[0m\u001b[0mdata_df\u001b[0m\u001b[0;34m)\u001b[0m\u001b[0;34m:\u001b[0m\u001b[0;34m\u001b[0m\u001b[0;34m\u001b[0m\u001b[0m\n\u001b[0;32m----> 2\u001b[0;31m     \u001b[0mdataframe\u001b[0m \u001b[0;34m=\u001b[0m \u001b[0mdf\u001b[0m\u001b[0;34m.\u001b[0m\u001b[0mcopy\u001b[0m\u001b[0;34m(\u001b[0m\u001b[0;34m)\u001b[0m\u001b[0;34m\u001b[0m\u001b[0;34m\u001b[0m\u001b[0m\n\u001b[0m\u001b[1;32m      3\u001b[0m     \u001b[0mlabels\u001b[0m \u001b[0;34m=\u001b[0m \u001b[0mdataframe\u001b[0m\u001b[0;34m.\u001b[0m\u001b[0mpop\u001b[0m\u001b[0;34m(\u001b[0m\u001b[0;34m\"label\"\u001b[0m\u001b[0;34m)\u001b[0m\u001b[0;34m\u001b[0m\u001b[0;34m\u001b[0m\u001b[0m\n\u001b[1;32m      4\u001b[0m     \u001b[0mds\u001b[0m \u001b[0;34m=\u001b[0m \u001b[0mtf\u001b[0m\u001b[0;34m.\u001b[0m\u001b[0mdata\u001b[0m\u001b[0;34m.\u001b[0m\u001b[0mDataset\u001b[0m\u001b[0;34m.\u001b[0m\u001b[0mfrom_tensor_slices\u001b[0m\u001b[0;34m(\u001b[0m\u001b[0;34m(\u001b[0m\u001b[0mdict\u001b[0m\u001b[0;34m(\u001b[0m\u001b[0mdataframe\u001b[0m\u001b[0;34m)\u001b[0m\u001b[0;34m,\u001b[0m \u001b[0mlabels\u001b[0m\u001b[0;34m)\u001b[0m\u001b[0;34m)\u001b[0m\u001b[0;34m\u001b[0m\u001b[0;34m\u001b[0m\u001b[0m\n\u001b[1;32m      5\u001b[0m     \u001b[0mds\u001b[0m \u001b[0;34m=\u001b[0m \u001b[0mds\u001b[0m\u001b[0;34m.\u001b[0m\u001b[0mshuffle\u001b[0m\u001b[0;34m(\u001b[0m\u001b[0mbuffer_size\u001b[0m\u001b[0;34m=\u001b[0m\u001b[0mlen\u001b[0m\u001b[0;34m(\u001b[0m\u001b[0mdataframe\u001b[0m\u001b[0;34m)\u001b[0m\u001b[0;34m)\u001b[0m\u001b[0;34m\u001b[0m\u001b[0;34m\u001b[0m\u001b[0m\n",
      "\u001b[0;31mNameError\u001b[0m: name 'df' is not defined"
     ]
    }
   ],
   "source": [
    "train_ds = dataframe_to_dataset(train_df)\n",
    "test_df = dataframe_to_dataset(test_df)\n",
    "\n",
    "train_ds = train_ds.batch(32)\n",
    "val_ds = val_ds.batch(32)"
   ]
  },
  {
   "cell_type": "code",
   "execution_count": 153,
   "metadata": {
    "ExecuteTime": {
     "end_time": "2020-12-07T08:06:45.624358Z",
     "start_time": "2020-12-07T08:06:45.619787Z"
    }
   },
   "outputs": [],
   "source": [
    "class CustomModel(Model):\n",
    "    \n",
    "    def __init__(self, **kwargs):\n",
    "        super(CustomModel, self).__init__(**kwargs)\n",
    "        self.dense1 = Dense(512, activation='relu',name=\"Dense_1\")\n",
    "        self.dropout1 = Dropout(0.2)\n",
    "        self.dense2 = Dense(128, activation='relu',name=\"Dense_2\")\n",
    "        self.dropout2 = Dropout(0.2)\n",
    "        self.dense3 = Dense(32, activation='relu',name=\"Dense_3\")\n",
    "        self.dropout3 = Dropout(0.2)\n",
    "        self.predict_layer = Dense(1)\n",
    "        \n",
    "    def call(self, inputs):\n",
    "        x = self.dense1(inputs)\n",
    "#         x = self.dropout1(x)\n",
    "        x = self.dense2(x)\n",
    "#         x = self.dropout2(x)\n",
    "        x = self.dense3(x)\n",
    "#         x = self.dropout3(x)\n",
    "        x = self.predict_layer(x)\n",
    "        return x\n"
   ]
  },
  {
   "cell_type": "code",
   "execution_count": 154,
   "metadata": {
    "ExecuteTime": {
     "end_time": "2020-12-07T08:06:49.163148Z",
     "start_time": "2020-12-07T08:06:49.146663Z"
    }
   },
   "outputs": [],
   "source": [
    "model= CustomModel(name='customModel')\n",
    "model.compile(optimizer='Adam',\n",
    "              loss=tf.keras.losses.MeanSquaredError(),\n",
    "              metrics=['accuracy'])"
   ]
  },
  {
   "cell_type": "code",
   "execution_count": 158,
   "metadata": {
    "ExecuteTime": {
     "end_time": "2020-12-07T08:35:41.422064Z",
     "start_time": "2020-12-07T08:35:41.416796Z"
    }
   },
   "outputs": [
    {
     "data": {
      "text/plain": [
       "(338, 492)"
      ]
     },
     "execution_count": 158,
     "metadata": {},
     "output_type": "execute_result"
    }
   ],
   "source": [
    "X_train.shape"
   ]
  },
  {
   "cell_type": "code",
   "execution_count": 159,
   "metadata": {
    "ExecuteTime": {
     "end_time": "2020-12-07T08:53:26.872462Z",
     "start_time": "2020-12-07T08:53:26.864645Z"
    }
   },
   "outputs": [],
   "source": [
    "train_ds = tf.data.Dataset.from_tensor_slices((X_train,Y_train)).batch(32)"
   ]
  },
  {
   "cell_type": "code",
   "execution_count": 164,
   "metadata": {
    "ExecuteTime": {
     "end_time": "2020-12-07T08:55:01.210188Z",
     "start_time": "2020-12-07T08:55:01.201540Z"
    }
   },
   "outputs": [
    {
     "data": {
      "text/plain": [
       "(<tf.Tensor: shape=(32, 492), dtype=float32, numpy=\n",
       " array([[0. , 0. , 0. , ..., 0. , 0. , 0.2],\n",
       "        [0. , 0. , 0. , ..., 0. , 0. , 0.7],\n",
       "        [0. , 0. , 0. , ..., 0. , 0. , 0.5],\n",
       "        ...,\n",
       "        [0. , 0. , 0. , ..., 0. , 0. , 0.1],\n",
       "        [0. , 0. , 0. , ..., 0. , 0. , 1.4],\n",
       "        [0. , 0. , 0. , ..., 0. , 0. , 0.5]], dtype=float32)>,\n",
       " <tf.Tensor: shape=(32, 1), dtype=float32, numpy=\n",
       " array([[0.2],\n",
       "        [0.7],\n",
       "        [0.5],\n",
       "        [1. ],\n",
       "        [1.1],\n",
       "        [1. ],\n",
       "        [0.5],\n",
       "        [2.1],\n",
       "        [1.2],\n",
       "        [0.4],\n",
       "        [0.1],\n",
       "        [2. ],\n",
       "        [0.2],\n",
       "        [0.2],\n",
       "        [0.2],\n",
       "        [1.8],\n",
       "        [1. ],\n",
       "        [0.4],\n",
       "        [0.2],\n",
       "        [1.1],\n",
       "        [1.1],\n",
       "        [2. ],\n",
       "        [4.1],\n",
       "        [4.3],\n",
       "        [0.5],\n",
       "        [2.1],\n",
       "        [4.1],\n",
       "        [1. ],\n",
       "        [0.5],\n",
       "        [0.1],\n",
       "        [1.4],\n",
       "        [0.5]], dtype=float32)>)"
      ]
     },
     "execution_count": 164,
     "metadata": {},
     "output_type": "execute_result"
    }
   ],
   "source": [
    "iter_ds = iter(train_ds)\n",
    "next(iter_ds)"
   ]
  },
  {
   "cell_type": "code",
   "execution_count": 155,
   "metadata": {
    "ExecuteTime": {
     "end_time": "2020-12-07T08:06:55.613780Z",
     "start_time": "2020-12-07T08:06:52.269159Z"
    }
   },
   "outputs": [
    {
     "name": "stdout",
     "output_type": "stream",
     "text": [
      "Epoch 1/20\n",
      "43/43 [==============================] - 0s 3ms/step - loss: 242572.0781 - accuracy: 0.0385\n",
      "Epoch 2/20\n",
      "43/43 [==============================] - 0s 3ms/step - loss: 40972.4844 - accuracy: 0.0178\n",
      "Epoch 3/20\n",
      "43/43 [==============================] - 0s 4ms/step - loss: 31378.5801 - accuracy: 0.0266\n",
      "Epoch 4/20\n",
      "43/43 [==============================] - 0s 4ms/step - loss: 12192.8770 - accuracy: 0.0266\n",
      "Epoch 5/20\n",
      "43/43 [==============================] - 0s 3ms/step - loss: 2251.3726 - accuracy: 0.0296\n",
      "Epoch 6/20\n",
      "43/43 [==============================] - 0s 3ms/step - loss: 3219.2263 - accuracy: 0.0178\n",
      "Epoch 7/20\n",
      "43/43 [==============================] - 0s 3ms/step - loss: 1580.6127 - accuracy: 0.0118\n",
      "Epoch 8/20\n",
      "43/43 [==============================] - 0s 3ms/step - loss: 720.4384 - accuracy: 0.0178\n",
      "Epoch 9/20\n",
      "43/43 [==============================] - 0s 3ms/step - loss: 436.3806 - accuracy: 0.0266\n",
      "Epoch 10/20\n",
      "43/43 [==============================] - 0s 3ms/step - loss: 281.8205 - accuracy: 0.0237\n",
      "Epoch 11/20\n",
      "43/43 [==============================] - 0s 3ms/step - loss: 279.6063 - accuracy: 0.0266\n",
      "Epoch 12/20\n",
      "43/43 [==============================] - 0s 3ms/step - loss: 273.0847 - accuracy: 0.0237\n",
      "Epoch 13/20\n",
      "43/43 [==============================] - 0s 3ms/step - loss: 292.0731 - accuracy: 0.0266\n",
      "Epoch 14/20\n",
      "43/43 [==============================] - 0s 3ms/step - loss: 384.3535 - accuracy: 0.0237\n",
      "Epoch 15/20\n",
      "43/43 [==============================] - 0s 3ms/step - loss: 300.9081 - accuracy: 0.0178\n",
      "Epoch 16/20\n",
      "43/43 [==============================] - 0s 3ms/step - loss: 290.7767 - accuracy: 0.0207\n",
      "Epoch 17/20\n",
      "43/43 [==============================] - 0s 3ms/step - loss: 246.7905 - accuracy: 0.0237\n",
      "Epoch 18/20\n",
      "43/43 [==============================] - 0s 3ms/step - loss: 296.3592 - accuracy: 0.0355\n",
      "Epoch 19/20\n",
      "43/43 [==============================] - 0s 3ms/step - loss: 647.7510 - accuracy: 0.0237\n",
      "Epoch 20/20\n",
      "43/43 [==============================] - 0s 3ms/step - loss: 649.9680 - accuracy: 0.0237\n"
     ]
    }
   ],
   "source": [
    "history = model.fit(X_train,Y_train,\n",
    "                    batch_size=8,\n",
    "                    epochs= 20)\n",
    "# history = my_custom_model.fit(train_ds, y_train,\n",
    "#                     batch_size= 64,\n",
    "#                     epochs= 10,\n",
    "#                     validation_split=0.2)"
   ]
  },
  {
   "cell_type": "code",
   "execution_count": 151,
   "metadata": {
    "ExecuteTime": {
     "end_time": "2020-12-07T08:05:55.264185Z",
     "start_time": "2020-12-07T08:05:55.183379Z"
    }
   },
   "outputs": [
    {
     "data": {
      "text/plain": [
       "array([[2.2532783]], dtype=float32)"
      ]
     },
     "execution_count": 151,
     "metadata": {},
     "output_type": "execute_result"
    }
   ],
   "source": [
    "model.predict(X_train[i:i+1])"
   ]
  },
  {
   "cell_type": "code",
   "execution_count": 156,
   "metadata": {
    "ExecuteTime": {
     "end_time": "2020-12-07T08:07:40.384732Z",
     "start_time": "2020-12-07T08:07:24.879632Z"
    }
   },
   "outputs": [
    {
     "name": "stdout",
     "output_type": "stream",
     "text": [
      "[[11.805692]] [0.2]\n",
      "[[0.45567083]] [0.7]\n",
      "[[2.1766524]] [0.5]\n",
      "[[3.054338]] [1.]\n",
      "[[-3.3039708]] [1.1]\n",
      "[[-4.6046166]] [1.]\n",
      "[[6.212423]] [0.5]\n",
      "[[4.7115073]] [2.1]\n",
      "[[-2.1481729]] [1.2]\n",
      "[[14.76113]] [0.4]\n",
      "[[6.42308]] [0.1]\n",
      "[[-7.5873494]] [2.]\n",
      "[[-7.555469]] [0.2]\n",
      "[[-13.392608]] [0.2]\n",
      "[[14.014632]] [0.2]\n",
      "[[2.288793]] [1.8]\n",
      "[[5.1677604]] [1.]\n",
      "[[28.717514]] [0.4]\n",
      "[[-7.4229302]] [0.2]\n",
      "[[-4.219418]] [1.1]\n",
      "[[-33.10229]] [1.1]\n",
      "[[4.6210685]] [2.]\n",
      "[[0.5584998]] [4.1]\n",
      "[[-1.76232]] [4.3]\n",
      "[[6.0546966]] [0.5]\n",
      "[[3.430509]] [2.1]\n",
      "[[-6.4087763]] [4.1]\n",
      "[[-13.637229]] [1.]\n",
      "[[31.903006]] [0.5]\n",
      "[[-62.158962]] [0.1]\n",
      "[[-26.66894]] [1.4]\n",
      "[[-3.1613472]] [0.5]\n",
      "[[5.155437]] [2.2]\n",
      "[[-26.255632]] [2.]\n",
      "[[28.51665]] [0.4]\n",
      "[[6.047189]] [0.3]\n",
      "[[-11.773952]] [2.]\n",
      "[[-1.0156045]] [4.2]\n",
      "[[2.5610251]] [0.2]\n",
      "[[-1.6167865]] [3.9]\n",
      "[[17.58146]] [4.]\n",
      "[[-2.270947]] [4.4]\n",
      "[[-8.543379]] [1.8]\n",
      "[[4.14237]] [4.]\n",
      "[[-7.18751]] [0.9]\n",
      "[[-13.738425]] [2.1]\n",
      "[[-46.151318]] [4.2]\n",
      "[[10.276883]] [10.5]\n",
      "[[9.190245]] [12.5]\n",
      "[[-4.797482]] [1.9]\n",
      "[[15.858293]] [2.1]\n",
      "[[0.45448732]] [9.2]\n",
      "[[7.6567855]] [12.7]\n",
      "[[-4.6920037]] [12.3]\n",
      "[[0.71371984]] [12.2]\n",
      "[[14.174294]] [12.3]\n",
      "[[-12.179324]] [6.2]\n",
      "[[15.279981]] [13.3]\n",
      "[[-0.2256036]] [4.]\n",
      "[[-10.573428]] [4.1]\n",
      "[[-11.136333]] [5.7]\n",
      "[[11.505055]] [6.4]\n",
      "[[3.3214786]] [6.]\n",
      "[[9.002781]] [6.3]\n",
      "[[-11.615062]] [4.3]\n",
      "[[-11.413783]] [6.2]\n",
      "[[3.4604087]] [12.5]\n",
      "[[23.368319]] [4.1]\n",
      "[[-3.888636]] [3.9]\n",
      "[[8.288945]] [5.6]\n",
      "[[-5.7101183]] [12.6]\n",
      "[[6.522104]] [6.2]\n",
      "[[1.6843162]] [11.7]\n",
      "[[20.057188]] [9.]\n",
      "[[-10.498805]] [6.1]\n",
      "[[-0.9266534]] [9.2]\n",
      "[[8.882459]] [9.3]\n",
      "[[-26.600275]] [9.2]\n",
      "[[-3.132815]] [9.7]\n",
      "[[-20.52682]] [7.]\n",
      "[[13.3753805]] [9.9]\n",
      "[[-40.69743]] [11.6]\n",
      "[[0.4486518]] [9.6]\n",
      "[[-2.879603]] [12.3]\n",
      "[[26.709051]] [12.2]\n",
      "[[-8.818091]] [12.3]\n",
      "[[-139.08038]] [9.1]\n",
      "[[-11.254313]] [12.2]\n",
      "[[-26.496805]] [12.9]\n",
      "[[13.384634]] [12.2]\n",
      "[[41.874546]] [0.8]\n",
      "[[0.38541842]] [6.1]\n",
      "[[12.752236]] [0.3]\n",
      "[[-1.7507005]] [6.1]\n",
      "[[-4.0702057]] [6.2]\n",
      "[[-6.849388]] [1.7]\n",
      "[[12.018102]] [1.1]\n",
      "[[30.90356]] [0.2]\n",
      "[[-9.59283]] [3.9]\n",
      "[[7.551271]] [1.1]\n",
      "[[12.068746]] [2.2]\n",
      "[[-2.5567727]] [2.]\n",
      "[[-5.188151]] [4.1]\n",
      "[[8.18839]] [4.]\n",
      "[[20.49021]] [1.9]\n",
      "[[-9.548392]] [1.1]\n",
      "[[7.8412814]] [0.2]\n",
      "[[62.87096]] [4.1]\n",
      "[[-34.628872]] [0.4]\n",
      "[[-20.029634]] [0.2]\n",
      "[[-3.0150514]] [0.1]\n",
      "[[14.889714]] [1.]\n",
      "[[-10.856311]] [1.3]\n",
      "[[1.187078]] [0.5]\n",
      "[[5.663757]] [0.9]\n",
      "[[8.087417]] [0.5]\n",
      "[[0.1566224]] [0.4]\n",
      "[[32.04252]] [3.9]\n",
      "[[2.6337333]] [0.1]\n",
      "[[10.267423]] [6.3]\n",
      "[[13.090253]] [2.6]\n",
      "[[-2.2378688]] [1.9]\n",
      "[[-26.510046]] [4.]\n",
      "[[-42.08352]] [1.1]\n",
      "[[27.492514]] [6.1]\n",
      "[[-25.03125]] [1.9]\n",
      "[[-59.98251]] [0.5]\n",
      "[[5.2245]] [6.5]\n",
      "[[2.924543]] [0.2]\n",
      "[[0.3647437]] [2.]\n",
      "[[-34.431866]] [0.1]\n",
      "[[6.2437873]] [1.]\n",
      "[[6.3499045]] [2.]\n",
      "[[4.0532584]] [0.5]\n",
      "[[-47.586544]] [4.7]\n",
      "[[-8.917628]] [4.2]\n",
      "[[6.769727]] [1.1]\n",
      "[[0.4305625]] [1.]\n",
      "[[21.784353]] [1.4]\n",
      "[[-1.9178185]] [6.2]\n",
      "[[3.3102927]] [1.]\n",
      "[[58.54584]] [2.1]\n",
      "[[3.7104697]] [6.5]\n",
      "[[-0.02848293]] [2.1]\n",
      "[[7.883167]] [4.3]\n",
      "[[11.431729]] [0.9]\n",
      "[[-69.50738]] [0.2]\n",
      "[[-35.994694]] [4.1]\n",
      "[[32.069447]] [6.4]\n",
      "[[-0.47149897]] [6.3]\n",
      "[[17.369062]] [6.3]\n",
      "[[-9.842647]] [0.5]\n",
      "[[-37.21632]] [9.]\n",
      "[[1.4682498]] [3.1]\n",
      "[[-26.83932]] [9.2]\n",
      "[[-95.767235]] [0.4]\n",
      "[[-19.46116]] [9.9]\n",
      "[[1.7534804]] [4.]\n",
      "[[-0.6716485]] [2.2]\n",
      "[[13.596528]] [0.2]\n",
      "[[1.272573]] [1.1]\n",
      "[[-6.106257]] [6.5]\n",
      "[[-9.989177]] [4.]\n",
      "[[-8.452144]] [9.4]\n",
      "[[0.7105441]] [2.3]\n",
      "[[2.6102967]] [3.7]\n",
      "[[75.14026]] [0.5]\n",
      "[[13.762532]] [0.7]\n",
      "[[-13.923839]] [0.5]\n",
      "[[1.2847648]] [9.2]\n",
      "[[-66.58303]] [0.3]\n",
      "[[-12.427642]] [3.9]\n",
      "[[31.001684]] [6.3]\n",
      "[[12.948304]] [0.9]\n",
      "[[6.2404685]] [9.]\n",
      "[[-58.331142]] [2.]\n",
      "[[13.966481]] [1.1]\n",
      "[[-32.745705]] [6.1]\n",
      "[[-37.143566]] [1.]\n",
      "[[-79.05941]] [3.9]\n",
      "[[-5.409739]] [2.2]\n",
      "[[0.87134314]] [0.4]\n",
      "[[9.097381]] [1.9]\n",
      "[[40.777195]] [6.]\n",
      "[[18.01285]] [0.4]\n",
      "[[-14.829763]] [2.]\n",
      "[[7.123052]] [0.2]\n",
      "[[-12.791464]] [1.9]\n",
      "[[20.893286]] [1.]\n",
      "[[16.589598]] [0.2]\n",
      "[[-0.47460413]] [7.]\n",
      "[[6.963691]] [0.4]\n",
      "[[10.1879015]] [9.2]\n",
      "[[30.771261]] [12.2]\n",
      "[[10.432717]] [9.3]\n",
      "[[14.588033]] [0.8]\n",
      "[[9.07282]] [1.1]\n",
      "[[-17.794703]] [0.5]\n",
      "[[2.653791]] [1.1]\n",
      "[[11.785962]] [12.1]\n",
      "[[16.934156]] [2.]\n",
      "[[13.62206]] [0.2]\n",
      "[[4.350332]] [0.2]\n",
      "[[17.054258]] [12.6]\n",
      "[[-32.699192]] [0.4]\n",
      "[[7.882051]] [9.2]\n",
      "[[5.3532653]] [1.]\n",
      "[[19.146383]] [2.2]\n",
      "[[-6.483662]] [0.9]\n",
      "[[-22.26681]] [0.8]\n",
      "[[-13.415721]] [6.7]\n",
      "[[-10.272119]] [1.9]\n",
      "[[-16.54629]] [1.]\n",
      "[[-1.7062325]] [1.1]\n",
      "[[-15.0468235]] [4.1]\n",
      "[[-7.276339]] [3.9]\n",
      "[[14.637681]] [8.4]\n",
      "[[-5.511353]] [9.1]\n",
      "[[-1.2415624]] [6.2]\n",
      "[[-0.86463404]] [7.4]\n",
      "[[-1.6466928]] [0.4]\n",
      "[[-24.564617]] [0.5]\n",
      "[[5.561567]] [9.3]\n",
      "[[-6.1249757]] [1.7]\n",
      "[[16.238611]] [7.9]\n",
      "[[-6.233908]] [0.9]\n",
      "[[-5.4089]] [2.1]\n",
      "[[-5.8113427]] [12.1]\n",
      "[[6.248155]] [1.1]\n",
      "[[6.058253]] [1.1]\n",
      "[[14.698535]] [3.9]\n",
      "[[5.8287024]] [4.2]\n",
      "[[12.160115]] [12.1]\n",
      "[[3.7673864]] [1.]\n",
      "[[5.4050674]] [1.]\n",
      "[[-16.028782]] [6.]\n",
      "[[-17.839127]] [1.8]\n",
      "[[3.7862916]] [6.]\n",
      "[[23.091515]] [2.]\n",
      "[[-1.6122231]] [1.4]\n",
      "[[4.8875704]] [12.9]\n",
      "[[-1.6653008]] [9.3]\n",
      "[[-15.941926]] [4.]\n",
      "[[-8.744002]] [4.2]\n",
      "[[-3.8340573]] [6.3]\n",
      "[[-1.4498849]] [4.1]\n",
      "[[-16.880732]] [1.]\n",
      "[[7.4936113]] [12.4]\n",
      "[[-29.28943]] [0.1]\n",
      "[[4.4523177]] [4.1]\n",
      "[[5.1761756]] [4.1]\n",
      "[[21.469812]] [4.3]\n",
      "[[-14.70371]] [1.1]\n",
      "[[-0.8947406]] [6.1]\n",
      "[[-2.857308]] [6.3]\n",
      "[[7.4149413]] [12.6]\n",
      "[[9.444058]] [9.6]\n",
      "[[12.800012]] [9.6]\n",
      "[[-4.502853]] [2.]\n",
      "[[-7.6238923]] [12.1]\n",
      "[[-8.380347]] [1.2]\n",
      "[[5.986192]] [9.]\n",
      "[[4.1006255]] [4.2]\n",
      "[[5.058374]] [4.1]\n",
      "[[2.1179996]] [6.2]\n",
      "[[-35.751568]] [11.3]\n",
      "[[4.949139]] [6.5]\n",
      "[[8.775586]] [12.7]\n",
      "[[2.0602775]] [9.2]\n",
      "[[-1.3895006]] [2.1]\n",
      "[[13.331136]] [4.]\n",
      "[[-2.0363564]] [6.3]\n",
      "[[4.3664575]] [9.]\n",
      "[[24.515844]] [6.2]\n",
      "[[14.72297]] [12.8]\n",
      "[[6.536144]] [6.6]\n",
      "[[-1.1106954]] [9.1]\n",
      "[[10.200389]] [12.1]\n",
      "[[6.917413]] [6.3]\n",
      "[[25.854185]] [0.2]\n",
      "[[29.669481]] [9.2]\n",
      "[[8.846429]] [12.4]\n",
      "[[7.755708]] [0.3]\n",
      "[[13.934424]] [12.9]\n",
      "[[-11.019397]] [0.6]\n",
      "[[4.8341727]] [6.1]\n",
      "[[13.992543]] [4.3]\n",
      "[[15.475034]] [9.2]\n",
      "[[10.414647]] [0.6]\n",
      "[[7.7796187]] [1.1]\n",
      "[[2.6273818]] [12.6]\n",
      "[[-2.3388543]] [9.2]\n",
      "[[8.772926]] [0.9]\n",
      "[[13.1505785]] [4.1]\n",
      "[[-8.604259]] [0.9]\n",
      "[[4.1497855]] [9.3]\n",
      "[[3.2718406]] [9.4]\n",
      "[[-0.23556758]] [7.3]\n",
      "[[4.17975]] [2.3]\n",
      "[[-2.6923623]] [0.1]\n",
      "[[4.394933]] [8.7]\n",
      "[[-1.6078033]] [7.6]\n",
      "[[-1.3367677]] [2.1]\n",
      "[[9.739686]] [1.9]\n",
      "[[-7.789786]] [0.3]\n",
      "[[-6.3561997]] [9.5]\n",
      "[[-2.5176797]] [1.9]\n",
      "[[-0.8615289]] [9.4]\n",
      "[[-13.875812]] [0.5]\n",
      "[[13.301297]] [12.2]\n",
      "[[9.266767]] [11.]\n",
      "[[3.3484626]] [0.7]\n",
      "[[-9.632243]] [9.4]\n",
      "[[-44.002316]] [2.]\n",
      "[[1.8224769]] [0.7]\n",
      "[[5.9806333]] [0.2]\n",
      "[[4.094953]] [12.1]\n",
      "[[-26.865717]] [2.1]\n",
      "[[-18.863195]] [0.3]\n",
      "[[-3.014956]] [2.5]\n",
      "[[6.590795]] [0.4]\n",
      "[[14.958754]] [0.4]\n",
      "[[6.646116]] [0.4]\n",
      "[[-8.939502]] [1.1]\n",
      "[[-0.5391488]] [0.3]\n",
      "[[11.159488]] [0.9]\n",
      "[[12.632878]] [1.6]\n",
      "[[-48.94791]] [1.]\n",
      "[[-0.7189126]] [4.1]\n",
      "[[1.8309989]] [12.1]\n",
      "[[-30.168818]] [0.6]\n",
      "[[-14.576549]] [2.]\n",
      "[[-5.848994]] [0.2]\n",
      "[[4.7609153]] [1.1]\n",
      "[[-22.12201]] [4.1]\n",
      "[[14.673451]] [9.7]\n",
      "[[-10.559657]] [1.]\n",
      "[[-3.446612]] [2.1]\n"
     ]
    }
   ],
   "source": [
    "for i in range(len(X_train)):\n",
    "    print(model.predict(X_train[i:i+1]),Y_train[i])"
   ]
  },
  {
   "cell_type": "code",
   "execution_count": null,
   "metadata": {},
   "outputs": [],
   "source": [
    "def create_data(df,data_col_pos,elements_per_sample = 3):\n",
    "    \"\"\"\n",
    "    elements_per_sample: how many examples will appear together for the training\n",
    "    \"\"\"\n",
    "\n",
    "\n",
    "    train_data = list()\n",
    "    is_sick_data = list()\n",
    "    meta_data = list()\n",
    "    records_ids = df.record_id.unique().tolist()\n",
    "\n",
    "    #build the data for each record\n",
    "    for rid in records_ids:\n",
    "        subject_df = df[df.record_id == rid]\n",
    "\n",
    "        # Transform the df to numpy and take only the columns for the data (and not the metadata)\n",
    "        full_data_arr = subject_df.iloc[:,data_col_pos:].to_numpy()\n",
    "        sample_meta_data = subject_df.iloc[:,data_col_pos:].to_numpy()\n",
    "        n = subject_df.shape[0]\n",
    "\n",
    "        # get the idxs ot the elements to take for each training sample\n",
    "        sets_idxs = list(combinations(np.arange(0,n),elements_per_sample))\n",
    "\n",
    "        subject_train_samples = np.take(full_data_arr,sets_idxs,axis=0)\n",
    "\n",
    "        # decide if this each sample is sick or not if at least one of the samples is tagged as sick\n",
    "        # TODO - using AP case is because the symptoms might have probmels -  sample 29 is assigned as \"AP Case\" but        doesn't have \"Symptomatic\" in the symptoms\n",
    "        is_sick = np.array([any(subject_df.iloc[list(idx)].case_id == \"AP Case\") for idx in sets_idxs])\n",
    "\n",
    "        train_data.append(subject_train_samples)\n",
    "        is_sick_data.append(is_sick)\n",
    "        \n",
    "#         if (subject_df.case_id == 'AP Case').any():\n",
    "#             symptoms = subject_df.symptoms.unique()\n",
    "#             if len(symptoms) == 1:\n",
    "#                 print(\"#################################\")\n",
    "#                 print(f\"Printing symptoms for id {rid}\")\n",
    "#                 print(subject_df.symptoms.unique())\n",
    "    return train_data, is_sick_data"
   ]
  }
 ],
 "metadata": {
  "celltoolbar": "Initialization Cell",
  "kernelspec": {
   "display_name": "Python 3",
   "language": "python",
   "name": "python3"
  },
  "language_info": {
   "codemirror_mode": {
    "name": "ipython",
    "version": 3
   },
   "file_extension": ".py",
   "mimetype": "text/x-python",
   "name": "python",
   "nbconvert_exporter": "python",
   "pygments_lexer": "ipython3",
   "version": "3.8.5"
  },
  "toc": {
   "base_numbering": 1,
   "nav_menu": {},
   "number_sections": true,
   "sideBar": true,
   "skip_h1_title": false,
   "title_cell": "Table of Contents",
   "title_sidebar": "Contents",
   "toc_cell": false,
   "toc_position": {},
   "toc_section_display": true,
   "toc_window_display": false
  },
  "varInspector": {
   "cols": {
    "lenName": 16,
    "lenType": 16,
    "lenVar": 40
   },
   "kernels_config": {
    "python": {
     "delete_cmd_postfix": "",
     "delete_cmd_prefix": "del ",
     "library": "var_list.py",
     "varRefreshCmd": "print(var_dic_list())"
    },
    "r": {
     "delete_cmd_postfix": ") ",
     "delete_cmd_prefix": "rm(",
     "library": "var_list.r",
     "varRefreshCmd": "cat(var_dic_list()) "
    }
   },
   "types_to_exclude": [
    "module",
    "function",
    "builtin_function_or_method",
    "instance",
    "_Feature"
   ],
   "window_display": false
  }
 },
 "nbformat": 4,
 "nbformat_minor": 4
}
